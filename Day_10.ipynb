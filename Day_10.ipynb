{
 "cells": [
  {
   "cell_type": "markdown",
   "id": "661e7ab7",
   "metadata": {},
   "source": [
    "## Numpy"
   ]
  },
  {
   "cell_type": "raw",
   "id": "b0cc0570",
   "metadata": {},
   "source": [
    "NumPy provides several functions to calculate descriptive statistics of arrays, such as mean, median, mode, variance, standard deviation, minimum and maximum values, and more. Here are some examples of how to use these functions:"
   ]
  },
  {
   "cell_type": "code",
   "execution_count": 148,
   "id": "600982bb",
   "metadata": {},
   "outputs": [],
   "source": [
    "import numpy as np"
   ]
  },
  {
   "cell_type": "code",
   "execution_count": 149,
   "id": "f764b3f9",
   "metadata": {},
   "outputs": [],
   "source": [
    "a=np.arange(1,21).reshape(2,10)"
   ]
  },
  {
   "cell_type": "code",
   "execution_count": 150,
   "id": "b0261967",
   "metadata": {},
   "outputs": [
    {
     "data": {
      "text/plain": [
       "array([[ 1,  2,  3,  4,  5,  6,  7,  8,  9, 10],\n",
       "       [11, 12, 13, 14, 15, 16, 17, 18, 19, 20]])"
      ]
     },
     "execution_count": 150,
     "metadata": {},
     "output_type": "execute_result"
    }
   ],
   "source": [
    "a"
   ]
  },
  {
   "cell_type": "code",
   "execution_count": null,
   "id": "56b98eee",
   "metadata": {},
   "outputs": [],
   "source": [
    "#Aggregate functions"
   ]
  },
  {
   "cell_type": "code",
   "execution_count": 151,
   "id": "502ea794",
   "metadata": {},
   "outputs": [
    {
     "data": {
      "text/plain": [
       "210"
      ]
     },
     "execution_count": 151,
     "metadata": {},
     "output_type": "execute_result"
    }
   ],
   "source": [
    "a.sum()"
   ]
  },
  {
   "cell_type": "code",
   "execution_count": 152,
   "id": "fffff9e5",
   "metadata": {},
   "outputs": [
    {
     "data": {
      "text/plain": [
       "1"
      ]
     },
     "execution_count": 152,
     "metadata": {},
     "output_type": "execute_result"
    }
   ],
   "source": [
    "a.min()"
   ]
  },
  {
   "cell_type": "code",
   "execution_count": 153,
   "id": "cab0cfb7",
   "metadata": {},
   "outputs": [
    {
     "data": {
      "text/plain": [
       "20"
      ]
     },
     "execution_count": 153,
     "metadata": {},
     "output_type": "execute_result"
    }
   ],
   "source": [
    "a.max()"
   ]
  },
  {
   "cell_type": "code",
   "execution_count": 154,
   "id": "0485c89d",
   "metadata": {},
   "outputs": [
    {
     "data": {
      "text/plain": [
       "10.5"
      ]
     },
     "execution_count": 154,
     "metadata": {},
     "output_type": "execute_result"
    }
   ],
   "source": [
    "a.mean()"
   ]
  },
  {
   "cell_type": "code",
   "execution_count": null,
   "id": "29a7f664",
   "metadata": {},
   "outputs": [],
   "source": []
  },
  {
   "cell_type": "code",
   "execution_count": null,
   "id": "3799b79a",
   "metadata": {},
   "outputs": [],
   "source": []
  },
  {
   "cell_type": "code",
   "execution_count": 155,
   "id": "1f29227e",
   "metadata": {},
   "outputs": [],
   "source": [
    "arr2d=np.arange(1,21).reshape(2,10)"
   ]
  },
  {
   "cell_type": "code",
   "execution_count": 156,
   "id": "11e4ce3d",
   "metadata": {},
   "outputs": [
    {
     "data": {
      "text/plain": [
       "array([[ 1,  2,  3,  4,  5,  6,  7,  8,  9, 10],\n",
       "       [11, 12, 13, 14, 15, 16, 17, 18, 19, 20]])"
      ]
     },
     "execution_count": 156,
     "metadata": {},
     "output_type": "execute_result"
    }
   ],
   "source": [
    "arr2d"
   ]
  },
  {
   "cell_type": "code",
   "execution_count": 157,
   "id": "f85ebc0e",
   "metadata": {},
   "outputs": [
    {
     "name": "stdout",
     "output_type": "stream",
     "text": [
      "1\n",
      "20\n"
     ]
    }
   ],
   "source": [
    "# Finding the minimum value in a NumPy array:\n",
    "\n",
    "min_val = np.min(arr2d)\n",
    "print(min_val)\n",
    "max_val = np.max(arr2d)\n",
    "print(max_val)"
   ]
  },
  {
   "cell_type": "code",
   "execution_count": 158,
   "id": "df254044",
   "metadata": {},
   "outputs": [
    {
     "data": {
      "text/plain": [
       "array([[ 1,  2,  3,  4,  5,  6,  7,  8,  9, 10],\n",
       "       [11, 12, 13, 14, 15, 16, 17, 18, 19, 20]])"
      ]
     },
     "execution_count": 158,
     "metadata": {},
     "output_type": "execute_result"
    }
   ],
   "source": [
    "arr2d"
   ]
  },
  {
   "cell_type": "code",
   "execution_count": null,
   "id": "f56be0b8",
   "metadata": {},
   "outputs": [],
   "source": [
    "## Arithmetic operator"
   ]
  },
  {
   "cell_type": "code",
   "execution_count": 159,
   "id": "59623758",
   "metadata": {},
   "outputs": [
    {
     "data": {
      "text/plain": [
       "array([ 1,  2,  3,  4,  5,  6,  7,  8,  9, 10])"
      ]
     },
     "execution_count": 159,
     "metadata": {},
     "output_type": "execute_result"
    }
   ],
   "source": [
    "arr=np.arange(1,11)\n",
    "arr"
   ]
  },
  {
   "cell_type": "code",
   "execution_count": 160,
   "id": "97d0d1bd",
   "metadata": {},
   "outputs": [
    {
     "data": {
      "text/plain": [
       "array([ 3,  6,  9, 12, 15, 18, 21, 24, 27, 30])"
      ]
     },
     "execution_count": 160,
     "metadata": {},
     "output_type": "execute_result"
    }
   ],
   "source": [
    "arr2= arr*3\n",
    "arr2"
   ]
  },
  {
   "cell_type": "code",
   "execution_count": null,
   "id": "e063591f",
   "metadata": {},
   "outputs": [],
   "source": []
  },
  {
   "cell_type": "code",
   "execution_count": null,
   "id": "7550be24",
   "metadata": {},
   "outputs": [],
   "source": []
  },
  {
   "cell_type": "code",
   "execution_count": 161,
   "id": "48482605",
   "metadata": {},
   "outputs": [
    {
     "data": {
      "text/plain": [
       "array([ 1,  2,  3,  4,  5,  6,  7,  8,  9, 10])"
      ]
     },
     "execution_count": 161,
     "metadata": {},
     "output_type": "execute_result"
    }
   ],
   "source": [
    "arr"
   ]
  },
  {
   "cell_type": "code",
   "execution_count": 162,
   "id": "0dadc1ce",
   "metadata": {},
   "outputs": [
    {
     "data": {
      "text/plain": [
       "array([ 3,  6,  9, 12, 15, 18, 21, 24, 27, 30])"
      ]
     },
     "execution_count": 162,
     "metadata": {},
     "output_type": "execute_result"
    }
   ],
   "source": [
    "arr2"
   ]
  },
  {
   "cell_type": "code",
   "execution_count": 163,
   "id": "e4c8d5ca",
   "metadata": {},
   "outputs": [
    {
     "data": {
      "text/plain": [
       "array([ 4,  8, 12, 16, 20, 24, 28, 32, 36, 40])"
      ]
     },
     "execution_count": 163,
     "metadata": {},
     "output_type": "execute_result"
    }
   ],
   "source": [
    "arr+arr2"
   ]
  },
  {
   "cell_type": "code",
   "execution_count": 164,
   "id": "de93df3f",
   "metadata": {},
   "outputs": [
    {
     "data": {
      "text/plain": [
       "array([ 4,  8, 12, 16, 20, 24, 28, 32, 36, 40])"
      ]
     },
     "execution_count": 164,
     "metadata": {},
     "output_type": "execute_result"
    }
   ],
   "source": [
    "np.add(arr,arr2)"
   ]
  },
  {
   "cell_type": "code",
   "execution_count": 165,
   "id": "6b1b9583",
   "metadata": {},
   "outputs": [
    {
     "data": {
      "text/plain": [
       "array([ 2,  4,  6,  8, 10, 12, 14, 16, 18, 20])"
      ]
     },
     "execution_count": 165,
     "metadata": {},
     "output_type": "execute_result"
    }
   ],
   "source": [
    "arr2-arr"
   ]
  },
  {
   "cell_type": "code",
   "execution_count": 166,
   "id": "3a6fc08f",
   "metadata": {},
   "outputs": [
    {
     "data": {
      "text/plain": [
       "array([0.33333333, 0.33333333, 0.33333333, 0.33333333, 0.33333333,\n",
       "       0.33333333, 0.33333333, 0.33333333, 0.33333333, 0.33333333])"
      ]
     },
     "execution_count": 166,
     "metadata": {},
     "output_type": "execute_result"
    }
   ],
   "source": [
    "arr/arr2"
   ]
  },
  {
   "cell_type": "code",
   "execution_count": 167,
   "id": "f190e5ed",
   "metadata": {},
   "outputs": [
    {
     "data": {
      "text/plain": [
       "array([ 1,  2,  3,  4,  5,  6,  7,  8,  9, 10])"
      ]
     },
     "execution_count": 167,
     "metadata": {},
     "output_type": "execute_result"
    }
   ],
   "source": [
    "arr"
   ]
  },
  {
   "cell_type": "code",
   "execution_count": 168,
   "id": "d9b15890",
   "metadata": {},
   "outputs": [
    {
     "data": {
      "text/plain": [
       "array([ 3,  6,  9, 12, 15, 18, 21, 24, 27, 30])"
      ]
     },
     "execution_count": 168,
     "metadata": {},
     "output_type": "execute_result"
    }
   ],
   "source": [
    "arr2"
   ]
  },
  {
   "cell_type": "code",
   "execution_count": 173,
   "id": "251413ab",
   "metadata": {},
   "outputs": [
    {
     "data": {
      "text/plain": [
       "array([ True,  True,  True,  True, False, False, False, False, False,\n",
       "       False])"
      ]
     },
     "execution_count": 173,
     "metadata": {},
     "output_type": "execute_result"
    }
   ],
   "source": [
    "arr < 5"
   ]
  },
  {
   "cell_type": "code",
   "execution_count": 172,
   "id": "f17e90b7",
   "metadata": {},
   "outputs": [
    {
     "data": {
      "text/plain": [
       "array([1, 2, 3, 4])"
      ]
     },
     "execution_count": 172,
     "metadata": {},
     "output_type": "execute_result"
    }
   ],
   "source": [
    "arr[arr < 5]"
   ]
  },
  {
   "cell_type": "code",
   "execution_count": 174,
   "id": "a6536e65",
   "metadata": {},
   "outputs": [
    {
     "data": {
      "text/plain": [
       "array([False, False, False, False, False, False, False, False, False,\n",
       "       False])"
      ]
     },
     "execution_count": 174,
     "metadata": {},
     "output_type": "execute_result"
    }
   ],
   "source": [
    "arr == arr2"
   ]
  },
  {
   "cell_type": "code",
   "execution_count": 175,
   "id": "3bbddf2c",
   "metadata": {},
   "outputs": [],
   "source": [
    "arr2=np.arange(1,11)"
   ]
  },
  {
   "cell_type": "code",
   "execution_count": 176,
   "id": "893790ee",
   "metadata": {},
   "outputs": [
    {
     "data": {
      "text/plain": [
       "array([ 1,  2,  3,  4,  5,  6,  7,  8,  9, 10])"
      ]
     },
     "execution_count": 176,
     "metadata": {},
     "output_type": "execute_result"
    }
   ],
   "source": [
    "arr2"
   ]
  },
  {
   "cell_type": "code",
   "execution_count": 177,
   "id": "6aa32b32",
   "metadata": {},
   "outputs": [
    {
     "data": {
      "text/plain": [
       "5.5"
      ]
     },
     "execution_count": 177,
     "metadata": {},
     "output_type": "execute_result"
    }
   ],
   "source": [
    "# Finding the mean of a NumPy array:\n",
    "\n",
    "mean_val = np.mean(arr2)\n",
    "mean_val"
   ]
  },
  {
   "cell_type": "code",
   "execution_count": 178,
   "id": "ad0aee86",
   "metadata": {},
   "outputs": [
    {
     "data": {
      "text/plain": [
       "5.5"
      ]
     },
     "execution_count": 178,
     "metadata": {},
     "output_type": "execute_result"
    }
   ],
   "source": [
    "# Finding the median of a NumPy array:\n",
    "\n",
    "median_val = np.median(arr)\n",
    "median_val"
   ]
  },
  {
   "cell_type": "code",
   "execution_count": 179,
   "id": "a17a7433",
   "metadata": {},
   "outputs": [
    {
     "data": {
      "text/plain": [
       "2.8722813232690143"
      ]
     },
     "execution_count": 179,
     "metadata": {},
     "output_type": "execute_result"
    }
   ],
   "source": [
    "# Finding the standard deviation of a NumPy array:\n",
    "\n",
    "std_val = np.std(arr)\n",
    "std_val"
   ]
  },
  {
   "cell_type": "code",
   "execution_count": 181,
   "id": "f92f7599",
   "metadata": {},
   "outputs": [
    {
     "data": {
      "text/plain": [
       "8.25"
      ]
     },
     "execution_count": 181,
     "metadata": {},
     "output_type": "execute_result"
    }
   ],
   "source": [
    "var_val = np.var(arr)\n",
    "var_val"
   ]
  },
  {
   "cell_type": "code",
   "execution_count": 182,
   "id": "f18245f1",
   "metadata": {},
   "outputs": [
    {
     "data": {
      "text/plain": [
       "array([  1,   4,   9,  16,  25,  36,  49,  64,  81, 100], dtype=int32)"
      ]
     },
     "execution_count": 182,
     "metadata": {},
     "output_type": "execute_result"
    }
   ],
   "source": [
    "# Performing element-wise operations on NumPy arrays:\n",
    "\n",
    "arr_squared = arr ** 2\n",
    "arr_squared"
   ]
  },
  {
   "cell_type": "markdown",
   "id": "5c7d4126",
   "metadata": {},
   "source": [
    "### Indexing and slicing NumPy arrays:"
   ]
  },
  {
   "cell_type": "code",
   "execution_count": 183,
   "id": "fe29bcbd",
   "metadata": {},
   "outputs": [
    {
     "data": {
      "text/plain": [
       "array([ 1,  2,  3,  4,  5,  6,  7,  8,  9, 10])"
      ]
     },
     "execution_count": 183,
     "metadata": {},
     "output_type": "execute_result"
    }
   ],
   "source": [
    "arr"
   ]
  },
  {
   "cell_type": "code",
   "execution_count": 184,
   "id": "d8b8f50b",
   "metadata": {},
   "outputs": [
    {
     "data": {
      "text/plain": [
       "1"
      ]
     },
     "execution_count": 184,
     "metadata": {},
     "output_type": "execute_result"
    }
   ],
   "source": [
    "arr[0]"
   ]
  },
  {
   "cell_type": "code",
   "execution_count": 185,
   "id": "3bc092da",
   "metadata": {},
   "outputs": [
    {
     "data": {
      "text/plain": [
       "array([2, 3, 4])"
      ]
     },
     "execution_count": 185,
     "metadata": {},
     "output_type": "execute_result"
    }
   ],
   "source": [
    "arr[1:4]"
   ]
  },
  {
   "cell_type": "code",
   "execution_count": 186,
   "id": "cb5763f4",
   "metadata": {},
   "outputs": [
    {
     "data": {
      "text/plain": [
       "array([2, 4])"
      ]
     },
     "execution_count": 186,
     "metadata": {},
     "output_type": "execute_result"
    }
   ],
   "source": [
    "arr[1:4:2]"
   ]
  },
  {
   "cell_type": "code",
   "execution_count": 187,
   "id": "b1c8a00a",
   "metadata": {},
   "outputs": [
    {
     "data": {
      "text/plain": [
       "array([ 1,  2,  3,  4,  5,  6,  7,  8,  9, 10])"
      ]
     },
     "execution_count": 187,
     "metadata": {},
     "output_type": "execute_result"
    }
   ],
   "source": [
    "arr[:]"
   ]
  },
  {
   "cell_type": "code",
   "execution_count": 188,
   "id": "34a018b1",
   "metadata": {},
   "outputs": [
    {
     "data": {
      "text/plain": [
       "array([10,  9,  8,  7,  6,  5,  4,  3,  2,  1])"
      ]
     },
     "execution_count": 188,
     "metadata": {},
     "output_type": "execute_result"
    }
   ],
   "source": [
    "arr[::-1]"
   ]
  },
  {
   "cell_type": "code",
   "execution_count": 189,
   "id": "ce587433",
   "metadata": {},
   "outputs": [
    {
     "name": "stdout",
     "output_type": "stream",
     "text": [
      "Mean: 49.5\n",
      "Median: 49.5\n",
      "Variance: 833.25\n",
      "Standard deviation: 28.86607004772212\n",
      "Minimum: 0\n",
      "Maximum: 99\n"
     ]
    }
   ],
   "source": [
    "#Exercise\n",
    "\n",
    "# create an array of data\n",
    "data = np.arange(100)\n",
    "\n",
    "# calculate the mean\n",
    "mean = np.mean(data)\n",
    "print(\"Mean:\", mean)\n",
    "\n",
    "# calculate the median\n",
    "median = np.median(data)\n",
    "print(\"Median:\", median)\n",
    "\n",
    "# calculate the variance\n",
    "variance = np.var(data)\n",
    "print(\"Variance:\", variance)\n",
    "\n",
    "# calculate the standard deviation\n",
    "std_dev = np.std(data)\n",
    "print(\"Standard deviation:\", std_dev)\n",
    "\n",
    "# calculate the minimum and maximum values\n",
    "minimum = np.min(data)\n",
    "maximum = np.max(data)\n",
    "print(\"Minimum:\", minimum)\n",
    "print(\"Maximum:\", maximum)\n"
   ]
  },
  {
   "cell_type": "code",
   "execution_count": 190,
   "id": "48eb7a6c",
   "metadata": {},
   "outputs": [
    {
     "data": {
      "text/plain": [
       "array([[ 1,  2,  3,  4,  5],\n",
       "       [ 6,  7,  8,  9, 10],\n",
       "       [11, 12, 13, 14, 15],\n",
       "       [16, 17, 18, 19, 20],\n",
       "       [21, 22, 23, 24, 25]])"
      ]
     },
     "execution_count": 190,
     "metadata": {},
     "output_type": "execute_result"
    }
   ],
   "source": [
    "a=np.arange(1,26).reshape(5,5)\n",
    "a"
   ]
  },
  {
   "cell_type": "code",
   "execution_count": 191,
   "id": "1eff1bd0",
   "metadata": {},
   "outputs": [
    {
     "data": {
      "text/plain": [
       "array([1, 2, 3, 4, 5])"
      ]
     },
     "execution_count": 191,
     "metadata": {},
     "output_type": "execute_result"
    }
   ],
   "source": [
    "a[0]"
   ]
  },
  {
   "cell_type": "code",
   "execution_count": 192,
   "id": "937042d9",
   "metadata": {},
   "outputs": [
    {
     "data": {
      "text/plain": [
       "array([[ 1,  2,  3,  4,  5],\n",
       "       [ 6,  7,  8,  9, 10]])"
      ]
     },
     "execution_count": 192,
     "metadata": {},
     "output_type": "execute_result"
    }
   ],
   "source": [
    "a[0:2]"
   ]
  },
  {
   "cell_type": "code",
   "execution_count": 193,
   "id": "59442677",
   "metadata": {},
   "outputs": [
    {
     "data": {
      "text/plain": [
       "4"
      ]
     },
     "execution_count": 193,
     "metadata": {},
     "output_type": "execute_result"
    }
   ],
   "source": [
    "a[0,3]"
   ]
  },
  {
   "cell_type": "code",
   "execution_count": 196,
   "id": "ef5c4897",
   "metadata": {},
   "outputs": [
    {
     "data": {
      "text/plain": [
       "array([[13, 14],\n",
       "       [18, 19]])"
      ]
     },
     "execution_count": 196,
     "metadata": {},
     "output_type": "execute_result"
    }
   ],
   "source": [
    "a[2:4,2:4]"
   ]
  },
  {
   "cell_type": "code",
   "execution_count": 194,
   "id": "6217738b",
   "metadata": {},
   "outputs": [
    {
     "data": {
      "text/plain": [
       "array([4, 5])"
      ]
     },
     "execution_count": 194,
     "metadata": {},
     "output_type": "execute_result"
    }
   ],
   "source": [
    "a[0,3:5]"
   ]
  },
  {
   "cell_type": "code",
   "execution_count": 195,
   "id": "27d97f29",
   "metadata": {},
   "outputs": [
    {
     "data": {
      "text/plain": [
       "12"
      ]
     },
     "execution_count": 195,
     "metadata": {},
     "output_type": "execute_result"
    }
   ],
   "source": [
    "a[2,1]"
   ]
  },
  {
   "cell_type": "code",
   "execution_count": null,
   "id": "54b5240c",
   "metadata": {},
   "outputs": [],
   "source": []
  },
  {
   "cell_type": "code",
   "execution_count": 197,
   "id": "39b66984",
   "metadata": {},
   "outputs": [
    {
     "data": {
      "text/plain": [
       "array([[0.08647799, 0.40438464, 0.63651876],\n",
       "       [0.50196085, 0.83474376, 0.75744338]])"
      ]
     },
     "execution_count": 197,
     "metadata": {},
     "output_type": "execute_result"
    }
   ],
   "source": [
    "#random.rand():- random values that are uniformly distributed between 0 and 1.\n",
    "np.random.rand(2, 3)"
   ]
  },
  {
   "cell_type": "code",
   "execution_count": 198,
   "id": "161ce5ca",
   "metadata": {},
   "outputs": [
    {
     "data": {
      "text/plain": [
       "array([[[0.39482535, 0.01237998, 0.36907705, 0.22936771],\n",
       "        [0.36869602, 0.74845491, 0.90981206, 0.98986433],\n",
       "        [0.57496575, 0.20942201, 0.15879219, 0.6177059 ]],\n",
       "\n",
       "       [[0.34296483, 0.9791704 , 0.26258339, 0.35233766],\n",
       "        [0.23800872, 0.61451027, 0.19066325, 0.89161034],\n",
       "        [0.06035148, 0.61636177, 0.68919126, 0.53283678]]])"
      ]
     },
     "execution_count": 198,
     "metadata": {},
     "output_type": "execute_result"
    }
   ],
   "source": [
    "np.random.rand(2, 3, 4)"
   ]
  },
  {
   "cell_type": "code",
   "execution_count": 199,
   "id": "9c9996df",
   "metadata": {},
   "outputs": [
    {
     "name": "stdout",
     "output_type": "stream",
     "text": [
      "[[[[3.08305208e-01 4.37962779e-01 5.03782050e-01 6.55803546e-01\n",
      "    6.28305906e-01]\n",
      "   [7.26868783e-01 5.86383150e-01 3.87715415e-01 7.98643391e-01\n",
      "    5.60987945e-01]\n",
      "   [9.82969047e-01 6.30740452e-01 7.22589927e-01 9.04415168e-02\n",
      "    8.25453626e-01]\n",
      "   [3.90282247e-01 8.62085355e-01 7.39986228e-02 5.67419901e-01\n",
      "    9.61552661e-01]]\n",
      "\n",
      "  [[1.24383068e-01 8.29863781e-05 4.71202019e-01 8.79741188e-01\n",
      "    8.04748127e-01]\n",
      "   [8.11453844e-01 1.34865373e-01 5.91135942e-01 7.32411639e-01\n",
      "    4.46622587e-01]\n",
      "   [7.20284278e-01 5.58859861e-01 7.68489510e-01 8.13757073e-01\n",
      "    3.74667181e-01]\n",
      "   [8.59507557e-01 1.51296200e-02 9.83182340e-01 6.33747377e-01\n",
      "    6.09014126e-01]]\n",
      "\n",
      "  [[6.77001847e-01 7.87081805e-01 8.42710071e-01 2.96100632e-01\n",
      "    9.69446236e-01]\n",
      "   [9.08969035e-01 9.08117110e-01 4.30847755e-01 1.41421370e-01\n",
      "    8.98111247e-01]\n",
      "   [5.35827326e-01 4.75438475e-01 1.73000845e-01 5.32492506e-01\n",
      "    8.11666058e-01]\n",
      "   [3.23076311e-01 4.96770642e-01 1.07756863e-01 1.93762742e-01\n",
      "    3.54683908e-01]]]\n",
      "\n",
      "\n",
      " [[[1.16370336e-01 6.77249892e-01 7.38590924e-01 7.72953223e-01\n",
      "    4.13785040e-01]\n",
      "   [5.70545477e-01 8.00184693e-01 3.63939020e-01 7.46836828e-01\n",
      "    3.14398488e-01]\n",
      "   [7.70694839e-01 4.70963464e-01 4.34591909e-01 9.32655576e-01\n",
      "    8.11355836e-01]\n",
      "   [1.56597423e-01 4.64296423e-01 7.39007622e-01 1.77704266e-01\n",
      "    8.57568917e-01]]\n",
      "\n",
      "  [[7.02748781e-01 3.82463493e-02 9.82126110e-01 8.80356233e-02\n",
      "    3.80438760e-01]\n",
      "   [7.65944782e-01 2.84570510e-01 7.69267056e-01 4.83591166e-01\n",
      "    8.82234127e-01]\n",
      "   [5.18564964e-01 2.24156009e-01 7.70009160e-01 9.24200629e-01\n",
      "    6.39066977e-01]\n",
      "   [1.52936055e-01 8.65387895e-01 8.83732171e-01 6.93728506e-01\n",
      "    1.87006402e-01]]\n",
      "\n",
      "  [[8.71411109e-01 3.33014705e-01 4.91157706e-01 9.84563243e-02\n",
      "    3.26971365e-01]\n",
      "   [8.32810112e-01 4.52312400e-01 5.57736457e-01 6.95727135e-02\n",
      "    3.45277807e-01]\n",
      "   [9.31024479e-01 4.83189974e-01 2.42470050e-01 3.18970447e-01\n",
      "    4.66987798e-01]\n",
      "   [6.57215308e-01 9.84040508e-01 8.53364956e-01 9.00531071e-01\n",
      "    2.27580945e-01]]]]\n"
     ]
    }
   ],
   "source": [
    "print(np.random.rand(2, 3, 4, 5))"
   ]
  },
  {
   "cell_type": "code",
   "execution_count": 200,
   "id": "7fe0e946",
   "metadata": {},
   "outputs": [
    {
     "data": {
      "text/plain": [
       "array([[-1.16749356,  0.08595726,  0.24403274],\n",
       "       [ 1.58583741,  0.02635008,  0.57329594]])"
      ]
     },
     "execution_count": 200,
     "metadata": {},
     "output_type": "execute_result"
    }
   ],
   "source": [
    "#random.randn() :- random values that are normally distributed with a mean of 0 and a standard deviation of 1\n",
    "np.random.randn(2, 3)"
   ]
  },
  {
   "cell_type": "code",
   "execution_count": 201,
   "id": "90df7628",
   "metadata": {},
   "outputs": [
    {
     "data": {
      "text/plain": [
       "array([[[ 0.84073203, -1.09215534],\n",
       "        [-1.61004871,  1.36906246],\n",
       "        [ 0.49142119,  0.03881809]],\n",
       "\n",
       "       [[-1.46872042, -1.16138515],\n",
       "        [ 1.38705478, -0.58231577],\n",
       "        [ 0.37497776, -1.01758494]]])"
      ]
     },
     "execution_count": 201,
     "metadata": {},
     "output_type": "execute_result"
    }
   ],
   "source": [
    "np.random.randn(2, 3,2)"
   ]
  },
  {
   "cell_type": "code",
   "execution_count": 206,
   "id": "afb48c7c",
   "metadata": {},
   "outputs": [
    {
     "data": {
      "text/plain": [
       "-0.01353706047181204"
      ]
     },
     "execution_count": 206,
     "metadata": {},
     "output_type": "execute_result"
    }
   ],
   "source": [
    "np.random.randn(20, 30).mean()"
   ]
  },
  {
   "cell_type": "code",
   "execution_count": 205,
   "id": "dfdcb743",
   "metadata": {},
   "outputs": [
    {
     "data": {
      "text/plain": [
       "0.0030793259654527173"
      ]
     },
     "execution_count": 205,
     "metadata": {},
     "output_type": "execute_result"
    }
   ],
   "source": [
    "np.random.randn(200, 300).mean()"
   ]
  },
  {
   "cell_type": "code",
   "execution_count": null,
   "id": "8ec9da47",
   "metadata": {},
   "outputs": [],
   "source": []
  },
  {
   "cell_type": "code",
   "execution_count": 207,
   "id": "8742dbf9",
   "metadata": {},
   "outputs": [
    {
     "data": {
      "text/plain": [
       "1.0761094025593767"
      ]
     },
     "execution_count": 207,
     "metadata": {},
     "output_type": "execute_result"
    }
   ],
   "source": [
    "np.random.randn(20, 30).var()"
   ]
  },
  {
   "cell_type": "code",
   "execution_count": 208,
   "id": "8e788799",
   "metadata": {},
   "outputs": [
    {
     "data": {
      "text/plain": [
       "0.009922638546309445"
      ]
     },
     "execution_count": 208,
     "metadata": {},
     "output_type": "execute_result"
    }
   ],
   "source": [
    "np.random.randn(200, 300).mean()"
   ]
  },
  {
   "cell_type": "code",
   "execution_count": 209,
   "id": "6c91a468",
   "metadata": {},
   "outputs": [
    {
     "data": {
      "text/plain": [
       "0.9982898523989281"
      ]
     },
     "execution_count": 209,
     "metadata": {},
     "output_type": "execute_result"
    }
   ],
   "source": [
    "np.random.randn(200, 3000).var()"
   ]
  },
  {
   "cell_type": "markdown",
   "id": "0bbbaee7",
   "metadata": {},
   "source": [
    "### Matrix"
   ]
  },
  {
   "cell_type": "code",
   "execution_count": 210,
   "id": "623b1ed8",
   "metadata": {},
   "outputs": [],
   "source": [
    "# Define two matrices to multiply\n",
    "matrix1 = np.array([[1, 2], [3, 4]])\n",
    "matrix2 = np.array([[5, 6], [7, 8]])"
   ]
  },
  {
   "cell_type": "code",
   "execution_count": 211,
   "id": "04493a4a",
   "metadata": {},
   "outputs": [
    {
     "data": {
      "text/plain": [
       "array([[1, 2],\n",
       "       [3, 4]])"
      ]
     },
     "execution_count": 211,
     "metadata": {},
     "output_type": "execute_result"
    }
   ],
   "source": [
    "matrix1"
   ]
  },
  {
   "cell_type": "code",
   "execution_count": 212,
   "id": "91a9541a",
   "metadata": {},
   "outputs": [
    {
     "data": {
      "text/plain": [
       "array([[5, 6],\n",
       "       [7, 8]])"
      ]
     },
     "execution_count": 212,
     "metadata": {},
     "output_type": "execute_result"
    }
   ],
   "source": [
    "matrix2"
   ]
  },
  {
   "cell_type": "code",
   "execution_count": 213,
   "id": "5208c463",
   "metadata": {},
   "outputs": [
    {
     "data": {
      "text/plain": [
       "array([[ 5, 12],\n",
       "       [21, 32]])"
      ]
     },
     "execution_count": 213,
     "metadata": {},
     "output_type": "execute_result"
    }
   ],
   "source": [
    "matrix1 * matrix2"
   ]
  },
  {
   "cell_type": "code",
   "execution_count": 214,
   "id": "d6b23f04",
   "metadata": {},
   "outputs": [
    {
     "name": "stdout",
     "output_type": "stream",
     "text": [
      "[[19 22]\n",
      " [43 50]]\n"
     ]
    }
   ],
   "source": [
    "# Method 1: Using np.dot()\n",
    "result1 = np.dot(matrix1, matrix2)\n",
    "print(result1)"
   ]
  },
  {
   "cell_type": "code",
   "execution_count": 215,
   "id": "ac57d210",
   "metadata": {},
   "outputs": [
    {
     "name": "stdout",
     "output_type": "stream",
     "text": [
      "[[19 22]\n",
      " [43 50]]\n"
     ]
    }
   ],
   "source": [
    "# Method 2: Using @ operator\n",
    "result2 = matrix1 @ matrix2\n",
    "print(result2)"
   ]
  },
  {
   "cell_type": "code",
   "execution_count": null,
   "id": "a5621a27",
   "metadata": {},
   "outputs": [],
   "source": []
  },
  {
   "cell_type": "code",
   "execution_count": 216,
   "id": "5a43072b",
   "metadata": {},
   "outputs": [
    {
     "name": "stdout",
     "output_type": "stream",
     "text": [
      "-2.0000000000000004\n"
     ]
    }
   ],
   "source": [
    "# Compute the determinant\n",
    "\n",
    "\n",
    "matrix = np.array([[1, 2], [3, 4]])\n",
    "\n",
    "det = np.linalg.det(matrix)\n",
    "print(det)\n"
   ]
  },
  {
   "cell_type": "code",
   "execution_count": 217,
   "id": "b991d73b",
   "metadata": {},
   "outputs": [
    {
     "name": "stdout",
     "output_type": "stream",
     "text": [
      "[[-2.   1. ]\n",
      " [ 1.5 -0.5]]\n"
     ]
    }
   ],
   "source": [
    "\n",
    "\n",
    "# calculate the inverse\n",
    "matrix_inv = np.linalg.inv(matrix)\n",
    "\n",
    "print(matrix_inv)\n"
   ]
  },
  {
   "cell_type": "code",
   "execution_count": 218,
   "id": "008b8eab",
   "metadata": {},
   "outputs": [
    {
     "data": {
      "text/plain": [
       "array([[1.00000000e+00, 1.11022302e-16],\n",
       "       [0.00000000e+00, 1.00000000e+00]])"
      ]
     },
     "execution_count": 218,
     "metadata": {},
     "output_type": "execute_result"
    }
   ],
   "source": [
    "#cross check     \n",
    "matrix @ matrix_inv"
   ]
  },
  {
   "cell_type": "code",
   "execution_count": null,
   "id": "c1d1e644",
   "metadata": {},
   "outputs": [],
   "source": []
  },
  {
   "cell_type": "code",
   "execution_count": null,
   "id": "407c33fc",
   "metadata": {},
   "outputs": [],
   "source": [
    "#Create matrix with initial values"
   ]
  },
  {
   "cell_type": "code",
   "execution_count": 219,
   "id": "062b20ee",
   "metadata": {},
   "outputs": [
    {
     "name": "stdout",
     "output_type": "stream",
     "text": [
      "[[0. 0. 0.]\n",
      " [0. 0. 0.]\n",
      " [0. 0. 0.]\n",
      " [0. 0. 0.]\n",
      " [0. 0. 0.]]\n"
     ]
    }
   ],
   "source": [
    "z = np.zeros([5,3])\n",
    "print(z)"
   ]
  },
  {
   "cell_type": "code",
   "execution_count": null,
   "id": "18baf5eb",
   "metadata": {},
   "outputs": [],
   "source": []
  },
  {
   "cell_type": "code",
   "execution_count": 220,
   "id": "65b107a3",
   "metadata": {},
   "outputs": [
    {
     "name": "stdout",
     "output_type": "stream",
     "text": [
      "[[1. 1. 1.]\n",
      " [1. 1. 1.]\n",
      " [1. 1. 1.]\n",
      " [1. 1. 1.]\n",
      " [1. 1. 1.]]\n"
     ]
    }
   ],
   "source": [
    "o = np.ones([5,3])\n",
    "print(o)"
   ]
  },
  {
   "cell_type": "code",
   "execution_count": null,
   "id": "d388ed2b",
   "metadata": {},
   "outputs": [],
   "source": []
  },
  {
   "cell_type": "code",
   "execution_count": 221,
   "id": "8efce591",
   "metadata": {},
   "outputs": [
    {
     "name": "stdout",
     "output_type": "stream",
     "text": [
      "[[1. 0. 0. 0. 0.]\n",
      " [0. 1. 0. 0. 0.]\n",
      " [0. 0. 1. 0. 0.]\n",
      " [0. 0. 0. 1. 0.]\n",
      " [0. 0. 0. 0. 1.]]\n"
     ]
    }
   ],
   "source": [
    "d = np.eye(5)\n",
    "print(d)"
   ]
  },
  {
   "cell_type": "code",
   "execution_count": 225,
   "id": "2f253f3f",
   "metadata": {},
   "outputs": [
    {
     "name": "stdout",
     "output_type": "stream",
     "text": [
      "[[ 0  1  2  3]\n",
      " [ 4  5  6  7]\n",
      " [ 8  9 10 11]]\n"
     ]
    }
   ],
   "source": [
    "# copy\n",
    "\n",
    "a = np.array([[ 0 , 1 , 2,  3],\n",
    " [ 4,  5,  6,  7],\n",
    " [ 8,  9, 10 ,11]])\n",
    "\n",
    "print(a)"
   ]
  },
  {
   "cell_type": "code",
   "execution_count": null,
   "id": "62b87c76",
   "metadata": {},
   "outputs": [],
   "source": []
  },
  {
   "cell_type": "code",
   "execution_count": 227,
   "id": "0b063ced",
   "metadata": {},
   "outputs": [],
   "source": [
    "b = a  # Shallow COpy / View \n",
    "\n",
    "a[0,0] = 99\n"
   ]
  },
  {
   "cell_type": "code",
   "execution_count": 228,
   "id": "ba95b6a4",
   "metadata": {},
   "outputs": [
    {
     "data": {
      "text/plain": [
       "array([[99,  1,  2,  3],\n",
       "       [ 4,  5,  6,  7],\n",
       "       [ 8,  9, 10, 11]])"
      ]
     },
     "execution_count": 228,
     "metadata": {},
     "output_type": "execute_result"
    }
   ],
   "source": [
    "a"
   ]
  },
  {
   "cell_type": "code",
   "execution_count": 229,
   "id": "093da7d1",
   "metadata": {},
   "outputs": [
    {
     "data": {
      "text/plain": [
       "array([[99,  1,  2,  3],\n",
       "       [ 4,  5,  6,  7],\n",
       "       [ 8,  9, 10, 11]])"
      ]
     },
     "execution_count": 229,
     "metadata": {},
     "output_type": "execute_result"
    }
   ],
   "source": [
    "b"
   ]
  },
  {
   "cell_type": "code",
   "execution_count": 230,
   "id": "e83c2113",
   "metadata": {},
   "outputs": [
    {
     "name": "stdout",
     "output_type": "stream",
     "text": [
      "True\n",
      "True\n"
     ]
    }
   ],
   "source": [
    "print(b is a )\n",
    "print(a is b )"
   ]
  },
  {
   "cell_type": "code",
   "execution_count": 231,
   "id": "c1400855",
   "metadata": {},
   "outputs": [
    {
     "name": "stdout",
     "output_type": "stream",
     "text": [
      "[[99  1  2  3]\n",
      " [ 4  5  6  7]\n",
      " [ 8  9 10 11]]\n",
      "2258034283888\n",
      "2258034283888\n"
     ]
    }
   ],
   "source": [
    "print(b)\n",
    "print(id(a))\n",
    "print(id(b))"
   ]
  },
  {
   "cell_type": "code",
   "execution_count": 232,
   "id": "22ca63b0",
   "metadata": {},
   "outputs": [
    {
     "name": "stdout",
     "output_type": "stream",
     "text": [
      "True\n"
     ]
    }
   ],
   "source": [
    "print(b is a)"
   ]
  },
  {
   "cell_type": "code",
   "execution_count": 234,
   "id": "59ed51c0",
   "metadata": {},
   "outputs": [],
   "source": [
    "# deep copy\n",
    "c =  a.copy()"
   ]
  },
  {
   "cell_type": "code",
   "execution_count": 235,
   "id": "220800eb",
   "metadata": {},
   "outputs": [],
   "source": [
    "c[0,0] = 999"
   ]
  },
  {
   "cell_type": "code",
   "execution_count": 236,
   "id": "5e36a7b6",
   "metadata": {},
   "outputs": [
    {
     "name": "stdout",
     "output_type": "stream",
     "text": [
      "False\n",
      "False\n"
     ]
    }
   ],
   "source": [
    "print(c is a )\n",
    "print(c is b )"
   ]
  },
  {
   "cell_type": "code",
   "execution_count": 237,
   "id": "27ae2272",
   "metadata": {},
   "outputs": [
    {
     "name": "stdout",
     "output_type": "stream",
     "text": [
      "[[99  1  2  3]\n",
      " [ 4  5  6  7]\n",
      " [ 8  9 10 11]]\n",
      "[[999   1   2   3]\n",
      " [  4   5   6   7]\n",
      " [  8   9  10  11]]\n"
     ]
    }
   ],
   "source": [
    "print(a)\n",
    "print(c)\n"
   ]
  },
  {
   "cell_type": "code",
   "execution_count": 238,
   "id": "c6f4474e",
   "metadata": {},
   "outputs": [
    {
     "name": "stdout",
     "output_type": "stream",
     "text": [
      "[[99  1  2  3]\n",
      " [ 4  5  6  7]\n",
      " [ 8  9 10 11]]\n"
     ]
    }
   ],
   "source": [
    "print(a)"
   ]
  },
  {
   "cell_type": "code",
   "execution_count": 239,
   "id": "a6cb223d",
   "metadata": {},
   "outputs": [
    {
     "data": {
      "text/plain": [
       "array([[99,  4,  8],\n",
       "       [ 1,  5,  9],\n",
       "       [ 2,  6, 10],\n",
       "       [ 3,  7, 11]])"
      ]
     },
     "execution_count": 239,
     "metadata": {},
     "output_type": "execute_result"
    }
   ],
   "source": [
    "a.T"
   ]
  },
  {
   "cell_type": "code",
   "execution_count": 240,
   "id": "83845b78",
   "metadata": {},
   "outputs": [
    {
     "data": {
      "text/plain": [
       "array([[99,  4,  8],\n",
       "       [ 1,  5,  9],\n",
       "       [ 2,  6, 10],\n",
       "       [ 3,  7, 11]])"
      ]
     },
     "execution_count": 240,
     "metadata": {},
     "output_type": "execute_result"
    }
   ],
   "source": [
    "a.transpose()"
   ]
  },
  {
   "cell_type": "markdown",
   "id": "50db514a",
   "metadata": {},
   "source": [
    "# Pandas"
   ]
  },
  {
   "cell_type": "raw",
   "id": "7fb5b4ae",
   "metadata": {},
   "source": [
    "Pandas provides high-level data structures and functions to efficiently manipulate and analyze data in various formats, such as CSV, Excel, SQL databases, and more. Pandas is built on top of NumPy, another popular numerical computing library in Python.\n",
    "\n",
    "Pandas provides two main classes of data structures: Series and DataFrame. \n",
    "A Series is a one-dimensional labeled array that can hold data of any type.\n",
    "A DataFrame is a two-dimensional labeled array that can hold multiple Series, where each Series can have a different data type.\n",
    "\n",
    "Pandas provides a wide range of functions for data cleaning, data preprocessing, data manipulation, and data analysis. Some of the commonly used functions in pandas include reading and writing data to files, merging and joining data from multiple sources, reshaping data, filtering data based on certain conditions, grouping and aggregating data, and more.\n",
    "\n",
    "EDA stands for Exploratory Data Analysis. It is the process of analyzing and summarizing data in order to gain insights and understand the patterns, relationships, and distributions within the data. EDA is often the first step in any data analysis project and is used to identify anomalies, detect missing or inconsistent data, and explore potential relationships between variables. Common EDA techniques include summary statistics, data visualization, correlation analysis, and clustering analysis. EDA is important because it helps to ensure that the data is appropriate for the analysis being conducted and can provide valuable insights that can guide subsequent analyses."
   ]
  },
  {
   "cell_type": "raw",
   "id": "c913ffe6",
   "metadata": {},
   "source": []
  },
  {
   "cell_type": "code",
   "execution_count": 241,
   "id": "e82b311e",
   "metadata": {},
   "outputs": [],
   "source": [
    "import pandas as pd"
   ]
  },
  {
   "cell_type": "code",
   "execution_count": 244,
   "id": "988b1877",
   "metadata": {},
   "outputs": [
    {
     "data": {
      "text/plain": [
       "a    10\n",
       "b    20\n",
       "c    30\n",
       "dtype: int64"
      ]
     },
     "execution_count": 244,
     "metadata": {},
     "output_type": "execute_result"
    }
   ],
   "source": [
    "# Series :- one-dimensional labeled array  ( #single column)\n",
    "s1 = pd.Series(data=[10,20,30], index=['a', 'b' ,'c'])\n",
    "s1"
   ]
  },
  {
   "cell_type": "code",
   "execution_count": null,
   "id": "e49b04d1",
   "metadata": {},
   "outputs": [],
   "source": [
    "index=[\"a\",\"b\",\"c\"]"
   ]
  },
  {
   "cell_type": "code",
   "execution_count": 252,
   "id": "f353d10d",
   "metadata": {},
   "outputs": [
    {
     "data": {
      "text/plain": [
       "['a', 'b', 'c']"
      ]
     },
     "execution_count": 252,
     "metadata": {},
     "output_type": "execute_result"
    }
   ],
   "source": [
    "\"a b c\".split(\" \")"
   ]
  },
  {
   "cell_type": "code",
   "execution_count": 245,
   "id": "37e32f8c",
   "metadata": {},
   "outputs": [
    {
     "data": {
      "text/plain": [
       "0    10\n",
       "1    20\n",
       "2    30\n",
       "dtype: int64"
      ]
     },
     "execution_count": 245,
     "metadata": {},
     "output_type": "execute_result"
    }
   ],
   "source": [
    " pd.Series([10,20,30])"
   ]
  },
  {
   "cell_type": "code",
   "execution_count": 246,
   "id": "5a5e3b87",
   "metadata": {},
   "outputs": [
    {
     "data": {
      "text/plain": [
       "(3,)"
      ]
     },
     "execution_count": 246,
     "metadata": {},
     "output_type": "execute_result"
    }
   ],
   "source": [
    "s1.shape"
   ]
  },
  {
   "cell_type": "code",
   "execution_count": 247,
   "id": "94922833",
   "metadata": {},
   "outputs": [
    {
     "data": {
      "text/plain": [
       "Index(['a', 'b', 'c'], dtype='object')"
      ]
     },
     "execution_count": 247,
     "metadata": {},
     "output_type": "execute_result"
    }
   ],
   "source": [
    "s1.index"
   ]
  },
  {
   "cell_type": "code",
   "execution_count": 248,
   "id": "d595b899",
   "metadata": {},
   "outputs": [],
   "source": [
    "s1 = pd.Series(data=[10,20,30])"
   ]
  },
  {
   "cell_type": "code",
   "execution_count": 250,
   "id": "7c6e1b62",
   "metadata": {},
   "outputs": [
    {
     "data": {
      "text/plain": [
       "0    10\n",
       "1    20\n",
       "2    30\n",
       "dtype: int64"
      ]
     },
     "execution_count": 250,
     "metadata": {},
     "output_type": "execute_result"
    }
   ],
   "source": [
    "s1"
   ]
  },
  {
   "cell_type": "code",
   "execution_count": 249,
   "id": "f6f4ad7c",
   "metadata": {},
   "outputs": [
    {
     "data": {
      "text/plain": [
       "RangeIndex(start=0, stop=3, step=1)"
      ]
     },
     "execution_count": 249,
     "metadata": {},
     "output_type": "execute_result"
    }
   ],
   "source": [
    "s1.index"
   ]
  },
  {
   "cell_type": "code",
   "execution_count": 251,
   "id": "0fd5ad4d",
   "metadata": {},
   "outputs": [
    {
     "ename": "AttributeError",
     "evalue": "'Series' object has no attribute 'columns'",
     "output_type": "error",
     "traceback": [
      "\u001b[1;31m---------------------------------------------------------------------------\u001b[0m",
      "\u001b[1;31mAttributeError\u001b[0m                            Traceback (most recent call last)",
      "\u001b[1;32m~\\AppData\\Local\\Temp\\ipykernel_9424\\763544144.py\u001b[0m in \u001b[0;36m<module>\u001b[1;34m\u001b[0m\n\u001b[1;32m----> 1\u001b[1;33m \u001b[0ms1\u001b[0m\u001b[1;33m.\u001b[0m\u001b[0mcolumns\u001b[0m\u001b[1;33m\u001b[0m\u001b[1;33m\u001b[0m\u001b[0m\n\u001b[0m",
      "\u001b[1;32m~\\anaconda3\\lib\\site-packages\\pandas\\core\\generic.py\u001b[0m in \u001b[0;36m__getattr__\u001b[1;34m(self, name)\u001b[0m\n\u001b[0;32m   5573\u001b[0m         ):\n\u001b[0;32m   5574\u001b[0m             \u001b[1;32mreturn\u001b[0m \u001b[0mself\u001b[0m\u001b[1;33m[\u001b[0m\u001b[0mname\u001b[0m\u001b[1;33m]\u001b[0m\u001b[1;33m\u001b[0m\u001b[1;33m\u001b[0m\u001b[0m\n\u001b[1;32m-> 5575\u001b[1;33m         \u001b[1;32mreturn\u001b[0m \u001b[0mobject\u001b[0m\u001b[1;33m.\u001b[0m\u001b[0m__getattribute__\u001b[0m\u001b[1;33m(\u001b[0m\u001b[0mself\u001b[0m\u001b[1;33m,\u001b[0m \u001b[0mname\u001b[0m\u001b[1;33m)\u001b[0m\u001b[1;33m\u001b[0m\u001b[1;33m\u001b[0m\u001b[0m\n\u001b[0m\u001b[0;32m   5576\u001b[0m \u001b[1;33m\u001b[0m\u001b[0m\n\u001b[0;32m   5577\u001b[0m     \u001b[1;32mdef\u001b[0m \u001b[0m__setattr__\u001b[0m\u001b[1;33m(\u001b[0m\u001b[0mself\u001b[0m\u001b[1;33m,\u001b[0m \u001b[0mname\u001b[0m\u001b[1;33m:\u001b[0m \u001b[0mstr\u001b[0m\u001b[1;33m,\u001b[0m \u001b[0mvalue\u001b[0m\u001b[1;33m)\u001b[0m \u001b[1;33m->\u001b[0m \u001b[1;32mNone\u001b[0m\u001b[1;33m:\u001b[0m\u001b[1;33m\u001b[0m\u001b[1;33m\u001b[0m\u001b[0m\n",
      "\u001b[1;31mAttributeError\u001b[0m: 'Series' object has no attribute 'columns'"
     ]
    }
   ],
   "source": [
    "s1.columns"
   ]
  },
  {
   "cell_type": "code",
   "execution_count": null,
   "id": "09adc67d",
   "metadata": {},
   "outputs": [],
   "source": [
    "\"a b c\".split(\" \")"
   ]
  },
  {
   "cell_type": "code",
   "execution_count": 254,
   "id": "09403ce4",
   "metadata": {},
   "outputs": [
    {
     "name": "stdout",
     "output_type": "stream",
     "text": [
      "a    10\n",
      "b    20\n",
      "c    30\n",
      "dtype: int64\n"
     ]
    }
   ],
   "source": [
    "labels = (\"a b c\".split(\" \"))\n",
    "mydata = [10,20,30]\n",
    "s1 = pd.Series(data=mydata, index=labels)\n",
    "print(s1)"
   ]
  },
  {
   "cell_type": "code",
   "execution_count": null,
   "id": "5673d17a",
   "metadata": {},
   "outputs": [],
   "source": []
  },
  {
   "cell_type": "code",
   "execution_count": 255,
   "id": "96401200",
   "metadata": {},
   "outputs": [
    {
     "data": {
      "text/plain": [
       "['a', 'b', 'c']"
      ]
     },
     "execution_count": 255,
     "metadata": {},
     "output_type": "execute_result"
    }
   ],
   "source": [
    "labels"
   ]
  },
  {
   "cell_type": "code",
   "execution_count": 259,
   "id": "133368a1",
   "metadata": {},
   "outputs": [
    {
     "data": {
      "text/plain": [
       "a    10\n",
       "b    20\n",
       "c    30\n",
       "dtype: int64"
      ]
     },
     "execution_count": 259,
     "metadata": {},
     "output_type": "execute_result"
    }
   ],
   "source": [
    "pd.Series(mydata,labels) # parameters are in oreder , so no need to specify"
   ]
  },
  {
   "cell_type": "code",
   "execution_count": 260,
   "id": "de8a7fc6",
   "metadata": {},
   "outputs": [
    {
     "data": {
      "text/plain": [
       "10    a\n",
       "20    b\n",
       "30    c\n",
       "dtype: object"
      ]
     },
     "execution_count": 260,
     "metadata": {},
     "output_type": "execute_result"
    }
   ],
   "source": [
    "pd.Series(labels,mydata)"
   ]
  },
  {
   "cell_type": "code",
   "execution_count": 261,
   "id": "bdc742cf",
   "metadata": {},
   "outputs": [
    {
     "data": {
      "text/plain": [
       "0    10\n",
       "1    20\n",
       "2    30\n",
       "dtype: int64"
      ]
     },
     "execution_count": 261,
     "metadata": {},
     "output_type": "execute_result"
    }
   ],
   "source": [
    "pd.Series(mydata) # if lable  i.e index is not provided"
   ]
  },
  {
   "cell_type": "code",
   "execution_count": 262,
   "id": "e46151a3",
   "metadata": {},
   "outputs": [
    {
     "data": {
      "text/plain": [
       "0    2\n",
       "1    3\n",
       "2    4\n",
       "dtype: int64"
      ]
     },
     "execution_count": 262,
     "metadata": {},
     "output_type": "execute_result"
    }
   ],
   "source": [
    "pd.Series([2,3,4])"
   ]
  },
  {
   "cell_type": "code",
   "execution_count": 263,
   "id": "14a93196",
   "metadata": {},
   "outputs": [
    {
     "data": {
      "text/plain": [
       "0    2\n",
       "1    3\n",
       "2    4\n",
       "dtype: int64"
      ]
     },
     "execution_count": 263,
     "metadata": {},
     "output_type": "execute_result"
    }
   ],
   "source": [
    "pd.Series((2,3,4))"
   ]
  },
  {
   "cell_type": "code",
   "execution_count": 264,
   "id": "8205b69b",
   "metadata": {},
   "outputs": [
    {
     "data": {
      "text/plain": [
       "a    10\n",
       "b    20\n",
       "c    30\n",
       "dtype: int64"
      ]
     },
     "execution_count": 264,
     "metadata": {},
     "output_type": "execute_result"
    }
   ],
   "source": [
    "d1  = {'a' :10,\n",
    "      'b':20,\n",
    "      'c':30}\n",
    "s1 = pd.Series(d1)\n",
    "s1"
   ]
  },
  {
   "cell_type": "code",
   "execution_count": 265,
   "id": "f9164255",
   "metadata": {},
   "outputs": [
    {
     "data": {
      "text/plain": [
       "a    10\n",
       "b    20\n",
       "c    30\n",
       "dtype: int64"
      ]
     },
     "execution_count": 265,
     "metadata": {},
     "output_type": "execute_result"
    }
   ],
   "source": [
    "d2  = {'a' :10,\n",
    "      'b':20,\n",
    "      'c':30}\n",
    "s2 = pd.Series(d2)\n",
    "s2"
   ]
  },
  {
   "cell_type": "code",
   "execution_count": 269,
   "id": "a44f643a",
   "metadata": {},
   "outputs": [
    {
     "data": {
      "text/plain": [
       "a    10\n",
       "b    20\n",
       "d    30\n",
       "dtype: int64"
      ]
     },
     "execution_count": 269,
     "metadata": {},
     "output_type": "execute_result"
    }
   ],
   "source": [
    "d3  = {'a' :10,\n",
    "      'b':20,\n",
    "      'd':30}\n",
    "s3 = pd.Series(d3)\n",
    "s3"
   ]
  },
  {
   "cell_type": "code",
   "execution_count": 266,
   "id": "0b6404ea",
   "metadata": {},
   "outputs": [
    {
     "data": {
      "text/plain": [
       "a    10\n",
       "b    20\n",
       "c    30\n",
       "dtype: int64"
      ]
     },
     "execution_count": 266,
     "metadata": {},
     "output_type": "execute_result"
    }
   ],
   "source": [
    "s1"
   ]
  },
  {
   "cell_type": "code",
   "execution_count": 267,
   "id": "2f18bc83",
   "metadata": {},
   "outputs": [
    {
     "data": {
      "text/plain": [
       "a    10\n",
       "b    20\n",
       "c    30\n",
       "dtype: int64"
      ]
     },
     "execution_count": 267,
     "metadata": {},
     "output_type": "execute_result"
    }
   ],
   "source": [
    "s2"
   ]
  },
  {
   "cell_type": "code",
   "execution_count": 270,
   "id": "e9415ba5",
   "metadata": {},
   "outputs": [
    {
     "data": {
      "text/plain": [
       "a    10\n",
       "b    20\n",
       "d    30\n",
       "dtype: int64"
      ]
     },
     "execution_count": 270,
     "metadata": {},
     "output_type": "execute_result"
    }
   ],
   "source": [
    "s3"
   ]
  },
  {
   "cell_type": "code",
   "execution_count": 268,
   "id": "712d802d",
   "metadata": {},
   "outputs": [
    {
     "data": {
      "text/plain": [
       "a    20\n",
       "b    40\n",
       "c    60\n",
       "dtype: int64"
      ]
     },
     "execution_count": 268,
     "metadata": {},
     "output_type": "execute_result"
    }
   ],
   "source": [
    "s1+s2  #[1,2,3]"
   ]
  },
  {
   "cell_type": "code",
   "execution_count": 271,
   "id": "4d6d56dc",
   "metadata": {},
   "outputs": [
    {
     "data": {
      "text/plain": [
       "a    20.0\n",
       "b    40.0\n",
       "c     NaN\n",
       "d     NaN\n",
       "dtype: float64"
      ]
     },
     "execution_count": 271,
     "metadata": {},
     "output_type": "execute_result"
    }
   ],
   "source": [
    "s2+s3"
   ]
  },
  {
   "cell_type": "code",
   "execution_count": null,
   "id": "154bc6b9",
   "metadata": {},
   "outputs": [],
   "source": []
  },
  {
   "cell_type": "code",
   "execution_count": 272,
   "id": "b97158fe",
   "metadata": {},
   "outputs": [
    {
     "data": {
      "text/plain": [
       "a    10\n",
       "b    20\n",
       "c    30\n",
       "dtype: int64"
      ]
     },
     "execution_count": 272,
     "metadata": {},
     "output_type": "execute_result"
    }
   ],
   "source": [
    "s2"
   ]
  },
  {
   "cell_type": "code",
   "execution_count": null,
   "id": "eee68535",
   "metadata": {},
   "outputs": [],
   "source": []
  },
  {
   "cell_type": "code",
   "execution_count": 274,
   "id": "5617e2e2",
   "metadata": {},
   "outputs": [
    {
     "data": {
      "text/plain": [
       "30"
      ]
     },
     "execution_count": 274,
     "metadata": {},
     "output_type": "execute_result"
    }
   ],
   "source": [
    "s2['c']"
   ]
  },
  {
   "cell_type": "code",
   "execution_count": null,
   "id": "ae3ba28e",
   "metadata": {},
   "outputs": [],
   "source": []
  },
  {
   "cell_type": "code",
   "execution_count": 275,
   "id": "559e8e24",
   "metadata": {},
   "outputs": [
    {
     "data": {
      "text/plain": [
       "3"
      ]
     },
     "execution_count": 275,
     "metadata": {},
     "output_type": "execute_result"
    }
   ],
   "source": [
    "s1.size"
   ]
  },
  {
   "cell_type": "code",
   "execution_count": 276,
   "id": "d867c9ab",
   "metadata": {},
   "outputs": [
    {
     "data": {
      "text/plain": [
       "(3,)"
      ]
     },
     "execution_count": 276,
     "metadata": {},
     "output_type": "execute_result"
    }
   ],
   "source": [
    "s1.shape"
   ]
  },
  {
   "cell_type": "code",
   "execution_count": 278,
   "id": "c40c542e",
   "metadata": {},
   "outputs": [
    {
     "data": {
      "text/plain": [
       "1"
      ]
     },
     "execution_count": 278,
     "metadata": {},
     "output_type": "execute_result"
    }
   ],
   "source": [
    "s1.ndim"
   ]
  },
  {
   "cell_type": "code",
   "execution_count": 279,
   "id": "084508ff",
   "metadata": {},
   "outputs": [
    {
     "data": {
      "text/plain": [
       "a    10\n",
       "b    20\n",
       "c    30\n",
       "dtype: int64"
      ]
     },
     "execution_count": 279,
     "metadata": {},
     "output_type": "execute_result"
    }
   ],
   "source": [
    "s2 =  s1 #shallow copy\n",
    "s1"
   ]
  },
  {
   "cell_type": "code",
   "execution_count": 280,
   "id": "ea1b2138",
   "metadata": {},
   "outputs": [],
   "source": [
    "s1[\"a\"]=100"
   ]
  },
  {
   "cell_type": "code",
   "execution_count": 281,
   "id": "955da3ee",
   "metadata": {},
   "outputs": [
    {
     "data": {
      "text/plain": [
       "a    100\n",
       "b     20\n",
       "c     30\n",
       "dtype: int64"
      ]
     },
     "execution_count": 281,
     "metadata": {},
     "output_type": "execute_result"
    }
   ],
   "source": [
    "s1"
   ]
  },
  {
   "cell_type": "code",
   "execution_count": 282,
   "id": "56cbfe1b",
   "metadata": {},
   "outputs": [
    {
     "data": {
      "text/plain": [
       "a    100\n",
       "b     20\n",
       "c     30\n",
       "dtype: int64"
      ]
     },
     "execution_count": 282,
     "metadata": {},
     "output_type": "execute_result"
    }
   ],
   "source": [
    "s2"
   ]
  },
  {
   "cell_type": "code",
   "execution_count": 283,
   "id": "a31da6e6",
   "metadata": {},
   "outputs": [],
   "source": [
    "s3= s2.copy()  #deep copy"
   ]
  },
  {
   "cell_type": "code",
   "execution_count": 284,
   "id": "57aa43bc",
   "metadata": {},
   "outputs": [],
   "source": [
    "s2[\"b\"]=222"
   ]
  },
  {
   "cell_type": "code",
   "execution_count": 285,
   "id": "17ecf09f",
   "metadata": {},
   "outputs": [
    {
     "data": {
      "text/plain": [
       "a    100\n",
       "b    222\n",
       "c     30\n",
       "dtype: int64"
      ]
     },
     "execution_count": 285,
     "metadata": {},
     "output_type": "execute_result"
    }
   ],
   "source": [
    "s2"
   ]
  },
  {
   "cell_type": "code",
   "execution_count": 286,
   "id": "b49183dc",
   "metadata": {},
   "outputs": [
    {
     "data": {
      "text/plain": [
       "a    100\n",
       "b     20\n",
       "c     30\n",
       "dtype: int64"
      ]
     },
     "execution_count": 286,
     "metadata": {},
     "output_type": "execute_result"
    }
   ],
   "source": [
    "s3"
   ]
  },
  {
   "cell_type": "code",
   "execution_count": null,
   "id": "97afa050",
   "metadata": {},
   "outputs": [],
   "source": [
    "# Dataframes :-two-dimensional labeled array that can hold multiple Series, where each Series can have a different data type\n",
    "# pd.DataFrame(data,index,columns)\n"
   ]
  },
  {
   "cell_type": "code",
   "execution_count": 287,
   "id": "89a77e3a",
   "metadata": {},
   "outputs": [
    {
     "data": {
      "text/plain": [
       "array([[-0.19372264, -1.79282631,  1.23147536, -0.95466035, -0.82073547,\n",
       "        -0.61983892],\n",
       "       [ 1.2744389 , -1.41330175, -0.54377923, -1.56443826, -0.97769804,\n",
       "         0.93287889],\n",
       "       [-0.64958662, -0.35592185, -0.27036306,  0.76406525,  0.7469691 ,\n",
       "        -0.05138009],\n",
       "       [ 1.17665056, -1.82014055, -0.27485319,  0.78817545, -1.03226548,\n",
       "         0.31464205],\n",
       "       [ 2.04276784, -0.48815762, -2.20234464, -0.02752915,  0.53059595,\n",
       "         1.20783485],\n",
       "       [-0.11315589, -1.70100786,  0.63951135,  1.05674522, -1.11281859,\n",
       "        -0.91898583]])"
      ]
     },
     "execution_count": 287,
     "metadata": {},
     "output_type": "execute_result"
    }
   ],
   "source": [
    "np.random.randn(6,6)"
   ]
  },
  {
   "cell_type": "code",
   "execution_count": 288,
   "id": "9bccd0a0",
   "metadata": {},
   "outputs": [
    {
     "data": {
      "text/html": [
       "<div>\n",
       "<style scoped>\n",
       "    .dataframe tbody tr th:only-of-type {\n",
       "        vertical-align: middle;\n",
       "    }\n",
       "\n",
       "    .dataframe tbody tr th {\n",
       "        vertical-align: top;\n",
       "    }\n",
       "\n",
       "    .dataframe thead th {\n",
       "        text-align: right;\n",
       "    }\n",
       "</style>\n",
       "<table border=\"1\" class=\"dataframe\">\n",
       "  <thead>\n",
       "    <tr style=\"text-align: right;\">\n",
       "      <th></th>\n",
       "      <th>0</th>\n",
       "      <th>1</th>\n",
       "      <th>2</th>\n",
       "      <th>3</th>\n",
       "      <th>4</th>\n",
       "      <th>5</th>\n",
       "    </tr>\n",
       "  </thead>\n",
       "  <tbody>\n",
       "    <tr>\n",
       "      <th>0</th>\n",
       "      <td>-1.373269</td>\n",
       "      <td>-0.686463</td>\n",
       "      <td>-0.293660</td>\n",
       "      <td>-0.160649</td>\n",
       "      <td>1.560478</td>\n",
       "      <td>-0.472327</td>\n",
       "    </tr>\n",
       "    <tr>\n",
       "      <th>1</th>\n",
       "      <td>0.760929</td>\n",
       "      <td>0.607378</td>\n",
       "      <td>-0.396619</td>\n",
       "      <td>1.439086</td>\n",
       "      <td>0.325656</td>\n",
       "      <td>0.008949</td>\n",
       "    </tr>\n",
       "    <tr>\n",
       "      <th>2</th>\n",
       "      <td>-0.681299</td>\n",
       "      <td>-1.106735</td>\n",
       "      <td>-1.626644</td>\n",
       "      <td>-0.607721</td>\n",
       "      <td>0.390539</td>\n",
       "      <td>0.645432</td>\n",
       "    </tr>\n",
       "    <tr>\n",
       "      <th>3</th>\n",
       "      <td>0.116396</td>\n",
       "      <td>-2.482629</td>\n",
       "      <td>-1.226625</td>\n",
       "      <td>-0.639398</td>\n",
       "      <td>-1.259891</td>\n",
       "      <td>-1.161170</td>\n",
       "    </tr>\n",
       "    <tr>\n",
       "      <th>4</th>\n",
       "      <td>-0.736978</td>\n",
       "      <td>0.848164</td>\n",
       "      <td>-2.079985</td>\n",
       "      <td>1.920456</td>\n",
       "      <td>1.468108</td>\n",
       "      <td>1.130826</td>\n",
       "    </tr>\n",
       "    <tr>\n",
       "      <th>5</th>\n",
       "      <td>-0.522100</td>\n",
       "      <td>-0.247149</td>\n",
       "      <td>0.215559</td>\n",
       "      <td>2.263255</td>\n",
       "      <td>0.093919</td>\n",
       "      <td>-2.124291</td>\n",
       "    </tr>\n",
       "  </tbody>\n",
       "</table>\n",
       "</div>"
      ],
      "text/plain": [
       "          0         1         2         3         4         5\n",
       "0 -1.373269 -0.686463 -0.293660 -0.160649  1.560478 -0.472327\n",
       "1  0.760929  0.607378 -0.396619  1.439086  0.325656  0.008949\n",
       "2 -0.681299 -1.106735 -1.626644 -0.607721  0.390539  0.645432\n",
       "3  0.116396 -2.482629 -1.226625 -0.639398 -1.259891 -1.161170\n",
       "4 -0.736978  0.848164 -2.079985  1.920456  1.468108  1.130826\n",
       "5 -0.522100 -0.247149  0.215559  2.263255  0.093919 -2.124291"
      ]
     },
     "execution_count": 288,
     "metadata": {},
     "output_type": "execute_result"
    }
   ],
   "source": [
    "df2 = pd.DataFrame(np.random.randn(6,6))\n",
    "df2"
   ]
  },
  {
   "cell_type": "code",
   "execution_count": 289,
   "id": "4bb65725",
   "metadata": {},
   "outputs": [
    {
     "data": {
      "text/html": [
       "<div>\n",
       "<style scoped>\n",
       "    .dataframe tbody tr th:only-of-type {\n",
       "        vertical-align: middle;\n",
       "    }\n",
       "\n",
       "    .dataframe tbody tr th {\n",
       "        vertical-align: top;\n",
       "    }\n",
       "\n",
       "    .dataframe thead th {\n",
       "        text-align: right;\n",
       "    }\n",
       "</style>\n",
       "<table border=\"1\" class=\"dataframe\">\n",
       "  <thead>\n",
       "    <tr style=\"text-align: right;\">\n",
       "      <th></th>\n",
       "      <th>0</th>\n",
       "      <th>1</th>\n",
       "      <th>2</th>\n",
       "      <th>3</th>\n",
       "      <th>4</th>\n",
       "      <th>5</th>\n",
       "    </tr>\n",
       "  </thead>\n",
       "  <tbody>\n",
       "    <tr>\n",
       "      <th>A</th>\n",
       "      <td>1.019120</td>\n",
       "      <td>-0.118846</td>\n",
       "      <td>0.469120</td>\n",
       "      <td>-0.623696</td>\n",
       "      <td>0.876962</td>\n",
       "      <td>-0.468243</td>\n",
       "    </tr>\n",
       "    <tr>\n",
       "      <th>B</th>\n",
       "      <td>-1.038802</td>\n",
       "      <td>-0.524464</td>\n",
       "      <td>0.164416</td>\n",
       "      <td>-0.207366</td>\n",
       "      <td>0.807808</td>\n",
       "      <td>-0.466845</td>\n",
       "    </tr>\n",
       "    <tr>\n",
       "      <th>C</th>\n",
       "      <td>0.228508</td>\n",
       "      <td>1.791355</td>\n",
       "      <td>1.507773</td>\n",
       "      <td>1.095993</td>\n",
       "      <td>0.769572</td>\n",
       "      <td>-0.112229</td>\n",
       "    </tr>\n",
       "    <tr>\n",
       "      <th>D</th>\n",
       "      <td>0.652169</td>\n",
       "      <td>1.165056</td>\n",
       "      <td>1.422862</td>\n",
       "      <td>-1.050810</td>\n",
       "      <td>1.806015</td>\n",
       "      <td>-1.441687</td>\n",
       "    </tr>\n",
       "    <tr>\n",
       "      <th>E</th>\n",
       "      <td>-0.302276</td>\n",
       "      <td>0.382891</td>\n",
       "      <td>-1.300359</td>\n",
       "      <td>-0.956577</td>\n",
       "      <td>-0.212987</td>\n",
       "      <td>0.328716</td>\n",
       "    </tr>\n",
       "    <tr>\n",
       "      <th>F</th>\n",
       "      <td>-0.122026</td>\n",
       "      <td>0.269380</td>\n",
       "      <td>0.310373</td>\n",
       "      <td>0.463425</td>\n",
       "      <td>-0.801402</td>\n",
       "      <td>-0.297801</td>\n",
       "    </tr>\n",
       "  </tbody>\n",
       "</table>\n",
       "</div>"
      ],
      "text/plain": [
       "          0         1         2         3         4         5\n",
       "A  1.019120 -0.118846  0.469120 -0.623696  0.876962 -0.468243\n",
       "B -1.038802 -0.524464  0.164416 -0.207366  0.807808 -0.466845\n",
       "C  0.228508  1.791355  1.507773  1.095993  0.769572 -0.112229\n",
       "D  0.652169  1.165056  1.422862 -1.050810  1.806015 -1.441687\n",
       "E -0.302276  0.382891 -1.300359 -0.956577 -0.212987  0.328716\n",
       "F -0.122026  0.269380  0.310373  0.463425 -0.801402 -0.297801"
      ]
     },
     "execution_count": 289,
     "metadata": {},
     "output_type": "execute_result"
    }
   ],
   "source": [
    "df2 = pd.DataFrame(np.random.randn(6,6),['A', 'B', 'C', 'D' ,'E', 'F'])\n",
    "df2"
   ]
  },
  {
   "cell_type": "code",
   "execution_count": 290,
   "id": "9316ae85",
   "metadata": {},
   "outputs": [
    {
     "data": {
      "text/html": [
       "<div>\n",
       "<style scoped>\n",
       "    .dataframe tbody tr th:only-of-type {\n",
       "        vertical-align: middle;\n",
       "    }\n",
       "\n",
       "    .dataframe tbody tr th {\n",
       "        vertical-align: top;\n",
       "    }\n",
       "\n",
       "    .dataframe thead th {\n",
       "        text-align: right;\n",
       "    }\n",
       "</style>\n",
       "<table border=\"1\" class=\"dataframe\">\n",
       "  <thead>\n",
       "    <tr style=\"text-align: right;\">\n",
       "      <th></th>\n",
       "      <th>U</th>\n",
       "      <th>V</th>\n",
       "      <th>W</th>\n",
       "      <th>X</th>\n",
       "      <th>Y</th>\n",
       "      <th>Z</th>\n",
       "    </tr>\n",
       "  </thead>\n",
       "  <tbody>\n",
       "    <tr>\n",
       "      <th>A</th>\n",
       "      <td>-0.055725</td>\n",
       "      <td>2.216878</td>\n",
       "      <td>-1.062682</td>\n",
       "      <td>0.463589</td>\n",
       "      <td>0.506563</td>\n",
       "      <td>0.193041</td>\n",
       "    </tr>\n",
       "    <tr>\n",
       "      <th>B</th>\n",
       "      <td>-0.983368</td>\n",
       "      <td>2.200271</td>\n",
       "      <td>-1.690854</td>\n",
       "      <td>-0.983740</td>\n",
       "      <td>-0.830152</td>\n",
       "      <td>2.099737</td>\n",
       "    </tr>\n",
       "    <tr>\n",
       "      <th>C</th>\n",
       "      <td>0.907088</td>\n",
       "      <td>0.715187</td>\n",
       "      <td>0.374504</td>\n",
       "      <td>0.379286</td>\n",
       "      <td>0.223340</td>\n",
       "      <td>0.299570</td>\n",
       "    </tr>\n",
       "    <tr>\n",
       "      <th>D</th>\n",
       "      <td>2.073867</td>\n",
       "      <td>-1.059064</td>\n",
       "      <td>-1.198760</td>\n",
       "      <td>-0.944476</td>\n",
       "      <td>-2.094775</td>\n",
       "      <td>0.884029</td>\n",
       "    </tr>\n",
       "    <tr>\n",
       "      <th>E</th>\n",
       "      <td>-0.152931</td>\n",
       "      <td>0.922471</td>\n",
       "      <td>-1.059885</td>\n",
       "      <td>-0.142911</td>\n",
       "      <td>-1.234753</td>\n",
       "      <td>0.797132</td>\n",
       "    </tr>\n",
       "    <tr>\n",
       "      <th>F</th>\n",
       "      <td>2.822414</td>\n",
       "      <td>0.385589</td>\n",
       "      <td>-0.216513</td>\n",
       "      <td>-1.268678</td>\n",
       "      <td>-0.047951</td>\n",
       "      <td>1.839721</td>\n",
       "    </tr>\n",
       "  </tbody>\n",
       "</table>\n",
       "</div>"
      ],
      "text/plain": [
       "          U         V         W         X         Y         Z\n",
       "A -0.055725  2.216878 -1.062682  0.463589  0.506563  0.193041\n",
       "B -0.983368  2.200271 -1.690854 -0.983740 -0.830152  2.099737\n",
       "C  0.907088  0.715187  0.374504  0.379286  0.223340  0.299570\n",
       "D  2.073867 -1.059064 -1.198760 -0.944476 -2.094775  0.884029\n",
       "E -0.152931  0.922471 -1.059885 -0.142911 -1.234753  0.797132\n",
       "F  2.822414  0.385589 -0.216513 -1.268678 -0.047951  1.839721"
      ]
     },
     "execution_count": 290,
     "metadata": {},
     "output_type": "execute_result"
    }
   ],
   "source": [
    "df2 = pd.DataFrame(np.random.randn(6,6),['A', 'B', 'C', 'D' ,'E', 'F'],['U', 'V', 'W' ,'X' ,'Y', 'Z'])\n",
    "df2\n"
   ]
  },
  {
   "cell_type": "code",
   "execution_count": 291,
   "id": "04f5a921",
   "metadata": {},
   "outputs": [
    {
     "data": {
      "text/html": [
       "<div>\n",
       "<style scoped>\n",
       "    .dataframe tbody tr th:only-of-type {\n",
       "        vertical-align: middle;\n",
       "    }\n",
       "\n",
       "    .dataframe tbody tr th {\n",
       "        vertical-align: top;\n",
       "    }\n",
       "\n",
       "    .dataframe thead th {\n",
       "        text-align: right;\n",
       "    }\n",
       "</style>\n",
       "<table border=\"1\" class=\"dataframe\">\n",
       "  <thead>\n",
       "    <tr style=\"text-align: right;\">\n",
       "      <th></th>\n",
       "      <th>U</th>\n",
       "      <th>V</th>\n",
       "      <th>W</th>\n",
       "      <th>X</th>\n",
       "      <th>Y</th>\n",
       "      <th>Z</th>\n",
       "    </tr>\n",
       "  </thead>\n",
       "  <tbody>\n",
       "    <tr>\n",
       "      <th>A</th>\n",
       "      <td>0.628910</td>\n",
       "      <td>-0.279470</td>\n",
       "      <td>0.488236</td>\n",
       "      <td>-0.168917</td>\n",
       "      <td>0.716216</td>\n",
       "      <td>0.248080</td>\n",
       "    </tr>\n",
       "    <tr>\n",
       "      <th>B</th>\n",
       "      <td>-1.000327</td>\n",
       "      <td>-0.018418</td>\n",
       "      <td>2.558664</td>\n",
       "      <td>0.549419</td>\n",
       "      <td>-0.032384</td>\n",
       "      <td>-0.378874</td>\n",
       "    </tr>\n",
       "    <tr>\n",
       "      <th>C</th>\n",
       "      <td>-2.170053</td>\n",
       "      <td>0.258648</td>\n",
       "      <td>-0.143731</td>\n",
       "      <td>-0.969244</td>\n",
       "      <td>-0.544527</td>\n",
       "      <td>0.733151</td>\n",
       "    </tr>\n",
       "    <tr>\n",
       "      <th>D</th>\n",
       "      <td>-0.854696</td>\n",
       "      <td>0.856849</td>\n",
       "      <td>1.391035</td>\n",
       "      <td>0.616090</td>\n",
       "      <td>-0.892781</td>\n",
       "      <td>1.963631</td>\n",
       "    </tr>\n",
       "    <tr>\n",
       "      <th>E</th>\n",
       "      <td>0.205118</td>\n",
       "      <td>0.293996</td>\n",
       "      <td>-1.232134</td>\n",
       "      <td>0.434619</td>\n",
       "      <td>-0.601275</td>\n",
       "      <td>0.698382</td>\n",
       "    </tr>\n",
       "    <tr>\n",
       "      <th>F</th>\n",
       "      <td>1.214149</td>\n",
       "      <td>0.541522</td>\n",
       "      <td>-0.722230</td>\n",
       "      <td>-0.553653</td>\n",
       "      <td>-0.243133</td>\n",
       "      <td>-0.478671</td>\n",
       "    </tr>\n",
       "  </tbody>\n",
       "</table>\n",
       "</div>"
      ],
      "text/plain": [
       "          U         V         W         X         Y         Z\n",
       "A  0.628910 -0.279470  0.488236 -0.168917  0.716216  0.248080\n",
       "B -1.000327 -0.018418  2.558664  0.549419 -0.032384 -0.378874\n",
       "C -2.170053  0.258648 -0.143731 -0.969244 -0.544527  0.733151\n",
       "D -0.854696  0.856849  1.391035  0.616090 -0.892781  1.963631\n",
       "E  0.205118  0.293996 -1.232134  0.434619 -0.601275  0.698382\n",
       "F  1.214149  0.541522 -0.722230 -0.553653 -0.243133 -0.478671"
      ]
     },
     "execution_count": 291,
     "metadata": {},
     "output_type": "execute_result"
    }
   ],
   "source": [
    "\n",
    "df2 = pd.DataFrame(np.random.randn(6,6),list(\"A B C D E F\".split(\" \")) ,list(\"U V W X Y Z\".split(\" \") ))\n",
    "df2"
   ]
  },
  {
   "cell_type": "code",
   "execution_count": 292,
   "id": "ec4192d2",
   "metadata": {},
   "outputs": [
    {
     "data": {
      "text/plain": [
       "2"
      ]
     },
     "execution_count": 292,
     "metadata": {},
     "output_type": "execute_result"
    }
   ],
   "source": [
    "df2.ndim"
   ]
  },
  {
   "cell_type": "code",
   "execution_count": 293,
   "id": "0e8c44d6",
   "metadata": {},
   "outputs": [
    {
     "data": {
      "text/plain": [
       "36"
      ]
     },
     "execution_count": 293,
     "metadata": {},
     "output_type": "execute_result"
    }
   ],
   "source": [
    "df2.size"
   ]
  },
  {
   "cell_type": "code",
   "execution_count": 294,
   "id": "88984887",
   "metadata": {},
   "outputs": [
    {
     "data": {
      "text/plain": [
       "(6, 6)"
      ]
     },
     "execution_count": 294,
     "metadata": {},
     "output_type": "execute_result"
    }
   ],
   "source": [
    "df2.shape"
   ]
  },
  {
   "cell_type": "code",
   "execution_count": 295,
   "id": "5992459d",
   "metadata": {},
   "outputs": [
    {
     "data": {
      "text/plain": [
       "pandas.core.frame.DataFrame"
      ]
     },
     "execution_count": 295,
     "metadata": {},
     "output_type": "execute_result"
    }
   ],
   "source": [
    "type(df2) # collection of serieas is a  DF"
   ]
  },
  {
   "cell_type": "markdown",
   "id": "d21af9fb",
   "metadata": {},
   "source": [
    "##### Accessing columns "
   ]
  },
  {
   "cell_type": "code",
   "execution_count": 296,
   "id": "df47f901",
   "metadata": {},
   "outputs": [
    {
     "data": {
      "text/html": [
       "<div>\n",
       "<style scoped>\n",
       "    .dataframe tbody tr th:only-of-type {\n",
       "        vertical-align: middle;\n",
       "    }\n",
       "\n",
       "    .dataframe tbody tr th {\n",
       "        vertical-align: top;\n",
       "    }\n",
       "\n",
       "    .dataframe thead th {\n",
       "        text-align: right;\n",
       "    }\n",
       "</style>\n",
       "<table border=\"1\" class=\"dataframe\">\n",
       "  <thead>\n",
       "    <tr style=\"text-align: right;\">\n",
       "      <th></th>\n",
       "      <th>U</th>\n",
       "      <th>V</th>\n",
       "      <th>W</th>\n",
       "      <th>X</th>\n",
       "      <th>Y</th>\n",
       "      <th>Z</th>\n",
       "    </tr>\n",
       "  </thead>\n",
       "  <tbody>\n",
       "    <tr>\n",
       "      <th>A</th>\n",
       "      <td>0.628910</td>\n",
       "      <td>-0.279470</td>\n",
       "      <td>0.488236</td>\n",
       "      <td>-0.168917</td>\n",
       "      <td>0.716216</td>\n",
       "      <td>0.248080</td>\n",
       "    </tr>\n",
       "    <tr>\n",
       "      <th>B</th>\n",
       "      <td>-1.000327</td>\n",
       "      <td>-0.018418</td>\n",
       "      <td>2.558664</td>\n",
       "      <td>0.549419</td>\n",
       "      <td>-0.032384</td>\n",
       "      <td>-0.378874</td>\n",
       "    </tr>\n",
       "    <tr>\n",
       "      <th>C</th>\n",
       "      <td>-2.170053</td>\n",
       "      <td>0.258648</td>\n",
       "      <td>-0.143731</td>\n",
       "      <td>-0.969244</td>\n",
       "      <td>-0.544527</td>\n",
       "      <td>0.733151</td>\n",
       "    </tr>\n",
       "    <tr>\n",
       "      <th>D</th>\n",
       "      <td>-0.854696</td>\n",
       "      <td>0.856849</td>\n",
       "      <td>1.391035</td>\n",
       "      <td>0.616090</td>\n",
       "      <td>-0.892781</td>\n",
       "      <td>1.963631</td>\n",
       "    </tr>\n",
       "    <tr>\n",
       "      <th>E</th>\n",
       "      <td>0.205118</td>\n",
       "      <td>0.293996</td>\n",
       "      <td>-1.232134</td>\n",
       "      <td>0.434619</td>\n",
       "      <td>-0.601275</td>\n",
       "      <td>0.698382</td>\n",
       "    </tr>\n",
       "    <tr>\n",
       "      <th>F</th>\n",
       "      <td>1.214149</td>\n",
       "      <td>0.541522</td>\n",
       "      <td>-0.722230</td>\n",
       "      <td>-0.553653</td>\n",
       "      <td>-0.243133</td>\n",
       "      <td>-0.478671</td>\n",
       "    </tr>\n",
       "  </tbody>\n",
       "</table>\n",
       "</div>"
      ],
      "text/plain": [
       "          U         V         W         X         Y         Z\n",
       "A  0.628910 -0.279470  0.488236 -0.168917  0.716216  0.248080\n",
       "B -1.000327 -0.018418  2.558664  0.549419 -0.032384 -0.378874\n",
       "C -2.170053  0.258648 -0.143731 -0.969244 -0.544527  0.733151\n",
       "D -0.854696  0.856849  1.391035  0.616090 -0.892781  1.963631\n",
       "E  0.205118  0.293996 -1.232134  0.434619 -0.601275  0.698382\n",
       "F  1.214149  0.541522 -0.722230 -0.553653 -0.243133 -0.478671"
      ]
     },
     "execution_count": 296,
     "metadata": {},
     "output_type": "execute_result"
    }
   ],
   "source": [
    "# Accessing columns \n",
    "#  using dot\n",
    "#  not recommended\n",
    "df2"
   ]
  },
  {
   "cell_type": "code",
   "execution_count": 297,
   "id": "2a9dda02",
   "metadata": {},
   "outputs": [
    {
     "data": {
      "text/plain": [
       "A   -0.168917\n",
       "B    0.549419\n",
       "C   -0.969244\n",
       "D    0.616090\n",
       "E    0.434619\n",
       "F   -0.553653\n",
       "Name: X, dtype: float64"
      ]
     },
     "execution_count": 297,
     "metadata": {},
     "output_type": "execute_result"
    }
   ],
   "source": [
    "df2.X"
   ]
  },
  {
   "cell_type": "code",
   "execution_count": 298,
   "id": "48949db9",
   "metadata": {},
   "outputs": [
    {
     "ename": "AttributeError",
     "evalue": "'DataFrame' object has no attribute 'A'",
     "output_type": "error",
     "traceback": [
      "\u001b[1;31m---------------------------------------------------------------------------\u001b[0m",
      "\u001b[1;31mAttributeError\u001b[0m                            Traceback (most recent call last)",
      "\u001b[1;32m~\\AppData\\Local\\Temp\\ipykernel_9424\\1284175378.py\u001b[0m in \u001b[0;36m<module>\u001b[1;34m\u001b[0m\n\u001b[1;32m----> 1\u001b[1;33m \u001b[0mdf2\u001b[0m\u001b[1;33m.\u001b[0m\u001b[0mA\u001b[0m\u001b[1;33m\u001b[0m\u001b[1;33m\u001b[0m\u001b[0m\n\u001b[0m",
      "\u001b[1;32m~\\anaconda3\\lib\\site-packages\\pandas\\core\\generic.py\u001b[0m in \u001b[0;36m__getattr__\u001b[1;34m(self, name)\u001b[0m\n\u001b[0;32m   5573\u001b[0m         ):\n\u001b[0;32m   5574\u001b[0m             \u001b[1;32mreturn\u001b[0m \u001b[0mself\u001b[0m\u001b[1;33m[\u001b[0m\u001b[0mname\u001b[0m\u001b[1;33m]\u001b[0m\u001b[1;33m\u001b[0m\u001b[1;33m\u001b[0m\u001b[0m\n\u001b[1;32m-> 5575\u001b[1;33m         \u001b[1;32mreturn\u001b[0m \u001b[0mobject\u001b[0m\u001b[1;33m.\u001b[0m\u001b[0m__getattribute__\u001b[0m\u001b[1;33m(\u001b[0m\u001b[0mself\u001b[0m\u001b[1;33m,\u001b[0m \u001b[0mname\u001b[0m\u001b[1;33m)\u001b[0m\u001b[1;33m\u001b[0m\u001b[1;33m\u001b[0m\u001b[0m\n\u001b[0m\u001b[0;32m   5576\u001b[0m \u001b[1;33m\u001b[0m\u001b[0m\n\u001b[0;32m   5577\u001b[0m     \u001b[1;32mdef\u001b[0m \u001b[0m__setattr__\u001b[0m\u001b[1;33m(\u001b[0m\u001b[0mself\u001b[0m\u001b[1;33m,\u001b[0m \u001b[0mname\u001b[0m\u001b[1;33m:\u001b[0m \u001b[0mstr\u001b[0m\u001b[1;33m,\u001b[0m \u001b[0mvalue\u001b[0m\u001b[1;33m)\u001b[0m \u001b[1;33m->\u001b[0m \u001b[1;32mNone\u001b[0m\u001b[1;33m:\u001b[0m\u001b[1;33m\u001b[0m\u001b[1;33m\u001b[0m\u001b[0m\n",
      "\u001b[1;31mAttributeError\u001b[0m: 'DataFrame' object has no attribute 'A'"
     ]
    }
   ],
   "source": [
    "df2.A"
   ]
  },
  {
   "cell_type": "code",
   "execution_count": 299,
   "id": "94e214c4",
   "metadata": {},
   "outputs": [
    {
     "data": {
      "text/plain": [
       "A    0.248080\n",
       "B   -0.378874\n",
       "C    0.733151\n",
       "D    1.963631\n",
       "E    0.698382\n",
       "F   -0.478671\n",
       "Name: Z, dtype: float64"
      ]
     },
     "execution_count": 299,
     "metadata": {},
     "output_type": "execute_result"
    }
   ],
   "source": [
    "#  [] for accessing the data\n",
    "df2['Z']"
   ]
  },
  {
   "cell_type": "code",
   "execution_count": 300,
   "id": "fbebaf6f",
   "metadata": {},
   "outputs": [
    {
     "ename": "KeyError",
     "evalue": "'A'",
     "output_type": "error",
     "traceback": [
      "\u001b[1;31m---------------------------------------------------------------------------\u001b[0m",
      "\u001b[1;31mKeyError\u001b[0m                                  Traceback (most recent call last)",
      "\u001b[1;32m~\\anaconda3\\lib\\site-packages\\pandas\\core\\indexes\\base.py\u001b[0m in \u001b[0;36mget_loc\u001b[1;34m(self, key, method, tolerance)\u001b[0m\n\u001b[0;32m   3628\u001b[0m             \u001b[1;32mtry\u001b[0m\u001b[1;33m:\u001b[0m\u001b[1;33m\u001b[0m\u001b[1;33m\u001b[0m\u001b[0m\n\u001b[1;32m-> 3629\u001b[1;33m                 \u001b[1;32mreturn\u001b[0m \u001b[0mself\u001b[0m\u001b[1;33m.\u001b[0m\u001b[0m_engine\u001b[0m\u001b[1;33m.\u001b[0m\u001b[0mget_loc\u001b[0m\u001b[1;33m(\u001b[0m\u001b[0mcasted_key\u001b[0m\u001b[1;33m)\u001b[0m\u001b[1;33m\u001b[0m\u001b[1;33m\u001b[0m\u001b[0m\n\u001b[0m\u001b[0;32m   3630\u001b[0m             \u001b[1;32mexcept\u001b[0m \u001b[0mKeyError\u001b[0m \u001b[1;32mas\u001b[0m \u001b[0merr\u001b[0m\u001b[1;33m:\u001b[0m\u001b[1;33m\u001b[0m\u001b[1;33m\u001b[0m\u001b[0m\n",
      "\u001b[1;32m~\\anaconda3\\lib\\site-packages\\pandas\\_libs\\index.pyx\u001b[0m in \u001b[0;36mpandas._libs.index.IndexEngine.get_loc\u001b[1;34m()\u001b[0m\n",
      "\u001b[1;32m~\\anaconda3\\lib\\site-packages\\pandas\\_libs\\index.pyx\u001b[0m in \u001b[0;36mpandas._libs.index.IndexEngine.get_loc\u001b[1;34m()\u001b[0m\n",
      "\u001b[1;32mpandas\\_libs\\hashtable_class_helper.pxi\u001b[0m in \u001b[0;36mpandas._libs.hashtable.PyObjectHashTable.get_item\u001b[1;34m()\u001b[0m\n",
      "\u001b[1;32mpandas\\_libs\\hashtable_class_helper.pxi\u001b[0m in \u001b[0;36mpandas._libs.hashtable.PyObjectHashTable.get_item\u001b[1;34m()\u001b[0m\n",
      "\u001b[1;31mKeyError\u001b[0m: 'A'",
      "\nThe above exception was the direct cause of the following exception:\n",
      "\u001b[1;31mKeyError\u001b[0m                                  Traceback (most recent call last)",
      "\u001b[1;32m~\\AppData\\Local\\Temp\\ipykernel_9424\\3222625171.py\u001b[0m in \u001b[0;36m<module>\u001b[1;34m\u001b[0m\n\u001b[1;32m----> 1\u001b[1;33m \u001b[0mdf2\u001b[0m\u001b[1;33m[\u001b[0m\u001b[1;34m'A'\u001b[0m\u001b[1;33m]\u001b[0m\u001b[1;33m\u001b[0m\u001b[1;33m\u001b[0m\u001b[0m\n\u001b[0m",
      "\u001b[1;32m~\\anaconda3\\lib\\site-packages\\pandas\\core\\frame.py\u001b[0m in \u001b[0;36m__getitem__\u001b[1;34m(self, key)\u001b[0m\n\u001b[0;32m   3503\u001b[0m             \u001b[1;32mif\u001b[0m \u001b[0mself\u001b[0m\u001b[1;33m.\u001b[0m\u001b[0mcolumns\u001b[0m\u001b[1;33m.\u001b[0m\u001b[0mnlevels\u001b[0m \u001b[1;33m>\u001b[0m \u001b[1;36m1\u001b[0m\u001b[1;33m:\u001b[0m\u001b[1;33m\u001b[0m\u001b[1;33m\u001b[0m\u001b[0m\n\u001b[0;32m   3504\u001b[0m                 \u001b[1;32mreturn\u001b[0m \u001b[0mself\u001b[0m\u001b[1;33m.\u001b[0m\u001b[0m_getitem_multilevel\u001b[0m\u001b[1;33m(\u001b[0m\u001b[0mkey\u001b[0m\u001b[1;33m)\u001b[0m\u001b[1;33m\u001b[0m\u001b[1;33m\u001b[0m\u001b[0m\n\u001b[1;32m-> 3505\u001b[1;33m             \u001b[0mindexer\u001b[0m \u001b[1;33m=\u001b[0m \u001b[0mself\u001b[0m\u001b[1;33m.\u001b[0m\u001b[0mcolumns\u001b[0m\u001b[1;33m.\u001b[0m\u001b[0mget_loc\u001b[0m\u001b[1;33m(\u001b[0m\u001b[0mkey\u001b[0m\u001b[1;33m)\u001b[0m\u001b[1;33m\u001b[0m\u001b[1;33m\u001b[0m\u001b[0m\n\u001b[0m\u001b[0;32m   3506\u001b[0m             \u001b[1;32mif\u001b[0m \u001b[0mis_integer\u001b[0m\u001b[1;33m(\u001b[0m\u001b[0mindexer\u001b[0m\u001b[1;33m)\u001b[0m\u001b[1;33m:\u001b[0m\u001b[1;33m\u001b[0m\u001b[1;33m\u001b[0m\u001b[0m\n\u001b[0;32m   3507\u001b[0m                 \u001b[0mindexer\u001b[0m \u001b[1;33m=\u001b[0m \u001b[1;33m[\u001b[0m\u001b[0mindexer\u001b[0m\u001b[1;33m]\u001b[0m\u001b[1;33m\u001b[0m\u001b[1;33m\u001b[0m\u001b[0m\n",
      "\u001b[1;32m~\\anaconda3\\lib\\site-packages\\pandas\\core\\indexes\\base.py\u001b[0m in \u001b[0;36mget_loc\u001b[1;34m(self, key, method, tolerance)\u001b[0m\n\u001b[0;32m   3629\u001b[0m                 \u001b[1;32mreturn\u001b[0m \u001b[0mself\u001b[0m\u001b[1;33m.\u001b[0m\u001b[0m_engine\u001b[0m\u001b[1;33m.\u001b[0m\u001b[0mget_loc\u001b[0m\u001b[1;33m(\u001b[0m\u001b[0mcasted_key\u001b[0m\u001b[1;33m)\u001b[0m\u001b[1;33m\u001b[0m\u001b[1;33m\u001b[0m\u001b[0m\n\u001b[0;32m   3630\u001b[0m             \u001b[1;32mexcept\u001b[0m \u001b[0mKeyError\u001b[0m \u001b[1;32mas\u001b[0m \u001b[0merr\u001b[0m\u001b[1;33m:\u001b[0m\u001b[1;33m\u001b[0m\u001b[1;33m\u001b[0m\u001b[0m\n\u001b[1;32m-> 3631\u001b[1;33m                 \u001b[1;32mraise\u001b[0m \u001b[0mKeyError\u001b[0m\u001b[1;33m(\u001b[0m\u001b[0mkey\u001b[0m\u001b[1;33m)\u001b[0m \u001b[1;32mfrom\u001b[0m \u001b[0merr\u001b[0m\u001b[1;33m\u001b[0m\u001b[1;33m\u001b[0m\u001b[0m\n\u001b[0m\u001b[0;32m   3632\u001b[0m             \u001b[1;32mexcept\u001b[0m \u001b[0mTypeError\u001b[0m\u001b[1;33m:\u001b[0m\u001b[1;33m\u001b[0m\u001b[1;33m\u001b[0m\u001b[0m\n\u001b[0;32m   3633\u001b[0m                 \u001b[1;31m# If we have a listlike key, _check_indexing_error will raise\u001b[0m\u001b[1;33m\u001b[0m\u001b[1;33m\u001b[0m\u001b[0m\n",
      "\u001b[1;31mKeyError\u001b[0m: 'A'"
     ]
    }
   ],
   "source": [
    "df2['A']"
   ]
  },
  {
   "cell_type": "code",
   "execution_count": 301,
   "id": "0b0782d6",
   "metadata": {},
   "outputs": [
    {
     "data": {
      "text/html": [
       "<div>\n",
       "<style scoped>\n",
       "    .dataframe tbody tr th:only-of-type {\n",
       "        vertical-align: middle;\n",
       "    }\n",
       "\n",
       "    .dataframe tbody tr th {\n",
       "        vertical-align: top;\n",
       "    }\n",
       "\n",
       "    .dataframe thead th {\n",
       "        text-align: right;\n",
       "    }\n",
       "</style>\n",
       "<table border=\"1\" class=\"dataframe\">\n",
       "  <thead>\n",
       "    <tr style=\"text-align: right;\">\n",
       "      <th></th>\n",
       "      <th>U</th>\n",
       "      <th>V</th>\n",
       "      <th>W</th>\n",
       "      <th>X</th>\n",
       "      <th>Y</th>\n",
       "      <th>Z</th>\n",
       "    </tr>\n",
       "  </thead>\n",
       "  <tbody>\n",
       "    <tr>\n",
       "      <th>A</th>\n",
       "      <td>0.628910</td>\n",
       "      <td>-0.279470</td>\n",
       "      <td>0.488236</td>\n",
       "      <td>-0.168917</td>\n",
       "      <td>0.716216</td>\n",
       "      <td>0.248080</td>\n",
       "    </tr>\n",
       "    <tr>\n",
       "      <th>B</th>\n",
       "      <td>-1.000327</td>\n",
       "      <td>-0.018418</td>\n",
       "      <td>2.558664</td>\n",
       "      <td>0.549419</td>\n",
       "      <td>-0.032384</td>\n",
       "      <td>-0.378874</td>\n",
       "    </tr>\n",
       "    <tr>\n",
       "      <th>C</th>\n",
       "      <td>-2.170053</td>\n",
       "      <td>0.258648</td>\n",
       "      <td>-0.143731</td>\n",
       "      <td>-0.969244</td>\n",
       "      <td>-0.544527</td>\n",
       "      <td>0.733151</td>\n",
       "    </tr>\n",
       "    <tr>\n",
       "      <th>D</th>\n",
       "      <td>-0.854696</td>\n",
       "      <td>0.856849</td>\n",
       "      <td>1.391035</td>\n",
       "      <td>0.616090</td>\n",
       "      <td>-0.892781</td>\n",
       "      <td>1.963631</td>\n",
       "    </tr>\n",
       "    <tr>\n",
       "      <th>E</th>\n",
       "      <td>0.205118</td>\n",
       "      <td>0.293996</td>\n",
       "      <td>-1.232134</td>\n",
       "      <td>0.434619</td>\n",
       "      <td>-0.601275</td>\n",
       "      <td>0.698382</td>\n",
       "    </tr>\n",
       "    <tr>\n",
       "      <th>F</th>\n",
       "      <td>1.214149</td>\n",
       "      <td>0.541522</td>\n",
       "      <td>-0.722230</td>\n",
       "      <td>-0.553653</td>\n",
       "      <td>-0.243133</td>\n",
       "      <td>-0.478671</td>\n",
       "    </tr>\n",
       "  </tbody>\n",
       "</table>\n",
       "</div>"
      ],
      "text/plain": [
       "          U         V         W         X         Y         Z\n",
       "A  0.628910 -0.279470  0.488236 -0.168917  0.716216  0.248080\n",
       "B -1.000327 -0.018418  2.558664  0.549419 -0.032384 -0.378874\n",
       "C -2.170053  0.258648 -0.143731 -0.969244 -0.544527  0.733151\n",
       "D -0.854696  0.856849  1.391035  0.616090 -0.892781  1.963631\n",
       "E  0.205118  0.293996 -1.232134  0.434619 -0.601275  0.698382\n",
       "F  1.214149  0.541522 -0.722230 -0.553653 -0.243133 -0.478671"
      ]
     },
     "execution_count": 301,
     "metadata": {},
     "output_type": "execute_result"
    }
   ],
   "source": [
    "df2"
   ]
  },
  {
   "cell_type": "code",
   "execution_count": 302,
   "id": "356f5348",
   "metadata": {},
   "outputs": [
    {
     "ename": "KeyError",
     "evalue": "('U', 'V')",
     "output_type": "error",
     "traceback": [
      "\u001b[1;31m---------------------------------------------------------------------------\u001b[0m",
      "\u001b[1;31mKeyError\u001b[0m                                  Traceback (most recent call last)",
      "\u001b[1;32m~\\anaconda3\\lib\\site-packages\\pandas\\core\\indexes\\base.py\u001b[0m in \u001b[0;36mget_loc\u001b[1;34m(self, key, method, tolerance)\u001b[0m\n\u001b[0;32m   3628\u001b[0m             \u001b[1;32mtry\u001b[0m\u001b[1;33m:\u001b[0m\u001b[1;33m\u001b[0m\u001b[1;33m\u001b[0m\u001b[0m\n\u001b[1;32m-> 3629\u001b[1;33m                 \u001b[1;32mreturn\u001b[0m \u001b[0mself\u001b[0m\u001b[1;33m.\u001b[0m\u001b[0m_engine\u001b[0m\u001b[1;33m.\u001b[0m\u001b[0mget_loc\u001b[0m\u001b[1;33m(\u001b[0m\u001b[0mcasted_key\u001b[0m\u001b[1;33m)\u001b[0m\u001b[1;33m\u001b[0m\u001b[1;33m\u001b[0m\u001b[0m\n\u001b[0m\u001b[0;32m   3630\u001b[0m             \u001b[1;32mexcept\u001b[0m \u001b[0mKeyError\u001b[0m \u001b[1;32mas\u001b[0m \u001b[0merr\u001b[0m\u001b[1;33m:\u001b[0m\u001b[1;33m\u001b[0m\u001b[1;33m\u001b[0m\u001b[0m\n",
      "\u001b[1;32m~\\anaconda3\\lib\\site-packages\\pandas\\_libs\\index.pyx\u001b[0m in \u001b[0;36mpandas._libs.index.IndexEngine.get_loc\u001b[1;34m()\u001b[0m\n",
      "\u001b[1;32m~\\anaconda3\\lib\\site-packages\\pandas\\_libs\\index.pyx\u001b[0m in \u001b[0;36mpandas._libs.index.IndexEngine.get_loc\u001b[1;34m()\u001b[0m\n",
      "\u001b[1;32mpandas\\_libs\\hashtable_class_helper.pxi\u001b[0m in \u001b[0;36mpandas._libs.hashtable.PyObjectHashTable.get_item\u001b[1;34m()\u001b[0m\n",
      "\u001b[1;32mpandas\\_libs\\hashtable_class_helper.pxi\u001b[0m in \u001b[0;36mpandas._libs.hashtable.PyObjectHashTable.get_item\u001b[1;34m()\u001b[0m\n",
      "\u001b[1;31mKeyError\u001b[0m: ('U', 'V')",
      "\nThe above exception was the direct cause of the following exception:\n",
      "\u001b[1;31mKeyError\u001b[0m                                  Traceback (most recent call last)",
      "\u001b[1;32m~\\AppData\\Local\\Temp\\ipykernel_9424\\2141165251.py\u001b[0m in \u001b[0;36m<module>\u001b[1;34m\u001b[0m\n\u001b[1;32m----> 1\u001b[1;33m \u001b[0mdf2\u001b[0m\u001b[1;33m[\u001b[0m\u001b[1;34m\"U\"\u001b[0m\u001b[1;33m,\u001b[0m\u001b[1;34m\"V\"\u001b[0m\u001b[1;33m]\u001b[0m\u001b[1;33m\u001b[0m\u001b[1;33m\u001b[0m\u001b[0m\n\u001b[0m",
      "\u001b[1;32m~\\anaconda3\\lib\\site-packages\\pandas\\core\\frame.py\u001b[0m in \u001b[0;36m__getitem__\u001b[1;34m(self, key)\u001b[0m\n\u001b[0;32m   3503\u001b[0m             \u001b[1;32mif\u001b[0m \u001b[0mself\u001b[0m\u001b[1;33m.\u001b[0m\u001b[0mcolumns\u001b[0m\u001b[1;33m.\u001b[0m\u001b[0mnlevels\u001b[0m \u001b[1;33m>\u001b[0m \u001b[1;36m1\u001b[0m\u001b[1;33m:\u001b[0m\u001b[1;33m\u001b[0m\u001b[1;33m\u001b[0m\u001b[0m\n\u001b[0;32m   3504\u001b[0m                 \u001b[1;32mreturn\u001b[0m \u001b[0mself\u001b[0m\u001b[1;33m.\u001b[0m\u001b[0m_getitem_multilevel\u001b[0m\u001b[1;33m(\u001b[0m\u001b[0mkey\u001b[0m\u001b[1;33m)\u001b[0m\u001b[1;33m\u001b[0m\u001b[1;33m\u001b[0m\u001b[0m\n\u001b[1;32m-> 3505\u001b[1;33m             \u001b[0mindexer\u001b[0m \u001b[1;33m=\u001b[0m \u001b[0mself\u001b[0m\u001b[1;33m.\u001b[0m\u001b[0mcolumns\u001b[0m\u001b[1;33m.\u001b[0m\u001b[0mget_loc\u001b[0m\u001b[1;33m(\u001b[0m\u001b[0mkey\u001b[0m\u001b[1;33m)\u001b[0m\u001b[1;33m\u001b[0m\u001b[1;33m\u001b[0m\u001b[0m\n\u001b[0m\u001b[0;32m   3506\u001b[0m             \u001b[1;32mif\u001b[0m \u001b[0mis_integer\u001b[0m\u001b[1;33m(\u001b[0m\u001b[0mindexer\u001b[0m\u001b[1;33m)\u001b[0m\u001b[1;33m:\u001b[0m\u001b[1;33m\u001b[0m\u001b[1;33m\u001b[0m\u001b[0m\n\u001b[0;32m   3507\u001b[0m                 \u001b[0mindexer\u001b[0m \u001b[1;33m=\u001b[0m \u001b[1;33m[\u001b[0m\u001b[0mindexer\u001b[0m\u001b[1;33m]\u001b[0m\u001b[1;33m\u001b[0m\u001b[1;33m\u001b[0m\u001b[0m\n",
      "\u001b[1;32m~\\anaconda3\\lib\\site-packages\\pandas\\core\\indexes\\base.py\u001b[0m in \u001b[0;36mget_loc\u001b[1;34m(self, key, method, tolerance)\u001b[0m\n\u001b[0;32m   3629\u001b[0m                 \u001b[1;32mreturn\u001b[0m \u001b[0mself\u001b[0m\u001b[1;33m.\u001b[0m\u001b[0m_engine\u001b[0m\u001b[1;33m.\u001b[0m\u001b[0mget_loc\u001b[0m\u001b[1;33m(\u001b[0m\u001b[0mcasted_key\u001b[0m\u001b[1;33m)\u001b[0m\u001b[1;33m\u001b[0m\u001b[1;33m\u001b[0m\u001b[0m\n\u001b[0;32m   3630\u001b[0m             \u001b[1;32mexcept\u001b[0m \u001b[0mKeyError\u001b[0m \u001b[1;32mas\u001b[0m \u001b[0merr\u001b[0m\u001b[1;33m:\u001b[0m\u001b[1;33m\u001b[0m\u001b[1;33m\u001b[0m\u001b[0m\n\u001b[1;32m-> 3631\u001b[1;33m                 \u001b[1;32mraise\u001b[0m \u001b[0mKeyError\u001b[0m\u001b[1;33m(\u001b[0m\u001b[0mkey\u001b[0m\u001b[1;33m)\u001b[0m \u001b[1;32mfrom\u001b[0m \u001b[0merr\u001b[0m\u001b[1;33m\u001b[0m\u001b[1;33m\u001b[0m\u001b[0m\n\u001b[0m\u001b[0;32m   3632\u001b[0m             \u001b[1;32mexcept\u001b[0m \u001b[0mTypeError\u001b[0m\u001b[1;33m:\u001b[0m\u001b[1;33m\u001b[0m\u001b[1;33m\u001b[0m\u001b[0m\n\u001b[0;32m   3633\u001b[0m                 \u001b[1;31m# If we have a listlike key, _check_indexing_error will raise\u001b[0m\u001b[1;33m\u001b[0m\u001b[1;33m\u001b[0m\u001b[0m\n",
      "\u001b[1;31mKeyError\u001b[0m: ('U', 'V')"
     ]
    }
   ],
   "source": [
    "df2[\"U\",\"V\"]"
   ]
  },
  {
   "cell_type": "code",
   "execution_count": 304,
   "id": "1f77965d",
   "metadata": {},
   "outputs": [
    {
     "data": {
      "text/html": [
       "<div>\n",
       "<style scoped>\n",
       "    .dataframe tbody tr th:only-of-type {\n",
       "        vertical-align: middle;\n",
       "    }\n",
       "\n",
       "    .dataframe tbody tr th {\n",
       "        vertical-align: top;\n",
       "    }\n",
       "\n",
       "    .dataframe thead th {\n",
       "        text-align: right;\n",
       "    }\n",
       "</style>\n",
       "<table border=\"1\" class=\"dataframe\">\n",
       "  <thead>\n",
       "    <tr style=\"text-align: right;\">\n",
       "      <th></th>\n",
       "      <th>X</th>\n",
       "      <th>Z</th>\n",
       "    </tr>\n",
       "  </thead>\n",
       "  <tbody>\n",
       "    <tr>\n",
       "      <th>A</th>\n",
       "      <td>-0.168917</td>\n",
       "      <td>0.248080</td>\n",
       "    </tr>\n",
       "    <tr>\n",
       "      <th>B</th>\n",
       "      <td>0.549419</td>\n",
       "      <td>-0.378874</td>\n",
       "    </tr>\n",
       "    <tr>\n",
       "      <th>C</th>\n",
       "      <td>-0.969244</td>\n",
       "      <td>0.733151</td>\n",
       "    </tr>\n",
       "    <tr>\n",
       "      <th>D</th>\n",
       "      <td>0.616090</td>\n",
       "      <td>1.963631</td>\n",
       "    </tr>\n",
       "    <tr>\n",
       "      <th>E</th>\n",
       "      <td>0.434619</td>\n",
       "      <td>0.698382</td>\n",
       "    </tr>\n",
       "    <tr>\n",
       "      <th>F</th>\n",
       "      <td>-0.553653</td>\n",
       "      <td>-0.478671</td>\n",
       "    </tr>\n",
       "  </tbody>\n",
       "</table>\n",
       "</div>"
      ],
      "text/plain": [
       "          X         Z\n",
       "A -0.168917  0.248080\n",
       "B  0.549419 -0.378874\n",
       "C -0.969244  0.733151\n",
       "D  0.616090  1.963631\n",
       "E  0.434619  0.698382\n",
       "F -0.553653 -0.478671"
      ]
     },
     "execution_count": 304,
     "metadata": {},
     "output_type": "execute_result"
    }
   ],
   "source": [
    "#  [] for accessing multiple columns\n",
    "df2[['X','Z']]"
   ]
  },
  {
   "cell_type": "code",
   "execution_count": 303,
   "id": "ebb39047",
   "metadata": {},
   "outputs": [
    {
     "data": {
      "text/html": [
       "<div>\n",
       "<style scoped>\n",
       "    .dataframe tbody tr th:only-of-type {\n",
       "        vertical-align: middle;\n",
       "    }\n",
       "\n",
       "    .dataframe tbody tr th {\n",
       "        vertical-align: top;\n",
       "    }\n",
       "\n",
       "    .dataframe thead th {\n",
       "        text-align: right;\n",
       "    }\n",
       "</style>\n",
       "<table border=\"1\" class=\"dataframe\">\n",
       "  <thead>\n",
       "    <tr style=\"text-align: right;\">\n",
       "      <th></th>\n",
       "      <th>U</th>\n",
       "      <th>V</th>\n",
       "    </tr>\n",
       "  </thead>\n",
       "  <tbody>\n",
       "    <tr>\n",
       "      <th>A</th>\n",
       "      <td>0.628910</td>\n",
       "      <td>-0.279470</td>\n",
       "    </tr>\n",
       "    <tr>\n",
       "      <th>B</th>\n",
       "      <td>-1.000327</td>\n",
       "      <td>-0.018418</td>\n",
       "    </tr>\n",
       "    <tr>\n",
       "      <th>C</th>\n",
       "      <td>-2.170053</td>\n",
       "      <td>0.258648</td>\n",
       "    </tr>\n",
       "    <tr>\n",
       "      <th>D</th>\n",
       "      <td>-0.854696</td>\n",
       "      <td>0.856849</td>\n",
       "    </tr>\n",
       "    <tr>\n",
       "      <th>E</th>\n",
       "      <td>0.205118</td>\n",
       "      <td>0.293996</td>\n",
       "    </tr>\n",
       "    <tr>\n",
       "      <th>F</th>\n",
       "      <td>1.214149</td>\n",
       "      <td>0.541522</td>\n",
       "    </tr>\n",
       "  </tbody>\n",
       "</table>\n",
       "</div>"
      ],
      "text/plain": [
       "          U         V\n",
       "A  0.628910 -0.279470\n",
       "B -1.000327 -0.018418\n",
       "C -2.170053  0.258648\n",
       "D -0.854696  0.856849\n",
       "E  0.205118  0.293996\n",
       "F  1.214149  0.541522"
      ]
     },
     "execution_count": 303,
     "metadata": {},
     "output_type": "execute_result"
    }
   ],
   "source": [
    "# U and V\n",
    "df2[['U','V']]"
   ]
  },
  {
   "cell_type": "code",
   "execution_count": 305,
   "id": "dcf42150",
   "metadata": {},
   "outputs": [
    {
     "data": {
      "text/html": [
       "<div>\n",
       "<style scoped>\n",
       "    .dataframe tbody tr th:only-of-type {\n",
       "        vertical-align: middle;\n",
       "    }\n",
       "\n",
       "    .dataframe tbody tr th {\n",
       "        vertical-align: top;\n",
       "    }\n",
       "\n",
       "    .dataframe thead th {\n",
       "        text-align: right;\n",
       "    }\n",
       "</style>\n",
       "<table border=\"1\" class=\"dataframe\">\n",
       "  <thead>\n",
       "    <tr style=\"text-align: right;\">\n",
       "      <th></th>\n",
       "      <th>V</th>\n",
       "      <th>Y</th>\n",
       "    </tr>\n",
       "  </thead>\n",
       "  <tbody>\n",
       "    <tr>\n",
       "      <th>A</th>\n",
       "      <td>-0.279470</td>\n",
       "      <td>0.716216</td>\n",
       "    </tr>\n",
       "    <tr>\n",
       "      <th>B</th>\n",
       "      <td>-0.018418</td>\n",
       "      <td>-0.032384</td>\n",
       "    </tr>\n",
       "    <tr>\n",
       "      <th>C</th>\n",
       "      <td>0.258648</td>\n",
       "      <td>-0.544527</td>\n",
       "    </tr>\n",
       "    <tr>\n",
       "      <th>D</th>\n",
       "      <td>0.856849</td>\n",
       "      <td>-0.892781</td>\n",
       "    </tr>\n",
       "    <tr>\n",
       "      <th>E</th>\n",
       "      <td>0.293996</td>\n",
       "      <td>-0.601275</td>\n",
       "    </tr>\n",
       "    <tr>\n",
       "      <th>F</th>\n",
       "      <td>0.541522</td>\n",
       "      <td>-0.243133</td>\n",
       "    </tr>\n",
       "  </tbody>\n",
       "</table>\n",
       "</div>"
      ],
      "text/plain": [
       "          V         Y\n",
       "A -0.279470  0.716216\n",
       "B -0.018418 -0.032384\n",
       "C  0.258648 -0.544527\n",
       "D  0.856849 -0.892781\n",
       "E  0.293996 -0.601275\n",
       "F  0.541522 -0.243133"
      ]
     },
     "execution_count": 305,
     "metadata": {},
     "output_type": "execute_result"
    }
   ],
   "source": [
    "df2[[\"V\",\"Y\"]]"
   ]
  },
  {
   "cell_type": "code",
   "execution_count": 306,
   "id": "4bc30aad",
   "metadata": {},
   "outputs": [
    {
     "data": {
      "text/html": [
       "<div>\n",
       "<style scoped>\n",
       "    .dataframe tbody tr th:only-of-type {\n",
       "        vertical-align: middle;\n",
       "    }\n",
       "\n",
       "    .dataframe tbody tr th {\n",
       "        vertical-align: top;\n",
       "    }\n",
       "\n",
       "    .dataframe thead th {\n",
       "        text-align: right;\n",
       "    }\n",
       "</style>\n",
       "<table border=\"1\" class=\"dataframe\">\n",
       "  <thead>\n",
       "    <tr style=\"text-align: right;\">\n",
       "      <th></th>\n",
       "      <th>U</th>\n",
       "      <th>V</th>\n",
       "      <th>W</th>\n",
       "      <th>X</th>\n",
       "      <th>Y</th>\n",
       "      <th>Z</th>\n",
       "    </tr>\n",
       "  </thead>\n",
       "  <tbody>\n",
       "    <tr>\n",
       "      <th>A</th>\n",
       "      <td>0.628910</td>\n",
       "      <td>-0.279470</td>\n",
       "      <td>0.488236</td>\n",
       "      <td>-0.168917</td>\n",
       "      <td>0.716216</td>\n",
       "      <td>0.248080</td>\n",
       "    </tr>\n",
       "    <tr>\n",
       "      <th>B</th>\n",
       "      <td>-1.000327</td>\n",
       "      <td>-0.018418</td>\n",
       "      <td>2.558664</td>\n",
       "      <td>0.549419</td>\n",
       "      <td>-0.032384</td>\n",
       "      <td>-0.378874</td>\n",
       "    </tr>\n",
       "    <tr>\n",
       "      <th>C</th>\n",
       "      <td>-2.170053</td>\n",
       "      <td>0.258648</td>\n",
       "      <td>-0.143731</td>\n",
       "      <td>-0.969244</td>\n",
       "      <td>-0.544527</td>\n",
       "      <td>0.733151</td>\n",
       "    </tr>\n",
       "    <tr>\n",
       "      <th>D</th>\n",
       "      <td>-0.854696</td>\n",
       "      <td>0.856849</td>\n",
       "      <td>1.391035</td>\n",
       "      <td>0.616090</td>\n",
       "      <td>-0.892781</td>\n",
       "      <td>1.963631</td>\n",
       "    </tr>\n",
       "    <tr>\n",
       "      <th>E</th>\n",
       "      <td>0.205118</td>\n",
       "      <td>0.293996</td>\n",
       "      <td>-1.232134</td>\n",
       "      <td>0.434619</td>\n",
       "      <td>-0.601275</td>\n",
       "      <td>0.698382</td>\n",
       "    </tr>\n",
       "    <tr>\n",
       "      <th>F</th>\n",
       "      <td>1.214149</td>\n",
       "      <td>0.541522</td>\n",
       "      <td>-0.722230</td>\n",
       "      <td>-0.553653</td>\n",
       "      <td>-0.243133</td>\n",
       "      <td>-0.478671</td>\n",
       "    </tr>\n",
       "  </tbody>\n",
       "</table>\n",
       "</div>"
      ],
      "text/plain": [
       "          U         V         W         X         Y         Z\n",
       "A  0.628910 -0.279470  0.488236 -0.168917  0.716216  0.248080\n",
       "B -1.000327 -0.018418  2.558664  0.549419 -0.032384 -0.378874\n",
       "C -2.170053  0.258648 -0.143731 -0.969244 -0.544527  0.733151\n",
       "D -0.854696  0.856849  1.391035  0.616090 -0.892781  1.963631\n",
       "E  0.205118  0.293996 -1.232134  0.434619 -0.601275  0.698382\n",
       "F  1.214149  0.541522 -0.722230 -0.553653 -0.243133 -0.478671"
      ]
     },
     "execution_count": 306,
     "metadata": {},
     "output_type": "execute_result"
    }
   ],
   "source": [
    "df2"
   ]
  },
  {
   "cell_type": "code",
   "execution_count": 307,
   "id": "d5e22560",
   "metadata": {},
   "outputs": [
    {
     "ename": "KeyError",
     "evalue": "'A'",
     "output_type": "error",
     "traceback": [
      "\u001b[1;31m---------------------------------------------------------------------------\u001b[0m",
      "\u001b[1;31mKeyError\u001b[0m                                  Traceback (most recent call last)",
      "\u001b[1;32m~\\anaconda3\\lib\\site-packages\\pandas\\core\\indexes\\base.py\u001b[0m in \u001b[0;36mget_loc\u001b[1;34m(self, key, method, tolerance)\u001b[0m\n\u001b[0;32m   3628\u001b[0m             \u001b[1;32mtry\u001b[0m\u001b[1;33m:\u001b[0m\u001b[1;33m\u001b[0m\u001b[1;33m\u001b[0m\u001b[0m\n\u001b[1;32m-> 3629\u001b[1;33m                 \u001b[1;32mreturn\u001b[0m \u001b[0mself\u001b[0m\u001b[1;33m.\u001b[0m\u001b[0m_engine\u001b[0m\u001b[1;33m.\u001b[0m\u001b[0mget_loc\u001b[0m\u001b[1;33m(\u001b[0m\u001b[0mcasted_key\u001b[0m\u001b[1;33m)\u001b[0m\u001b[1;33m\u001b[0m\u001b[1;33m\u001b[0m\u001b[0m\n\u001b[0m\u001b[0;32m   3630\u001b[0m             \u001b[1;32mexcept\u001b[0m \u001b[0mKeyError\u001b[0m \u001b[1;32mas\u001b[0m \u001b[0merr\u001b[0m\u001b[1;33m:\u001b[0m\u001b[1;33m\u001b[0m\u001b[1;33m\u001b[0m\u001b[0m\n",
      "\u001b[1;32m~\\anaconda3\\lib\\site-packages\\pandas\\_libs\\index.pyx\u001b[0m in \u001b[0;36mpandas._libs.index.IndexEngine.get_loc\u001b[1;34m()\u001b[0m\n",
      "\u001b[1;32m~\\anaconda3\\lib\\site-packages\\pandas\\_libs\\index.pyx\u001b[0m in \u001b[0;36mpandas._libs.index.IndexEngine.get_loc\u001b[1;34m()\u001b[0m\n",
      "\u001b[1;32mpandas\\_libs\\hashtable_class_helper.pxi\u001b[0m in \u001b[0;36mpandas._libs.hashtable.PyObjectHashTable.get_item\u001b[1;34m()\u001b[0m\n",
      "\u001b[1;32mpandas\\_libs\\hashtable_class_helper.pxi\u001b[0m in \u001b[0;36mpandas._libs.hashtable.PyObjectHashTable.get_item\u001b[1;34m()\u001b[0m\n",
      "\u001b[1;31mKeyError\u001b[0m: 'A'",
      "\nThe above exception was the direct cause of the following exception:\n",
      "\u001b[1;31mKeyError\u001b[0m                                  Traceback (most recent call last)",
      "\u001b[1;32m~\\AppData\\Local\\Temp\\ipykernel_9424\\1603729798.py\u001b[0m in \u001b[0;36m<module>\u001b[1;34m\u001b[0m\n\u001b[1;32m----> 1\u001b[1;33m \u001b[0mdf2\u001b[0m\u001b[1;33m[\u001b[0m\u001b[1;34m\"A\"\u001b[0m\u001b[1;33m]\u001b[0m\u001b[1;33m\u001b[0m\u001b[1;33m\u001b[0m\u001b[0m\n\u001b[0m",
      "\u001b[1;32m~\\anaconda3\\lib\\site-packages\\pandas\\core\\frame.py\u001b[0m in \u001b[0;36m__getitem__\u001b[1;34m(self, key)\u001b[0m\n\u001b[0;32m   3503\u001b[0m             \u001b[1;32mif\u001b[0m \u001b[0mself\u001b[0m\u001b[1;33m.\u001b[0m\u001b[0mcolumns\u001b[0m\u001b[1;33m.\u001b[0m\u001b[0mnlevels\u001b[0m \u001b[1;33m>\u001b[0m \u001b[1;36m1\u001b[0m\u001b[1;33m:\u001b[0m\u001b[1;33m\u001b[0m\u001b[1;33m\u001b[0m\u001b[0m\n\u001b[0;32m   3504\u001b[0m                 \u001b[1;32mreturn\u001b[0m \u001b[0mself\u001b[0m\u001b[1;33m.\u001b[0m\u001b[0m_getitem_multilevel\u001b[0m\u001b[1;33m(\u001b[0m\u001b[0mkey\u001b[0m\u001b[1;33m)\u001b[0m\u001b[1;33m\u001b[0m\u001b[1;33m\u001b[0m\u001b[0m\n\u001b[1;32m-> 3505\u001b[1;33m             \u001b[0mindexer\u001b[0m \u001b[1;33m=\u001b[0m \u001b[0mself\u001b[0m\u001b[1;33m.\u001b[0m\u001b[0mcolumns\u001b[0m\u001b[1;33m.\u001b[0m\u001b[0mget_loc\u001b[0m\u001b[1;33m(\u001b[0m\u001b[0mkey\u001b[0m\u001b[1;33m)\u001b[0m\u001b[1;33m\u001b[0m\u001b[1;33m\u001b[0m\u001b[0m\n\u001b[0m\u001b[0;32m   3506\u001b[0m             \u001b[1;32mif\u001b[0m \u001b[0mis_integer\u001b[0m\u001b[1;33m(\u001b[0m\u001b[0mindexer\u001b[0m\u001b[1;33m)\u001b[0m\u001b[1;33m:\u001b[0m\u001b[1;33m\u001b[0m\u001b[1;33m\u001b[0m\u001b[0m\n\u001b[0;32m   3507\u001b[0m                 \u001b[0mindexer\u001b[0m \u001b[1;33m=\u001b[0m \u001b[1;33m[\u001b[0m\u001b[0mindexer\u001b[0m\u001b[1;33m]\u001b[0m\u001b[1;33m\u001b[0m\u001b[1;33m\u001b[0m\u001b[0m\n",
      "\u001b[1;32m~\\anaconda3\\lib\\site-packages\\pandas\\core\\indexes\\base.py\u001b[0m in \u001b[0;36mget_loc\u001b[1;34m(self, key, method, tolerance)\u001b[0m\n\u001b[0;32m   3629\u001b[0m                 \u001b[1;32mreturn\u001b[0m \u001b[0mself\u001b[0m\u001b[1;33m.\u001b[0m\u001b[0m_engine\u001b[0m\u001b[1;33m.\u001b[0m\u001b[0mget_loc\u001b[0m\u001b[1;33m(\u001b[0m\u001b[0mcasted_key\u001b[0m\u001b[1;33m)\u001b[0m\u001b[1;33m\u001b[0m\u001b[1;33m\u001b[0m\u001b[0m\n\u001b[0;32m   3630\u001b[0m             \u001b[1;32mexcept\u001b[0m \u001b[0mKeyError\u001b[0m \u001b[1;32mas\u001b[0m \u001b[0merr\u001b[0m\u001b[1;33m:\u001b[0m\u001b[1;33m\u001b[0m\u001b[1;33m\u001b[0m\u001b[0m\n\u001b[1;32m-> 3631\u001b[1;33m                 \u001b[1;32mraise\u001b[0m \u001b[0mKeyError\u001b[0m\u001b[1;33m(\u001b[0m\u001b[0mkey\u001b[0m\u001b[1;33m)\u001b[0m \u001b[1;32mfrom\u001b[0m \u001b[0merr\u001b[0m\u001b[1;33m\u001b[0m\u001b[1;33m\u001b[0m\u001b[0m\n\u001b[0m\u001b[0;32m   3632\u001b[0m             \u001b[1;32mexcept\u001b[0m \u001b[0mTypeError\u001b[0m\u001b[1;33m:\u001b[0m\u001b[1;33m\u001b[0m\u001b[1;33m\u001b[0m\u001b[0m\n\u001b[0;32m   3633\u001b[0m                 \u001b[1;31m# If we have a listlike key, _check_indexing_error will raise\u001b[0m\u001b[1;33m\u001b[0m\u001b[1;33m\u001b[0m\u001b[0m\n",
      "\u001b[1;31mKeyError\u001b[0m: 'A'"
     ]
    }
   ],
   "source": [
    "df2[\"A\"]"
   ]
  },
  {
   "cell_type": "code",
   "execution_count": 308,
   "id": "60d52938",
   "metadata": {},
   "outputs": [
    {
     "data": {
      "text/html": [
       "<div>\n",
       "<style scoped>\n",
       "    .dataframe tbody tr th:only-of-type {\n",
       "        vertical-align: middle;\n",
       "    }\n",
       "\n",
       "    .dataframe tbody tr th {\n",
       "        vertical-align: top;\n",
       "    }\n",
       "\n",
       "    .dataframe thead th {\n",
       "        text-align: right;\n",
       "    }\n",
       "</style>\n",
       "<table border=\"1\" class=\"dataframe\">\n",
       "  <thead>\n",
       "    <tr style=\"text-align: right;\">\n",
       "      <th></th>\n",
       "      <th>U</th>\n",
       "      <th>V</th>\n",
       "      <th>W</th>\n",
       "      <th>X</th>\n",
       "      <th>Y</th>\n",
       "      <th>Z</th>\n",
       "    </tr>\n",
       "  </thead>\n",
       "  <tbody>\n",
       "    <tr>\n",
       "      <th>A</th>\n",
       "      <td>0.628910</td>\n",
       "      <td>-0.279470</td>\n",
       "      <td>0.488236</td>\n",
       "      <td>-0.168917</td>\n",
       "      <td>0.716216</td>\n",
       "      <td>0.248080</td>\n",
       "    </tr>\n",
       "    <tr>\n",
       "      <th>B</th>\n",
       "      <td>-1.000327</td>\n",
       "      <td>-0.018418</td>\n",
       "      <td>2.558664</td>\n",
       "      <td>0.549419</td>\n",
       "      <td>-0.032384</td>\n",
       "      <td>-0.378874</td>\n",
       "    </tr>\n",
       "    <tr>\n",
       "      <th>C</th>\n",
       "      <td>-2.170053</td>\n",
       "      <td>0.258648</td>\n",
       "      <td>-0.143731</td>\n",
       "      <td>-0.969244</td>\n",
       "      <td>-0.544527</td>\n",
       "      <td>0.733151</td>\n",
       "    </tr>\n",
       "    <tr>\n",
       "      <th>D</th>\n",
       "      <td>-0.854696</td>\n",
       "      <td>0.856849</td>\n",
       "      <td>1.391035</td>\n",
       "      <td>0.616090</td>\n",
       "      <td>-0.892781</td>\n",
       "      <td>1.963631</td>\n",
       "    </tr>\n",
       "    <tr>\n",
       "      <th>E</th>\n",
       "      <td>0.205118</td>\n",
       "      <td>0.293996</td>\n",
       "      <td>-1.232134</td>\n",
       "      <td>0.434619</td>\n",
       "      <td>-0.601275</td>\n",
       "      <td>0.698382</td>\n",
       "    </tr>\n",
       "    <tr>\n",
       "      <th>F</th>\n",
       "      <td>1.214149</td>\n",
       "      <td>0.541522</td>\n",
       "      <td>-0.722230</td>\n",
       "      <td>-0.553653</td>\n",
       "      <td>-0.243133</td>\n",
       "      <td>-0.478671</td>\n",
       "    </tr>\n",
       "  </tbody>\n",
       "</table>\n",
       "</div>"
      ],
      "text/plain": [
       "          U         V         W         X         Y         Z\n",
       "A  0.628910 -0.279470  0.488236 -0.168917  0.716216  0.248080\n",
       "B -1.000327 -0.018418  2.558664  0.549419 -0.032384 -0.378874\n",
       "C -2.170053  0.258648 -0.143731 -0.969244 -0.544527  0.733151\n",
       "D -0.854696  0.856849  1.391035  0.616090 -0.892781  1.963631\n",
       "E  0.205118  0.293996 -1.232134  0.434619 -0.601275  0.698382\n",
       "F  1.214149  0.541522 -0.722230 -0.553653 -0.243133 -0.478671"
      ]
     },
     "execution_count": 308,
     "metadata": {},
     "output_type": "execute_result"
    }
   ],
   "source": [
    "df2"
   ]
  },
  {
   "cell_type": "code",
   "execution_count": 309,
   "id": "7ba4eaf9",
   "metadata": {},
   "outputs": [
    {
     "data": {
      "text/plain": [
       "U    0.628910\n",
       "V   -0.279470\n",
       "W    0.488236\n",
       "X   -0.168917\n",
       "Y    0.716216\n",
       "Z    0.248080\n",
       "Name: A, dtype: float64"
      ]
     },
     "execution_count": 309,
     "metadata": {},
     "output_type": "execute_result"
    }
   ],
   "source": [
    "#loc\n",
    "df2.loc[\"A\"]"
   ]
  },
  {
   "cell_type": "code",
   "execution_count": 310,
   "id": "324aad4e",
   "metadata": {
    "collapsed": true
   },
   "outputs": [
    {
     "ename": "TypeError",
     "evalue": "Cannot index by location index with a non-integer key",
     "output_type": "error",
     "traceback": [
      "\u001b[1;31m---------------------------------------------------------------------------\u001b[0m",
      "\u001b[1;31mTypeError\u001b[0m                                 Traceback (most recent call last)",
      "\u001b[1;32m~\\AppData\\Local\\Temp\\ipykernel_9424\\2517625384.py\u001b[0m in \u001b[0;36m<module>\u001b[1;34m\u001b[0m\n\u001b[1;32m----> 1\u001b[1;33m \u001b[0mdf2\u001b[0m\u001b[1;33m.\u001b[0m\u001b[0miloc\u001b[0m\u001b[1;33m[\u001b[0m\u001b[1;34m\"A\"\u001b[0m\u001b[1;33m]\u001b[0m\u001b[1;33m\u001b[0m\u001b[1;33m\u001b[0m\u001b[0m\n\u001b[0m",
      "\u001b[1;32m~\\anaconda3\\lib\\site-packages\\pandas\\core\\indexing.py\u001b[0m in \u001b[0;36m__getitem__\u001b[1;34m(self, key)\u001b[0m\n\u001b[0;32m    965\u001b[0m \u001b[1;33m\u001b[0m\u001b[0m\n\u001b[0;32m    966\u001b[0m             \u001b[0mmaybe_callable\u001b[0m \u001b[1;33m=\u001b[0m \u001b[0mcom\u001b[0m\u001b[1;33m.\u001b[0m\u001b[0mapply_if_callable\u001b[0m\u001b[1;33m(\u001b[0m\u001b[0mkey\u001b[0m\u001b[1;33m,\u001b[0m \u001b[0mself\u001b[0m\u001b[1;33m.\u001b[0m\u001b[0mobj\u001b[0m\u001b[1;33m)\u001b[0m\u001b[1;33m\u001b[0m\u001b[1;33m\u001b[0m\u001b[0m\n\u001b[1;32m--> 967\u001b[1;33m             \u001b[1;32mreturn\u001b[0m \u001b[0mself\u001b[0m\u001b[1;33m.\u001b[0m\u001b[0m_getitem_axis\u001b[0m\u001b[1;33m(\u001b[0m\u001b[0mmaybe_callable\u001b[0m\u001b[1;33m,\u001b[0m \u001b[0maxis\u001b[0m\u001b[1;33m=\u001b[0m\u001b[0maxis\u001b[0m\u001b[1;33m)\u001b[0m\u001b[1;33m\u001b[0m\u001b[1;33m\u001b[0m\u001b[0m\n\u001b[0m\u001b[0;32m    968\u001b[0m \u001b[1;33m\u001b[0m\u001b[0m\n\u001b[0;32m    969\u001b[0m     \u001b[1;32mdef\u001b[0m \u001b[0m_is_scalar_access\u001b[0m\u001b[1;33m(\u001b[0m\u001b[0mself\u001b[0m\u001b[1;33m,\u001b[0m \u001b[0mkey\u001b[0m\u001b[1;33m:\u001b[0m \u001b[0mtuple\u001b[0m\u001b[1;33m)\u001b[0m\u001b[1;33m:\u001b[0m\u001b[1;33m\u001b[0m\u001b[1;33m\u001b[0m\u001b[0m\n",
      "\u001b[1;32m~\\anaconda3\\lib\\site-packages\\pandas\\core\\indexing.py\u001b[0m in \u001b[0;36m_getitem_axis\u001b[1;34m(self, key, axis)\u001b[0m\n\u001b[0;32m   1518\u001b[0m             \u001b[0mkey\u001b[0m \u001b[1;33m=\u001b[0m \u001b[0mitem_from_zerodim\u001b[0m\u001b[1;33m(\u001b[0m\u001b[0mkey\u001b[0m\u001b[1;33m)\u001b[0m\u001b[1;33m\u001b[0m\u001b[1;33m\u001b[0m\u001b[0m\n\u001b[0;32m   1519\u001b[0m             \u001b[1;32mif\u001b[0m \u001b[1;32mnot\u001b[0m \u001b[0mis_integer\u001b[0m\u001b[1;33m(\u001b[0m\u001b[0mkey\u001b[0m\u001b[1;33m)\u001b[0m\u001b[1;33m:\u001b[0m\u001b[1;33m\u001b[0m\u001b[1;33m\u001b[0m\u001b[0m\n\u001b[1;32m-> 1520\u001b[1;33m                 \u001b[1;32mraise\u001b[0m \u001b[0mTypeError\u001b[0m\u001b[1;33m(\u001b[0m\u001b[1;34m\"Cannot index by location index with a non-integer key\"\u001b[0m\u001b[1;33m)\u001b[0m\u001b[1;33m\u001b[0m\u001b[1;33m\u001b[0m\u001b[0m\n\u001b[0m\u001b[0;32m   1521\u001b[0m \u001b[1;33m\u001b[0m\u001b[0m\n\u001b[0;32m   1522\u001b[0m             \u001b[1;31m# validate the location\u001b[0m\u001b[1;33m\u001b[0m\u001b[1;33m\u001b[0m\u001b[0m\n",
      "\u001b[1;31mTypeError\u001b[0m: Cannot index by location index with a non-integer key"
     ]
    }
   ],
   "source": [
    "df2.iloc[\"A\"] # A is not an index"
   ]
  },
  {
   "cell_type": "code",
   "execution_count": 311,
   "id": "e6f75307",
   "metadata": {},
   "outputs": [
    {
     "data": {
      "text/plain": [
       "U    0.628910\n",
       "V   -0.279470\n",
       "W    0.488236\n",
       "X   -0.168917\n",
       "Y    0.716216\n",
       "Z    0.248080\n",
       "Name: A, dtype: float64"
      ]
     },
     "execution_count": 311,
     "metadata": {},
     "output_type": "execute_result"
    }
   ],
   "source": [
    "df2.iloc[0] "
   ]
  },
  {
   "cell_type": "code",
   "execution_count": 312,
   "id": "cd20c381",
   "metadata": {},
   "outputs": [
    {
     "data": {
      "text/html": [
       "<div>\n",
       "<style scoped>\n",
       "    .dataframe tbody tr th:only-of-type {\n",
       "        vertical-align: middle;\n",
       "    }\n",
       "\n",
       "    .dataframe tbody tr th {\n",
       "        vertical-align: top;\n",
       "    }\n",
       "\n",
       "    .dataframe thead th {\n",
       "        text-align: right;\n",
       "    }\n",
       "</style>\n",
       "<table border=\"1\" class=\"dataframe\">\n",
       "  <thead>\n",
       "    <tr style=\"text-align: right;\">\n",
       "      <th></th>\n",
       "      <th>U</th>\n",
       "      <th>V</th>\n",
       "      <th>W</th>\n",
       "      <th>X</th>\n",
       "      <th>Y</th>\n",
       "      <th>Z</th>\n",
       "    </tr>\n",
       "  </thead>\n",
       "  <tbody>\n",
       "    <tr>\n",
       "      <th>A</th>\n",
       "      <td>0.628910</td>\n",
       "      <td>-0.279470</td>\n",
       "      <td>0.488236</td>\n",
       "      <td>-0.168917</td>\n",
       "      <td>0.716216</td>\n",
       "      <td>0.248080</td>\n",
       "    </tr>\n",
       "    <tr>\n",
       "      <th>B</th>\n",
       "      <td>-1.000327</td>\n",
       "      <td>-0.018418</td>\n",
       "      <td>2.558664</td>\n",
       "      <td>0.549419</td>\n",
       "      <td>-0.032384</td>\n",
       "      <td>-0.378874</td>\n",
       "    </tr>\n",
       "    <tr>\n",
       "      <th>C</th>\n",
       "      <td>-2.170053</td>\n",
       "      <td>0.258648</td>\n",
       "      <td>-0.143731</td>\n",
       "      <td>-0.969244</td>\n",
       "      <td>-0.544527</td>\n",
       "      <td>0.733151</td>\n",
       "    </tr>\n",
       "    <tr>\n",
       "      <th>D</th>\n",
       "      <td>-0.854696</td>\n",
       "      <td>0.856849</td>\n",
       "      <td>1.391035</td>\n",
       "      <td>0.616090</td>\n",
       "      <td>-0.892781</td>\n",
       "      <td>1.963631</td>\n",
       "    </tr>\n",
       "    <tr>\n",
       "      <th>E</th>\n",
       "      <td>0.205118</td>\n",
       "      <td>0.293996</td>\n",
       "      <td>-1.232134</td>\n",
       "      <td>0.434619</td>\n",
       "      <td>-0.601275</td>\n",
       "      <td>0.698382</td>\n",
       "    </tr>\n",
       "    <tr>\n",
       "      <th>F</th>\n",
       "      <td>1.214149</td>\n",
       "      <td>0.541522</td>\n",
       "      <td>-0.722230</td>\n",
       "      <td>-0.553653</td>\n",
       "      <td>-0.243133</td>\n",
       "      <td>-0.478671</td>\n",
       "    </tr>\n",
       "  </tbody>\n",
       "</table>\n",
       "</div>"
      ],
      "text/plain": [
       "          U         V         W         X         Y         Z\n",
       "A  0.628910 -0.279470  0.488236 -0.168917  0.716216  0.248080\n",
       "B -1.000327 -0.018418  2.558664  0.549419 -0.032384 -0.378874\n",
       "C -2.170053  0.258648 -0.143731 -0.969244 -0.544527  0.733151\n",
       "D -0.854696  0.856849  1.391035  0.616090 -0.892781  1.963631\n",
       "E  0.205118  0.293996 -1.232134  0.434619 -0.601275  0.698382\n",
       "F  1.214149  0.541522 -0.722230 -0.553653 -0.243133 -0.478671"
      ]
     },
     "execution_count": 312,
     "metadata": {},
     "output_type": "execute_result"
    }
   ],
   "source": [
    "df2"
   ]
  },
  {
   "cell_type": "code",
   "execution_count": 313,
   "id": "9fef9dd7",
   "metadata": {},
   "outputs": [
    {
     "data": {
      "text/html": [
       "<div>\n",
       "<style scoped>\n",
       "    .dataframe tbody tr th:only-of-type {\n",
       "        vertical-align: middle;\n",
       "    }\n",
       "\n",
       "    .dataframe tbody tr th {\n",
       "        vertical-align: top;\n",
       "    }\n",
       "\n",
       "    .dataframe thead th {\n",
       "        text-align: right;\n",
       "    }\n",
       "</style>\n",
       "<table border=\"1\" class=\"dataframe\">\n",
       "  <thead>\n",
       "    <tr style=\"text-align: right;\">\n",
       "      <th></th>\n",
       "      <th>U</th>\n",
       "      <th>V</th>\n",
       "      <th>W</th>\n",
       "      <th>X</th>\n",
       "      <th>Y</th>\n",
       "      <th>Z</th>\n",
       "    </tr>\n",
       "  </thead>\n",
       "  <tbody>\n",
       "    <tr>\n",
       "      <th>A</th>\n",
       "      <td>0.628910</td>\n",
       "      <td>-0.279470</td>\n",
       "      <td>0.488236</td>\n",
       "      <td>-0.168917</td>\n",
       "      <td>0.716216</td>\n",
       "      <td>0.248080</td>\n",
       "    </tr>\n",
       "    <tr>\n",
       "      <th>B</th>\n",
       "      <td>-1.000327</td>\n",
       "      <td>-0.018418</td>\n",
       "      <td>2.558664</td>\n",
       "      <td>0.549419</td>\n",
       "      <td>-0.032384</td>\n",
       "      <td>-0.378874</td>\n",
       "    </tr>\n",
       "    <tr>\n",
       "      <th>C</th>\n",
       "      <td>-2.170053</td>\n",
       "      <td>0.258648</td>\n",
       "      <td>-0.143731</td>\n",
       "      <td>-0.969244</td>\n",
       "      <td>-0.544527</td>\n",
       "      <td>0.733151</td>\n",
       "    </tr>\n",
       "  </tbody>\n",
       "</table>\n",
       "</div>"
      ],
      "text/plain": [
       "          U         V         W         X         Y         Z\n",
       "A  0.628910 -0.279470  0.488236 -0.168917  0.716216  0.248080\n",
       "B -1.000327 -0.018418  2.558664  0.549419 -0.032384 -0.378874\n",
       "C -2.170053  0.258648 -0.143731 -0.969244 -0.544527  0.733151"
      ]
     },
     "execution_count": 313,
     "metadata": {},
     "output_type": "execute_result"
    }
   ],
   "source": [
    "df2.loc[\"A\":\"C\"]  # last index included"
   ]
  },
  {
   "cell_type": "code",
   "execution_count": null,
   "id": "d32e8b63",
   "metadata": {},
   "outputs": [],
   "source": [
    "# arr[2:3,3:4]"
   ]
  },
  {
   "cell_type": "code",
   "execution_count": null,
   "id": "1360e219",
   "metadata": {},
   "outputs": [],
   "source": []
  },
  {
   "cell_type": "code",
   "execution_count": 314,
   "id": "300a1cf4",
   "metadata": {},
   "outputs": [
    {
     "data": {
      "text/plain": [
       "A   -0.168917\n",
       "B    0.549419\n",
       "C   -0.969244\n",
       "Name: X, dtype: float64"
      ]
     },
     "execution_count": 314,
     "metadata": {},
     "output_type": "execute_result"
    }
   ],
   "source": [
    "df2.loc[\"A\":\"C\"][\"X\"]"
   ]
  },
  {
   "cell_type": "code",
   "execution_count": 316,
   "id": "38760043",
   "metadata": {},
   "outputs": [
    {
     "data": {
      "text/plain": [
       "A   -0.168917\n",
       "B    0.549419\n",
       "C   -0.969244\n",
       "Name: X, dtype: float64"
      ]
     },
     "execution_count": 316,
     "metadata": {},
     "output_type": "execute_result"
    }
   ],
   "source": [
    "df2.loc[\"A\":\"C\",\"X\"]"
   ]
  },
  {
   "cell_type": "code",
   "execution_count": 319,
   "id": "853a5e33",
   "metadata": {},
   "outputs": [
    {
     "data": {
      "text/html": [
       "<div>\n",
       "<style scoped>\n",
       "    .dataframe tbody tr th:only-of-type {\n",
       "        vertical-align: middle;\n",
       "    }\n",
       "\n",
       "    .dataframe tbody tr th {\n",
       "        vertical-align: top;\n",
       "    }\n",
       "\n",
       "    .dataframe thead th {\n",
       "        text-align: right;\n",
       "    }\n",
       "</style>\n",
       "<table border=\"1\" class=\"dataframe\">\n",
       "  <thead>\n",
       "    <tr style=\"text-align: right;\">\n",
       "      <th></th>\n",
       "      <th>X</th>\n",
       "      <th>Y</th>\n",
       "    </tr>\n",
       "  </thead>\n",
       "  <tbody>\n",
       "    <tr>\n",
       "      <th>A</th>\n",
       "      <td>-0.168917</td>\n",
       "      <td>0.716216</td>\n",
       "    </tr>\n",
       "    <tr>\n",
       "      <th>B</th>\n",
       "      <td>0.549419</td>\n",
       "      <td>-0.032384</td>\n",
       "    </tr>\n",
       "    <tr>\n",
       "      <th>C</th>\n",
       "      <td>-0.969244</td>\n",
       "      <td>-0.544527</td>\n",
       "    </tr>\n",
       "  </tbody>\n",
       "</table>\n",
       "</div>"
      ],
      "text/plain": [
       "          X         Y\n",
       "A -0.168917  0.716216\n",
       "B  0.549419 -0.032384\n",
       "C -0.969244 -0.544527"
      ]
     },
     "execution_count": 319,
     "metadata": {},
     "output_type": "execute_result"
    }
   ],
   "source": [
    "df2.loc[\"A\":\"C\"][[\"X\",\"Y\"]]"
   ]
  },
  {
   "cell_type": "code",
   "execution_count": 318,
   "id": "4ad4cdd0",
   "metadata": {},
   "outputs": [
    {
     "data": {
      "text/html": [
       "<div>\n",
       "<style scoped>\n",
       "    .dataframe tbody tr th:only-of-type {\n",
       "        vertical-align: middle;\n",
       "    }\n",
       "\n",
       "    .dataframe tbody tr th {\n",
       "        vertical-align: top;\n",
       "    }\n",
       "\n",
       "    .dataframe thead th {\n",
       "        text-align: right;\n",
       "    }\n",
       "</style>\n",
       "<table border=\"1\" class=\"dataframe\">\n",
       "  <thead>\n",
       "    <tr style=\"text-align: right;\">\n",
       "      <th></th>\n",
       "      <th>X</th>\n",
       "      <th>Y</th>\n",
       "    </tr>\n",
       "  </thead>\n",
       "  <tbody>\n",
       "    <tr>\n",
       "      <th>A</th>\n",
       "      <td>-0.168917</td>\n",
       "      <td>0.716216</td>\n",
       "    </tr>\n",
       "    <tr>\n",
       "      <th>B</th>\n",
       "      <td>0.549419</td>\n",
       "      <td>-0.032384</td>\n",
       "    </tr>\n",
       "    <tr>\n",
       "      <th>C</th>\n",
       "      <td>-0.969244</td>\n",
       "      <td>-0.544527</td>\n",
       "    </tr>\n",
       "  </tbody>\n",
       "</table>\n",
       "</div>"
      ],
      "text/plain": [
       "          X         Y\n",
       "A -0.168917  0.716216\n",
       "B  0.549419 -0.032384\n",
       "C -0.969244 -0.544527"
      ]
     },
     "execution_count": 318,
     "metadata": {},
     "output_type": "execute_result"
    }
   ],
   "source": [
    "df2.loc[\"A\":\"C\",[\"X\",\"Y\"]]   # arr[2:3,3:4]"
   ]
  },
  {
   "cell_type": "code",
   "execution_count": null,
   "id": "94038a9b",
   "metadata": {},
   "outputs": [],
   "source": []
  },
  {
   "cell_type": "code",
   "execution_count": 320,
   "id": "711d2383",
   "metadata": {},
   "outputs": [
    {
     "data": {
      "text/html": [
       "<div>\n",
       "<style scoped>\n",
       "    .dataframe tbody tr th:only-of-type {\n",
       "        vertical-align: middle;\n",
       "    }\n",
       "\n",
       "    .dataframe tbody tr th {\n",
       "        vertical-align: top;\n",
       "    }\n",
       "\n",
       "    .dataframe thead th {\n",
       "        text-align: right;\n",
       "    }\n",
       "</style>\n",
       "<table border=\"1\" class=\"dataframe\">\n",
       "  <thead>\n",
       "    <tr style=\"text-align: right;\">\n",
       "      <th></th>\n",
       "      <th>U</th>\n",
       "      <th>V</th>\n",
       "      <th>W</th>\n",
       "      <th>X</th>\n",
       "      <th>Y</th>\n",
       "      <th>Z</th>\n",
       "    </tr>\n",
       "  </thead>\n",
       "  <tbody>\n",
       "    <tr>\n",
       "      <th>A</th>\n",
       "      <td>0.628910</td>\n",
       "      <td>-0.279470</td>\n",
       "      <td>0.488236</td>\n",
       "      <td>-0.168917</td>\n",
       "      <td>0.716216</td>\n",
       "      <td>0.248080</td>\n",
       "    </tr>\n",
       "    <tr>\n",
       "      <th>B</th>\n",
       "      <td>-1.000327</td>\n",
       "      <td>-0.018418</td>\n",
       "      <td>2.558664</td>\n",
       "      <td>0.549419</td>\n",
       "      <td>-0.032384</td>\n",
       "      <td>-0.378874</td>\n",
       "    </tr>\n",
       "    <tr>\n",
       "      <th>C</th>\n",
       "      <td>-2.170053</td>\n",
       "      <td>0.258648</td>\n",
       "      <td>-0.143731</td>\n",
       "      <td>-0.969244</td>\n",
       "      <td>-0.544527</td>\n",
       "      <td>0.733151</td>\n",
       "    </tr>\n",
       "    <tr>\n",
       "      <th>D</th>\n",
       "      <td>-0.854696</td>\n",
       "      <td>0.856849</td>\n",
       "      <td>1.391035</td>\n",
       "      <td>0.616090</td>\n",
       "      <td>-0.892781</td>\n",
       "      <td>1.963631</td>\n",
       "    </tr>\n",
       "    <tr>\n",
       "      <th>E</th>\n",
       "      <td>0.205118</td>\n",
       "      <td>0.293996</td>\n",
       "      <td>-1.232134</td>\n",
       "      <td>0.434619</td>\n",
       "      <td>-0.601275</td>\n",
       "      <td>0.698382</td>\n",
       "    </tr>\n",
       "    <tr>\n",
       "      <th>F</th>\n",
       "      <td>1.214149</td>\n",
       "      <td>0.541522</td>\n",
       "      <td>-0.722230</td>\n",
       "      <td>-0.553653</td>\n",
       "      <td>-0.243133</td>\n",
       "      <td>-0.478671</td>\n",
       "    </tr>\n",
       "  </tbody>\n",
       "</table>\n",
       "</div>"
      ],
      "text/plain": [
       "          U         V         W         X         Y         Z\n",
       "A  0.628910 -0.279470  0.488236 -0.168917  0.716216  0.248080\n",
       "B -1.000327 -0.018418  2.558664  0.549419 -0.032384 -0.378874\n",
       "C -2.170053  0.258648 -0.143731 -0.969244 -0.544527  0.733151\n",
       "D -0.854696  0.856849  1.391035  0.616090 -0.892781  1.963631\n",
       "E  0.205118  0.293996 -1.232134  0.434619 -0.601275  0.698382\n",
       "F  1.214149  0.541522 -0.722230 -0.553653 -0.243133 -0.478671"
      ]
     },
     "execution_count": 320,
     "metadata": {},
     "output_type": "execute_result"
    }
   ],
   "source": [
    "df2"
   ]
  },
  {
   "cell_type": "code",
   "execution_count": 322,
   "id": "5ac525b3",
   "metadata": {},
   "outputs": [
    {
     "data": {
      "text/html": [
       "<div>\n",
       "<style scoped>\n",
       "    .dataframe tbody tr th:only-of-type {\n",
       "        vertical-align: middle;\n",
       "    }\n",
       "\n",
       "    .dataframe tbody tr th {\n",
       "        vertical-align: top;\n",
       "    }\n",
       "\n",
       "    .dataframe thead th {\n",
       "        text-align: right;\n",
       "    }\n",
       "</style>\n",
       "<table border=\"1\" class=\"dataframe\">\n",
       "  <thead>\n",
       "    <tr style=\"text-align: right;\">\n",
       "      <th></th>\n",
       "      <th>W</th>\n",
       "      <th>X</th>\n",
       "    </tr>\n",
       "  </thead>\n",
       "  <tbody>\n",
       "    <tr>\n",
       "      <th>E</th>\n",
       "      <td>-1.232134</td>\n",
       "      <td>0.434619</td>\n",
       "    </tr>\n",
       "    <tr>\n",
       "      <th>F</th>\n",
       "      <td>-0.722230</td>\n",
       "      <td>-0.553653</td>\n",
       "    </tr>\n",
       "  </tbody>\n",
       "</table>\n",
       "</div>"
      ],
      "text/plain": [
       "          W         X\n",
       "E -1.232134  0.434619\n",
       "F -0.722230 -0.553653"
      ]
     },
     "execution_count": 322,
     "metadata": {},
     "output_type": "execute_result"
    }
   ],
   "source": [
    "df2.loc[\"E\":\"F\",[\"W\",\"X\"]]"
   ]
  },
  {
   "cell_type": "code",
   "execution_count": 324,
   "id": "371f262a",
   "metadata": {},
   "outputs": [
    {
     "data": {
      "text/html": [
       "<div>\n",
       "<style scoped>\n",
       "    .dataframe tbody tr th:only-of-type {\n",
       "        vertical-align: middle;\n",
       "    }\n",
       "\n",
       "    .dataframe tbody tr th {\n",
       "        vertical-align: top;\n",
       "    }\n",
       "\n",
       "    .dataframe thead th {\n",
       "        text-align: right;\n",
       "    }\n",
       "</style>\n",
       "<table border=\"1\" class=\"dataframe\">\n",
       "  <thead>\n",
       "    <tr style=\"text-align: right;\">\n",
       "      <th></th>\n",
       "      <th>W</th>\n",
       "      <th>X</th>\n",
       "    </tr>\n",
       "  </thead>\n",
       "  <tbody>\n",
       "    <tr>\n",
       "      <th>E</th>\n",
       "      <td>-1.232134</td>\n",
       "      <td>0.434619</td>\n",
       "    </tr>\n",
       "    <tr>\n",
       "      <th>F</th>\n",
       "      <td>-0.722230</td>\n",
       "      <td>-0.553653</td>\n",
       "    </tr>\n",
       "  </tbody>\n",
       "</table>\n",
       "</div>"
      ],
      "text/plain": [
       "          W         X\n",
       "E -1.232134  0.434619\n",
       "F -0.722230 -0.553653"
      ]
     },
     "execution_count": 324,
     "metadata": {},
     "output_type": "execute_result"
    }
   ],
   "source": [
    "df2.loc[\"E\":\"F\"][[\"W\",\"X\"]]"
   ]
  },
  {
   "cell_type": "code",
   "execution_count": 327,
   "id": "52816dec",
   "metadata": {},
   "outputs": [
    {
     "data": {
      "text/html": [
       "<div>\n",
       "<style scoped>\n",
       "    .dataframe tbody tr th:only-of-type {\n",
       "        vertical-align: middle;\n",
       "    }\n",
       "\n",
       "    .dataframe tbody tr th {\n",
       "        vertical-align: top;\n",
       "    }\n",
       "\n",
       "    .dataframe thead th {\n",
       "        text-align: right;\n",
       "    }\n",
       "</style>\n",
       "<table border=\"1\" class=\"dataframe\">\n",
       "  <thead>\n",
       "    <tr style=\"text-align: right;\">\n",
       "      <th></th>\n",
       "      <th>U</th>\n",
       "      <th>X</th>\n",
       "    </tr>\n",
       "  </thead>\n",
       "  <tbody>\n",
       "    <tr>\n",
       "      <th>B</th>\n",
       "      <td>-1.000327</td>\n",
       "      <td>0.549419</td>\n",
       "    </tr>\n",
       "    <tr>\n",
       "      <th>C</th>\n",
       "      <td>-2.170053</td>\n",
       "      <td>-0.969244</td>\n",
       "    </tr>\n",
       "  </tbody>\n",
       "</table>\n",
       "</div>"
      ],
      "text/plain": [
       "          U         X\n",
       "B -1.000327  0.549419\n",
       "C -2.170053 -0.969244"
      ]
     },
     "execution_count": 327,
     "metadata": {},
     "output_type": "execute_result"
    }
   ],
   "source": [
    "df2.iloc[1:3][[\"U\",\"X\"]]"
   ]
  },
  {
   "cell_type": "code",
   "execution_count": 329,
   "id": "2c6463ad",
   "metadata": {},
   "outputs": [
    {
     "data": {
      "text/html": [
       "<div>\n",
       "<style scoped>\n",
       "    .dataframe tbody tr th:only-of-type {\n",
       "        vertical-align: middle;\n",
       "    }\n",
       "\n",
       "    .dataframe tbody tr th {\n",
       "        vertical-align: top;\n",
       "    }\n",
       "\n",
       "    .dataframe thead th {\n",
       "        text-align: right;\n",
       "    }\n",
       "</style>\n",
       "<table border=\"1\" class=\"dataframe\">\n",
       "  <thead>\n",
       "    <tr style=\"text-align: right;\">\n",
       "      <th></th>\n",
       "      <th>U</th>\n",
       "      <th>V</th>\n",
       "      <th>X</th>\n",
       "    </tr>\n",
       "  </thead>\n",
       "  <tbody>\n",
       "    <tr>\n",
       "      <th>B</th>\n",
       "      <td>-1.000327</td>\n",
       "      <td>-0.018418</td>\n",
       "      <td>0.549419</td>\n",
       "    </tr>\n",
       "    <tr>\n",
       "      <th>C</th>\n",
       "      <td>-2.170053</td>\n",
       "      <td>0.258648</td>\n",
       "      <td>-0.969244</td>\n",
       "    </tr>\n",
       "  </tbody>\n",
       "</table>\n",
       "</div>"
      ],
      "text/plain": [
       "          U         V         X\n",
       "B -1.000327 -0.018418  0.549419\n",
       "C -2.170053  0.258648 -0.969244"
      ]
     },
     "execution_count": 329,
     "metadata": {},
     "output_type": "execute_result"
    }
   ],
   "source": [
    "df2.iloc[1:3][[\"U\",\"V\",\"X\"]]"
   ]
  },
  {
   "cell_type": "code",
   "execution_count": 330,
   "id": "856c5ab3",
   "metadata": {},
   "outputs": [
    {
     "data": {
      "text/html": [
       "<div>\n",
       "<style scoped>\n",
       "    .dataframe tbody tr th:only-of-type {\n",
       "        vertical-align: middle;\n",
       "    }\n",
       "\n",
       "    .dataframe tbody tr th {\n",
       "        vertical-align: top;\n",
       "    }\n",
       "\n",
       "    .dataframe thead th {\n",
       "        text-align: right;\n",
       "    }\n",
       "</style>\n",
       "<table border=\"1\" class=\"dataframe\">\n",
       "  <thead>\n",
       "    <tr style=\"text-align: right;\">\n",
       "      <th></th>\n",
       "      <th>U</th>\n",
       "      <th>V</th>\n",
       "      <th>W</th>\n",
       "      <th>X</th>\n",
       "      <th>Y</th>\n",
       "      <th>Z</th>\n",
       "    </tr>\n",
       "  </thead>\n",
       "  <tbody>\n",
       "    <tr>\n",
       "      <th>A</th>\n",
       "      <td>0.628910</td>\n",
       "      <td>-0.279470</td>\n",
       "      <td>0.488236</td>\n",
       "      <td>-0.168917</td>\n",
       "      <td>0.716216</td>\n",
       "      <td>0.248080</td>\n",
       "    </tr>\n",
       "    <tr>\n",
       "      <th>B</th>\n",
       "      <td>-1.000327</td>\n",
       "      <td>-0.018418</td>\n",
       "      <td>2.558664</td>\n",
       "      <td>0.549419</td>\n",
       "      <td>-0.032384</td>\n",
       "      <td>-0.378874</td>\n",
       "    </tr>\n",
       "    <tr>\n",
       "      <th>C</th>\n",
       "      <td>-2.170053</td>\n",
       "      <td>0.258648</td>\n",
       "      <td>-0.143731</td>\n",
       "      <td>-0.969244</td>\n",
       "      <td>-0.544527</td>\n",
       "      <td>0.733151</td>\n",
       "    </tr>\n",
       "    <tr>\n",
       "      <th>D</th>\n",
       "      <td>-0.854696</td>\n",
       "      <td>0.856849</td>\n",
       "      <td>1.391035</td>\n",
       "      <td>0.616090</td>\n",
       "      <td>-0.892781</td>\n",
       "      <td>1.963631</td>\n",
       "    </tr>\n",
       "    <tr>\n",
       "      <th>E</th>\n",
       "      <td>0.205118</td>\n",
       "      <td>0.293996</td>\n",
       "      <td>-1.232134</td>\n",
       "      <td>0.434619</td>\n",
       "      <td>-0.601275</td>\n",
       "      <td>0.698382</td>\n",
       "    </tr>\n",
       "    <tr>\n",
       "      <th>F</th>\n",
       "      <td>1.214149</td>\n",
       "      <td>0.541522</td>\n",
       "      <td>-0.722230</td>\n",
       "      <td>-0.553653</td>\n",
       "      <td>-0.243133</td>\n",
       "      <td>-0.478671</td>\n",
       "    </tr>\n",
       "  </tbody>\n",
       "</table>\n",
       "</div>"
      ],
      "text/plain": [
       "          U         V         W         X         Y         Z\n",
       "A  0.628910 -0.279470  0.488236 -0.168917  0.716216  0.248080\n",
       "B -1.000327 -0.018418  2.558664  0.549419 -0.032384 -0.378874\n",
       "C -2.170053  0.258648 -0.143731 -0.969244 -0.544527  0.733151\n",
       "D -0.854696  0.856849  1.391035  0.616090 -0.892781  1.963631\n",
       "E  0.205118  0.293996 -1.232134  0.434619 -0.601275  0.698382\n",
       "F  1.214149  0.541522 -0.722230 -0.553653 -0.243133 -0.478671"
      ]
     },
     "execution_count": 330,
     "metadata": {},
     "output_type": "execute_result"
    }
   ],
   "source": [
    "df2"
   ]
  },
  {
   "cell_type": "code",
   "execution_count": 331,
   "id": "21ebcc5e",
   "metadata": {},
   "outputs": [
    {
     "data": {
      "text/html": [
       "<div>\n",
       "<style scoped>\n",
       "    .dataframe tbody tr th:only-of-type {\n",
       "        vertical-align: middle;\n",
       "    }\n",
       "\n",
       "    .dataframe tbody tr th {\n",
       "        vertical-align: top;\n",
       "    }\n",
       "\n",
       "    .dataframe thead th {\n",
       "        text-align: right;\n",
       "    }\n",
       "</style>\n",
       "<table border=\"1\" class=\"dataframe\">\n",
       "  <thead>\n",
       "    <tr style=\"text-align: right;\">\n",
       "      <th></th>\n",
       "      <th>U</th>\n",
       "      <th>V</th>\n",
       "      <th>W</th>\n",
       "      <th>X</th>\n",
       "      <th>Y</th>\n",
       "      <th>Z</th>\n",
       "      <th>New_col</th>\n",
       "    </tr>\n",
       "  </thead>\n",
       "  <tbody>\n",
       "    <tr>\n",
       "      <th>A</th>\n",
       "      <td>0.628910</td>\n",
       "      <td>-0.279470</td>\n",
       "      <td>0.488236</td>\n",
       "      <td>-0.168917</td>\n",
       "      <td>0.716216</td>\n",
       "      <td>0.248080</td>\n",
       "      <td>0.496161</td>\n",
       "    </tr>\n",
       "    <tr>\n",
       "      <th>B</th>\n",
       "      <td>-1.000327</td>\n",
       "      <td>-0.018418</td>\n",
       "      <td>2.558664</td>\n",
       "      <td>0.549419</td>\n",
       "      <td>-0.032384</td>\n",
       "      <td>-0.378874</td>\n",
       "      <td>-0.757748</td>\n",
       "    </tr>\n",
       "    <tr>\n",
       "      <th>C</th>\n",
       "      <td>-2.170053</td>\n",
       "      <td>0.258648</td>\n",
       "      <td>-0.143731</td>\n",
       "      <td>-0.969244</td>\n",
       "      <td>-0.544527</td>\n",
       "      <td>0.733151</td>\n",
       "      <td>1.466302</td>\n",
       "    </tr>\n",
       "    <tr>\n",
       "      <th>D</th>\n",
       "      <td>-0.854696</td>\n",
       "      <td>0.856849</td>\n",
       "      <td>1.391035</td>\n",
       "      <td>0.616090</td>\n",
       "      <td>-0.892781</td>\n",
       "      <td>1.963631</td>\n",
       "      <td>3.927263</td>\n",
       "    </tr>\n",
       "    <tr>\n",
       "      <th>E</th>\n",
       "      <td>0.205118</td>\n",
       "      <td>0.293996</td>\n",
       "      <td>-1.232134</td>\n",
       "      <td>0.434619</td>\n",
       "      <td>-0.601275</td>\n",
       "      <td>0.698382</td>\n",
       "      <td>1.396764</td>\n",
       "    </tr>\n",
       "    <tr>\n",
       "      <th>F</th>\n",
       "      <td>1.214149</td>\n",
       "      <td>0.541522</td>\n",
       "      <td>-0.722230</td>\n",
       "      <td>-0.553653</td>\n",
       "      <td>-0.243133</td>\n",
       "      <td>-0.478671</td>\n",
       "      <td>-0.957342</td>\n",
       "    </tr>\n",
       "  </tbody>\n",
       "</table>\n",
       "</div>"
      ],
      "text/plain": [
       "          U         V         W         X         Y         Z   New_col\n",
       "A  0.628910 -0.279470  0.488236 -0.168917  0.716216  0.248080  0.496161\n",
       "B -1.000327 -0.018418  2.558664  0.549419 -0.032384 -0.378874 -0.757748\n",
       "C -2.170053  0.258648 -0.143731 -0.969244 -0.544527  0.733151  1.466302\n",
       "D -0.854696  0.856849  1.391035  0.616090 -0.892781  1.963631  3.927263\n",
       "E  0.205118  0.293996 -1.232134  0.434619 -0.601275  0.698382  1.396764\n",
       "F  1.214149  0.541522 -0.722230 -0.553653 -0.243133 -0.478671 -0.957342"
      ]
     },
     "execution_count": 331,
     "metadata": {},
     "output_type": "execute_result"
    }
   ],
   "source": [
    "# Adding a new column\n",
    "df2[\"New_col\"] = df2[\"Z\"]*2\n",
    "df2"
   ]
  },
  {
   "cell_type": "code",
   "execution_count": 332,
   "id": "997b5035",
   "metadata": {
    "collapsed": true
   },
   "outputs": [
    {
     "ename": "KeyError",
     "evalue": "\"['X'] not found in axis\"",
     "output_type": "error",
     "traceback": [
      "\u001b[1;31m---------------------------------------------------------------------------\u001b[0m",
      "\u001b[1;31mKeyError\u001b[0m                                  Traceback (most recent call last)",
      "\u001b[1;32m~\\AppData\\Local\\Temp\\ipykernel_9424\\1126096073.py\u001b[0m in \u001b[0;36m<module>\u001b[1;34m\u001b[0m\n\u001b[0;32m      1\u001b[0m \u001b[1;31m# deleting a column\u001b[0m\u001b[1;33m\u001b[0m\u001b[1;33m\u001b[0m\u001b[0m\n\u001b[0;32m      2\u001b[0m \u001b[1;33m\u001b[0m\u001b[0m\n\u001b[1;32m----> 3\u001b[1;33m \u001b[0mdf2\u001b[0m\u001b[1;33m.\u001b[0m\u001b[0mdrop\u001b[0m\u001b[1;33m(\u001b[0m\u001b[1;34m'X'\u001b[0m\u001b[1;33m)\u001b[0m\u001b[1;33m\u001b[0m\u001b[1;33m\u001b[0m\u001b[0m\n\u001b[0m\u001b[0;32m      4\u001b[0m \u001b[0mdf2\u001b[0m\u001b[1;33m\u001b[0m\u001b[1;33m\u001b[0m\u001b[0m\n",
      "\u001b[1;32m~\\anaconda3\\lib\\site-packages\\pandas\\util\\_decorators.py\u001b[0m in \u001b[0;36mwrapper\u001b[1;34m(*args, **kwargs)\u001b[0m\n\u001b[0;32m    309\u001b[0m                     \u001b[0mstacklevel\u001b[0m\u001b[1;33m=\u001b[0m\u001b[0mstacklevel\u001b[0m\u001b[1;33m,\u001b[0m\u001b[1;33m\u001b[0m\u001b[1;33m\u001b[0m\u001b[0m\n\u001b[0;32m    310\u001b[0m                 )\n\u001b[1;32m--> 311\u001b[1;33m             \u001b[1;32mreturn\u001b[0m \u001b[0mfunc\u001b[0m\u001b[1;33m(\u001b[0m\u001b[1;33m*\u001b[0m\u001b[0margs\u001b[0m\u001b[1;33m,\u001b[0m \u001b[1;33m**\u001b[0m\u001b[0mkwargs\u001b[0m\u001b[1;33m)\u001b[0m\u001b[1;33m\u001b[0m\u001b[1;33m\u001b[0m\u001b[0m\n\u001b[0m\u001b[0;32m    312\u001b[0m \u001b[1;33m\u001b[0m\u001b[0m\n\u001b[0;32m    313\u001b[0m         \u001b[1;32mreturn\u001b[0m \u001b[0mwrapper\u001b[0m\u001b[1;33m\u001b[0m\u001b[1;33m\u001b[0m\u001b[0m\n",
      "\u001b[1;32m~\\anaconda3\\lib\\site-packages\\pandas\\core\\frame.py\u001b[0m in \u001b[0;36mdrop\u001b[1;34m(self, labels, axis, index, columns, level, inplace, errors)\u001b[0m\n\u001b[0;32m   4955\u001b[0m                 \u001b[0mweight\u001b[0m  \u001b[1;36m1.0\u001b[0m     \u001b[1;36m0.8\u001b[0m\u001b[1;33m\u001b[0m\u001b[1;33m\u001b[0m\u001b[0m\n\u001b[0;32m   4956\u001b[0m         \"\"\"\n\u001b[1;32m-> 4957\u001b[1;33m         return super().drop(\n\u001b[0m\u001b[0;32m   4958\u001b[0m             \u001b[0mlabels\u001b[0m\u001b[1;33m=\u001b[0m\u001b[0mlabels\u001b[0m\u001b[1;33m,\u001b[0m\u001b[1;33m\u001b[0m\u001b[1;33m\u001b[0m\u001b[0m\n\u001b[0;32m   4959\u001b[0m             \u001b[0maxis\u001b[0m\u001b[1;33m=\u001b[0m\u001b[0maxis\u001b[0m\u001b[1;33m,\u001b[0m\u001b[1;33m\u001b[0m\u001b[1;33m\u001b[0m\u001b[0m\n",
      "\u001b[1;32m~\\anaconda3\\lib\\site-packages\\pandas\\core\\generic.py\u001b[0m in \u001b[0;36mdrop\u001b[1;34m(self, labels, axis, index, columns, level, inplace, errors)\u001b[0m\n\u001b[0;32m   4265\u001b[0m         \u001b[1;32mfor\u001b[0m \u001b[0maxis\u001b[0m\u001b[1;33m,\u001b[0m \u001b[0mlabels\u001b[0m \u001b[1;32min\u001b[0m \u001b[0maxes\u001b[0m\u001b[1;33m.\u001b[0m\u001b[0mitems\u001b[0m\u001b[1;33m(\u001b[0m\u001b[1;33m)\u001b[0m\u001b[1;33m:\u001b[0m\u001b[1;33m\u001b[0m\u001b[1;33m\u001b[0m\u001b[0m\n\u001b[0;32m   4266\u001b[0m             \u001b[1;32mif\u001b[0m \u001b[0mlabels\u001b[0m \u001b[1;32mis\u001b[0m \u001b[1;32mnot\u001b[0m \u001b[1;32mNone\u001b[0m\u001b[1;33m:\u001b[0m\u001b[1;33m\u001b[0m\u001b[1;33m\u001b[0m\u001b[0m\n\u001b[1;32m-> 4267\u001b[1;33m                 \u001b[0mobj\u001b[0m \u001b[1;33m=\u001b[0m \u001b[0mobj\u001b[0m\u001b[1;33m.\u001b[0m\u001b[0m_drop_axis\u001b[0m\u001b[1;33m(\u001b[0m\u001b[0mlabels\u001b[0m\u001b[1;33m,\u001b[0m \u001b[0maxis\u001b[0m\u001b[1;33m,\u001b[0m \u001b[0mlevel\u001b[0m\u001b[1;33m=\u001b[0m\u001b[0mlevel\u001b[0m\u001b[1;33m,\u001b[0m \u001b[0merrors\u001b[0m\u001b[1;33m=\u001b[0m\u001b[0merrors\u001b[0m\u001b[1;33m)\u001b[0m\u001b[1;33m\u001b[0m\u001b[1;33m\u001b[0m\u001b[0m\n\u001b[0m\u001b[0;32m   4268\u001b[0m \u001b[1;33m\u001b[0m\u001b[0m\n\u001b[0;32m   4269\u001b[0m         \u001b[1;32mif\u001b[0m \u001b[0minplace\u001b[0m\u001b[1;33m:\u001b[0m\u001b[1;33m\u001b[0m\u001b[1;33m\u001b[0m\u001b[0m\n",
      "\u001b[1;32m~\\anaconda3\\lib\\site-packages\\pandas\\core\\generic.py\u001b[0m in \u001b[0;36m_drop_axis\u001b[1;34m(self, labels, axis, level, errors, consolidate, only_slice)\u001b[0m\n\u001b[0;32m   4309\u001b[0m                 \u001b[0mnew_axis\u001b[0m \u001b[1;33m=\u001b[0m \u001b[0maxis\u001b[0m\u001b[1;33m.\u001b[0m\u001b[0mdrop\u001b[0m\u001b[1;33m(\u001b[0m\u001b[0mlabels\u001b[0m\u001b[1;33m,\u001b[0m \u001b[0mlevel\u001b[0m\u001b[1;33m=\u001b[0m\u001b[0mlevel\u001b[0m\u001b[1;33m,\u001b[0m \u001b[0merrors\u001b[0m\u001b[1;33m=\u001b[0m\u001b[0merrors\u001b[0m\u001b[1;33m)\u001b[0m\u001b[1;33m\u001b[0m\u001b[1;33m\u001b[0m\u001b[0m\n\u001b[0;32m   4310\u001b[0m             \u001b[1;32melse\u001b[0m\u001b[1;33m:\u001b[0m\u001b[1;33m\u001b[0m\u001b[1;33m\u001b[0m\u001b[0m\n\u001b[1;32m-> 4311\u001b[1;33m                 \u001b[0mnew_axis\u001b[0m \u001b[1;33m=\u001b[0m \u001b[0maxis\u001b[0m\u001b[1;33m.\u001b[0m\u001b[0mdrop\u001b[0m\u001b[1;33m(\u001b[0m\u001b[0mlabels\u001b[0m\u001b[1;33m,\u001b[0m \u001b[0merrors\u001b[0m\u001b[1;33m=\u001b[0m\u001b[0merrors\u001b[0m\u001b[1;33m)\u001b[0m\u001b[1;33m\u001b[0m\u001b[1;33m\u001b[0m\u001b[0m\n\u001b[0m\u001b[0;32m   4312\u001b[0m             \u001b[0mindexer\u001b[0m \u001b[1;33m=\u001b[0m \u001b[0maxis\u001b[0m\u001b[1;33m.\u001b[0m\u001b[0mget_indexer\u001b[0m\u001b[1;33m(\u001b[0m\u001b[0mnew_axis\u001b[0m\u001b[1;33m)\u001b[0m\u001b[1;33m\u001b[0m\u001b[1;33m\u001b[0m\u001b[0m\n\u001b[0;32m   4313\u001b[0m \u001b[1;33m\u001b[0m\u001b[0m\n",
      "\u001b[1;32m~\\anaconda3\\lib\\site-packages\\pandas\\core\\indexes\\base.py\u001b[0m in \u001b[0;36mdrop\u001b[1;34m(self, labels, errors)\u001b[0m\n\u001b[0;32m   6659\u001b[0m         \u001b[1;32mif\u001b[0m \u001b[0mmask\u001b[0m\u001b[1;33m.\u001b[0m\u001b[0many\u001b[0m\u001b[1;33m(\u001b[0m\u001b[1;33m)\u001b[0m\u001b[1;33m:\u001b[0m\u001b[1;33m\u001b[0m\u001b[1;33m\u001b[0m\u001b[0m\n\u001b[0;32m   6660\u001b[0m             \u001b[1;32mif\u001b[0m \u001b[0merrors\u001b[0m \u001b[1;33m!=\u001b[0m \u001b[1;34m\"ignore\"\u001b[0m\u001b[1;33m:\u001b[0m\u001b[1;33m\u001b[0m\u001b[1;33m\u001b[0m\u001b[0m\n\u001b[1;32m-> 6661\u001b[1;33m                 \u001b[1;32mraise\u001b[0m \u001b[0mKeyError\u001b[0m\u001b[1;33m(\u001b[0m\u001b[1;34mf\"{list(labels[mask])} not found in axis\"\u001b[0m\u001b[1;33m)\u001b[0m\u001b[1;33m\u001b[0m\u001b[1;33m\u001b[0m\u001b[0m\n\u001b[0m\u001b[0;32m   6662\u001b[0m             \u001b[0mindexer\u001b[0m \u001b[1;33m=\u001b[0m \u001b[0mindexer\u001b[0m\u001b[1;33m[\u001b[0m\u001b[1;33m~\u001b[0m\u001b[0mmask\u001b[0m\u001b[1;33m]\u001b[0m\u001b[1;33m\u001b[0m\u001b[1;33m\u001b[0m\u001b[0m\n\u001b[0;32m   6663\u001b[0m         \u001b[1;32mreturn\u001b[0m \u001b[0mself\u001b[0m\u001b[1;33m.\u001b[0m\u001b[0mdelete\u001b[0m\u001b[1;33m(\u001b[0m\u001b[0mindexer\u001b[0m\u001b[1;33m)\u001b[0m\u001b[1;33m\u001b[0m\u001b[1;33m\u001b[0m\u001b[0m\n",
      "\u001b[1;31mKeyError\u001b[0m: \"['X'] not found in axis\""
     ]
    }
   ],
   "source": [
    "# deleting a column \n",
    "\n",
    "df2.drop('X')\n",
    "df2"
   ]
  },
  {
   "cell_type": "code",
   "execution_count": 335,
   "id": "964627fa",
   "metadata": {},
   "outputs": [],
   "source": [
    "dd=df2.drop('X',axis=1)\n"
   ]
  },
  {
   "cell_type": "code",
   "execution_count": 336,
   "id": "48c6fd36",
   "metadata": {},
   "outputs": [
    {
     "data": {
      "text/html": [
       "<div>\n",
       "<style scoped>\n",
       "    .dataframe tbody tr th:only-of-type {\n",
       "        vertical-align: middle;\n",
       "    }\n",
       "\n",
       "    .dataframe tbody tr th {\n",
       "        vertical-align: top;\n",
       "    }\n",
       "\n",
       "    .dataframe thead th {\n",
       "        text-align: right;\n",
       "    }\n",
       "</style>\n",
       "<table border=\"1\" class=\"dataframe\">\n",
       "  <thead>\n",
       "    <tr style=\"text-align: right;\">\n",
       "      <th></th>\n",
       "      <th>U</th>\n",
       "      <th>V</th>\n",
       "      <th>W</th>\n",
       "      <th>Y</th>\n",
       "      <th>Z</th>\n",
       "      <th>New_col</th>\n",
       "    </tr>\n",
       "  </thead>\n",
       "  <tbody>\n",
       "    <tr>\n",
       "      <th>A</th>\n",
       "      <td>0.628910</td>\n",
       "      <td>-0.279470</td>\n",
       "      <td>0.488236</td>\n",
       "      <td>0.716216</td>\n",
       "      <td>0.248080</td>\n",
       "      <td>0.496161</td>\n",
       "    </tr>\n",
       "    <tr>\n",
       "      <th>B</th>\n",
       "      <td>-1.000327</td>\n",
       "      <td>-0.018418</td>\n",
       "      <td>2.558664</td>\n",
       "      <td>-0.032384</td>\n",
       "      <td>-0.378874</td>\n",
       "      <td>-0.757748</td>\n",
       "    </tr>\n",
       "    <tr>\n",
       "      <th>C</th>\n",
       "      <td>-2.170053</td>\n",
       "      <td>0.258648</td>\n",
       "      <td>-0.143731</td>\n",
       "      <td>-0.544527</td>\n",
       "      <td>0.733151</td>\n",
       "      <td>1.466302</td>\n",
       "    </tr>\n",
       "    <tr>\n",
       "      <th>D</th>\n",
       "      <td>-0.854696</td>\n",
       "      <td>0.856849</td>\n",
       "      <td>1.391035</td>\n",
       "      <td>-0.892781</td>\n",
       "      <td>1.963631</td>\n",
       "      <td>3.927263</td>\n",
       "    </tr>\n",
       "    <tr>\n",
       "      <th>E</th>\n",
       "      <td>0.205118</td>\n",
       "      <td>0.293996</td>\n",
       "      <td>-1.232134</td>\n",
       "      <td>-0.601275</td>\n",
       "      <td>0.698382</td>\n",
       "      <td>1.396764</td>\n",
       "    </tr>\n",
       "    <tr>\n",
       "      <th>F</th>\n",
       "      <td>1.214149</td>\n",
       "      <td>0.541522</td>\n",
       "      <td>-0.722230</td>\n",
       "      <td>-0.243133</td>\n",
       "      <td>-0.478671</td>\n",
       "      <td>-0.957342</td>\n",
       "    </tr>\n",
       "  </tbody>\n",
       "</table>\n",
       "</div>"
      ],
      "text/plain": [
       "          U         V         W         Y         Z   New_col\n",
       "A  0.628910 -0.279470  0.488236  0.716216  0.248080  0.496161\n",
       "B -1.000327 -0.018418  2.558664 -0.032384 -0.378874 -0.757748\n",
       "C -2.170053  0.258648 -0.143731 -0.544527  0.733151  1.466302\n",
       "D -0.854696  0.856849  1.391035 -0.892781  1.963631  3.927263\n",
       "E  0.205118  0.293996 -1.232134 -0.601275  0.698382  1.396764\n",
       "F  1.214149  0.541522 -0.722230 -0.243133 -0.478671 -0.957342"
      ]
     },
     "execution_count": 336,
     "metadata": {},
     "output_type": "execute_result"
    }
   ],
   "source": [
    "dd"
   ]
  },
  {
   "cell_type": "code",
   "execution_count": 341,
   "id": "76c18385",
   "metadata": {},
   "outputs": [],
   "source": [
    "df2.drop(\"X\",axis=1,inplace=True)"
   ]
  },
  {
   "cell_type": "code",
   "execution_count": 342,
   "id": "c68deda5",
   "metadata": {},
   "outputs": [
    {
     "data": {
      "text/html": [
       "<div>\n",
       "<style scoped>\n",
       "    .dataframe tbody tr th:only-of-type {\n",
       "        vertical-align: middle;\n",
       "    }\n",
       "\n",
       "    .dataframe tbody tr th {\n",
       "        vertical-align: top;\n",
       "    }\n",
       "\n",
       "    .dataframe thead th {\n",
       "        text-align: right;\n",
       "    }\n",
       "</style>\n",
       "<table border=\"1\" class=\"dataframe\">\n",
       "  <thead>\n",
       "    <tr style=\"text-align: right;\">\n",
       "      <th></th>\n",
       "      <th>U</th>\n",
       "      <th>V</th>\n",
       "      <th>W</th>\n",
       "      <th>Y</th>\n",
       "      <th>Z</th>\n",
       "      <th>New_col</th>\n",
       "    </tr>\n",
       "  </thead>\n",
       "  <tbody>\n",
       "    <tr>\n",
       "      <th>A</th>\n",
       "      <td>0.628910</td>\n",
       "      <td>-0.279470</td>\n",
       "      <td>0.488236</td>\n",
       "      <td>0.716216</td>\n",
       "      <td>0.248080</td>\n",
       "      <td>0.496161</td>\n",
       "    </tr>\n",
       "    <tr>\n",
       "      <th>B</th>\n",
       "      <td>-1.000327</td>\n",
       "      <td>-0.018418</td>\n",
       "      <td>2.558664</td>\n",
       "      <td>-0.032384</td>\n",
       "      <td>-0.378874</td>\n",
       "      <td>-0.757748</td>\n",
       "    </tr>\n",
       "    <tr>\n",
       "      <th>C</th>\n",
       "      <td>-2.170053</td>\n",
       "      <td>0.258648</td>\n",
       "      <td>-0.143731</td>\n",
       "      <td>-0.544527</td>\n",
       "      <td>0.733151</td>\n",
       "      <td>1.466302</td>\n",
       "    </tr>\n",
       "    <tr>\n",
       "      <th>D</th>\n",
       "      <td>-0.854696</td>\n",
       "      <td>0.856849</td>\n",
       "      <td>1.391035</td>\n",
       "      <td>-0.892781</td>\n",
       "      <td>1.963631</td>\n",
       "      <td>3.927263</td>\n",
       "    </tr>\n",
       "    <tr>\n",
       "      <th>E</th>\n",
       "      <td>0.205118</td>\n",
       "      <td>0.293996</td>\n",
       "      <td>-1.232134</td>\n",
       "      <td>-0.601275</td>\n",
       "      <td>0.698382</td>\n",
       "      <td>1.396764</td>\n",
       "    </tr>\n",
       "    <tr>\n",
       "      <th>F</th>\n",
       "      <td>1.214149</td>\n",
       "      <td>0.541522</td>\n",
       "      <td>-0.722230</td>\n",
       "      <td>-0.243133</td>\n",
       "      <td>-0.478671</td>\n",
       "      <td>-0.957342</td>\n",
       "    </tr>\n",
       "  </tbody>\n",
       "</table>\n",
       "</div>"
      ],
      "text/plain": [
       "          U         V         W         Y         Z   New_col\n",
       "A  0.628910 -0.279470  0.488236  0.716216  0.248080  0.496161\n",
       "B -1.000327 -0.018418  2.558664 -0.032384 -0.378874 -0.757748\n",
       "C -2.170053  0.258648 -0.143731 -0.544527  0.733151  1.466302\n",
       "D -0.854696  0.856849  1.391035 -0.892781  1.963631  3.927263\n",
       "E  0.205118  0.293996 -1.232134 -0.601275  0.698382  1.396764\n",
       "F  1.214149  0.541522 -0.722230 -0.243133 -0.478671 -0.957342"
      ]
     },
     "execution_count": 342,
     "metadata": {},
     "output_type": "execute_result"
    }
   ],
   "source": [
    "df2"
   ]
  },
  {
   "cell_type": "code",
   "execution_count": 343,
   "id": "994a3d6b",
   "metadata": {},
   "outputs": [
    {
     "ename": "KeyError",
     "evalue": "\"['X'] not found in axis\"",
     "output_type": "error",
     "traceback": [
      "\u001b[1;31m---------------------------------------------------------------------------\u001b[0m",
      "\u001b[1;31mKeyError\u001b[0m                                  Traceback (most recent call last)",
      "\u001b[1;32m~\\AppData\\Local\\Temp\\ipykernel_9424\\1186617866.py\u001b[0m in \u001b[0;36m<module>\u001b[1;34m\u001b[0m\n\u001b[1;32m----> 1\u001b[1;33m \u001b[0mdf2\u001b[0m\u001b[1;33m.\u001b[0m\u001b[0mdrop\u001b[0m\u001b[1;33m(\u001b[0m\u001b[1;34m'X'\u001b[0m\u001b[1;33m,\u001b[0m\u001b[0maxis\u001b[0m\u001b[1;33m=\u001b[0m\u001b[1;36m0\u001b[0m\u001b[1;33m)\u001b[0m\u001b[1;33m\u001b[0m\u001b[1;33m\u001b[0m\u001b[0m\n\u001b[0m\u001b[0;32m      2\u001b[0m \u001b[0mdf2\u001b[0m\u001b[1;33m\u001b[0m\u001b[1;33m\u001b[0m\u001b[0m\n",
      "\u001b[1;32m~\\anaconda3\\lib\\site-packages\\pandas\\util\\_decorators.py\u001b[0m in \u001b[0;36mwrapper\u001b[1;34m(*args, **kwargs)\u001b[0m\n\u001b[0;32m    309\u001b[0m                     \u001b[0mstacklevel\u001b[0m\u001b[1;33m=\u001b[0m\u001b[0mstacklevel\u001b[0m\u001b[1;33m,\u001b[0m\u001b[1;33m\u001b[0m\u001b[1;33m\u001b[0m\u001b[0m\n\u001b[0;32m    310\u001b[0m                 )\n\u001b[1;32m--> 311\u001b[1;33m             \u001b[1;32mreturn\u001b[0m \u001b[0mfunc\u001b[0m\u001b[1;33m(\u001b[0m\u001b[1;33m*\u001b[0m\u001b[0margs\u001b[0m\u001b[1;33m,\u001b[0m \u001b[1;33m**\u001b[0m\u001b[0mkwargs\u001b[0m\u001b[1;33m)\u001b[0m\u001b[1;33m\u001b[0m\u001b[1;33m\u001b[0m\u001b[0m\n\u001b[0m\u001b[0;32m    312\u001b[0m \u001b[1;33m\u001b[0m\u001b[0m\n\u001b[0;32m    313\u001b[0m         \u001b[1;32mreturn\u001b[0m \u001b[0mwrapper\u001b[0m\u001b[1;33m\u001b[0m\u001b[1;33m\u001b[0m\u001b[0m\n",
      "\u001b[1;32m~\\anaconda3\\lib\\site-packages\\pandas\\core\\frame.py\u001b[0m in \u001b[0;36mdrop\u001b[1;34m(self, labels, axis, index, columns, level, inplace, errors)\u001b[0m\n\u001b[0;32m   4955\u001b[0m                 \u001b[0mweight\u001b[0m  \u001b[1;36m1.0\u001b[0m     \u001b[1;36m0.8\u001b[0m\u001b[1;33m\u001b[0m\u001b[1;33m\u001b[0m\u001b[0m\n\u001b[0;32m   4956\u001b[0m         \"\"\"\n\u001b[1;32m-> 4957\u001b[1;33m         return super().drop(\n\u001b[0m\u001b[0;32m   4958\u001b[0m             \u001b[0mlabels\u001b[0m\u001b[1;33m=\u001b[0m\u001b[0mlabels\u001b[0m\u001b[1;33m,\u001b[0m\u001b[1;33m\u001b[0m\u001b[1;33m\u001b[0m\u001b[0m\n\u001b[0;32m   4959\u001b[0m             \u001b[0maxis\u001b[0m\u001b[1;33m=\u001b[0m\u001b[0maxis\u001b[0m\u001b[1;33m,\u001b[0m\u001b[1;33m\u001b[0m\u001b[1;33m\u001b[0m\u001b[0m\n",
      "\u001b[1;32m~\\anaconda3\\lib\\site-packages\\pandas\\core\\generic.py\u001b[0m in \u001b[0;36mdrop\u001b[1;34m(self, labels, axis, index, columns, level, inplace, errors)\u001b[0m\n\u001b[0;32m   4265\u001b[0m         \u001b[1;32mfor\u001b[0m \u001b[0maxis\u001b[0m\u001b[1;33m,\u001b[0m \u001b[0mlabels\u001b[0m \u001b[1;32min\u001b[0m \u001b[0maxes\u001b[0m\u001b[1;33m.\u001b[0m\u001b[0mitems\u001b[0m\u001b[1;33m(\u001b[0m\u001b[1;33m)\u001b[0m\u001b[1;33m:\u001b[0m\u001b[1;33m\u001b[0m\u001b[1;33m\u001b[0m\u001b[0m\n\u001b[0;32m   4266\u001b[0m             \u001b[1;32mif\u001b[0m \u001b[0mlabels\u001b[0m \u001b[1;32mis\u001b[0m \u001b[1;32mnot\u001b[0m \u001b[1;32mNone\u001b[0m\u001b[1;33m:\u001b[0m\u001b[1;33m\u001b[0m\u001b[1;33m\u001b[0m\u001b[0m\n\u001b[1;32m-> 4267\u001b[1;33m                 \u001b[0mobj\u001b[0m \u001b[1;33m=\u001b[0m \u001b[0mobj\u001b[0m\u001b[1;33m.\u001b[0m\u001b[0m_drop_axis\u001b[0m\u001b[1;33m(\u001b[0m\u001b[0mlabels\u001b[0m\u001b[1;33m,\u001b[0m \u001b[0maxis\u001b[0m\u001b[1;33m,\u001b[0m \u001b[0mlevel\u001b[0m\u001b[1;33m=\u001b[0m\u001b[0mlevel\u001b[0m\u001b[1;33m,\u001b[0m \u001b[0merrors\u001b[0m\u001b[1;33m=\u001b[0m\u001b[0merrors\u001b[0m\u001b[1;33m)\u001b[0m\u001b[1;33m\u001b[0m\u001b[1;33m\u001b[0m\u001b[0m\n\u001b[0m\u001b[0;32m   4268\u001b[0m \u001b[1;33m\u001b[0m\u001b[0m\n\u001b[0;32m   4269\u001b[0m         \u001b[1;32mif\u001b[0m \u001b[0minplace\u001b[0m\u001b[1;33m:\u001b[0m\u001b[1;33m\u001b[0m\u001b[1;33m\u001b[0m\u001b[0m\n",
      "\u001b[1;32m~\\anaconda3\\lib\\site-packages\\pandas\\core\\generic.py\u001b[0m in \u001b[0;36m_drop_axis\u001b[1;34m(self, labels, axis, level, errors, consolidate, only_slice)\u001b[0m\n\u001b[0;32m   4309\u001b[0m                 \u001b[0mnew_axis\u001b[0m \u001b[1;33m=\u001b[0m \u001b[0maxis\u001b[0m\u001b[1;33m.\u001b[0m\u001b[0mdrop\u001b[0m\u001b[1;33m(\u001b[0m\u001b[0mlabels\u001b[0m\u001b[1;33m,\u001b[0m \u001b[0mlevel\u001b[0m\u001b[1;33m=\u001b[0m\u001b[0mlevel\u001b[0m\u001b[1;33m,\u001b[0m \u001b[0merrors\u001b[0m\u001b[1;33m=\u001b[0m\u001b[0merrors\u001b[0m\u001b[1;33m)\u001b[0m\u001b[1;33m\u001b[0m\u001b[1;33m\u001b[0m\u001b[0m\n\u001b[0;32m   4310\u001b[0m             \u001b[1;32melse\u001b[0m\u001b[1;33m:\u001b[0m\u001b[1;33m\u001b[0m\u001b[1;33m\u001b[0m\u001b[0m\n\u001b[1;32m-> 4311\u001b[1;33m                 \u001b[0mnew_axis\u001b[0m \u001b[1;33m=\u001b[0m \u001b[0maxis\u001b[0m\u001b[1;33m.\u001b[0m\u001b[0mdrop\u001b[0m\u001b[1;33m(\u001b[0m\u001b[0mlabels\u001b[0m\u001b[1;33m,\u001b[0m \u001b[0merrors\u001b[0m\u001b[1;33m=\u001b[0m\u001b[0merrors\u001b[0m\u001b[1;33m)\u001b[0m\u001b[1;33m\u001b[0m\u001b[1;33m\u001b[0m\u001b[0m\n\u001b[0m\u001b[0;32m   4312\u001b[0m             \u001b[0mindexer\u001b[0m \u001b[1;33m=\u001b[0m \u001b[0maxis\u001b[0m\u001b[1;33m.\u001b[0m\u001b[0mget_indexer\u001b[0m\u001b[1;33m(\u001b[0m\u001b[0mnew_axis\u001b[0m\u001b[1;33m)\u001b[0m\u001b[1;33m\u001b[0m\u001b[1;33m\u001b[0m\u001b[0m\n\u001b[0;32m   4313\u001b[0m \u001b[1;33m\u001b[0m\u001b[0m\n",
      "\u001b[1;32m~\\anaconda3\\lib\\site-packages\\pandas\\core\\indexes\\base.py\u001b[0m in \u001b[0;36mdrop\u001b[1;34m(self, labels, errors)\u001b[0m\n\u001b[0;32m   6659\u001b[0m         \u001b[1;32mif\u001b[0m \u001b[0mmask\u001b[0m\u001b[1;33m.\u001b[0m\u001b[0many\u001b[0m\u001b[1;33m(\u001b[0m\u001b[1;33m)\u001b[0m\u001b[1;33m:\u001b[0m\u001b[1;33m\u001b[0m\u001b[1;33m\u001b[0m\u001b[0m\n\u001b[0;32m   6660\u001b[0m             \u001b[1;32mif\u001b[0m \u001b[0merrors\u001b[0m \u001b[1;33m!=\u001b[0m \u001b[1;34m\"ignore\"\u001b[0m\u001b[1;33m:\u001b[0m\u001b[1;33m\u001b[0m\u001b[1;33m\u001b[0m\u001b[0m\n\u001b[1;32m-> 6661\u001b[1;33m                 \u001b[1;32mraise\u001b[0m \u001b[0mKeyError\u001b[0m\u001b[1;33m(\u001b[0m\u001b[1;34mf\"{list(labels[mask])} not found in axis\"\u001b[0m\u001b[1;33m)\u001b[0m\u001b[1;33m\u001b[0m\u001b[1;33m\u001b[0m\u001b[0m\n\u001b[0m\u001b[0;32m   6662\u001b[0m             \u001b[0mindexer\u001b[0m \u001b[1;33m=\u001b[0m \u001b[0mindexer\u001b[0m\u001b[1;33m[\u001b[0m\u001b[1;33m~\u001b[0m\u001b[0mmask\u001b[0m\u001b[1;33m]\u001b[0m\u001b[1;33m\u001b[0m\u001b[1;33m\u001b[0m\u001b[0m\n\u001b[0;32m   6663\u001b[0m         \u001b[1;32mreturn\u001b[0m \u001b[0mself\u001b[0m\u001b[1;33m.\u001b[0m\u001b[0mdelete\u001b[0m\u001b[1;33m(\u001b[0m\u001b[0mindexer\u001b[0m\u001b[1;33m)\u001b[0m\u001b[1;33m\u001b[0m\u001b[1;33m\u001b[0m\u001b[0m\n",
      "\u001b[1;31mKeyError\u001b[0m: \"['X'] not found in axis\""
     ]
    }
   ],
   "source": [
    "df2.drop('X',axis=0)\n",
    "df2"
   ]
  },
  {
   "cell_type": "code",
   "execution_count": null,
   "id": "2b2eb925",
   "metadata": {},
   "outputs": [],
   "source": []
  },
  {
   "cell_type": "code",
   "execution_count": 344,
   "id": "c4b960bf",
   "metadata": {},
   "outputs": [
    {
     "data": {
      "text/html": [
       "<div>\n",
       "<style scoped>\n",
       "    .dataframe tbody tr th:only-of-type {\n",
       "        vertical-align: middle;\n",
       "    }\n",
       "\n",
       "    .dataframe tbody tr th {\n",
       "        vertical-align: top;\n",
       "    }\n",
       "\n",
       "    .dataframe thead th {\n",
       "        text-align: right;\n",
       "    }\n",
       "</style>\n",
       "<table border=\"1\" class=\"dataframe\">\n",
       "  <thead>\n",
       "    <tr style=\"text-align: right;\">\n",
       "      <th></th>\n",
       "      <th>U</th>\n",
       "      <th>V</th>\n",
       "      <th>W</th>\n",
       "      <th>Y</th>\n",
       "      <th>Z</th>\n",
       "      <th>New_col</th>\n",
       "    </tr>\n",
       "  </thead>\n",
       "  <tbody>\n",
       "    <tr>\n",
       "      <th>A</th>\n",
       "      <td>0.628910</td>\n",
       "      <td>-0.279470</td>\n",
       "      <td>0.488236</td>\n",
       "      <td>0.716216</td>\n",
       "      <td>0.248080</td>\n",
       "      <td>0.496161</td>\n",
       "    </tr>\n",
       "    <tr>\n",
       "      <th>B</th>\n",
       "      <td>-1.000327</td>\n",
       "      <td>-0.018418</td>\n",
       "      <td>2.558664</td>\n",
       "      <td>-0.032384</td>\n",
       "      <td>-0.378874</td>\n",
       "      <td>-0.757748</td>\n",
       "    </tr>\n",
       "    <tr>\n",
       "      <th>C</th>\n",
       "      <td>-2.170053</td>\n",
       "      <td>0.258648</td>\n",
       "      <td>-0.143731</td>\n",
       "      <td>-0.544527</td>\n",
       "      <td>0.733151</td>\n",
       "      <td>1.466302</td>\n",
       "    </tr>\n",
       "    <tr>\n",
       "      <th>D</th>\n",
       "      <td>-0.854696</td>\n",
       "      <td>0.856849</td>\n",
       "      <td>1.391035</td>\n",
       "      <td>-0.892781</td>\n",
       "      <td>1.963631</td>\n",
       "      <td>3.927263</td>\n",
       "    </tr>\n",
       "    <tr>\n",
       "      <th>E</th>\n",
       "      <td>0.205118</td>\n",
       "      <td>0.293996</td>\n",
       "      <td>-1.232134</td>\n",
       "      <td>-0.601275</td>\n",
       "      <td>0.698382</td>\n",
       "      <td>1.396764</td>\n",
       "    </tr>\n",
       "    <tr>\n",
       "      <th>F</th>\n",
       "      <td>1.214149</td>\n",
       "      <td>0.541522</td>\n",
       "      <td>-0.722230</td>\n",
       "      <td>-0.243133</td>\n",
       "      <td>-0.478671</td>\n",
       "      <td>-0.957342</td>\n",
       "    </tr>\n",
       "  </tbody>\n",
       "</table>\n",
       "</div>"
      ],
      "text/plain": [
       "          U         V         W         Y         Z   New_col\n",
       "A  0.628910 -0.279470  0.488236  0.716216  0.248080  0.496161\n",
       "B -1.000327 -0.018418  2.558664 -0.032384 -0.378874 -0.757748\n",
       "C -2.170053  0.258648 -0.143731 -0.544527  0.733151  1.466302\n",
       "D -0.854696  0.856849  1.391035 -0.892781  1.963631  3.927263\n",
       "E  0.205118  0.293996 -1.232134 -0.601275  0.698382  1.396764\n",
       "F  1.214149  0.541522 -0.722230 -0.243133 -0.478671 -0.957342"
      ]
     },
     "execution_count": 344,
     "metadata": {},
     "output_type": "execute_result"
    }
   ],
   "source": [
    "df2"
   ]
  },
  {
   "cell_type": "code",
   "execution_count": 345,
   "id": "b396372c",
   "metadata": {},
   "outputs": [
    {
     "data": {
      "text/html": [
       "<div>\n",
       "<style scoped>\n",
       "    .dataframe tbody tr th:only-of-type {\n",
       "        vertical-align: middle;\n",
       "    }\n",
       "\n",
       "    .dataframe tbody tr th {\n",
       "        vertical-align: top;\n",
       "    }\n",
       "\n",
       "    .dataframe thead th {\n",
       "        text-align: right;\n",
       "    }\n",
       "</style>\n",
       "<table border=\"1\" class=\"dataframe\">\n",
       "  <thead>\n",
       "    <tr style=\"text-align: right;\">\n",
       "      <th></th>\n",
       "      <th>U</th>\n",
       "      <th>W</th>\n",
       "      <th>Y</th>\n",
       "      <th>Z</th>\n",
       "      <th>New_col</th>\n",
       "    </tr>\n",
       "  </thead>\n",
       "  <tbody>\n",
       "    <tr>\n",
       "      <th>A</th>\n",
       "      <td>0.628910</td>\n",
       "      <td>0.488236</td>\n",
       "      <td>0.716216</td>\n",
       "      <td>0.248080</td>\n",
       "      <td>0.496161</td>\n",
       "    </tr>\n",
       "    <tr>\n",
       "      <th>B</th>\n",
       "      <td>-1.000327</td>\n",
       "      <td>2.558664</td>\n",
       "      <td>-0.032384</td>\n",
       "      <td>-0.378874</td>\n",
       "      <td>-0.757748</td>\n",
       "    </tr>\n",
       "    <tr>\n",
       "      <th>C</th>\n",
       "      <td>-2.170053</td>\n",
       "      <td>-0.143731</td>\n",
       "      <td>-0.544527</td>\n",
       "      <td>0.733151</td>\n",
       "      <td>1.466302</td>\n",
       "    </tr>\n",
       "    <tr>\n",
       "      <th>D</th>\n",
       "      <td>-0.854696</td>\n",
       "      <td>1.391035</td>\n",
       "      <td>-0.892781</td>\n",
       "      <td>1.963631</td>\n",
       "      <td>3.927263</td>\n",
       "    </tr>\n",
       "    <tr>\n",
       "      <th>E</th>\n",
       "      <td>0.205118</td>\n",
       "      <td>-1.232134</td>\n",
       "      <td>-0.601275</td>\n",
       "      <td>0.698382</td>\n",
       "      <td>1.396764</td>\n",
       "    </tr>\n",
       "    <tr>\n",
       "      <th>F</th>\n",
       "      <td>1.214149</td>\n",
       "      <td>-0.722230</td>\n",
       "      <td>-0.243133</td>\n",
       "      <td>-0.478671</td>\n",
       "      <td>-0.957342</td>\n",
       "    </tr>\n",
       "  </tbody>\n",
       "</table>\n",
       "</div>"
      ],
      "text/plain": [
       "          U         W         Y         Z   New_col\n",
       "A  0.628910  0.488236  0.716216  0.248080  0.496161\n",
       "B -1.000327  2.558664 -0.032384 -0.378874 -0.757748\n",
       "C -2.170053 -0.143731 -0.544527  0.733151  1.466302\n",
       "D -0.854696  1.391035 -0.892781  1.963631  3.927263\n",
       "E  0.205118 -1.232134 -0.601275  0.698382  1.396764\n",
       "F  1.214149 -0.722230 -0.243133 -0.478671 -0.957342"
      ]
     },
     "execution_count": 345,
     "metadata": {},
     "output_type": "execute_result"
    }
   ],
   "source": [
    "df2.drop('V',axis=1)"
   ]
  },
  {
   "cell_type": "code",
   "execution_count": 346,
   "id": "3836d699",
   "metadata": {},
   "outputs": [
    {
     "data": {
      "text/html": [
       "<div>\n",
       "<style scoped>\n",
       "    .dataframe tbody tr th:only-of-type {\n",
       "        vertical-align: middle;\n",
       "    }\n",
       "\n",
       "    .dataframe tbody tr th {\n",
       "        vertical-align: top;\n",
       "    }\n",
       "\n",
       "    .dataframe thead th {\n",
       "        text-align: right;\n",
       "    }\n",
       "</style>\n",
       "<table border=\"1\" class=\"dataframe\">\n",
       "  <thead>\n",
       "    <tr style=\"text-align: right;\">\n",
       "      <th></th>\n",
       "      <th>U</th>\n",
       "      <th>V</th>\n",
       "      <th>W</th>\n",
       "      <th>Y</th>\n",
       "      <th>Z</th>\n",
       "      <th>New_col</th>\n",
       "    </tr>\n",
       "  </thead>\n",
       "  <tbody>\n",
       "    <tr>\n",
       "      <th>A</th>\n",
       "      <td>0.628910</td>\n",
       "      <td>-0.279470</td>\n",
       "      <td>0.488236</td>\n",
       "      <td>0.716216</td>\n",
       "      <td>0.248080</td>\n",
       "      <td>0.496161</td>\n",
       "    </tr>\n",
       "    <tr>\n",
       "      <th>B</th>\n",
       "      <td>-1.000327</td>\n",
       "      <td>-0.018418</td>\n",
       "      <td>2.558664</td>\n",
       "      <td>-0.032384</td>\n",
       "      <td>-0.378874</td>\n",
       "      <td>-0.757748</td>\n",
       "    </tr>\n",
       "    <tr>\n",
       "      <th>C</th>\n",
       "      <td>-2.170053</td>\n",
       "      <td>0.258648</td>\n",
       "      <td>-0.143731</td>\n",
       "      <td>-0.544527</td>\n",
       "      <td>0.733151</td>\n",
       "      <td>1.466302</td>\n",
       "    </tr>\n",
       "    <tr>\n",
       "      <th>D</th>\n",
       "      <td>-0.854696</td>\n",
       "      <td>0.856849</td>\n",
       "      <td>1.391035</td>\n",
       "      <td>-0.892781</td>\n",
       "      <td>1.963631</td>\n",
       "      <td>3.927263</td>\n",
       "    </tr>\n",
       "    <tr>\n",
       "      <th>E</th>\n",
       "      <td>0.205118</td>\n",
       "      <td>0.293996</td>\n",
       "      <td>-1.232134</td>\n",
       "      <td>-0.601275</td>\n",
       "      <td>0.698382</td>\n",
       "      <td>1.396764</td>\n",
       "    </tr>\n",
       "    <tr>\n",
       "      <th>F</th>\n",
       "      <td>1.214149</td>\n",
       "      <td>0.541522</td>\n",
       "      <td>-0.722230</td>\n",
       "      <td>-0.243133</td>\n",
       "      <td>-0.478671</td>\n",
       "      <td>-0.957342</td>\n",
       "    </tr>\n",
       "  </tbody>\n",
       "</table>\n",
       "</div>"
      ],
      "text/plain": [
       "          U         V         W         Y         Z   New_col\n",
       "A  0.628910 -0.279470  0.488236  0.716216  0.248080  0.496161\n",
       "B -1.000327 -0.018418  2.558664 -0.032384 -0.378874 -0.757748\n",
       "C -2.170053  0.258648 -0.143731 -0.544527  0.733151  1.466302\n",
       "D -0.854696  0.856849  1.391035 -0.892781  1.963631  3.927263\n",
       "E  0.205118  0.293996 -1.232134 -0.601275  0.698382  1.396764\n",
       "F  1.214149  0.541522 -0.722230 -0.243133 -0.478671 -0.957342"
      ]
     },
     "execution_count": 346,
     "metadata": {},
     "output_type": "execute_result"
    }
   ],
   "source": [
    "df2"
   ]
  },
  {
   "cell_type": "code",
   "execution_count": 347,
   "id": "13947f3e",
   "metadata": {},
   "outputs": [
    {
     "data": {
      "text/html": [
       "<div>\n",
       "<style scoped>\n",
       "    .dataframe tbody tr th:only-of-type {\n",
       "        vertical-align: middle;\n",
       "    }\n",
       "\n",
       "    .dataframe tbody tr th {\n",
       "        vertical-align: top;\n",
       "    }\n",
       "\n",
       "    .dataframe thead th {\n",
       "        text-align: right;\n",
       "    }\n",
       "</style>\n",
       "<table border=\"1\" class=\"dataframe\">\n",
       "  <thead>\n",
       "    <tr style=\"text-align: right;\">\n",
       "      <th></th>\n",
       "      <th>U</th>\n",
       "      <th>W</th>\n",
       "      <th>Y</th>\n",
       "      <th>Z</th>\n",
       "      <th>New_col</th>\n",
       "    </tr>\n",
       "  </thead>\n",
       "  <tbody>\n",
       "    <tr>\n",
       "      <th>A</th>\n",
       "      <td>0.628910</td>\n",
       "      <td>0.488236</td>\n",
       "      <td>0.716216</td>\n",
       "      <td>0.248080</td>\n",
       "      <td>0.496161</td>\n",
       "    </tr>\n",
       "    <tr>\n",
       "      <th>B</th>\n",
       "      <td>-1.000327</td>\n",
       "      <td>2.558664</td>\n",
       "      <td>-0.032384</td>\n",
       "      <td>-0.378874</td>\n",
       "      <td>-0.757748</td>\n",
       "    </tr>\n",
       "    <tr>\n",
       "      <th>C</th>\n",
       "      <td>-2.170053</td>\n",
       "      <td>-0.143731</td>\n",
       "      <td>-0.544527</td>\n",
       "      <td>0.733151</td>\n",
       "      <td>1.466302</td>\n",
       "    </tr>\n",
       "    <tr>\n",
       "      <th>D</th>\n",
       "      <td>-0.854696</td>\n",
       "      <td>1.391035</td>\n",
       "      <td>-0.892781</td>\n",
       "      <td>1.963631</td>\n",
       "      <td>3.927263</td>\n",
       "    </tr>\n",
       "    <tr>\n",
       "      <th>E</th>\n",
       "      <td>0.205118</td>\n",
       "      <td>-1.232134</td>\n",
       "      <td>-0.601275</td>\n",
       "      <td>0.698382</td>\n",
       "      <td>1.396764</td>\n",
       "    </tr>\n",
       "    <tr>\n",
       "      <th>F</th>\n",
       "      <td>1.214149</td>\n",
       "      <td>-0.722230</td>\n",
       "      <td>-0.243133</td>\n",
       "      <td>-0.478671</td>\n",
       "      <td>-0.957342</td>\n",
       "    </tr>\n",
       "  </tbody>\n",
       "</table>\n",
       "</div>"
      ],
      "text/plain": [
       "          U         W         Y         Z   New_col\n",
       "A  0.628910  0.488236  0.716216  0.248080  0.496161\n",
       "B -1.000327  2.558664 -0.032384 -0.378874 -0.757748\n",
       "C -2.170053 -0.143731 -0.544527  0.733151  1.466302\n",
       "D -0.854696  1.391035 -0.892781  1.963631  3.927263\n",
       "E  0.205118 -1.232134 -0.601275  0.698382  1.396764\n",
       "F  1.214149 -0.722230 -0.243133 -0.478671 -0.957342"
      ]
     },
     "execution_count": 347,
     "metadata": {},
     "output_type": "execute_result"
    }
   ],
   "source": [
    "df2.drop('V',axis=1,inplace=True) # inplace=True for permanent deletion\n",
    "df2"
   ]
  },
  {
   "cell_type": "code",
   "execution_count": 348,
   "id": "1dc5b209",
   "metadata": {},
   "outputs": [
    {
     "data": {
      "text/html": [
       "<div>\n",
       "<style scoped>\n",
       "    .dataframe tbody tr th:only-of-type {\n",
       "        vertical-align: middle;\n",
       "    }\n",
       "\n",
       "    .dataframe tbody tr th {\n",
       "        vertical-align: top;\n",
       "    }\n",
       "\n",
       "    .dataframe thead th {\n",
       "        text-align: right;\n",
       "    }\n",
       "</style>\n",
       "<table border=\"1\" class=\"dataframe\">\n",
       "  <thead>\n",
       "    <tr style=\"text-align: right;\">\n",
       "      <th></th>\n",
       "      <th>U</th>\n",
       "      <th>W</th>\n",
       "      <th>Y</th>\n",
       "      <th>Z</th>\n",
       "      <th>New_col</th>\n",
       "    </tr>\n",
       "  </thead>\n",
       "  <tbody>\n",
       "    <tr>\n",
       "      <th>A</th>\n",
       "      <td>0.628910</td>\n",
       "      <td>0.488236</td>\n",
       "      <td>0.716216</td>\n",
       "      <td>0.248080</td>\n",
       "      <td>0.496161</td>\n",
       "    </tr>\n",
       "    <tr>\n",
       "      <th>B</th>\n",
       "      <td>-1.000327</td>\n",
       "      <td>2.558664</td>\n",
       "      <td>-0.032384</td>\n",
       "      <td>-0.378874</td>\n",
       "      <td>-0.757748</td>\n",
       "    </tr>\n",
       "    <tr>\n",
       "      <th>C</th>\n",
       "      <td>-2.170053</td>\n",
       "      <td>-0.143731</td>\n",
       "      <td>-0.544527</td>\n",
       "      <td>0.733151</td>\n",
       "      <td>1.466302</td>\n",
       "    </tr>\n",
       "    <tr>\n",
       "      <th>D</th>\n",
       "      <td>-0.854696</td>\n",
       "      <td>1.391035</td>\n",
       "      <td>-0.892781</td>\n",
       "      <td>1.963631</td>\n",
       "      <td>3.927263</td>\n",
       "    </tr>\n",
       "    <tr>\n",
       "      <th>E</th>\n",
       "      <td>0.205118</td>\n",
       "      <td>-1.232134</td>\n",
       "      <td>-0.601275</td>\n",
       "      <td>0.698382</td>\n",
       "      <td>1.396764</td>\n",
       "    </tr>\n",
       "    <tr>\n",
       "      <th>F</th>\n",
       "      <td>1.214149</td>\n",
       "      <td>-0.722230</td>\n",
       "      <td>-0.243133</td>\n",
       "      <td>-0.478671</td>\n",
       "      <td>-0.957342</td>\n",
       "    </tr>\n",
       "  </tbody>\n",
       "</table>\n",
       "</div>"
      ],
      "text/plain": [
       "          U         W         Y         Z   New_col\n",
       "A  0.628910  0.488236  0.716216  0.248080  0.496161\n",
       "B -1.000327  2.558664 -0.032384 -0.378874 -0.757748\n",
       "C -2.170053 -0.143731 -0.544527  0.733151  1.466302\n",
       "D -0.854696  1.391035 -0.892781  1.963631  3.927263\n",
       "E  0.205118 -1.232134 -0.601275  0.698382  1.396764\n",
       "F  1.214149 -0.722230 -0.243133 -0.478671 -0.957342"
      ]
     },
     "execution_count": 348,
     "metadata": {},
     "output_type": "execute_result"
    }
   ],
   "source": [
    "df2"
   ]
  },
  {
   "cell_type": "code",
   "execution_count": 349,
   "id": "53654ad8",
   "metadata": {},
   "outputs": [],
   "source": [
    "df2[\"NN\"]=5"
   ]
  },
  {
   "cell_type": "code",
   "execution_count": 350,
   "id": "8625b272",
   "metadata": {},
   "outputs": [
    {
     "data": {
      "text/html": [
       "<div>\n",
       "<style scoped>\n",
       "    .dataframe tbody tr th:only-of-type {\n",
       "        vertical-align: middle;\n",
       "    }\n",
       "\n",
       "    .dataframe tbody tr th {\n",
       "        vertical-align: top;\n",
       "    }\n",
       "\n",
       "    .dataframe thead th {\n",
       "        text-align: right;\n",
       "    }\n",
       "</style>\n",
       "<table border=\"1\" class=\"dataframe\">\n",
       "  <thead>\n",
       "    <tr style=\"text-align: right;\">\n",
       "      <th></th>\n",
       "      <th>U</th>\n",
       "      <th>W</th>\n",
       "      <th>Y</th>\n",
       "      <th>Z</th>\n",
       "      <th>New_col</th>\n",
       "      <th>NN</th>\n",
       "    </tr>\n",
       "  </thead>\n",
       "  <tbody>\n",
       "    <tr>\n",
       "      <th>A</th>\n",
       "      <td>0.628910</td>\n",
       "      <td>0.488236</td>\n",
       "      <td>0.716216</td>\n",
       "      <td>0.248080</td>\n",
       "      <td>0.496161</td>\n",
       "      <td>5</td>\n",
       "    </tr>\n",
       "    <tr>\n",
       "      <th>B</th>\n",
       "      <td>-1.000327</td>\n",
       "      <td>2.558664</td>\n",
       "      <td>-0.032384</td>\n",
       "      <td>-0.378874</td>\n",
       "      <td>-0.757748</td>\n",
       "      <td>5</td>\n",
       "    </tr>\n",
       "    <tr>\n",
       "      <th>C</th>\n",
       "      <td>-2.170053</td>\n",
       "      <td>-0.143731</td>\n",
       "      <td>-0.544527</td>\n",
       "      <td>0.733151</td>\n",
       "      <td>1.466302</td>\n",
       "      <td>5</td>\n",
       "    </tr>\n",
       "    <tr>\n",
       "      <th>D</th>\n",
       "      <td>-0.854696</td>\n",
       "      <td>1.391035</td>\n",
       "      <td>-0.892781</td>\n",
       "      <td>1.963631</td>\n",
       "      <td>3.927263</td>\n",
       "      <td>5</td>\n",
       "    </tr>\n",
       "    <tr>\n",
       "      <th>E</th>\n",
       "      <td>0.205118</td>\n",
       "      <td>-1.232134</td>\n",
       "      <td>-0.601275</td>\n",
       "      <td>0.698382</td>\n",
       "      <td>1.396764</td>\n",
       "      <td>5</td>\n",
       "    </tr>\n",
       "    <tr>\n",
       "      <th>F</th>\n",
       "      <td>1.214149</td>\n",
       "      <td>-0.722230</td>\n",
       "      <td>-0.243133</td>\n",
       "      <td>-0.478671</td>\n",
       "      <td>-0.957342</td>\n",
       "      <td>5</td>\n",
       "    </tr>\n",
       "  </tbody>\n",
       "</table>\n",
       "</div>"
      ],
      "text/plain": [
       "          U         W         Y         Z   New_col  NN\n",
       "A  0.628910  0.488236  0.716216  0.248080  0.496161   5\n",
       "B -1.000327  2.558664 -0.032384 -0.378874 -0.757748   5\n",
       "C -2.170053 -0.143731 -0.544527  0.733151  1.466302   5\n",
       "D -0.854696  1.391035 -0.892781  1.963631  3.927263   5\n",
       "E  0.205118 -1.232134 -0.601275  0.698382  1.396764   5\n",
       "F  1.214149 -0.722230 -0.243133 -0.478671 -0.957342   5"
      ]
     },
     "execution_count": 350,
     "metadata": {},
     "output_type": "execute_result"
    }
   ],
   "source": [
    "df2"
   ]
  },
  {
   "cell_type": "code",
   "execution_count": 352,
   "id": "cd4c2661",
   "metadata": {},
   "outputs": [],
   "source": [
    "df2[\"empty\"]=\"\""
   ]
  },
  {
   "cell_type": "code",
   "execution_count": 353,
   "id": "a240b944",
   "metadata": {},
   "outputs": [
    {
     "data": {
      "text/html": [
       "<div>\n",
       "<style scoped>\n",
       "    .dataframe tbody tr th:only-of-type {\n",
       "        vertical-align: middle;\n",
       "    }\n",
       "\n",
       "    .dataframe tbody tr th {\n",
       "        vertical-align: top;\n",
       "    }\n",
       "\n",
       "    .dataframe thead th {\n",
       "        text-align: right;\n",
       "    }\n",
       "</style>\n",
       "<table border=\"1\" class=\"dataframe\">\n",
       "  <thead>\n",
       "    <tr style=\"text-align: right;\">\n",
       "      <th></th>\n",
       "      <th>U</th>\n",
       "      <th>W</th>\n",
       "      <th>Y</th>\n",
       "      <th>Z</th>\n",
       "      <th>New_col</th>\n",
       "      <th>NN</th>\n",
       "      <th>empty</th>\n",
       "    </tr>\n",
       "  </thead>\n",
       "  <tbody>\n",
       "    <tr>\n",
       "      <th>A</th>\n",
       "      <td>0.628910</td>\n",
       "      <td>0.488236</td>\n",
       "      <td>0.716216</td>\n",
       "      <td>0.248080</td>\n",
       "      <td>0.496161</td>\n",
       "      <td>5</td>\n",
       "      <td></td>\n",
       "    </tr>\n",
       "    <tr>\n",
       "      <th>B</th>\n",
       "      <td>-1.000327</td>\n",
       "      <td>2.558664</td>\n",
       "      <td>-0.032384</td>\n",
       "      <td>-0.378874</td>\n",
       "      <td>-0.757748</td>\n",
       "      <td>5</td>\n",
       "      <td></td>\n",
       "    </tr>\n",
       "    <tr>\n",
       "      <th>C</th>\n",
       "      <td>-2.170053</td>\n",
       "      <td>-0.143731</td>\n",
       "      <td>-0.544527</td>\n",
       "      <td>0.733151</td>\n",
       "      <td>1.466302</td>\n",
       "      <td>5</td>\n",
       "      <td></td>\n",
       "    </tr>\n",
       "    <tr>\n",
       "      <th>D</th>\n",
       "      <td>-0.854696</td>\n",
       "      <td>1.391035</td>\n",
       "      <td>-0.892781</td>\n",
       "      <td>1.963631</td>\n",
       "      <td>3.927263</td>\n",
       "      <td>5</td>\n",
       "      <td></td>\n",
       "    </tr>\n",
       "    <tr>\n",
       "      <th>E</th>\n",
       "      <td>0.205118</td>\n",
       "      <td>-1.232134</td>\n",
       "      <td>-0.601275</td>\n",
       "      <td>0.698382</td>\n",
       "      <td>1.396764</td>\n",
       "      <td>5</td>\n",
       "      <td></td>\n",
       "    </tr>\n",
       "    <tr>\n",
       "      <th>F</th>\n",
       "      <td>1.214149</td>\n",
       "      <td>-0.722230</td>\n",
       "      <td>-0.243133</td>\n",
       "      <td>-0.478671</td>\n",
       "      <td>-0.957342</td>\n",
       "      <td>5</td>\n",
       "      <td></td>\n",
       "    </tr>\n",
       "  </tbody>\n",
       "</table>\n",
       "</div>"
      ],
      "text/plain": [
       "          U         W         Y         Z   New_col  NN empty\n",
       "A  0.628910  0.488236  0.716216  0.248080  0.496161   5      \n",
       "B -1.000327  2.558664 -0.032384 -0.378874 -0.757748   5      \n",
       "C -2.170053 -0.143731 -0.544527  0.733151  1.466302   5      \n",
       "D -0.854696  1.391035 -0.892781  1.963631  3.927263   5      \n",
       "E  0.205118 -1.232134 -0.601275  0.698382  1.396764   5      \n",
       "F  1.214149 -0.722230 -0.243133 -0.478671 -0.957342   5      "
      ]
     },
     "execution_count": 353,
     "metadata": {},
     "output_type": "execute_result"
    }
   ],
   "source": [
    "df2"
   ]
  },
  {
   "cell_type": "code",
   "execution_count": 354,
   "id": "3d23782d",
   "metadata": {},
   "outputs": [
    {
     "data": {
      "text/html": [
       "<div>\n",
       "<style scoped>\n",
       "    .dataframe tbody tr th:only-of-type {\n",
       "        vertical-align: middle;\n",
       "    }\n",
       "\n",
       "    .dataframe tbody tr th {\n",
       "        vertical-align: top;\n",
       "    }\n",
       "\n",
       "    .dataframe thead th {\n",
       "        text-align: right;\n",
       "    }\n",
       "</style>\n",
       "<table border=\"1\" class=\"dataframe\">\n",
       "  <thead>\n",
       "    <tr style=\"text-align: right;\">\n",
       "      <th></th>\n",
       "      <th>U</th>\n",
       "      <th>W</th>\n",
       "      <th>Y</th>\n",
       "      <th>Z</th>\n",
       "      <th>New_col</th>\n",
       "      <th>NN</th>\n",
       "      <th>empty</th>\n",
       "    </tr>\n",
       "  </thead>\n",
       "  <tbody>\n",
       "    <tr>\n",
       "      <th>A</th>\n",
       "      <td>0.628910</td>\n",
       "      <td>0.488236</td>\n",
       "      <td>0.716216</td>\n",
       "      <td>0.248080</td>\n",
       "      <td>0.496161</td>\n",
       "      <td>5</td>\n",
       "      <td></td>\n",
       "    </tr>\n",
       "    <tr>\n",
       "      <th>B</th>\n",
       "      <td>-1.000327</td>\n",
       "      <td>2.558664</td>\n",
       "      <td>-0.032384</td>\n",
       "      <td>-0.378874</td>\n",
       "      <td>-0.757748</td>\n",
       "      <td>5</td>\n",
       "      <td></td>\n",
       "    </tr>\n",
       "    <tr>\n",
       "      <th>C</th>\n",
       "      <td>-2.170053</td>\n",
       "      <td>-0.143731</td>\n",
       "      <td>-0.544527</td>\n",
       "      <td>0.733151</td>\n",
       "      <td>1.466302</td>\n",
       "      <td>5</td>\n",
       "      <td></td>\n",
       "    </tr>\n",
       "    <tr>\n",
       "      <th>E</th>\n",
       "      <td>0.205118</td>\n",
       "      <td>-1.232134</td>\n",
       "      <td>-0.601275</td>\n",
       "      <td>0.698382</td>\n",
       "      <td>1.396764</td>\n",
       "      <td>5</td>\n",
       "      <td></td>\n",
       "    </tr>\n",
       "    <tr>\n",
       "      <th>F</th>\n",
       "      <td>1.214149</td>\n",
       "      <td>-0.722230</td>\n",
       "      <td>-0.243133</td>\n",
       "      <td>-0.478671</td>\n",
       "      <td>-0.957342</td>\n",
       "      <td>5</td>\n",
       "      <td></td>\n",
       "    </tr>\n",
       "  </tbody>\n",
       "</table>\n",
       "</div>"
      ],
      "text/plain": [
       "          U         W         Y         Z   New_col  NN empty\n",
       "A  0.628910  0.488236  0.716216  0.248080  0.496161   5      \n",
       "B -1.000327  2.558664 -0.032384 -0.378874 -0.757748   5      \n",
       "C -2.170053 -0.143731 -0.544527  0.733151  1.466302   5      \n",
       "E  0.205118 -1.232134 -0.601275  0.698382  1.396764   5      \n",
       "F  1.214149 -0.722230 -0.243133 -0.478671 -0.957342   5      "
      ]
     },
     "execution_count": 354,
     "metadata": {},
     "output_type": "execute_result"
    }
   ],
   "source": [
    "df2.drop(\"D\")"
   ]
  },
  {
   "cell_type": "code",
   "execution_count": 356,
   "id": "eb812e95",
   "metadata": {},
   "outputs": [
    {
     "data": {
      "text/html": [
       "<div>\n",
       "<style scoped>\n",
       "    .dataframe tbody tr th:only-of-type {\n",
       "        vertical-align: middle;\n",
       "    }\n",
       "\n",
       "    .dataframe tbody tr th {\n",
       "        vertical-align: top;\n",
       "    }\n",
       "\n",
       "    .dataframe thead th {\n",
       "        text-align: right;\n",
       "    }\n",
       "</style>\n",
       "<table border=\"1\" class=\"dataframe\">\n",
       "  <thead>\n",
       "    <tr style=\"text-align: right;\">\n",
       "      <th></th>\n",
       "      <th>U</th>\n",
       "      <th>W</th>\n",
       "      <th>Y</th>\n",
       "      <th>Z</th>\n",
       "      <th>New_col</th>\n",
       "      <th>NN</th>\n",
       "      <th>empty</th>\n",
       "    </tr>\n",
       "  </thead>\n",
       "  <tbody>\n",
       "    <tr>\n",
       "      <th>A</th>\n",
       "      <td>0.628910</td>\n",
       "      <td>0.488236</td>\n",
       "      <td>0.716216</td>\n",
       "      <td>0.248080</td>\n",
       "      <td>0.496161</td>\n",
       "      <td>5</td>\n",
       "      <td></td>\n",
       "    </tr>\n",
       "    <tr>\n",
       "      <th>B</th>\n",
       "      <td>-1.000327</td>\n",
       "      <td>2.558664</td>\n",
       "      <td>-0.032384</td>\n",
       "      <td>-0.378874</td>\n",
       "      <td>-0.757748</td>\n",
       "      <td>5</td>\n",
       "      <td></td>\n",
       "    </tr>\n",
       "    <tr>\n",
       "      <th>C</th>\n",
       "      <td>-2.170053</td>\n",
       "      <td>-0.143731</td>\n",
       "      <td>-0.544527</td>\n",
       "      <td>0.733151</td>\n",
       "      <td>1.466302</td>\n",
       "      <td>5</td>\n",
       "      <td></td>\n",
       "    </tr>\n",
       "    <tr>\n",
       "      <th>E</th>\n",
       "      <td>0.205118</td>\n",
       "      <td>-1.232134</td>\n",
       "      <td>-0.601275</td>\n",
       "      <td>0.698382</td>\n",
       "      <td>1.396764</td>\n",
       "      <td>5</td>\n",
       "      <td></td>\n",
       "    </tr>\n",
       "    <tr>\n",
       "      <th>F</th>\n",
       "      <td>1.214149</td>\n",
       "      <td>-0.722230</td>\n",
       "      <td>-0.243133</td>\n",
       "      <td>-0.478671</td>\n",
       "      <td>-0.957342</td>\n",
       "      <td>5</td>\n",
       "      <td></td>\n",
       "    </tr>\n",
       "  </tbody>\n",
       "</table>\n",
       "</div>"
      ],
      "text/plain": [
       "          U         W         Y         Z   New_col  NN empty\n",
       "A  0.628910  0.488236  0.716216  0.248080  0.496161   5      \n",
       "B -1.000327  2.558664 -0.032384 -0.378874 -0.757748   5      \n",
       "C -2.170053 -0.143731 -0.544527  0.733151  1.466302   5      \n",
       "E  0.205118 -1.232134 -0.601275  0.698382  1.396764   5      \n",
       "F  1.214149 -0.722230 -0.243133 -0.478671 -0.957342   5      "
      ]
     },
     "execution_count": 356,
     "metadata": {},
     "output_type": "execute_result"
    }
   ],
   "source": [
    "df2.drop(\"D\",axis=0)"
   ]
  },
  {
   "cell_type": "code",
   "execution_count": 357,
   "id": "d73cbec6",
   "metadata": {},
   "outputs": [
    {
     "data": {
      "text/html": [
       "<div>\n",
       "<style scoped>\n",
       "    .dataframe tbody tr th:only-of-type {\n",
       "        vertical-align: middle;\n",
       "    }\n",
       "\n",
       "    .dataframe tbody tr th {\n",
       "        vertical-align: top;\n",
       "    }\n",
       "\n",
       "    .dataframe thead th {\n",
       "        text-align: right;\n",
       "    }\n",
       "</style>\n",
       "<table border=\"1\" class=\"dataframe\">\n",
       "  <thead>\n",
       "    <tr style=\"text-align: right;\">\n",
       "      <th></th>\n",
       "      <th>U</th>\n",
       "      <th>W</th>\n",
       "      <th>Y</th>\n",
       "      <th>Z</th>\n",
       "      <th>New_col</th>\n",
       "      <th>NN</th>\n",
       "      <th>empty</th>\n",
       "    </tr>\n",
       "  </thead>\n",
       "  <tbody>\n",
       "    <tr>\n",
       "      <th>A</th>\n",
       "      <td>0.628910</td>\n",
       "      <td>0.488236</td>\n",
       "      <td>0.716216</td>\n",
       "      <td>0.248080</td>\n",
       "      <td>0.496161</td>\n",
       "      <td>5</td>\n",
       "      <td></td>\n",
       "    </tr>\n",
       "    <tr>\n",
       "      <th>B</th>\n",
       "      <td>-1.000327</td>\n",
       "      <td>2.558664</td>\n",
       "      <td>-0.032384</td>\n",
       "      <td>-0.378874</td>\n",
       "      <td>-0.757748</td>\n",
       "      <td>5</td>\n",
       "      <td></td>\n",
       "    </tr>\n",
       "    <tr>\n",
       "      <th>C</th>\n",
       "      <td>-2.170053</td>\n",
       "      <td>-0.143731</td>\n",
       "      <td>-0.544527</td>\n",
       "      <td>0.733151</td>\n",
       "      <td>1.466302</td>\n",
       "      <td>5</td>\n",
       "      <td></td>\n",
       "    </tr>\n",
       "    <tr>\n",
       "      <th>D</th>\n",
       "      <td>-0.854696</td>\n",
       "      <td>1.391035</td>\n",
       "      <td>-0.892781</td>\n",
       "      <td>1.963631</td>\n",
       "      <td>3.927263</td>\n",
       "      <td>5</td>\n",
       "      <td></td>\n",
       "    </tr>\n",
       "    <tr>\n",
       "      <th>E</th>\n",
       "      <td>0.205118</td>\n",
       "      <td>-1.232134</td>\n",
       "      <td>-0.601275</td>\n",
       "      <td>0.698382</td>\n",
       "      <td>1.396764</td>\n",
       "      <td>5</td>\n",
       "      <td></td>\n",
       "    </tr>\n",
       "    <tr>\n",
       "      <th>F</th>\n",
       "      <td>1.214149</td>\n",
       "      <td>-0.722230</td>\n",
       "      <td>-0.243133</td>\n",
       "      <td>-0.478671</td>\n",
       "      <td>-0.957342</td>\n",
       "      <td>5</td>\n",
       "      <td></td>\n",
       "    </tr>\n",
       "  </tbody>\n",
       "</table>\n",
       "</div>"
      ],
      "text/plain": [
       "          U         W         Y         Z   New_col  NN empty\n",
       "A  0.628910  0.488236  0.716216  0.248080  0.496161   5      \n",
       "B -1.000327  2.558664 -0.032384 -0.378874 -0.757748   5      \n",
       "C -2.170053 -0.143731 -0.544527  0.733151  1.466302   5      \n",
       "D -0.854696  1.391035 -0.892781  1.963631  3.927263   5      \n",
       "E  0.205118 -1.232134 -0.601275  0.698382  1.396764   5      \n",
       "F  1.214149 -0.722230 -0.243133 -0.478671 -0.957342   5      "
      ]
     },
     "execution_count": 357,
     "metadata": {},
     "output_type": "execute_result"
    }
   ],
   "source": [
    "df2"
   ]
  },
  {
   "cell_type": "code",
   "execution_count": 358,
   "id": "49df4695",
   "metadata": {},
   "outputs": [],
   "source": [
    "df2.drop(\"D\",axis=0,inplace=True)"
   ]
  },
  {
   "cell_type": "code",
   "execution_count": 359,
   "id": "d6a84600",
   "metadata": {},
   "outputs": [
    {
     "data": {
      "text/html": [
       "<div>\n",
       "<style scoped>\n",
       "    .dataframe tbody tr th:only-of-type {\n",
       "        vertical-align: middle;\n",
       "    }\n",
       "\n",
       "    .dataframe tbody tr th {\n",
       "        vertical-align: top;\n",
       "    }\n",
       "\n",
       "    .dataframe thead th {\n",
       "        text-align: right;\n",
       "    }\n",
       "</style>\n",
       "<table border=\"1\" class=\"dataframe\">\n",
       "  <thead>\n",
       "    <tr style=\"text-align: right;\">\n",
       "      <th></th>\n",
       "      <th>U</th>\n",
       "      <th>W</th>\n",
       "      <th>Y</th>\n",
       "      <th>Z</th>\n",
       "      <th>New_col</th>\n",
       "      <th>NN</th>\n",
       "      <th>empty</th>\n",
       "    </tr>\n",
       "  </thead>\n",
       "  <tbody>\n",
       "    <tr>\n",
       "      <th>A</th>\n",
       "      <td>0.628910</td>\n",
       "      <td>0.488236</td>\n",
       "      <td>0.716216</td>\n",
       "      <td>0.248080</td>\n",
       "      <td>0.496161</td>\n",
       "      <td>5</td>\n",
       "      <td></td>\n",
       "    </tr>\n",
       "    <tr>\n",
       "      <th>B</th>\n",
       "      <td>-1.000327</td>\n",
       "      <td>2.558664</td>\n",
       "      <td>-0.032384</td>\n",
       "      <td>-0.378874</td>\n",
       "      <td>-0.757748</td>\n",
       "      <td>5</td>\n",
       "      <td></td>\n",
       "    </tr>\n",
       "    <tr>\n",
       "      <th>C</th>\n",
       "      <td>-2.170053</td>\n",
       "      <td>-0.143731</td>\n",
       "      <td>-0.544527</td>\n",
       "      <td>0.733151</td>\n",
       "      <td>1.466302</td>\n",
       "      <td>5</td>\n",
       "      <td></td>\n",
       "    </tr>\n",
       "    <tr>\n",
       "      <th>E</th>\n",
       "      <td>0.205118</td>\n",
       "      <td>-1.232134</td>\n",
       "      <td>-0.601275</td>\n",
       "      <td>0.698382</td>\n",
       "      <td>1.396764</td>\n",
       "      <td>5</td>\n",
       "      <td></td>\n",
       "    </tr>\n",
       "    <tr>\n",
       "      <th>F</th>\n",
       "      <td>1.214149</td>\n",
       "      <td>-0.722230</td>\n",
       "      <td>-0.243133</td>\n",
       "      <td>-0.478671</td>\n",
       "      <td>-0.957342</td>\n",
       "      <td>5</td>\n",
       "      <td></td>\n",
       "    </tr>\n",
       "  </tbody>\n",
       "</table>\n",
       "</div>"
      ],
      "text/plain": [
       "          U         W         Y         Z   New_col  NN empty\n",
       "A  0.628910  0.488236  0.716216  0.248080  0.496161   5      \n",
       "B -1.000327  2.558664 -0.032384 -0.378874 -0.757748   5      \n",
       "C -2.170053 -0.143731 -0.544527  0.733151  1.466302   5      \n",
       "E  0.205118 -1.232134 -0.601275  0.698382  1.396764   5      \n",
       "F  1.214149 -0.722230 -0.243133 -0.478671 -0.957342   5      "
      ]
     },
     "execution_count": 359,
     "metadata": {},
     "output_type": "execute_result"
    }
   ],
   "source": [
    "df2"
   ]
  },
  {
   "cell_type": "code",
   "execution_count": 360,
   "id": "32483cba",
   "metadata": {},
   "outputs": [
    {
     "name": "stderr",
     "output_type": "stream",
     "text": [
      "C:\\Users\\dell\\AppData\\Local\\Temp\\ipykernel_9424\\2465727404.py:1: FutureWarning: In a future version of pandas all arguments of DataFrame.drop except for the argument 'labels' will be keyword-only.\n",
      "  df2.drop(\"U\",\"empty\",axis=1)\n"
     ]
    },
    {
     "ename": "TypeError",
     "evalue": "drop() got multiple values for argument 'axis'",
     "output_type": "error",
     "traceback": [
      "\u001b[1;31m---------------------------------------------------------------------------\u001b[0m",
      "\u001b[1;31mTypeError\u001b[0m                                 Traceback (most recent call last)",
      "\u001b[1;32m~\\AppData\\Local\\Temp\\ipykernel_9424\\2465727404.py\u001b[0m in \u001b[0;36m<module>\u001b[1;34m\u001b[0m\n\u001b[1;32m----> 1\u001b[1;33m \u001b[0mdf2\u001b[0m\u001b[1;33m.\u001b[0m\u001b[0mdrop\u001b[0m\u001b[1;33m(\u001b[0m\u001b[1;34m\"U\"\u001b[0m\u001b[1;33m,\u001b[0m\u001b[1;34m\"empty\"\u001b[0m\u001b[1;33m,\u001b[0m\u001b[0maxis\u001b[0m\u001b[1;33m=\u001b[0m\u001b[1;36m1\u001b[0m\u001b[1;33m)\u001b[0m\u001b[1;33m\u001b[0m\u001b[1;33m\u001b[0m\u001b[0m\n\u001b[0m",
      "\u001b[1;32m~\\anaconda3\\lib\\site-packages\\pandas\\util\\_decorators.py\u001b[0m in \u001b[0;36mwrapper\u001b[1;34m(*args, **kwargs)\u001b[0m\n\u001b[0;32m    309\u001b[0m                     \u001b[0mstacklevel\u001b[0m\u001b[1;33m=\u001b[0m\u001b[0mstacklevel\u001b[0m\u001b[1;33m,\u001b[0m\u001b[1;33m\u001b[0m\u001b[1;33m\u001b[0m\u001b[0m\n\u001b[0;32m    310\u001b[0m                 )\n\u001b[1;32m--> 311\u001b[1;33m             \u001b[1;32mreturn\u001b[0m \u001b[0mfunc\u001b[0m\u001b[1;33m(\u001b[0m\u001b[1;33m*\u001b[0m\u001b[0margs\u001b[0m\u001b[1;33m,\u001b[0m \u001b[1;33m**\u001b[0m\u001b[0mkwargs\u001b[0m\u001b[1;33m)\u001b[0m\u001b[1;33m\u001b[0m\u001b[1;33m\u001b[0m\u001b[0m\n\u001b[0m\u001b[0;32m    312\u001b[0m \u001b[1;33m\u001b[0m\u001b[0m\n\u001b[0;32m    313\u001b[0m         \u001b[1;32mreturn\u001b[0m \u001b[0mwrapper\u001b[0m\u001b[1;33m\u001b[0m\u001b[1;33m\u001b[0m\u001b[0m\n",
      "\u001b[1;31mTypeError\u001b[0m: drop() got multiple values for argument 'axis'"
     ]
    }
   ],
   "source": [
    "df2.drop(\"U\",\"empty\",axis=1)"
   ]
  },
  {
   "cell_type": "code",
   "execution_count": 361,
   "id": "a6f38fd3",
   "metadata": {},
   "outputs": [
    {
     "data": {
      "text/html": [
       "<div>\n",
       "<style scoped>\n",
       "    .dataframe tbody tr th:only-of-type {\n",
       "        vertical-align: middle;\n",
       "    }\n",
       "\n",
       "    .dataframe tbody tr th {\n",
       "        vertical-align: top;\n",
       "    }\n",
       "\n",
       "    .dataframe thead th {\n",
       "        text-align: right;\n",
       "    }\n",
       "</style>\n",
       "<table border=\"1\" class=\"dataframe\">\n",
       "  <thead>\n",
       "    <tr style=\"text-align: right;\">\n",
       "      <th></th>\n",
       "      <th>W</th>\n",
       "      <th>Y</th>\n",
       "      <th>Z</th>\n",
       "      <th>New_col</th>\n",
       "      <th>NN</th>\n",
       "    </tr>\n",
       "  </thead>\n",
       "  <tbody>\n",
       "    <tr>\n",
       "      <th>A</th>\n",
       "      <td>0.488236</td>\n",
       "      <td>0.716216</td>\n",
       "      <td>0.248080</td>\n",
       "      <td>0.496161</td>\n",
       "      <td>5</td>\n",
       "    </tr>\n",
       "    <tr>\n",
       "      <th>B</th>\n",
       "      <td>2.558664</td>\n",
       "      <td>-0.032384</td>\n",
       "      <td>-0.378874</td>\n",
       "      <td>-0.757748</td>\n",
       "      <td>5</td>\n",
       "    </tr>\n",
       "    <tr>\n",
       "      <th>C</th>\n",
       "      <td>-0.143731</td>\n",
       "      <td>-0.544527</td>\n",
       "      <td>0.733151</td>\n",
       "      <td>1.466302</td>\n",
       "      <td>5</td>\n",
       "    </tr>\n",
       "    <tr>\n",
       "      <th>E</th>\n",
       "      <td>-1.232134</td>\n",
       "      <td>-0.601275</td>\n",
       "      <td>0.698382</td>\n",
       "      <td>1.396764</td>\n",
       "      <td>5</td>\n",
       "    </tr>\n",
       "    <tr>\n",
       "      <th>F</th>\n",
       "      <td>-0.722230</td>\n",
       "      <td>-0.243133</td>\n",
       "      <td>-0.478671</td>\n",
       "      <td>-0.957342</td>\n",
       "      <td>5</td>\n",
       "    </tr>\n",
       "  </tbody>\n",
       "</table>\n",
       "</div>"
      ],
      "text/plain": [
       "          W         Y         Z   New_col  NN\n",
       "A  0.488236  0.716216  0.248080  0.496161   5\n",
       "B  2.558664 -0.032384 -0.378874 -0.757748   5\n",
       "C -0.143731 -0.544527  0.733151  1.466302   5\n",
       "E -1.232134 -0.601275  0.698382  1.396764   5\n",
       "F -0.722230 -0.243133 -0.478671 -0.957342   5"
      ]
     },
     "execution_count": 361,
     "metadata": {},
     "output_type": "execute_result"
    }
   ],
   "source": [
    "df2.drop([\"U\",\"empty\"],axis=1)"
   ]
  },
  {
   "cell_type": "code",
   "execution_count": 362,
   "id": "befbf292",
   "metadata": {},
   "outputs": [],
   "source": [
    "df2.drop([\"U\",\"empty\"],axis=1,inplace=True)"
   ]
  },
  {
   "cell_type": "code",
   "execution_count": 363,
   "id": "35687dfa",
   "metadata": {},
   "outputs": [
    {
     "data": {
      "text/html": [
       "<div>\n",
       "<style scoped>\n",
       "    .dataframe tbody tr th:only-of-type {\n",
       "        vertical-align: middle;\n",
       "    }\n",
       "\n",
       "    .dataframe tbody tr th {\n",
       "        vertical-align: top;\n",
       "    }\n",
       "\n",
       "    .dataframe thead th {\n",
       "        text-align: right;\n",
       "    }\n",
       "</style>\n",
       "<table border=\"1\" class=\"dataframe\">\n",
       "  <thead>\n",
       "    <tr style=\"text-align: right;\">\n",
       "      <th></th>\n",
       "      <th>W</th>\n",
       "      <th>Y</th>\n",
       "      <th>Z</th>\n",
       "      <th>New_col</th>\n",
       "      <th>NN</th>\n",
       "    </tr>\n",
       "  </thead>\n",
       "  <tbody>\n",
       "    <tr>\n",
       "      <th>A</th>\n",
       "      <td>0.488236</td>\n",
       "      <td>0.716216</td>\n",
       "      <td>0.248080</td>\n",
       "      <td>0.496161</td>\n",
       "      <td>5</td>\n",
       "    </tr>\n",
       "    <tr>\n",
       "      <th>B</th>\n",
       "      <td>2.558664</td>\n",
       "      <td>-0.032384</td>\n",
       "      <td>-0.378874</td>\n",
       "      <td>-0.757748</td>\n",
       "      <td>5</td>\n",
       "    </tr>\n",
       "    <tr>\n",
       "      <th>C</th>\n",
       "      <td>-0.143731</td>\n",
       "      <td>-0.544527</td>\n",
       "      <td>0.733151</td>\n",
       "      <td>1.466302</td>\n",
       "      <td>5</td>\n",
       "    </tr>\n",
       "    <tr>\n",
       "      <th>E</th>\n",
       "      <td>-1.232134</td>\n",
       "      <td>-0.601275</td>\n",
       "      <td>0.698382</td>\n",
       "      <td>1.396764</td>\n",
       "      <td>5</td>\n",
       "    </tr>\n",
       "    <tr>\n",
       "      <th>F</th>\n",
       "      <td>-0.722230</td>\n",
       "      <td>-0.243133</td>\n",
       "      <td>-0.478671</td>\n",
       "      <td>-0.957342</td>\n",
       "      <td>5</td>\n",
       "    </tr>\n",
       "  </tbody>\n",
       "</table>\n",
       "</div>"
      ],
      "text/plain": [
       "          W         Y         Z   New_col  NN\n",
       "A  0.488236  0.716216  0.248080  0.496161   5\n",
       "B  2.558664 -0.032384 -0.378874 -0.757748   5\n",
       "C -0.143731 -0.544527  0.733151  1.466302   5\n",
       "E -1.232134 -0.601275  0.698382  1.396764   5\n",
       "F -0.722230 -0.243133 -0.478671 -0.957342   5"
      ]
     },
     "execution_count": 363,
     "metadata": {},
     "output_type": "execute_result"
    }
   ],
   "source": [
    "df2"
   ]
  },
  {
   "cell_type": "code",
   "execution_count": null,
   "id": "bcc4e789",
   "metadata": {},
   "outputs": [],
   "source": []
  }
 ],
 "metadata": {
  "kernelspec": {
   "display_name": "Python 3 (ipykernel)",
   "language": "python",
   "name": "python3"
  },
  "language_info": {
   "codemirror_mode": {
    "name": "ipython",
    "version": 3
   },
   "file_extension": ".py",
   "mimetype": "text/x-python",
   "name": "python",
   "nbconvert_exporter": "python",
   "pygments_lexer": "ipython3",
   "version": "3.9.13"
  }
 },
 "nbformat": 4,
 "nbformat_minor": 5
}
