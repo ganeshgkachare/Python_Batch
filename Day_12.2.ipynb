{
 "cells": [
  {
   "cell_type": "markdown",
   "id": "6262dce9",
   "metadata": {},
   "source": [
    "# Pandas"
   ]
  },
  {
   "cell_type": "code",
   "execution_count": 11,
   "id": "74063b17",
   "metadata": {},
   "outputs": [],
   "source": [
    "import pandas as pd\n",
    "import numpy as np"
   ]
  },
  {
   "cell_type": "code",
   "execution_count": null,
   "id": "491f66c7",
   "metadata": {},
   "outputs": [],
   "source": []
  },
  {
   "cell_type": "code",
   "execution_count": null,
   "id": "324844e6",
   "metadata": {},
   "outputs": [],
   "source": []
  },
  {
   "cell_type": "code",
   "execution_count": null,
   "id": "2dc109f5",
   "metadata": {},
   "outputs": [],
   "source": [
    "# Groupby"
   ]
  },
  {
   "cell_type": "code",
   "execution_count": null,
   "id": "57c96221",
   "metadata": {},
   "outputs": [],
   "source": [
    "df6 = pd.read_csv(r'D:\\Freelance SQL\\Python\\New folder\\samplegroup.csv')\n",
    "df6"
   ]
  },
  {
   "cell_type": "code",
   "execution_count": null,
   "id": "68ec862a",
   "metadata": {},
   "outputs": [],
   "source": []
  },
  {
   "cell_type": "code",
   "execution_count": null,
   "id": "d51645e9",
   "metadata": {},
   "outputs": [],
   "source": [
    "df6.groupby('company').sum()"
   ]
  },
  {
   "cell_type": "code",
   "execution_count": null,
   "id": "2233ddc3",
   "metadata": {},
   "outputs": [],
   "source": [
    "df6.groupby(['company',\"person\"]).sum()"
   ]
  },
  {
   "cell_type": "code",
   "execution_count": null,
   "id": "7ab7b036",
   "metadata": {},
   "outputs": [],
   "source": [
    "df6.groupby('company').mean()"
   ]
  },
  {
   "cell_type": "code",
   "execution_count": null,
   "id": "5eef46e2",
   "metadata": {},
   "outputs": [],
   "source": [
    "df6.groupby('company').mean().loc['flipkart']"
   ]
  },
  {
   "cell_type": "code",
   "execution_count": null,
   "id": "57959683",
   "metadata": {},
   "outputs": [],
   "source": [
    "df6.groupby('company').sum().loc['flipkart']"
   ]
  },
  {
   "cell_type": "code",
   "execution_count": null,
   "id": "c0006321",
   "metadata": {},
   "outputs": [],
   "source": [
    "df6.groupby('company').min()"
   ]
  },
  {
   "cell_type": "code",
   "execution_count": null,
   "id": "6d6120d9",
   "metadata": {},
   "outputs": [],
   "source": [
    "df6.groupby('company').max()"
   ]
  },
  {
   "cell_type": "code",
   "execution_count": null,
   "id": "1cc2bd30",
   "metadata": {},
   "outputs": [],
   "source": []
  },
  {
   "cell_type": "code",
   "execution_count": null,
   "id": "d57d8871",
   "metadata": {},
   "outputs": [],
   "source": [
    "df6"
   ]
  },
  {
   "cell_type": "code",
   "execution_count": null,
   "id": "a04c2f22",
   "metadata": {},
   "outputs": [],
   "source": [
    "df6[\"sales\"]=df6[\"sales\"].astype(str)"
   ]
  },
  {
   "cell_type": "code",
   "execution_count": null,
   "id": "c143ca82",
   "metadata": {},
   "outputs": [],
   "source": [
    "df6[\"ID\"]=df6.groupby(\"company\")[\"sales\"].transform(lambda x:\", \".join(x))"
   ]
  },
  {
   "cell_type": "code",
   "execution_count": null,
   "id": "f0d44e77",
   "metadata": {},
   "outputs": [],
   "source": [
    "df6"
   ]
  },
  {
   "cell_type": "code",
   "execution_count": null,
   "id": "4babf23d",
   "metadata": {},
   "outputs": [],
   "source": [
    "df6.drop([\"person\",\"sales\"],axis=1,inplace=True)"
   ]
  },
  {
   "cell_type": "code",
   "execution_count": null,
   "id": "cfd02535",
   "metadata": {},
   "outputs": [],
   "source": [
    "df6"
   ]
  },
  {
   "cell_type": "code",
   "execution_count": null,
   "id": "42bc696c",
   "metadata": {},
   "outputs": [],
   "source": [
    "df6.drop_duplicates(inplace=True)"
   ]
  },
  {
   "cell_type": "code",
   "execution_count": null,
   "id": "d5bd5e27",
   "metadata": {},
   "outputs": [],
   "source": [
    "df6"
   ]
  },
  {
   "cell_type": "code",
   "execution_count": null,
   "id": "1b601916",
   "metadata": {},
   "outputs": [],
   "source": [
    "df6 = pd.read_csv(r'D:\\Freelance SQL\\Python\\New folder\\samplegroup.csv')\n",
    "df6"
   ]
  },
  {
   "cell_type": "code",
   "execution_count": null,
   "id": "5c6ca49e",
   "metadata": {},
   "outputs": [],
   "source": [
    "df6"
   ]
  },
  {
   "cell_type": "code",
   "execution_count": null,
   "id": "454bfd3b",
   "metadata": {},
   "outputs": [],
   "source": [
    "df6.groupby(\"company\")[\"person\"].transform(lambda x:\", \".join(x))"
   ]
  },
  {
   "cell_type": "code",
   "execution_count": null,
   "id": "56c95cd8",
   "metadata": {},
   "outputs": [],
   "source": []
  },
  {
   "cell_type": "code",
   "execution_count": null,
   "id": "1a5fe801",
   "metadata": {},
   "outputs": [],
   "source": [
    "df6"
   ]
  },
  {
   "cell_type": "code",
   "execution_count": null,
   "id": "ee6cfda3",
   "metadata": {},
   "outputs": [],
   "source": [
    "#  finding unique entries\n",
    "df6['company'].unique()\n",
    " "
   ]
  },
  {
   "cell_type": "code",
   "execution_count": null,
   "id": "52d6ef01",
   "metadata": {},
   "outputs": [],
   "source": [
    "df6['person'].unique()"
   ]
  },
  {
   "cell_type": "code",
   "execution_count": null,
   "id": "d8ce1e23",
   "metadata": {},
   "outputs": [],
   "source": [
    "len(df6['company'].unique())"
   ]
  },
  {
   "cell_type": "code",
   "execution_count": null,
   "id": "b7845760",
   "metadata": {},
   "outputs": [],
   "source": [
    "df6['company'].nunique() # finding number of unique values"
   ]
  },
  {
   "cell_type": "code",
   "execution_count": null,
   "id": "805786db",
   "metadata": {},
   "outputs": [],
   "source": [
    "# findin the frequency or number of repetition\n",
    "df6['company'].value_counts()"
   ]
  },
  {
   "cell_type": "code",
   "execution_count": null,
   "id": "a9bf215a",
   "metadata": {},
   "outputs": [],
   "source": [
    "# apply method for customised function\n",
    "df6['sales'].sum()"
   ]
  },
  {
   "cell_type": "code",
   "execution_count": null,
   "id": "50bfeddc",
   "metadata": {},
   "outputs": [],
   "source": []
  },
  {
   "cell_type": "code",
   "execution_count": null,
   "id": "23727606",
   "metadata": {},
   "outputs": [],
   "source": [
    "import pandas as pd"
   ]
  },
  {
   "cell_type": "code",
   "execution_count": null,
   "id": "888bf842",
   "metadata": {},
   "outputs": [],
   "source": [
    "# create a DataFrame\n",
    "df = pd.DataFrame({\n",
    "    'name': ['Akul','Akul', 'Udit', 'Sai', 'Om'],\n",
    "    'age': [25,25, 30, 35, 40],\n",
    "    'gender': ['F','F',  'M', 'M', 'M'],\n",
    "    'salary': [50000,50000, 60000, 70000, 80000]\n",
    "})"
   ]
  },
  {
   "cell_type": "code",
   "execution_count": null,
   "id": "1b4fb4e2",
   "metadata": {},
   "outputs": [],
   "source": [
    "df"
   ]
  },
  {
   "cell_type": "code",
   "execution_count": null,
   "id": "9658e49d",
   "metadata": {},
   "outputs": [],
   "source": [
    "df['age'] "
   ]
  },
  {
   "cell_type": "code",
   "execution_count": null,
   "id": "3671446b",
   "metadata": {},
   "outputs": [],
   "source": [
    "df['age'] > 30"
   ]
  },
  {
   "cell_type": "code",
   "execution_count": null,
   "id": "fc2e481c",
   "metadata": {},
   "outputs": [],
   "source": [
    "df[df['age'] > 30]"
   ]
  },
  {
   "cell_type": "code",
   "execution_count": null,
   "id": "61640855",
   "metadata": {},
   "outputs": [],
   "source": [
    "df"
   ]
  },
  {
   "cell_type": "code",
   "execution_count": null,
   "id": "0ce7a2db",
   "metadata": {},
   "outputs": [],
   "source": [
    "# extract the rows where age is greater than 30 and salary is greater than 60000\n",
    "subset = df.loc[(df['age'] > 30) & (df['salary'] > 60000), ['name', 'age', 'salary']]\n",
    "print(subset)"
   ]
  },
  {
   "cell_type": "code",
   "execution_count": null,
   "id": "e0494056",
   "metadata": {},
   "outputs": [],
   "source": [
    "subset = df.loc[(df['age'] > 30) & (df['salary'] > 60000), ['name', 'age']]\n",
    "print(subset)"
   ]
  },
  {
   "cell_type": "code",
   "execution_count": null,
   "id": "77cc82f2",
   "metadata": {},
   "outputs": [],
   "source": [
    "df[(df['age'] > 30) & (df['salary'] > 60000)][\"name\"]"
   ]
  },
  {
   "cell_type": "code",
   "execution_count": null,
   "id": "064c8815",
   "metadata": {},
   "outputs": [],
   "source": [
    "df[(df['age'] > 30) & (df['salary'] > 60000)]"
   ]
  },
  {
   "cell_type": "code",
   "execution_count": null,
   "id": "635fccf4",
   "metadata": {},
   "outputs": [],
   "source": [
    "df[(df['age'] > 30) | (df['salary'] > 60000)]"
   ]
  },
  {
   "cell_type": "code",
   "execution_count": null,
   "id": "c0e4a212",
   "metadata": {},
   "outputs": [],
   "source": [
    "df[(df['age'] > 30) & (df['salary'] > 60000)][\"salary\"]"
   ]
  },
  {
   "cell_type": "code",
   "execution_count": null,
   "id": "97731544",
   "metadata": {},
   "outputs": [],
   "source": [
    "df.loc[(df['age'] > 30) & (df['salary'] > 60000)]"
   ]
  },
  {
   "cell_type": "code",
   "execution_count": null,
   "id": "e5293969",
   "metadata": {},
   "outputs": [],
   "source": [
    "df.loc[(df['age'] > 30) & (df['salary'] > 60000)][['name', 'age', 'salary']]\n"
   ]
  },
  {
   "cell_type": "code",
   "execution_count": null,
   "id": "e20f985e",
   "metadata": {},
   "outputs": [],
   "source": [
    "data=df[(df['age'] > 30) & (df['salary'] > 60000)][['name', 'age', 'salary']]\n",
    "data"
   ]
  },
  {
   "cell_type": "code",
   "execution_count": null,
   "id": "87641e83",
   "metadata": {},
   "outputs": [],
   "source": [
    "df"
   ]
  },
  {
   "cell_type": "code",
   "execution_count": null,
   "id": "83948a27",
   "metadata": {},
   "outputs": [],
   "source": [
    "df[(df['age'] ==30) & (df['age']== 35)]"
   ]
  },
  {
   "cell_type": "code",
   "execution_count": null,
   "id": "08bbe76b",
   "metadata": {},
   "outputs": [],
   "source": [
    "df[(df['age'] ==30) | (df['age']== 35)]"
   ]
  },
  {
   "cell_type": "code",
   "execution_count": null,
   "id": "f0a3fd63",
   "metadata": {},
   "outputs": [],
   "source": [
    "df"
   ]
  },
  {
   "cell_type": "code",
   "execution_count": null,
   "id": "7000b1ad",
   "metadata": {},
   "outputs": [],
   "source": [
    "df[(df['age'] ==30) & (df['age']== 35)]"
   ]
  },
  {
   "cell_type": "code",
   "execution_count": null,
   "id": "9750dc2b",
   "metadata": {},
   "outputs": [],
   "source": [
    "df[(df['age'] ==30) | (df['age']== 35)]"
   ]
  },
  {
   "cell_type": "code",
   "execution_count": null,
   "id": "725595d8",
   "metadata": {},
   "outputs": [],
   "source": [
    "df.head(2)"
   ]
  },
  {
   "cell_type": "code",
   "execution_count": null,
   "id": "4e3a7fd5",
   "metadata": {},
   "outputs": [],
   "source": [
    "#summary of the dataset\n",
    "df.describe()"
   ]
  },
  {
   "cell_type": "code",
   "execution_count": null,
   "id": "019be3ec",
   "metadata": {},
   "outputs": [],
   "source": [
    "#information about the dataset\n",
    "df.info()"
   ]
  },
  {
   "cell_type": "code",
   "execution_count": null,
   "id": "f477dfef",
   "metadata": {},
   "outputs": [],
   "source": [
    "df"
   ]
  },
  {
   "cell_type": "code",
   "execution_count": null,
   "id": "6bf6cf02",
   "metadata": {},
   "outputs": [],
   "source": [
    "#missing values?\n",
    "df.isna()"
   ]
  },
  {
   "cell_type": "code",
   "execution_count": null,
   "id": "5e1a5059",
   "metadata": {},
   "outputs": [],
   "source": [
    "df.isna().sum()"
   ]
  },
  {
   "cell_type": "code",
   "execution_count": null,
   "id": "5e7307ca",
   "metadata": {},
   "outputs": [],
   "source": [
    "df"
   ]
  },
  {
   "cell_type": "code",
   "execution_count": null,
   "id": "194e8ce1",
   "metadata": {},
   "outputs": [],
   "source": [
    "# duplicate rows\n",
    "df.duplicated()"
   ]
  },
  {
   "cell_type": "code",
   "execution_count": null,
   "id": "6ccb08d3",
   "metadata": {},
   "outputs": [],
   "source": [
    "df[df.duplicated()]"
   ]
  },
  {
   "cell_type": "code",
   "execution_count": null,
   "id": "4c26fb8d",
   "metadata": {},
   "outputs": [],
   "source": [
    "df.duplicated().sum()"
   ]
  },
  {
   "cell_type": "code",
   "execution_count": null,
   "id": "b42dd091",
   "metadata": {},
   "outputs": [],
   "source": [
    "df[df.duplicated()]"
   ]
  },
  {
   "cell_type": "code",
   "execution_count": null,
   "id": "4704f5c3",
   "metadata": {},
   "outputs": [],
   "source": [
    "#Drop duplicates in pandas DataFrame\n",
    "df.drop_duplicates()"
   ]
  },
  {
   "cell_type": "code",
   "execution_count": null,
   "id": "f9d38360",
   "metadata": {},
   "outputs": [],
   "source": [
    "df.drop_duplicates(inplace=True)"
   ]
  },
  {
   "cell_type": "code",
   "execution_count": null,
   "id": "2afac060",
   "metadata": {},
   "outputs": [],
   "source": [
    "df"
   ]
  },
  {
   "cell_type": "code",
   "execution_count": null,
   "id": "77b0940f",
   "metadata": {},
   "outputs": [],
   "source": [
    "# Reset index in pandas DataFrame\n",
    "df.reset_index()"
   ]
  },
  {
   "cell_type": "code",
   "execution_count": null,
   "id": "8e281c8f",
   "metadata": {},
   "outputs": [],
   "source": [
    "df.reset_index(drop=False)"
   ]
  },
  {
   "cell_type": "code",
   "execution_count": null,
   "id": "8f095331",
   "metadata": {},
   "outputs": [],
   "source": [
    "df.reset_index(drop=True)"
   ]
  },
  {
   "cell_type": "code",
   "execution_count": null,
   "id": "a43a21fd",
   "metadata": {},
   "outputs": [],
   "source": [
    "df"
   ]
  },
  {
   "cell_type": "code",
   "execution_count": null,
   "id": "82da1e24",
   "metadata": {},
   "outputs": [],
   "source": [
    "df.reset_index(drop=True,inplace=True)"
   ]
  },
  {
   "cell_type": "code",
   "execution_count": null,
   "id": "653be1c0",
   "metadata": {
    "scrolled": true
   },
   "outputs": [],
   "source": [
    "df"
   ]
  },
  {
   "cell_type": "code",
   "execution_count": null,
   "id": "5db30781",
   "metadata": {},
   "outputs": [],
   "source": [
    "# Convert Pandas DataFrame to Python dictionary\n",
    "df2=df.to_dict()\n",
    "df2"
   ]
  },
  {
   "cell_type": "code",
   "execution_count": null,
   "id": "db2787c5",
   "metadata": {},
   "outputs": [],
   "source": []
  },
  {
   "cell_type": "code",
   "execution_count": null,
   "id": "a91eae56",
   "metadata": {},
   "outputs": [],
   "source": [
    "# Create Pandas DataFrame from Python List\n",
    "data = [['Akul', 25, 'Mumbai'],\n",
    "        ['Udit', 30, 'Pune'],\n",
    "        ['Sai', 35, 'Pune']]"
   ]
  },
  {
   "cell_type": "code",
   "execution_count": null,
   "id": "6abfb8bb",
   "metadata": {},
   "outputs": [],
   "source": [
    "df = pd.DataFrame(data, columns=['Name', 'Age', 'City'])\n",
    "df"
   ]
  },
  {
   "cell_type": "code",
   "execution_count": null,
   "id": "2ba7a8b6",
   "metadata": {},
   "outputs": [],
   "source": [
    "df = pd.DataFrame({\n",
    "    'name': ['Akul','Akul', 'Udit', 'Sai', 'Om'],\n",
    "    'age': [36,36, 30, 35, 40],\n",
    "    'gender': ['F','F',  'M', 'M', 'M'],\n",
    "    'salary': [90000,50000, 60000, 70000, 80000]\n",
    "})"
   ]
  },
  {
   "cell_type": "code",
   "execution_count": null,
   "id": "327d4f16",
   "metadata": {},
   "outputs": [],
   "source": [
    "df"
   ]
  },
  {
   "cell_type": "code",
   "execution_count": null,
   "id": "ab21846b",
   "metadata": {},
   "outputs": [],
   "source": [
    "df.sort_values(by='name')\n"
   ]
  },
  {
   "cell_type": "code",
   "execution_count": null,
   "id": "eaddd9df",
   "metadata": {},
   "outputs": [],
   "source": [
    "df.sort_values(by='name', ascending=False)\n"
   ]
  },
  {
   "cell_type": "code",
   "execution_count": null,
   "id": "5db7eb19",
   "metadata": {},
   "outputs": [],
   "source": [
    "df.sort_values(by='age')\n"
   ]
  },
  {
   "cell_type": "code",
   "execution_count": null,
   "id": "13e370e5",
   "metadata": {},
   "outputs": [],
   "source": [
    "df"
   ]
  },
  {
   "cell_type": "code",
   "execution_count": null,
   "id": "739ef81c",
   "metadata": {},
   "outputs": [],
   "source": [
    "df.sort_values(by=['age', 'salary'], ascending=[False, True])"
   ]
  },
  {
   "cell_type": "code",
   "execution_count": null,
   "id": "ebb261df",
   "metadata": {},
   "outputs": [],
   "source": []
  },
  {
   "cell_type": "code",
   "execution_count": null,
   "id": "b345de6d",
   "metadata": {},
   "outputs": [],
   "source": [
    "df = pd.DataFrame({\n",
    "    'name': ['Akul','Akul', 'Udit', 'Sai', 'Om'],\n",
    "    'age': [25,36, np.nan, 35, 40],\n",
    "    'gender': ['M','M',  'M', 'M', 'M'],\n",
    "    'salary': [90000,50000, np.nan, 70000, 80000]\n",
    "})"
   ]
  },
  {
   "cell_type": "code",
   "execution_count": null,
   "id": "f7131835",
   "metadata": {},
   "outputs": [],
   "source": [
    "df"
   ]
  },
  {
   "cell_type": "code",
   "execution_count": null,
   "id": "0e1e9f21",
   "metadata": {},
   "outputs": [],
   "source": [
    "# count() :- count the number of non-null values in each column \n",
    "df.count()"
   ]
  },
  {
   "cell_type": "code",
   "execution_count": null,
   "id": "fcb8937f",
   "metadata": {},
   "outputs": [],
   "source": [
    "# value_counts() :- count the frequency of unique values in a column \n"
   ]
  },
  {
   "cell_type": "code",
   "execution_count": null,
   "id": "cccf4643",
   "metadata": {},
   "outputs": [],
   "source": [
    "df['name'].value_counts()"
   ]
  },
  {
   "cell_type": "code",
   "execution_count": null,
   "id": "cbcb85fa",
   "metadata": {},
   "outputs": [],
   "source": []
  },
  {
   "cell_type": "markdown",
   "id": "049c8e4d",
   "metadata": {},
   "source": [
    "## concat, merge, join"
   ]
  },
  {
   "cell_type": "raw",
   "id": "646b1d81",
   "metadata": {},
   "source": [
    "concat:\n",
    "\n",
    "Concatenates two or more dataframes vertically or horizontally, based on the axis parameter.\n",
    "Does not consider the values of the columns of the dataframes being concatenated.\n",
    "Can be used to add rows or columns to a dataframe.\n",
    "The resulting dataframe will have the same columns as the original dataframes being concatenated.\n",
    "\n",
    "merge:\n",
    "\n",
    "Merges two or more dataframes based on one or more common columns.\n",
    "Can be used to combine data based on inner, outer, left, or right joins.\n",
    "Can handle non-matching values in the columns being merged.\n",
    "Can handle multiple columns being merged at once.\n",
    "The resulting dataframe may have new columns and rows depending on how the merge is performed.\n",
    "\n",
    "join:\n",
    "\n",
    "Joins two dataframes based on their indices.\n",
    "Can be used to combine data based on inner, outer, left, or right joins.\n",
    "Can handle non-matching values in the indices being joined.\n",
    "Can handle multiple indices being joined at once.\n",
    "The resulting dataframe may have new columns and rows depending on how the join is performed."
   ]
  },
  {
   "cell_type": "code",
   "execution_count": null,
   "id": "ef499672",
   "metadata": {},
   "outputs": [],
   "source": []
  },
  {
   "cell_type": "code",
   "execution_count": null,
   "id": "264ee6cd",
   "metadata": {},
   "outputs": [],
   "source": [
    "#  Concatenation\n",
    "df1 = pd.DataFrame(\n",
    "    {\n",
    "        \"Roll No\": [1,2,3,4,5],\n",
    "        \"Student\": [\"Akul\",\"Udit\",\"Sai\",\"Raj\",\"Ganesh\"],\n",
    "        \"Subject\": [\"Maths\", \"Maths\", \"Maths\", \"Maths\",\"Maths\"],\n",
    "        \"Unit1\": [85,86,86,88,89],\n",
    "    },\n",
    "    index=[ 1, 2, 3,4,5],\n",
    ")"
   ]
  },
  {
   "cell_type": "code",
   "execution_count": null,
   "id": "6722661d",
   "metadata": {},
   "outputs": [],
   "source": [
    "df1"
   ]
  },
  {
   "cell_type": "code",
   "execution_count": null,
   "id": "d4ad5af6",
   "metadata": {},
   "outputs": [],
   "source": [
    "df2 = pd.DataFrame(\n",
    "    {\n",
    "        \"Roll No\": [1,2,3,4,5],\n",
    "        \"Student\": [\"Akul\",\"Udit\",\"Sai\",\"Raj\",\"Ganesh\"],\n",
    "        \"Subject\": [\"Sci\", \"Sci\", \"Sci\", \"Sci\",\"Sci\"],\n",
    "        \"Unit1\": [75,76,76,78,79],\n",
    "    },\n",
    "    index=[5, 6, 7,8,9]\n",
    ")"
   ]
  },
  {
   "cell_type": "code",
   "execution_count": null,
   "id": "9077489f",
   "metadata": {},
   "outputs": [],
   "source": []
  },
  {
   "cell_type": "code",
   "execution_count": null,
   "id": "f09df3de",
   "metadata": {},
   "outputs": [],
   "source": [
    "df2"
   ]
  },
  {
   "cell_type": "code",
   "execution_count": null,
   "id": "19f225c0",
   "metadata": {},
   "outputs": [],
   "source": [
    "df1"
   ]
  },
  {
   "cell_type": "code",
   "execution_count": null,
   "id": "e7717a0b",
   "metadata": {},
   "outputs": [],
   "source": [
    "df2"
   ]
  },
  {
   "cell_type": "code",
   "execution_count": null,
   "id": "e2b673a3",
   "metadata": {},
   "outputs": [],
   "source": [
    "pd.concat([df1,df2],axis=0) # default is axis=0"
   ]
  },
  {
   "cell_type": "code",
   "execution_count": null,
   "id": "b5ba375a",
   "metadata": {},
   "outputs": [],
   "source": [
    "pd.concat([df1,df2],axis=1) # changing default is axis=0 to 1"
   ]
  },
  {
   "cell_type": "code",
   "execution_count": null,
   "id": "ab33d9ae",
   "metadata": {},
   "outputs": [],
   "source": []
  },
  {
   "cell_type": "code",
   "execution_count": null,
   "id": "6a3f80b3",
   "metadata": {},
   "outputs": [],
   "source": [
    "df3 = pd.DataFrame(\n",
    "    {\n",
    "        \"Roll No\": [1,2,3,4,5],\n",
    "        \"Student\": [\"Akul\",\"Udit\",\"Sai\",\"Praj\",\"Sagar\"],\n",
    "        \"Subject\": [\"Maths\", \"Maths\", \"Maths\", \"Maths\",\"Maths\"],\n",
    "        \"Unit1\": [85,86,86,88,89],\n",
    "    },\n",
    "    index=[ 1, 2, 3,4,5],\n",
    ")"
   ]
  },
  {
   "cell_type": "code",
   "execution_count": null,
   "id": "a5eb5311",
   "metadata": {},
   "outputs": [],
   "source": [
    "df4 = pd.DataFrame(\n",
    "    {\n",
    "        \"Roll No\": [1,2,3,6,7],\n",
    "        \"Student\": [\"Akul\",\"Udit\",\"Sai\",\"Shubham\",\"Kirti\"],\n",
    "        \"Subject\": [\"Sci\", \"Sci\", \"Sci\", \"Sci\",\"Sci\"],\n",
    "        \"Unit1\": [75,76,76,78,79],\n",
    "    },\n",
    "    index=[4,5, 6, 7,8]\n",
    ")"
   ]
  },
  {
   "cell_type": "code",
   "execution_count": null,
   "id": "0a56dc62",
   "metadata": {},
   "outputs": [],
   "source": [
    "df3"
   ]
  },
  {
   "cell_type": "code",
   "execution_count": null,
   "id": "fcd86737",
   "metadata": {},
   "outputs": [],
   "source": [
    "df4"
   ]
  },
  {
   "cell_type": "code",
   "execution_count": null,
   "id": "84da0a6b",
   "metadata": {},
   "outputs": [],
   "source": [
    "pd.concat([df3,df4],axis=0)"
   ]
  },
  {
   "cell_type": "code",
   "execution_count": null,
   "id": "a29ff3b3",
   "metadata": {},
   "outputs": [],
   "source": [
    "pd.concat([df3,df4],axis=1)"
   ]
  },
  {
   "cell_type": "code",
   "execution_count": null,
   "id": "78837b8d",
   "metadata": {},
   "outputs": [],
   "source": [
    "pd.concat([df3,df4],join=\"inner\")"
   ]
  },
  {
   "cell_type": "code",
   "execution_count": null,
   "id": "90ec37e5",
   "metadata": {},
   "outputs": [],
   "source": [
    "pd.concat([df3,df4],join=\"outer\")"
   ]
  },
  {
   "cell_type": "code",
   "execution_count": null,
   "id": "c926419a",
   "metadata": {},
   "outputs": [],
   "source": [
    "pd.concat([df3,df4],join=\"inner\",axis=1)"
   ]
  },
  {
   "cell_type": "code",
   "execution_count": null,
   "id": "8e429aab",
   "metadata": {},
   "outputs": [],
   "source": [
    "pd.concat([df1,df2],join=\"outer\",axis=1)"
   ]
  },
  {
   "cell_type": "code",
   "execution_count": null,
   "id": "e29dd39b",
   "metadata": {},
   "outputs": [],
   "source": [
    "pd.concat([df1,df2],join=\"right\",axis=1)"
   ]
  },
  {
   "cell_type": "code",
   "execution_count": null,
   "id": "1522a496",
   "metadata": {},
   "outputs": [],
   "source": [
    "pd.concat([df1,df2],join=\"left\",axis=1)"
   ]
  },
  {
   "cell_type": "code",
   "execution_count": null,
   "id": "101cc3bd",
   "metadata": {},
   "outputs": [],
   "source": []
  },
  {
   "cell_type": "markdown",
   "id": "96263a5f",
   "metadata": {},
   "source": [
    "###  Merging   = +on , left, right"
   ]
  },
  {
   "cell_type": "code",
   "execution_count": null,
   "id": "a7445584",
   "metadata": {},
   "outputs": [],
   "source": [
    "df3"
   ]
  },
  {
   "cell_type": "code",
   "execution_count": null,
   "id": "075500e5",
   "metadata": {},
   "outputs": [],
   "source": [
    "df4"
   ]
  },
  {
   "cell_type": "code",
   "execution_count": null,
   "id": "a6ba6aac",
   "metadata": {},
   "outputs": [],
   "source": [
    "pd.merge(df3,df4,on=\"Roll No\", how='inner') # default how=inner   #'left'\n",
    "                                                        # 'right'\n",
    "                                                        # 'outer'\n",
    "                                                        # 'inner'\n",
    "                                                        # 'cross'"
   ]
  },
  {
   "cell_type": "code",
   "execution_count": null,
   "id": "96ea2f69",
   "metadata": {},
   "outputs": [],
   "source": [
    "pd.merge(df3,df4,on=\"Roll No\", how='inner',suffixes=('_df3', '_df4'))"
   ]
  },
  {
   "cell_type": "code",
   "execution_count": null,
   "id": "936aa092",
   "metadata": {},
   "outputs": [],
   "source": [
    "pd.merge(df3,df4,on=[\"Roll No\",\"Student\"], how='inner',suffixes=('_df1', '_df2'))"
   ]
  },
  {
   "cell_type": "code",
   "execution_count": null,
   "id": "f1bd096a",
   "metadata": {},
   "outputs": [],
   "source": [
    "pd.merge(df3,df4,on=[\"Roll No\",\"Student\"], how='outer',suffixes=('_df3', '_df4'))"
   ]
  },
  {
   "cell_type": "code",
   "execution_count": null,
   "id": "c861f87f",
   "metadata": {},
   "outputs": [],
   "source": [
    "pd.merge(df3,df4,on=[\"Roll No\",\"Student\"], how='left',suffixes=('_df1', '_df2'))"
   ]
  },
  {
   "cell_type": "code",
   "execution_count": null,
   "id": "ed2d6429",
   "metadata": {},
   "outputs": [],
   "source": [
    "pd.merge(df3,df4,on=[\"Roll No\",\"Student\"], how='right',suffixes=('_df1', '_df2'))"
   ]
  },
  {
   "cell_type": "code",
   "execution_count": null,
   "id": "81548d87",
   "metadata": {},
   "outputs": [],
   "source": []
  },
  {
   "cell_type": "code",
   "execution_count": 12,
   "id": "0210bd80",
   "metadata": {},
   "outputs": [],
   "source": [
    "df5 = pd.DataFrame(\n",
    "    {\n",
    "        \"Exam No\": [1,2,3,4,5],\n",
    "        \"Candidate\": [\"Akul\",\"Udit\",\"Sai\",\"Praj\",\"Sagar\"],\n",
    "        \"Subject\": [\"Maths\", \"Maths\", \"Maths\", \"Maths\",\"Maths\"],\n",
    "        \"Unit1\": [85,86,86,88,89],\n",
    "    },\n",
    "    index=[ 1, 2, 3,4,5],\n",
    ")"
   ]
  },
  {
   "cell_type": "code",
   "execution_count": 13,
   "id": "6007ce15",
   "metadata": {},
   "outputs": [],
   "source": [
    "df6 = pd.DataFrame(\n",
    "    {\n",
    "        \"Roll No\": [1,2,3,6,7],\n",
    "        \"Student\": [\"Akul\",\"Udit\",\"Sai\",\"Shubham\",\"Kirti\"],\n",
    "        \"Subject\": [\"Sci\", \"Sci\", \"Sci\", \"Sci\",\"Sci\"],\n",
    "        \"Unit1\": [75,76,76,78,79],\n",
    "    },\n",
    "    index=[4,5, 6, 7,8]\n",
    ")"
   ]
  },
  {
   "cell_type": "code",
   "execution_count": null,
   "id": "aafeeb6a",
   "metadata": {},
   "outputs": [],
   "source": [
    "df5"
   ]
  },
  {
   "cell_type": "code",
   "execution_count": null,
   "id": "e3c7bbf0",
   "metadata": {},
   "outputs": [],
   "source": [
    "df6"
   ]
  },
  {
   "cell_type": "code",
   "execution_count": null,
   "id": "f543b6ae",
   "metadata": {},
   "outputs": [],
   "source": []
  },
  {
   "cell_type": "code",
   "execution_count": null,
   "id": "0c5a596f",
   "metadata": {},
   "outputs": [],
   "source": [
    "pd.merge(df5,df6,left_on=[\"Exam No\",\"Candidate\"],right_on=[\"Roll No\",\"Student\"], how='inner',suffixes=('_df1', '_df2'))"
   ]
  },
  {
   "cell_type": "code",
   "execution_count": null,
   "id": "303541b0",
   "metadata": {},
   "outputs": [],
   "source": []
  },
  {
   "cell_type": "code",
   "execution_count": null,
   "id": "ca08ad39",
   "metadata": {},
   "outputs": [],
   "source": [
    "pd.merge(df5,df6,left_on=[\"Exam No\",\"Candidate\"],right_on=[\"Roll No\",\"Student\"], how='outer',suffixes=('_df1', '_df2'))"
   ]
  },
  {
   "cell_type": "code",
   "execution_count": null,
   "id": "f5a32bc0",
   "metadata": {},
   "outputs": [],
   "source": [
    "pd.merge(df5,df6,left_on=[\"Exam No\",\"Candidate\"],right_on=[\"Roll No\",\"Student\"], how='left',suffixes=('_df1', '_df2'))"
   ]
  },
  {
   "cell_type": "code",
   "execution_count": null,
   "id": "7f355d9d",
   "metadata": {},
   "outputs": [],
   "source": [
    "data=pd.merge(df5,df6,left_on=[\"Exam No\",\"Candidate\"],right_on=[\"Roll No\",\"Student\"], how='right',suffixes=('_df1', '_df2'))"
   ]
  },
  {
   "cell_type": "markdown",
   "id": "795a4775",
   "metadata": {},
   "source": [
    "### REname column"
   ]
  },
  {
   "cell_type": "code",
   "execution_count": null,
   "id": "d17b1270",
   "metadata": {},
   "outputs": [],
   "source": [
    "data"
   ]
  },
  {
   "cell_type": "code",
   "execution_count": null,
   "id": "2d8b18ab",
   "metadata": {},
   "outputs": [],
   "source": [
    "data.rename(columns={\"Exam No\":\"Roll No\",\"Candidate\":\"Student\"},inplace=True)"
   ]
  },
  {
   "cell_type": "code",
   "execution_count": null,
   "id": "4acbc297",
   "metadata": {},
   "outputs": [],
   "source": [
    "data"
   ]
  },
  {
   "cell_type": "markdown",
   "id": "2b4f877c",
   "metadata": {},
   "source": [
    "#### Joining"
   ]
  },
  {
   "cell_type": "code",
   "execution_count": null,
   "id": "53f5fca6",
   "metadata": {},
   "outputs": [],
   "source": [
    "left = pd.DataFrame(\n",
    "    {\"A\": [\"A0\", \"A1\", \"A2\"], \"B\": [\"B0\", \"B1\", \"B2\"]}, index=[\"K0\", \"K1\", \"K2\"]\n",
    ")"
   ]
  },
  {
   "cell_type": "code",
   "execution_count": null,
   "id": "e4e19151",
   "metadata": {},
   "outputs": [],
   "source": [
    "right = pd.DataFrame(\n",
    "    {\"C\": [\"C0\", \"C2\", \"C3\"], \"D\": [\"D0\", \"D2\", \"D3\"]}, index=[\"K0\", \"K2\", \"K3\"]\n",
    ")"
   ]
  },
  {
   "cell_type": "code",
   "execution_count": null,
   "id": "8ecbbe0a",
   "metadata": {},
   "outputs": [],
   "source": [
    "result = left.join(right)"
   ]
  },
  {
   "cell_type": "code",
   "execution_count": null,
   "id": "e2081dda",
   "metadata": {},
   "outputs": [],
   "source": [
    "result"
   ]
  },
  {
   "cell_type": "code",
   "execution_count": null,
   "id": "9cb2b99b",
   "metadata": {},
   "outputs": [],
   "source": [
    "result1 = right.join(left)"
   ]
  },
  {
   "cell_type": "code",
   "execution_count": null,
   "id": "46d7acb2",
   "metadata": {},
   "outputs": [],
   "source": [
    "result1"
   ]
  },
  {
   "cell_type": "code",
   "execution_count": null,
   "id": "fb060102",
   "metadata": {},
   "outputs": [],
   "source": [
    "left"
   ]
  },
  {
   "cell_type": "code",
   "execution_count": null,
   "id": "8d484ee1",
   "metadata": {},
   "outputs": [],
   "source": [
    "right"
   ]
  },
  {
   "cell_type": "code",
   "execution_count": null,
   "id": "95d3351c",
   "metadata": {},
   "outputs": [],
   "source": [
    "left.join(right,how='outer') "
   ]
  },
  {
   "cell_type": "code",
   "execution_count": null,
   "id": "2636ea5b",
   "metadata": {},
   "outputs": [],
   "source": [
    "right.join(left) # priority right"
   ]
  },
  {
   "cell_type": "code",
   "execution_count": null,
   "id": "569cb438",
   "metadata": {},
   "outputs": [],
   "source": [
    "left.join(right,how='inner') "
   ]
  },
  {
   "cell_type": "code",
   "execution_count": null,
   "id": "d3cd1384",
   "metadata": {},
   "outputs": [],
   "source": [
    "left.join(right,how='right') "
   ]
  },
  {
   "cell_type": "code",
   "execution_count": null,
   "id": "6f851afa",
   "metadata": {},
   "outputs": [],
   "source": [
    "left"
   ]
  },
  {
   "cell_type": "code",
   "execution_count": null,
   "id": "117a0af9",
   "metadata": {},
   "outputs": [],
   "source": [
    "right"
   ]
  },
  {
   "cell_type": "code",
   "execution_count": null,
   "id": "7a636267",
   "metadata": {},
   "outputs": [],
   "source": [
    "left.join(right,how='left') "
   ]
  },
  {
   "cell_type": "code",
   "execution_count": null,
   "id": "600bddbf",
   "metadata": {},
   "outputs": [],
   "source": [
    "left.join(right,how='inner') "
   ]
  },
  {
   "cell_type": "code",
   "execution_count": null,
   "id": "0a4fe7fc",
   "metadata": {},
   "outputs": [],
   "source": []
  },
  {
   "cell_type": "code",
   "execution_count": null,
   "id": "f3de190a",
   "metadata": {},
   "outputs": [],
   "source": []
  },
  {
   "cell_type": "code",
   "execution_count": null,
   "id": "7c19c761",
   "metadata": {},
   "outputs": [],
   "source": []
  },
  {
   "cell_type": "code",
   "execution_count": null,
   "id": "862b4854",
   "metadata": {},
   "outputs": [],
   "source": [
    "df5"
   ]
  },
  {
   "cell_type": "markdown",
   "id": "f7ecb629",
   "metadata": {},
   "source": [
    "## apply()"
   ]
  },
  {
   "cell_type": "code",
   "execution_count": null,
   "id": "de69f65a",
   "metadata": {},
   "outputs": [],
   "source": [
    "#dataframe[\"colum_name\"].apply(function_name)"
   ]
  },
  {
   "cell_type": "code",
   "execution_count": 14,
   "id": "76a22eda",
   "metadata": {},
   "outputs": [],
   "source": [
    "data=pd.merge(df5,df6,left_on=[\"Exam No\",\"Candidate\"],right_on=[\"Roll No\",\"Student\"], how='inner',suffixes=('_df1', '_df2'))"
   ]
  },
  {
   "cell_type": "code",
   "execution_count": 15,
   "id": "238b3588",
   "metadata": {},
   "outputs": [
    {
     "data": {
      "text/html": [
       "<div>\n",
       "<style scoped>\n",
       "    .dataframe tbody tr th:only-of-type {\n",
       "        vertical-align: middle;\n",
       "    }\n",
       "\n",
       "    .dataframe tbody tr th {\n",
       "        vertical-align: top;\n",
       "    }\n",
       "\n",
       "    .dataframe thead th {\n",
       "        text-align: right;\n",
       "    }\n",
       "</style>\n",
       "<table border=\"1\" class=\"dataframe\">\n",
       "  <thead>\n",
       "    <tr style=\"text-align: right;\">\n",
       "      <th></th>\n",
       "      <th>Exam No</th>\n",
       "      <th>Candidate</th>\n",
       "      <th>Subject_df1</th>\n",
       "      <th>Unit1_df1</th>\n",
       "      <th>Roll No</th>\n",
       "      <th>Student</th>\n",
       "      <th>Subject_df2</th>\n",
       "      <th>Unit1_df2</th>\n",
       "    </tr>\n",
       "  </thead>\n",
       "  <tbody>\n",
       "    <tr>\n",
       "      <th>0</th>\n",
       "      <td>1</td>\n",
       "      <td>Akul</td>\n",
       "      <td>Maths</td>\n",
       "      <td>85</td>\n",
       "      <td>1</td>\n",
       "      <td>Akul</td>\n",
       "      <td>Sci</td>\n",
       "      <td>75</td>\n",
       "    </tr>\n",
       "    <tr>\n",
       "      <th>1</th>\n",
       "      <td>2</td>\n",
       "      <td>Udit</td>\n",
       "      <td>Maths</td>\n",
       "      <td>86</td>\n",
       "      <td>2</td>\n",
       "      <td>Udit</td>\n",
       "      <td>Sci</td>\n",
       "      <td>76</td>\n",
       "    </tr>\n",
       "    <tr>\n",
       "      <th>2</th>\n",
       "      <td>3</td>\n",
       "      <td>Sai</td>\n",
       "      <td>Maths</td>\n",
       "      <td>86</td>\n",
       "      <td>3</td>\n",
       "      <td>Sai</td>\n",
       "      <td>Sci</td>\n",
       "      <td>76</td>\n",
       "    </tr>\n",
       "  </tbody>\n",
       "</table>\n",
       "</div>"
      ],
      "text/plain": [
       "   Exam No Candidate Subject_df1  Unit1_df1  Roll No Student Subject_df2  \\\n",
       "0        1      Akul       Maths         85        1    Akul         Sci   \n",
       "1        2      Udit       Maths         86        2    Udit         Sci   \n",
       "2        3       Sai       Maths         86        3     Sai         Sci   \n",
       "\n",
       "   Unit1_df2  \n",
       "0         75  \n",
       "1         76  \n",
       "2         76  "
      ]
     },
     "execution_count": 15,
     "metadata": {},
     "output_type": "execute_result"
    }
   ],
   "source": [
    "data"
   ]
  },
  {
   "cell_type": "code",
   "execution_count": 16,
   "id": "2dcf62c7",
   "metadata": {},
   "outputs": [],
   "source": [
    "data[\"percentage\"]=(data[\"Unit1_df1\"]+data[\"Unit1_df2\"])/200*100"
   ]
  },
  {
   "cell_type": "code",
   "execution_count": 17,
   "id": "2fa824d6",
   "metadata": {},
   "outputs": [
    {
     "data": {
      "text/html": [
       "<div>\n",
       "<style scoped>\n",
       "    .dataframe tbody tr th:only-of-type {\n",
       "        vertical-align: middle;\n",
       "    }\n",
       "\n",
       "    .dataframe tbody tr th {\n",
       "        vertical-align: top;\n",
       "    }\n",
       "\n",
       "    .dataframe thead th {\n",
       "        text-align: right;\n",
       "    }\n",
       "</style>\n",
       "<table border=\"1\" class=\"dataframe\">\n",
       "  <thead>\n",
       "    <tr style=\"text-align: right;\">\n",
       "      <th></th>\n",
       "      <th>Exam No</th>\n",
       "      <th>Candidate</th>\n",
       "      <th>Subject_df1</th>\n",
       "      <th>Unit1_df1</th>\n",
       "      <th>Roll No</th>\n",
       "      <th>Student</th>\n",
       "      <th>Subject_df2</th>\n",
       "      <th>Unit1_df2</th>\n",
       "      <th>percentage</th>\n",
       "    </tr>\n",
       "  </thead>\n",
       "  <tbody>\n",
       "    <tr>\n",
       "      <th>0</th>\n",
       "      <td>1</td>\n",
       "      <td>Akul</td>\n",
       "      <td>Maths</td>\n",
       "      <td>85</td>\n",
       "      <td>1</td>\n",
       "      <td>Akul</td>\n",
       "      <td>Sci</td>\n",
       "      <td>75</td>\n",
       "      <td>80.0</td>\n",
       "    </tr>\n",
       "    <tr>\n",
       "      <th>1</th>\n",
       "      <td>2</td>\n",
       "      <td>Udit</td>\n",
       "      <td>Maths</td>\n",
       "      <td>86</td>\n",
       "      <td>2</td>\n",
       "      <td>Udit</td>\n",
       "      <td>Sci</td>\n",
       "      <td>76</td>\n",
       "      <td>81.0</td>\n",
       "    </tr>\n",
       "    <tr>\n",
       "      <th>2</th>\n",
       "      <td>3</td>\n",
       "      <td>Sai</td>\n",
       "      <td>Maths</td>\n",
       "      <td>86</td>\n",
       "      <td>3</td>\n",
       "      <td>Sai</td>\n",
       "      <td>Sci</td>\n",
       "      <td>76</td>\n",
       "      <td>81.0</td>\n",
       "    </tr>\n",
       "  </tbody>\n",
       "</table>\n",
       "</div>"
      ],
      "text/plain": [
       "   Exam No Candidate Subject_df1  Unit1_df1  Roll No Student Subject_df2  \\\n",
       "0        1      Akul       Maths         85        1    Akul         Sci   \n",
       "1        2      Udit       Maths         86        2    Udit         Sci   \n",
       "2        3       Sai       Maths         86        3     Sai         Sci   \n",
       "\n",
       "   Unit1_df2  percentage  \n",
       "0         75        80.0  \n",
       "1         76        81.0  \n",
       "2         76        81.0  "
      ]
     },
     "execution_count": 17,
     "metadata": {},
     "output_type": "execute_result"
    }
   ],
   "source": [
    "data"
   ]
  },
  {
   "cell_type": "code",
   "execution_count": 18,
   "id": "fae58a36",
   "metadata": {},
   "outputs": [],
   "source": [
    "def grade(x):\n",
    "    if x>80:\n",
    "        return \"A\"\n",
    "    elif x>70:\n",
    "        return \"B\"\n",
    "    else:\n",
    "        return \"C\""
   ]
  },
  {
   "cell_type": "code",
   "execution_count": 23,
   "id": "3de85ad8",
   "metadata": {},
   "outputs": [],
   "source": [
    "data['Grade']=data['percentage'].apply(grade)"
   ]
  },
  {
   "cell_type": "code",
   "execution_count": 24,
   "id": "8b87ae68",
   "metadata": {},
   "outputs": [
    {
     "data": {
      "text/html": [
       "<div>\n",
       "<style scoped>\n",
       "    .dataframe tbody tr th:only-of-type {\n",
       "        vertical-align: middle;\n",
       "    }\n",
       "\n",
       "    .dataframe tbody tr th {\n",
       "        vertical-align: top;\n",
       "    }\n",
       "\n",
       "    .dataframe thead th {\n",
       "        text-align: right;\n",
       "    }\n",
       "</style>\n",
       "<table border=\"1\" class=\"dataframe\">\n",
       "  <thead>\n",
       "    <tr style=\"text-align: right;\">\n",
       "      <th></th>\n",
       "      <th>Exam No</th>\n",
       "      <th>Candidate</th>\n",
       "      <th>Subject_df1</th>\n",
       "      <th>Unit1_df1</th>\n",
       "      <th>Roll No</th>\n",
       "      <th>Student</th>\n",
       "      <th>Subject_df2</th>\n",
       "      <th>Unit1_df2</th>\n",
       "      <th>percentage</th>\n",
       "      <th>Grade</th>\n",
       "    </tr>\n",
       "  </thead>\n",
       "  <tbody>\n",
       "    <tr>\n",
       "      <th>0</th>\n",
       "      <td>1</td>\n",
       "      <td>Akul</td>\n",
       "      <td>Maths</td>\n",
       "      <td>85</td>\n",
       "      <td>1</td>\n",
       "      <td>Akul</td>\n",
       "      <td>Sci</td>\n",
       "      <td>75</td>\n",
       "      <td>80.0</td>\n",
       "      <td>B</td>\n",
       "    </tr>\n",
       "    <tr>\n",
       "      <th>1</th>\n",
       "      <td>2</td>\n",
       "      <td>Udit</td>\n",
       "      <td>Maths</td>\n",
       "      <td>86</td>\n",
       "      <td>2</td>\n",
       "      <td>Udit</td>\n",
       "      <td>Sci</td>\n",
       "      <td>76</td>\n",
       "      <td>81.0</td>\n",
       "      <td>A</td>\n",
       "    </tr>\n",
       "    <tr>\n",
       "      <th>2</th>\n",
       "      <td>3</td>\n",
       "      <td>Sai</td>\n",
       "      <td>Maths</td>\n",
       "      <td>86</td>\n",
       "      <td>3</td>\n",
       "      <td>Sai</td>\n",
       "      <td>Sci</td>\n",
       "      <td>76</td>\n",
       "      <td>81.0</td>\n",
       "      <td>A</td>\n",
       "    </tr>\n",
       "  </tbody>\n",
       "</table>\n",
       "</div>"
      ],
      "text/plain": [
       "   Exam No Candidate Subject_df1  Unit1_df1  Roll No Student Subject_df2  \\\n",
       "0        1      Akul       Maths         85        1    Akul         Sci   \n",
       "1        2      Udit       Maths         86        2    Udit         Sci   \n",
       "2        3       Sai       Maths         86        3     Sai         Sci   \n",
       "\n",
       "   Unit1_df2  percentage Grade  \n",
       "0         75        80.0     B  \n",
       "1         76        81.0     A  \n",
       "2         76        81.0     A  "
      ]
     },
     "execution_count": 24,
     "metadata": {},
     "output_type": "execute_result"
    }
   ],
   "source": [
    "data"
   ]
  },
  {
   "cell_type": "code",
   "execution_count": null,
   "id": "af745634",
   "metadata": {},
   "outputs": [],
   "source": []
  },
  {
   "cell_type": "code",
   "execution_count": 35,
   "id": "61414768",
   "metadata": {},
   "outputs": [],
   "source": [
    "data2 = {\n",
    "    'Exam No': [1,2,3,4,5,6,7,8,9,10],\n",
    "    'Student': [\"student1\",\"student2\",\"student3\",\"student4\",\"student5\",\"student6\",\"student7\",\"student8\",\"student9\",\"student10\"],\n",
    "    'Sem1': [34, 45, 67, 38,56,76,66,45,66,73],\n",
    "    'Sem2': [40, 22, 32, 42,50, 67, 44, 27,44,55],\n",
    "    'Sem3': [50, 67, 44, 27,67,56,76,55,45,66],\n",
    "    'Sem4': [32, 55, 34, 34,44, 44,38,56,55,88]\n",
    "}"
   ]
  },
  {
   "cell_type": "code",
   "execution_count": 36,
   "id": "2fc9b153",
   "metadata": {},
   "outputs": [],
   "source": [
    "data2 = pd.DataFrame(data2)"
   ]
  },
  {
   "cell_type": "code",
   "execution_count": 37,
   "id": "0136c987",
   "metadata": {},
   "outputs": [
    {
     "data": {
      "text/html": [
       "<div>\n",
       "<style scoped>\n",
       "    .dataframe tbody tr th:only-of-type {\n",
       "        vertical-align: middle;\n",
       "    }\n",
       "\n",
       "    .dataframe tbody tr th {\n",
       "        vertical-align: top;\n",
       "    }\n",
       "\n",
       "    .dataframe thead th {\n",
       "        text-align: right;\n",
       "    }\n",
       "</style>\n",
       "<table border=\"1\" class=\"dataframe\">\n",
       "  <thead>\n",
       "    <tr style=\"text-align: right;\">\n",
       "      <th></th>\n",
       "      <th>Exam No</th>\n",
       "      <th>Student</th>\n",
       "      <th>Sem1</th>\n",
       "      <th>Sem2</th>\n",
       "      <th>Sem3</th>\n",
       "      <th>Sem4</th>\n",
       "    </tr>\n",
       "  </thead>\n",
       "  <tbody>\n",
       "    <tr>\n",
       "      <th>0</th>\n",
       "      <td>1</td>\n",
       "      <td>student1</td>\n",
       "      <td>34</td>\n",
       "      <td>40</td>\n",
       "      <td>50</td>\n",
       "      <td>32</td>\n",
       "    </tr>\n",
       "    <tr>\n",
       "      <th>1</th>\n",
       "      <td>2</td>\n",
       "      <td>student2</td>\n",
       "      <td>45</td>\n",
       "      <td>22</td>\n",
       "      <td>67</td>\n",
       "      <td>55</td>\n",
       "    </tr>\n",
       "    <tr>\n",
       "      <th>2</th>\n",
       "      <td>3</td>\n",
       "      <td>student3</td>\n",
       "      <td>67</td>\n",
       "      <td>32</td>\n",
       "      <td>44</td>\n",
       "      <td>34</td>\n",
       "    </tr>\n",
       "    <tr>\n",
       "      <th>3</th>\n",
       "      <td>4</td>\n",
       "      <td>student4</td>\n",
       "      <td>38</td>\n",
       "      <td>42</td>\n",
       "      <td>27</td>\n",
       "      <td>34</td>\n",
       "    </tr>\n",
       "    <tr>\n",
       "      <th>4</th>\n",
       "      <td>5</td>\n",
       "      <td>student5</td>\n",
       "      <td>56</td>\n",
       "      <td>50</td>\n",
       "      <td>67</td>\n",
       "      <td>44</td>\n",
       "    </tr>\n",
       "    <tr>\n",
       "      <th>5</th>\n",
       "      <td>6</td>\n",
       "      <td>student6</td>\n",
       "      <td>76</td>\n",
       "      <td>67</td>\n",
       "      <td>56</td>\n",
       "      <td>44</td>\n",
       "    </tr>\n",
       "    <tr>\n",
       "      <th>6</th>\n",
       "      <td>7</td>\n",
       "      <td>student7</td>\n",
       "      <td>66</td>\n",
       "      <td>44</td>\n",
       "      <td>76</td>\n",
       "      <td>38</td>\n",
       "    </tr>\n",
       "    <tr>\n",
       "      <th>7</th>\n",
       "      <td>8</td>\n",
       "      <td>student8</td>\n",
       "      <td>45</td>\n",
       "      <td>27</td>\n",
       "      <td>55</td>\n",
       "      <td>56</td>\n",
       "    </tr>\n",
       "    <tr>\n",
       "      <th>8</th>\n",
       "      <td>9</td>\n",
       "      <td>student9</td>\n",
       "      <td>66</td>\n",
       "      <td>44</td>\n",
       "      <td>45</td>\n",
       "      <td>55</td>\n",
       "    </tr>\n",
       "    <tr>\n",
       "      <th>9</th>\n",
       "      <td>10</td>\n",
       "      <td>student10</td>\n",
       "      <td>73</td>\n",
       "      <td>55</td>\n",
       "      <td>66</td>\n",
       "      <td>88</td>\n",
       "    </tr>\n",
       "  </tbody>\n",
       "</table>\n",
       "</div>"
      ],
      "text/plain": [
       "   Exam No    Student  Sem1  Sem2  Sem3  Sem4\n",
       "0        1   student1    34    40    50    32\n",
       "1        2   student2    45    22    67    55\n",
       "2        3   student3    67    32    44    34\n",
       "3        4   student4    38    42    27    34\n",
       "4        5   student5    56    50    67    44\n",
       "5        6   student6    76    67    56    44\n",
       "6        7   student7    66    44    76    38\n",
       "7        8   student8    45    27    55    56\n",
       "8        9   student9    66    44    45    55\n",
       "9       10  student10    73    55    66    88"
      ]
     },
     "execution_count": 37,
     "metadata": {},
     "output_type": "execute_result"
    }
   ],
   "source": [
    "data2"
   ]
  },
  {
   "cell_type": "code",
   "execution_count": null,
   "id": "29ee150a",
   "metadata": {},
   "outputs": [],
   "source": []
  },
  {
   "cell_type": "code",
   "execution_count": null,
   "id": "f7a5d308",
   "metadata": {},
   "outputs": [],
   "source": [
    "# data2[\"Result\"]=\"\""
   ]
  },
  {
   "cell_type": "code",
   "execution_count": null,
   "id": "3728eaf4",
   "metadata": {},
   "outputs": [],
   "source": []
  },
  {
   "cell_type": "code",
   "execution_count": 38,
   "id": "57b0ca83",
   "metadata": {},
   "outputs": [],
   "source": [
    "def Result(data2):\n",
    "    if ((data2[\"Sem1\"]<35) | (data2[\"Sem2\"]<35 )| (data2[\"Sem3\"]<35) | (data2[\"Sem4\"]<35)):\n",
    "        data2[\"Result\"]=\"Fail\"\n",
    "    else:\n",
    "        data2[\"Result\"]=\"Pass\"\n",
    "    data2[\"1st Year percentage\"]=(data2[\"Sem1\"]+data2[\"Sem2\"])/200*100\n",
    "    data2[\"2nd Year percentage\"]=(data2[\"Sem3\"]+data2[\"Sem4\"])/200*100\n",
    "    return data2"
   ]
  },
  {
   "cell_type": "code",
   "execution_count": 43,
   "id": "61ccae33",
   "metadata": {},
   "outputs": [],
   "source": [
    "data2=data2.apply(Result,axis=1)"
   ]
  },
  {
   "cell_type": "code",
   "execution_count": 44,
   "id": "818020c8",
   "metadata": {},
   "outputs": [
    {
     "data": {
      "text/html": [
       "<div>\n",
       "<style scoped>\n",
       "    .dataframe tbody tr th:only-of-type {\n",
       "        vertical-align: middle;\n",
       "    }\n",
       "\n",
       "    .dataframe tbody tr th {\n",
       "        vertical-align: top;\n",
       "    }\n",
       "\n",
       "    .dataframe thead th {\n",
       "        text-align: right;\n",
       "    }\n",
       "</style>\n",
       "<table border=\"1\" class=\"dataframe\">\n",
       "  <thead>\n",
       "    <tr style=\"text-align: right;\">\n",
       "      <th></th>\n",
       "      <th>Exam No</th>\n",
       "      <th>Student</th>\n",
       "      <th>Sem1</th>\n",
       "      <th>Sem2</th>\n",
       "      <th>Sem3</th>\n",
       "      <th>Sem4</th>\n",
       "      <th>Result</th>\n",
       "      <th>1st Year percentage</th>\n",
       "      <th>2nd Year percentage</th>\n",
       "    </tr>\n",
       "  </thead>\n",
       "  <tbody>\n",
       "    <tr>\n",
       "      <th>0</th>\n",
       "      <td>1</td>\n",
       "      <td>student1</td>\n",
       "      <td>34</td>\n",
       "      <td>40</td>\n",
       "      <td>50</td>\n",
       "      <td>32</td>\n",
       "      <td>Fail</td>\n",
       "      <td>37.0</td>\n",
       "      <td>41.0</td>\n",
       "    </tr>\n",
       "    <tr>\n",
       "      <th>1</th>\n",
       "      <td>2</td>\n",
       "      <td>student2</td>\n",
       "      <td>45</td>\n",
       "      <td>22</td>\n",
       "      <td>67</td>\n",
       "      <td>55</td>\n",
       "      <td>Fail</td>\n",
       "      <td>33.5</td>\n",
       "      <td>61.0</td>\n",
       "    </tr>\n",
       "    <tr>\n",
       "      <th>2</th>\n",
       "      <td>3</td>\n",
       "      <td>student3</td>\n",
       "      <td>67</td>\n",
       "      <td>32</td>\n",
       "      <td>44</td>\n",
       "      <td>34</td>\n",
       "      <td>Fail</td>\n",
       "      <td>49.5</td>\n",
       "      <td>39.0</td>\n",
       "    </tr>\n",
       "    <tr>\n",
       "      <th>3</th>\n",
       "      <td>4</td>\n",
       "      <td>student4</td>\n",
       "      <td>38</td>\n",
       "      <td>42</td>\n",
       "      <td>27</td>\n",
       "      <td>34</td>\n",
       "      <td>Fail</td>\n",
       "      <td>40.0</td>\n",
       "      <td>30.5</td>\n",
       "    </tr>\n",
       "    <tr>\n",
       "      <th>4</th>\n",
       "      <td>5</td>\n",
       "      <td>student5</td>\n",
       "      <td>56</td>\n",
       "      <td>50</td>\n",
       "      <td>67</td>\n",
       "      <td>44</td>\n",
       "      <td>Pass</td>\n",
       "      <td>53.0</td>\n",
       "      <td>55.5</td>\n",
       "    </tr>\n",
       "    <tr>\n",
       "      <th>5</th>\n",
       "      <td>6</td>\n",
       "      <td>student6</td>\n",
       "      <td>76</td>\n",
       "      <td>67</td>\n",
       "      <td>56</td>\n",
       "      <td>44</td>\n",
       "      <td>Pass</td>\n",
       "      <td>71.5</td>\n",
       "      <td>50.0</td>\n",
       "    </tr>\n",
       "    <tr>\n",
       "      <th>6</th>\n",
       "      <td>7</td>\n",
       "      <td>student7</td>\n",
       "      <td>66</td>\n",
       "      <td>44</td>\n",
       "      <td>76</td>\n",
       "      <td>38</td>\n",
       "      <td>Pass</td>\n",
       "      <td>55.0</td>\n",
       "      <td>57.0</td>\n",
       "    </tr>\n",
       "    <tr>\n",
       "      <th>7</th>\n",
       "      <td>8</td>\n",
       "      <td>student8</td>\n",
       "      <td>45</td>\n",
       "      <td>27</td>\n",
       "      <td>55</td>\n",
       "      <td>56</td>\n",
       "      <td>Fail</td>\n",
       "      <td>36.0</td>\n",
       "      <td>55.5</td>\n",
       "    </tr>\n",
       "    <tr>\n",
       "      <th>8</th>\n",
       "      <td>9</td>\n",
       "      <td>student9</td>\n",
       "      <td>66</td>\n",
       "      <td>44</td>\n",
       "      <td>45</td>\n",
       "      <td>55</td>\n",
       "      <td>Pass</td>\n",
       "      <td>55.0</td>\n",
       "      <td>50.0</td>\n",
       "    </tr>\n",
       "    <tr>\n",
       "      <th>9</th>\n",
       "      <td>10</td>\n",
       "      <td>student10</td>\n",
       "      <td>73</td>\n",
       "      <td>55</td>\n",
       "      <td>66</td>\n",
       "      <td>88</td>\n",
       "      <td>Pass</td>\n",
       "      <td>64.0</td>\n",
       "      <td>77.0</td>\n",
       "    </tr>\n",
       "  </tbody>\n",
       "</table>\n",
       "</div>"
      ],
      "text/plain": [
       "   Exam No    Student  Sem1  Sem2  Sem3  Sem4 Result  1st Year percentage  \\\n",
       "0        1   student1    34    40    50    32   Fail                 37.0   \n",
       "1        2   student2    45    22    67    55   Fail                 33.5   \n",
       "2        3   student3    67    32    44    34   Fail                 49.5   \n",
       "3        4   student4    38    42    27    34   Fail                 40.0   \n",
       "4        5   student5    56    50    67    44   Pass                 53.0   \n",
       "5        6   student6    76    67    56    44   Pass                 71.5   \n",
       "6        7   student7    66    44    76    38   Pass                 55.0   \n",
       "7        8   student8    45    27    55    56   Fail                 36.0   \n",
       "8        9   student9    66    44    45    55   Pass                 55.0   \n",
       "9       10  student10    73    55    66    88   Pass                 64.0   \n",
       "\n",
       "   2nd Year percentage  \n",
       "0                 41.0  \n",
       "1                 61.0  \n",
       "2                 39.0  \n",
       "3                 30.5  \n",
       "4                 55.5  \n",
       "5                 50.0  \n",
       "6                 57.0  \n",
       "7                 55.5  \n",
       "8                 50.0  \n",
       "9                 77.0  "
      ]
     },
     "execution_count": 44,
     "metadata": {},
     "output_type": "execute_result"
    }
   ],
   "source": [
    "data2"
   ]
  },
  {
   "cell_type": "code",
   "execution_count": 45,
   "id": "767be5cf",
   "metadata": {},
   "outputs": [],
   "source": [
    "data2.to_excel(r\"D:\\Freelance SQL\\Python\\New folder\\Result1.xlsx\")"
   ]
  },
  {
   "cell_type": "code",
   "execution_count": 46,
   "id": "33b44640",
   "metadata": {},
   "outputs": [],
   "source": [
    "data2.to_excel(r\"D:\\Freelance SQL\\Python\\New folder\\Result2.xlsx\",index=False)"
   ]
  },
  {
   "cell_type": "code",
   "execution_count": null,
   "id": "f58fbcd9",
   "metadata": {},
   "outputs": [],
   "source": []
  },
  {
   "cell_type": "code",
   "execution_count": null,
   "id": "f06b5760",
   "metadata": {},
   "outputs": [],
   "source": [
    "# data.to_excel(r\"D:\\Freelance SQL\\Python\\New folder\\Result1.xlsx\",index=False)"
   ]
  },
  {
   "cell_type": "code",
   "execution_count": null,
   "id": "b7be7bd2",
   "metadata": {},
   "outputs": [],
   "source": [
    "# data.to_csv(r\"D:\\Freelance SQL\\Python\\New folder\\Result2.csv\")"
   ]
  }
 ],
 "metadata": {
  "kernelspec": {
   "display_name": "Python 3 (ipykernel)",
   "language": "python",
   "name": "python3"
  },
  "language_info": {
   "codemirror_mode": {
    "name": "ipython",
    "version": 3
   },
   "file_extension": ".py",
   "mimetype": "text/x-python",
   "name": "python",
   "nbconvert_exporter": "python",
   "pygments_lexer": "ipython3",
   "version": "3.9.13"
  }
 },
 "nbformat": 4,
 "nbformat_minor": 5
}
