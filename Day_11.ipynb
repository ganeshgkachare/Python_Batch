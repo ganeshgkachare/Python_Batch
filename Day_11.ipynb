{
 "cells": [
  {
   "cell_type": "markdown",
   "id": "a6230cad",
   "metadata": {},
   "source": [
    "# Pandas"
   ]
  },
  {
   "cell_type": "code",
   "execution_count": null,
   "id": "23727606",
   "metadata": {},
   "outputs": [],
   "source": [
    "import pandas as pd"
   ]
  },
  {
   "cell_type": "code",
   "execution_count": null,
   "id": "9140ab35",
   "metadata": {},
   "outputs": [],
   "source": [
    "# pd.read_csv(r\"D:\\Freelance SQL\\Excel\\New Microsoft Excel Worksheet.csv\")"
   ]
  },
  {
   "cell_type": "code",
   "execution_count": null,
   "id": "8b27f9c4",
   "metadata": {},
   "outputs": [],
   "source": []
  },
  {
   "cell_type": "code",
   "execution_count": null,
   "id": "cff314ae",
   "metadata": {},
   "outputs": [],
   "source": [
    "pd.read_excel(\"D:\\Freelance SQL\\Excel\\New Microsoft Excel Worksheet.xlsx\") # single forward or double backward slash"
   ]
  },
  {
   "cell_type": "code",
   "execution_count": null,
   "id": "9c6927d6",
   "metadata": {},
   "outputs": [],
   "source": [
    "pd.read_excel(\"D:\\\\Freelance SQL\\\\Excel\\\\New Microsoft Excel Worksheet.xlsx\")"
   ]
  },
  {
   "cell_type": "code",
   "execution_count": null,
   "id": "51795a8d",
   "metadata": {},
   "outputs": [],
   "source": [
    "pd.read_excel(\"D:/Freelance SQL/Excel/New Microsoft Excel Worksheet.xlsx\")"
   ]
  },
  {
   "cell_type": "code",
   "execution_count": null,
   "id": "088b0641",
   "metadata": {},
   "outputs": [],
   "source": [
    "pd.read_excel(r\"D:\\Freelance SQL\\Excel\\New Microsoft Excel Worksheet.xlsx\")"
   ]
  },
  {
   "cell_type": "code",
   "execution_count": null,
   "id": "4e03d0e9",
   "metadata": {},
   "outputs": [],
   "source": [
    "df1 = pd.read_csv(r\"C:\\Users\\dell\\Desktop\\Datademo\\sample1.csv\")  \n",
    "# df1 = pd.read_csv(r\"sample1.csv\",header=None) #if 1st row is data\n",
    "df1"
   ]
  },
  {
   "cell_type": "code",
   "execution_count": null,
   "id": "3c64dbb9",
   "metadata": {},
   "outputs": [],
   "source": [
    "df1 = pd.read_csv(r\"C:\\Users\\dell\\Desktop\\Datademo\\sample1.csv\",header=None) #if 1st row is data\n",
    "df1"
   ]
  },
  {
   "cell_type": "code",
   "execution_count": null,
   "id": "d9e04463",
   "metadata": {},
   "outputs": [],
   "source": [
    "import numpy as np\n",
    "df2 = pd.DataFrame(np.random.randn(6,6),list(\"A B C D E F\".split(\" \")) ,list(\"U V W X Y Z\".split(\" \") ))\n",
    "df2"
   ]
  },
  {
   "cell_type": "code",
   "execution_count": null,
   "id": "301159ac",
   "metadata": {},
   "outputs": [],
   "source": []
  },
  {
   "cell_type": "code",
   "execution_count": null,
   "id": "1ccc7679",
   "metadata": {},
   "outputs": [],
   "source": [
    "pd.read_excel(r\"C:\\Users\\dell\\Downloads\\Python Test (1)\\Test 1\\New folder\\outout_Q1.xlsx\")"
   ]
  },
  {
   "cell_type": "code",
   "execution_count": null,
   "id": "e46147eb",
   "metadata": {},
   "outputs": [],
   "source": [
    "data1=pd.read_excel(r\"C:\\Users\\dell\\Downloads\\Python Test (1)\\Test 1\\New folder\\outout_Q1.xlsx\")"
   ]
  },
  {
   "cell_type": "code",
   "execution_count": null,
   "id": "abb1f678",
   "metadata": {},
   "outputs": [],
   "source": [
    "data1"
   ]
  },
  {
   "cell_type": "code",
   "execution_count": null,
   "id": "7efb1fd1",
   "metadata": {},
   "outputs": [],
   "source": [
    "data2=pd.read_excel(r\"C:\\Users\\dell\\Downloads\\Python Test (1)\\Test 1\\New folder\\outout_Q1 - Copy.xlsx\",skiprows=[1,2,3,4])"
   ]
  },
  {
   "cell_type": "code",
   "execution_count": null,
   "id": "d7dfc056",
   "metadata": {},
   "outputs": [],
   "source": [
    "data2"
   ]
  },
  {
   "cell_type": "code",
   "execution_count": null,
   "id": "3e95540a",
   "metadata": {},
   "outputs": [],
   "source": [
    "data3=pd.read_excel(r\"C:\\Users\\dell\\Downloads\\Python Test (1)\\Test 1\\New folder\\outout_Q1 - Copy (2).xlsx\",header=3)"
   ]
  },
  {
   "cell_type": "code",
   "execution_count": null,
   "id": "dfd4ab70",
   "metadata": {},
   "outputs": [],
   "source": [
    "data3"
   ]
  },
  {
   "cell_type": "code",
   "execution_count": null,
   "id": "5107bd29",
   "metadata": {},
   "outputs": [],
   "source": [
    "data4=pd.read_excel(r\"C:\\Users\\dell\\Downloads\\Python Test (1)\\Test 1\\New folder\\outout_Q1 - Copy (3).xlsx\",usecols=[\"Name\",\"age\",\"Zipcode\",\"Location\"])"
   ]
  },
  {
   "cell_type": "code",
   "execution_count": null,
   "id": "242f9b86",
   "metadata": {},
   "outputs": [],
   "source": []
  },
  {
   "cell_type": "code",
   "execution_count": null,
   "id": "8f0d4add",
   "metadata": {},
   "outputs": [],
   "source": [
    "data4"
   ]
  },
  {
   "cell_type": "code",
   "execution_count": null,
   "id": "8ce03f69",
   "metadata": {},
   "outputs": [],
   "source": []
  },
  {
   "cell_type": "code",
   "execution_count": null,
   "id": "b1cb2a3d",
   "metadata": {},
   "outputs": [],
   "source": [
    "data5=pd.read_excel(r\"C:\\Users\\dell\\Downloads\\Python Test (1)\\Test 1\\New folder\\outout_Q1 - Copy (4).xlsx\")"
   ]
  },
  {
   "cell_type": "code",
   "execution_count": null,
   "id": "d2043c8c",
   "metadata": {},
   "outputs": [],
   "source": [
    "data5"
   ]
  },
  {
   "cell_type": "code",
   "execution_count": null,
   "id": "47f41556",
   "metadata": {},
   "outputs": [],
   "source": [
    "data5=pd.read_excel(r\"C:\\Users\\dell\\Downloads\\Python Test (1)\\Test 1\\New folder\\outout_Q1 - Copy (4).xlsx\",header=1,skiprows=[1,3,4])"
   ]
  },
  {
   "cell_type": "code",
   "execution_count": null,
   "id": "4cb8ae92",
   "metadata": {},
   "outputs": [],
   "source": [
    "data5"
   ]
  },
  {
   "cell_type": "code",
   "execution_count": null,
   "id": "8c49c86f",
   "metadata": {},
   "outputs": [],
   "source": [
    "data6=pd.read_excel(r\"C:\\Users\\dell\\Downloads\\Python Test (1)\\Test 1\\New folder\\outout_Q1 - Copy (5).xlsx\",sheet_name=\"Sheet1\")"
   ]
  },
  {
   "cell_type": "code",
   "execution_count": null,
   "id": "2d01be60",
   "metadata": {},
   "outputs": [],
   "source": [
    "data6"
   ]
  },
  {
   "cell_type": "code",
   "execution_count": null,
   "id": "6d1a2c68",
   "metadata": {},
   "outputs": [],
   "source": [
    "data6[\"Year of Birth\"]=2023-data6[\"age\"]"
   ]
  },
  {
   "cell_type": "code",
   "execution_count": null,
   "id": "08d1319d",
   "metadata": {},
   "outputs": [],
   "source": [
    "data6[\"age\"]=data6[\"age\"].astype(int) # int, str, float"
   ]
  },
  {
   "cell_type": "code",
   "execution_count": null,
   "id": "4259808a",
   "metadata": {},
   "outputs": [],
   "source": [
    "data6"
   ]
  },
  {
   "cell_type": "code",
   "execution_count": null,
   "id": "0b2760cd",
   "metadata": {},
   "outputs": [],
   "source": []
  },
  {
   "cell_type": "code",
   "execution_count": null,
   "id": "16d5342f",
   "metadata": {},
   "outputs": [],
   "source": []
  },
  {
   "cell_type": "code",
   "execution_count": null,
   "id": "1a62d687",
   "metadata": {},
   "outputs": [],
   "source": [
    "data6"
   ]
  },
  {
   "cell_type": "code",
   "execution_count": null,
   "id": "5ae5c53f",
   "metadata": {},
   "outputs": [],
   "source": []
  },
  {
   "cell_type": "code",
   "execution_count": null,
   "id": "4a51b792",
   "metadata": {},
   "outputs": [],
   "source": [
    "data6.shape"
   ]
  },
  {
   "cell_type": "code",
   "execution_count": null,
   "id": "0d14bd14",
   "metadata": {},
   "outputs": [],
   "source": [
    "data6.ndim"
   ]
  },
  {
   "cell_type": "code",
   "execution_count": null,
   "id": "cceadfa7",
   "metadata": {},
   "outputs": [],
   "source": [
    "data6.size"
   ]
  },
  {
   "cell_type": "code",
   "execution_count": null,
   "id": "bbc31d07",
   "metadata": {},
   "outputs": [],
   "source": [
    "type(data6) # collection of serieas is a  DF"
   ]
  },
  {
   "cell_type": "code",
   "execution_count": null,
   "id": "9498f752",
   "metadata": {},
   "outputs": [],
   "source": [
    "data6"
   ]
  },
  {
   "cell_type": "code",
   "execution_count": null,
   "id": "4f81d21f",
   "metadata": {},
   "outputs": [],
   "source": [
    "# Accessing columns \n",
    "#  using dot\n",
    "#  not recommended\n",
    "data6.Name"
   ]
  },
  {
   "cell_type": "code",
   "execution_count": null,
   "id": "54509843",
   "metadata": {},
   "outputs": [],
   "source": [
    "data6"
   ]
  },
  {
   "cell_type": "code",
   "execution_count": null,
   "id": "6535ef38",
   "metadata": {},
   "outputs": [],
   "source": []
  },
  {
   "cell_type": "code",
   "execution_count": null,
   "id": "1277a3e1",
   "metadata": {},
   "outputs": [],
   "source": [
    "#  [] for accessing the data\n",
    "data6['Name']"
   ]
  },
  {
   "cell_type": "code",
   "execution_count": null,
   "id": "d7cc9382",
   "metadata": {},
   "outputs": [],
   "source": [
    "data6[\"Name\",\"age\"] # Multiple columns must be in another square bracket"
   ]
  },
  {
   "cell_type": "code",
   "execution_count": null,
   "id": "df5655a9",
   "metadata": {},
   "outputs": [],
   "source": [
    "data6[[\"Name\",\"age\"]]"
   ]
  },
  {
   "cell_type": "code",
   "execution_count": null,
   "id": "31493a37",
   "metadata": {},
   "outputs": [],
   "source": [
    "data6[[\"Name\",\"Age\",\"Year of Birth\"]] # case sensitive"
   ]
  },
  {
   "cell_type": "code",
   "execution_count": null,
   "id": "112b4e51",
   "metadata": {},
   "outputs": [],
   "source": [
    "data6[[\"Name\",\"age\",\"Year of Birth\"]]"
   ]
  },
  {
   "cell_type": "code",
   "execution_count": null,
   "id": "06b0a053",
   "metadata": {},
   "outputs": [],
   "source": []
  },
  {
   "cell_type": "code",
   "execution_count": null,
   "id": "60b18ccb",
   "metadata": {},
   "outputs": [],
   "source": [
    "data6"
   ]
  },
  {
   "cell_type": "code",
   "execution_count": null,
   "id": "12d7cb2b",
   "metadata": {},
   "outputs": [],
   "source": [
    "#  [] for accessing multiple columns\n",
    "df2[['X','Z']]"
   ]
  },
  {
   "cell_type": "code",
   "execution_count": null,
   "id": "830b8b36",
   "metadata": {},
   "outputs": [],
   "source": [
    "# U and V\n",
    "df2[['U','V']]"
   ]
  },
  {
   "cell_type": "code",
   "execution_count": null,
   "id": "532ed855",
   "metadata": {},
   "outputs": [],
   "source": [
    "df2[[\"V\",\"Y\"]]"
   ]
  },
  {
   "cell_type": "code",
   "execution_count": null,
   "id": "484a439d",
   "metadata": {},
   "outputs": [],
   "source": [
    "# Adding a new column\n",
    "df2[\"Z2\"] = df2[\"Z\"]*2\n",
    "df2"
   ]
  },
  {
   "cell_type": "code",
   "execution_count": null,
   "id": "a45f4dba",
   "metadata": {},
   "outputs": [],
   "source": []
  },
  {
   "cell_type": "code",
   "execution_count": null,
   "id": "03808964",
   "metadata": {},
   "outputs": [],
   "source": [
    "# deleting a column \n",
    "# inplace=True for permanent deletion\n",
    "df2.drop('X',axis=1,inplace=True)\n",
    "df2"
   ]
  },
  {
   "cell_type": "code",
   "execution_count": null,
   "id": "e098ba08",
   "metadata": {},
   "outputs": [],
   "source": [
    "\n",
    "df2[[\"U\",\"Y\",\"Z2\"]]"
   ]
  },
  {
   "cell_type": "code",
   "execution_count": null,
   "id": "d9f4917c",
   "metadata": {},
   "outputs": [],
   "source": [
    "# Accessing rows\n",
    "df2.loc[['A','B',\"D\"]]"
   ]
  },
  {
   "cell_type": "code",
   "execution_count": null,
   "id": "a8ca9d88",
   "metadata": {},
   "outputs": [],
   "source": [
    "df2.loc[\"A\"]"
   ]
  },
  {
   "cell_type": "code",
   "execution_count": null,
   "id": "3410f96b",
   "metadata": {},
   "outputs": [],
   "source": [
    "df2"
   ]
  },
  {
   "cell_type": "code",
   "execution_count": null,
   "id": "5102f7db",
   "metadata": {},
   "outputs": [],
   "source": [
    "# accessing A row via indexing\n",
    "df2.iloc[0:2]"
   ]
  },
  {
   "cell_type": "code",
   "execution_count": null,
   "id": "b4be67ac",
   "metadata": {},
   "outputs": [],
   "source": [
    "df2.iloc[0:2][\"Z\"]\n",
    "    "
   ]
  },
  {
   "cell_type": "code",
   "execution_count": null,
   "id": "dd9af0ed",
   "metadata": {},
   "outputs": [],
   "source": [
    "df2.rename(index={\"A\":\"B\",\"B\":\"A\",\"C\":\"D\",\"D\":\"P\",\"E\":\"R\",\"F\":\"G\"})"
   ]
  },
  {
   "cell_type": "code",
   "execution_count": null,
   "id": "58e00392",
   "metadata": {},
   "outputs": [],
   "source": [
    "df2"
   ]
  },
  {
   "cell_type": "code",
   "execution_count": null,
   "id": "b4bfe2c2",
   "metadata": {},
   "outputs": [],
   "source": [
    "df2.rename(index={\"A\":\"B\",\"B\":\"A\",\"C\":\"D\",\"D\":\"P\",\"E\":\"R\",\"F\":\"G\"},inplace=True)\n",
    "df2"
   ]
  },
  {
   "cell_type": "code",
   "execution_count": null,
   "id": "38f52623",
   "metadata": {},
   "outputs": [],
   "source": [
    "df2"
   ]
  },
  {
   "cell_type": "code",
   "execution_count": null,
   "id": "4e3617b8",
   "metadata": {},
   "outputs": [],
   "source": [
    "df2.iloc[0:2][\"Z\"]"
   ]
  },
  {
   "cell_type": "code",
   "execution_count": null,
   "id": "43e975d9",
   "metadata": {},
   "outputs": [],
   "source": [
    "df2.iloc[\"A\"][\"Z\"]"
   ]
  },
  {
   "cell_type": "code",
   "execution_count": null,
   "id": "a46601b1",
   "metadata": {},
   "outputs": [],
   "source": [
    "df2.iloc[0][\"Z\"]"
   ]
  },
  {
   "cell_type": "code",
   "execution_count": null,
   "id": "0e2866d4",
   "metadata": {},
   "outputs": [],
   "source": [
    "df2.loc[\"A\":\"B\"]"
   ]
  },
  {
   "cell_type": "code",
   "execution_count": null,
   "id": "eb53db71",
   "metadata": {},
   "outputs": [],
   "source": [
    "df2.loc[\"B\":\"A\"]"
   ]
  },
  {
   "cell_type": "code",
   "execution_count": null,
   "id": "0fd50de3",
   "metadata": {},
   "outputs": [],
   "source": []
  },
  {
   "cell_type": "code",
   "execution_count": null,
   "id": "62889071",
   "metadata": {},
   "outputs": [],
   "source": [
    "data6"
   ]
  },
  {
   "cell_type": "code",
   "execution_count": null,
   "id": "5f26f462",
   "metadata": {},
   "outputs": [],
   "source": [
    "#common method"
   ]
  },
  {
   "cell_type": "code",
   "execution_count": null,
   "id": "a514dfdd",
   "metadata": {},
   "outputs": [],
   "source": [
    "data6"
   ]
  },
  {
   "cell_type": "code",
   "execution_count": null,
   "id": "0511eab8",
   "metadata": {},
   "outputs": [],
   "source": [
    "data6.columns"
   ]
  },
  {
   "cell_type": "code",
   "execution_count": null,
   "id": "df7a130a",
   "metadata": {},
   "outputs": [],
   "source": [
    "data6.columns"
   ]
  },
  {
   "cell_type": "code",
   "execution_count": null,
   "id": "16ae6177",
   "metadata": {},
   "outputs": [],
   "source": [
    "data6.head() # By default 5rows"
   ]
  },
  {
   "cell_type": "code",
   "execution_count": null,
   "id": "40ce2e43",
   "metadata": {},
   "outputs": [],
   "source": [
    "data6.head(10)"
   ]
  },
  {
   "cell_type": "code",
   "execution_count": null,
   "id": "522d919d",
   "metadata": {},
   "outputs": [],
   "source": []
  },
  {
   "cell_type": "code",
   "execution_count": null,
   "id": "5db94ccb",
   "metadata": {},
   "outputs": [],
   "source": [
    "data6.tail()"
   ]
  },
  {
   "cell_type": "code",
   "execution_count": null,
   "id": "cedd410d",
   "metadata": {},
   "outputs": [],
   "source": [
    "data6.tail(4)"
   ]
  },
  {
   "cell_type": "code",
   "execution_count": null,
   "id": "1814414d",
   "metadata": {},
   "outputs": [],
   "source": []
  },
  {
   "cell_type": "code",
   "execution_count": null,
   "id": "288806d6",
   "metadata": {},
   "outputs": [],
   "source": [
    "data6"
   ]
  },
  {
   "cell_type": "code",
   "execution_count": null,
   "id": "76f24e78",
   "metadata": {},
   "outputs": [],
   "source": [
    "data6.info()"
   ]
  },
  {
   "cell_type": "code",
   "execution_count": null,
   "id": "cb522620",
   "metadata": {},
   "outputs": [],
   "source": []
  },
  {
   "cell_type": "code",
   "execution_count": null,
   "id": "4a434507",
   "metadata": {},
   "outputs": [],
   "source": [
    "data6.describe()"
   ]
  },
  {
   "cell_type": "code",
   "execution_count": null,
   "id": "6985d339",
   "metadata": {},
   "outputs": [],
   "source": [
    "data6.columns"
   ]
  },
  {
   "cell_type": "code",
   "execution_count": null,
   "id": "d1e31b11",
   "metadata": {},
   "outputs": [],
   "source": [
    "data6.index"
   ]
  },
  {
   "cell_type": "code",
   "execution_count": null,
   "id": "7f90550f",
   "metadata": {},
   "outputs": [],
   "source": [
    "data4=pd.read_excel(r\"C:\\Users\\dell\\Downloads\\Python Test (1)\\Test 1\\New folder\\outout_Q1 - Copy (3).xlsx\")"
   ]
  },
  {
   "cell_type": "code",
   "execution_count": null,
   "id": "6e4425ac",
   "metadata": {},
   "outputs": [],
   "source": [
    "data4"
   ]
  },
  {
   "cell_type": "code",
   "execution_count": null,
   "id": "60fa2476",
   "metadata": {},
   "outputs": [],
   "source": [
    "data4.isna()"
   ]
  },
  {
   "cell_type": "code",
   "execution_count": null,
   "id": "9e0dfad6",
   "metadata": {},
   "outputs": [],
   "source": [
    "# data4[data4.isna()]"
   ]
  },
  {
   "cell_type": "code",
   "execution_count": null,
   "id": "a5a7d0b6",
   "metadata": {},
   "outputs": [],
   "source": [
    "data4"
   ]
  },
  {
   "cell_type": "code",
   "execution_count": null,
   "id": "65718661",
   "metadata": {},
   "outputs": [],
   "source": [
    "data4[data4.isna().any(axis=1)]"
   ]
  },
  {
   "cell_type": "code",
   "execution_count": null,
   "id": "8eea9f39",
   "metadata": {},
   "outputs": [],
   "source": [
    "data4[data4.isna().all(axis=1)]"
   ]
  },
  {
   "cell_type": "code",
   "execution_count": null,
   "id": "e4e14305",
   "metadata": {},
   "outputs": [],
   "source": []
  },
  {
   "cell_type": "code",
   "execution_count": null,
   "id": "b53432f9",
   "metadata": {},
   "outputs": [],
   "source": [
    "data11=pd.read_excel(r\"C:\\Users\\dell\\Downloads\\Python Test (1)\\Test 1\\New folder\\outout_Q1.xlsx\")"
   ]
  },
  {
   "cell_type": "code",
   "execution_count": null,
   "id": "851ddb3b",
   "metadata": {},
   "outputs": [],
   "source": [
    "data11"
   ]
  },
  {
   "cell_type": "code",
   "execution_count": null,
   "id": "861dc9a4",
   "metadata": {},
   "outputs": [],
   "source": [
    "data11.duplicated()"
   ]
  },
  {
   "cell_type": "code",
   "execution_count": null,
   "id": "59e83403",
   "metadata": {},
   "outputs": [],
   "source": [
    "data11[data11.duplicated()]   # see duplicated values"
   ]
  },
  {
   "cell_type": "code",
   "execution_count": null,
   "id": "5b7dbc75",
   "metadata": {},
   "outputs": [],
   "source": [
    "data11.drop_duplicates()  #Removes duplicates only for this step"
   ]
  },
  {
   "cell_type": "code",
   "execution_count": null,
   "id": "01821b8f",
   "metadata": {},
   "outputs": [],
   "source": [
    "data12=data11.drop_duplicates()"
   ]
  },
  {
   "cell_type": "code",
   "execution_count": null,
   "id": "c55bda5b",
   "metadata": {},
   "outputs": [],
   "source": [
    "data12"
   ]
  },
  {
   "cell_type": "code",
   "execution_count": null,
   "id": "b80ba5e2",
   "metadata": {},
   "outputs": [],
   "source": [
    "data11"
   ]
  },
  {
   "cell_type": "code",
   "execution_count": null,
   "id": "27b32f4d",
   "metadata": {},
   "outputs": [],
   "source": [
    "data11.drop_duplicates(inplace=True)  # Removed duplicates original dataframe"
   ]
  },
  {
   "cell_type": "code",
   "execution_count": null,
   "id": "b20e2c1f",
   "metadata": {},
   "outputs": [],
   "source": [
    "data11"
   ]
  },
  {
   "cell_type": "code",
   "execution_count": null,
   "id": "5957b4a1",
   "metadata": {},
   "outputs": [],
   "source": [
    "data12=pd.read_excel(r\"C:\\Users\\dell\\Downloads\\Python Test (1)\\Test 1\\New folder\\outout_Q1.xlsx\")"
   ]
  },
  {
   "cell_type": "code",
   "execution_count": null,
   "id": "971217e1",
   "metadata": {},
   "outputs": [],
   "source": [
    "data12"
   ]
  },
  {
   "cell_type": "code",
   "execution_count": null,
   "id": "e87f6a9d",
   "metadata": {},
   "outputs": [],
   "source": [
    "data11.drop_duplicates(inplace=True)"
   ]
  },
  {
   "cell_type": "code",
   "execution_count": null,
   "id": "87fe9810",
   "metadata": {},
   "outputs": [],
   "source": [
    "data11"
   ]
  },
  {
   "cell_type": "code",
   "execution_count": null,
   "id": "a131c41b",
   "metadata": {},
   "outputs": [],
   "source": []
  },
  {
   "cell_type": "code",
   "execution_count": null,
   "id": "a1f8b12f",
   "metadata": {},
   "outputs": [],
   "source": []
  },
  {
   "cell_type": "code",
   "execution_count": null,
   "id": "98b171da",
   "metadata": {},
   "outputs": [],
   "source": []
  },
  {
   "cell_type": "code",
   "execution_count": null,
   "id": "0fe5264f",
   "metadata": {},
   "outputs": [],
   "source": [
    "data=pd.read_excel(r\"C:\\Users\\dell\\OneDrive\\Documents\\sample198.xlsx\")"
   ]
  },
  {
   "cell_type": "code",
   "execution_count": null,
   "id": "2f9086c1",
   "metadata": {},
   "outputs": [],
   "source": [
    "data"
   ]
  },
  {
   "cell_type": "code",
   "execution_count": null,
   "id": "3300b91d",
   "metadata": {},
   "outputs": [],
   "source": [
    "data"
   ]
  },
  {
   "cell_type": "code",
   "execution_count": null,
   "id": "97cd47b0",
   "metadata": {
    "scrolled": true
   },
   "outputs": [],
   "source": [
    "data[data.duplicated()]"
   ]
  },
  {
   "cell_type": "code",
   "execution_count": null,
   "id": "904b9e7d",
   "metadata": {},
   "outputs": [],
   "source": [
    "data1=data[[\"Roll No\",\"Student Name\"]]"
   ]
  },
  {
   "cell_type": "code",
   "execution_count": null,
   "id": "7cd1dff4",
   "metadata": {},
   "outputs": [],
   "source": [
    "data1"
   ]
  },
  {
   "cell_type": "code",
   "execution_count": null,
   "id": "727bfe2b",
   "metadata": {},
   "outputs": [],
   "source": [
    "data1[data1.duplicated()]"
   ]
  },
  {
   "cell_type": "code",
   "execution_count": null,
   "id": "25551fe0",
   "metadata": {},
   "outputs": [],
   "source": [
    "data1.drop_duplicates(inplace=True)"
   ]
  },
  {
   "cell_type": "code",
   "execution_count": null,
   "id": "94b545e3",
   "metadata": {},
   "outputs": [],
   "source": []
  },
  {
   "cell_type": "code",
   "execution_count": null,
   "id": "6f182e38",
   "metadata": {},
   "outputs": [],
   "source": [
    "data1"
   ]
  },
  {
   "cell_type": "code",
   "execution_count": null,
   "id": "4ab6671d",
   "metadata": {},
   "outputs": [],
   "source": [
    "data"
   ]
  },
  {
   "cell_type": "code",
   "execution_count": null,
   "id": "e47350f2",
   "metadata": {},
   "outputs": [],
   "source": [
    "data[data.duplicated()]"
   ]
  },
  {
   "cell_type": "code",
   "execution_count": null,
   "id": "0a695419",
   "metadata": {},
   "outputs": [],
   "source": [
    "data[data.duplicated(subset=[\"Roll No\",\"Student Name\"])]"
   ]
  },
  {
   "cell_type": "code",
   "execution_count": null,
   "id": "6ff908e3",
   "metadata": {},
   "outputs": [],
   "source": [
    "data.drop_duplicates(subset=[\"Roll No\",\"Student Name\"],inplace=True)"
   ]
  },
  {
   "cell_type": "code",
   "execution_count": null,
   "id": "348a8480",
   "metadata": {},
   "outputs": [],
   "source": [
    "data"
   ]
  },
  {
   "cell_type": "code",
   "execution_count": null,
   "id": "a91d6d22",
   "metadata": {},
   "outputs": [],
   "source": []
  },
  {
   "cell_type": "markdown",
   "id": "dffd5cac",
   "metadata": {},
   "source": [
    "## Practice"
   ]
  },
  {
   "cell_type": "code",
   "execution_count": null,
   "id": "387aafc4",
   "metadata": {},
   "outputs": [],
   "source": [
    "df4 = pd.read_csv(r\"D:\\Freelance SQL\\Python\\sample1.csv\")"
   ]
  },
  {
   "cell_type": "code",
   "execution_count": null,
   "id": "e5e0aa0f",
   "metadata": {},
   "outputs": [],
   "source": [
    "df4"
   ]
  },
  {
   "cell_type": "code",
   "execution_count": null,
   "id": "42262b28",
   "metadata": {},
   "outputs": [],
   "source": [
    "# finding age greater than 23\n",
    "df4>80 "
   ]
  },
  {
   "cell_type": "code",
   "execution_count": null,
   "id": "7cc8d398",
   "metadata": {},
   "outputs": [],
   "source": [
    "df4[df4>80]"
   ]
  },
  {
   "cell_type": "code",
   "execution_count": null,
   "id": "43977171",
   "metadata": {},
   "outputs": [],
   "source": [
    "df4[df4>80][[\"b\",\"e\"]]"
   ]
  },
  {
   "cell_type": "code",
   "execution_count": null,
   "id": "b4ed0ccb",
   "metadata": {},
   "outputs": [],
   "source": [
    "# 2. boolean > 40\n",
    "df4 > 40"
   ]
  },
  {
   "cell_type": "code",
   "execution_count": null,
   "id": "d72590e9",
   "metadata": {},
   "outputs": [],
   "source": [
    "# 3. getting the values of each boolean\n",
    "df4[df4 > 40] # based on numpy, elementwise operation"
   ]
  },
  {
   "cell_type": "code",
   "execution_count": null,
   "id": "9eb6f188",
   "metadata": {},
   "outputs": [],
   "source": [
    "# applying condition for columns\n",
    "df4[df4 > 40][[\"e\",\"f\",\"a\"]]"
   ]
  },
  {
   "cell_type": "code",
   "execution_count": null,
   "id": "e6c8c69b",
   "metadata": {},
   "outputs": [],
   "source": [
    "# applying multiple condition\n",
    "df4['a']>70"
   ]
  },
  {
   "cell_type": "code",
   "execution_count": null,
   "id": "73d390d8",
   "metadata": {},
   "outputs": [],
   "source": [
    "df4[df4['a']>70][\"a\"]"
   ]
  },
  {
   "cell_type": "code",
   "execution_count": null,
   "id": "eb849754",
   "metadata": {
    "scrolled": true
   },
   "outputs": [],
   "source": [
    "df4"
   ]
  },
  {
   "cell_type": "code",
   "execution_count": null,
   "id": "26ccb676",
   "metadata": {},
   "outputs": [],
   "source": [
    "# using AND \n",
    "df4[(df4['a']>70) &  (df4['b']>60)]\n",
    "df4"
   ]
  },
  {
   "cell_type": "code",
   "execution_count": null,
   "id": "fb14ec93",
   "metadata": {},
   "outputs": [],
   "source": [
    "df4[(df4['a']>63) &  (df4['b']>60)]"
   ]
  },
  {
   "cell_type": "code",
   "execution_count": null,
   "id": "2f9ecbd7",
   "metadata": {},
   "outputs": [],
   "source": [
    "df4[(df4['a']>63) | (df4['b']>60)]"
   ]
  },
  {
   "cell_type": "code",
   "execution_count": null,
   "id": "b1eb55b9",
   "metadata": {},
   "outputs": [],
   "source": [
    "#  OR using |\n",
    "df4[(df4['a']>63) |  (df4['b']>60)]"
   ]
  },
  {
   "cell_type": "code",
   "execution_count": null,
   "id": "ee3070ee",
   "metadata": {},
   "outputs": [],
   "source": [
    "# filtering out only required columns\n",
    "df4[(df4['a']>63) |  (df4['b']>60)][[\"a\",\"b\"]]"
   ]
  },
  {
   "cell_type": "code",
   "execution_count": null,
   "id": "6033a027",
   "metadata": {},
   "outputs": [],
   "source": [
    "df4[::-1]"
   ]
  },
  {
   "cell_type": "code",
   "execution_count": null,
   "id": "017af922",
   "metadata": {},
   "outputs": [],
   "source": [
    "df4"
   ]
  },
  {
   "cell_type": "code",
   "execution_count": null,
   "id": "eca5ffd4",
   "metadata": {},
   "outputs": [],
   "source": [
    "df4.loc[4,\"f\"]"
   ]
  },
  {
   "cell_type": "code",
   "execution_count": null,
   "id": "5a9b0d16",
   "metadata": {},
   "outputs": [],
   "source": [
    "df4[(df4['a']>63) |  (df4['b']>60)][[\"a\",\"b\"]]"
   ]
  },
  {
   "cell_type": "code",
   "execution_count": null,
   "id": "944e742d",
   "metadata": {},
   "outputs": [],
   "source": [
    "df4"
   ]
  },
  {
   "cell_type": "code",
   "execution_count": null,
   "id": "34be5699",
   "metadata": {},
   "outputs": [],
   "source": [
    "df4.where(df4['a']>63)  #The where() method replaces the values of the rows where the condition evaluates to False."
   ]
  },
  {
   "cell_type": "code",
   "execution_count": null,
   "id": "31063cb2",
   "metadata": {},
   "outputs": [],
   "source": [
    "#  Missing data and Groupby"
   ]
  },
  {
   "cell_type": "code",
   "execution_count": null,
   "id": "d665098e",
   "metadata": {},
   "outputs": [],
   "source": [
    "df4"
   ]
  },
  {
   "cell_type": "code",
   "execution_count": null,
   "id": "c583da67",
   "metadata": {},
   "outputs": [],
   "source": [
    "df4.loc[0:0,'f':'f'] # df.loc[row,colum] , includes the last index\n",
    "#  missing data "
   ]
  },
  {
   "cell_type": "code",
   "execution_count": 5,
   "id": "ecd65949",
   "metadata": {},
   "outputs": [
    {
     "data": {
      "text/html": [
       "<div>\n",
       "<style scoped>\n",
       "    .dataframe tbody tr th:only-of-type {\n",
       "        vertical-align: middle;\n",
       "    }\n",
       "\n",
       "    .dataframe tbody tr th {\n",
       "        vertical-align: top;\n",
       "    }\n",
       "\n",
       "    .dataframe thead th {\n",
       "        text-align: right;\n",
       "    }\n",
       "</style>\n",
       "<table border=\"1\" class=\"dataframe\">\n",
       "  <thead>\n",
       "    <tr style=\"text-align: right;\">\n",
       "      <th></th>\n",
       "      <th>a</th>\n",
       "      <th>b</th>\n",
       "      <th>c</th>\n",
       "      <th>d</th>\n",
       "      <th>e</th>\n",
       "      <th>f</th>\n",
       "    </tr>\n",
       "  </thead>\n",
       "  <tbody>\n",
       "    <tr>\n",
       "      <th>0</th>\n",
       "      <td>74.0</td>\n",
       "      <td>39.0</td>\n",
       "      <td>12.0</td>\n",
       "      <td>13.0</td>\n",
       "      <td>14.0</td>\n",
       "      <td>90</td>\n",
       "    </tr>\n",
       "    <tr>\n",
       "      <th>1</th>\n",
       "      <td>25.0</td>\n",
       "      <td>58.0</td>\n",
       "      <td>12.0</td>\n",
       "      <td>99.0</td>\n",
       "      <td>74.0</td>\n",
       "      <td>79</td>\n",
       "    </tr>\n",
       "    <tr>\n",
       "      <th>2</th>\n",
       "      <td>33.0</td>\n",
       "      <td>87.0</td>\n",
       "      <td>36.0</td>\n",
       "      <td>NaN</td>\n",
       "      <td>NaN</td>\n",
       "      <td>33</td>\n",
       "    </tr>\n",
       "    <tr>\n",
       "      <th>3</th>\n",
       "      <td>68.0</td>\n",
       "      <td>NaN</td>\n",
       "      <td>NaN</td>\n",
       "      <td>42.0</td>\n",
       "      <td>39.0</td>\n",
       "      <td>76</td>\n",
       "    </tr>\n",
       "    <tr>\n",
       "      <th>4</th>\n",
       "      <td>NaN</td>\n",
       "      <td>58.0</td>\n",
       "      <td>74.0</td>\n",
       "      <td>87.0</td>\n",
       "      <td>12.0</td>\n",
       "      <td>24</td>\n",
       "    </tr>\n",
       "  </tbody>\n",
       "</table>\n",
       "</div>"
      ],
      "text/plain": [
       "      a     b     c     d     e   f\n",
       "0  74.0  39.0  12.0  13.0  14.0  90\n",
       "1  25.0  58.0  12.0  99.0  74.0  79\n",
       "2  33.0  87.0  36.0   NaN   NaN  33\n",
       "3  68.0   NaN   NaN  42.0  39.0  76\n",
       "4   NaN  58.0  74.0  87.0  12.0  24"
      ]
     },
     "execution_count": 5,
     "metadata": {},
     "output_type": "execute_result"
    }
   ],
   "source": [
    "df5 = pd.read_csv(r\"D:\\Freelance SQL\\Python\\New folder\\samplemiss.csv\")\n",
    "df5"
   ]
  },
  {
   "cell_type": "code",
   "execution_count": null,
   "id": "cc2a64cb",
   "metadata": {},
   "outputs": [],
   "source": [
    " #NaN , nan means NOt A number"
   ]
  },
  {
   "cell_type": "code",
   "execution_count": 6,
   "id": "f67f8e08",
   "metadata": {},
   "outputs": [
    {
     "data": {
      "text/html": [
       "<div>\n",
       "<style scoped>\n",
       "    .dataframe tbody tr th:only-of-type {\n",
       "        vertical-align: middle;\n",
       "    }\n",
       "\n",
       "    .dataframe tbody tr th {\n",
       "        vertical-align: top;\n",
       "    }\n",
       "\n",
       "    .dataframe thead th {\n",
       "        text-align: right;\n",
       "    }\n",
       "</style>\n",
       "<table border=\"1\" class=\"dataframe\">\n",
       "  <thead>\n",
       "    <tr style=\"text-align: right;\">\n",
       "      <th></th>\n",
       "      <th>a</th>\n",
       "      <th>b</th>\n",
       "      <th>c</th>\n",
       "      <th>d</th>\n",
       "      <th>e</th>\n",
       "      <th>f</th>\n",
       "    </tr>\n",
       "  </thead>\n",
       "  <tbody>\n",
       "    <tr>\n",
       "      <th>0</th>\n",
       "      <td>74.0</td>\n",
       "      <td>39.0</td>\n",
       "      <td>12.0</td>\n",
       "      <td>13.0</td>\n",
       "      <td>14.0</td>\n",
       "      <td>90</td>\n",
       "    </tr>\n",
       "    <tr>\n",
       "      <th>1</th>\n",
       "      <td>25.0</td>\n",
       "      <td>58.0</td>\n",
       "      <td>12.0</td>\n",
       "      <td>99.0</td>\n",
       "      <td>74.0</td>\n",
       "      <td>79</td>\n",
       "    </tr>\n",
       "  </tbody>\n",
       "</table>\n",
       "</div>"
      ],
      "text/plain": [
       "      a     b     c     d     e   f\n",
       "0  74.0  39.0  12.0  13.0  14.0  90\n",
       "1  25.0  58.0  12.0  99.0  74.0  79"
      ]
     },
     "execution_count": 6,
     "metadata": {},
     "output_type": "execute_result"
    }
   ],
   "source": [
    "# df5.dropna(axis=0)\n",
    "df5.dropna() # default axis is 0 , ie will check NaN in rows"
   ]
  },
  {
   "cell_type": "code",
   "execution_count": 7,
   "id": "4bf4fcee",
   "metadata": {},
   "outputs": [
    {
     "data": {
      "text/html": [
       "<div>\n",
       "<style scoped>\n",
       "    .dataframe tbody tr th:only-of-type {\n",
       "        vertical-align: middle;\n",
       "    }\n",
       "\n",
       "    .dataframe tbody tr th {\n",
       "        vertical-align: top;\n",
       "    }\n",
       "\n",
       "    .dataframe thead th {\n",
       "        text-align: right;\n",
       "    }\n",
       "</style>\n",
       "<table border=\"1\" class=\"dataframe\">\n",
       "  <thead>\n",
       "    <tr style=\"text-align: right;\">\n",
       "      <th></th>\n",
       "      <th>f</th>\n",
       "    </tr>\n",
       "  </thead>\n",
       "  <tbody>\n",
       "    <tr>\n",
       "      <th>0</th>\n",
       "      <td>90</td>\n",
       "    </tr>\n",
       "    <tr>\n",
       "      <th>1</th>\n",
       "      <td>79</td>\n",
       "    </tr>\n",
       "    <tr>\n",
       "      <th>2</th>\n",
       "      <td>33</td>\n",
       "    </tr>\n",
       "    <tr>\n",
       "      <th>3</th>\n",
       "      <td>76</td>\n",
       "    </tr>\n",
       "    <tr>\n",
       "      <th>4</th>\n",
       "      <td>24</td>\n",
       "    </tr>\n",
       "  </tbody>\n",
       "</table>\n",
       "</div>"
      ],
      "text/plain": [
       "    f\n",
       "0  90\n",
       "1  79\n",
       "2  33\n",
       "3  76\n",
       "4  24"
      ]
     },
     "execution_count": 7,
     "metadata": {},
     "output_type": "execute_result"
    }
   ],
   "source": [
    "df5.dropna(axis=1)"
   ]
  },
  {
   "cell_type": "code",
   "execution_count": 8,
   "id": "9c9b680f",
   "metadata": {},
   "outputs": [
    {
     "data": {
      "text/html": [
       "<div>\n",
       "<style scoped>\n",
       "    .dataframe tbody tr th:only-of-type {\n",
       "        vertical-align: middle;\n",
       "    }\n",
       "\n",
       "    .dataframe tbody tr th {\n",
       "        vertical-align: top;\n",
       "    }\n",
       "\n",
       "    .dataframe thead th {\n",
       "        text-align: right;\n",
       "    }\n",
       "</style>\n",
       "<table border=\"1\" class=\"dataframe\">\n",
       "  <thead>\n",
       "    <tr style=\"text-align: right;\">\n",
       "      <th></th>\n",
       "      <th>a</th>\n",
       "      <th>b</th>\n",
       "      <th>c</th>\n",
       "      <th>d</th>\n",
       "      <th>e</th>\n",
       "      <th>f</th>\n",
       "    </tr>\n",
       "  </thead>\n",
       "  <tbody>\n",
       "    <tr>\n",
       "      <th>0</th>\n",
       "      <td>74.0</td>\n",
       "      <td>39.0</td>\n",
       "      <td>12.0</td>\n",
       "      <td>13.0</td>\n",
       "      <td>14.0</td>\n",
       "      <td>90</td>\n",
       "    </tr>\n",
       "    <tr>\n",
       "      <th>1</th>\n",
       "      <td>25.0</td>\n",
       "      <td>58.0</td>\n",
       "      <td>12.0</td>\n",
       "      <td>99.0</td>\n",
       "      <td>74.0</td>\n",
       "      <td>79</td>\n",
       "    </tr>\n",
       "    <tr>\n",
       "      <th>2</th>\n",
       "      <td>33.0</td>\n",
       "      <td>87.0</td>\n",
       "      <td>36.0</td>\n",
       "      <td>NaN</td>\n",
       "      <td>NaN</td>\n",
       "      <td>33</td>\n",
       "    </tr>\n",
       "    <tr>\n",
       "      <th>3</th>\n",
       "      <td>68.0</td>\n",
       "      <td>NaN</td>\n",
       "      <td>NaN</td>\n",
       "      <td>42.0</td>\n",
       "      <td>39.0</td>\n",
       "      <td>76</td>\n",
       "    </tr>\n",
       "    <tr>\n",
       "      <th>4</th>\n",
       "      <td>NaN</td>\n",
       "      <td>58.0</td>\n",
       "      <td>74.0</td>\n",
       "      <td>87.0</td>\n",
       "      <td>12.0</td>\n",
       "      <td>24</td>\n",
       "    </tr>\n",
       "  </tbody>\n",
       "</table>\n",
       "</div>"
      ],
      "text/plain": [
       "      a     b     c     d     e   f\n",
       "0  74.0  39.0  12.0  13.0  14.0  90\n",
       "1  25.0  58.0  12.0  99.0  74.0  79\n",
       "2  33.0  87.0  36.0   NaN   NaN  33\n",
       "3  68.0   NaN   NaN  42.0  39.0  76\n",
       "4   NaN  58.0  74.0  87.0  12.0  24"
      ]
     },
     "execution_count": 8,
     "metadata": {},
     "output_type": "execute_result"
    }
   ],
   "source": [
    "df5"
   ]
  },
  {
   "cell_type": "code",
   "execution_count": 10,
   "id": "cb1b17af",
   "metadata": {},
   "outputs": [
    {
     "data": {
      "text/html": [
       "<div>\n",
       "<style scoped>\n",
       "    .dataframe tbody tr th:only-of-type {\n",
       "        vertical-align: middle;\n",
       "    }\n",
       "\n",
       "    .dataframe tbody tr th {\n",
       "        vertical-align: top;\n",
       "    }\n",
       "\n",
       "    .dataframe thead th {\n",
       "        text-align: right;\n",
       "    }\n",
       "</style>\n",
       "<table border=\"1\" class=\"dataframe\">\n",
       "  <thead>\n",
       "    <tr style=\"text-align: right;\">\n",
       "      <th></th>\n",
       "      <th>a</th>\n",
       "      <th>b</th>\n",
       "      <th>c</th>\n",
       "      <th>d</th>\n",
       "      <th>e</th>\n",
       "      <th>f</th>\n",
       "    </tr>\n",
       "  </thead>\n",
       "  <tbody>\n",
       "    <tr>\n",
       "      <th>0</th>\n",
       "      <td>74.0</td>\n",
       "      <td>39.0</td>\n",
       "      <td>12.0</td>\n",
       "      <td>13.0</td>\n",
       "      <td>14.0</td>\n",
       "      <td>90</td>\n",
       "    </tr>\n",
       "    <tr>\n",
       "      <th>1</th>\n",
       "      <td>25.0</td>\n",
       "      <td>58.0</td>\n",
       "      <td>12.0</td>\n",
       "      <td>99.0</td>\n",
       "      <td>74.0</td>\n",
       "      <td>79</td>\n",
       "    </tr>\n",
       "    <tr>\n",
       "      <th>4</th>\n",
       "      <td>NaN</td>\n",
       "      <td>58.0</td>\n",
       "      <td>74.0</td>\n",
       "      <td>87.0</td>\n",
       "      <td>12.0</td>\n",
       "      <td>24</td>\n",
       "    </tr>\n",
       "  </tbody>\n",
       "</table>\n",
       "</div>"
      ],
      "text/plain": [
       "      a     b     c     d     e   f\n",
       "0  74.0  39.0  12.0  13.0  14.0  90\n",
       "1  25.0  58.0  12.0  99.0  74.0  79\n",
       "4   NaN  58.0  74.0  87.0  12.0  24"
      ]
     },
     "execution_count": 10,
     "metadata": {},
     "output_type": "execute_result"
    }
   ],
   "source": [
    "df5.dropna(thresh=5) # we should have a min 5 values"
   ]
  },
  {
   "cell_type": "code",
   "execution_count": 11,
   "id": "e9b5dfb5",
   "metadata": {},
   "outputs": [
    {
     "data": {
      "text/html": [
       "<div>\n",
       "<style scoped>\n",
       "    .dataframe tbody tr th:only-of-type {\n",
       "        vertical-align: middle;\n",
       "    }\n",
       "\n",
       "    .dataframe tbody tr th {\n",
       "        vertical-align: top;\n",
       "    }\n",
       "\n",
       "    .dataframe thead th {\n",
       "        text-align: right;\n",
       "    }\n",
       "</style>\n",
       "<table border=\"1\" class=\"dataframe\">\n",
       "  <thead>\n",
       "    <tr style=\"text-align: right;\">\n",
       "      <th></th>\n",
       "      <th>a</th>\n",
       "      <th>b</th>\n",
       "      <th>c</th>\n",
       "      <th>d</th>\n",
       "      <th>e</th>\n",
       "      <th>f</th>\n",
       "    </tr>\n",
       "  </thead>\n",
       "  <tbody>\n",
       "    <tr>\n",
       "      <th>0</th>\n",
       "      <td>74.0</td>\n",
       "      <td>39.0</td>\n",
       "      <td>12.0</td>\n",
       "      <td>13.0</td>\n",
       "      <td>14.0</td>\n",
       "      <td>90</td>\n",
       "    </tr>\n",
       "    <tr>\n",
       "      <th>1</th>\n",
       "      <td>25.0</td>\n",
       "      <td>58.0</td>\n",
       "      <td>12.0</td>\n",
       "      <td>99.0</td>\n",
       "      <td>74.0</td>\n",
       "      <td>79</td>\n",
       "    </tr>\n",
       "  </tbody>\n",
       "</table>\n",
       "</div>"
      ],
      "text/plain": [
       "      a     b     c     d     e   f\n",
       "0  74.0  39.0  12.0  13.0  14.0  90\n",
       "1  25.0  58.0  12.0  99.0  74.0  79"
      ]
     },
     "execution_count": 11,
     "metadata": {},
     "output_type": "execute_result"
    }
   ],
   "source": [
    "df5.dropna(thresh=6)"
   ]
  },
  {
   "cell_type": "code",
   "execution_count": null,
   "id": "700d7efa",
   "metadata": {},
   "outputs": [],
   "source": [
    "df5.dropna(thresh=4)"
   ]
  },
  {
   "cell_type": "code",
   "execution_count": 12,
   "id": "cb7af614",
   "metadata": {},
   "outputs": [
    {
     "data": {
      "text/html": [
       "<div>\n",
       "<style scoped>\n",
       "    .dataframe tbody tr th:only-of-type {\n",
       "        vertical-align: middle;\n",
       "    }\n",
       "\n",
       "    .dataframe tbody tr th {\n",
       "        vertical-align: top;\n",
       "    }\n",
       "\n",
       "    .dataframe thead th {\n",
       "        text-align: right;\n",
       "    }\n",
       "</style>\n",
       "<table border=\"1\" class=\"dataframe\">\n",
       "  <thead>\n",
       "    <tr style=\"text-align: right;\">\n",
       "      <th></th>\n",
       "      <th>a</th>\n",
       "      <th>b</th>\n",
       "      <th>c</th>\n",
       "      <th>d</th>\n",
       "      <th>e</th>\n",
       "      <th>f</th>\n",
       "    </tr>\n",
       "  </thead>\n",
       "  <tbody>\n",
       "    <tr>\n",
       "      <th>0</th>\n",
       "      <td>74.0</td>\n",
       "      <td>39.0</td>\n",
       "      <td>12.0</td>\n",
       "      <td>13.0</td>\n",
       "      <td>14.0</td>\n",
       "      <td>90</td>\n",
       "    </tr>\n",
       "    <tr>\n",
       "      <th>1</th>\n",
       "      <td>25.0</td>\n",
       "      <td>58.0</td>\n",
       "      <td>12.0</td>\n",
       "      <td>99.0</td>\n",
       "      <td>74.0</td>\n",
       "      <td>79</td>\n",
       "    </tr>\n",
       "    <tr>\n",
       "      <th>2</th>\n",
       "      <td>33.0</td>\n",
       "      <td>87.0</td>\n",
       "      <td>36.0</td>\n",
       "      <td>SOME DATA</td>\n",
       "      <td>SOME DATA</td>\n",
       "      <td>33</td>\n",
       "    </tr>\n",
       "    <tr>\n",
       "      <th>3</th>\n",
       "      <td>68.0</td>\n",
       "      <td>SOME DATA</td>\n",
       "      <td>SOME DATA</td>\n",
       "      <td>42.0</td>\n",
       "      <td>39.0</td>\n",
       "      <td>76</td>\n",
       "    </tr>\n",
       "    <tr>\n",
       "      <th>4</th>\n",
       "      <td>SOME DATA</td>\n",
       "      <td>58.0</td>\n",
       "      <td>74.0</td>\n",
       "      <td>87.0</td>\n",
       "      <td>12.0</td>\n",
       "      <td>24</td>\n",
       "    </tr>\n",
       "  </tbody>\n",
       "</table>\n",
       "</div>"
      ],
      "text/plain": [
       "           a          b          c          d          e   f\n",
       "0       74.0       39.0       12.0       13.0       14.0  90\n",
       "1       25.0       58.0       12.0       99.0       74.0  79\n",
       "2       33.0       87.0       36.0  SOME DATA  SOME DATA  33\n",
       "3       68.0  SOME DATA  SOME DATA       42.0       39.0  76\n",
       "4  SOME DATA       58.0       74.0       87.0       12.0  24"
      ]
     },
     "execution_count": 12,
     "metadata": {},
     "output_type": "execute_result"
    }
   ],
   "source": [
    "df5.fillna(value=\"SOME DATA\")"
   ]
  },
  {
   "cell_type": "code",
   "execution_count": 13,
   "id": "1f186c17",
   "metadata": {},
   "outputs": [
    {
     "data": {
      "text/plain": [
       "0    74.0\n",
       "1    25.0\n",
       "2    33.0\n",
       "3    68.0\n",
       "4    50.0\n",
       "Name: a, dtype: float64"
      ]
     },
     "execution_count": 13,
     "metadata": {},
     "output_type": "execute_result"
    }
   ],
   "source": [
    "df5['a'].fillna(value=df5['a'].mean())"
   ]
  },
  {
   "cell_type": "code",
   "execution_count": 14,
   "id": "c705a27d",
   "metadata": {},
   "outputs": [
    {
     "data": {
      "text/html": [
       "<div>\n",
       "<style scoped>\n",
       "    .dataframe tbody tr th:only-of-type {\n",
       "        vertical-align: middle;\n",
       "    }\n",
       "\n",
       "    .dataframe tbody tr th {\n",
       "        vertical-align: top;\n",
       "    }\n",
       "\n",
       "    .dataframe thead th {\n",
       "        text-align: right;\n",
       "    }\n",
       "</style>\n",
       "<table border=\"1\" class=\"dataframe\">\n",
       "  <thead>\n",
       "    <tr style=\"text-align: right;\">\n",
       "      <th></th>\n",
       "      <th>a</th>\n",
       "      <th>b</th>\n",
       "      <th>c</th>\n",
       "      <th>d</th>\n",
       "      <th>e</th>\n",
       "      <th>f</th>\n",
       "    </tr>\n",
       "  </thead>\n",
       "  <tbody>\n",
       "    <tr>\n",
       "      <th>0</th>\n",
       "      <td>74.0</td>\n",
       "      <td>39.0</td>\n",
       "      <td>12.0</td>\n",
       "      <td>13.0</td>\n",
       "      <td>14.0</td>\n",
       "      <td>90</td>\n",
       "    </tr>\n",
       "    <tr>\n",
       "      <th>1</th>\n",
       "      <td>25.0</td>\n",
       "      <td>58.0</td>\n",
       "      <td>12.0</td>\n",
       "      <td>99.0</td>\n",
       "      <td>74.0</td>\n",
       "      <td>79</td>\n",
       "    </tr>\n",
       "    <tr>\n",
       "      <th>2</th>\n",
       "      <td>33.0</td>\n",
       "      <td>87.0</td>\n",
       "      <td>36.0</td>\n",
       "      <td>NaN</td>\n",
       "      <td>NaN</td>\n",
       "      <td>33</td>\n",
       "    </tr>\n",
       "    <tr>\n",
       "      <th>3</th>\n",
       "      <td>68.0</td>\n",
       "      <td>NaN</td>\n",
       "      <td>NaN</td>\n",
       "      <td>42.0</td>\n",
       "      <td>39.0</td>\n",
       "      <td>76</td>\n",
       "    </tr>\n",
       "    <tr>\n",
       "      <th>4</th>\n",
       "      <td>NaN</td>\n",
       "      <td>58.0</td>\n",
       "      <td>74.0</td>\n",
       "      <td>87.0</td>\n",
       "      <td>12.0</td>\n",
       "      <td>24</td>\n",
       "    </tr>\n",
       "  </tbody>\n",
       "</table>\n",
       "</div>"
      ],
      "text/plain": [
       "      a     b     c     d     e   f\n",
       "0  74.0  39.0  12.0  13.0  14.0  90\n",
       "1  25.0  58.0  12.0  99.0  74.0  79\n",
       "2  33.0  87.0  36.0   NaN   NaN  33\n",
       "3  68.0   NaN   NaN  42.0  39.0  76\n",
       "4   NaN  58.0  74.0  87.0  12.0  24"
      ]
     },
     "execution_count": 14,
     "metadata": {},
     "output_type": "execute_result"
    }
   ],
   "source": [
    "df5"
   ]
  },
  {
   "cell_type": "code",
   "execution_count": null,
   "id": "f4c39df5",
   "metadata": {},
   "outputs": [],
   "source": [
    "df5.fillna(value=999)"
   ]
  },
  {
   "cell_type": "code",
   "execution_count": null,
   "id": "64e1af85",
   "metadata": {},
   "outputs": [],
   "source": [
    "#  Concatenation\n",
    "df1 = pd.DataFrame(\n",
    "    {\n",
    "        \"A\": [\"A0\", \"A1\", \"A2\", \"A3\"],\n",
    "        \"B\": [\"B0\", \"B1\", \"B2\", \"B3\"],\n",
    "        \"C\": [\"C0\", \"C1\", \"C2\", \"C3\"],\n",
    "        \"D\": [\"D0\", \"D1\", \"D2\", \"D3\"],\n",
    "    },\n",
    "    index=[0, 1, 2, 3],\n",
    ")"
   ]
  },
  {
   "cell_type": "code",
   "execution_count": null,
   "id": "a1f679e7",
   "metadata": {},
   "outputs": [],
   "source": [
    "df2 = pd.DataFrame(\n",
    "    {\n",
    "        \"A\": [\"A4\", \"A5\", \"A6\", \"A7\"],\n",
    "        \"B\": [\"B4\", \"B5\", \"B6\", \"B7\"],\n",
    "        \"C\": [\"C4\", \"C5\", \"C6\", \"C7\"],\n",
    "        \"D\": [\"D4\", \"D5\", \"D6\", \"D7\"],\n",
    "    },\n",
    "    index=[4, 5, 6, 7],\n",
    ")"
   ]
  },
  {
   "cell_type": "code",
   "execution_count": null,
   "id": "967d0334",
   "metadata": {},
   "outputs": [],
   "source": [
    "df3 = pd.DataFrame(\n",
    "    {\n",
    "        \"A\": [\"A8\", \"A9\", \"A10\", \"A11\"],\n",
    "        \"B\": [\"B8\", \"B9\", \"B10\", \"B11\"],\n",
    "        \"C\": [\"C8\", \"C9\", \"C10\", \"C11\"],\n",
    "        \"D\": [\"D8\", \"D9\", \"D10\", \"D11\"],\n",
    "    },\n",
    "    index=[8, 9, 10, 11],\n",
    ")"
   ]
  },
  {
   "cell_type": "code",
   "execution_count": null,
   "id": "2de9085d",
   "metadata": {},
   "outputs": [],
   "source": [
    "df1"
   ]
  },
  {
   "cell_type": "code",
   "execution_count": null,
   "id": "2f8cd88a",
   "metadata": {},
   "outputs": [],
   "source": [
    "df2"
   ]
  },
  {
   "cell_type": "code",
   "execution_count": null,
   "id": "69484c76",
   "metadata": {},
   "outputs": [],
   "source": [
    "df3"
   ]
  },
  {
   "cell_type": "code",
   "execution_count": null,
   "id": "e7ef5dde",
   "metadata": {},
   "outputs": [],
   "source": [
    "pd.concat([df1,df2,df3],axis=0) # default is axis=0"
   ]
  },
  {
   "cell_type": "code",
   "execution_count": null,
   "id": "0b81ea81",
   "metadata": {},
   "outputs": [],
   "source": [
    "pd.concat([df1,df2,df3],axis=1) # changing default is axis=0 to 1"
   ]
  },
  {
   "cell_type": "code",
   "execution_count": null,
   "id": "e8c5b496",
   "metadata": {},
   "outputs": [],
   "source": [
    "pd.concat([df1,df2],axis=0)"
   ]
  },
  {
   "cell_type": "code",
   "execution_count": null,
   "id": "de9063bf",
   "metadata": {},
   "outputs": [],
   "source": [
    "pd.concat([df1,df2],axis=1)"
   ]
  },
  {
   "cell_type": "code",
   "execution_count": null,
   "id": "1a7588d5",
   "metadata": {},
   "outputs": [],
   "source": []
  },
  {
   "cell_type": "code",
   "execution_count": null,
   "id": "c8324834",
   "metadata": {},
   "outputs": [],
   "source": []
  },
  {
   "cell_type": "code",
   "execution_count": null,
   "id": "c19ee2bc",
   "metadata": {},
   "outputs": [],
   "source": [
    "df2 = pd.DataFrame(\n",
    "    {\n",
    "        \"A\": [\"A4\", \"A5\", \"A6\", \"A7\"],\n",
    "        \"B\": [\"B4\", \"B5\", \"B6\", \"B7\"],\n",
    "        \"C\": [\"C4\", \"C5\", \"C6\", \"C7\"],\n",
    "        \"D\": [\"D4\", \"D5\", \"D6\", \"D7\"],\n",
    "    },\n",
    "    index=[4, 5, 6, 7],\n",
    ")"
   ]
  },
  {
   "cell_type": "code",
   "execution_count": null,
   "id": "4de73b67",
   "metadata": {},
   "outputs": [],
   "source": [
    "df1 = pd.DataFrame(\n",
    "    {\n",
    "        \"A\": [\"A0\", \"A1\", \"A2\", \"A3\"],\n",
    "        \"B\": [\"B0\", \"B1\", \"B2\", \"B3\"],\n",
    "        \"C\": [\"C0\", \"C1\", \"C2\", \"C3\"],\n",
    "        \"D\": [\"D0\", \"D1\", \"D2\", \"D3\"],\n",
    "    },\n",
    "    index=[4, 5, 6, 7],\n",
    ")"
   ]
  },
  {
   "cell_type": "code",
   "execution_count": null,
   "id": "fba50f4e",
   "metadata": {},
   "outputs": [],
   "source": [
    "pd.concat([df1,df2],axis=0)"
   ]
  },
  {
   "cell_type": "code",
   "execution_count": null,
   "id": "1a09acb6",
   "metadata": {},
   "outputs": [],
   "source": [
    "pd.concat([df1,df2],axis=1)"
   ]
  },
  {
   "cell_type": "code",
   "execution_count": null,
   "id": "2ee95969",
   "metadata": {},
   "outputs": [],
   "source": [
    "#  Merging"
   ]
  },
  {
   "cell_type": "code",
   "execution_count": null,
   "id": "eff9b997",
   "metadata": {},
   "outputs": [],
   "source": [
    "left = pd.DataFrame(\n",
    "    {\n",
    "        \"key\": [\"K0\", \"K1\", \"K2\", \"K3\"],\n",
    "        \"A\": [\"A0\", \"A1\", \"A2\", \"A3\"],\n",
    "        \"B\": [\"B0\", \"B1\", \"B2\", \"B3\"],\n",
    "    }\n",
    ")"
   ]
  },
  {
   "cell_type": "code",
   "execution_count": null,
   "id": "750b375a",
   "metadata": {},
   "outputs": [],
   "source": [
    "right = pd.DataFrame(\n",
    "    {\n",
    "        \"key\": [\"K0\", \"K1\", \"K2\", \"K3\"],\n",
    "        \"C\": [\"C0\", \"C1\", \"C2\", \"C3\"],\n",
    "        \"D\": [\"D0\", \"D1\", \"D2\", \"D3\"],\n",
    "    }\n",
    ")"
   ]
  },
  {
   "cell_type": "code",
   "execution_count": null,
   "id": "31c14fc9",
   "metadata": {},
   "outputs": [],
   "source": [
    "left"
   ]
  },
  {
   "cell_type": "code",
   "execution_count": null,
   "id": "d1322461",
   "metadata": {},
   "outputs": [],
   "source": [
    "right"
   ]
  },
  {
   "cell_type": "code",
   "execution_count": null,
   "id": "79711c21",
   "metadata": {},
   "outputs": [],
   "source": [
    "pd.merge(left,right, how='inner') # default how=inner   #'left'\n",
    "                                                        # 'right'\n",
    "                                                        # 'outer'\n",
    "                                                        # 'inner'\n",
    "                                                        # 'cross'"
   ]
  },
  {
   "cell_type": "code",
   "execution_count": null,
   "id": "59b9935e",
   "metadata": {},
   "outputs": [],
   "source": [
    "pd.merge(left,right,how='outer', on='key')"
   ]
  },
  {
   "cell_type": "code",
   "execution_count": null,
   "id": "abc7adad",
   "metadata": {},
   "outputs": [],
   "source": [
    "left = pd.DataFrame(\n",
    "    {\n",
    "        \"key1\": [\"K0\", \"K0\", \"K1\", \"K2\"],\n",
    "        \"key2\": [\"K0\", \"K1\", \"K0\", \"K1\"],\n",
    "        \"A\": [\"A0\", \"A1\", \"A2\", \"A3\"],\n",
    "        \"B\": [\"B0\", \"B1\", \"B2\", \"B3\"],\n",
    "    }\n",
    ")"
   ]
  },
  {
   "cell_type": "code",
   "execution_count": null,
   "id": "f5b3cad6",
   "metadata": {},
   "outputs": [],
   "source": [
    "right = pd.DataFrame(\n",
    "    {\n",
    "        \"key1\": [\"K0\", \"K1\", \"K1\", \"K2\"],\n",
    "        \"key2\": [\"K0\", \"K0\", \"K0\", \"K0\"],\n",
    "        \"C\": [\"C0\", \"C1\", \"C2\", \"C3\"],\n",
    "        \"D\": [\"D0\", \"D1\", \"D2\", \"D3\"],\n",
    "    }\n",
    ")"
   ]
  },
  {
   "cell_type": "code",
   "execution_count": null,
   "id": "58169dc3",
   "metadata": {},
   "outputs": [],
   "source": [
    "# result = pd.merge(left, right, on=[\"key1\", \"key2\"])"
   ]
  },
  {
   "cell_type": "code",
   "execution_count": null,
   "id": "4a17eb33",
   "metadata": {},
   "outputs": [],
   "source": [
    "left"
   ]
  },
  {
   "cell_type": "code",
   "execution_count": null,
   "id": "d8c9b5a0",
   "metadata": {},
   "outputs": [],
   "source": [
    "right"
   ]
  },
  {
   "cell_type": "code",
   "execution_count": null,
   "id": "82341d29",
   "metadata": {},
   "outputs": [],
   "source": [
    "pd.merge(left,right,how='inner')"
   ]
  },
  {
   "cell_type": "code",
   "execution_count": null,
   "id": "a04fe9cc",
   "metadata": {},
   "outputs": [],
   "source": [
    "pd.merge(left,right,how='outer', on=['key1','key2'])"
   ]
  },
  {
   "cell_type": "code",
   "execution_count": null,
   "id": "198c6e12",
   "metadata": {},
   "outputs": [],
   "source": []
  },
  {
   "cell_type": "code",
   "execution_count": null,
   "id": "fb1f61d1",
   "metadata": {},
   "outputs": [],
   "source": []
  },
  {
   "cell_type": "code",
   "execution_count": null,
   "id": "fdfe65eb",
   "metadata": {},
   "outputs": [],
   "source": []
  },
  {
   "cell_type": "code",
   "execution_count": null,
   "id": "03bcc39b",
   "metadata": {},
   "outputs": [],
   "source": []
  }
 ],
 "metadata": {
  "kernelspec": {
   "display_name": "Python 3 (ipykernel)",
   "language": "python",
   "name": "python3"
  },
  "language_info": {
   "codemirror_mode": {
    "name": "ipython",
    "version": 3
   },
   "file_extension": ".py",
   "mimetype": "text/x-python",
   "name": "python",
   "nbconvert_exporter": "python",
   "pygments_lexer": "ipython3",
   "version": "3.9.13"
  }
 },
 "nbformat": 4,
 "nbformat_minor": 5
}
