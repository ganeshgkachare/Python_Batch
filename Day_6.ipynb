{
 "cells": [
  {
   "cell_type": "markdown",
   "id": "96f29d32",
   "metadata": {},
   "source": [
    "## DICTIONARY  IN PYTHON"
   ]
  },
  {
   "cell_type": "raw",
   "id": "52a7c950",
   "metadata": {},
   "source": [
    "Dictionaries are used to store data values in key:value pairs.\n",
    "    A dictionary is a collection which is  changeable and do not allow duplicates.\n",
    "    Dictionaries cannot have two items with the same key"
   ]
  },
  {
   "cell_type": "code",
   "execution_count": null,
   "id": "0d519f8f",
   "metadata": {},
   "outputs": [],
   "source": [
    "# duplicate key in dictionary\n",
    "animal = {\n",
    "    'legs':2,\n",
    "    'color':'red',\n",
    "    'eyes':2,\n",
    "    'legs':4\n",
    "}\n",
    "print(animal)"
   ]
  },
  {
   "cell_type": "code",
   "execution_count": null,
   "id": "7c442542",
   "metadata": {},
   "outputs": [],
   "source": [
    "# keys are hashable\n",
    "dict_student = {\n",
    "    'name' : 'Viplov',\n",
    "    'roll no.' : 54,\n",
    "    'Addr' : 'Jalpigudi',\n",
    "    'Hobby' :  'cricket',\n",
    "#     [101,55,21,9] : 'Scores',# unhashable type: 'list'\n",
    "    (101,55,21,9) : 'Score' ,# ok... but not to be used\n",
    "    'Score' :[101,55,21,9],\n",
    "    1 : 'ONE'\n",
    "}\n",
    "# keys are hashable\n",
    "dict_student"
   ]
  },
  {
   "cell_type": "code",
   "execution_count": null,
   "id": "e759f4e5",
   "metadata": {},
   "outputs": [],
   "source": [
    "#  Defining the dict with values\n",
    "#   dict does not stores the value by index\n",
    "\n",
    "person = {\n",
    "    \"firstName\":\"Raj\",\n",
    "    (3,5,6):6,\n",
    "    \"Age\":22\n",
    "}"
   ]
  },
  {
   "cell_type": "code",
   "execution_count": null,
   "id": "63eb1099",
   "metadata": {},
   "outputs": [],
   "source": [
    "type(person)"
   ]
  },
  {
   "cell_type": "code",
   "execution_count": null,
   "id": "4a2328fe",
   "metadata": {},
   "outputs": [],
   "source": [
    "# added\n",
    "person[\"lastname\"] = \"RRRRR\"\n",
    "# dict    key          value"
   ]
  },
  {
   "cell_type": "code",
   "execution_count": null,
   "id": "09c7c9c7",
   "metadata": {},
   "outputs": [],
   "source": [
    "person[\"lastname\"]"
   ]
  },
  {
   "cell_type": "code",
   "execution_count": null,
   "id": "e42ebc7b",
   "metadata": {},
   "outputs": [],
   "source": [
    "# create your dictionary containe your name\n",
    "# add your lastname \n",
    "# add subject(subject contains subject name and subject teacher)\n",
    "# add another one subject\n",
    "# remove any one subject\n",
    "\n",
    "# retrive value by using .get() method"
   ]
  },
  {
   "cell_type": "markdown",
   "id": "0e17848f",
   "metadata": {},
   "source": [
    "\n",
    "## HOW TO CREATE A DICTIONARY"
   ]
  },
  {
   "cell_type": "code",
   "execution_count": 1,
   "id": "ae6a6ae9",
   "metadata": {},
   "outputs": [
    {
     "data": {
      "text/plain": [
       "{'name': 'Nikhita', 'age': 26, 'job': 'SOftwareTeste'}"
      ]
     },
     "execution_count": 1,
     "metadata": {},
     "output_type": "execute_result"
    }
   ],
   "source": [
    "b_basic = {'name': 'Nikhita' ,'age': 26 , 'job' : 'SOftwareTeste'}\n",
    "b_basic"
   ]
  },
  {
   "cell_type": "code",
   "execution_count": 2,
   "id": "de959404",
   "metadata": {},
   "outputs": [
    {
     "data": {
      "text/plain": [
       "{'name': 'rahul', 'age': 32, 'job': 'teacher'}"
      ]
     },
     "execution_count": 2,
     "metadata": {},
     "output_type": "execute_result"
    }
   ],
   "source": [
    "# By using variable\n",
    "a_var = dict(name = \"rahul\", age = 32 ,job = 'teacher')\n",
    "a_var"
   ]
  },
  {
   "cell_type": "code",
   "execution_count": 3,
   "id": "561936c0",
   "metadata": {},
   "outputs": [
    {
     "data": {
      "text/plain": [
       "dict_items([('name', 'rahul'), ('age', 32), ('job', 'teacher')])"
      ]
     },
     "execution_count": 3,
     "metadata": {},
     "output_type": "execute_result"
    }
   ],
   "source": [
    "a_var.items()"
   ]
  },
  {
   "cell_type": "code",
   "execution_count": null,
   "id": "4a377d56",
   "metadata": {},
   "outputs": [],
   "source": []
  },
  {
   "cell_type": "code",
   "execution_count": 4,
   "id": "e14944ba",
   "metadata": {},
   "outputs": [
    {
     "data": {
      "text/plain": [
       "{'name': 'Akash', 'age': 35, 'job': 'Instructor'}"
      ]
     },
     "execution_count": 4,
     "metadata": {},
     "output_type": "execute_result"
    }
   ],
   "source": [
    "# By using tuple\n",
    "d_tup = dict([('name',\"Akash\"),('age',35),('job',\"Instructor\")])\n",
    "d_tup"
   ]
  },
  {
   "cell_type": "code",
   "execution_count": 7,
   "id": "264d3165",
   "metadata": {},
   "outputs": [
    {
     "ename": "TypeError",
     "evalue": "dict expected at most 1 argument, got 3",
     "output_type": "error",
     "traceback": [
      "\u001b[1;31m---------------------------------------------------------------------------\u001b[0m",
      "\u001b[1;31mTypeError\u001b[0m                                 Traceback (most recent call last)",
      "\u001b[1;32m~\\AppData\\Local\\Temp\\ipykernel_8224\\212222918.py\u001b[0m in \u001b[0;36m<module>\u001b[1;34m\u001b[0m\n\u001b[1;32m----> 1\u001b[1;33m \u001b[0md_tup\u001b[0m \u001b[1;33m=\u001b[0m \u001b[0mdict\u001b[0m\u001b[1;33m(\u001b[0m\u001b[1;33m(\u001b[0m\u001b[1;34m'name'\u001b[0m\u001b[1;33m,\u001b[0m\u001b[1;34m\"Akash\"\u001b[0m\u001b[1;33m)\u001b[0m\u001b[1;33m,\u001b[0m\u001b[1;33m(\u001b[0m\u001b[1;34m'age'\u001b[0m\u001b[1;33m,\u001b[0m\u001b[1;36m35\u001b[0m\u001b[1;33m)\u001b[0m\u001b[1;33m,\u001b[0m\u001b[1;33m(\u001b[0m\u001b[1;34m'job'\u001b[0m\u001b[1;33m,\u001b[0m\u001b[1;34m\"Instructor\"\u001b[0m\u001b[1;33m)\u001b[0m\u001b[1;33m)\u001b[0m \u001b[1;31m# use list\u001b[0m\u001b[1;33m\u001b[0m\u001b[1;33m\u001b[0m\u001b[0m\n\u001b[0m",
      "\u001b[1;31mTypeError\u001b[0m: dict expected at most 1 argument, got 3"
     ]
    }
   ],
   "source": [
    "d_tup = dict(('name',\"Akash\"),('age',35),('job',\"Instructor\")) # use list"
   ]
  },
  {
   "cell_type": "code",
   "execution_count": 5,
   "id": "b4daf0f3",
   "metadata": {},
   "outputs": [],
   "source": [
    "d_tup = dict([('name',\"Akash\"),('age',35),('job',\"Instructor\")])"
   ]
  },
  {
   "cell_type": "code",
   "execution_count": 6,
   "id": "5eda6572",
   "metadata": {},
   "outputs": [
    {
     "data": {
      "text/plain": [
       "{'name': 'Akash', 'age': 35, 'job': 'Instructor'}"
      ]
     },
     "execution_count": 6,
     "metadata": {},
     "output_type": "execute_result"
    }
   ],
   "source": [
    "d_tup"
   ]
  },
  {
   "cell_type": "code",
   "execution_count": null,
   "id": "b6ba9330",
   "metadata": {},
   "outputs": [],
   "source": []
  },
  {
   "cell_type": "code",
   "execution_count": 40,
   "id": "878e2b8a",
   "metadata": {},
   "outputs": [],
   "source": [
    "# By using two list\n",
    "list_keys = [1,2,3,4,5,6,]\n",
    "list_values= [\"one\",\"two\",\"three\",\"four\",\"five\",\"six\"]"
   ]
  },
  {
   "cell_type": "code",
   "execution_count": 23,
   "id": "53ed466f",
   "metadata": {},
   "outputs": [],
   "source": [
    "list_keys = [1,2,3]\n",
    "list_values= [\"one\",\"two\",\"three\",\"four\",\"five\",\"six\"]"
   ]
  },
  {
   "cell_type": "code",
   "execution_count": null,
   "id": "baf47d96",
   "metadata": {},
   "outputs": [],
   "source": []
  },
  {
   "cell_type": "code",
   "execution_count": 41,
   "id": "5a7be998",
   "metadata": {},
   "outputs": [],
   "source": [
    "a=zip(list_keys ,list_values)"
   ]
  },
  {
   "cell_type": "code",
   "execution_count": 25,
   "id": "86fc05fd",
   "metadata": {},
   "outputs": [
    {
     "data": {
      "text/plain": [
       "<zip at 0x16a88078900>"
      ]
     },
     "execution_count": 25,
     "metadata": {},
     "output_type": "execute_result"
    }
   ],
   "source": [
    "a"
   ]
  },
  {
   "cell_type": "code",
   "execution_count": 26,
   "id": "502971ba",
   "metadata": {},
   "outputs": [
    {
     "data": {
      "text/plain": [
       "zip"
      ]
     },
     "execution_count": 26,
     "metadata": {},
     "output_type": "execute_result"
    }
   ],
   "source": [
    "type(a)"
   ]
  },
  {
   "cell_type": "code",
   "execution_count": 27,
   "id": "af1c4a47",
   "metadata": {},
   "outputs": [
    {
     "name": "stdout",
     "output_type": "stream",
     "text": [
      "(1, 'one')\n",
      "(2, 'two')\n",
      "(3, 'three')\n"
     ]
    }
   ],
   "source": [
    "for i in a:\n",
    "    print(i)"
   ]
  },
  {
   "cell_type": "code",
   "execution_count": 33,
   "id": "10e7b2c2",
   "metadata": {},
   "outputs": [
    {
     "data": {
      "text/plain": [
       "{1: 'one', 2: 'two', 3: 'three', 4: 'four', 5: 'five', 6: 'six'}"
      ]
     },
     "execution_count": 33,
     "metadata": {},
     "output_type": "execute_result"
    }
   ],
   "source": [
    "dict(a)"
   ]
  },
  {
   "cell_type": "code",
   "execution_count": 38,
   "id": "e1473b1b",
   "metadata": {},
   "outputs": [
    {
     "data": {
      "text/plain": [
       "[(1, 'one'), (2, 'two'), (3, 'three'), (4, 'four'), (5, 'five'), (6, 'six')]"
      ]
     },
     "execution_count": 38,
     "metadata": {},
     "output_type": "execute_result"
    }
   ],
   "source": [
    "list(a)"
   ]
  },
  {
   "cell_type": "code",
   "execution_count": 42,
   "id": "aeccf804",
   "metadata": {},
   "outputs": [
    {
     "data": {
      "text/plain": [
       "((1, 'one'), (2, 'two'), (3, 'three'), (4, 'four'), (5, 'five'), (6, 'six'))"
      ]
     },
     "execution_count": 42,
     "metadata": {},
     "output_type": "execute_result"
    }
   ],
   "source": [
    "tuple(a)"
   ]
  },
  {
   "cell_type": "code",
   "execution_count": null,
   "id": "229a2084",
   "metadata": {},
   "outputs": [],
   "source": []
  },
  {
   "cell_type": "code",
   "execution_count": null,
   "id": "1fbac040",
   "metadata": {},
   "outputs": [],
   "source": []
  },
  {
   "cell_type": "code",
   "execution_count": null,
   "id": "bc25a818",
   "metadata": {},
   "outputs": [],
   "source": [
    "c_zip = dict(zip(list_keys ,list_values))\n",
    "c_zip"
   ]
  },
  {
   "cell_type": "code",
   "execution_count": null,
   "id": "dd82855a",
   "metadata": {},
   "outputs": [],
   "source": []
  },
  {
   "cell_type": "code",
   "execution_count": null,
   "id": "8e332cd1",
   "metadata": {},
   "outputs": [],
   "source": [
    "list(zip(list_keys ,list_values))"
   ]
  },
  {
   "cell_type": "code",
   "execution_count": 43,
   "id": "cc7153af",
   "metadata": {},
   "outputs": [
    {
     "data": {
      "text/plain": [
       "{1: 'one', 2: 'two', 3: 'three', 4: 'four', 5: 'five', 6: 'six'}"
      ]
     },
     "execution_count": 43,
     "metadata": {},
     "output_type": "execute_result"
    }
   ],
   "source": [
    "list_keys = (1,2,3,4,5,6,)\n",
    "list_values= (\"one\",\"two\",\"three\",\"four\",\"five\",\"six\")\n",
    "\n",
    "c_zip = dict(zip(list_keys ,list_values))\n",
    "c_zip"
   ]
  },
  {
   "cell_type": "code",
   "execution_count": null,
   "id": "325f1371",
   "metadata": {},
   "outputs": [],
   "source": []
  },
  {
   "cell_type": "code",
   "execution_count": 44,
   "id": "52deff19",
   "metadata": {},
   "outputs": [
    {
     "data": {
      "text/plain": [
       "{1: 'one', 2: 'two', 3: 'three'}"
      ]
     },
     "execution_count": 44,
     "metadata": {},
     "output_type": "execute_result"
    }
   ],
   "source": [
    "list_keys = (1,2,3)\n",
    "list_values= (\"one\",\"two\",\"three\",\"four\",\"five\",\"six\")\n",
    "\n",
    "c_zip = dict(zip(list_keys ,list_values))\n",
    "c_zip"
   ]
  },
  {
   "cell_type": "code",
   "execution_count": 45,
   "id": "228b6d01",
   "metadata": {},
   "outputs": [
    {
     "data": {
      "text/plain": [
       "{'one': 1, 'two': 2, 'three': 3}"
      ]
     },
     "execution_count": 45,
     "metadata": {},
     "output_type": "execute_result"
    }
   ],
   "source": [
    "\n",
    "list_values= (\"one\",\"two\",\"three\",\"four\",\"five\",\"six\")\n",
    "list_keys = (1,2,3)\n",
    "\n",
    "c_zip = dict(zip(list_values,list_keys ))\n",
    "c_zip"
   ]
  },
  {
   "cell_type": "code",
   "execution_count": null,
   "id": "a7aab0ba",
   "metadata": {},
   "outputs": [],
   "source": []
  },
  {
   "cell_type": "markdown",
   "id": "f3ae025b",
   "metadata": {},
   "source": [
    "## Homework"
   ]
  },
  {
   "cell_type": "code",
   "execution_count": null,
   "id": "142cacd5",
   "metadata": {},
   "outputs": [],
   "source": [
    "# score_vk = {\n",
    "#         one_day : 700,\n",
    "#         test : 740,\n",
    "#         t_20 : 470,\n",
    "#         international : 250\n",
    "# }"
   ]
  },
  {
   "cell_type": "code",
   "execution_count": 46,
   "id": "949dc214",
   "metadata": {},
   "outputs": [
    {
     "name": "stdout",
     "output_type": "stream",
     "text": [
      "{'one_day': 700, 'test': 740, 't_20': 470, 'international': 250}\n"
     ]
    }
   ],
   "source": [
    "# 1. CREATE ABOVE DICTIONARY USING BASIC METHOD \n",
    "# {} AND NAME IT AS score_vk_basic\n",
    "score_vk = {\"one_day\" : 700,\"test\" : 740,\"t_20\" : 470,\"international\" : 250}\n",
    "print(score_vk)"
   ]
  },
  {
   "cell_type": "code",
   "execution_count": null,
   "id": "035ba4b9",
   "metadata": {},
   "outputs": [],
   "source": []
  },
  {
   "cell_type": "code",
   "execution_count": null,
   "id": "48063eb5",
   "metadata": {},
   "outputs": [],
   "source": [
    "# 2. CREATE ABOVE DICTIONARY USING \n",
    "# variable assignments way AND NAME IT AS score_vk_var\n",
    "score_vk_var= dict(one_day = 700,test = 740,t_20 = 470,international = 250)\n",
    "print(score_vk_var)"
   ]
  },
  {
   "cell_type": "code",
   "execution_count": 47,
   "id": "1f06ab1f",
   "metadata": {},
   "outputs": [
    {
     "data": {
      "text/plain": [
       "{'one_day': 700, 'test': 740, 't_20': 470, 'international': 250}"
      ]
     },
     "execution_count": 47,
     "metadata": {},
     "output_type": "execute_result"
    }
   ],
   "source": [
    "score_vk"
   ]
  },
  {
   "cell_type": "code",
   "execution_count": null,
   "id": "11988d0a",
   "metadata": {},
   "outputs": [],
   "source": []
  },
  {
   "cell_type": "code",
   "execution_count": 49,
   "id": "d7b9a17f",
   "metadata": {},
   "outputs": [
    {
     "name": "stdout",
     "output_type": "stream",
     "text": [
      "{'one_day': 700, 'test': 740, 't_20': 470, 'international': 250}\n"
     ]
    }
   ],
   "source": [
    "# 3. CREATE ABOVE DICTIONARY USING \n",
    "# tuple pair way  AND NAME IT AS score_vk_basic_tup\n",
    "score_vk_basic_tup = dict([(\"one_day\", 700),(\"test\" , 740),(\"t_20\" , 470),(\"international\" , 250)])\n",
    "print(score_vk_basic_tup)"
   ]
  },
  {
   "cell_type": "code",
   "execution_count": 48,
   "id": "6347746b",
   "metadata": {},
   "outputs": [
    {
     "data": {
      "text/plain": [
       "dict_items([('one_day', 700), ('test', 740), ('t_20', 470), ('international', 250)])"
      ]
     },
     "execution_count": 48,
     "metadata": {},
     "output_type": "execute_result"
    }
   ],
   "source": [
    "score_vk.items()"
   ]
  },
  {
   "cell_type": "code",
   "execution_count": null,
   "id": "69f1b8b2",
   "metadata": {},
   "outputs": [],
   "source": []
  },
  {
   "cell_type": "code",
   "execution_count": 52,
   "id": "ea81eed0",
   "metadata": {},
   "outputs": [
    {
     "name": "stdout",
     "output_type": "stream",
     "text": [
      "{'one_day': 700, 'test': 740, 't_20': 470, 'international': 250}\n"
     ]
    }
   ],
   "source": [
    "# 4. CREATE ABOVE DICTIONARY USING \n",
    "# zip method CONSIDERING \n",
    "# KEYS LIST AS list_keys AND \n",
    "# VALUES LIST AS list_values  AND \n",
    "# NAME IT AS score_vk_basic_tup\n",
    "list_keys = ['one_day', 'test', 't_20', 'international']\n",
    "list_values = [700, 740, 470, 250]\n",
    "score_vk_basic_tup = dict(zip(list_keys,list_values))\n",
    "print(score_vk_basic_tup)"
   ]
  },
  {
   "cell_type": "code",
   "execution_count": 50,
   "id": "17b561cf",
   "metadata": {},
   "outputs": [
    {
     "data": {
      "text/plain": [
       "dict_keys(['one_day', 'test', 't_20', 'international'])"
      ]
     },
     "execution_count": 50,
     "metadata": {},
     "output_type": "execute_result"
    }
   ],
   "source": [
    "score_vk.keys()"
   ]
  },
  {
   "cell_type": "code",
   "execution_count": 51,
   "id": "97d502bb",
   "metadata": {},
   "outputs": [
    {
     "data": {
      "text/plain": [
       "dict_values([700, 740, 470, 250])"
      ]
     },
     "execution_count": 51,
     "metadata": {},
     "output_type": "execute_result"
    }
   ],
   "source": [
    "score_vk.values()"
   ]
  },
  {
   "cell_type": "code",
   "execution_count": null,
   "id": "f6d7790b",
   "metadata": {},
   "outputs": [],
   "source": []
  },
  {
   "cell_type": "markdown",
   "id": "bde5ccf2",
   "metadata": {},
   "source": [
    "### zip()"
   ]
  },
  {
   "cell_type": "code",
   "execution_count": 53,
   "id": "9f1f60a0",
   "metadata": {},
   "outputs": [
    {
     "data": {
      "text/plain": [
       "dict_keys(['one_day', 'test', 't_20', 'international'])"
      ]
     },
     "execution_count": 53,
     "metadata": {},
     "output_type": "execute_result"
    }
   ],
   "source": [
    "score_vk.keys()"
   ]
  },
  {
   "cell_type": "code",
   "execution_count": 54,
   "id": "5eb1d61f",
   "metadata": {},
   "outputs": [
    {
     "data": {
      "text/plain": [
       "dict_values([700, 740, 470, 250])"
      ]
     },
     "execution_count": 54,
     "metadata": {},
     "output_type": "execute_result"
    }
   ],
   "source": [
    "score_vk.values()"
   ]
  },
  {
   "cell_type": "code",
   "execution_count": 64,
   "id": "fb0a5287",
   "metadata": {},
   "outputs": [],
   "source": [
    "list_keys = ['one_day', 'test', 't_20', 'international']\n",
    "#                0        1        2       3         \n",
    "list_values = [700, 740, 470, 250]\n",
    "#              0     1    2    3"
   ]
  },
  {
   "cell_type": "code",
   "execution_count": 65,
   "id": "e39fc315",
   "metadata": {},
   "outputs": [],
   "source": [
    "a=zip(list_keys,list_values)"
   ]
  },
  {
   "cell_type": "code",
   "execution_count": 61,
   "id": "98876abf",
   "metadata": {},
   "outputs": [
    {
     "data": {
      "text/plain": [
       "<zip at 0x16a88135f40>"
      ]
     },
     "execution_count": 61,
     "metadata": {},
     "output_type": "execute_result"
    }
   ],
   "source": [
    "a"
   ]
  },
  {
   "cell_type": "code",
   "execution_count": 62,
   "id": "805fab14",
   "metadata": {},
   "outputs": [
    {
     "data": {
      "text/plain": [
       "zip"
      ]
     },
     "execution_count": 62,
     "metadata": {},
     "output_type": "execute_result"
    }
   ],
   "source": [
    "type(a)"
   ]
  },
  {
   "cell_type": "code",
   "execution_count": null,
   "id": "a1b8d945",
   "metadata": {},
   "outputs": [],
   "source": []
  },
  {
   "cell_type": "code",
   "execution_count": null,
   "id": "1125c07e",
   "metadata": {},
   "outputs": [],
   "source": []
  },
  {
   "cell_type": "code",
   "execution_count": 63,
   "id": "d55ffacd",
   "metadata": {},
   "outputs": [
    {
     "name": "stdout",
     "output_type": "stream",
     "text": [
      "('one_day', 700)\n",
      "('test', 740)\n",
      "('t_20', 470)\n",
      "('international', 250)\n"
     ]
    }
   ],
   "source": [
    "for i in a:\n",
    "    print(i)"
   ]
  },
  {
   "cell_type": "code",
   "execution_count": 67,
   "id": "be58d2e0",
   "metadata": {},
   "outputs": [
    {
     "data": {
      "text/plain": [
       "{'one_day': 700, 'test': 740, 't_20': 470, 'international': 250}"
      ]
     },
     "execution_count": 67,
     "metadata": {},
     "output_type": "execute_result"
    }
   ],
   "source": [
    "dict(zip(list_keys,list_values))"
   ]
  },
  {
   "cell_type": "code",
   "execution_count": 68,
   "id": "f4affc07",
   "metadata": {},
   "outputs": [
    {
     "data": {
      "text/plain": [
       "[('one_day', 700), ('test', 740), ('t_20', 470), ('international', 250)]"
      ]
     },
     "execution_count": 68,
     "metadata": {},
     "output_type": "execute_result"
    }
   ],
   "source": [
    "list(zip(list_keys,list_values))"
   ]
  },
  {
   "cell_type": "code",
   "execution_count": 69,
   "id": "f4b8c346",
   "metadata": {},
   "outputs": [
    {
     "data": {
      "text/plain": [
       "(('one_day', 700), ('test', 740), ('t_20', 470), ('international', 250))"
      ]
     },
     "execution_count": 69,
     "metadata": {},
     "output_type": "execute_result"
    }
   ],
   "source": [
    "tuple(zip(list_keys,list_values))"
   ]
  },
  {
   "cell_type": "code",
   "execution_count": null,
   "id": "0efd329c",
   "metadata": {},
   "outputs": [],
   "source": []
  },
  {
   "cell_type": "markdown",
   "id": "bc5fe6e0",
   "metadata": {},
   "source": [
    "### Method"
   ]
  },
  {
   "cell_type": "code",
   "execution_count": 70,
   "id": "ed67b432",
   "metadata": {},
   "outputs": [],
   "source": [
    "student = {\n",
    "    'firstName':\"Priyanka\",\n",
    "    'lastName':\"deshpande\",\n",
    "    \"age\":23,\n",
    "    \"skills\":[\"pyhton\",\"javascript\"],\n",
    "}"
   ]
  },
  {
   "cell_type": "code",
   "execution_count": 81,
   "id": "39f47361",
   "metadata": {},
   "outputs": [],
   "source": [
    "student[\"age\",\"city\"]=25,3"
   ]
  },
  {
   "cell_type": "code",
   "execution_count": 82,
   "id": "a4b48bd8",
   "metadata": {},
   "outputs": [
    {
     "data": {
      "text/plain": [
       "{'firstName': 'Priyanka',\n",
       " 'lastName': 'deshpande',\n",
       " 'age': 25,\n",
       " 'skills': ['pyhton', 'javascript'],\n",
       " ('age', 'city'): (25, 3)}"
      ]
     },
     "execution_count": 82,
     "metadata": {},
     "output_type": "execute_result"
    }
   ],
   "source": [
    "student"
   ]
  },
  {
   "cell_type": "code",
   "execution_count": null,
   "id": "14a8c4c4",
   "metadata": {},
   "outputs": [],
   "source": []
  },
  {
   "cell_type": "code",
   "execution_count": null,
   "id": "f685c8ab",
   "metadata": {},
   "outputs": [],
   "source": []
  },
  {
   "cell_type": "code",
   "execution_count": 72,
   "id": "27dae9e6",
   "metadata": {},
   "outputs": [
    {
     "ename": "KeyError",
     "evalue": "'city'",
     "output_type": "error",
     "traceback": [
      "\u001b[1;31m---------------------------------------------------------------------------\u001b[0m",
      "\u001b[1;31mKeyError\u001b[0m                                  Traceback (most recent call last)",
      "\u001b[1;32m~\\AppData\\Local\\Temp\\ipykernel_8224\\1302115703.py\u001b[0m in \u001b[0;36m<module>\u001b[1;34m\u001b[0m\n\u001b[1;32m----> 1\u001b[1;33m \u001b[0mstudent\u001b[0m\u001b[1;33m[\u001b[0m\u001b[1;34m\"city\"\u001b[0m\u001b[1;33m]\u001b[0m\u001b[1;33m\u001b[0m\u001b[1;33m\u001b[0m\u001b[0m\n\u001b[0m",
      "\u001b[1;31mKeyError\u001b[0m: 'city'"
     ]
    }
   ],
   "source": [
    "student[\"city\"]"
   ]
  },
  {
   "cell_type": "code",
   "execution_count": 73,
   "id": "0920eadd",
   "metadata": {},
   "outputs": [
    {
     "data": {
      "text/plain": [
       "23"
      ]
     },
     "execution_count": 73,
     "metadata": {},
     "output_type": "execute_result"
    }
   ],
   "source": [
    "student.get(\"age\")"
   ]
  },
  {
   "cell_type": "code",
   "execution_count": 74,
   "id": "65987c3e",
   "metadata": {},
   "outputs": [],
   "source": [
    "student.get(\"city\")"
   ]
  },
  {
   "cell_type": "code",
   "execution_count": 75,
   "id": "ad50cf1c",
   "metadata": {},
   "outputs": [
    {
     "data": {
      "text/plain": [
       "'City not given'"
      ]
     },
     "execution_count": 75,
     "metadata": {},
     "output_type": "execute_result"
    }
   ],
   "source": [
    "student.get(\"city\",\"City not given\")"
   ]
  },
  {
   "cell_type": "code",
   "execution_count": 76,
   "id": "c4ed181a",
   "metadata": {},
   "outputs": [],
   "source": [
    "student1=student.copy()"
   ]
  },
  {
   "cell_type": "code",
   "execution_count": 77,
   "id": "596043aa",
   "metadata": {},
   "outputs": [
    {
     "data": {
      "text/plain": [
       "{'firstName': 'Priyanka',\n",
       " 'lastName': 'deshpande',\n",
       " 'age': 23,\n",
       " 'skills': ['pyhton', 'javascript']}"
      ]
     },
     "execution_count": 77,
     "metadata": {},
     "output_type": "execute_result"
    }
   ],
   "source": [
    "student1"
   ]
  },
  {
   "cell_type": "code",
   "execution_count": null,
   "id": "b2ab893f",
   "metadata": {},
   "outputs": [],
   "source": []
  },
  {
   "cell_type": "code",
   "execution_count": 83,
   "id": "bc466b68",
   "metadata": {},
   "outputs": [],
   "source": [
    "student1 = {\n",
    "    'firstName':\"Priyanka\",\n",
    "    'lastName':\"deshpande\",\n",
    "    \"age\":23,\n",
    "    \"skills\":[\"pyhton\",\"javascript\"],\n",
    "}"
   ]
  },
  {
   "cell_type": "code",
   "execution_count": 84,
   "id": "fc0ffb2e",
   "metadata": {},
   "outputs": [
    {
     "data": {
      "text/plain": [
       "{'firstName': 'Priyanka',\n",
       " 'lastName': 'deshpande',\n",
       " 'age': 23,\n",
       " 'skills': ['pyhton', 'javascript']}"
      ]
     },
     "execution_count": 84,
     "metadata": {},
     "output_type": "execute_result"
    }
   ],
   "source": [
    "student1"
   ]
  },
  {
   "cell_type": "code",
   "execution_count": 85,
   "id": "4ee5ef14",
   "metadata": {},
   "outputs": [
    {
     "name": "stdout",
     "output_type": "stream",
     "text": [
      "{'firstName': 'Raj', 'lastName': 'deshpande', 'age': 40, 'skills': ['pyhton', 'javascript']}\n"
     ]
    }
   ],
   "source": [
    "#update()\n",
    "\n",
    "student1.update({\"firstName\":\"Raj\",\"age\":40})\n",
    "print(student1)"
   ]
  },
  {
   "cell_type": "code",
   "execution_count": 87,
   "id": "2917ce13",
   "metadata": {},
   "outputs": [
    {
     "name": "stdout",
     "output_type": "stream",
     "text": [
      "{'firstName': 'Raj', 'lastName': 'deshpande', 'age': 50, 'skills': ['pyhton', 'javascript'], 'city': 'pune'}\n"
     ]
    }
   ],
   "source": [
    "student1.update({\"firstName\":\"Raj\",\"age\":50,\"city\":\"pune\"})\n",
    "print(student1)"
   ]
  },
  {
   "cell_type": "code",
   "execution_count": null,
   "id": "2cc96c70",
   "metadata": {},
   "outputs": [],
   "source": []
  },
  {
   "cell_type": "code",
   "execution_count": 88,
   "id": "f2ab0354",
   "metadata": {},
   "outputs": [],
   "source": [
    "student = {\n",
    "    'firstName':\"Priyanka\",\n",
    "    'lastName':\"deshpande\",\n",
    "    \"age\":23,\n",
    "    \"skills\":[\"pyhton\",\"javascript\"],\n",
    "}"
   ]
  },
  {
   "cell_type": "code",
   "execution_count": 92,
   "id": "c76e5008",
   "metadata": {},
   "outputs": [
    {
     "data": {
      "text/plain": [
       "{'firstName': 'Priyanka', 'lastName': 'deshpande', 'age': 23}"
      ]
     },
     "execution_count": 92,
     "metadata": {},
     "output_type": "execute_result"
    }
   ],
   "source": [
    "student"
   ]
  },
  {
   "cell_type": "code",
   "execution_count": null,
   "id": "7f24f7f5",
   "metadata": {},
   "outputs": [],
   "source": []
  },
  {
   "cell_type": "code",
   "execution_count": 90,
   "id": "92f489a4",
   "metadata": {},
   "outputs": [],
   "source": [
    "# Deleting a key-value pair\n",
    "del student[\"skills\"]  "
   ]
  },
  {
   "cell_type": "code",
   "execution_count": 93,
   "id": "040bc6b7",
   "metadata": {},
   "outputs": [
    {
     "data": {
      "text/plain": [
       "{'firstName': 'Priyanka', 'lastName': 'deshpande', 'age': 23}"
      ]
     },
     "execution_count": 93,
     "metadata": {},
     "output_type": "execute_result"
    }
   ],
   "source": [
    "student"
   ]
  },
  {
   "cell_type": "code",
   "execution_count": 94,
   "id": "84d6471e",
   "metadata": {},
   "outputs": [
    {
     "ename": "TypeError",
     "evalue": "pop expected at least 1 argument, got 0",
     "output_type": "error",
     "traceback": [
      "\u001b[1;31m---------------------------------------------------------------------------\u001b[0m",
      "\u001b[1;31mTypeError\u001b[0m                                 Traceback (most recent call last)",
      "\u001b[1;32m~\\AppData\\Local\\Temp\\ipykernel_8224\\4248919552.py\u001b[0m in \u001b[0;36m<module>\u001b[1;34m\u001b[0m\n\u001b[0;32m      1\u001b[0m \u001b[1;31m# Removing and returning the value associated with a key\u001b[0m\u001b[1;33m\u001b[0m\u001b[1;33m\u001b[0m\u001b[0m\n\u001b[1;32m----> 2\u001b[1;33m \u001b[0mstudent\u001b[0m\u001b[1;33m.\u001b[0m\u001b[0mpop\u001b[0m\u001b[1;33m(\u001b[0m\u001b[1;33m)\u001b[0m\u001b[1;33m\u001b[0m\u001b[1;33m\u001b[0m\u001b[0m\n\u001b[0m",
      "\u001b[1;31mTypeError\u001b[0m: pop expected at least 1 argument, got 0"
     ]
    }
   ],
   "source": [
    "# Removing and returning the value associated with a key\n",
    "student.pop()  "
   ]
  },
  {
   "cell_type": "code",
   "execution_count": 95,
   "id": "1f36bc53",
   "metadata": {},
   "outputs": [
    {
     "data": {
      "text/plain": [
       "'Priyanka'"
      ]
     },
     "execution_count": 95,
     "metadata": {},
     "output_type": "execute_result"
    }
   ],
   "source": [
    "student.pop(\"firstName\")  "
   ]
  },
  {
   "cell_type": "code",
   "execution_count": 96,
   "id": "07ee39c7",
   "metadata": {},
   "outputs": [
    {
     "data": {
      "text/plain": [
       "{'lastName': 'deshpande', 'age': 23}"
      ]
     },
     "execution_count": 96,
     "metadata": {},
     "output_type": "execute_result"
    }
   ],
   "source": [
    "student"
   ]
  },
  {
   "cell_type": "code",
   "execution_count": 97,
   "id": "08592565",
   "metadata": {},
   "outputs": [],
   "source": [
    "# Clearing all items from the dictionary\n",
    "student.clear()      "
   ]
  },
  {
   "cell_type": "code",
   "execution_count": 98,
   "id": "69dbfd1a",
   "metadata": {},
   "outputs": [
    {
     "data": {
      "text/plain": [
       "{}"
      ]
     },
     "execution_count": 98,
     "metadata": {},
     "output_type": "execute_result"
    }
   ],
   "source": [
    "student"
   ]
  },
  {
   "cell_type": "code",
   "execution_count": null,
   "id": "18c86aba",
   "metadata": {},
   "outputs": [],
   "source": []
  },
  {
   "cell_type": "code",
   "execution_count": null,
   "id": "d98c2ca8",
   "metadata": {},
   "outputs": [],
   "source": []
  },
  {
   "cell_type": "code",
   "execution_count": null,
   "id": "62b928eb",
   "metadata": {},
   "outputs": [],
   "source": []
  },
  {
   "cell_type": "code",
   "execution_count": null,
   "id": "9e06d0a6",
   "metadata": {},
   "outputs": [],
   "source": [
    "\n",
    "# # setdefault() = get + update\n",
    "# If the key does not exist, insert the key, with the specified value\n",
    "# # Syntax\n",
    "# dictionary.setdefault(keyname, value)"
   ]
  },
  {
   "cell_type": "code",
   "execution_count": 108,
   "id": "e216e46c",
   "metadata": {},
   "outputs": [],
   "source": [
    "student = {\n",
    "    'firstName':\"Priyanka\",\n",
    "    'lastName':\"deshpande\",\n",
    "    \"age\":23,\n",
    "    \"skills\":[\"pyhton\",\"javascript\"],\n",
    "}"
   ]
  },
  {
   "cell_type": "code",
   "execution_count": 109,
   "id": "9c0d274a",
   "metadata": {},
   "outputs": [
    {
     "ename": "KeyError",
     "evalue": "'city'",
     "output_type": "error",
     "traceback": [
      "\u001b[1;31m---------------------------------------------------------------------------\u001b[0m",
      "\u001b[1;31mKeyError\u001b[0m                                  Traceback (most recent call last)",
      "\u001b[1;32m~\\AppData\\Local\\Temp\\ipykernel_8224\\4029896397.py\u001b[0m in \u001b[0;36m<module>\u001b[1;34m\u001b[0m\n\u001b[1;32m----> 1\u001b[1;33m \u001b[0mstudent\u001b[0m\u001b[1;33m[\u001b[0m\u001b[1;34m'city'\u001b[0m\u001b[1;33m]\u001b[0m\u001b[1;33m\u001b[0m\u001b[1;33m\u001b[0m\u001b[0m\n\u001b[0m",
      "\u001b[1;31mKeyError\u001b[0m: 'city'"
     ]
    }
   ],
   "source": [
    "student['city']"
   ]
  },
  {
   "cell_type": "code",
   "execution_count": 110,
   "id": "0267a022",
   "metadata": {},
   "outputs": [
    {
     "data": {
      "text/plain": [
       "{'firstName': 'Priyanka',\n",
       " 'lastName': 'deshpande',\n",
       " 'age': 23,\n",
       " 'skills': ['pyhton', 'javascript']}"
      ]
     },
     "execution_count": 110,
     "metadata": {},
     "output_type": "execute_result"
    }
   ],
   "source": [
    "student"
   ]
  },
  {
   "cell_type": "code",
   "execution_count": 111,
   "id": "9bb872d0",
   "metadata": {},
   "outputs": [
    {
     "name": "stdout",
     "output_type": "stream",
     "text": [
      "{'firstName': 'Priyanka', 'lastName': 'deshpande', 'age': 23, 'skills': ['pyhton', 'javascript'], 'city': 'Pune'}\n"
     ]
    }
   ],
   "source": [
    "student.setdefault('city','Pune')\n",
    "print(student)"
   ]
  },
  {
   "cell_type": "code",
   "execution_count": 112,
   "id": "51a237f0",
   "metadata": {},
   "outputs": [
    {
     "data": {
      "text/plain": [
       "{'firstName': 'Priyanka',\n",
       " 'lastName': 'deshpande',\n",
       " 'age': 23,\n",
       " 'skills': ['pyhton', 'javascript'],\n",
       " 'city': 'Pune'}"
      ]
     },
     "execution_count": 112,
     "metadata": {},
     "output_type": "execute_result"
    }
   ],
   "source": [
    "student"
   ]
  },
  {
   "cell_type": "code",
   "execution_count": 113,
   "id": "f668c2ec",
   "metadata": {},
   "outputs": [
    {
     "name": "stdout",
     "output_type": "stream",
     "text": [
      "{'firstName': 'Priyanka', 'lastName': 'deshpande', 'age': 23, 'skills': ['pyhton', 'javascript'], 'city': 'Pune'}\n"
     ]
    }
   ],
   "source": [
    "student.setdefault('city',['Pune',\"abc\"])\n",
    "print(student)"
   ]
  },
  {
   "cell_type": "code",
   "execution_count": null,
   "id": "1d81b992",
   "metadata": {},
   "outputs": [],
   "source": []
  },
  {
   "cell_type": "code",
   "execution_count": null,
   "id": "5e9258fa",
   "metadata": {},
   "outputs": [],
   "source": [
    "student = {\n",
    "    'firstName':\"Priyanka\",\n",
    "    'lastName':\"deshpande\",\n",
    "    \"age\":23,\n",
    "    \"skills\":[\"pyhton\",\"javascript\"],\n",
    "    'city':\"Mumbai\"\n",
    "}"
   ]
  },
  {
   "cell_type": "code",
   "execution_count": null,
   "id": "4c608396",
   "metadata": {},
   "outputs": [],
   "source": [
    "student.setdefault('city','Pune')  #If not exist then update\n",
    "print(student)"
   ]
  },
  {
   "cell_type": "code",
   "execution_count": null,
   "id": "c980ed98",
   "metadata": {},
   "outputs": [],
   "source": []
  },
  {
   "cell_type": "code",
   "execution_count": null,
   "id": "8e61b975",
   "metadata": {},
   "outputs": [],
   "source": [
    "# # fromkeys()\n",
    "# The fromkeys() method returns a dictionary with the specified keys and the specified value.\n",
    "# #Syntax\n",
    "# dict.fromkeys(keys, value)"
   ]
  },
  {
   "cell_type": "code",
   "execution_count": null,
   "id": "62df954c",
   "metadata": {},
   "outputs": [],
   "source": []
  },
  {
   "cell_type": "code",
   "execution_count": 114,
   "id": "077528df",
   "metadata": {},
   "outputs": [
    {
     "data": {
      "text/plain": [
       "{'Acc1': 0, 'Acc2': 0, 'Acc3': 0}"
      ]
     },
     "execution_count": 114,
     "metadata": {},
     "output_type": "execute_result"
    }
   ],
   "source": [
    "dict.fromkeys([\"Acc1\",\"Acc2\",\"Acc3\"],0)"
   ]
  },
  {
   "cell_type": "code",
   "execution_count": null,
   "id": "cc63c8a5",
   "metadata": {},
   "outputs": [],
   "source": []
  },
  {
   "cell_type": "code",
   "execution_count": 115,
   "id": "7c3a0499",
   "metadata": {},
   "outputs": [
    {
     "name": "stdout",
     "output_type": "stream",
     "text": [
      "{'Acc1': 0, 'Acc2': 0, 'Acc3': 0}\n"
     ]
    }
   ],
   "source": [
    "keys = [\"Acc1\",\"Acc2\",\"Acc3\"]\n",
    "y = 0\n",
    "d = dict.fromkeys(keys,y)\n",
    "print(d)"
   ]
  },
  {
   "cell_type": "code",
   "execution_count": 116,
   "id": "3ecf5ab5",
   "metadata": {},
   "outputs": [
    {
     "name": "stdout",
     "output_type": "stream",
     "text": [
      "{'student1': [1, 2, 3], 'student2': [1, 2, 3], 'student3': [1, 2, 3]}\n"
     ]
    }
   ],
   "source": [
    "keys = [\"student1\",\"student2\",\"student3\"]\n",
    "y = [1,2,3]\n",
    "\n",
    "d = dict.fromkeys(keys,y)\n",
    "print(d)"
   ]
  },
  {
   "cell_type": "code",
   "execution_count": null,
   "id": "b98ccc90",
   "metadata": {},
   "outputs": [],
   "source": [
    "d.keys()"
   ]
  },
  {
   "cell_type": "code",
   "execution_count": null,
   "id": "f37e4278",
   "metadata": {},
   "outputs": [],
   "source": [
    "d.values()"
   ]
  },
  {
   "cell_type": "code",
   "execution_count": 117,
   "id": "7abc65d7",
   "metadata": {},
   "outputs": [
    {
     "data": {
      "text/plain": [
       "{'student1': [1, 2, 3], 'student2': [1, 2, 3], 'student3': [1, 2, 3]}"
      ]
     },
     "execution_count": 117,
     "metadata": {},
     "output_type": "execute_result"
    }
   ],
   "source": [
    "dict.fromkeys([\"student1\",\"student2\",\"student3\"],[1, 2, 3])"
   ]
  },
  {
   "cell_type": "code",
   "execution_count": 118,
   "id": "52c698b1",
   "metadata": {},
   "outputs": [
    {
     "data": {
      "text/plain": [
       "{'student1': 'Welcome', 'student2': 'Welcome', 'student3': 'Welcome'}"
      ]
     },
     "execution_count": 118,
     "metadata": {},
     "output_type": "execute_result"
    }
   ],
   "source": [
    "dict.fromkeys([\"student1\",\"student2\",\"student3\"],\"Welcome\")"
   ]
  },
  {
   "cell_type": "code",
   "execution_count": 119,
   "id": "8bea1822",
   "metadata": {},
   "outputs": [
    {
     "data": {
      "text/plain": [
       "{'student1': None, 'student2': None, 'student3': None}"
      ]
     },
     "execution_count": 119,
     "metadata": {},
     "output_type": "execute_result"
    }
   ],
   "source": [
    "dict.fromkeys([\"student1\",\"student2\",\"student3\"])"
   ]
  },
  {
   "cell_type": "code",
   "execution_count": null,
   "id": "d50f7d19",
   "metadata": {},
   "outputs": [],
   "source": []
  },
  {
   "cell_type": "code",
   "execution_count": null,
   "id": "69af0356",
   "metadata": {},
   "outputs": [],
   "source": []
  },
  {
   "cell_type": "code",
   "execution_count": null,
   "id": "03aea062",
   "metadata": {},
   "outputs": [],
   "source": []
  },
  {
   "cell_type": "code",
   "execution_count": null,
   "id": "f8ab57f0",
   "metadata": {},
   "outputs": [],
   "source": []
  },
  {
   "cell_type": "markdown",
   "id": "58f1f4dd",
   "metadata": {},
   "source": [
    "#### More examples"
   ]
  },
  {
   "cell_type": "code",
   "execution_count": 139,
   "id": "18b5f6c8",
   "metadata": {},
   "outputs": [
    {
     "name": "stdout",
     "output_type": "stream",
     "text": [
      "{'dist1': 0, 'dist2': 0, 'dist3': 0, 'dist4': 0, 'dist5': 0}\n"
     ]
    }
   ],
   "source": [
    "# fromkeys\n",
    "\n",
    "dist = ['dist1', 'dist2' ,'dist3','dist4','dist5']\n",
    "\n",
    "\n",
    "# monsoon  = {\n",
    "#     'dist1'\t: 0,\n",
    "#     'dist2'\t: 0,\n",
    "#     'dist3'\t: 0,\n",
    "#     'dist4'\t: 0,\n",
    "#     'dist5'\t: 0,\n",
    "# }\n",
    "\n",
    "# monsoon = dict.fromkeys([KEYS] , \"Default Values\")\n",
    "monsoon =  dict.fromkeys(dist , 0)\n",
    "print(monsoon)"
   ]
  },
  {
   "cell_type": "code",
   "execution_count": 137,
   "id": "de15fadb",
   "metadata": {},
   "outputs": [
    {
     "name": "stdout",
     "output_type": "stream",
     "text": [
      "{'dist1': None, 'dist2': None, 'dist3': None, 'dist4': None, 'dist5': None}\n"
     ]
    }
   ],
   "source": [
    "monsoon2 = dict.fromkeys(dist) # By default value is None\n",
    "print(monsoon2)"
   ]
  },
  {
   "cell_type": "code",
   "execution_count": 123,
   "id": "d6e1a57e",
   "metadata": {},
   "outputs": [
    {
     "name": "stdout",
     "output_type": "stream",
     "text": [
      "{'dist1': [10, 25, 30], 'dist2': [10, 25, 30], 'dist3': [10, 25, 30], 'dist4': [10, 25, 30], 'dist5': [10, 25, 30]}\n"
     ]
    }
   ],
   "source": [
    "monsoon3 = dict.fromkeys(dist , [10,25,30])\n",
    "print(monsoon3)"
   ]
  },
  {
   "cell_type": "code",
   "execution_count": 124,
   "id": "3975b5da",
   "metadata": {},
   "outputs": [
    {
     "name": "stdout",
     "output_type": "stream",
     "text": [
      "{'dist1': [10, 25, 30], 'dist2': [10, 25, 30], 'dist3': [10, 25, 30], 'dist4': [10, 25, 30], 'dist5': [10, 25, 30]}\n"
     ]
    }
   ],
   "source": [
    "# clear\n",
    "print(monsoon3)"
   ]
  },
  {
   "cell_type": "code",
   "execution_count": 125,
   "id": "88a672f1",
   "metadata": {},
   "outputs": [
    {
     "name": "stdout",
     "output_type": "stream",
     "text": [
      "{}\n"
     ]
    }
   ],
   "source": [
    "monsoon3.clear()\n",
    "print(monsoon3)"
   ]
  },
  {
   "cell_type": "code",
   "execution_count": 126,
   "id": "bc12bc5a",
   "metadata": {},
   "outputs": [
    {
     "name": "stdout",
     "output_type": "stream",
     "text": [
      "{'dist1': None, 'dist2': None, 'dist3': None, 'dist4': None, 'dist5': None}\n"
     ]
    }
   ],
   "source": [
    "# pop \n",
    "print(monsoon2)"
   ]
  },
  {
   "cell_type": "code",
   "execution_count": 127,
   "id": "bd4c9370",
   "metadata": {},
   "outputs": [
    {
     "name": "stdout",
     "output_type": "stream",
     "text": [
      "{'dist1': None, 'dist2': None, 'dist4': None, 'dist5': None}\n"
     ]
    }
   ],
   "source": [
    "monsoon2.pop('dist3') # delete the key value pair\n",
    "print(monsoon2)"
   ]
  },
  {
   "cell_type": "code",
   "execution_count": null,
   "id": "0038492b",
   "metadata": {},
   "outputs": [],
   "source": []
  },
  {
   "cell_type": "code",
   "execution_count": null,
   "id": "9a72fb3f",
   "metadata": {},
   "outputs": [],
   "source": []
  },
  {
   "cell_type": "code",
   "execution_count": 140,
   "id": "e6ffa700",
   "metadata": {},
   "outputs": [
    {
     "data": {
      "text/plain": [
       "{'dist1': 0, 'dist2': 0, 'dist3': 0, 'dist4': 0, 'dist5': 0}"
      ]
     },
     "execution_count": 140,
     "metadata": {},
     "output_type": "execute_result"
    }
   ],
   "source": [
    "monsoon"
   ]
  },
  {
   "cell_type": "code",
   "execution_count": 141,
   "id": "aaeb766d",
   "metadata": {},
   "outputs": [],
   "source": [
    "monsoon.update({'dist1': 22, 'dist2': 33, 'dist7': 99})"
   ]
  },
  {
   "cell_type": "code",
   "execution_count": 142,
   "id": "adc4ca63",
   "metadata": {},
   "outputs": [
    {
     "data": {
      "text/plain": [
       "{'dist1': 22, 'dist2': 33, 'dist3': 0, 'dist4': 0, 'dist5': 0, 'dist7': 99}"
      ]
     },
     "execution_count": 142,
     "metadata": {},
     "output_type": "execute_result"
    }
   ],
   "source": [
    "monsoon"
   ]
  },
  {
   "cell_type": "code",
   "execution_count": 143,
   "id": "06261082",
   "metadata": {},
   "outputs": [
    {
     "name": "stdout",
     "output_type": "stream",
     "text": [
      "{'dist1': 22, 'dist2': 33, 'dist3': 0, 'dist4': 0, 'dist5': 0, 'dist7': 99}\n",
      "('dist7', 99)\n",
      "{'dist1': 22, 'dist2': 33, 'dist3': 0, 'dist4': 0, 'dist5': 0}\n"
     ]
    }
   ],
   "source": [
    "print(monsoon)\n",
    "print(monsoon.popitem()) # delete the latest  entry not the last \n",
    "print(monsoon)"
   ]
  },
  {
   "cell_type": "code",
   "execution_count": 144,
   "id": "35984e9e",
   "metadata": {},
   "outputs": [
    {
     "name": "stdout",
     "output_type": "stream",
     "text": [
      "{'dist1': 22, 'dist2': 33, 'dist3': 0, 'dist4': 0, 'dist5': 0}\n",
      "('dist5', 0)\n",
      "{'dist1': 22, 'dist2': 33, 'dist3': 0, 'dist4': 0}\n"
     ]
    }
   ],
   "source": [
    "print(monsoon)\n",
    "print(monsoon.popitem()) # delete the latest  entry not the last \n",
    "print(monsoon)"
   ]
  },
  {
   "cell_type": "code",
   "execution_count": null,
   "id": "81644feb",
   "metadata": {},
   "outputs": [],
   "source": [
    "print(monsoon)\n",
    "print(monsoon.popitem()) # delete the latest  entry not the last \n",
    "print(monsoon)"
   ]
  },
  {
   "cell_type": "code",
   "execution_count": null,
   "id": "de4d4e4d",
   "metadata": {},
   "outputs": [],
   "source": [
    "print(monsoon)\n",
    "print(monsoon.popitem()) # delete the latest  entry not the last \n",
    "print(monsoon)"
   ]
  },
  {
   "cell_type": "code",
   "execution_count": null,
   "id": "06a9927f",
   "metadata": {},
   "outputs": [],
   "source": []
  },
  {
   "cell_type": "code",
   "execution_count": 128,
   "id": "f574082a",
   "metadata": {},
   "outputs": [
    {
     "name": "stdout",
     "output_type": "stream",
     "text": [
      "{'dist1': None, 'dist2': None, 'dist4': None, 'dist5': None}\n",
      "{'dist1': None, 'dist2': None, 'dist4': None}\n"
     ]
    }
   ],
   "source": [
    "# popitem\n",
    "\n",
    "print(monsoon2)\n",
    "monsoon2.popitem() # delete the latest  entry not the last \n",
    "print(monsoon2)"
   ]
  },
  {
   "cell_type": "code",
   "execution_count": 129,
   "id": "94d9c104",
   "metadata": {},
   "outputs": [
    {
     "name": "stdout",
     "output_type": "stream",
     "text": [
      "{'dist1': 100, 'dist2': None, 'dist4': None, 'dist11': 100, 'dist111': 100}\n"
     ]
    }
   ],
   "source": [
    "monsoon2.update({'dist1': 100,'dist11': 100,'dist111': 100,})\n",
    "print(monsoon2)"
   ]
  },
  {
   "cell_type": "code",
   "execution_count": 135,
   "id": "95c7c6d6",
   "metadata": {},
   "outputs": [
    {
     "name": "stdout",
     "output_type": "stream",
     "text": [
      "{}\n"
     ]
    },
    {
     "ename": "KeyError",
     "evalue": "'popitem(): dictionary is empty'",
     "output_type": "error",
     "traceback": [
      "\u001b[1;31m---------------------------------------------------------------------------\u001b[0m",
      "\u001b[1;31mKeyError\u001b[0m                                  Traceback (most recent call last)",
      "\u001b[1;32m~\\AppData\\Local\\Temp\\ipykernel_8224\\3591430026.py\u001b[0m in \u001b[0;36m<module>\u001b[1;34m\u001b[0m\n\u001b[0;32m      1\u001b[0m \u001b[0mprint\u001b[0m\u001b[1;33m(\u001b[0m\u001b[0mmonsoon2\u001b[0m\u001b[1;33m)\u001b[0m\u001b[1;33m\u001b[0m\u001b[1;33m\u001b[0m\u001b[0m\n\u001b[1;32m----> 2\u001b[1;33m \u001b[0mprint\u001b[0m\u001b[1;33m(\u001b[0m\u001b[0mmonsoon2\u001b[0m\u001b[1;33m.\u001b[0m\u001b[0mpopitem\u001b[0m\u001b[1;33m(\u001b[0m\u001b[1;33m)\u001b[0m\u001b[1;33m)\u001b[0m \u001b[1;31m# delete the latest  entry not the last\u001b[0m\u001b[1;33m\u001b[0m\u001b[1;33m\u001b[0m\u001b[0m\n\u001b[0m\u001b[0;32m      3\u001b[0m \u001b[0mprint\u001b[0m\u001b[1;33m(\u001b[0m\u001b[0mmonsoon2\u001b[0m\u001b[1;33m)\u001b[0m\u001b[1;33m\u001b[0m\u001b[1;33m\u001b[0m\u001b[0m\n",
      "\u001b[1;31mKeyError\u001b[0m: 'popitem(): dictionary is empty'"
     ]
    }
   ],
   "source": [
    "print(monsoon2)\n",
    "print(monsoon2.popitem()) # delete the latest  entry not the last \n",
    "print(monsoon2)"
   ]
  },
  {
   "cell_type": "code",
   "execution_count": null,
   "id": "40ff646a",
   "metadata": {},
   "outputs": [],
   "source": []
  },
  {
   "cell_type": "code",
   "execution_count": 145,
   "id": "c0800b75",
   "metadata": {},
   "outputs": [
    {
     "data": {
      "text/plain": [
       "{'dist1': None, 'dist2': None, 'dist3': None, 'dist4': None, 'dist5': None}"
      ]
     },
     "execution_count": 145,
     "metadata": {},
     "output_type": "execute_result"
    }
   ],
   "source": [
    "monsoon2"
   ]
  },
  {
   "cell_type": "code",
   "execution_count": 146,
   "id": "8b3eaaf4",
   "metadata": {},
   "outputs": [
    {
     "name": "stdout",
     "output_type": "stream",
     "text": [
      "{'dist1': None, 'dist2': None, 'dist3': None, 'dist4': None, 'dist5': None}\n"
     ]
    },
    {
     "ename": "KeyError",
     "evalue": "'dist11'",
     "output_type": "error",
     "traceback": [
      "\u001b[1;31m---------------------------------------------------------------------------\u001b[0m",
      "\u001b[1;31mKeyError\u001b[0m                                  Traceback (most recent call last)",
      "\u001b[1;32m~\\AppData\\Local\\Temp\\ipykernel_8224\\1963015420.py\u001b[0m in \u001b[0;36m<module>\u001b[1;34m\u001b[0m\n\u001b[0;32m      2\u001b[0m \u001b[1;33m\u001b[0m\u001b[0m\n\u001b[0;32m      3\u001b[0m \u001b[0mprint\u001b[0m\u001b[1;33m(\u001b[0m\u001b[0mmonsoon2\u001b[0m\u001b[1;33m)\u001b[0m\u001b[1;33m\u001b[0m\u001b[1;33m\u001b[0m\u001b[0m\n\u001b[1;32m----> 4\u001b[1;33m \u001b[1;32mdel\u001b[0m\u001b[1;33m(\u001b[0m\u001b[0mmonsoon2\u001b[0m\u001b[1;33m[\u001b[0m\u001b[1;34m\"dist11\"\u001b[0m\u001b[1;33m]\u001b[0m\u001b[1;33m)\u001b[0m\u001b[1;33m\u001b[0m\u001b[1;33m\u001b[0m\u001b[0m\n\u001b[0m",
      "\u001b[1;31mKeyError\u001b[0m: 'dist11'"
     ]
    }
   ],
   "source": [
    "# del\n",
    "\n",
    "print(monsoon2)\n",
    "del(monsoon2[\"dist11\"])"
   ]
  },
  {
   "cell_type": "code",
   "execution_count": 147,
   "id": "5f838832",
   "metadata": {},
   "outputs": [
    {
     "data": {
      "text/plain": [
       "{'dist1': None, 'dist2': None, 'dist3': None, 'dist4': None, 'dist5': None}"
      ]
     },
     "execution_count": 147,
     "metadata": {},
     "output_type": "execute_result"
    }
   ],
   "source": [
    "monsoon2"
   ]
  },
  {
   "cell_type": "code",
   "execution_count": 148,
   "id": "df2edf62",
   "metadata": {},
   "outputs": [
    {
     "name": "stdout",
     "output_type": "stream",
     "text": [
      "{'dist1': None, 'dist2': None, 'dist3': None, 'dist4': None, 'dist5': None}\n"
     ]
    }
   ],
   "source": [
    "\n",
    "print(monsoon2)\n",
    "del(monsoon2[\"dist4\"])"
   ]
  },
  {
   "cell_type": "code",
   "execution_count": 149,
   "id": "2e44e3b5",
   "metadata": {},
   "outputs": [
    {
     "ename": "NameError",
     "evalue": "name 'monsoon2' is not defined",
     "output_type": "error",
     "traceback": [
      "\u001b[1;31m---------------------------------------------------------------------------\u001b[0m",
      "\u001b[1;31mNameError\u001b[0m                                 Traceback (most recent call last)",
      "\u001b[1;32m~\\AppData\\Local\\Temp\\ipykernel_8224\\73120107.py\u001b[0m in \u001b[0;36m<module>\u001b[1;34m\u001b[0m\n\u001b[0;32m      1\u001b[0m \u001b[1;32mdel\u001b[0m \u001b[0mmonsoon2\u001b[0m\u001b[1;33m\u001b[0m\u001b[1;33m\u001b[0m\u001b[0m\n\u001b[1;32m----> 2\u001b[1;33m \u001b[0mprint\u001b[0m\u001b[1;33m(\u001b[0m\u001b[0mmonsoon2\u001b[0m\u001b[1;33m)\u001b[0m\u001b[1;33m\u001b[0m\u001b[1;33m\u001b[0m\u001b[0m\n\u001b[0m",
      "\u001b[1;31mNameError\u001b[0m: name 'monsoon2' is not defined"
     ]
    }
   ],
   "source": [
    "del monsoon2\n",
    "print(monsoon2)"
   ]
  },
  {
   "cell_type": "code",
   "execution_count": null,
   "id": "d949dacf",
   "metadata": {},
   "outputs": [],
   "source": []
  },
  {
   "cell_type": "markdown",
   "id": "3a2f9011",
   "metadata": {},
   "source": [
    "## Control flow statements"
   ]
  },
  {
   "cell_type": "code",
   "execution_count": 150,
   "id": "073690a2",
   "metadata": {},
   "outputs": [
    {
     "name": "stdout",
     "output_type": "stream",
     "text": [
      "apple\n",
      "banana\n",
      "cherry\n"
     ]
    }
   ],
   "source": [
    "fruits = [\"apple\", \"banana\", \"cherry\"]\n",
    "for x in fruits:\n",
    "      print(x)"
   ]
  },
  {
   "cell_type": "code",
   "execution_count": 151,
   "id": "fcb0f850",
   "metadata": {},
   "outputs": [
    {
     "name": "stdout",
     "output_type": "stream",
     "text": [
      "a and b are equal\n"
     ]
    }
   ],
   "source": [
    "a = 33\n",
    "b = 33\n",
    "if b > a:\n",
    "      print(\"b is greater than a\")\n",
    "else:\n",
    "      print(\"a and b are equal\")"
   ]
  },
  {
   "cell_type": "code",
   "execution_count": 152,
   "id": "ca9419ea",
   "metadata": {},
   "outputs": [
    {
     "name": "stdout",
     "output_type": "stream",
     "text": [
      "a is greater than b\n"
     ]
    }
   ],
   "source": [
    "a = 200\n",
    "b = 33\n",
    "if b > a:\n",
    "      print(\"b is greater than a\")\n",
    "elif a == b:\n",
    "      print(\"a and b are equal\")\n",
    "else:\n",
    "      print(\"a is greater than b\")"
   ]
  },
  {
   "cell_type": "code",
   "execution_count": 153,
   "id": "10ef971c",
   "metadata": {},
   "outputs": [
    {
     "name": "stdout",
     "output_type": "stream",
     "text": [
      "2\n",
      "3\n",
      "4\n",
      "5\n"
     ]
    }
   ],
   "source": [
    "#initialize count variable to 1\n",
    "count =2\n",
    "\n",
    "while count < 6 :\n",
    "    print (count)\n",
    "    count+=1 # count = count +1\n",
    "#the above line means count = count + 1"
   ]
  },
  {
   "cell_type": "code",
   "execution_count": 154,
   "id": "fe2217df",
   "metadata": {},
   "outputs": [
    {
     "name": "stdout",
     "output_type": "stream",
     "text": [
      "3\n",
      "5\n",
      "7\n",
      "9\n"
     ]
    }
   ],
   "source": [
    "# 3,5,7,9\n",
    "count =3\n",
    "\n",
    "while count < 10 :\n",
    "    print (count)\n",
    "    count+=2"
   ]
  },
  {
   "cell_type": "code",
   "execution_count": 155,
   "id": "f1902e22",
   "metadata": {},
   "outputs": [
    {
     "name": "stdout",
     "output_type": "stream",
     "text": [
      "0\n",
      "1\n",
      "2\n",
      "3\n",
      "4\n",
      "5\n",
      "6\n",
      "7\n",
      "8\n",
      "9\n",
      "I got it\n"
     ]
    }
   ],
   "source": [
    "for i in range(0, 10):\n",
    "    print(i)\n",
    "    \n",
    "print(\"I got it\")"
   ]
  },
  {
   "cell_type": "raw",
   "id": "8aa69ed6",
   "metadata": {},
   "source": [
    "break statement\n",
    "\n",
    "It terminates the loop immediately and transfers execution to the new statement after the loop."
   ]
  },
  {
   "cell_type": "code",
   "execution_count": 156,
   "id": "debf65b1",
   "metadata": {},
   "outputs": [
    {
     "name": "stdout",
     "output_type": "stream",
     "text": [
      "0\n",
      "1\n",
      "2\n"
     ]
    }
   ],
   "source": [
    "for i in range(0, 10):\n",
    "    if i == 3:\n",
    "        break\n",
    "    print(i)\n",
    "    \n"
   ]
  },
  {
   "cell_type": "code",
   "execution_count": 157,
   "id": "99b031b9",
   "metadata": {},
   "outputs": [
    {
     "name": "stdout",
     "output_type": "stream",
     "text": [
      "0\n",
      "1\n",
      "2\n",
      "I got it\n"
     ]
    }
   ],
   "source": [
    "for i in range(0, 10):\n",
    "    if i == 3:\n",
    "        break\n",
    "    print(i)\n",
    "    \n",
    "print(\"I got it\")"
   ]
  },
  {
   "cell_type": "code",
   "execution_count": 158,
   "id": "28b7bbaf",
   "metadata": {},
   "outputs": [
    {
     "name": "stdout",
     "output_type": "stream",
     "text": [
      "0\n",
      "1\n",
      "2\n",
      "4\n",
      "5\n",
      "6\n",
      "7\n",
      "8\n",
      "9\n"
     ]
    }
   ],
   "source": [
    "for i in range(0, 10):\n",
    "    if i == 3:\n",
    "        continue\n",
    "    print(i)"
   ]
  },
  {
   "cell_type": "code",
   "execution_count": 159,
   "id": "79b73bb2",
   "metadata": {},
   "outputs": [
    {
     "name": "stdout",
     "output_type": "stream",
     "text": [
      "0\n",
      "1\n",
      "2\n",
      "3\n",
      "4\n",
      "5\n",
      "6\n",
      "7\n",
      "8\n",
      "9\n"
     ]
    }
   ],
   "source": [
    "for i in range(0, 10):\n",
    "    if i == 3:\n",
    "        pass\n",
    "    print(i)"
   ]
  },
  {
   "cell_type": "raw",
   "id": "3bbcd03f",
   "metadata": {},
   "source": [
    "continue statement\n",
    "The continue statement causes the loop to skip its current execution at some point and move on to the next iteration. Instead of terminating the loop like a break statement, it moves on to the subsequent execution."
   ]
  },
  {
   "cell_type": "code",
   "execution_count": 160,
   "id": "000b9234",
   "metadata": {},
   "outputs": [
    {
     "name": "stdout",
     "output_type": "stream",
     "text": [
      "0\n",
      "1\n",
      "2\n",
      "4\n"
     ]
    }
   ],
   "source": [
    "for i in range(0, 5):\n",
    "    if i == 3:\n",
    "        continue\n",
    "    print(i)"
   ]
  },
  {
   "cell_type": "code",
   "execution_count": null,
   "id": "04aece83",
   "metadata": {},
   "outputs": [],
   "source": []
  },
  {
   "cell_type": "code",
   "execution_count": null,
   "id": "c86e2046",
   "metadata": {},
   "outputs": [],
   "source": []
  }
 ],
 "metadata": {
  "kernelspec": {
   "display_name": "Python 3 (ipykernel)",
   "language": "python",
   "name": "python3"
  },
  "language_info": {
   "codemirror_mode": {
    "name": "ipython",
    "version": 3
   },
   "file_extension": ".py",
   "mimetype": "text/x-python",
   "name": "python",
   "nbconvert_exporter": "python",
   "pygments_lexer": "ipython3",
   "version": "3.9.13"
  }
 },
 "nbformat": 4,
 "nbformat_minor": 5
}
