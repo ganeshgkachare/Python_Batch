{
 "cells": [
  {
   "cell_type": "code",
   "execution_count": 5,
   "id": "3ec13aa2",
   "metadata": {},
   "outputs": [
    {
     "data": {
      "text/plain": [
       "True"
      ]
     },
     "execution_count": 5,
     "metadata": {},
     "output_type": "execute_result"
    }
   ],
   "source": [
    "a = {1,2,3}\n",
    "b = {3,2,1}\n",
    "a == b"
   ]
  },
  {
   "cell_type": "code",
   "execution_count": 7,
   "id": "affcb622",
   "metadata": {},
   "outputs": [
    {
     "data": {
      "text/plain": [
       "False"
      ]
     },
     "execution_count": 7,
     "metadata": {},
     "output_type": "execute_result"
    }
   ],
   "source": [
    "a = {1,2,3,4}\n",
    "b = {3,2,1}\n",
    "a == b"
   ]
  },
  {
   "cell_type": "code",
   "execution_count": 6,
   "id": "e06928a9",
   "metadata": {},
   "outputs": [
    {
     "data": {
      "text/plain": [
       "False"
      ]
     },
     "execution_count": 6,
     "metadata": {},
     "output_type": "execute_result"
    }
   ],
   "source": [
    "a = {1,2,\"3\"}\n",
    "b = {3,2,1}\n",
    "a == b"
   ]
  },
  {
   "cell_type": "code",
   "execution_count": null,
   "id": "3bd76827",
   "metadata": {},
   "outputs": [],
   "source": []
  },
  {
   "cell_type": "code",
   "execution_count": null,
   "id": "d824998b",
   "metadata": {},
   "outputs": [],
   "source": []
  },
  {
   "cell_type": "markdown",
   "id": "96f29d32",
   "metadata": {},
   "source": [
    "## DICTIONARY  IN PYTHON"
   ]
  },
  {
   "cell_type": "code",
   "execution_count": null,
   "id": "66651a5b",
   "metadata": {},
   "outputs": [],
   "source": []
  },
  {
   "cell_type": "code",
   "execution_count": null,
   "id": "719ea323",
   "metadata": {},
   "outputs": [],
   "source": []
  },
  {
   "cell_type": "raw",
   "id": "52a7c950",
   "metadata": {},
   "source": [
    "Dictionaries are used to store data values in key:value pairs.\n",
    "    A dictionary is a collection which is  changeable and do not allow duplicates.\n",
    "    Dictionaries cannot have two items with the same key"
   ]
  },
  {
   "cell_type": "code",
   "execution_count": 8,
   "id": "8f9d9e64",
   "metadata": {},
   "outputs": [
    {
     "name": "stdout",
     "output_type": "stream",
     "text": [
      "{'one_day': 700, 'test': 740, 't_20': 470, 'international': 250}\n"
     ]
    }
   ],
   "source": [
    "score_vk = {\"one_day\" : 700,\n",
    "            \"test\" : 740,\n",
    "            \"t_20\" : 470,\n",
    "            \"international\" : 250}\n",
    "\n",
    "print(score_vk)"
   ]
  },
  {
   "cell_type": "code",
   "execution_count": 9,
   "id": "2855694a",
   "metadata": {},
   "outputs": [
    {
     "ename": "KeyError",
     "evalue": "1",
     "output_type": "error",
     "traceback": [
      "\u001b[1;31m---------------------------------------------------------------------------\u001b[0m",
      "\u001b[1;31mKeyError\u001b[0m                                  Traceback (most recent call last)",
      "\u001b[1;32m~\\AppData\\Local\\Temp\\ipykernel_9480\\2241715965.py\u001b[0m in \u001b[0;36m<module>\u001b[1;34m\u001b[0m\n\u001b[1;32m----> 1\u001b[1;33m \u001b[0mscore_vk\u001b[0m\u001b[1;33m[\u001b[0m\u001b[1;36m1\u001b[0m\u001b[1;33m]\u001b[0m\u001b[1;33m\u001b[0m\u001b[1;33m\u001b[0m\u001b[0m\n\u001b[0m",
      "\u001b[1;31mKeyError\u001b[0m: 1"
     ]
    }
   ],
   "source": [
    "score_vk[1]"
   ]
  },
  {
   "cell_type": "code",
   "execution_count": 10,
   "id": "e4df3305",
   "metadata": {},
   "outputs": [
    {
     "data": {
      "text/plain": [
       "470"
      ]
     },
     "execution_count": 10,
     "metadata": {},
     "output_type": "execute_result"
    }
   ],
   "source": [
    "score_vk[\"t_20\"]"
   ]
  },
  {
   "cell_type": "code",
   "execution_count": null,
   "id": "75c4fbcc",
   "metadata": {},
   "outputs": [],
   "source": []
  },
  {
   "cell_type": "code",
   "execution_count": 12,
   "id": "0d519f8f",
   "metadata": {},
   "outputs": [
    {
     "name": "stdout",
     "output_type": "stream",
     "text": [
      "{'legs': 4, 'color': 'red', 'eyes': 2}\n"
     ]
    }
   ],
   "source": [
    "# duplicate key in dictionary\n",
    "animal = {\n",
    "    'legs':2,\n",
    "    'color':'red',\n",
    "    'eyes':2,\n",
    "    'legs':4\n",
    "}\n",
    "print(animal)"
   ]
  },
  {
   "cell_type": "code",
   "execution_count": 13,
   "id": "7c442542",
   "metadata": {},
   "outputs": [
    {
     "data": {
      "text/plain": [
       "{'name': 'Viplov',\n",
       " 'roll no.': 54,\n",
       " 'Addr': 'Jalpigudi',\n",
       " 'Hobby': 'cricket',\n",
       " (101, 55, 21, 9): 'Score',\n",
       " 'Score': [101, 55, 21, 9],\n",
       " 1: 'ONE'}"
      ]
     },
     "execution_count": 13,
     "metadata": {},
     "output_type": "execute_result"
    }
   ],
   "source": [
    "# keys are hashable\n",
    "dict_student = {\n",
    "    'name' : 'Viplov',\n",
    "    'roll no.' : 54,\n",
    "    'Addr' : 'Jalpigudi',\n",
    "    'Hobby' :  'cricket',\n",
    "#     [101,55,21,9] : 'Scores',# unhashable type: 'list'\n",
    "    (101,55,21,9) : 'Score' ,# ok... but not to be used\n",
    "    'Score' :[101,55,21,9],\n",
    "    1 : 'ONE'\n",
    "}\n",
    "# keys are hashable\n",
    "dict_student"
   ]
  },
  {
   "cell_type": "code",
   "execution_count": 14,
   "id": "5413ca0c",
   "metadata": {},
   "outputs": [
    {
     "ename": "TypeError",
     "evalue": "unhashable type: 'list'",
     "output_type": "error",
     "traceback": [
      "\u001b[1;31m---------------------------------------------------------------------------\u001b[0m",
      "\u001b[1;31mTypeError\u001b[0m                                 Traceback (most recent call last)",
      "\u001b[1;32m~\\AppData\\Local\\Temp\\ipykernel_9480\\1739566914.py\u001b[0m in \u001b[0;36m<module>\u001b[1;34m\u001b[0m\n\u001b[0;32m      1\u001b[0m \u001b[1;31m# keys are hashable\u001b[0m\u001b[1;33m\u001b[0m\u001b[1;33m\u001b[0m\u001b[0m\n\u001b[1;32m----> 2\u001b[1;33m dict_student = {\n\u001b[0m\u001b[0;32m      3\u001b[0m     \u001b[1;34m'name'\u001b[0m \u001b[1;33m:\u001b[0m \u001b[1;34m'Viplov'\u001b[0m\u001b[1;33m,\u001b[0m\u001b[1;33m\u001b[0m\u001b[1;33m\u001b[0m\u001b[0m\n\u001b[0;32m      4\u001b[0m     \u001b[1;34m'roll no.'\u001b[0m \u001b[1;33m:\u001b[0m \u001b[1;36m54\u001b[0m\u001b[1;33m,\u001b[0m\u001b[1;33m\u001b[0m\u001b[1;33m\u001b[0m\u001b[0m\n\u001b[0;32m      5\u001b[0m     \u001b[1;34m'Addr'\u001b[0m \u001b[1;33m:\u001b[0m \u001b[1;34m'Jalpigudi'\u001b[0m\u001b[1;33m,\u001b[0m\u001b[1;33m\u001b[0m\u001b[1;33m\u001b[0m\u001b[0m\n",
      "\u001b[1;31mTypeError\u001b[0m: unhashable type: 'list'"
     ]
    }
   ],
   "source": [
    "# keys are hashable\n",
    "dict_student = {\n",
    "    'name' : 'Viplov',\n",
    "    'roll no.' : 54,\n",
    "    'Addr' : 'Jalpigudi',\n",
    "    'Hobby' :  'cricket',\n",
    "    [101,55,21,9] : 'Scores',# unhashable type: 'list'\n",
    "    (101,55,21,9) : 'Score' ,# ok... but not to be used\n",
    "    'Score' :[101,55,21,9],\n",
    "    1 : 'ONE'\n",
    "}\n",
    "# keys are hashable\n",
    "dict_student"
   ]
  },
  {
   "cell_type": "code",
   "execution_count": null,
   "id": "8d3d3369",
   "metadata": {},
   "outputs": [],
   "source": []
  },
  {
   "cell_type": "code",
   "execution_count": null,
   "id": "0d20f134",
   "metadata": {},
   "outputs": [],
   "source": []
  },
  {
   "cell_type": "code",
   "execution_count": 23,
   "id": "e759f4e5",
   "metadata": {},
   "outputs": [],
   "source": [
    "#  Defining the dict with values\n",
    "#   dict does not stores the value by index\n",
    "\n",
    "person = {\n",
    "    \"firstName\":\"Raj\",\n",
    "    (3,5,6):6,\n",
    "    \"Age\":22\n",
    "}"
   ]
  },
  {
   "cell_type": "code",
   "execution_count": 16,
   "id": "63eb1099",
   "metadata": {},
   "outputs": [
    {
     "data": {
      "text/plain": [
       "dict"
      ]
     },
     "execution_count": 16,
     "metadata": {},
     "output_type": "execute_result"
    }
   ],
   "source": [
    "type(person)"
   ]
  },
  {
   "cell_type": "code",
   "execution_count": 17,
   "id": "7c814d06",
   "metadata": {},
   "outputs": [
    {
     "ename": "KeyError",
     "evalue": "1",
     "output_type": "error",
     "traceback": [
      "\u001b[1;31m---------------------------------------------------------------------------\u001b[0m",
      "\u001b[1;31mKeyError\u001b[0m                                  Traceback (most recent call last)",
      "\u001b[1;32m~\\AppData\\Local\\Temp\\ipykernel_9480\\3150881383.py\u001b[0m in \u001b[0;36m<module>\u001b[1;34m\u001b[0m\n\u001b[0;32m      1\u001b[0m \u001b[1;31m# retrive Method\u001b[0m\u001b[1;33m\u001b[0m\u001b[1;33m\u001b[0m\u001b[0m\n\u001b[1;32m----> 2\u001b[1;33m \u001b[0mprint\u001b[0m\u001b[1;33m(\u001b[0m\u001b[0mperson\u001b[0m\u001b[1;33m[\u001b[0m\u001b[1;36m1\u001b[0m\u001b[1;33m]\u001b[0m\u001b[1;33m)\u001b[0m \u001b[1;31m#KeyError\u001b[0m\u001b[1;33m\u001b[0m\u001b[1;33m\u001b[0m\u001b[0m\n\u001b[0m",
      "\u001b[1;31mKeyError\u001b[0m: 1"
     ]
    }
   ],
   "source": [
    "# retrive Method\n",
    "print(person[1]) #KeyError\n"
   ]
  },
  {
   "cell_type": "code",
   "execution_count": 18,
   "id": "881f500b",
   "metadata": {},
   "outputs": [],
   "source": [
    "person = {\n",
    "    1:\"Raj\",\n",
    "    (3,5,6):6,\n",
    "    \"Age\":22\n",
    "}"
   ]
  },
  {
   "cell_type": "code",
   "execution_count": 19,
   "id": "88749f31",
   "metadata": {},
   "outputs": [
    {
     "name": "stdout",
     "output_type": "stream",
     "text": [
      "Raj\n"
     ]
    }
   ],
   "source": [
    "print(person[1]) "
   ]
  },
  {
   "cell_type": "code",
   "execution_count": null,
   "id": "1853fd1c",
   "metadata": {},
   "outputs": [],
   "source": []
  },
  {
   "cell_type": "code",
   "execution_count": 20,
   "id": "67f55734",
   "metadata": {},
   "outputs": [],
   "source": [
    "#retrive 1"
   ]
  },
  {
   "cell_type": "code",
   "execution_count": 22,
   "id": "132d98c4",
   "metadata": {},
   "outputs": [
    {
     "data": {
      "text/plain": [
       "'Raj'"
      ]
     },
     "execution_count": 22,
     "metadata": {},
     "output_type": "execute_result"
    }
   ],
   "source": [
    "person[\"firstName\"]"
   ]
  },
  {
   "cell_type": "code",
   "execution_count": 24,
   "id": "5ff4fce7",
   "metadata": {},
   "outputs": [
    {
     "ename": "KeyError",
     "evalue": "'lastname'",
     "output_type": "error",
     "traceback": [
      "\u001b[1;31m---------------------------------------------------------------------------\u001b[0m",
      "\u001b[1;31mKeyError\u001b[0m                                  Traceback (most recent call last)",
      "\u001b[1;32m~\\AppData\\Local\\Temp\\ipykernel_9480\\811476641.py\u001b[0m in \u001b[0;36m<module>\u001b[1;34m\u001b[0m\n\u001b[1;32m----> 1\u001b[1;33m \u001b[0mperson\u001b[0m\u001b[1;33m[\u001b[0m\u001b[1;34m\"lastname\"\u001b[0m\u001b[1;33m]\u001b[0m\u001b[1;33m\u001b[0m\u001b[1;33m\u001b[0m\u001b[0m\n\u001b[0m",
      "\u001b[1;31mKeyError\u001b[0m: 'lastname'"
     ]
    }
   ],
   "source": [
    "person[\"lastname\"]"
   ]
  },
  {
   "cell_type": "code",
   "execution_count": null,
   "id": "e6c5c79e",
   "metadata": {},
   "outputs": [],
   "source": []
  },
  {
   "cell_type": "code",
   "execution_count": 25,
   "id": "6f397f69",
   "metadata": {},
   "outputs": [
    {
     "ename": "KeyError",
     "evalue": "'lastname'",
     "output_type": "error",
     "traceback": [
      "\u001b[1;31m---------------------------------------------------------------------------\u001b[0m",
      "\u001b[1;31mKeyError\u001b[0m                                  Traceback (most recent call last)",
      "\u001b[1;32m~\\AppData\\Local\\Temp\\ipykernel_9480\\772590490.py\u001b[0m in \u001b[0;36m<module>\u001b[1;34m\u001b[0m\n\u001b[1;32m----> 1\u001b[1;33m \u001b[0mperson\u001b[0m\u001b[1;33m[\u001b[0m\u001b[1;34m\"lastname\"\u001b[0m\u001b[1;33m]\u001b[0m\u001b[1;33m\u001b[0m\u001b[1;33m\u001b[0m\u001b[0m\n\u001b[0m",
      "\u001b[1;31mKeyError\u001b[0m: 'lastname'"
     ]
    }
   ],
   "source": [
    "person[\"lastname\"] "
   ]
  },
  {
   "cell_type": "code",
   "execution_count": 27,
   "id": "4a2328fe",
   "metadata": {},
   "outputs": [],
   "source": [
    "# added\n",
    "person[\"lastname\"] = \"RRRRR\"\n",
    "# dict    key          value"
   ]
  },
  {
   "cell_type": "code",
   "execution_count": 28,
   "id": "09c7c9c7",
   "metadata": {},
   "outputs": [
    {
     "data": {
      "text/plain": [
       "'RRRRR'"
      ]
     },
     "execution_count": 28,
     "metadata": {},
     "output_type": "execute_result"
    }
   ],
   "source": [
    "person[\"lastname\"]"
   ]
  },
  {
   "cell_type": "code",
   "execution_count": 29,
   "id": "507e6b76",
   "metadata": {},
   "outputs": [
    {
     "data": {
      "text/plain": [
       "{'firstName': 'Raj', (3, 5, 6): 6, 'Age': 22, 'lastname': 'RRRRR'}"
      ]
     },
     "execution_count": 29,
     "metadata": {},
     "output_type": "execute_result"
    }
   ],
   "source": [
    "person"
   ]
  },
  {
   "cell_type": "code",
   "execution_count": 30,
   "id": "104e5213",
   "metadata": {},
   "outputs": [],
   "source": [
    "person[\"lastname\"] = \"AAAA\""
   ]
  },
  {
   "cell_type": "code",
   "execution_count": 31,
   "id": "6acc0845",
   "metadata": {},
   "outputs": [
    {
     "data": {
      "text/plain": [
       "{'firstName': 'Raj', (3, 5, 6): 6, 'Age': 22, 'lastname': 'AAAA'}"
      ]
     },
     "execution_count": 31,
     "metadata": {},
     "output_type": "execute_result"
    }
   ],
   "source": [
    "person"
   ]
  },
  {
   "cell_type": "code",
   "execution_count": 32,
   "id": "e5b4bcb6",
   "metadata": {},
   "outputs": [],
   "source": [
    "fn = person[\"firstName\"]"
   ]
  },
  {
   "cell_type": "code",
   "execution_count": 33,
   "id": "d5f033fa",
   "metadata": {},
   "outputs": [
    {
     "name": "stdout",
     "output_type": "stream",
     "text": [
      "Raj\n"
     ]
    }
   ],
   "source": [
    "print(fn)"
   ]
  },
  {
   "cell_type": "code",
   "execution_count": 34,
   "id": "c88839c9",
   "metadata": {},
   "outputs": [
    {
     "name": "stdout",
     "output_type": "stream",
     "text": [
      "22\n"
     ]
    }
   ],
   "source": [
    "print(person[\"Age\"])"
   ]
  },
  {
   "cell_type": "code",
   "execution_count": 35,
   "id": "7fd19d44",
   "metadata": {},
   "outputs": [
    {
     "name": "stdout",
     "output_type": "stream",
     "text": [
      "{'firstName': 'Raj', (3, 5, 6): 6, 'Age': 22, 'lastname': 'AAAA'}\n"
     ]
    }
   ],
   "source": [
    "print(person)\n",
    "# print(type(person))"
   ]
  },
  {
   "cell_type": "code",
   "execution_count": 36,
   "id": "52c4d8e7",
   "metadata": {},
   "outputs": [],
   "source": [
    "# METHODS IN DICT"
   ]
  },
  {
   "cell_type": "code",
   "execution_count": 37,
   "id": "ccb19c11",
   "metadata": {},
   "outputs": [],
   "source": [
    "dict_student = {\n",
    "    \"Name\" : \"Vivek\",\n",
    "    \"Class\" :  \"FYJC\",\n",
    "    \"PIN\" : 442404,\n",
    "    \"Sub\" : ['P' ,\"C\" , \"M\" ,\"IT\"]\n",
    "}"
   ]
  },
  {
   "cell_type": "code",
   "execution_count": 38,
   "id": "bf06f380",
   "metadata": {},
   "outputs": [
    {
     "ename": "KeyError",
     "evalue": "2",
     "output_type": "error",
     "traceback": [
      "\u001b[1;31m---------------------------------------------------------------------------\u001b[0m",
      "\u001b[1;31mKeyError\u001b[0m                                  Traceback (most recent call last)",
      "\u001b[1;32m~\\AppData\\Local\\Temp\\ipykernel_9480\\3878140600.py\u001b[0m in \u001b[0;36m<module>\u001b[1;34m\u001b[0m\n\u001b[1;32m----> 1\u001b[1;33m \u001b[0mperson\u001b[0m\u001b[1;33m[\u001b[0m\u001b[1;36m2\u001b[0m\u001b[1;33m]\u001b[0m \u001b[1;31m#this will not work\u001b[0m\u001b[1;33m\u001b[0m\u001b[1;33m\u001b[0m\u001b[0m\n\u001b[0m",
      "\u001b[1;31mKeyError\u001b[0m: 2"
     ]
    }
   ],
   "source": [
    "person[2] #this will not work"
   ]
  },
  {
   "cell_type": "code",
   "execution_count": null,
   "id": "7ffe2aab",
   "metadata": {},
   "outputs": [],
   "source": []
  },
  {
   "cell_type": "code",
   "execution_count": 39,
   "id": "5e3341d7",
   "metadata": {},
   "outputs": [],
   "source": [
    "\n",
    "person = {\n",
    "    \"firstName\":\"Raj\",\n",
    "    (3,5,6):6,\n",
    "    \"Age\":22\n",
    "}"
   ]
  },
  {
   "cell_type": "code",
   "execution_count": 40,
   "id": "43cd95cf",
   "metadata": {},
   "outputs": [
    {
     "name": "stdout",
     "output_type": "stream",
     "text": [
      "Raj\n",
      "22\n"
     ]
    }
   ],
   "source": [
    "# retrive 1\n",
    "fn = person['firstName']\n",
    "ag = person['Age']\n",
    "print(fn)\n",
    "print(ag)"
   ]
  },
  {
   "cell_type": "code",
   "execution_count": 41,
   "id": "261150d8",
   "metadata": {},
   "outputs": [
    {
     "ename": "KeyError",
     "evalue": "'first'",
     "output_type": "error",
     "traceback": [
      "\u001b[1;31m---------------------------------------------------------------------------\u001b[0m",
      "\u001b[1;31mKeyError\u001b[0m                                  Traceback (most recent call last)",
      "\u001b[1;32m~\\AppData\\Local\\Temp\\ipykernel_9480\\57747754.py\u001b[0m in \u001b[0;36m<module>\u001b[1;34m\u001b[0m\n\u001b[1;32m----> 1\u001b[1;33m \u001b[0mperson\u001b[0m\u001b[1;33m[\u001b[0m\u001b[1;34m'first'\u001b[0m\u001b[1;33m]\u001b[0m\u001b[1;33m\u001b[0m\u001b[1;33m\u001b[0m\u001b[0m\n\u001b[0m",
      "\u001b[1;31mKeyError\u001b[0m: 'first'"
     ]
    }
   ],
   "source": [
    "person['first']"
   ]
  },
  {
   "cell_type": "code",
   "execution_count": 50,
   "id": "e103f8c3",
   "metadata": {},
   "outputs": [
    {
     "name": "stdout",
     "output_type": "stream",
     "text": [
      "Raj\n",
      "not present\n"
     ]
    }
   ],
   "source": [
    "# retrive 2\n",
    "fn2 = person.get('firstName')\n",
    "fn3 = person.get('firstNamem',\"not present\")\n",
    "print(fn2)\n",
    "print(fn3)"
   ]
  },
  {
   "cell_type": "code",
   "execution_count": 57,
   "id": "cd1f3971",
   "metadata": {},
   "outputs": [],
   "source": [
    "\n",
    "person = {\n",
    "    \"firstName\":\"Raj\",\n",
    "    (3,5,6):6,\n",
    "    \"Age\":22\n",
    "}"
   ]
  },
  {
   "cell_type": "code",
   "execution_count": 43,
   "id": "b14f893f",
   "metadata": {},
   "outputs": [
    {
     "data": {
      "text/plain": [
       "'Raj'"
      ]
     },
     "execution_count": 43,
     "metadata": {},
     "output_type": "execute_result"
    }
   ],
   "source": [
    "person.get('firstName')"
   ]
  },
  {
   "cell_type": "code",
   "execution_count": 45,
   "id": "16a2f9bc",
   "metadata": {},
   "outputs": [],
   "source": [
    "person.get('firstName')"
   ]
  },
  {
   "cell_type": "code",
   "execution_count": 46,
   "id": "18a5244e",
   "metadata": {},
   "outputs": [
    {
     "data": {
      "text/plain": [
       "'Raj'"
      ]
     },
     "execution_count": 46,
     "metadata": {},
     "output_type": "execute_result"
    }
   ],
   "source": [
    "person.get('firstName',\"This key not defined in dict\")"
   ]
  },
  {
   "cell_type": "code",
   "execution_count": 47,
   "id": "ec8b18f7",
   "metadata": {},
   "outputs": [
    {
     "data": {
      "text/plain": [
       "'This key not defined in dict'"
      ]
     },
     "execution_count": 47,
     "metadata": {},
     "output_type": "execute_result"
    }
   ],
   "source": [
    "person.get('firs',\"This key not defined in dict\")"
   ]
  },
  {
   "cell_type": "code",
   "execution_count": 48,
   "id": "c6f4a12e",
   "metadata": {},
   "outputs": [
    {
     "ename": "KeyError",
     "evalue": "'firstNamem'",
     "output_type": "error",
     "traceback": [
      "\u001b[1;31m---------------------------------------------------------------------------\u001b[0m",
      "\u001b[1;31mKeyError\u001b[0m                                  Traceback (most recent call last)",
      "\u001b[1;32m~\\AppData\\Local\\Temp\\ipykernel_9480\\788773238.py\u001b[0m in \u001b[0;36m<module>\u001b[1;34m\u001b[0m\n\u001b[1;32m----> 1\u001b[1;33m \u001b[0mperson\u001b[0m\u001b[1;33m[\u001b[0m\u001b[1;34m'firstNamem'\u001b[0m\u001b[1;33m]\u001b[0m\u001b[1;33m\u001b[0m\u001b[1;33m\u001b[0m\u001b[0m\n\u001b[0m",
      "\u001b[1;31mKeyError\u001b[0m: 'firstNamem'"
     ]
    }
   ],
   "source": [
    "person['firstNamem']"
   ]
  },
  {
   "cell_type": "code",
   "execution_count": 51,
   "id": "c65638c5",
   "metadata": {},
   "outputs": [
    {
     "name": "stdout",
     "output_type": "stream",
     "text": [
      "40\n"
     ]
    }
   ],
   "source": [
    "# update\n",
    "person['age'] = 40\n",
    "print(person['age'])"
   ]
  },
  {
   "cell_type": "code",
   "execution_count": 52,
   "id": "98264a68",
   "metadata": {},
   "outputs": [
    {
     "data": {
      "text/plain": [
       "{'firstName': 'Raj', (3, 5, 6): 6, 'Age': 22, 'age': 40}"
      ]
     },
     "execution_count": 52,
     "metadata": {},
     "output_type": "execute_result"
    }
   ],
   "source": [
    "person"
   ]
  },
  {
   "cell_type": "code",
   "execution_count": 53,
   "id": "b247d480",
   "metadata": {},
   "outputs": [
    {
     "name": "stdout",
     "output_type": "stream",
     "text": [
      "{'firstName': 'Raj', (3, 5, 6): 6, 'Age': 22, 'age': 40, 'city': 'pune'}\n"
     ]
    }
   ],
   "source": [
    "# add\n",
    "person['city'] = \"pune\"\n",
    "print(person)"
   ]
  },
  {
   "cell_type": "code",
   "execution_count": 54,
   "id": "76125b81",
   "metadata": {},
   "outputs": [
    {
     "name": "stdout",
     "output_type": "stream",
     "text": [
      "{'firstName': 'Raj', (3, 5, 6): 6, 'Age': 22, 'city': 'pune'}\n"
     ]
    }
   ],
   "source": [
    "#delete\n",
    "del person['age']\n",
    "print(person)"
   ]
  },
  {
   "cell_type": "code",
   "execution_count": 55,
   "id": "ca736d98",
   "metadata": {},
   "outputs": [],
   "source": [
    "del person"
   ]
  },
  {
   "cell_type": "code",
   "execution_count": 56,
   "id": "f368b89f",
   "metadata": {},
   "outputs": [
    {
     "ename": "NameError",
     "evalue": "name 'person' is not defined",
     "output_type": "error",
     "traceback": [
      "\u001b[1;31m---------------------------------------------------------------------------\u001b[0m",
      "\u001b[1;31mNameError\u001b[0m                                 Traceback (most recent call last)",
      "\u001b[1;32m~\\AppData\\Local\\Temp\\ipykernel_9480\\191210132.py\u001b[0m in \u001b[0;36m<module>\u001b[1;34m\u001b[0m\n\u001b[1;32m----> 1\u001b[1;33m \u001b[0mperson\u001b[0m\u001b[1;33m\u001b[0m\u001b[1;33m\u001b[0m\u001b[0m\n\u001b[0m",
      "\u001b[1;31mNameError\u001b[0m: name 'person' is not defined"
     ]
    }
   ],
   "source": [
    "person"
   ]
  },
  {
   "cell_type": "code",
   "execution_count": 59,
   "id": "5d0fb319",
   "metadata": {},
   "outputs": [],
   "source": [
    "vehicle = {'color':'red','type':\"sedane\"}"
   ]
  },
  {
   "cell_type": "code",
   "execution_count": 60,
   "id": "a4ea1e89",
   "metadata": {},
   "outputs": [
    {
     "name": "stdout",
     "output_type": "stream",
     "text": [
      "red\n"
     ]
    }
   ],
   "source": [
    "# retrive\n",
    "print(vehicle['color'])"
   ]
  },
  {
   "cell_type": "code",
   "execution_count": 61,
   "id": "fae0349e",
   "metadata": {},
   "outputs": [
    {
     "ename": "KeyError",
     "evalue": "'col'",
     "output_type": "error",
     "traceback": [
      "\u001b[1;31m---------------------------------------------------------------------------\u001b[0m",
      "\u001b[1;31mKeyError\u001b[0m                                  Traceback (most recent call last)",
      "\u001b[1;32m~\\AppData\\Local\\Temp\\ipykernel_9480\\1236812265.py\u001b[0m in \u001b[0;36m<module>\u001b[1;34m\u001b[0m\n\u001b[1;32m----> 1\u001b[1;33m \u001b[0mvehicle\u001b[0m\u001b[1;33m[\u001b[0m\u001b[1;34m'col'\u001b[0m\u001b[1;33m]\u001b[0m\u001b[1;33m\u001b[0m\u001b[1;33m\u001b[0m\u001b[0m\n\u001b[0m",
      "\u001b[1;31mKeyError\u001b[0m: 'col'"
     ]
    }
   ],
   "source": [
    "vehicle['col']"
   ]
  },
  {
   "cell_type": "code",
   "execution_count": 62,
   "id": "8c6bb2bc",
   "metadata": {},
   "outputs": [
    {
     "name": "stdout",
     "output_type": "stream",
     "text": [
      "Not present\n"
     ]
    }
   ],
   "source": [
    "print(vehicle.get('col',\"Not present\"))"
   ]
  },
  {
   "cell_type": "code",
   "execution_count": 65,
   "id": "e3aa6cc0",
   "metadata": {},
   "outputs": [
    {
     "data": {
      "text/plain": [
       "{'type': 'sedane'}"
      ]
     },
     "execution_count": 65,
     "metadata": {},
     "output_type": "execute_result"
    }
   ],
   "source": [
    "vehicle"
   ]
  },
  {
   "cell_type": "code",
   "execution_count": 66,
   "id": "287498ed",
   "metadata": {},
   "outputs": [
    {
     "data": {
      "text/plain": [
       "{'type': 'sedane', 'color': 'black'}"
      ]
     },
     "execution_count": 66,
     "metadata": {},
     "output_type": "execute_result"
    }
   ],
   "source": [
    "#update \n",
    "vehicle['color'] = \"black\"\n",
    "vehicle"
   ]
  },
  {
   "cell_type": "code",
   "execution_count": 67,
   "id": "2557cc51",
   "metadata": {},
   "outputs": [
    {
     "data": {
      "text/plain": [
       "{'type': 'sedane', 'color': 'black', 'model': 'q7'}"
      ]
     },
     "execution_count": 67,
     "metadata": {},
     "output_type": "execute_result"
    }
   ],
   "source": [
    "#add\n",
    "vehicle['model'] = \"q7\"\n",
    "vehicle"
   ]
  },
  {
   "cell_type": "code",
   "execution_count": 64,
   "id": "79fd0421",
   "metadata": {},
   "outputs": [
    {
     "name": "stdout",
     "output_type": "stream",
     "text": [
      "{'type': 'sedane'}\n"
     ]
    }
   ],
   "source": [
    "# delete\n",
    "del vehicle['color']\n",
    "print(vehicle)"
   ]
  },
  {
   "cell_type": "code",
   "execution_count": 68,
   "id": "6b79fefe",
   "metadata": {},
   "outputs": [
    {
     "data": {
      "text/plain": [
       "{'legs': 4, 'color': 'red', 'eyes': 2}"
      ]
     },
     "execution_count": 68,
     "metadata": {},
     "output_type": "execute_result"
    }
   ],
   "source": [
    "animal"
   ]
  },
  {
   "cell_type": "code",
   "execution_count": null,
   "id": "c7cc8357",
   "metadata": {},
   "outputs": [],
   "source": []
  },
  {
   "cell_type": "code",
   "execution_count": 69,
   "id": "49bfb13d",
   "metadata": {},
   "outputs": [
    {
     "name": "stdout",
     "output_type": "stream",
     "text": [
      "True\n"
     ]
    }
   ],
   "source": [
    "print(\"legs\" in animal)"
   ]
  },
  {
   "cell_type": "code",
   "execution_count": 70,
   "id": "a65401e7",
   "metadata": {},
   "outputs": [
    {
     "name": "stdout",
     "output_type": "stream",
     "text": [
      "False\n"
     ]
    }
   ],
   "source": [
    "print(4 in animal)"
   ]
  },
  {
   "cell_type": "code",
   "execution_count": null,
   "id": "3884158d",
   "metadata": {},
   "outputs": [],
   "source": []
  },
  {
   "cell_type": "code",
   "execution_count": null,
   "id": "82e10ef5",
   "metadata": {},
   "outputs": [],
   "source": []
  },
  {
   "cell_type": "code",
   "execution_count": 71,
   "id": "c14522c8",
   "metadata": {},
   "outputs": [
    {
     "name": "stdout",
     "output_type": "stream",
     "text": [
      "True\n",
      "True\n",
      "False\n"
     ]
    }
   ],
   "source": [
    "# dict with in operator ==> check only keys\n",
    "print(\"legs\" in animal)\n",
    "print(\"leg\" not in animal)\n",
    "print(\"leg\" in animal)"
   ]
  },
  {
   "cell_type": "code",
   "execution_count": 73,
   "id": "6d2e70d9",
   "metadata": {},
   "outputs": [],
   "source": [
    "animal = {\n",
    "    #property - values\n",
    "    #key  -     values\n",
    "    'legs':2,\n",
    "    'color':'red',\n",
    "    'eyes':2,\n",
    "    'legs':4\n",
    "}"
   ]
  },
  {
   "cell_type": "code",
   "execution_count": 74,
   "id": "17486819",
   "metadata": {},
   "outputs": [
    {
     "name": "stdout",
     "output_type": "stream",
     "text": [
      "legs\n",
      "color\n",
      "eyes\n"
     ]
    }
   ],
   "source": [
    "for key in animal:\n",
    "    print(key)"
   ]
  },
  {
   "cell_type": "code",
   "execution_count": 75,
   "id": "5052a32b",
   "metadata": {},
   "outputs": [],
   "source": [
    "a=[1,2,3,4]"
   ]
  },
  {
   "cell_type": "code",
   "execution_count": 76,
   "id": "68f0b906",
   "metadata": {},
   "outputs": [
    {
     "name": "stdout",
     "output_type": "stream",
     "text": [
      "1\n",
      "2\n",
      "3\n",
      "4\n"
     ]
    }
   ],
   "source": [
    "for key in a:\n",
    "    print(key)"
   ]
  },
  {
   "cell_type": "code",
   "execution_count": 80,
   "id": "875cd865",
   "metadata": {},
   "outputs": [
    {
     "name": "stdout",
     "output_type": "stream",
     "text": [
      "The key is legs and ites value is 4\n",
      "The key is color and ites value is red\n",
      "The key is eyes and ites value is 2\n"
     ]
    }
   ],
   "source": [
    "for key in animal:\n",
    "    print(\"The key is\",key,\"and ites value is\",animal[key])"
   ]
  },
  {
   "cell_type": "code",
   "execution_count": 81,
   "id": "761161a5",
   "metadata": {},
   "outputs": [],
   "source": [
    "flower = {\n",
    "    'name':\"lotus\",\n",
    "    \"color\":\"white\",\n",
    "    \"region\":\"kashmir\",\n",
    "    \"lifeShell\":4\n",
    "}"
   ]
  },
  {
   "cell_type": "code",
   "execution_count": 82,
   "id": "43e0be36",
   "metadata": {},
   "outputs": [
    {
     "name": "stdout",
     "output_type": "stream",
     "text": [
      "name lotus\n",
      "color white\n",
      "region kashmir\n",
      "lifeShell 4\n"
     ]
    }
   ],
   "source": [
    "for prop in flower:\n",
    "    print(prop,flower[prop])"
   ]
  },
  {
   "cell_type": "code",
   "execution_count": 83,
   "id": "cc67ee03",
   "metadata": {},
   "outputs": [
    {
     "name": "stdout",
     "output_type": "stream",
     "text": [
      "dict_keys(['name', 'color', 'region', 'lifeShell'])\n"
     ]
    }
   ],
   "source": [
    "# keys()\n",
    "print(flower.keys())"
   ]
  },
  {
   "cell_type": "code",
   "execution_count": 84,
   "id": "a3edf075",
   "metadata": {},
   "outputs": [
    {
     "data": {
      "text/plain": [
       "dict_keys"
      ]
     },
     "execution_count": 84,
     "metadata": {},
     "output_type": "execute_result"
    }
   ],
   "source": [
    "type(flower.keys())"
   ]
  },
  {
   "cell_type": "code",
   "execution_count": null,
   "id": "6aa092a5",
   "metadata": {},
   "outputs": [],
   "source": []
  },
  {
   "cell_type": "code",
   "execution_count": 85,
   "id": "ef17c78f",
   "metadata": {},
   "outputs": [
    {
     "name": "stdout",
     "output_type": "stream",
     "text": [
      "dict_values(['lotus', 'white', 'kashmir', 4])\n"
     ]
    }
   ],
   "source": [
    "# values()\n",
    "print(flower.values())"
   ]
  },
  {
   "cell_type": "code",
   "execution_count": 87,
   "id": "1270e69e",
   "metadata": {},
   "outputs": [
    {
     "data": {
      "text/plain": [
       "dict_values"
      ]
     },
     "execution_count": 87,
     "metadata": {},
     "output_type": "execute_result"
    }
   ],
   "source": [
    "type(flower.values())"
   ]
  },
  {
   "cell_type": "code",
   "execution_count": 88,
   "id": "32d72e9a",
   "metadata": {},
   "outputs": [
    {
     "name": "stdout",
     "output_type": "stream",
     "text": [
      "dict_items([('name', 'lotus'), ('color', 'white'), ('region', 'kashmir'), ('lifeShell', 4)])\n"
     ]
    }
   ],
   "source": [
    "# items()\n",
    "print(flower.items())"
   ]
  },
  {
   "cell_type": "code",
   "execution_count": null,
   "id": "63a3dd4b",
   "metadata": {},
   "outputs": [],
   "source": [
    "# {\"key\":value}"
   ]
  },
  {
   "cell_type": "code",
   "execution_count": 89,
   "id": "e2440f31",
   "metadata": {},
   "outputs": [
    {
     "name": "stdout",
     "output_type": "stream",
     "text": [
      "legs\n",
      "color\n",
      "eyes\n"
     ]
    }
   ],
   "source": [
    "# keys()\n",
    "for x in animal.keys():\n",
    "    print(x)"
   ]
  },
  {
   "cell_type": "code",
   "execution_count": 90,
   "id": "803b2b2a",
   "metadata": {},
   "outputs": [
    {
     "name": "stdout",
     "output_type": "stream",
     "text": [
      "4\n",
      "red\n",
      "2\n"
     ]
    }
   ],
   "source": [
    "# values\n",
    "for x in animal.values():\n",
    "    print(x)"
   ]
  },
  {
   "cell_type": "code",
   "execution_count": null,
   "id": "9ed6f5f5",
   "metadata": {},
   "outputs": [],
   "source": []
  },
  {
   "cell_type": "code",
   "execution_count": 91,
   "id": "7555d93c",
   "metadata": {},
   "outputs": [
    {
     "data": {
      "text/plain": [
       "dict_items([('legs', 4), ('color', 'red'), ('eyes', 2)])"
      ]
     },
     "execution_count": 91,
     "metadata": {},
     "output_type": "execute_result"
    }
   ],
   "source": [
    "animal.items()"
   ]
  },
  {
   "cell_type": "code",
   "execution_count": 92,
   "id": "2332c055",
   "metadata": {},
   "outputs": [
    {
     "name": "stdout",
     "output_type": "stream",
     "text": [
      "This is key:  legs This is value: 4\n",
      "This is key:  color This is value: red\n",
      "This is key:  eyes This is value: 2\n"
     ]
    }
   ],
   "source": [
    "#items()\n",
    "for x , y in animal.items():\n",
    "    print(\"This is key: \",x,\"This is value:\",y)"
   ]
  },
  {
   "cell_type": "code",
   "execution_count": 94,
   "id": "3c1e3a3f",
   "metadata": {},
   "outputs": [
    {
     "name": "stdout",
     "output_type": "stream",
     "text": [
      "This is key:  legs This is value: 4\n",
      "This is key:  color This is value: red\n",
      "This is key:  eyes This is value: 2\n"
     ]
    }
   ],
   "source": [
    "#items()\n",
    "for key ,value in animal.items():\n",
    "    print(\"This is key: \",key,\"This is value:\",value)"
   ]
  },
  {
   "cell_type": "code",
   "execution_count": null,
   "id": "164ec69e",
   "metadata": {},
   "outputs": [],
   "source": []
  },
  {
   "cell_type": "code",
   "execution_count": 95,
   "id": "ffcb3640",
   "metadata": {},
   "outputs": [
    {
     "data": {
      "text/plain": [
       "dict_items([('legs', 4), ('color', 'red'), ('eyes', 2)])"
      ]
     },
     "execution_count": 95,
     "metadata": {},
     "output_type": "execute_result"
    }
   ],
   "source": [
    "animal.items()"
   ]
  },
  {
   "cell_type": "code",
   "execution_count": 96,
   "id": "194aef1d",
   "metadata": {},
   "outputs": [],
   "source": [
    "tup = ('legs', 4)"
   ]
  },
  {
   "cell_type": "code",
   "execution_count": 97,
   "id": "6a0b33ba",
   "metadata": {},
   "outputs": [],
   "source": [
    "a,b =tup"
   ]
  },
  {
   "cell_type": "code",
   "execution_count": 98,
   "id": "ddff2856",
   "metadata": {},
   "outputs": [
    {
     "data": {
      "text/plain": [
       "'legs'"
      ]
     },
     "execution_count": 98,
     "metadata": {},
     "output_type": "execute_result"
    }
   ],
   "source": [
    "a"
   ]
  },
  {
   "cell_type": "code",
   "execution_count": 99,
   "id": "bbc6a88a",
   "metadata": {},
   "outputs": [
    {
     "data": {
      "text/plain": [
       "4"
      ]
     },
     "execution_count": 99,
     "metadata": {},
     "output_type": "execute_result"
    }
   ],
   "source": [
    "b"
   ]
  },
  {
   "cell_type": "code",
   "execution_count": null,
   "id": "181335b3",
   "metadata": {},
   "outputs": [],
   "source": []
  },
  {
   "cell_type": "code",
   "execution_count": null,
   "id": "0d61134f",
   "metadata": {},
   "outputs": [],
   "source": []
  },
  {
   "cell_type": "code",
   "execution_count": 101,
   "id": "a64a056a",
   "metadata": {},
   "outputs": [],
   "source": [
    "# Nested Dictionary\n",
    "\n",
    "family = {\n",
    "    'son':\"chinmay\",\n",
    "    'daughter':'gauri',\n",
    "    'parent':{\n",
    "        'mother':'kanchan',\n",
    "        'father':'shirish'\n",
    "    },\n",
    "    'skills':[\"python\",\"c++\"]\n",
    "} "
   ]
  },
  {
   "cell_type": "code",
   "execution_count": null,
   "id": "16378860",
   "metadata": {},
   "outputs": [],
   "source": [
    "family = {'son':\"chinmay\",'daughter':'gauri','parent':{'mother':'kanchan','father':'shirish'},'skills':[\"python\",\"c++\"]} \n",
    "#                                                         0                 1\n",
    "#           0                1                   2                                                3"
   ]
  },
  {
   "cell_type": "code",
   "execution_count": null,
   "id": "0630856e",
   "metadata": {},
   "outputs": [],
   "source": [
    "# family[2][1]"
   ]
  },
  {
   "cell_type": "code",
   "execution_count": 102,
   "id": "4890f597",
   "metadata": {},
   "outputs": [
    {
     "name": "stdout",
     "output_type": "stream",
     "text": [
      "shirish\n"
     ]
    }
   ],
   "source": [
    "print(family['parent']['father'])   #shirish"
   ]
  },
  {
   "cell_type": "code",
   "execution_count": 103,
   "id": "35ed5477",
   "metadata": {},
   "outputs": [],
   "source": [
    "family['parent']['mother'] ='kanchan s' "
   ]
  },
  {
   "cell_type": "code",
   "execution_count": 104,
   "id": "d40553d6",
   "metadata": {},
   "outputs": [],
   "source": [
    "family['skills'].append('js')"
   ]
  },
  {
   "cell_type": "code",
   "execution_count": 105,
   "id": "d85c1e73",
   "metadata": {},
   "outputs": [
    {
     "data": {
      "text/plain": [
       "{'son': 'chinmay',\n",
       " 'daughter': 'gauri',\n",
       " 'parent': {'mother': 'kanchan s', 'father': 'shirish'},\n",
       " 'skills': ['python', 'c++', 'js']}"
      ]
     },
     "execution_count": 105,
     "metadata": {},
     "output_type": "execute_result"
    }
   ],
   "source": [
    "family"
   ]
  },
  {
   "cell_type": "code",
   "execution_count": null,
   "id": "e42ebc7b",
   "metadata": {},
   "outputs": [],
   "source": [
    "# create your dictionary containe your name\n",
    "# add your lastname \n",
    "# add subject(subject contains subject name and subject teacher)\n",
    "# add another one subject\n",
    "# remove any one subject\n",
    "\n",
    "# retrive value by using .get() method"
   ]
  },
  {
   "cell_type": "code",
   "execution_count": null,
   "id": "382bdd99",
   "metadata": {},
   "outputs": [],
   "source": []
  },
  {
   "cell_type": "markdown",
   "id": "0e17848f",
   "metadata": {},
   "source": [
    "\n",
    "## HOW TO CREATE A DICTIONARY"
   ]
  },
  {
   "cell_type": "code",
   "execution_count": 106,
   "id": "ae6a6ae9",
   "metadata": {},
   "outputs": [
    {
     "data": {
      "text/plain": [
       "{'name': 'Nikhita', 'age': 26, 'job': 'SOftwareTeste'}"
      ]
     },
     "execution_count": 106,
     "metadata": {},
     "output_type": "execute_result"
    }
   ],
   "source": [
    "b_basic = {'name': 'Nikhita' ,'age': 26 , 'job' : 'SOftwareTeste'}\n",
    "b_basic"
   ]
  },
  {
   "cell_type": "code",
   "execution_count": 107,
   "id": "de959404",
   "metadata": {},
   "outputs": [
    {
     "data": {
      "text/plain": [
       "{'name': 'rahul', 'age': 32, 'job': 'teacher'}"
      ]
     },
     "execution_count": 107,
     "metadata": {},
     "output_type": "execute_result"
    }
   ],
   "source": [
    "# By using variable\n",
    "a_var = dict(name = \"rahul\", age = 32 ,job = 'teacher')\n",
    "a_var"
   ]
  },
  {
   "cell_type": "code",
   "execution_count": 108,
   "id": "e14944ba",
   "metadata": {},
   "outputs": [
    {
     "data": {
      "text/plain": [
       "{'name': 'Akash', 'age': 35, 'job': 'Instructor'}"
      ]
     },
     "execution_count": 108,
     "metadata": {},
     "output_type": "execute_result"
    }
   ],
   "source": [
    "# By using tuple\n",
    "d_tup = dict([('name',\"Akash\"),('age',35),('job',\"Instructor\")])\n",
    "d_tup"
   ]
  },
  {
   "cell_type": "code",
   "execution_count": 109,
   "id": "264d3165",
   "metadata": {},
   "outputs": [
    {
     "ename": "TypeError",
     "evalue": "dict expected at most 1 argument, got 3",
     "output_type": "error",
     "traceback": [
      "\u001b[1;31m---------------------------------------------------------------------------\u001b[0m",
      "\u001b[1;31mTypeError\u001b[0m                                 Traceback (most recent call last)",
      "\u001b[1;32m~\\AppData\\Local\\Temp\\ipykernel_9480\\212222918.py\u001b[0m in \u001b[0;36m<module>\u001b[1;34m\u001b[0m\n\u001b[1;32m----> 1\u001b[1;33m \u001b[0md_tup\u001b[0m \u001b[1;33m=\u001b[0m \u001b[0mdict\u001b[0m\u001b[1;33m(\u001b[0m\u001b[1;33m(\u001b[0m\u001b[1;34m'name'\u001b[0m\u001b[1;33m,\u001b[0m\u001b[1;34m\"Akash\"\u001b[0m\u001b[1;33m)\u001b[0m\u001b[1;33m,\u001b[0m\u001b[1;33m(\u001b[0m\u001b[1;34m'age'\u001b[0m\u001b[1;33m,\u001b[0m\u001b[1;36m35\u001b[0m\u001b[1;33m)\u001b[0m\u001b[1;33m,\u001b[0m\u001b[1;33m(\u001b[0m\u001b[1;34m'job'\u001b[0m\u001b[1;33m,\u001b[0m\u001b[1;34m\"Instructor\"\u001b[0m\u001b[1;33m)\u001b[0m\u001b[1;33m)\u001b[0m \u001b[1;31m# use list\u001b[0m\u001b[1;33m\u001b[0m\u001b[1;33m\u001b[0m\u001b[0m\n\u001b[0m",
      "\u001b[1;31mTypeError\u001b[0m: dict expected at most 1 argument, got 3"
     ]
    }
   ],
   "source": [
    "d_tup = dict(('name',\"Akash\"),('age',35),('job',\"Instructor\")) # use list"
   ]
  },
  {
   "cell_type": "code",
   "execution_count": 110,
   "id": "b4daf0f3",
   "metadata": {},
   "outputs": [],
   "source": [
    "d_tup = dict([('name',\"Akash\"),('age',35),('job',\"Instructor\")])"
   ]
  },
  {
   "cell_type": "code",
   "execution_count": 111,
   "id": "5eda6572",
   "metadata": {},
   "outputs": [
    {
     "data": {
      "text/plain": [
       "{'name': 'Akash', 'age': 35, 'job': 'Instructor'}"
      ]
     },
     "execution_count": 111,
     "metadata": {},
     "output_type": "execute_result"
    }
   ],
   "source": [
    "d_tup"
   ]
  },
  {
   "cell_type": "code",
   "execution_count": null,
   "id": "b6ba9330",
   "metadata": {},
   "outputs": [],
   "source": []
  },
  {
   "cell_type": "code",
   "execution_count": 112,
   "id": "878e2b8a",
   "metadata": {},
   "outputs": [],
   "source": [
    "# By using two list\n",
    "list_keys = [1,2,3,4,5,6,]\n",
    "list_values= [\"one\",\"two\",\"three\",\"four\",\"five\",\"six\"]"
   ]
  },
  {
   "cell_type": "code",
   "execution_count": 113,
   "id": "5a7be998",
   "metadata": {},
   "outputs": [
    {
     "data": {
      "text/plain": [
       "<zip at 0x213d18c7a80>"
      ]
     },
     "execution_count": 113,
     "metadata": {},
     "output_type": "execute_result"
    }
   ],
   "source": [
    "zip(list_keys ,list_values)"
   ]
  },
  {
   "cell_type": "code",
   "execution_count": null,
   "id": "86fc05fd",
   "metadata": {},
   "outputs": [],
   "source": [
    "(1,\"one\"),(2,\"two\")"
   ]
  },
  {
   "cell_type": "code",
   "execution_count": 114,
   "id": "bc25a818",
   "metadata": {},
   "outputs": [
    {
     "data": {
      "text/plain": [
       "{1: 'one', 2: 'two', 3: 'three', 4: 'four', 5: 'five', 6: 'six'}"
      ]
     },
     "execution_count": 114,
     "metadata": {},
     "output_type": "execute_result"
    }
   ],
   "source": [
    "c_zip = dict(zip(list_keys ,list_values))\n",
    "c_zip"
   ]
  },
  {
   "cell_type": "code",
   "execution_count": null,
   "id": "dd82855a",
   "metadata": {},
   "outputs": [],
   "source": []
  },
  {
   "cell_type": "code",
   "execution_count": null,
   "id": "8e332cd1",
   "metadata": {},
   "outputs": [],
   "source": [
    "list(zip(list_keys ,list_values))"
   ]
  },
  {
   "cell_type": "code",
   "execution_count": 115,
   "id": "cc7153af",
   "metadata": {},
   "outputs": [
    {
     "data": {
      "text/plain": [
       "{1: 'one', 2: 'two', 3: 'three', 4: 'four', 5: 'five', 6: 'six'}"
      ]
     },
     "execution_count": 115,
     "metadata": {},
     "output_type": "execute_result"
    }
   ],
   "source": [
    "list_keys = (1,2,3,4,5,6,)\n",
    "list_values= (\"one\",\"two\",\"three\",\"four\",\"five\",\"six\")\n",
    "\n",
    "c_zip = dict(zip(list_keys ,list_values))\n",
    "c_zip"
   ]
  },
  {
   "cell_type": "code",
   "execution_count": null,
   "id": "325f1371",
   "metadata": {},
   "outputs": [],
   "source": []
  },
  {
   "cell_type": "code",
   "execution_count": 116,
   "id": "52deff19",
   "metadata": {},
   "outputs": [
    {
     "data": {
      "text/plain": [
       "{1: 'one', 2: 'two', 3: 'three'}"
      ]
     },
     "execution_count": 116,
     "metadata": {},
     "output_type": "execute_result"
    }
   ],
   "source": [
    "list_keys = (1,2,3)\n",
    "list_values= (\"one\",\"two\",\"three\",\"four\",\"five\",\"six\")\n",
    "\n",
    "c_zip = dict(zip(list_keys ,list_values))\n",
    "c_zip"
   ]
  },
  {
   "cell_type": "code",
   "execution_count": 119,
   "id": "228b6d01",
   "metadata": {},
   "outputs": [
    {
     "data": {
      "text/plain": [
       "{'one': 1, 'two': 2, 'three': 3}"
      ]
     },
     "execution_count": 119,
     "metadata": {},
     "output_type": "execute_result"
    }
   ],
   "source": [
    "\n",
    "list_values= (\"one\",\"two\",\"three\",\"four\",\"five\",\"six\")\n",
    "list_keys = (1,2,3)\n",
    "\n",
    "c_zip = dict(zip(list_values,list_keys ))\n",
    "c_zip"
   ]
  },
  {
   "cell_type": "code",
   "execution_count": null,
   "id": "a7aab0ba",
   "metadata": {},
   "outputs": [],
   "source": []
  },
  {
   "cell_type": "markdown",
   "id": "f3ae025b",
   "metadata": {},
   "source": [
    "## Homework"
   ]
  },
  {
   "cell_type": "code",
   "execution_count": null,
   "id": "142cacd5",
   "metadata": {},
   "outputs": [],
   "source": [
    "# score_vk = {\n",
    "#         one_day : 700,\n",
    "#         test : 740,\n",
    "#         t_20 : 470,\n",
    "#         international : 250\n",
    "# }"
   ]
  },
  {
   "cell_type": "code",
   "execution_count": null,
   "id": "949dc214",
   "metadata": {},
   "outputs": [],
   "source": [
    "# 1. CREATE ABOVE DICTIONARY USING BASIC METHOD \n",
    "# {} AND NAME IT AS score_vk_basic\n"
   ]
  },
  {
   "cell_type": "code",
   "execution_count": null,
   "id": "48063eb5",
   "metadata": {},
   "outputs": [],
   "source": [
    "# 2. CREATE ABOVE DICTIONARY USING \n",
    "# variable assignments way AND NAME IT AS score_vk_var\n"
   ]
  },
  {
   "cell_type": "code",
   "execution_count": null,
   "id": "d7b9a17f",
   "metadata": {},
   "outputs": [],
   "source": [
    "# 3. CREATE ABOVE DICTIONARY USING \n",
    "# tuple pair way  AND NAME IT AS score_vk_basic_tup\n"
   ]
  },
  {
   "cell_type": "code",
   "execution_count": null,
   "id": "ea81eed0",
   "metadata": {},
   "outputs": [],
   "source": [
    "# 4. CREATE ABOVE DICTIONARY USING \n",
    "# zip method CONSIDERING \n",
    "# KEYS LIST AS list_keys AND \n",
    "# VALUES LIST AS list_values  AND \n",
    "# NAME IT AS score_vk_basic_tup\n",
    "\n"
   ]
  },
  {
   "cell_type": "code",
   "execution_count": null,
   "id": "9f1f60a0",
   "metadata": {},
   "outputs": [],
   "source": []
  },
  {
   "cell_type": "code",
   "execution_count": null,
   "id": "5eb1d61f",
   "metadata": {},
   "outputs": [],
   "source": []
  },
  {
   "cell_type": "code",
   "execution_count": null,
   "id": "e39fc315",
   "metadata": {},
   "outputs": [],
   "source": []
  }
 ],
 "metadata": {
  "kernelspec": {
   "display_name": "Python 3 (ipykernel)",
   "language": "python",
   "name": "python3"
  },
  "language_info": {
   "codemirror_mode": {
    "name": "ipython",
    "version": 3
   },
   "file_extension": ".py",
   "mimetype": "text/x-python",
   "name": "python",
   "nbconvert_exporter": "python",
   "pygments_lexer": "ipython3",
   "version": "3.9.13"
  }
 },
 "nbformat": 4,
 "nbformat_minor": 5
}
