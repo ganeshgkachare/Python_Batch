{
 "cells": [
  {
   "cell_type": "markdown",
   "id": "b669763c",
   "metadata": {},
   "source": [
    "#### "
   ]
  },
  {
   "cell_type": "code",
   "execution_count": null,
   "id": "5440e5d6",
   "metadata": {},
   "outputs": [],
   "source": []
  },
  {
   "cell_type": "code",
   "execution_count": 1,
   "id": "32d2de15",
   "metadata": {},
   "outputs": [
    {
     "name": "stdout",
     "output_type": "stream",
     "text": [
      "1\n",
      "3\n",
      "5\n",
      "7\n",
      "9\n",
      "11\n",
      "13\n",
      "15\n",
      "17\n",
      "19\n"
     ]
    }
   ],
   "source": [
    "for x in range(20):\n",
    "    if x % 2 == 0:\n",
    "        continue\n",
    "    print (x)"
   ]
  },
  {
   "cell_type": "code",
   "execution_count": 2,
   "id": "9fec1bf3",
   "metadata": {},
   "outputs": [
    {
     "name": "stdout",
     "output_type": "stream",
     "text": [
      "0\n",
      "2\n",
      "4\n",
      "6\n",
      "8\n",
      "10\n",
      "12\n",
      "14\n",
      "16\n",
      "18\n"
     ]
    }
   ],
   "source": [
    "for x in range(20):\n",
    "    if x % 2 == 0:\n",
    "        print (x)"
   ]
  },
  {
   "cell_type": "code",
   "execution_count": 3,
   "id": "1dfbda47",
   "metadata": {},
   "outputs": [
    {
     "name": "stdout",
     "output_type": "stream",
     "text": [
      "0\n",
      "1\n",
      "2\n",
      "3\n"
     ]
    }
   ],
   "source": [
    "# continue and break\n",
    "\n",
    "\n",
    "for x in range(10):\n",
    "    print(x)\n",
    "    if(x == 3):\n",
    "        break"
   ]
  },
  {
   "cell_type": "code",
   "execution_count": 4,
   "id": "10113bca",
   "metadata": {},
   "outputs": [
    {
     "name": "stdout",
     "output_type": "stream",
     "text": [
      "0\n",
      "1\n",
      "2\n"
     ]
    }
   ],
   "source": [
    "for x in range(10):\n",
    "    if(x == 3):\n",
    "        break\n",
    "    print(x)"
   ]
  },
  {
   "cell_type": "code",
   "execution_count": null,
   "id": "861e1e76",
   "metadata": {},
   "outputs": [],
   "source": []
  },
  {
   "cell_type": "code",
   "execution_count": 5,
   "id": "33302f14",
   "metadata": {},
   "outputs": [
    {
     "name": "stdout",
     "output_type": "stream",
     "text": [
      "0\n",
      "1\n",
      "3\n",
      "4\n"
     ]
    }
   ],
   "source": [
    "for x in range(5): # 0 ,1 ,2,3,4\n",
    "    if(x == 2):\n",
    "        continue\n",
    "    print(x)  # 0 1 3 4"
   ]
  },
  {
   "cell_type": "code",
   "execution_count": 6,
   "id": "073259db",
   "metadata": {},
   "outputs": [],
   "source": [
    "for x in range(12):\n",
    "    pass"
   ]
  },
  {
   "cell_type": "code",
   "execution_count": null,
   "id": "2073a87c",
   "metadata": {},
   "outputs": [],
   "source": []
  },
  {
   "cell_type": "code",
   "execution_count": 7,
   "id": "e7730995",
   "metadata": {},
   "outputs": [],
   "source": [
    "a = list(range(11))"
   ]
  },
  {
   "cell_type": "code",
   "execution_count": 8,
   "id": "7ee87a75",
   "metadata": {},
   "outputs": [
    {
     "data": {
      "text/plain": [
       "[0, 1, 2, 3, 4, 5, 6, 7, 8, 9, 10]"
      ]
     },
     "execution_count": 8,
     "metadata": {},
     "output_type": "execute_result"
    }
   ],
   "source": [
    "a"
   ]
  },
  {
   "cell_type": "code",
   "execution_count": null,
   "id": "91266c49",
   "metadata": {},
   "outputs": [],
   "source": []
  },
  {
   "cell_type": "code",
   "execution_count": 10,
   "id": "c317a457",
   "metadata": {},
   "outputs": [],
   "source": [
    "#factorial\n",
    "# 8! = 8*7*6*5*4*3*2*1\n"
   ]
  },
  {
   "cell_type": "code",
   "execution_count": 12,
   "id": "d609fd42",
   "metadata": {},
   "outputs": [],
   "source": [
    "a=4\n",
    "b=3"
   ]
  },
  {
   "cell_type": "code",
   "execution_count": 13,
   "id": "538ec1d8",
   "metadata": {},
   "outputs": [
    {
     "data": {
      "text/plain": [
       "7"
      ]
     },
     "execution_count": 13,
     "metadata": {},
     "output_type": "execute_result"
    }
   ],
   "source": [
    "a+b"
   ]
  },
  {
   "cell_type": "code",
   "execution_count": 14,
   "id": "232417d4",
   "metadata": {},
   "outputs": [
    {
     "data": {
      "text/plain": [
       "1"
      ]
     },
     "execution_count": 14,
     "metadata": {},
     "output_type": "execute_result"
    }
   ],
   "source": [
    "a-b"
   ]
  },
  {
   "cell_type": "code",
   "execution_count": 15,
   "id": "494ba359",
   "metadata": {},
   "outputs": [
    {
     "data": {
      "text/plain": [
       "12"
      ]
     },
     "execution_count": 15,
     "metadata": {},
     "output_type": "execute_result"
    }
   ],
   "source": [
    "a*b"
   ]
  },
  {
   "cell_type": "code",
   "execution_count": 16,
   "id": "1d400548",
   "metadata": {},
   "outputs": [
    {
     "data": {
      "text/plain": [
       "1"
      ]
     },
     "execution_count": 16,
     "metadata": {},
     "output_type": "execute_result"
    }
   ],
   "source": [
    "a%b"
   ]
  },
  {
   "cell_type": "code",
   "execution_count": 1,
   "id": "d28f8ffc",
   "metadata": {},
   "outputs": [],
   "source": [
    "def calculator(a,b):\n",
    "    add=a+b\n",
    "    sub=a-b\n",
    "    mul=a*b\n",
    "    rem=a%b\n",
    "    print(f\"For given number addition is {add} sub is {sub} mul is {mul} rem is {rem}\")"
   ]
  },
  {
   "cell_type": "code",
   "execution_count": 2,
   "id": "7d1fdcf1",
   "metadata": {},
   "outputs": [
    {
     "name": "stdout",
     "output_type": "stream",
     "text": [
      "For given number addition is8 sub is -4 mul is 12 rem is 2\n"
     ]
    }
   ],
   "source": [
    "calculator(2,6)"
   ]
  },
  {
   "cell_type": "code",
   "execution_count": 3,
   "id": "31899df6",
   "metadata": {},
   "outputs": [
    {
     "name": "stdout",
     "output_type": "stream",
     "text": [
      "For given number addition is8 sub is -4 mul is 12 rem is 2\n",
      "None\n"
     ]
    }
   ],
   "source": [
    "print(calculator(2,6))"
   ]
  },
  {
   "cell_type": "code",
   "execution_count": 4,
   "id": "5929a080",
   "metadata": {},
   "outputs": [
    {
     "name": "stdout",
     "output_type": "stream",
     "text": [
      "For given number addition is8 sub is -4 mul is 12 rem is 2\n"
     ]
    }
   ],
   "source": [
    "a=calculator(2,6)"
   ]
  },
  {
   "cell_type": "code",
   "execution_count": 6,
   "id": "fc245109",
   "metadata": {},
   "outputs": [
    {
     "name": "stdout",
     "output_type": "stream",
     "text": [
      "5\n",
      "None\n"
     ]
    }
   ],
   "source": [
    "print(print(5))"
   ]
  },
  {
   "cell_type": "code",
   "execution_count": 7,
   "id": "f660928c",
   "metadata": {},
   "outputs": [
    {
     "name": "stdout",
     "output_type": "stream",
     "text": [
      "For given number addition is16 sub is 4 mul is 60 rem is 4\n"
     ]
    }
   ],
   "source": [
    "calculator(10,6)"
   ]
  },
  {
   "cell_type": "code",
   "execution_count": 8,
   "id": "23e3dba9",
   "metadata": {},
   "outputs": [
    {
     "ename": "TypeError",
     "evalue": "calculator() takes 2 positional arguments but 3 were given",
     "output_type": "error",
     "traceback": [
      "\u001b[1;31m---------------------------------------------------------------------------\u001b[0m",
      "\u001b[1;31mTypeError\u001b[0m                                 Traceback (most recent call last)",
      "\u001b[1;32m~\\AppData\\Local\\Temp\\ipykernel_7856\\2492123165.py\u001b[0m in \u001b[0;36m<module>\u001b[1;34m\u001b[0m\n\u001b[1;32m----> 1\u001b[1;33m \u001b[0mcalculator\u001b[0m\u001b[1;33m(\u001b[0m\u001b[1;36m10\u001b[0m\u001b[1;33m,\u001b[0m\u001b[1;36m6\u001b[0m\u001b[1;33m,\u001b[0m\u001b[1;36m6\u001b[0m\u001b[1;33m)\u001b[0m\u001b[1;33m\u001b[0m\u001b[1;33m\u001b[0m\u001b[0m\n\u001b[0m",
      "\u001b[1;31mTypeError\u001b[0m: calculator() takes 2 positional arguments but 3 were given"
     ]
    }
   ],
   "source": [
    "calculator(10,6,6)"
   ]
  },
  {
   "cell_type": "code",
   "execution_count": 10,
   "id": "a270b688",
   "metadata": {},
   "outputs": [
    {
     "name": "stdout",
     "output_type": "stream",
     "text": [
      "For given number addition is16 sub is 4 mul is 60 rem is 4\n"
     ]
    }
   ],
   "source": [
    "calculator(b=6,a=10)"
   ]
  },
  {
   "cell_type": "code",
   "execution_count": 11,
   "id": "b833e16d",
   "metadata": {},
   "outputs": [
    {
     "name": "stdout",
     "output_type": "stream",
     "text": [
      "For given number addition is16 sub is -4 mul is 60 rem is 6\n"
     ]
    }
   ],
   "source": [
    "calculator(6,10)"
   ]
  },
  {
   "cell_type": "code",
   "execution_count": null,
   "id": "faf75984",
   "metadata": {},
   "outputs": [],
   "source": [
    "#keyword\n",
    "def function_name(parameters):\n",
    "    code "
   ]
  },
  {
   "cell_type": "code",
   "execution_count": 19,
   "id": "d9d22d5f",
   "metadata": {},
   "outputs": [],
   "source": [
    "\n",
    "def factorial1(n):\n",
    "    fact = 1              # 1\n",
    "    for i in range(1,n+1):\n",
    "        fact = fact* i      #1  2   6  \n",
    "    return fact\n",
    "        "
   ]
  },
  {
   "cell_type": "code",
   "execution_count": 20,
   "id": "8ef906e0",
   "metadata": {},
   "outputs": [
    {
     "name": "stdout",
     "output_type": "stream",
     "text": [
      "3628800\n"
     ]
    }
   ],
   "source": [
    "print(factorial1(10))"
   ]
  },
  {
   "cell_type": "code",
   "execution_count": 21,
   "id": "b11b86ac",
   "metadata": {},
   "outputs": [
    {
     "name": "stdout",
     "output_type": "stream",
     "text": [
      "3628800\n"
     ]
    }
   ],
   "source": [
    "fact = 1              # 1\n",
    "for i in range(1,11):\n",
    "    fact = fact* i      #1  2   6  \n",
    "print(fact)"
   ]
  },
  {
   "cell_type": "code",
   "execution_count": 22,
   "id": "25a651f2",
   "metadata": {},
   "outputs": [
    {
     "data": {
      "text/plain": [
       "10"
      ]
     },
     "execution_count": 22,
     "metadata": {},
     "output_type": "execute_result"
    }
   ],
   "source": [
    "10"
   ]
  },
  {
   "cell_type": "code",
   "execution_count": null,
   "id": "3cc8303c",
   "metadata": {},
   "outputs": [],
   "source": []
  },
  {
   "cell_type": "code",
   "execution_count": 24,
   "id": "2cdc49d5",
   "metadata": {},
   "outputs": [],
   "source": [
    "a = factorial1(3)"
   ]
  },
  {
   "cell_type": "code",
   "execution_count": 25,
   "id": "f4951785",
   "metadata": {},
   "outputs": [
    {
     "name": "stdout",
     "output_type": "stream",
     "text": [
      "6\n"
     ]
    }
   ],
   "source": [
    "print(a)"
   ]
  },
  {
   "cell_type": "code",
   "execution_count": null,
   "id": "36c73015",
   "metadata": {},
   "outputs": [],
   "source": [
    "\n",
    "def factorial2(n):\n",
    "    fact = 1              # 1\n",
    "    for i in range(1,n+1):\n",
    "        fact = fact* i      #1  2   6  \n",
    "    return fact"
   ]
  },
  {
   "cell_type": "code",
   "execution_count": null,
   "id": "f11b229f",
   "metadata": {},
   "outputs": [],
   "source": [
    "factorial2(n)"
   ]
  },
  {
   "cell_type": "code",
   "execution_count": null,
   "id": "346894b2",
   "metadata": {},
   "outputs": [],
   "source": [
    "a = factorial2(n)"
   ]
  },
  {
   "cell_type": "code",
   "execution_count": null,
   "id": "86bb8042",
   "metadata": {},
   "outputs": [],
   "source": [
    "print(a)"
   ]
  },
  {
   "cell_type": "code",
   "execution_count": null,
   "id": "08ef3f36",
   "metadata": {},
   "outputs": [],
   "source": []
  },
  {
   "cell_type": "markdown",
   "id": "06557bd3",
   "metadata": {},
   "source": [
    "## Function in Python"
   ]
  },
  {
   "cell_type": "code",
   "execution_count": 26,
   "id": "0a372581",
   "metadata": {},
   "outputs": [],
   "source": [
    "a=[10,22,45,78,77,44,11]"
   ]
  },
  {
   "cell_type": "code",
   "execution_count": 28,
   "id": "d88e3143",
   "metadata": {},
   "outputs": [],
   "source": [
    "even=[]\n",
    "odd=[]\n",
    "\n",
    "for i in a:\n",
    "    if i%2==0:\n",
    "        even.append(i)\n",
    "    else:\n",
    "        odd.append(i)\n",
    "        \n"
   ]
  },
  {
   "cell_type": "code",
   "execution_count": 29,
   "id": "f769a945",
   "metadata": {},
   "outputs": [
    {
     "data": {
      "text/plain": [
       "[10, 22, 78, 44]"
      ]
     },
     "execution_count": 29,
     "metadata": {},
     "output_type": "execute_result"
    }
   ],
   "source": [
    "even"
   ]
  },
  {
   "cell_type": "code",
   "execution_count": 30,
   "id": "e3f9d5b7",
   "metadata": {},
   "outputs": [
    {
     "data": {
      "text/plain": [
       "[45, 77, 11]"
      ]
     },
     "execution_count": 30,
     "metadata": {},
     "output_type": "execute_result"
    }
   ],
   "source": [
    "odd"
   ]
  },
  {
   "cell_type": "code",
   "execution_count": 31,
   "id": "96103d64",
   "metadata": {},
   "outputs": [
    {
     "data": {
      "text/plain": [
       "[10, 22, 78, 44, 10, 22, 78, 44]"
      ]
     },
     "execution_count": 31,
     "metadata": {},
     "output_type": "execute_result"
    }
   ],
   "source": [
    "even*2"
   ]
  },
  {
   "cell_type": "code",
   "execution_count": 32,
   "id": "75df3044",
   "metadata": {},
   "outputs": [
    {
     "data": {
      "text/plain": [
       "[45, 77, 11, 45, 77, 11, 45, 77, 11, 45, 77, 11, 45, 77, 11]"
      ]
     },
     "execution_count": 32,
     "metadata": {},
     "output_type": "execute_result"
    }
   ],
   "source": [
    "odd*5"
   ]
  },
  {
   "cell_type": "code",
   "execution_count": 3,
   "id": "7b534786",
   "metadata": {},
   "outputs": [
    {
     "ename": "NameError",
     "evalue": "name 'even' is not defined",
     "output_type": "error",
     "traceback": [
      "\u001b[1;31m---------------------------------------------------------------------------\u001b[0m",
      "\u001b[1;31mNameError\u001b[0m                                 Traceback (most recent call last)",
      "\u001b[1;32m~\\AppData\\Local\\Temp\\ipykernel_6412\\2517816921.py\u001b[0m in \u001b[0;36m<module>\u001b[1;34m\u001b[0m\n\u001b[1;32m----> 1\u001b[1;33m \u001b[1;32mfor\u001b[0m \u001b[0mi\u001b[0m \u001b[1;32min\u001b[0m \u001b[0meven\u001b[0m\u001b[1;33m:\u001b[0m\u001b[1;33m\u001b[0m\u001b[1;33m\u001b[0m\u001b[0m\n\u001b[0m\u001b[0;32m      2\u001b[0m     \u001b[0mprint\u001b[0m\u001b[1;33m(\u001b[0m\u001b[0mi\u001b[0m\u001b[1;33m*\u001b[0m\u001b[1;36m2\u001b[0m\u001b[1;33m)\u001b[0m\u001b[1;33m\u001b[0m\u001b[1;33m\u001b[0m\u001b[0m\n",
      "\u001b[1;31mNameError\u001b[0m: name 'even' is not defined"
     ]
    }
   ],
   "source": [
    "for i in even:\n",
    "    print(i*2)"
   ]
  },
  {
   "cell_type": "code",
   "execution_count": 12,
   "id": "fb69cfca",
   "metadata": {},
   "outputs": [],
   "source": [
    "def ev(a):\n",
    "    even=[]\n",
    "    for i in a:\n",
    "        if i%2==0:\n",
    "            even.append(i)\n",
    "    return even\n"
   ]
  },
  {
   "cell_type": "code",
   "execution_count": 19,
   "id": "4c2d8947",
   "metadata": {},
   "outputs": [
    {
     "data": {
      "text/plain": [
       "[34, 56, 68, 66]"
      ]
     },
     "execution_count": 19,
     "metadata": {},
     "output_type": "execute_result"
    }
   ],
   "source": [
    "ev([23,34,56,68,66,55,33,11])"
   ]
  },
  {
   "cell_type": "code",
   "execution_count": null,
   "id": "5fbca2d1",
   "metadata": {},
   "outputs": [],
   "source": []
  },
  {
   "cell_type": "code",
   "execution_count": 111,
   "id": "0a64b6e6",
   "metadata": {},
   "outputs": [],
   "source": [
    "def even(x):\n",
    "    b = []\n",
    "    for i in x:\n",
    "        if i%2 == 0:\n",
    "            b.append(i)\n",
    "    return b"
   ]
  },
  {
   "cell_type": "code",
   "execution_count": 110,
   "id": "fcc473c5",
   "metadata": {},
   "outputs": [
    {
     "data": {
      "text/plain": [
       "[10, 22, 78, 44]"
      ]
     },
     "execution_count": 110,
     "metadata": {},
     "output_type": "execute_result"
    }
   ],
   "source": [
    "even([10,22,45,78,77,44,11])"
   ]
  },
  {
   "cell_type": "code",
   "execution_count": 113,
   "id": "fd3564a1",
   "metadata": {},
   "outputs": [],
   "source": [
    "list_num = [100,200,300,400]\n",
    "\n",
    "def double(z):\n",
    "    d = []\n",
    "    for i in z:\n",
    "        d.append(2*i)\n",
    "    return d"
   ]
  },
  {
   "cell_type": "code",
   "execution_count": 112,
   "id": "9f0c319e",
   "metadata": {},
   "outputs": [
    {
     "name": "stdout",
     "output_type": "stream",
     "text": [
      "[200, 400, 600, 800]\n"
     ]
    }
   ],
   "source": [
    "print(double(list_num))"
   ]
  },
  {
   "cell_type": "code",
   "execution_count": null,
   "id": "b276b486",
   "metadata": {},
   "outputs": [],
   "source": []
  },
  {
   "cell_type": "code",
   "execution_count": 30,
   "id": "31cf9dd2",
   "metadata": {},
   "outputs": [
    {
     "data": {
      "text/plain": [
       "[10, 22, 78, 44]"
      ]
     },
     "execution_count": 30,
     "metadata": {},
     "output_type": "execute_result"
    }
   ],
   "source": [
    "\n"
   ]
  },
  {
   "cell_type": "code",
   "execution_count": 114,
   "id": "28ed88cb",
   "metadata": {},
   "outputs": [
    {
     "name": "stdout",
     "output_type": "stream",
     "text": [
      "[13, 11, 12, 12.0, 0]\n"
     ]
    }
   ],
   "source": [
    "def calculator(a,b):\n",
    "    q1 = a + b\n",
    "    q2 = a - b\n",
    "    q3 = a * b\n",
    "    q4 = a / b\n",
    "    q5 = a % b\n",
    "    return [q1,q2,q3,q4,q5]\n",
    "\n",
    "listC = calculator(12,1)\n",
    "print(listC)\n"
   ]
  },
  {
   "cell_type": "code",
   "execution_count": 116,
   "id": "7acaafe0",
   "metadata": {},
   "outputs": [
    {
     "data": {
      "text/plain": [
       "[9, 5, 14, 3.5, 1]"
      ]
     },
     "execution_count": 116,
     "metadata": {},
     "output_type": "execute_result"
    }
   ],
   "source": [
    "calculator(7,2)"
   ]
  },
  {
   "cell_type": "code",
   "execution_count": null,
   "id": "c59bdfda",
   "metadata": {},
   "outputs": [],
   "source": []
  },
  {
   "cell_type": "raw",
   "id": "59d13f13",
   "metadata": {},
   "source": [
    "Docstrings in Python\n",
    "    The full meaning of docstring is documentation string.\n",
    "    It's specified in source code that is used, like a comment, to document a specific segment of code.\n",
    "    \n",
    "# Declaring Docstrings: The docstrings are declared using '''triple single quotes''' or \"\"\"triple double quotes\"\"\" just below the class/function.\n"
   ]
  },
  {
   "cell_type": "code",
   "execution_count": null,
   "id": "ddb2fc2b",
   "metadata": {},
   "outputs": [],
   "source": []
  },
  {
   "cell_type": "code",
   "execution_count": 3,
   "id": "26222894",
   "metadata": {},
   "outputs": [],
   "source": [
    "def Udit(a,b):\n",
    "    \"\"\"Function to add two numbers\"\"\"\n",
    "    add = a+b\n",
    "    return add"
   ]
  },
  {
   "cell_type": "code",
   "execution_count": 4,
   "id": "3638ed09",
   "metadata": {},
   "outputs": [
    {
     "data": {
      "text/plain": [
       "10"
      ]
     },
     "execution_count": 4,
     "metadata": {},
     "output_type": "execute_result"
    }
   ],
   "source": [
    "Udit(5,5)"
   ]
  },
  {
   "cell_type": "code",
   "execution_count": null,
   "id": "9b1d2a26",
   "metadata": {},
   "outputs": [],
   "source": [
    "__doc__"
   ]
  },
  {
   "cell_type": "code",
   "execution_count": 5,
   "id": "9d4e65ed",
   "metadata": {},
   "outputs": [
    {
     "data": {
      "text/plain": [
       "'Function to add two numbers'"
      ]
     },
     "execution_count": 5,
     "metadata": {},
     "output_type": "execute_result"
    }
   ],
   "source": [
    "# Accessing Docstrings: The docstrings can be accessed using the __doc__ method of the object or using the help functio\n",
    "\n",
    "#we can access the doctsrting as follows\n",
    "\n",
    "Udit.__doc__\n",
    "# print(add.__doc__)"
   ]
  },
  {
   "cell_type": "code",
   "execution_count": null,
   "id": "0f72889a",
   "metadata": {},
   "outputs": [],
   "source": [
    "def even(x):\n",
    "    b = []\n",
    "    for i in x:\n",
    "        if i%2 == 0:\n",
    "            b.append(i)\n",
    "    return b"
   ]
  },
  {
   "cell_type": "code",
   "execution_count": 15,
   "id": "3554f027",
   "metadata": {},
   "outputs": [],
   "source": [
    "def even(x):\n",
    "    \"\"\"This function gives even number\"\"\"\n",
    "    b = []\n",
    "    for i in x:\n",
    "        if i%2 == 0:\n",
    "            b.append(i)\n",
    "    return b"
   ]
  },
  {
   "cell_type": "code",
   "execution_count": 16,
   "id": "300aedde",
   "metadata": {},
   "outputs": [
    {
     "data": {
      "text/plain": [
       "'This function gives even number'"
      ]
     },
     "execution_count": 16,
     "metadata": {},
     "output_type": "execute_result"
    }
   ],
   "source": [
    "even.__doc__"
   ]
  },
  {
   "cell_type": "code",
   "execution_count": 21,
   "id": "7d7ecf5b",
   "metadata": {},
   "outputs": [
    {
     "ename": "TypeError",
     "evalue": "even() takes 1 positional argument but 2 were given",
     "output_type": "error",
     "traceback": [
      "\u001b[1;31m---------------------------------------------------------------------------\u001b[0m",
      "\u001b[1;31mTypeError\u001b[0m                                 Traceback (most recent call last)",
      "\u001b[1;32m~\\AppData\\Local\\Temp\\ipykernel_3464\\3265192856.py\u001b[0m in \u001b[0;36m<module>\u001b[1;34m\u001b[0m\n\u001b[1;32m----> 1\u001b[1;33m \u001b[0meven\u001b[0m\u001b[1;33m(\u001b[0m\u001b[1;33m[\u001b[0m\u001b[1;36m10\u001b[0m\u001b[1;33m,\u001b[0m\u001b[1;36m22\u001b[0m\u001b[1;33m,\u001b[0m\u001b[1;36m45\u001b[0m\u001b[1;33m,\u001b[0m\u001b[1;36m78\u001b[0m\u001b[1;33m,\u001b[0m\u001b[1;36m77\u001b[0m\u001b[1;33m,\u001b[0m\u001b[1;36m44\u001b[0m\u001b[1;33m,\u001b[0m\u001b[1;36m11\u001b[0m\u001b[1;33m]\u001b[0m\u001b[1;33m,\u001b[0m\u001b[1;33m[\u001b[0m\u001b[1;36m2\u001b[0m\u001b[1;33m,\u001b[0m\u001b[1;36m3\u001b[0m\u001b[1;33m,\u001b[0m\u001b[1;36m4\u001b[0m\u001b[1;33m,\u001b[0m\u001b[1;36m5\u001b[0m\u001b[1;33m]\u001b[0m\u001b[1;33m)\u001b[0m\u001b[1;33m\u001b[0m\u001b[1;33m\u001b[0m\u001b[0m\n\u001b[0m",
      "\u001b[1;31mTypeError\u001b[0m: even() takes 1 positional argument but 2 were given"
     ]
    }
   ],
   "source": [
    " even([10,22,45,78,77,44,11],[2,3,4,5])"
   ]
  },
  {
   "cell_type": "code",
   "execution_count": null,
   "id": "6671bfb6",
   "metadata": {},
   "outputs": [],
   "source": []
  },
  {
   "cell_type": "code",
   "execution_count": null,
   "id": "9f21b1c1",
   "metadata": {},
   "outputs": [],
   "source": [
    "1,2,3"
   ]
  },
  {
   "cell_type": "code",
   "execution_count": null,
   "id": "365aa0f2",
   "metadata": {},
   "outputs": [],
   "source": []
  },
  {
   "cell_type": "code",
   "execution_count": null,
   "id": "dc2cd43b",
   "metadata": {},
   "outputs": [],
   "source": []
  },
  {
   "cell_type": "code",
   "execution_count": null,
   "id": "ccf25b9e",
   "metadata": {},
   "outputs": [],
   "source": []
  },
  {
   "cell_type": "code",
   "execution_count": 123,
   "id": "ff587a03",
   "metadata": {},
   "outputs": [],
   "source": [
    "def odd(x):\n",
    "    \"\"\"This function gives odd number\"\"\"\n",
    "    b = []\n",
    "    for i in x:\n",
    "        if i%2 != 0:\n",
    "            b.append(i)\n",
    "    return b"
   ]
  },
  {
   "cell_type": "code",
   "execution_count": 124,
   "id": "43fbe275",
   "metadata": {},
   "outputs": [
    {
     "data": {
      "text/plain": [
       "'This function gives odd number'"
      ]
     },
     "execution_count": 124,
     "metadata": {},
     "output_type": "execute_result"
    }
   ],
   "source": [
    "odd.__doc__"
   ]
  },
  {
   "cell_type": "code",
   "execution_count": 125,
   "id": "4b785c53",
   "metadata": {},
   "outputs": [
    {
     "data": {
      "text/plain": [
       "[45, 77, 11]"
      ]
     },
     "execution_count": 125,
     "metadata": {},
     "output_type": "execute_result"
    }
   ],
   "source": [
    " odd([10,22,45,78,77,44,11])"
   ]
  },
  {
   "cell_type": "code",
   "execution_count": 127,
   "id": "250a9787",
   "metadata": {},
   "outputs": [
    {
     "ename": "TypeError",
     "evalue": "odd() takes 1 positional argument but 2 were given",
     "output_type": "error",
     "traceback": [
      "\u001b[1;31m---------------------------------------------------------------------------\u001b[0m",
      "\u001b[1;31mTypeError\u001b[0m                                 Traceback (most recent call last)",
      "\u001b[1;32m~\\AppData\\Local\\Temp\\ipykernel_4332\\1468238910.py\u001b[0m in \u001b[0;36m<module>\u001b[1;34m\u001b[0m\n\u001b[1;32m----> 1\u001b[1;33m \u001b[0modd\u001b[0m\u001b[1;33m(\u001b[0m\u001b[1;36m2\u001b[0m\u001b[1;33m,\u001b[0m\u001b[1;36m3\u001b[0m\u001b[1;33m)\u001b[0m\u001b[1;33m\u001b[0m\u001b[1;33m\u001b[0m\u001b[0m\n\u001b[0m",
      "\u001b[1;31mTypeError\u001b[0m: odd() takes 1 positional argument but 2 were given"
     ]
    }
   ],
   "source": [
    " odd(2,3)"
   ]
  },
  {
   "cell_type": "code",
   "execution_count": 22,
   "id": "b626afc2",
   "metadata": {},
   "outputs": [
    {
     "name": "stdout",
     "output_type": "stream",
     "text": [
      "10.0\n"
     ]
    }
   ],
   "source": [
    "def average(a,b,c):\n",
    "    avg= (a+b+c)/3\n",
    "    return avg\n",
    "print(average(5,10,15))"
   ]
  },
  {
   "cell_type": "code",
   "execution_count": 23,
   "id": "850d8dd2",
   "metadata": {},
   "outputs": [
    {
     "ename": "TypeError",
     "evalue": "average() takes 3 positional arguments but 4 were given",
     "output_type": "error",
     "traceback": [
      "\u001b[1;31m---------------------------------------------------------------------------\u001b[0m",
      "\u001b[1;31mTypeError\u001b[0m                                 Traceback (most recent call last)",
      "\u001b[1;32m~\\AppData\\Local\\Temp\\ipykernel_3464\\564364593.py\u001b[0m in \u001b[0;36m<module>\u001b[1;34m\u001b[0m\n\u001b[1;32m----> 1\u001b[1;33m \u001b[0mprint\u001b[0m\u001b[1;33m(\u001b[0m\u001b[0maverage\u001b[0m\u001b[1;33m(\u001b[0m\u001b[1;36m5\u001b[0m\u001b[1;33m,\u001b[0m\u001b[1;36m10\u001b[0m\u001b[1;33m,\u001b[0m\u001b[1;36m15\u001b[0m\u001b[1;33m,\u001b[0m\u001b[1;36m3\u001b[0m\u001b[1;33m)\u001b[0m\u001b[1;33m)\u001b[0m\u001b[1;33m\u001b[0m\u001b[1;33m\u001b[0m\u001b[0m\n\u001b[0m",
      "\u001b[1;31mTypeError\u001b[0m: average() takes 3 positional arguments but 4 were given"
     ]
    }
   ],
   "source": [
    "\n",
    "print(average(5,10,15,3))"
   ]
  },
  {
   "cell_type": "code",
   "execution_count": null,
   "id": "c1bf5510",
   "metadata": {},
   "outputs": [],
   "source": [
    " # *args :- variable lenght argument \n",
    "\n",
    "# *args used when we don't know how many arguments will be given (it create tuple)"
   ]
  },
  {
   "cell_type": "code",
   "execution_count": 24,
   "id": "63ec30c5",
   "metadata": {},
   "outputs": [
    {
     "name": "stdout",
     "output_type": "stream",
     "text": [
      "3.0\n"
     ]
    }
   ],
   "source": [
    "def avg(*args):\n",
    "    avg=sum(args)/len(args)\n",
    "    return avg\n",
    "print(avg(1,2,3,4,5))\n"
   ]
  },
  {
   "cell_type": "code",
   "execution_count": 25,
   "id": "207ecbbd",
   "metadata": {},
   "outputs": [
    {
     "name": "stdout",
     "output_type": "stream",
     "text": [
      "1.5\n"
     ]
    }
   ],
   "source": [
    "print(avg(1,2))"
   ]
  },
  {
   "cell_type": "code",
   "execution_count": null,
   "id": "18eeff12",
   "metadata": {},
   "outputs": [],
   "source": [
    "*args  all parameters are conveted into a tuple\n",
    "\n",
    "a=4"
   ]
  },
  {
   "cell_type": "code",
   "execution_count": 129,
   "id": "368511c4",
   "metadata": {},
   "outputs": [
    {
     "data": {
      "text/plain": [
       "11.466666666666667"
      ]
     },
     "execution_count": 129,
     "metadata": {},
     "output_type": "execute_result"
    }
   ],
   "source": [
    "avg(23.4,5,6)"
   ]
  },
  {
   "cell_type": "code",
   "execution_count": null,
   "id": "fbe9b9fb",
   "metadata": {},
   "outputs": [],
   "source": []
  },
  {
   "cell_type": "code",
   "execution_count": null,
   "id": "239a8efe",
   "metadata": {},
   "outputs": [],
   "source": []
  },
  {
   "cell_type": "code",
   "execution_count": null,
   "id": "6769b8e3",
   "metadata": {},
   "outputs": [],
   "source": []
  },
  {
   "cell_type": "markdown",
   "id": "29093281",
   "metadata": {},
   "source": [
    "#### Lambda function"
   ]
  },
  {
   "cell_type": "raw",
   "id": "5423c462",
   "metadata": {},
   "source": [
    "A lambda function is an anonymous function in Python that can be created quickly and easily without having to define a named function using the def keyword."
   ]
  },
  {
   "cell_type": "code",
   "execution_count": 26,
   "id": "2f795663",
   "metadata": {},
   "outputs": [],
   "source": [
    "def square(x):\n",
    "    return x * x"
   ]
  },
  {
   "cell_type": "code",
   "execution_count": 27,
   "id": "159e62f8",
   "metadata": {},
   "outputs": [
    {
     "name": "stdout",
     "output_type": "stream",
     "text": [
      "144\n",
      "9\n"
     ]
    }
   ],
   "source": [
    "print(square(12))\n",
    "print(square(3))"
   ]
  },
  {
   "cell_type": "code",
   "execution_count": 28,
   "id": "6de63f1e",
   "metadata": {},
   "outputs": [],
   "source": [
    "f=lambda a,b,c : a+b+c"
   ]
  },
  {
   "cell_type": "code",
   "execution_count": 34,
   "id": "ce141926",
   "metadata": {},
   "outputs": [],
   "source": [
    "g=lambda a,b,c : a+b+c"
   ]
  },
  {
   "cell_type": "code",
   "execution_count": null,
   "id": "2d7e0961",
   "metadata": {},
   "outputs": [],
   "source": []
  },
  {
   "cell_type": "code",
   "execution_count": 33,
   "id": "eab5cd37",
   "metadata": {},
   "outputs": [
    {
     "data": {
      "text/plain": [
       "10"
      ]
     },
     "execution_count": 33,
     "metadata": {},
     "output_type": "execute_result"
    }
   ],
   "source": [
    "f(2,3,5)"
   ]
  },
  {
   "cell_type": "code",
   "execution_count": 32,
   "id": "b281e9e7",
   "metadata": {},
   "outputs": [
    {
     "ename": "TypeError",
     "evalue": "<lambda>() missing 1 required positional argument: 'c'",
     "output_type": "error",
     "traceback": [
      "\u001b[1;31m---------------------------------------------------------------------------\u001b[0m",
      "\u001b[1;31mTypeError\u001b[0m                                 Traceback (most recent call last)",
      "\u001b[1;32m~\\AppData\\Local\\Temp\\ipykernel_3464\\2318589740.py\u001b[0m in \u001b[0;36m<module>\u001b[1;34m\u001b[0m\n\u001b[1;32m----> 1\u001b[1;33m \u001b[0mf\u001b[0m\u001b[1;33m(\u001b[0m\u001b[1;36m2\u001b[0m\u001b[1;33m,\u001b[0m\u001b[1;36m3\u001b[0m\u001b[1;33m)\u001b[0m\u001b[1;33m\u001b[0m\u001b[1;33m\u001b[0m\u001b[0m\n\u001b[0m",
      "\u001b[1;31mTypeError\u001b[0m: <lambda>() missing 1 required positional argument: 'c'"
     ]
    }
   ],
   "source": [
    "f(2,3)"
   ]
  },
  {
   "cell_type": "code",
   "execution_count": 35,
   "id": "186e3e48",
   "metadata": {},
   "outputs": [
    {
     "data": {
      "text/plain": [
       "9"
      ]
     },
     "execution_count": 35,
     "metadata": {},
     "output_type": "execute_result"
    }
   ],
   "source": [
    "g(2,3,4)"
   ]
  },
  {
   "cell_type": "code",
   "execution_count": null,
   "id": "409e8492",
   "metadata": {},
   "outputs": [],
   "source": []
  },
  {
   "cell_type": "code",
   "execution_count": 36,
   "id": "f086ba64",
   "metadata": {},
   "outputs": [
    {
     "data": {
      "text/plain": [
       "<function __main__.<lambda>(x)>"
      ]
     },
     "execution_count": 36,
     "metadata": {},
     "output_type": "execute_result"
    }
   ],
   "source": [
    "lambda x : X*X"
   ]
  },
  {
   "cell_type": "code",
   "execution_count": 37,
   "id": "ec9bd8b7",
   "metadata": {},
   "outputs": [
    {
     "name": "stdout",
     "output_type": "stream",
     "text": [
      "144\n",
      "36\n"
     ]
    }
   ],
   "source": [
    "q1 = lambda x:x*x\n",
    "print(q1(12))\n",
    "print(q1(6))"
   ]
  },
  {
   "cell_type": "code",
   "execution_count": null,
   "id": "52dc2c79",
   "metadata": {},
   "outputs": [],
   "source": [
    "a1 = lambda x,y:x+y\n",
    "print(a1(12,3))"
   ]
  },
  {
   "cell_type": "code",
   "execution_count": 135,
   "id": "781da1e1",
   "metadata": {},
   "outputs": [],
   "source": [
    "a = lambda x,y,z,zz : x+y-z+zz"
   ]
  },
  {
   "cell_type": "code",
   "execution_count": 136,
   "id": "f169419c",
   "metadata": {},
   "outputs": [
    {
     "data": {
      "text/plain": [
       "6"
      ]
     },
     "execution_count": 136,
     "metadata": {},
     "output_type": "execute_result"
    }
   ],
   "source": [
    "a(2,3,4,5)"
   ]
  },
  {
   "cell_type": "code",
   "execution_count": null,
   "id": "848e6879",
   "metadata": {},
   "outputs": [],
   "source": [
    "5"
   ]
  },
  {
   "cell_type": "code",
   "execution_count": 39,
   "id": "eec3a62e",
   "metadata": {},
   "outputs": [],
   "source": [
    "ee=lambda x : \"even\" if x % 2==0 else \"odd\""
   ]
  },
  {
   "cell_type": "code",
   "execution_count": 40,
   "id": "92e61d5b",
   "metadata": {},
   "outputs": [
    {
     "data": {
      "text/plain": [
       "'odd'"
      ]
     },
     "execution_count": 40,
     "metadata": {},
     "output_type": "execute_result"
    }
   ],
   "source": [
    "ee(5)"
   ]
  },
  {
   "cell_type": "code",
   "execution_count": 41,
   "id": "dab9f1a4",
   "metadata": {},
   "outputs": [
    {
     "data": {
      "text/plain": [
       "'even'"
      ]
     },
     "execution_count": 41,
     "metadata": {},
     "output_type": "execute_result"
    }
   ],
   "source": [
    "ee(4)"
   ]
  },
  {
   "cell_type": "code",
   "execution_count": null,
   "id": "19609a49",
   "metadata": {},
   "outputs": [],
   "source": []
  },
  {
   "cell_type": "raw",
   "id": "5d768865",
   "metadata": {},
   "source": [
    "# Rules of global Keyword\n",
    "The basic rules for global keyword in Python are:\n",
    "\n",
    "When we create a variable inside a function, it is local by default.\n",
    "When we define a variable outside of a function, it is global by default. You don't have to use global keyword.\n",
    "We use global keyword to read and write a global variable inside a function.\n",
    "Use of global keyword outside a function has no effect.\n",
    "\n"
   ]
  },
  {
   "cell_type": "code",
   "execution_count": 42,
   "id": "74c1ee65",
   "metadata": {},
   "outputs": [
    {
     "name": "stdout",
     "output_type": "stream",
     "text": [
      "10\n"
     ]
    }
   ],
   "source": [
    "# only in local scope\n",
    "def addA():\n",
    "    aa = 10\n",
    "    print(aa)\n",
    "addA()\n",
    "# print(a) not accessible\n"
   ]
  },
  {
   "cell_type": "code",
   "execution_count": 44,
   "id": "a1ec21cd",
   "metadata": {},
   "outputs": [
    {
     "ename": "NameError",
     "evalue": "name 'aa' is not defined",
     "output_type": "error",
     "traceback": [
      "\u001b[1;31m---------------------------------------------------------------------------\u001b[0m",
      "\u001b[1;31mNameError\u001b[0m                                 Traceback (most recent call last)",
      "\u001b[1;32m~\\AppData\\Local\\Temp\\ipykernel_3464\\2504174267.py\u001b[0m in \u001b[0;36m<module>\u001b[1;34m\u001b[0m\n\u001b[1;32m----> 1\u001b[1;33m \u001b[0mprint\u001b[0m\u001b[1;33m(\u001b[0m\u001b[0maa\u001b[0m\u001b[1;33m)\u001b[0m\u001b[1;33m\u001b[0m\u001b[1;33m\u001b[0m\u001b[0m\n\u001b[0m",
      "\u001b[1;31mNameError\u001b[0m: name 'aa' is not defined"
     ]
    }
   ],
   "source": [
    "print(aa)  "
   ]
  },
  {
   "cell_type": "code",
   "execution_count": 45,
   "id": "a03a4dee",
   "metadata": {},
   "outputs": [
    {
     "data": {
      "text/plain": [
       "10"
      ]
     },
     "execution_count": 45,
     "metadata": {},
     "output_type": "execute_result"
    }
   ],
   "source": [
    "def addA():\n",
    "    global a\n",
    "    a = 10\n",
    "    return(a)\n",
    "addA()\n",
    "# print(a) not accessible"
   ]
  },
  {
   "cell_type": "code",
   "execution_count": 46,
   "id": "35bd158e",
   "metadata": {},
   "outputs": [
    {
     "name": "stdout",
     "output_type": "stream",
     "text": [
      "10\n"
     ]
    }
   ],
   "source": [
    "print(a)  "
   ]
  },
  {
   "cell_type": "code",
   "execution_count": null,
   "id": "6a16540f",
   "metadata": {},
   "outputs": [],
   "source": []
  },
  {
   "cell_type": "code",
   "execution_count": 48,
   "id": "08907e54",
   "metadata": {},
   "outputs": [],
   "source": [
    "global a\n",
    "a=55"
   ]
  },
  {
   "cell_type": "code",
   "execution_count": null,
   "id": "b582be50",
   "metadata": {},
   "outputs": [],
   "source": []
  },
  {
   "cell_type": "code",
   "execution_count": 137,
   "id": "1cad8875",
   "metadata": {},
   "outputs": [],
   "source": [
    "a= 5"
   ]
  },
  {
   "cell_type": "code",
   "execution_count": null,
   "id": "612c8432",
   "metadata": {},
   "outputs": [],
   "source": [
    "# map , filter , reduce"
   ]
  },
  {
   "cell_type": "code",
   "execution_count": null,
   "id": "a8128283",
   "metadata": {},
   "outputs": [],
   "source": [
    "list/tuple\n",
    "[1,2,3,4,5,6]"
   ]
  },
  {
   "cell_type": "code",
   "execution_count": 146,
   "id": "d400846e",
   "metadata": {},
   "outputs": [
    {
     "ename": "NameError",
     "evalue": "name 'function' is not defined",
     "output_type": "error",
     "traceback": [
      "\u001b[1;31m---------------------------------------------------------------------------\u001b[0m",
      "\u001b[1;31mNameError\u001b[0m                                 Traceback (most recent call last)",
      "\u001b[1;32m~\\AppData\\Local\\Temp\\ipykernel_4332\\3292065526.py\u001b[0m in \u001b[0;36m<module>\u001b[1;34m\u001b[0m\n\u001b[1;32m----> 1\u001b[1;33m \u001b[0mmap\u001b[0m\u001b[1;33m(\u001b[0m\u001b[0mfunction\u001b[0m\u001b[1;33m,\u001b[0m\u001b[0miterable_object\u001b[0m\u001b[1;33m)\u001b[0m\u001b[1;33m\u001b[0m\u001b[1;33m\u001b[0m\u001b[0m\n\u001b[0m",
      "\u001b[1;31mNameError\u001b[0m: name 'function' is not defined"
     ]
    }
   ],
   "source": [
    "Syntax\n",
    "map(function,iterable_object)"
   ]
  },
  {
   "cell_type": "code",
   "execution_count": 147,
   "id": "a324ba9c",
   "metadata": {},
   "outputs": [],
   "source": [
    "def double(z):\n",
    "    d = []\n",
    "    for i in z:\n",
    "        d.append(2*i)\n",
    "    return d"
   ]
  },
  {
   "cell_type": "code",
   "execution_count": 150,
   "id": "1775e352",
   "metadata": {},
   "outputs": [
    {
     "data": {
      "text/plain": [
       "[1, 4, 9, 16]"
      ]
     },
     "execution_count": 150,
     "metadata": {},
     "output_type": "execute_result"
    }
   ],
   "source": [
    "list(map(lambda x:x*x,[1,2,3,4]))"
   ]
  },
  {
   "cell_type": "code",
   "execution_count": null,
   "id": "7de022ca",
   "metadata": {},
   "outputs": [],
   "source": [
    "[1,2,3,4] # +"
   ]
  }
 ],
 "metadata": {
  "kernelspec": {
   "display_name": "Python 3 (ipykernel)",
   "language": "python",
   "name": "python3"
  },
  "language_info": {
   "codemirror_mode": {
    "name": "ipython",
    "version": 3
   },
   "file_extension": ".py",
   "mimetype": "text/x-python",
   "name": "python",
   "nbconvert_exporter": "python",
   "pygments_lexer": "ipython3",
   "version": "3.9.13"
  }
 },
 "nbformat": 4,
 "nbformat_minor": 5
}
