{
 "cells": [
  {
   "cell_type": "raw",
   "id": "45712902",
   "metadata": {},
   "source": [
    "map, filter, and reduce are built-in functions used for processing iterables like lists, tuples, and sets."
   ]
  },
  {
   "cell_type": "markdown",
   "id": "e2a54d9a",
   "metadata": {},
   "source": [
    "## map()"
   ]
  },
  {
   "cell_type": "raw",
   "id": "1f6baecc",
   "metadata": {},
   "source": [
    "1) map() function takes two arguments - a function and an iterable.\n",
    "It applies the function to each element of the iterable and returns a new iterable with the results."
   ]
  },
  {
   "cell_type": "code",
   "execution_count": 1,
   "id": "a81bfcc4",
   "metadata": {},
   "outputs": [],
   "source": [
    "\n",
    "# map (fun ,ite)"
   ]
  },
  {
   "cell_type": "code",
   "execution_count": 54,
   "id": "3926ee44",
   "metadata": {},
   "outputs": [
    {
     "name": "stdout",
     "output_type": "stream",
     "text": [
      "[21, 32, 43]\n"
     ]
    }
   ],
   "source": [
    "listD = [11,22,33]\n",
    "#[21,32,43]\n",
    "\n",
    "q4 = list(map(lambda x:x+10,listD))\n",
    "print(q4)"
   ]
  },
  {
   "cell_type": "code",
   "execution_count": null,
   "id": "c9bd1653",
   "metadata": {},
   "outputs": [],
   "source": []
  },
  {
   "cell_type": "code",
   "execution_count": 36,
   "id": "ce94dcd6",
   "metadata": {},
   "outputs": [],
   "source": [
    "# map\n",
    "list_score = [42,71,41,12,8,99]\n",
    "\n",
    "def double_score(z):\n",
    "#     for i in z:\n",
    "        return(2*z)"
   ]
  },
  {
   "cell_type": "code",
   "execution_count": 37,
   "id": "056d1856",
   "metadata": {},
   "outputs": [
    {
     "data": {
      "text/plain": [
       "[42, 71, 41, 12, 8, 99, 42, 71, 41, 12, 8, 99]"
      ]
     },
     "execution_count": 37,
     "metadata": {},
     "output_type": "execute_result"
    }
   ],
   "source": [
    "double_score(list_score)"
   ]
  },
  {
   "cell_type": "code",
   "execution_count": 40,
   "id": "342a961b",
   "metadata": {},
   "outputs": [
    {
     "data": {
      "text/plain": [
       "[84, 142, 82, 24, 16, 198]"
      ]
     },
     "execution_count": 40,
     "metadata": {},
     "output_type": "execute_result"
    }
   ],
   "source": [
    "# map (fun ,ite)\n",
    "list(map(double_score,list_score))"
   ]
  },
  {
   "cell_type": "code",
   "execution_count": null,
   "id": "dece3d9d",
   "metadata": {},
   "outputs": [],
   "source": []
  },
  {
   "cell_type": "code",
   "execution_count": 41,
   "id": "5455c111",
   "metadata": {},
   "outputs": [
    {
     "data": {
      "text/plain": [
       "map"
      ]
     },
     "execution_count": 41,
     "metadata": {},
     "output_type": "execute_result"
    }
   ],
   "source": [
    "type(map(double_score,list_score))"
   ]
  },
  {
   "cell_type": "code",
   "execution_count": 43,
   "id": "99172872",
   "metadata": {},
   "outputs": [
    {
     "data": {
      "text/plain": [
       "[84, 142, 82, 24, 16, 198]"
      ]
     },
     "execution_count": 43,
     "metadata": {},
     "output_type": "execute_result"
    }
   ],
   "source": [
    "list(map(lambda x :2*x,list_score))"
   ]
  },
  {
   "cell_type": "code",
   "execution_count": null,
   "id": "b5011b3b",
   "metadata": {},
   "outputs": [],
   "source": []
  },
  {
   "cell_type": "code",
   "execution_count": null,
   "id": "b3221eb1",
   "metadata": {},
   "outputs": [],
   "source": []
  },
  {
   "cell_type": "code",
   "execution_count": null,
   "id": "6b461a1c",
   "metadata": {},
   "outputs": [],
   "source": [
    "#[1,2,4,6]\n",
    "# [2,3,9,2]"
   ]
  },
  {
   "cell_type": "code",
   "execution_count": 45,
   "id": "f2c29f16",
   "metadata": {},
   "outputs": [
    {
     "data": {
      "text/plain": [
       "[3, 5, 13, 8]"
      ]
     },
     "execution_count": 45,
     "metadata": {},
     "output_type": "execute_result"
    }
   ],
   "source": [
    "list(map(lambda a,b : a+b,[1,2,4,6],[2,3,9,2]))"
   ]
  },
  {
   "cell_type": "code",
   "execution_count": null,
   "id": "23d9e725",
   "metadata": {},
   "outputs": [],
   "source": []
  },
  {
   "cell_type": "code",
   "execution_count": 46,
   "id": "5aa058cb",
   "metadata": {},
   "outputs": [
    {
     "name": "stdout",
     "output_type": "stream",
     "text": [
      "[34, 33, 32, 31]\n"
     ]
    }
   ],
   "source": [
    "#Find age if DOB year given\n",
    "listA = [1989,1990,1991,1992]\n",
    "listB =[] #[33,32,31,30]\n",
    "for item in listA:\n",
    "    listB.append(2023-item)\n",
    "print(listB)"
   ]
  },
  {
   "cell_type": "code",
   "execution_count": 50,
   "id": "8590bd27",
   "metadata": {},
   "outputs": [
    {
     "name": "stdout",
     "output_type": "stream",
     "text": [
      "[34, 33, 32, 31]\n"
     ]
    }
   ],
   "source": [
    "# map\n",
    "q2 = list(map(lambda x:2023-x,listA))\n",
    "print(q2)"
   ]
  },
  {
   "cell_type": "code",
   "execution_count": 51,
   "id": "52bc185f",
   "metadata": {},
   "outputs": [
    {
     "name": "stdout",
     "output_type": "stream",
     "text": [
      "(33, 32, 31, 30)\n"
     ]
    }
   ],
   "source": [
    "# map\n",
    "q2 = tuple(map(lambda x:2022-x,listA))\n",
    "print(q2)"
   ]
  },
  {
   "cell_type": "code",
   "execution_count": 52,
   "id": "256fb6e3",
   "metadata": {},
   "outputs": [],
   "source": [
    "listC = [1,2,3,4,5,6,7,8,9,10]\n",
    "#[3,6,9,12,15,18,21,24,27,30]"
   ]
  },
  {
   "cell_type": "code",
   "execution_count": 53,
   "id": "182f9182",
   "metadata": {},
   "outputs": [
    {
     "name": "stdout",
     "output_type": "stream",
     "text": [
      "[3, 6, 9, 12, 15, 18, 21, 24, 27, 30]\n"
     ]
    }
   ],
   "source": [
    "#map(fn,list)\n",
    "q3 = list(map(lambda x:x*3,listC))\n",
    "print(q3)"
   ]
  },
  {
   "cell_type": "code",
   "execution_count": 93,
   "id": "5610c559",
   "metadata": {},
   "outputs": [
    {
     "name": "stdout",
     "output_type": "stream",
     "text": [
      "[21, 32, 43]\n"
     ]
    }
   ],
   "source": []
  },
  {
   "cell_type": "markdown",
   "id": "78e76119",
   "metadata": {},
   "source": [
    "## filter()"
   ]
  },
  {
   "cell_type": "raw",
   "id": "2fd13a3a",
   "metadata": {},
   "source": [
    "2) filter() function takes two arguments - a function and an iterable. \n",
    "It applies the function to each element of the iterable and returns a new iterable with the elements for which the function returns True."
   ]
  },
  {
   "cell_type": "code",
   "execution_count": 55,
   "id": "f40941e9",
   "metadata": {},
   "outputs": [],
   "source": [
    "list_score = [42,71,41,12,8,99]"
   ]
  },
  {
   "cell_type": "code",
   "execution_count": null,
   "id": "0d61c1fb",
   "metadata": {},
   "outputs": [],
   "source": [
    "# filter\n",
    "# filter (fn,iterable object)\n",
    "def even_num(s):\n",
    "    if s%2 !=0:\n",
    "        return s"
   ]
  },
  {
   "cell_type": "code",
   "execution_count": 56,
   "id": "c6ab678b",
   "metadata": {},
   "outputs": [
    {
     "name": "stdout",
     "output_type": "stream",
     "text": [
      "[71, 41, 99]\n"
     ]
    }
   ],
   "source": [
    "print(list(filter(even_num,list_score)))"
   ]
  },
  {
   "cell_type": "code",
   "execution_count": null,
   "id": "7b6562a8",
   "metadata": {},
   "outputs": [],
   "source": []
  },
  {
   "cell_type": "code",
   "execution_count": 57,
   "id": "15615de0",
   "metadata": {},
   "outputs": [
    {
     "name": "stdout",
     "output_type": "stream",
     "text": [
      "[55, 55, 66]\n"
     ]
    }
   ],
   "source": [
    "\n",
    "listE = [22,33,44,55,22,33,44,55,66]\n",
    "listF = []\n",
    "#[55,55,66]\n",
    "\n",
    "for item in listE:\n",
    "    if item > 50:\n",
    "        listF.append(item)\n",
    "print(listF)"
   ]
  },
  {
   "cell_type": "code",
   "execution_count": 58,
   "id": "499721bd",
   "metadata": {},
   "outputs": [
    {
     "name": "stdout",
     "output_type": "stream",
     "text": [
      "[50, 55, 66]\n"
     ]
    }
   ],
   "source": [
    "# filter \n",
    "q5 = list(filter(lambda x:x >= 50,[22,33,44,50,22,33,44,55,66]))\n",
    "print(q5)"
   ]
  },
  {
   "cell_type": "code",
   "execution_count": 59,
   "id": "5d6b3ecb",
   "metadata": {},
   "outputs": [
    {
     "name": "stdout",
     "output_type": "stream",
     "text": [
      "[44, 22, 88]\n"
     ]
    }
   ],
   "source": [
    "listG = [33,44,55,22,3,477,88,99]\n",
    "print(list(filter(lambda x : x%2 == 0,listG))) #even"
   ]
  },
  {
   "cell_type": "code",
   "execution_count": 60,
   "id": "67c2dc77",
   "metadata": {},
   "outputs": [
    {
     "name": "stdout",
     "output_type": "stream",
     "text": [
      "[33, 55, 3, 477, 99]\n"
     ]
    }
   ],
   "source": [
    "print(list(filter(lambda x : x%2 != 0,listG))) # odd"
   ]
  },
  {
   "cell_type": "code",
   "execution_count": 61,
   "id": "7b719332",
   "metadata": {},
   "outputs": [
    {
     "name": "stdout",
     "output_type": "stream",
     "text": [
      "[]\n"
     ]
    }
   ],
   "source": [
    "listF = [\"Priyanka\",\"Raj\",\"Ganesh\"]\n",
    "print(list(filter(lambda x : len(x)  == 4,listF)))"
   ]
  },
  {
   "cell_type": "code",
   "execution_count": 63,
   "id": "2ab6aa99",
   "metadata": {},
   "outputs": [
    {
     "name": "stdout",
     "output_type": "stream",
     "text": [
      "['Ganesh']\n"
     ]
    }
   ],
   "source": [
    "listF = [\"Priyanka\",\"Raj\",\"Ganesh\"]\n",
    "print(list(filter(lambda x : x.startswith(\"G\"),listF)))"
   ]
  },
  {
   "cell_type": "code",
   "execution_count": null,
   "id": "beade39b",
   "metadata": {},
   "outputs": [],
   "source": []
  },
  {
   "cell_type": "markdown",
   "id": "02e8d562",
   "metadata": {},
   "source": [
    "### reduce()"
   ]
  },
  {
   "cell_type": "raw",
   "id": "2c1fb7c4",
   "metadata": {},
   "source": [
    "3) reduce() function takes two arguments - a function and an iterable. It applies the function to the first two elements of the iterable, then applies it to the result and the next element, and so on, until all the elements are processed and a single value is returned"
   ]
  },
  {
   "cell_type": "code",
   "execution_count": 64,
   "id": "f8b8aad0",
   "metadata": {},
   "outputs": [],
   "source": [
    "# reduce\n",
    "def all_sum(x):\n",
    "    s = 0 \n",
    "    for i in x:\n",
    "        s = s + i\n",
    "    return s"
   ]
  },
  {
   "cell_type": "code",
   "execution_count": 65,
   "id": "33d51ae5",
   "metadata": {},
   "outputs": [
    {
     "name": "stdout",
     "output_type": "stream",
     "text": [
      "15\n"
     ]
    }
   ],
   "source": [
    "print(all_sum([1,2,3,4,5]))"
   ]
  },
  {
   "cell_type": "code",
   "execution_count": 71,
   "id": "81017a2a",
   "metadata": {},
   "outputs": [
    {
     "ename": "NameError",
     "evalue": "name 'reduce' is not defined",
     "output_type": "error",
     "traceback": [
      "\u001b[1;31m---------------------------------------------------------------------------\u001b[0m",
      "\u001b[1;31mNameError\u001b[0m                                 Traceback (most recent call last)",
      "\u001b[1;32m~\\AppData\\Local\\Temp\\ipykernel_12636\\4085337314.py\u001b[0m in \u001b[0;36m<module>\u001b[1;34m\u001b[0m\n\u001b[1;32m----> 1\u001b[1;33m \u001b[0mprint\u001b[0m\u001b[1;33m(\u001b[0m\u001b[0mreduce\u001b[0m\u001b[1;33m(\u001b[0m\u001b[1;32mlambda\u001b[0m \u001b[0mx\u001b[0m \u001b[1;33m,\u001b[0m\u001b[0my\u001b[0m\u001b[1;33m:\u001b[0m \u001b[0mx\u001b[0m\u001b[1;33m+\u001b[0m\u001b[0my\u001b[0m \u001b[1;33m,\u001b[0m\u001b[1;33m[\u001b[0m\u001b[1;36m1\u001b[0m\u001b[1;33m,\u001b[0m\u001b[1;36m2\u001b[0m\u001b[1;33m,\u001b[0m\u001b[1;36m3\u001b[0m\u001b[1;33m,\u001b[0m\u001b[1;36m4\u001b[0m\u001b[1;33m,\u001b[0m\u001b[1;36m5\u001b[0m\u001b[1;33m]\u001b[0m\u001b[1;33m)\u001b[0m\u001b[1;33m)\u001b[0m\u001b[1;33m\u001b[0m\u001b[1;33m\u001b[0m\u001b[0m\n\u001b[0m",
      "\u001b[1;31mNameError\u001b[0m: name 'reduce' is not defined"
     ]
    }
   ],
   "source": [
    "print(reduce(lambda x ,y: x+y ,[1,2,3,4,5]))"
   ]
  },
  {
   "cell_type": "code",
   "execution_count": 73,
   "id": "89bbb327",
   "metadata": {},
   "outputs": [],
   "source": [
    "from functools import reduce"
   ]
  },
  {
   "cell_type": "code",
   "execution_count": 74,
   "id": "7743afae",
   "metadata": {},
   "outputs": [
    {
     "name": "stdout",
     "output_type": "stream",
     "text": [
      "120\n"
     ]
    }
   ],
   "source": [
    "print(reduce(lambda x ,y: x*y ,[1,2,3,4,5]))"
   ]
  },
  {
   "cell_type": "code",
   "execution_count": null,
   "id": "e1200c18",
   "metadata": {},
   "outputs": [],
   "source": []
  },
  {
   "cell_type": "code",
   "execution_count": 75,
   "id": "da6df30b",
   "metadata": {},
   "outputs": [
    {
     "name": "stdout",
     "output_type": "stream",
     "text": [
      "18\n"
     ]
    }
   ],
   "source": [
    "\n",
    "listG = [1,2,5,10] # 18\n",
    "sum = 0    # acc\n",
    "\n",
    "for item in listG:\n",
    "    sum = sum + item\n",
    "print(sum)"
   ]
  },
  {
   "cell_type": "code",
   "execution_count": 76,
   "id": "a5dddac4",
   "metadata": {},
   "outputs": [
    {
     "name": "stdout",
     "output_type": "stream",
     "text": [
      "18\n"
     ]
    }
   ],
   "source": [
    "from functools import reduce\n",
    "\n",
    "print(reduce(lambda x,y:x+y,listG))"
   ]
  },
  {
   "cell_type": "code",
   "execution_count": 77,
   "id": "5ad18da9",
   "metadata": {},
   "outputs": [
    {
     "name": "stdout",
     "output_type": "stream",
     "text": [
      "20\n"
     ]
    }
   ],
   "source": [
    "# print(reduce(lambda acc,nextval:acc+nextval,listG,5))\n",
    "#[1,2,5,10] \n",
    "#acc 2\n",
    "#itr 3 5 10 20\n",
    "print(reduce(lambda x,y:x+y,listG,2))"
   ]
  },
  {
   "cell_type": "code",
   "execution_count": 78,
   "id": "66880e06",
   "metadata": {},
   "outputs": [
    {
     "name": "stdout",
     "output_type": "stream",
     "text": [
      "15\n"
     ]
    }
   ],
   "source": [
    "# reduce\n",
    "def all_sum(x):\n",
    "    s = 0 \n",
    "    for i in x:\n",
    "        s = s + i\n",
    "    return s\n",
    "\n",
    "print(all_sum([1,2,3,4,5]))"
   ]
  },
  {
   "cell_type": "code",
   "execution_count": 79,
   "id": "6ba4a843",
   "metadata": {},
   "outputs": [
    {
     "name": "stdout",
     "output_type": "stream",
     "text": [
      "15\n"
     ]
    }
   ],
   "source": [
    "print(reduce(lambda x ,y: x+y ,[1,2,3,4,5]))"
   ]
  },
  {
   "cell_type": "code",
   "execution_count": 80,
   "id": "7d0b19fe",
   "metadata": {},
   "outputs": [
    {
     "name": "stdout",
     "output_type": "stream",
     "text": [
      "120\n"
     ]
    }
   ],
   "source": [
    "print(reduce(lambda x ,y: x*y ,[1,2,3,4,5]))"
   ]
  },
  {
   "cell_type": "code",
   "execution_count": null,
   "id": "6cc9a8f8",
   "metadata": {},
   "outputs": [],
   "source": []
  },
  {
   "cell_type": "code",
   "execution_count": null,
   "id": "873a2630",
   "metadata": {},
   "outputs": [],
   "source": []
  },
  {
   "cell_type": "code",
   "execution_count": null,
   "id": "5c757424",
   "metadata": {},
   "outputs": [],
   "source": []
  },
  {
   "cell_type": "markdown",
   "id": "35c7885c",
   "metadata": {},
   "source": [
    "## try ... except"
   ]
  },
  {
   "cell_type": "raw",
   "id": "f62e4c4b",
   "metadata": {},
   "source": [
    "try-except blocks are used for error handling. The try block contains the code that may raise an exception, and the except block contains the code that handles the exception.\n",
    "\n",
    "try:\n",
    "    # code that may raise an exception\n",
    "except ExceptionType:\n",
    "    # code to handle the exception"
   ]
  },
  {
   "cell_type": "code",
   "execution_count": 81,
   "id": "dd0e0700",
   "metadata": {},
   "outputs": [
    {
     "ename": "ZeroDivisionError",
     "evalue": "division by zero",
     "output_type": "error",
     "traceback": [
      "\u001b[1;31m---------------------------------------------------------------------------\u001b[0m",
      "\u001b[1;31mZeroDivisionError\u001b[0m                         Traceback (most recent call last)",
      "\u001b[1;32m~\\AppData\\Local\\Temp\\ipykernel_12636\\269081190.py\u001b[0m in \u001b[0;36m<module>\u001b[1;34m\u001b[0m\n\u001b[0;32m      2\u001b[0m \u001b[1;31m#b = 100\u001b[0m\u001b[1;33m\u001b[0m\u001b[1;33m\u001b[0m\u001b[0m\n\u001b[0;32m      3\u001b[0m \u001b[0mb\u001b[0m \u001b[1;33m=\u001b[0m \u001b[1;36m0\u001b[0m\u001b[1;33m\u001b[0m\u001b[1;33m\u001b[0m\u001b[0m\n\u001b[1;32m----> 4\u001b[1;33m \u001b[0mc\u001b[0m \u001b[1;33m=\u001b[0m \u001b[0ma\u001b[0m\u001b[1;33m/\u001b[0m\u001b[0mb\u001b[0m \u001b[1;31m# ZeroDivisionError: division by zero if b = 0\u001b[0m\u001b[1;33m\u001b[0m\u001b[1;33m\u001b[0m\u001b[0m\n\u001b[0m\u001b[0;32m      5\u001b[0m \u001b[0mprint\u001b[0m\u001b[1;33m(\u001b[0m\u001b[0mc\u001b[0m\u001b[1;33m)\u001b[0m\u001b[1;33m\u001b[0m\u001b[1;33m\u001b[0m\u001b[0m\n\u001b[0;32m      6\u001b[0m \u001b[1;33m\u001b[0m\u001b[0m\n",
      "\u001b[1;31mZeroDivisionError\u001b[0m: division by zero"
     ]
    }
   ],
   "source": [
    "a = 10\n",
    "#b = 100\n",
    "b = 0\n",
    "c = a/b # ZeroDivisionError: division by zero if b = 0\n",
    "print(c)\n",
    "\n",
    "print(\"ok\")"
   ]
  },
  {
   "cell_type": "code",
   "execution_count": 86,
   "id": "b7c23da7",
   "metadata": {},
   "outputs": [
    {
     "name": "stdout",
     "output_type": "stream",
     "text": [
      "You have enterd wrong value of b , should not be zero\n",
      "ok\n"
     ]
    }
   ],
   "source": [
    "try:\n",
    "    a = 10\n",
    "    # b = 100\n",
    "    b = 0\n",
    "    c = a/b # ZeroDivisionError: division by zero if b = 0\n",
    "    print(c)\n",
    "except ZeroDivisionError as e:   \n",
    "    print(\"You have enterd wrong value of b , should not be zero\")\n",
    "\n",
    "    \n",
    "print(\"ok\")"
   ]
  },
  {
   "cell_type": "code",
   "execution_count": 87,
   "id": "5676b09e",
   "metadata": {},
   "outputs": [
    {
     "name": "stdout",
     "output_type": "stream",
     "text": [
      "You have enterd wrong value of b , should not be zero division by zero\n",
      "ok\n"
     ]
    }
   ],
   "source": [
    "try:\n",
    "    a = 10\n",
    "    # b = 100\n",
    "    b = 0\n",
    "    c = a/b # ZeroDivisionError: division by zero if b = 0\n",
    "    print(c)\n",
    "except ZeroDivisionError as e:   \n",
    "    print(\"You have enterd wrong value of b , should not be zero\",e)\n",
    "\n",
    "    \n",
    "print(\"ok\")"
   ]
  },
  {
   "cell_type": "code",
   "execution_count": 88,
   "id": "bdf29856",
   "metadata": {},
   "outputs": [
    {
     "name": "stdout",
     "output_type": "stream",
     "text": [
      "Something wrong\n"
     ]
    }
   ],
   "source": [
    "try:\n",
    "    a = 10\n",
    "    # b = 100\n",
    "    b = 0\n",
    "    c = a/b # ZeroDivisionError: division by zero if b = 0\n",
    "    print(c)\n",
    "except FileNotFoundError as e:\n",
    "    print(\"Some error occured \", e)\n",
    "except IndexError as e:\n",
    "    print(\"Element not found\" , e )\n",
    "except:\n",
    "    print(\"Something wrong\")"
   ]
  },
  {
   "cell_type": "code",
   "execution_count": 89,
   "id": "da195d60",
   "metadata": {},
   "outputs": [
    {
     "name": "stdout",
     "output_type": "stream",
     "text": [
      "This is int\n",
      "This is int\n",
      "This is int\n",
      "Code Execution was successful\n",
      "Code End\n",
      "Hi\n"
     ]
    }
   ],
   "source": [
    "# 1. catch exception in below code using try... except \n",
    "# else print \" Code Execution was successful\"\n",
    "try:\n",
    "    list_z = [1,2,3,\"a\"]\n",
    "    for i in range(3):\n",
    "        if type(list_z[i]) == int:\n",
    "            print(\"This is int\")\n",
    "        \n",
    "        else:\n",
    "            print(\"This is not int\") \n",
    "except IndexError as e1:\n",
    "    print(\"Error occured is:\",e1)\n",
    "except ZeroDivisionError:\n",
    "    print(\"input should not be zero\")\n",
    "else:\n",
    "    print (\"Code Execution was successful\")\n",
    "finally:\n",
    "    print(\"Code End\")\n",
    "\n",
    "print(\"Hi\")"
   ]
  },
  {
   "cell_type": "code",
   "execution_count": 90,
   "id": "003de270",
   "metadata": {},
   "outputs": [
    {
     "name": "stdout",
     "output_type": "stream",
     "text": [
      "Error occured is: [Errno 2] No such file or directory: 'one.txt'\n",
      "File not found\n"
     ]
    }
   ],
   "source": [
    "# 2. catch exception in below code using try... except\n",
    "# else print \" Code Execution was successful\"\n",
    "# also close the file irrespective of operation on file\n",
    "try:\n",
    "    f = open(r\"one.txt\")\n",
    "    print(f.read())\n",
    "except FileNotFoundError as e2:\n",
    "    print(f\"Error occured is:\",e2)\n",
    "else:\n",
    "    print (\" Code Execution was successful\")\n",
    "finally:\n",
    "    try:\n",
    "        f.close()\n",
    "        print(\"File closed\")\n",
    "    except:\n",
    "        print(\"File not found\" )"
   ]
  },
  {
   "cell_type": "code",
   "execution_count": 27,
   "id": "03597e9d",
   "metadata": {},
   "outputs": [
    {
     "ename": "SyntaxError",
     "evalue": "EOL while scanning string literal (3391841874.py, line 4)",
     "output_type": "error",
     "traceback": [
      "\u001b[1;36m  File \u001b[1;32m\"C:\\Users\\dell\\AppData\\Local\\Temp\\ipykernel_9276\\3391841874.py\"\u001b[1;36m, line \u001b[1;32m4\u001b[0m\n\u001b[1;33m    print(\"Hello World)\u001b[0m\n\u001b[1;37m                       ^\u001b[0m\n\u001b[1;31mSyntaxError\u001b[0m\u001b[1;31m:\u001b[0m EOL while scanning string literal\n"
     ]
    }
   ],
   "source": [
    "# # 3. catch exception in below code using try... except\n",
    "\n",
    "try:\n",
    "    print(\"Hello World)\n",
    "except :\n",
    "    print(\"Error occured is:\")   # syntax erroe not handled"
   ]
  },
  {
   "cell_type": "markdown",
   "id": "8fcc7985",
   "metadata": {},
   "source": [
    "### raise Exception "
   ]
  },
  {
   "cell_type": "code",
   "execution_count": null,
   "id": "07f11e23",
   "metadata": {},
   "outputs": [],
   "source": []
  },
  {
   "cell_type": "code",
   "execution_count": null,
   "id": "02521015",
   "metadata": {},
   "outputs": [],
   "source": [
    "def div1(a):\n",
    "    # a = int(input(\"Enter an non zero number !!!\"))\n",
    "    if a == 0:\n",
    "        raise ZeroDivisionError(\"Enter a non zero num\")\n",
    "    else:\n",
    "        print(100/a)"
   ]
  },
  {
   "cell_type": "code",
   "execution_count": null,
   "id": "6568c5c9",
   "metadata": {},
   "outputs": [],
   "source": []
  },
  {
   "cell_type": "code",
   "execution_count": 117,
   "id": "5d98b17e",
   "metadata": {},
   "outputs": [
    {
     "name": "stdout",
     "output_type": "stream",
     "text": [
      "Enter an even number !!!5\n"
     ]
    },
    {
     "ename": "Exception",
     "evalue": "Enter only even number",
     "output_type": "error",
     "traceback": [
      "\u001b[1;31m---------------------------------------------------------------------------\u001b[0m",
      "\u001b[1;31mException\u001b[0m                                 Traceback (most recent call last)",
      "\u001b[1;32m~\\AppData\\Local\\Temp\\ipykernel_9276\\3554806020.py\u001b[0m in \u001b[0;36m<module>\u001b[1;34m\u001b[0m\n\u001b[0;32m      4\u001b[0m \u001b[0mx\u001b[0m \u001b[1;33m=\u001b[0m \u001b[0mint\u001b[0m\u001b[1;33m(\u001b[0m\u001b[0minput\u001b[0m\u001b[1;33m(\u001b[0m\u001b[1;34m\"Enter an even number !!!\"\u001b[0m\u001b[1;33m)\u001b[0m\u001b[1;33m)\u001b[0m\u001b[1;33m\u001b[0m\u001b[1;33m\u001b[0m\u001b[0m\n\u001b[0;32m      5\u001b[0m \u001b[1;32mif\u001b[0m \u001b[0mx\u001b[0m \u001b[1;33m%\u001b[0m\u001b[1;36m2\u001b[0m \u001b[1;33m!=\u001b[0m \u001b[1;36m0\u001b[0m\u001b[1;33m:\u001b[0m\u001b[1;33m\u001b[0m\u001b[1;33m\u001b[0m\u001b[0m\n\u001b[1;32m----> 6\u001b[1;33m     \u001b[1;32mraise\u001b[0m \u001b[0mException\u001b[0m\u001b[1;33m(\u001b[0m\u001b[1;34m\"Enter only even number\"\u001b[0m\u001b[1;33m)\u001b[0m\u001b[1;33m\u001b[0m\u001b[1;33m\u001b[0m\u001b[0m\n\u001b[0m\u001b[0;32m      7\u001b[0m \u001b[1;32melse\u001b[0m\u001b[1;33m:\u001b[0m\u001b[1;33m\u001b[0m\u001b[1;33m\u001b[0m\u001b[0m\n\u001b[0;32m      8\u001b[0m     \u001b[0mprint\u001b[0m\u001b[1;33m(\u001b[0m\u001b[1;34m\"The number is even \"\u001b[0m\u001b[1;33m)\u001b[0m\u001b[1;33m\u001b[0m\u001b[1;33m\u001b[0m\u001b[0m\n",
      "\u001b[1;31mException\u001b[0m: Enter only even number"
     ]
    }
   ],
   "source": [
    "\n",
    "# user defined exception\n",
    "\n",
    "\n",
    "x = int(input(\"Enter an even number !!!\"))\n",
    "if x %2 != 0:\n",
    "    raise Exception(\"Enter only even number\")\n",
    "else:\n",
    "    print(\"The number is even \")"
   ]
  },
  {
   "cell_type": "code",
   "execution_count": null,
   "id": "6d000937",
   "metadata": {},
   "outputs": [],
   "source": []
  },
  {
   "cell_type": "markdown",
   "id": "8cb8ea35",
   "metadata": {},
   "source": [
    "## Regular Expression (RegEx)"
   ]
  },
  {
   "cell_type": "raw",
   "id": "6c0dda42",
   "metadata": {},
   "source": [
    "# A Regular Expression (RegEx) is a sequence of \n",
    "# characters that defines a search pattern\n",
    "A RegEx, or Regular Expression, is a sequence of characters that forms a search pattern.\n",
    "\n",
    "RegEx can be used to check if a string contains the specified search pattern."
   ]
  },
  {
   "cell_type": "code",
   "execution_count": null,
   "id": "8d014c49",
   "metadata": {},
   "outputs": [],
   "source": [
    "# Python has a built-in package called re, which can be used to work with Regular Expressions.\n",
    "\n",
    "import re"
   ]
  },
  {
   "cell_type": "raw",
   "id": "150df039",
   "metadata": {},
   "source": [
    "Function\tDescription\n",
    "\n",
    "findall\t    Returns a list containing all matches\n",
    "search\t    Returns a Match object if there is a match anywhere in the string\n",
    "split\t    Returns a list where the string has been split at each match\n",
    "sub\t        Replaces one or many matches with a string"
   ]
  },
  {
   "cell_type": "code",
   "execution_count": null,
   "id": "11b39e41",
   "metadata": {},
   "outputs": [],
   "source": [
    "\n",
    "# If the search is successful, re.search() returns a \n",
    "# match object; if not, it returns None.\n",
    "# match = re.search(pattern, str)\n",
    "str = \"sun mop run\"  # 'm\\w\\w' // [a-z][A-Z][0-9] // nor special symbol\n",
    "\n",
    "# re.search(regex,str)\n",
    "e = re.search(r'm\\w\\w',str)\n",
    "print(e)\n",
    "print(e.group())\n",
    "print(\"-------\")\n",
    "#program2\n",
    "str2 = \"i am leanring langauge\"\n",
    "e2 = re.search(r'an\\w\\w',str2)\n",
    "print(e2.group())\n",
    "\n",
    "print(\"------------findall----------------\")\n",
    "# The re.findall() method returns a list of strings\n",
    "#  containing all matches.\n",
    "# If the pattern is not found, re.findall() \n",
    "# returns an empty list.\n",
    "# program3\n",
    "str3 = \"sun mop run man mat\" \n",
    "e3 = re.findall(r'm\\w\\w',str3)\n",
    "print(e3)\n",
    "for item in e3:\n",
    "    print(item)\n",
    "\n",
    "#program4\n",
    "str4 = \"sun sand surface sub\"\n",
    "e4 = re.findall(r'su\\w',str4)\n",
    "print(e4)\n",
    "for item in e4:\n",
    "    print(item)\n",
    "\n",
    "print(\"------------match----------------\")\n",
    "\n",
    "#program5\n",
    "str5 = \"sun sand surface sub\"\n",
    "e6 = re.match(r's\\w\\w',str5)\n",
    "\n",
    "if e6:\n",
    "    print('occurence found')\n",
    "    print(e6.group())\n",
    "else:\n",
    "    print('no occurence')\n",
    "\n",
    "print(\"------------sub----------------\")\n",
    "# The syntax of re.sub() is: re.sub(pattern, replace, string)\n",
    "# The method returns a string where matched occurrences are \n",
    "# replaced with the content of replace variable.\n",
    "#program6\n",
    "str6 = \"I am learning javascript\"\n",
    "e7 = re.sub(r'javascript','java',str6)\n",
    "print(e7)\n",
    "\n",
    "#split()"
   ]
  },
  {
   "cell_type": "code",
   "execution_count": null,
   "id": "3b358fc5",
   "metadata": {},
   "outputs": [],
   "source": []
  },
  {
   "cell_type": "code",
   "execution_count": null,
   "id": "27ecc5cf",
   "metadata": {},
   "outputs": [],
   "source": [
    "#search \n",
    "#findAll\n",
    "#match\n",
    "#sub()\n",
    "#split()\n",
    "\n",
    "import re\n",
    "str = 'sun mop run man' \n",
    " # m[a-z A-Z 0-9][a-z A-Z 0-9]\n",
    " #\\w  [a-z A-Z 0-9]\n",
    " #\\W ![a-z A-Z 0-9]\n",
    "e = re.search(r'm\\w\\w',str)\n",
    "#print(e)\n",
    "#print(e.group())\n",
    "if e:\n",
    "    print('match found')\n",
    "    print(e.group())\n",
    "else:\n",
    "    print('not found')\n",
    "\n",
    "#program 2\n",
    "str2 = 'sun mop run man mad' \n",
    "e2 = re.findall(r'm\\w\\w',str2)\n",
    "#[] list is considered as falsy value in python\n",
    "print(e2)\n",
    "if e2:\n",
    "    print('elements found')\n",
    "    print(e2)\n",
    "    for item in e2:\n",
    "        print(item)\n",
    "else:\n",
    "    print('not found')\n",
    "\n",
    "#program3\n",
    "#match()\n",
    "str3 = \"qaq sad sun say some mad\"\n",
    "e4 = re.match(r's\\w\\w',str3)\n",
    "if e4:\n",
    "    print('pattern match')\n",
    "    print(e4.group())\n",
    "else:\n",
    "    print('not found')\n",
    "\n",
    "# search    object  none \n",
    "# findall   list     []\n",
    "# match     object   None\n",
    "\n",
    "#program 4\n",
    "#replace\n",
    "#sub\n",
    "str4 = 'I am learning javascript'\n",
    "e5 = re.sub(r'javascript','java',str4)\n",
    "print(e5)\n",
    "\n",
    "\n",
    "#program5\n",
    "#Split()\n",
    "str5 = 'This ; us the: \"Core\" Python\\'s tutorial'\n",
    "#str5 = 'ThisustheCorePythontutorial'\n",
    "# [a-z] [A-Z] [0-9]\n",
    "e7= re.split(r'\\W+',str5)\n",
    "print(e7)\n",
    "\n",
    "# search    - object ---- none\n",
    "# findall   - list   ---- []\n",
    "# match     - obj    ---- none\n",
    "# sub       - str    ----- str\n",
    "# split     - list   ----- list"
   ]
  },
  {
   "cell_type": "code",
   "execution_count": null,
   "id": "aec03af5",
   "metadata": {},
   "outputs": [],
   "source": []
  },
  {
   "cell_type": "code",
   "execution_count": null,
   "id": "08ad0bca",
   "metadata": {},
   "outputs": [],
   "source": [
    "# # \\w [a-z][A-Z][0-9]\n",
    "\n",
    "import re\n",
    "# str = 'qas man sun mop run'\n",
    "# e1 = re.search(r'm\\w\\w',str)\n",
    "# if e1:\n",
    "#     print('pattern find')\n",
    "#     print(e1.group())\n",
    "# else:\n",
    "#     print('patter not found')\n",
    "\n",
    "# # program 2\n",
    "# str2 = 'qas man sun mop run'\n",
    "# e2 = re.findall(r'm\\w\\w',str2)\n",
    "# #[] falsy value\n",
    "# if e2:\n",
    "#     print('pattern found')\n",
    "#     for item in e2:\n",
    "#         print(item)\n",
    "# else:\n",
    "#     print('pattern not found')\n",
    "\n",
    "# #program 3\n",
    "# str3 ='mas man sun mop run'\n",
    "# e3 = re.match(r'm\\w\\w',str3)\n",
    "# if e3:\n",
    "#     print('match found')\n",
    "#     print(e3.group())\n",
    "# else:\n",
    "#     print('match not found')\n",
    "\n",
    "# #program 4\n",
    "# str4 = \"i am learning javascript\"\n",
    "# e4 = re.sub(r'javascript','java',str4)\n",
    "# print(e4)\n",
    "\n",
    "# # program5\n",
    "# #\\W non alphanumeric not [a-z][A-Z][0-9]\n",
    "str5 = 'This ; is the \"Core\" python\\'s book'\n",
    "e5 =re.split(r'\\W+',str5)\n",
    "print(e5)\n",
    "\n",
    "\n",
    "e5 =re.split(r'\\W',str5)\n",
    "print(e5)\n",
    "\n",
    "print(\"--------------------\")\n",
    "# #-----------------------------------------------------\n",
    "# #\\w  ===>  [a-z] [A-Z][0-9]\n",
    "# #\\b     ===> \" \"\n",
    "# #\\W     ===> not [a-z][A-Z][0-9]\n",
    "# #\\d     ===> [0,9]\n",
    "\n",
    "str6 = 'an apple a day keeps the doctor away'\n",
    "e6 = re.findall(r'\\ba[\\w]*\\b',str6)\n",
    "print(e6)\n",
    "# e6 = re.findall(r'\\ba[\\w]*\\b',str6)\n",
    "# print(e6)\n",
    "\n",
    "# #* 0 or more reptitions  0 > 2\n",
    "# #+ 1 or more repetation  1, more repetion\n",
    "\n",
    "# # an \n",
    "# # apple\n",
    "# #away\n",
    "# #ay\n",
    "# #a\n",
    "print(\"lllllllllllllllllllllllllll\")\n",
    "#program6\n",
    "str7 = \"I belong to 21st century not 19th century\"\n",
    "e7 = re.findall(r'\\d[\\w]*',str7)\n",
    "print(e7)\n",
    "e7 = re.findall(r'\\d[\\w]+',str7)\n",
    "print(e7)\n",
    "e7 = re.findall(r'\\d[\\w+]',str7)\n",
    "print(e7)\n",
    "e7 = re.findall(r'\\d[\\w*]',str7)\n",
    "print(e7)\n",
    "\n",
    "\n",
    "\n",
    "# e8 = re.findall(r'\\d',str7)\n",
    "# print(e8)\n",
    "\n",
    "\n",
    "# # +\n",
    "# # *\n",
    "# # \\b at the  beginning and ending\n",
    "\n",
    "\n",
    "# # \\w [a-z][A-Z][0-9]\n",
    "# # \\W not [a-z][A-Z][0-9]\n",
    "# # \\b  \" \"\n",
    "# # \\d [0-9]\n",
    "\n",
    "print(\"lllllllllllllllllllllllllll\")\n",
    "a= \"This is python support session\"\n",
    "# b=re.findall(r\"[a-r]\",a)\n",
    "# print(b)\n",
    "b=re.findall(r\"\\w\\wp\\w+\",a)\n",
    "print(b)\n",
    "# b=re.findall(r\"/bp[\\w]*\",a)\n",
    "# print(b)\n",
    "\n"
   ]
  },
  {
   "cell_type": "code",
   "execution_count": null,
   "id": "cdefff93",
   "metadata": {},
   "outputs": [],
   "source": []
  },
  {
   "cell_type": "code",
   "execution_count": null,
   "id": "0807de31",
   "metadata": {},
   "outputs": [],
   "source": [
    "import re \n",
    "# [a-z A-Z 0-9]\n",
    "str = 'an apple a day keeps doctor away'\n",
    "e  = re.findall(r'a[\\w]*',str)\n",
    "print(e)\n",
    "\n",
    "e2 = re.findall(r'\\ba[\\w]*\\b',str)\n",
    "print(e2)\n",
    "\n",
    "#program2\n",
    "str2 = 'The meeting will be conducted on 1st and 21st of every month'\n",
    "e3 = re.findall(r'\\d[\\w]*',str2)\n",
    "print(e3)\n",
    "\n",
    "#program3\n",
    "str2 = \"one two three four five six seven 8 9 10\"\n",
    "e4 = re.search(r'\\b\\w{5}\\b',str2)\n",
    "print(e4.group())\n",
    "\n",
    "e5 = re.findall(r'\\b\\w{5}\\b',str2) #[a-zA-z0-9]\n",
    "print(e5)\n",
    "\n",
    "#program4 (four or more)\n",
    "e6 = re.findall(r'\\b\\w{4,}\\b',str2)\n",
    "print(e6)\n",
    "\n",
    "#program5(minimum3 and maximum5)\n",
    "\n",
    "e6 = re.findall(r'\\b\\w{3,5}\\b',str2)\n",
    "print(e6)\n",
    "\n",
    "#str2 = \"one two three four five six seven 8 9 10\"\n",
    "e7 = re.findall(r'\\b\\d{1,}\\b',str2)\n",
    "print(e7)"
   ]
  },
  {
   "cell_type": "code",
   "execution_count": null,
   "id": "1f8731d4",
   "metadata": {},
   "outputs": [],
   "source": []
  },
  {
   "cell_type": "code",
   "execution_count": null,
   "id": "2d2f181c",
   "metadata": {},
   "outputs": [],
   "source": []
  },
  {
   "cell_type": "code",
   "execution_count": null,
   "id": "1ca5a4d3",
   "metadata": {},
   "outputs": [],
   "source": []
  },
  {
   "cell_type": "code",
   "execution_count": null,
   "id": "0ee10ae9",
   "metadata": {},
   "outputs": [],
   "source": []
  },
  {
   "cell_type": "code",
   "execution_count": null,
   "id": "e175136e",
   "metadata": {},
   "outputs": [],
   "source": []
  },
  {
   "cell_type": "code",
   "execution_count": null,
   "id": "1391f8f3",
   "metadata": {},
   "outputs": [],
   "source": []
  },
  {
   "cell_type": "markdown",
   "id": "0ab2dee6",
   "metadata": {},
   "source": [
    "# Numpy\n"
   ]
  },
  {
   "cell_type": "raw",
   "id": "50545281",
   "metadata": {},
   "source": [
    "NumPy is a Python package for scientific computing, particularly for numerical operations on large arrays and matrices."
   ]
  },
  {
   "cell_type": "raw",
   "id": "9d66b21c",
   "metadata": {},
   "source": [
    "pip install numpy # For installation"
   ]
  },
  {
   "cell_type": "code",
   "execution_count": 120,
   "id": "75b20e68",
   "metadata": {},
   "outputs": [],
   "source": [
    "import numpy as np   # call\n",
    "#      library  alias"
   ]
  },
  {
   "cell_type": "code",
   "execution_count": 124,
   "id": "2b67ae56",
   "metadata": {},
   "outputs": [
    {
     "name": "stdout",
     "output_type": "stream",
     "text": [
      "[1 2 3]\n"
     ]
    },
    {
     "data": {
      "text/plain": [
       "numpy.ndarray"
      ]
     },
     "execution_count": 124,
     "metadata": {},
     "output_type": "execute_result"
    }
   ],
   "source": [
    "# Create a 1D array\n",
    "a = np.array([1, 2, 3])\n",
    "print(a)\n",
    "type(a)"
   ]
  },
  {
   "cell_type": "code",
   "execution_count": 123,
   "id": "1dd63df5",
   "metadata": {},
   "outputs": [
    {
     "ename": "NameError",
     "evalue": "name 'numpy' is not defined",
     "output_type": "error",
     "traceback": [
      "\u001b[1;31m---------------------------------------------------------------------------\u001b[0m",
      "\u001b[1;31mNameError\u001b[0m                                 Traceback (most recent call last)",
      "\u001b[1;32m~\\AppData\\Local\\Temp\\ipykernel_9276\\3936183250.py\u001b[0m in \u001b[0;36m<module>\u001b[1;34m\u001b[0m\n\u001b[1;32m----> 1\u001b[1;33m \u001b[0ma\u001b[0m \u001b[1;33m=\u001b[0m \u001b[0mnumpy\u001b[0m\u001b[1;33m.\u001b[0m\u001b[0marray\u001b[0m\u001b[1;33m(\u001b[0m\u001b[1;33m[\u001b[0m\u001b[1;36m1\u001b[0m\u001b[1;33m,\u001b[0m \u001b[1;36m2\u001b[0m\u001b[1;33m,\u001b[0m \u001b[1;36m3\u001b[0m\u001b[1;33m]\u001b[0m\u001b[1;33m)\u001b[0m\u001b[1;33m\u001b[0m\u001b[1;33m\u001b[0m\u001b[0m\n\u001b[0m",
      "\u001b[1;31mNameError\u001b[0m: name 'numpy' is not defined"
     ]
    }
   ],
   "source": [
    "a = numpy.array([1, 2, 3])"
   ]
  },
  {
   "cell_type": "code",
   "execution_count": 132,
   "id": "24187947",
   "metadata": {},
   "outputs": [
    {
     "name": "stdout",
     "output_type": "stream",
     "text": [
      "[1, 2, 3, 4, 5, 6, 7, 8, 9]\n",
      "<class 'list'>\n"
     ]
    }
   ],
   "source": [
    "z = [1,2,3,4,5,6,7,8,9]\n",
    "print(z)\n",
    "print(type(z))"
   ]
  },
  {
   "cell_type": "code",
   "execution_count": 134,
   "id": "d8f4bb89",
   "metadata": {},
   "outputs": [
    {
     "data": {
      "text/plain": [
       "array([2, 3, 4])"
      ]
     },
     "execution_count": 134,
     "metadata": {},
     "output_type": "execute_result"
    }
   ],
   "source": [
    "b = np.array([2,3,4])\n",
    "b"
   ]
  },
  {
   "cell_type": "code",
   "execution_count": 135,
   "id": "700c683c",
   "metadata": {},
   "outputs": [
    {
     "name": "stdout",
     "output_type": "stream",
     "text": [
      "<class 'numpy.ndarray'>\n"
     ]
    }
   ],
   "source": [
    "b = np.array(z)\n",
    "print(type(b))"
   ]
  },
  {
   "cell_type": "code",
   "execution_count": 136,
   "id": "feb9339a",
   "metadata": {},
   "outputs": [
    {
     "name": "stdout",
     "output_type": "stream",
     "text": [
      "[1, 2, 3, 4, 5, 6, 7, 8, 9]\n",
      "[1 2 3 4 5 6 7 8 9]\n"
     ]
    }
   ],
   "source": [
    "print(z)   # list\n",
    "print(b)   # array"
   ]
  },
  {
   "cell_type": "code",
   "execution_count": 137,
   "id": "80dd079d",
   "metadata": {},
   "outputs": [
    {
     "data": {
      "text/plain": [
       "[1, 2, 3, 4, 5, 6, 7, 8, 9, 1, 2, 3, 4, 5, 6, 7, 8, 9]"
      ]
     },
     "execution_count": 137,
     "metadata": {},
     "output_type": "execute_result"
    }
   ],
   "source": [
    "z*2"
   ]
  },
  {
   "cell_type": "code",
   "execution_count": 138,
   "id": "cb0435b4",
   "metadata": {},
   "outputs": [
    {
     "data": {
      "text/plain": [
       "array([ 2,  4,  6,  8, 10, 12, 14, 16, 18])"
      ]
     },
     "execution_count": 138,
     "metadata": {},
     "output_type": "execute_result"
    }
   ],
   "source": [
    "b*2"
   ]
  },
  {
   "cell_type": "code",
   "execution_count": 180,
   "id": "6c444a7b",
   "metadata": {},
   "outputs": [
    {
     "data": {
      "text/plain": [
       "array([1, 2, 3, 4, 5])"
      ]
     },
     "execution_count": 180,
     "metadata": {},
     "output_type": "execute_result"
    }
   ],
   "source": [
    "a = np.array([1, 2, 3, 4, 5])\n",
    "a"
   ]
  },
  {
   "cell_type": "code",
   "execution_count": 181,
   "id": "393d8bfc",
   "metadata": {},
   "outputs": [],
   "source": [
    "b = np.array([1, 4,6,8,8])"
   ]
  },
  {
   "cell_type": "code",
   "execution_count": 182,
   "id": "a608aec2",
   "metadata": {},
   "outputs": [
    {
     "data": {
      "text/plain": [
       "array([ 2,  6,  9, 12, 13])"
      ]
     },
     "execution_count": 182,
     "metadata": {},
     "output_type": "execute_result"
    }
   ],
   "source": [
    "a+b"
   ]
  },
  {
   "cell_type": "code",
   "execution_count": null,
   "id": "814b3540",
   "metadata": {},
   "outputs": [],
   "source": []
  },
  {
   "cell_type": "code",
   "execution_count": 10,
   "id": "412f95e2",
   "metadata": {},
   "outputs": [
    {
     "data": {
      "text/plain": [
       "'My name is \\n Raj'"
      ]
     },
     "execution_count": 10,
     "metadata": {},
     "output_type": "execute_result"
    }
   ],
   "source": [
    "a = \"My name is \\n Raj\"\n",
    "a"
   ]
  },
  {
   "cell_type": "code",
   "execution_count": 11,
   "id": "4779616c",
   "metadata": {},
   "outputs": [
    {
     "name": "stdout",
     "output_type": "stream",
     "text": [
      "My name is \n",
      " Raj\n"
     ]
    }
   ],
   "source": [
    "print(a)"
   ]
  },
  {
   "cell_type": "code",
   "execution_count": null,
   "id": "66e2223e",
   "metadata": {},
   "outputs": [],
   "source": []
  },
  {
   "cell_type": "code",
   "execution_count": 140,
   "id": "00922170",
   "metadata": {},
   "outputs": [
    {
     "name": "stdout",
     "output_type": "stream",
     "text": [
      "(5,)\n"
     ]
    }
   ],
   "source": [
    "# Get the shape of an array\n",
    "print(a.shape)"
   ]
  },
  {
   "cell_type": "code",
   "execution_count": 62,
   "id": "dcdbfe32",
   "metadata": {},
   "outputs": [
    {
     "name": "stdout",
     "output_type": "stream",
     "text": [
      "float64\n"
     ]
    }
   ],
   "source": []
  },
  {
   "cell_type": "code",
   "execution_count": 63,
   "id": "0171998e",
   "metadata": {},
   "outputs": [
    {
     "name": "stdout",
     "output_type": "stream",
     "text": [
      "1\n"
     ]
    }
   ],
   "source": [
    "# Get the number of dimensions of an array\n",
    "print(a.ndim)"
   ]
  },
  {
   "cell_type": "code",
   "execution_count": null,
   "id": "8058648c",
   "metadata": {},
   "outputs": [],
   "source": []
  },
  {
   "cell_type": "code",
   "execution_count": 45,
   "id": "895357cc",
   "metadata": {},
   "outputs": [
    {
     "name": "stdout",
     "output_type": "stream",
     "text": [
      "[ 0  1  2  3  4  5  6  7  8  9 10 11 12 13 14]\n",
      "<class 'numpy.ndarray'>\n"
     ]
    }
   ],
   "source": [
    "# Creating arrays\n",
    "\n",
    "# 1D array\n",
    "a1 = np.arange(15) # same as range \n",
    "print(a1)\n",
    "print(type(a1))"
   ]
  },
  {
   "cell_type": "code",
   "execution_count": null,
   "id": "93bbc915",
   "metadata": {},
   "outputs": [],
   "source": []
  },
  {
   "cell_type": "code",
   "execution_count": 144,
   "id": "f1233b88",
   "metadata": {},
   "outputs": [
    {
     "name": "stdout",
     "output_type": "stream",
     "text": [
      "[0 1 2 3 4]\n",
      "<class 'numpy.ndarray'>\n"
     ]
    }
   ],
   "source": [
    "a1 = np.arange(5) # same as range \n",
    "print(a1)\n",
    "print(type(a1))"
   ]
  },
  {
   "cell_type": "code",
   "execution_count": 145,
   "id": "2b7cff35",
   "metadata": {},
   "outputs": [
    {
     "name": "stdout",
     "output_type": "stream",
     "text": [
      "[[1 2 3]\n",
      " [4 5 6]]\n"
     ]
    }
   ],
   "source": [
    "# Create a 2D array\n",
    "b = np.array([[1, 2, 3], [4, 5, 6]])\n",
    "print(b)"
   ]
  },
  {
   "cell_type": "code",
   "execution_count": 146,
   "id": "a9a63494",
   "metadata": {},
   "outputs": [
    {
     "name": "stdout",
     "output_type": "stream",
     "text": [
      "[[1 2 3 4 5 6 7 8 9]\n",
      " [1 2 3 4 5 6 7 8 9]]\n",
      "<class 'numpy.ndarray'>\n"
     ]
    }
   ],
   "source": [
    "#2D array\n",
    "\n",
    "z2 = [[1,2,3,4,5,6,7,8,9] , [1,2,3,4,5,6,7,8,9]]\n",
    "a = np.array(z2)\n",
    "print(a)\n",
    "print(type(a))"
   ]
  },
  {
   "cell_type": "code",
   "execution_count": 147,
   "id": "bd391a84",
   "metadata": {},
   "outputs": [
    {
     "name": "stdout",
     "output_type": "stream",
     "text": [
      "(2, 9)\n"
     ]
    }
   ],
   "source": [
    "# Get the shape of an array\n",
    "print(a.shape)"
   ]
  },
  {
   "cell_type": "code",
   "execution_count": 66,
   "id": "dc8dde5b",
   "metadata": {},
   "outputs": [
    {
     "name": "stdout",
     "output_type": "stream",
     "text": [
      "int32\n"
     ]
    }
   ],
   "source": []
  },
  {
   "cell_type": "code",
   "execution_count": 149,
   "id": "846dc281",
   "metadata": {},
   "outputs": [
    {
     "name": "stdout",
     "output_type": "stream",
     "text": [
      "2\n"
     ]
    }
   ],
   "source": [
    "# Get the number of dimensions of an array\n",
    "print(a.ndim)"
   ]
  },
  {
   "cell_type": "code",
   "execution_count": 150,
   "id": "96ca55f0",
   "metadata": {},
   "outputs": [
    {
     "name": "stdout",
     "output_type": "stream",
     "text": [
      "[0 1 2 3 4 5 6 7 8 9]\n"
     ]
    }
   ],
   "source": [
    "# creating array \n",
    "\n",
    "a = np.arange(10)\n",
    "print(a)"
   ]
  },
  {
   "cell_type": "code",
   "execution_count": 151,
   "id": "ce26f82c",
   "metadata": {},
   "outputs": [
    {
     "name": "stdout",
     "output_type": "stream",
     "text": [
      "[15 16 17 18 19 20 21 22 23 24]\n"
     ]
    }
   ],
   "source": [
    "a = np.arange(15,25)\n",
    "print(a)"
   ]
  },
  {
   "cell_type": "code",
   "execution_count": 152,
   "id": "6c653e17",
   "metadata": {},
   "outputs": [
    {
     "name": "stdout",
     "output_type": "stream",
     "text": [
      "[ 0  1  2  3  4  5  6  7  8  9 10 11 12 13 14 15 16 17 18 19 20 21 22 23\n",
      " 24 25 26 27 28 29 30 31 32 33 34 35 36 37 38 39 40 41 42 43 44 45 46 47\n",
      " 48 49 50 51 52 53 54 55 56 57 58 59 60 61 62 63 64 65 66 67 68 69 70 71\n",
      " 72 73 74 75 76 77 78 79 80 81 82 83 84 85 86 87 88 89 90 91 92 93 94 95\n",
      " 96 97 98 99]\n"
     ]
    }
   ],
   "source": [
    "a = np.arange(0,100)\n",
    "print(a)"
   ]
  },
  {
   "cell_type": "code",
   "execution_count": 153,
   "id": "b4a6dbc1",
   "metadata": {},
   "outputs": [
    {
     "name": "stdout",
     "output_type": "stream",
     "text": [
      "[ 0  5 10 15 20 25 30 35 40 45 50 55 60 65 70 75 80 85 90 95]\n"
     ]
    }
   ],
   "source": [
    "# np.arange(start,stop,stepsize)\n",
    "a = np.arange(0,100,5)\n",
    "print(a)"
   ]
  },
  {
   "cell_type": "code",
   "execution_count": 154,
   "id": "4f2554d3",
   "metadata": {},
   "outputs": [
    {
     "name": "stdout",
     "output_type": "stream",
     "text": [
      "[ 0 10 20 30 40 50 60 70 80 90]\n"
     ]
    }
   ],
   "source": [
    "a = np.arange(0,100,10)\n",
    "print(a)"
   ]
  },
  {
   "cell_type": "code",
   "execution_count": 157,
   "id": "b0be9fcc",
   "metadata": {},
   "outputs": [
    {
     "ename": "TypeError",
     "evalue": "'float' object cannot be interpreted as an integer",
     "output_type": "error",
     "traceback": [
      "\u001b[1;31m---------------------------------------------------------------------------\u001b[0m",
      "\u001b[1;31mTypeError\u001b[0m                                 Traceback (most recent call last)",
      "\u001b[1;32m~\\AppData\\Local\\Temp\\ipykernel_9276\\594071752.py\u001b[0m in \u001b[0;36m<module>\u001b[1;34m\u001b[0m\n\u001b[1;32m----> 1\u001b[1;33m \u001b[0ma\u001b[0m \u001b[1;33m=\u001b[0m \u001b[0mlist\u001b[0m\u001b[1;33m(\u001b[0m\u001b[0mrange\u001b[0m\u001b[1;33m(\u001b[0m\u001b[1;36m0\u001b[0m\u001b[1;33m,\u001b[0m\u001b[1;36m100\u001b[0m\u001b[1;33m,\u001b[0m\u001b[1;36m0.5\u001b[0m\u001b[1;33m)\u001b[0m\u001b[1;33m)\u001b[0m\u001b[1;33m\u001b[0m\u001b[1;33m\u001b[0m\u001b[0m\n\u001b[0m\u001b[0;32m      2\u001b[0m \u001b[0mprint\u001b[0m\u001b[1;33m(\u001b[0m\u001b[0ma\u001b[0m\u001b[1;33m)\u001b[0m\u001b[1;33m\u001b[0m\u001b[1;33m\u001b[0m\u001b[0m\n",
      "\u001b[1;31mTypeError\u001b[0m: 'float' object cannot be interpreted as an integer"
     ]
    }
   ],
   "source": [
    "a = list(range(0,100,0.5))\n",
    "print(a)"
   ]
  },
  {
   "cell_type": "code",
   "execution_count": 155,
   "id": "91739b8b",
   "metadata": {},
   "outputs": [
    {
     "name": "stdout",
     "output_type": "stream",
     "text": [
      "[0.  0.5 1.  1.5 2.  2.5 3.  3.5 4.  4.5 5.  5.5 6.  6.5 7.  7.5 8.  8.5\n",
      " 9.  9.5]\n"
     ]
    }
   ],
   "source": [
    "a = np.arange(0,10,.5) # fractional step count is allowed \n",
    "print(a)"
   ]
  },
  {
   "cell_type": "code",
   "execution_count": null,
   "id": "bceacb0d",
   "metadata": {},
   "outputs": [],
   "source": []
  },
  {
   "cell_type": "code",
   "execution_count": null,
   "id": "13cf62aa",
   "metadata": {},
   "outputs": [],
   "source": [
    "# reshape to convert the array dimension\n",
    "# 2D array"
   ]
  },
  {
   "cell_type": "code",
   "execution_count": 158,
   "id": "fcedd83c",
   "metadata": {},
   "outputs": [],
   "source": [
    "a = np.arange(15)"
   ]
  },
  {
   "cell_type": "code",
   "execution_count": 159,
   "id": "974029e3",
   "metadata": {},
   "outputs": [
    {
     "data": {
      "text/plain": [
       "array([ 0,  1,  2,  3,  4,  5,  6,  7,  8,  9, 10, 11, 12, 13, 14])"
      ]
     },
     "execution_count": 159,
     "metadata": {},
     "output_type": "execute_result"
    }
   ],
   "source": [
    "a "
   ]
  },
  {
   "cell_type": "code",
   "execution_count": 160,
   "id": "d6d4388a",
   "metadata": {},
   "outputs": [
    {
     "name": "stdout",
     "output_type": "stream",
     "text": [
      "[[ 0  1  2  3  4  5  6  7  8  9 10 11 12 13 14]]\n"
     ]
    }
   ],
   "source": [
    "a = np.arange(15).reshape(1,15)\n",
    "print(a)"
   ]
  },
  {
   "cell_type": "code",
   "execution_count": 161,
   "id": "6416863f",
   "metadata": {},
   "outputs": [
    {
     "ename": "ValueError",
     "evalue": "cannot reshape array of size 15 into shape (2,7)",
     "output_type": "error",
     "traceback": [
      "\u001b[1;31m---------------------------------------------------------------------------\u001b[0m",
      "\u001b[1;31mValueError\u001b[0m                                Traceback (most recent call last)",
      "\u001b[1;32m~\\AppData\\Local\\Temp\\ipykernel_9276\\3393057466.py\u001b[0m in \u001b[0;36m<module>\u001b[1;34m\u001b[0m\n\u001b[1;32m----> 1\u001b[1;33m \u001b[0ma\u001b[0m \u001b[1;33m=\u001b[0m \u001b[0mnp\u001b[0m\u001b[1;33m.\u001b[0m\u001b[0marange\u001b[0m\u001b[1;33m(\u001b[0m\u001b[1;36m15\u001b[0m\u001b[1;33m)\u001b[0m\u001b[1;33m.\u001b[0m\u001b[0mreshape\u001b[0m\u001b[1;33m(\u001b[0m\u001b[1;36m2\u001b[0m\u001b[1;33m,\u001b[0m\u001b[1;36m7\u001b[0m\u001b[1;33m)\u001b[0m\u001b[1;33m\u001b[0m\u001b[1;33m\u001b[0m\u001b[0m\n\u001b[0m\u001b[0;32m      2\u001b[0m \u001b[0mprint\u001b[0m\u001b[1;33m(\u001b[0m\u001b[0ma\u001b[0m\u001b[1;33m)\u001b[0m\u001b[1;33m\u001b[0m\u001b[1;33m\u001b[0m\u001b[0m\n",
      "\u001b[1;31mValueError\u001b[0m: cannot reshape array of size 15 into shape (2,7)"
     ]
    }
   ],
   "source": [
    "a = np.arange(15).reshape(2,7)\n",
    "print(a)"
   ]
  },
  {
   "cell_type": "code",
   "execution_count": 162,
   "id": "6fb84602",
   "metadata": {},
   "outputs": [
    {
     "name": "stdout",
     "output_type": "stream",
     "text": [
      "[ 0  1  2  3  4  5  6  7  8  9 10 11 12 13 14 15]\n"
     ]
    }
   ],
   "source": [
    "a = np.arange(16)\n",
    "print(a)"
   ]
  },
  {
   "cell_type": "code",
   "execution_count": 165,
   "id": "82897715",
   "metadata": {},
   "outputs": [
    {
     "name": "stdout",
     "output_type": "stream",
     "text": [
      "[[ 0  1  2  3  4  5  6  7]\n",
      " [ 8  9 10 11 12 13 14 15]]\n"
     ]
    }
   ],
   "source": [
    "a = np.arange(16).reshape(2,8)\n",
    "print(a)"
   ]
  },
  {
   "cell_type": "code",
   "execution_count": 166,
   "id": "cae9f891",
   "metadata": {},
   "outputs": [
    {
     "name": "stdout",
     "output_type": "stream",
     "text": [
      "[[ 0  1  2  3]\n",
      " [ 4  5  6  7]\n",
      " [ 8  9 10 11]\n",
      " [12 13 14 15]]\n"
     ]
    }
   ],
   "source": [
    "a = np.arange(16).reshape(4,4)\n",
    "print(a)"
   ]
  },
  {
   "cell_type": "code",
   "execution_count": null,
   "id": "dcefb23a",
   "metadata": {},
   "outputs": [],
   "source": []
  },
  {
   "cell_type": "code",
   "execution_count": 168,
   "id": "dac4d9fe",
   "metadata": {},
   "outputs": [
    {
     "name": "stdout",
     "output_type": "stream",
     "text": [
      "[[ 1  2  3  4]\n",
      " [ 5  6  7  8]\n",
      " [ 9 10 11 12]\n",
      " [13 14 15 16]]\n"
     ]
    }
   ],
   "source": [
    "a = np.array([[1,2,3,4],[5,6,7,8],[9,10,11,12],[13,14,15,16]]) # Matrix of 4x4\n",
    "print(a)"
   ]
  },
  {
   "cell_type": "code",
   "execution_count": 169,
   "id": "deb5fc03",
   "metadata": {},
   "outputs": [
    {
     "name": "stdout",
     "output_type": "stream",
     "text": [
      "[[ 1  2  3  4  5  6  7  8]\n",
      " [ 9 10 11 12 13 14 15 16]]\n"
     ]
    }
   ],
   "source": [
    "a = a.reshape(2,8) # Reshape 2x8\n",
    "print(a)"
   ]
  },
  {
   "cell_type": "code",
   "execution_count": 170,
   "id": "9c63a914",
   "metadata": {},
   "outputs": [
    {
     "name": "stdout",
     "output_type": "stream",
     "text": [
      "[[ 1  2]\n",
      " [ 3  4]\n",
      " [ 5  6]\n",
      " [ 7  8]\n",
      " [ 9 10]\n",
      " [11 12]\n",
      " [13 14]\n",
      " [15 16]]\n"
     ]
    }
   ],
   "source": [
    "a = a.reshape(8,2) # Reshape 2x8\n",
    "print(a)"
   ]
  },
  {
   "cell_type": "code",
   "execution_count": null,
   "id": "9ee34af1",
   "metadata": {},
   "outputs": [],
   "source": []
  },
  {
   "cell_type": "code",
   "execution_count": null,
   "id": "53e15970",
   "metadata": {},
   "outputs": [],
   "source": []
  },
  {
   "cell_type": "code",
   "execution_count": null,
   "id": "9c1db7d0",
   "metadata": {},
   "outputs": [],
   "source": []
  },
  {
   "cell_type": "code",
   "execution_count": 171,
   "id": "818b672b",
   "metadata": {},
   "outputs": [
    {
     "name": "stdout",
     "output_type": "stream",
     "text": [
      "[1 2 3 4 5 6 7 8 9]\n",
      "<class 'numpy.ndarray'>\n"
     ]
    }
   ],
   "source": [
    "# using tuple\n",
    "z1 = (1,2,3,4,5,6,7,8,9)\n",
    "a1 = np.array(z1)\n",
    "print(a1)\n",
    "print(type(a1)) #<class 'numpy.ndarray'>"
   ]
  },
  {
   "cell_type": "code",
   "execution_count": 172,
   "id": "60b6ecc5",
   "metadata": {},
   "outputs": [
    {
     "name": "stdout",
     "output_type": "stream",
     "text": [
      "[1 2 3 4 5 6 7 8 9]\n"
     ]
    }
   ],
   "source": [
    "# creating 1d array\n",
    "\n",
    "a1 = np.array([1,2,3,4,5,6,7,8,9])\n",
    "print(a1)"
   ]
  },
  {
   "cell_type": "code",
   "execution_count": 173,
   "id": "3ca4af00",
   "metadata": {},
   "outputs": [
    {
     "name": "stdout",
     "output_type": "stream",
     "text": [
      "[[1 2 3 4 5 6 7 8 9]\n",
      " [1 2 3 4 5 6 7 8 9]]\n"
     ]
    }
   ],
   "source": [
    "a2 = np.array([[1,2,3,4,5,6,7,8,9],[1,2,3,4,5,6,7,8,9]])\n",
    "print(a2)"
   ]
  },
  {
   "cell_type": "code",
   "execution_count": 71,
   "id": "3c90d3ab",
   "metadata": {},
   "outputs": [
    {
     "name": "stdout",
     "output_type": "stream",
     "text": [
      "[[[1 2 3 4 5 6 7 8 9]\n",
      "  [1 2 3 4 5 6 7 8 9]\n",
      "  [1 2 3 4 5 6 7 8 9]\n",
      "  [1 2 3 4 5 6 7 8 9]]]\n"
     ]
    }
   ],
   "source": [
    "# creating 3d array\n",
    "a3 = np.array([[[1,2,3,4,5,6,7,8,9],[1,2,3,4,5,6,7,8,9],[1,2,3,4,5,6,7,8,9],[1,2,3,4,5,6,7,8,9]]])\n",
    "print(a3)"
   ]
  },
  {
   "cell_type": "code",
   "execution_count": 72,
   "id": "ac1a1826",
   "metadata": {},
   "outputs": [
    {
     "name": "stdout",
     "output_type": "stream",
     "text": [
      "1\n",
      "2\n",
      "3\n"
     ]
    }
   ],
   "source": [
    "print(a1.ndim) \n",
    "print(a2.ndim)\n",
    "print(a3.ndim) # x/y/z axis count"
   ]
  },
  {
   "cell_type": "code",
   "execution_count": 74,
   "id": "6aa9719a",
   "metadata": {},
   "outputs": [
    {
     "name": "stdout",
     "output_type": "stream",
     "text": [
      "float64\n",
      "[[1. 2. 3. 4. 5. 6. 7. 8. 9.]\n",
      " [1. 2. 3. 4. 5. 6. 7. 8. 9.]]\n"
     ]
    }
   ],
   "source": [
    "a2 = np.array([[1.0,2,3,4,5,6,7,8,9],[1,2,3,4,5,6,7,8,9]])\n",
    "print(a2.dtype.name)\n",
    "print(a2)"
   ]
  },
  {
   "cell_type": "code",
   "execution_count": null,
   "id": "d380583a",
   "metadata": {},
   "outputs": [],
   "source": [
    "# a2 = np.array([['1',2,3,4,5,6,7,8,9],[1,2,3,4,5,6,7,8,9]])\n",
    "# print(a2.dtype.name)\n",
    "# print(a2)\n",
    "\n",
    "print(a2.size) # elements count\n",
    "print(a1.size)\n",
    "print(a3.size)"
   ]
  },
  {
   "cell_type": "code",
   "execution_count": null,
   "id": "3f0170ae",
   "metadata": {},
   "outputs": [],
   "source": []
  },
  {
   "cell_type": "code",
   "execution_count": null,
   "id": "8f8deb98",
   "metadata": {},
   "outputs": [],
   "source": []
  },
  {
   "cell_type": "code",
   "execution_count": null,
   "id": "2ca4429a",
   "metadata": {},
   "outputs": [],
   "source": []
  },
  {
   "cell_type": "code",
   "execution_count": null,
   "id": "7bd85143",
   "metadata": {},
   "outputs": [],
   "source": []
  },
  {
   "cell_type": "code",
   "execution_count": null,
   "id": "00ce5fe1",
   "metadata": {},
   "outputs": [],
   "source": []
  },
  {
   "cell_type": "code",
   "execution_count": null,
   "id": "050a3862",
   "metadata": {},
   "outputs": [],
   "source": []
  }
 ],
 "metadata": {
  "kernelspec": {
   "display_name": "Python 3 (ipykernel)",
   "language": "python",
   "name": "python3"
  },
  "language_info": {
   "codemirror_mode": {
    "name": "ipython",
    "version": 3
   },
   "file_extension": ".py",
   "mimetype": "text/x-python",
   "name": "python",
   "nbconvert_exporter": "python",
   "pygments_lexer": "ipython3",
   "version": "3.9.13"
  }
 },
 "nbformat": 4,
 "nbformat_minor": 5
}
