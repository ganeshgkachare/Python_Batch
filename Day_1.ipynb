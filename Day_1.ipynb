{
 "cells": [
  {
   "cell_type": "markdown",
   "id": "dc91e8a9",
   "metadata": {},
   "source": [
    "### Basic"
   ]
  },
  {
   "cell_type": "code",
   "execution_count": 25,
   "id": "afef1cb4",
   "metadata": {},
   "outputs": [
    {
     "name": "stdout",
     "output_type": "stream",
     "text": [
      "Hello\n"
     ]
    }
   ],
   "source": [
    "print(\"Hello\")"
   ]
  },
  {
   "cell_type": "code",
   "execution_count": null,
   "id": "0c15d20e",
   "metadata": {},
   "outputs": [],
   "source": [
    "## Adding Comment :\n",
    "# - Comments can be used to explain Python code.\n",
    "#- To add single line comment we can use  ' # ' "
   ]
  },
  {
   "cell_type": "code",
   "execution_count": null,
   "id": "a912a3ae",
   "metadata": {},
   "outputs": [],
   "source": [
    "# This is single line commeent."
   ]
  },
  {
   "cell_type": "code",
   "execution_count": 26,
   "id": "7689033d",
   "metadata": {},
   "outputs": [],
   "source": [
    "# thgfghjgjh\n",
    "# adgsfgj\n",
    "# dshfsdjv\n",
    "# svhsv"
   ]
  },
  {
   "cell_type": "markdown",
   "id": "7e63a937",
   "metadata": {},
   "source": [
    "Variable assignment : \n",
    "Variable is used to store value and we use '=' i.e. assignment operator to assign value to it. "
   ]
  },
  {
   "cell_type": "code",
   "execution_count": 35,
   "id": "01b03607",
   "metadata": {},
   "outputs": [],
   "source": [
    "a = 5"
   ]
  },
  {
   "cell_type": "code",
   "execution_count": 28,
   "id": "3725a8b7",
   "metadata": {},
   "outputs": [
    {
     "name": "stdout",
     "output_type": "stream",
     "text": [
      "5\n"
     ]
    }
   ],
   "source": [
    "print(a)"
   ]
  },
  {
   "cell_type": "code",
   "execution_count": 32,
   "id": "b3a95a52",
   "metadata": {},
   "outputs": [],
   "source": [
    "a =8.12"
   ]
  },
  {
   "cell_type": "code",
   "execution_count": 36,
   "id": "e98ccf0e",
   "metadata": {},
   "outputs": [
    {
     "data": {
      "text/plain": [
       "int"
      ]
     },
     "execution_count": 36,
     "metadata": {},
     "output_type": "execute_result"
    }
   ],
   "source": [
    "type(a)"
   ]
  },
  {
   "cell_type": "code",
   "execution_count": null,
   "id": "6ec41961",
   "metadata": {},
   "outputs": [],
   "source": [
    "print(type(a))"
   ]
  },
  {
   "cell_type": "code",
   "execution_count": 34,
   "id": "92c82a84",
   "metadata": {},
   "outputs": [
    {
     "name": "stdout",
     "output_type": "stream",
     "text": [
      "Python\n",
      "<class 'str'>\n"
     ]
    }
   ],
   "source": [
    "b = \"Python\"\n",
    "print(b)\n",
    "print(type(b))"
   ]
  },
  {
   "cell_type": "code",
   "execution_count": 37,
   "id": "1df55758",
   "metadata": {},
   "outputs": [
    {
     "data": {
      "text/plain": [
       "str"
      ]
     },
     "execution_count": 37,
     "metadata": {},
     "output_type": "execute_result"
    }
   ],
   "source": [
    "b = \"Python\"\n",
    "b\n",
    "type(b)"
   ]
  },
  {
   "cell_type": "code",
   "execution_count": null,
   "id": "bf9879d9",
   "metadata": {},
   "outputs": [],
   "source": []
  },
  {
   "cell_type": "markdown",
   "id": "34724377",
   "metadata": {},
   "source": [
    "### Variable Name"
   ]
  },
  {
   "cell_type": "markdown",
   "id": "0bb71b20",
   "metadata": {},
   "source": [
    "\n",
    " We have to take care of following things while writing identifiers\n",
    "    1. It can be of any length. \n",
    "    2. It can be combination of lower cases (a-z) , upper cases (A-Z) and digits (0-9).\n",
    "    3. It can't be start with digit.\n",
    "    4. It can't be include special symbols like { !, @, #, $ , % }, etc.\n",
    "    5. We can use '_' i.e underscore in identifire for attaching two strings or one string and one number.\n",
    "    6. We can't give space between letters, words or between letter and digit.\n",
    "    7. We can't use python keywords as a python identifier\n",
    "\n",
    "Python keywords :\n",
    "\n",
    "    Keywords are the reserved words in Python.\n",
    "    We cannot use a keyword as a variable name, function name or any other identifier. They are used to define the\n",
    "    syntax and structure of the Python language.\n",
    "    In Python, keywords are case sensitive.\n",
    "    All the keywords except True, False and None are in lowercase and they must be written as they are.\n",
    "\n",
    "    eg. in , and , or , if , else , elif , def , while , break , True , False , etc .**\n",
    "\n",
    "Python identifiers\n",
    "        An identifier is a name given to entities like class, functions, variables, etc. It helps to differentiate one entity\n",
    "        from another.\n",
    "Examples \n",
    "    We can write identifier of any length like \n",
    "    - myname\n",
    "    - mynameis"
   ]
  },
  {
   "cell_type": "code",
   "execution_count": 43,
   "id": "b2287e7f",
   "metadata": {},
   "outputs": [
    {
     "name": "stdout",
     "output_type": "stream",
     "text": [
      "Chinmay\n"
     ]
    }
   ],
   "source": [
    "myname = \"Chinmay\"\n",
    "print(myname)"
   ]
  },
  {
   "cell_type": "code",
   "execution_count": 44,
   "id": "a732b302",
   "metadata": {},
   "outputs": [
    {
     "name": "stdout",
     "output_type": "stream",
     "text": [
      "Chinmay D\n"
     ]
    }
   ],
   "source": [
    "mynameis = \"Chinmay D\"\n",
    "print(mynameis)"
   ]
  },
  {
   "cell_type": "code",
   "execution_count": null,
   "id": "5e6f3b15",
   "metadata": {},
   "outputs": [],
   "source": [
    "# Identifiers using underscore  \n",
    "# - my_name \n",
    "# - my_city"
   ]
  },
  {
   "cell_type": "code",
   "execution_count": 45,
   "id": "a5c541c8",
   "metadata": {},
   "outputs": [
    {
     "name": "stdout",
     "output_type": "stream",
     "text": [
      "Ganesh\n"
     ]
    }
   ],
   "source": [
    "my_name = \"Ganesh\"\n",
    "print(my_name)"
   ]
  },
  {
   "cell_type": "code",
   "execution_count": null,
   "id": "f8b55b3d",
   "metadata": {},
   "outputs": [],
   "source": [
    "my_city = \"pune\"\n",
    "print(my_city)"
   ]
  },
  {
   "cell_type": "code",
   "execution_count": null,
   "id": "a6c2457f",
   "metadata": {},
   "outputs": [],
   "source": [
    "# We can combine letters and words while writing identifiers\n",
    "# - Mybirth22\n",
    "Mybirth22 =\"22 Aug\"\n",
    "print(Mybirth22)"
   ]
  },
  {
   "cell_type": "code",
   "execution_count": null,
   "id": "e00e4769",
   "metadata": {},
   "outputs": [],
   "source": [
    "# We can't start our identifier by digit\n",
    "# - 1stvariable \n",
    "# - 19thnumber"
   ]
  },
  {
   "cell_type": "code",
   "execution_count": 47,
   "id": "cefb5586",
   "metadata": {},
   "outputs": [
    {
     "ename": "SyntaxError",
     "evalue": "invalid syntax (3876909292.py, line 1)",
     "output_type": "error",
     "traceback": [
      "\u001b[1;36m  File \u001b[1;32m\"C:\\Users\\dell\\AppData\\Local\\Temp\\ipykernel_5096\\3876909292.py\"\u001b[1;36m, line \u001b[1;32m1\u001b[0m\n\u001b[1;33m    19thnumber = 12\u001b[0m\n\u001b[1;37m      ^\u001b[0m\n\u001b[1;31mSyntaxError\u001b[0m\u001b[1;31m:\u001b[0m invalid syntax\n"
     ]
    }
   ],
   "source": [
    "19thnumber = 12"
   ]
  },
  {
   "cell_type": "code",
   "execution_count": 38,
   "id": "f0e81ece",
   "metadata": {},
   "outputs": [
    {
     "ename": "SyntaxError",
     "evalue": "invalid syntax (2748498177.py, line 1)",
     "output_type": "error",
     "traceback": [
      "\u001b[1;36m  File \u001b[1;32m\"C:\\Users\\dell\\AppData\\Local\\Temp\\ipykernel_5096\\2748498177.py\"\u001b[1;36m, line \u001b[1;32m1\u001b[0m\n\u001b[1;33m    1stvariable =5\u001b[0m\n\u001b[1;37m     ^\u001b[0m\n\u001b[1;31mSyntaxError\u001b[0m\u001b[1;31m:\u001b[0m invalid syntax\n"
     ]
    }
   ],
   "source": [
    "1stvariable =5"
   ]
  },
  {
   "cell_type": "code",
   "execution_count": null,
   "id": "cc1f9643",
   "metadata": {},
   "outputs": [],
   "source": [
    "# We can't include any special symbol at any position while writing identifier \n",
    "# - name@\n",
    "# - hello!\n",
    "# - time@2pm\n",
    "# - $rupees\n",
    "# - #brand "
   ]
  },
  {
   "cell_type": "code",
   "execution_count": 46,
   "id": "e763e540",
   "metadata": {},
   "outputs": [
    {
     "ename": "SyntaxError",
     "evalue": "invalid syntax (<unknown>, line 1)",
     "output_type": "error",
     "traceback": [
      "Traceback \u001b[1;36m(most recent call last)\u001b[0m:\n",
      "  File \u001b[0;32m\"C:\\Users\\dell\\anaconda3\\lib\\site-packages\\IPython\\core\\interactiveshell.py\"\u001b[0m, line \u001b[0;32m3457\u001b[0m, in \u001b[0;35mrun_code\u001b[0m\n    exec(code_obj, self.user_global_ns, self.user_ns)\n",
      "  File \u001b[0;32m\"C:\\Users\\dell\\AppData\\Local\\Temp\\ipykernel_5096\\3499305010.py\"\u001b[0m, line \u001b[0;32m1\u001b[0m, in \u001b[0;35m<module>\u001b[0m\n    get_ipython().run_line_magic('time', '@2pm=4')\n",
      "  File \u001b[0;32m\"C:\\Users\\dell\\anaconda3\\lib\\site-packages\\IPython\\core\\interactiveshell.py\"\u001b[0m, line \u001b[0;32m2364\u001b[0m, in \u001b[0;35mrun_line_magic\u001b[0m\n    result = fn(*args, **kwargs)\n",
      "  File \u001b[0;32m\"C:\\Users\\dell\\anaconda3\\lib\\site-packages\\decorator.py\"\u001b[0m, line \u001b[0;32m232\u001b[0m, in \u001b[0;35mfun\u001b[0m\n    return caller(func, *(extras + args), **kw)\n",
      "  File \u001b[0;32m\"C:\\Users\\dell\\anaconda3\\lib\\site-packages\\IPython\\core\\magic.py\"\u001b[0m, line \u001b[0;32m187\u001b[0m, in \u001b[0;35m<lambda>\u001b[0m\n    call = lambda f, *a, **k: f(*a, **k)\n",
      "  File \u001b[0;32m\"C:\\Users\\dell\\anaconda3\\lib\\site-packages\\IPython\\core\\magics\\execution.py\"\u001b[0m, line \u001b[0;32m1291\u001b[0m, in \u001b[0;35mtime\u001b[0m\n    expr_ast = self.shell.compile.ast_parse(expr)\n",
      "\u001b[1;36m  File \u001b[1;32m\"C:\\Users\\dell\\anaconda3\\lib\\site-packages\\IPython\\core\\compilerop.py\"\u001b[1;36m, line \u001b[1;32m101\u001b[1;36m, in \u001b[1;35mast_parse\u001b[1;36m\u001b[0m\n\u001b[1;33m    return compile(source, filename, symbol, self.flags | PyCF_ONLY_AST, 1)\u001b[0m\n",
      "\u001b[1;36m  File \u001b[1;32m\"<unknown>\"\u001b[1;36m, line \u001b[1;32m1\u001b[0m\n\u001b[1;33m    @2pm=4\u001b[0m\n\u001b[1;37m      ^\u001b[0m\n\u001b[1;31mSyntaxError\u001b[0m\u001b[1;31m:\u001b[0m invalid syntax\n"
     ]
    }
   ],
   "source": [
    "time@2pm=4"
   ]
  },
  {
   "cell_type": "code",
   "execution_count": 39,
   "id": "5d2d7022",
   "metadata": {},
   "outputs": [
    {
     "ename": "NameError",
     "evalue": "name 'name' is not defined",
     "output_type": "error",
     "traceback": [
      "\u001b[1;31m---------------------------------------------------------------------------\u001b[0m",
      "\u001b[1;31mNameError\u001b[0m                                 Traceback (most recent call last)",
      "\u001b[1;32m~\\AppData\\Local\\Temp\\ipykernel_5096\\95174496.py\u001b[0m in \u001b[0;36m<module>\u001b[1;34m\u001b[0m\n\u001b[1;32m----> 1\u001b[1;33m \u001b[0mname\u001b[0m\u001b[1;33m@=\u001b[0m\u001b[1;36m4\u001b[0m\u001b[1;33m\u001b[0m\u001b[1;33m\u001b[0m\u001b[0m\n\u001b[0m",
      "\u001b[1;31mNameError\u001b[0m: name 'name' is not defined"
     ]
    }
   ],
   "source": [
    "name@=4"
   ]
  },
  {
   "cell_type": "code",
   "execution_count": null,
   "id": "19f36076",
   "metadata": {},
   "outputs": [],
   "source": [
    "# We can't write identifier using space between characcters \n",
    "# - my name \n",
    "# - my number \n",
    "# - my village "
   ]
  },
  {
   "cell_type": "code",
   "execution_count": 40,
   "id": "6894e186",
   "metadata": {},
   "outputs": [],
   "source": [
    "my_number = 11"
   ]
  },
  {
   "cell_type": "code",
   "execution_count": 41,
   "id": "f43d2709",
   "metadata": {},
   "outputs": [
    {
     "data": {
      "text/plain": [
       "11"
      ]
     },
     "execution_count": 41,
     "metadata": {},
     "output_type": "execute_result"
    }
   ],
   "source": [
    "my_number"
   ]
  },
  {
   "cell_type": "code",
   "execution_count": 42,
   "id": "f5027d2c",
   "metadata": {},
   "outputs": [
    {
     "ename": "SyntaxError",
     "evalue": "invalid syntax (2016599964.py, line 1)",
     "output_type": "error",
     "traceback": [
      "\u001b[1;36m  File \u001b[1;32m\"C:\\Users\\dell\\AppData\\Local\\Temp\\ipykernel_5096\\2016599964.py\"\u001b[1;36m, line \u001b[1;32m1\u001b[0m\n\u001b[1;33m    my number = 11\u001b[0m\n\u001b[1;37m       ^\u001b[0m\n\u001b[1;31mSyntaxError\u001b[0m\u001b[1;31m:\u001b[0m invalid syntax\n"
     ]
    }
   ],
   "source": [
    "my number = 11"
   ]
  },
  {
   "cell_type": "code",
   "execution_count": 48,
   "id": "b718879e",
   "metadata": {},
   "outputs": [],
   "source": [
    " a = 5"
   ]
  },
  {
   "cell_type": "code",
   "execution_count": 49,
   "id": "58e45e6b",
   "metadata": {},
   "outputs": [
    {
     "data": {
      "text/plain": [
       "5"
      ]
     },
     "execution_count": 49,
     "metadata": {},
     "output_type": "execute_result"
    }
   ],
   "source": [
    "a"
   ]
  },
  {
   "cell_type": "code",
   "execution_count": 50,
   "id": "47ccb8c5",
   "metadata": {},
   "outputs": [
    {
     "ename": "NameError",
     "evalue": "name 'A' is not defined",
     "output_type": "error",
     "traceback": [
      "\u001b[1;31m---------------------------------------------------------------------------\u001b[0m",
      "\u001b[1;31mNameError\u001b[0m                                 Traceback (most recent call last)",
      "\u001b[1;32m~\\AppData\\Local\\Temp\\ipykernel_5096\\378453753.py\u001b[0m in \u001b[0;36m<module>\u001b[1;34m\u001b[0m\n\u001b[1;32m----> 1\u001b[1;33m \u001b[0mA\u001b[0m\u001b[1;33m\u001b[0m\u001b[1;33m\u001b[0m\u001b[0m\n\u001b[0m",
      "\u001b[1;31mNameError\u001b[0m: name 'A' is not defined"
     ]
    }
   ],
   "source": [
    "A"
   ]
  },
  {
   "cell_type": "code",
   "execution_count": null,
   "id": "3250b07a",
   "metadata": {},
   "outputs": [],
   "source": []
  },
  {
   "cell_type": "code",
   "execution_count": null,
   "id": "eeac1692",
   "metadata": {},
   "outputs": [],
   "source": []
  },
  {
   "cell_type": "code",
   "execution_count": null,
   "id": "f342eec4",
   "metadata": {},
   "outputs": [],
   "source": [
    "#correct way:-\n",
    "#    1. It can be of any length. \n",
    "#     2. It can be combination of lower cases (a-z) , upper cases (A-Z) and digits (0-9).\n",
    "#     3. It can't be start with digit.\n",
    "#     4. It can't be include special symbols like { !, @, #, $ , % }, etc.\n",
    "#     5. We can use '_' i.e underscore in identifire for attaching two strings or one string and one number.\n",
    "#     6. We can't give space between letters, words or between letter and digit.\n",
    "#     7. We can't use python keywords as a python identifier"
   ]
  },
  {
   "cell_type": "code",
   "execution_count": null,
   "id": "4faf082c",
   "metadata": {},
   "outputs": [],
   "source": [
    "a=4"
   ]
  },
  {
   "cell_type": "code",
   "execution_count": null,
   "id": "e3c0f3a8",
   "metadata": {},
   "outputs": [],
   "source": [
    "a"
   ]
  },
  {
   "cell_type": "code",
   "execution_count": 51,
   "id": "2c8a74df",
   "metadata": {},
   "outputs": [],
   "source": [
    "asdfghjhkjruesuhkjdbjkfncbn= 10"
   ]
  },
  {
   "cell_type": "code",
   "execution_count": 52,
   "id": "2f600585",
   "metadata": {},
   "outputs": [
    {
     "data": {
      "text/plain": [
       "10"
      ]
     },
     "execution_count": 52,
     "metadata": {},
     "output_type": "execute_result"
    }
   ],
   "source": [
    "asdfghjhkjruesuhkjdbjkfncbn"
   ]
  },
  {
   "cell_type": "code",
   "execution_count": 53,
   "id": "bf41c58d",
   "metadata": {},
   "outputs": [],
   "source": [
    "a=5"
   ]
  },
  {
   "cell_type": "code",
   "execution_count": 54,
   "id": "a7574a72",
   "metadata": {},
   "outputs": [],
   "source": [
    "b=10"
   ]
  },
  {
   "cell_type": "code",
   "execution_count": 55,
   "id": "ccfe496e",
   "metadata": {},
   "outputs": [],
   "source": [
    "c=9"
   ]
  },
  {
   "cell_type": "code",
   "execution_count": 56,
   "id": "126cf589",
   "metadata": {},
   "outputs": [
    {
     "data": {
      "text/plain": [
       "5"
      ]
     },
     "execution_count": 56,
     "metadata": {},
     "output_type": "execute_result"
    }
   ],
   "source": [
    "a\n"
   ]
  },
  {
   "cell_type": "code",
   "execution_count": null,
   "id": "57e1818f",
   "metadata": {},
   "outputs": [],
   "source": [
    "# Assigning multiple values to multiple variables :-\n",
    "a, b, c = 20, 3.14, \"ABC\""
   ]
  },
  {
   "cell_type": "code",
   "execution_count": 57,
   "id": "3caa1c17",
   "metadata": {},
   "outputs": [],
   "source": [
    "a,b,c,d = 1,2,3,4"
   ]
  },
  {
   "cell_type": "code",
   "execution_count": 58,
   "id": "c6480e19",
   "metadata": {},
   "outputs": [
    {
     "data": {
      "text/plain": [
       "3"
      ]
     },
     "execution_count": 58,
     "metadata": {},
     "output_type": "execute_result"
    }
   ],
   "source": [
    "c"
   ]
  },
  {
   "cell_type": "code",
   "execution_count": 59,
   "id": "3260ac18",
   "metadata": {},
   "outputs": [
    {
     "ename": "ValueError",
     "evalue": "not enough values to unpack (expected 4, got 3)",
     "output_type": "error",
     "traceback": [
      "\u001b[1;31m---------------------------------------------------------------------------\u001b[0m",
      "\u001b[1;31mValueError\u001b[0m                                Traceback (most recent call last)",
      "\u001b[1;32m~\\AppData\\Local\\Temp\\ipykernel_5096\\2649106868.py\u001b[0m in \u001b[0;36m<module>\u001b[1;34m\u001b[0m\n\u001b[1;32m----> 1\u001b[1;33m \u001b[0ma\u001b[0m\u001b[1;33m,\u001b[0m\u001b[0mb\u001b[0m\u001b[1;33m,\u001b[0m\u001b[0mc\u001b[0m\u001b[1;33m,\u001b[0m\u001b[0md\u001b[0m \u001b[1;33m=\u001b[0m \u001b[1;36m1\u001b[0m\u001b[1;33m,\u001b[0m\u001b[1;36m2\u001b[0m\u001b[1;33m,\u001b[0m\u001b[1;36m3\u001b[0m\u001b[1;33m\u001b[0m\u001b[1;33m\u001b[0m\u001b[0m\n\u001b[0m",
      "\u001b[1;31mValueError\u001b[0m: not enough values to unpack (expected 4, got 3)"
     ]
    }
   ],
   "source": [
    "a,b,c,d = 1,2,3"
   ]
  },
  {
   "cell_type": "code",
   "execution_count": 60,
   "id": "da913b98",
   "metadata": {},
   "outputs": [
    {
     "ename": "ValueError",
     "evalue": "too many values to unpack (expected 4)",
     "output_type": "error",
     "traceback": [
      "\u001b[1;31m---------------------------------------------------------------------------\u001b[0m",
      "\u001b[1;31mValueError\u001b[0m                                Traceback (most recent call last)",
      "\u001b[1;32m~\\AppData\\Local\\Temp\\ipykernel_5096\\2120746693.py\u001b[0m in \u001b[0;36m<module>\u001b[1;34m\u001b[0m\n\u001b[1;32m----> 1\u001b[1;33m \u001b[0ma\u001b[0m\u001b[1;33m,\u001b[0m\u001b[0mb\u001b[0m\u001b[1;33m,\u001b[0m\u001b[0mc\u001b[0m\u001b[1;33m,\u001b[0m\u001b[0md\u001b[0m \u001b[1;33m=\u001b[0m \u001b[1;36m1\u001b[0m\u001b[1;33m,\u001b[0m\u001b[1;36m2\u001b[0m\u001b[1;33m,\u001b[0m\u001b[1;36m3\u001b[0m\u001b[1;33m,\u001b[0m\u001b[1;36m4\u001b[0m\u001b[1;33m,\u001b[0m\u001b[1;36m5\u001b[0m\u001b[1;33m\u001b[0m\u001b[1;33m\u001b[0m\u001b[0m\n\u001b[0m",
      "\u001b[1;31mValueError\u001b[0m: too many values to unpack (expected 4)"
     ]
    }
   ],
   "source": [
    "a,b,c,d = 1,2,3,4,5"
   ]
  },
  {
   "cell_type": "code",
   "execution_count": null,
   "id": "82bb7b61",
   "metadata": {},
   "outputs": [],
   "source": [
    "print(a)"
   ]
  },
  {
   "cell_type": "code",
   "execution_count": null,
   "id": "8a37053b",
   "metadata": {},
   "outputs": [],
   "source": [
    "print(b)"
   ]
  },
  {
   "cell_type": "code",
   "execution_count": null,
   "id": "05f680ce",
   "metadata": {},
   "outputs": [],
   "source": [
    "print(c)"
   ]
  },
  {
   "cell_type": "code",
   "execution_count": null,
   "id": "0b49c381",
   "metadata": {},
   "outputs": [],
   "source": [
    "print(a+20)"
   ]
  },
  {
   "cell_type": "code",
   "execution_count": null,
   "id": "e6966169",
   "metadata": {},
   "outputs": [],
   "source": [
    "print(type(a))"
   ]
  },
  {
   "cell_type": "code",
   "execution_count": null,
   "id": "cc53da3b",
   "metadata": {},
   "outputs": [],
   "source": [
    "print(type(b))"
   ]
  },
  {
   "cell_type": "code",
   "execution_count": null,
   "id": "f122ec71",
   "metadata": {},
   "outputs": [],
   "source": [
    "print(type(c))"
   ]
  },
  {
   "cell_type": "code",
   "execution_count": null,
   "id": "b6a170e0",
   "metadata": {},
   "outputs": [],
   "source": []
  },
  {
   "cell_type": "code",
   "execution_count": 61,
   "id": "9825cbe6",
   "metadata": {},
   "outputs": [],
   "source": [
    "#Assign the same value to multiple variables at once :-\n",
    "x = y = z = 100"
   ]
  },
  {
   "cell_type": "code",
   "execution_count": 62,
   "id": "17e8eb40",
   "metadata": {},
   "outputs": [
    {
     "name": "stdout",
     "output_type": "stream",
     "text": [
      "100\n",
      "100\n",
      "100\n"
     ]
    }
   ],
   "source": [
    "print (x)\n",
    "print (y)\n",
    "print (z)"
   ]
  },
  {
   "cell_type": "code",
   "execution_count": 63,
   "id": "466cf67b",
   "metadata": {},
   "outputs": [
    {
     "name": "stdout",
     "output_type": "stream",
     "text": [
      "100 100 100\n"
     ]
    }
   ],
   "source": [
    "print(x,y,z)"
   ]
  },
  {
   "cell_type": "code",
   "execution_count": 64,
   "id": "f2335d3b",
   "metadata": {},
   "outputs": [
    {
     "name": "stdout",
     "output_type": "stream",
     "text": [
      "100,100,100\n"
     ]
    }
   ],
   "source": [
    "print(x,y,z,sep=\",\")"
   ]
  },
  {
   "cell_type": "code",
   "execution_count": 65,
   "id": "72262de8",
   "metadata": {},
   "outputs": [
    {
     "name": "stdout",
     "output_type": "stream",
     "text": [
      "100TT100TT100\n"
     ]
    }
   ],
   "source": [
    "print(x,y,z,sep=\"TT\")"
   ]
  },
  {
   "cell_type": "code",
   "execution_count": null,
   "id": "8c02798a",
   "metadata": {},
   "outputs": [],
   "source": [
    "# we can print multiple variable in single print function"
   ]
  },
  {
   "cell_type": "code",
   "execution_count": 66,
   "id": "4d9c5b4b",
   "metadata": {},
   "outputs": [
    {
     "data": {
      "text/plain": [
       "1"
      ]
     },
     "execution_count": 66,
     "metadata": {},
     "output_type": "execute_result"
    }
   ],
   "source": [
    "a"
   ]
  },
  {
   "cell_type": "code",
   "execution_count": 67,
   "id": "f1d5974e",
   "metadata": {},
   "outputs": [
    {
     "data": {
      "text/plain": [
       "2"
      ]
     },
     "execution_count": 67,
     "metadata": {},
     "output_type": "execute_result"
    }
   ],
   "source": [
    "b"
   ]
  },
  {
   "cell_type": "code",
   "execution_count": 68,
   "id": "818e89b8",
   "metadata": {},
   "outputs": [
    {
     "data": {
      "text/plain": [
       "3"
      ]
     },
     "execution_count": 68,
     "metadata": {},
     "output_type": "execute_result"
    }
   ],
   "source": [
    "c"
   ]
  },
  {
   "cell_type": "code",
   "execution_count": 69,
   "id": "9ed63310",
   "metadata": {},
   "outputs": [
    {
     "name": "stdout",
     "output_type": "stream",
     "text": [
      "1 2 3\n"
     ]
    }
   ],
   "source": [
    "print(a,b,c)"
   ]
  },
  {
   "cell_type": "code",
   "execution_count": 70,
   "id": "7433310f",
   "metadata": {},
   "outputs": [
    {
     "name": "stdout",
     "output_type": "stream",
     "text": [
      "1,2,3\n"
     ]
    }
   ],
   "source": [
    "print(a,b,c, sep =\",\")"
   ]
  },
  {
   "cell_type": "code",
   "execution_count": 71,
   "id": "8ab67ab5",
   "metadata": {},
   "outputs": [
    {
     "name": "stdout",
     "output_type": "stream",
     "text": [
      "1 and 2 and 3\n"
     ]
    }
   ],
   "source": [
    "print(a,b,c, sep =\" and \")"
   ]
  },
  {
   "cell_type": "code",
   "execution_count": null,
   "id": "a2463c72",
   "metadata": {},
   "outputs": [],
   "source": []
  },
  {
   "cell_type": "code",
   "execution_count": 72,
   "id": "01353694",
   "metadata": {},
   "outputs": [],
   "source": [
    "a=5"
   ]
  },
  {
   "cell_type": "code",
   "execution_count": 73,
   "id": "565e9053",
   "metadata": {},
   "outputs": [
    {
     "data": {
      "text/plain": [
       "5"
      ]
     },
     "execution_count": 73,
     "metadata": {},
     "output_type": "execute_result"
    }
   ],
   "source": [
    "a"
   ]
  },
  {
   "cell_type": "code",
   "execution_count": 74,
   "id": "7757a8e9",
   "metadata": {},
   "outputs": [],
   "source": [
    "a=6"
   ]
  },
  {
   "cell_type": "code",
   "execution_count": 75,
   "id": "50802647",
   "metadata": {},
   "outputs": [
    {
     "data": {
      "text/plain": [
       "6"
      ]
     },
     "execution_count": 75,
     "metadata": {},
     "output_type": "execute_result"
    }
   ],
   "source": [
    "a"
   ]
  },
  {
   "cell_type": "code",
   "execution_count": null,
   "id": "859ef8a4",
   "metadata": {},
   "outputs": [],
   "source": [
    "# abc"
   ]
  },
  {
   "cell_type": "code",
   "execution_count": null,
   "id": "ab14f72b",
   "metadata": {},
   "outputs": [],
   "source": [
    "# 5+2"
   ]
  },
  {
   "cell_type": "code",
   "execution_count": null,
   "id": "5ef32a6b",
   "metadata": {},
   "outputs": [],
   "source": [
    "5+2"
   ]
  },
  {
   "cell_type": "markdown",
   "id": "955ff9f7",
   "metadata": {},
   "source": [
    "### Data Types"
   ]
  },
  {
   "cell_type": "raw",
   "id": "b44a9e28",
   "metadata": {},
   "source": [
    "1)number :- int, float, complex\n",
    "2) string\n",
    "3) List\n",
    "4) Tuple\n",
    "5)Set\n",
    "6) Dictionary"
   ]
  },
  {
   "cell_type": "code",
   "execution_count": null,
   "id": "ef272784",
   "metadata": {},
   "outputs": [],
   "source": [
    "a = -5\n",
    "type(a)"
   ]
  },
  {
   "cell_type": "code",
   "execution_count": 79,
   "id": "77797e33",
   "metadata": {},
   "outputs": [
    {
     "data": {
      "text/plain": [
       "float"
      ]
     },
     "execution_count": 79,
     "metadata": {},
     "output_type": "execute_result"
    }
   ],
   "source": [
    "a = -5.00\n",
    "type(a)"
   ]
  },
  {
   "cell_type": "code",
   "execution_count": 77,
   "id": "30aceddb",
   "metadata": {},
   "outputs": [
    {
     "data": {
      "text/plain": [
       "float"
      ]
     },
     "execution_count": 77,
     "metadata": {},
     "output_type": "execute_result"
    }
   ],
   "source": [
    "a = 999999.434\n",
    "type(a)"
   ]
  },
  {
   "cell_type": "code",
   "execution_count": 82,
   "id": "e1566a84",
   "metadata": {},
   "outputs": [
    {
     "data": {
      "text/plain": [
       "complex"
      ]
     },
     "execution_count": 82,
     "metadata": {},
     "output_type": "execute_result"
    }
   ],
   "source": [
    "a= 2+3j\n",
    "type(a)"
   ]
  },
  {
   "cell_type": "markdown",
   "id": "277408e5",
   "metadata": {},
   "source": [
    "## Python Casting"
   ]
  },
  {
   "cell_type": "code",
   "execution_count": 83,
   "id": "cd0ec5c6",
   "metadata": {},
   "outputs": [
    {
     "data": {
      "text/plain": [
       "int"
      ]
     },
     "execution_count": 83,
     "metadata": {},
     "output_type": "execute_result"
    }
   ],
   "source": [
    "a=5\n",
    "type(a)"
   ]
  },
  {
   "cell_type": "code",
   "execution_count": 84,
   "id": "b2bdccc5",
   "metadata": {},
   "outputs": [],
   "source": [
    "b=a"
   ]
  },
  {
   "cell_type": "code",
   "execution_count": 85,
   "id": "f259ad04",
   "metadata": {},
   "outputs": [
    {
     "data": {
      "text/plain": [
       "5"
      ]
     },
     "execution_count": 85,
     "metadata": {},
     "output_type": "execute_result"
    }
   ],
   "source": [
    "b"
   ]
  },
  {
   "cell_type": "code",
   "execution_count": 86,
   "id": "11e7b23c",
   "metadata": {},
   "outputs": [
    {
     "data": {
      "text/plain": [
       "int"
      ]
     },
     "execution_count": 86,
     "metadata": {},
     "output_type": "execute_result"
    }
   ],
   "source": [
    "type(b)"
   ]
  },
  {
   "cell_type": "code",
   "execution_count": 87,
   "id": "cbc94f23",
   "metadata": {},
   "outputs": [
    {
     "data": {
      "text/plain": [
       "5"
      ]
     },
     "execution_count": 87,
     "metadata": {},
     "output_type": "execute_result"
    }
   ],
   "source": [
    "a"
   ]
  },
  {
   "cell_type": "code",
   "execution_count": 88,
   "id": "ae35daf4",
   "metadata": {},
   "outputs": [
    {
     "data": {
      "text/plain": [
       "int"
      ]
     },
     "execution_count": 88,
     "metadata": {},
     "output_type": "execute_result"
    }
   ],
   "source": [
    "type(a)"
   ]
  },
  {
   "cell_type": "code",
   "execution_count": 89,
   "id": "d458aa19",
   "metadata": {},
   "outputs": [],
   "source": [
    "c = float(a)"
   ]
  },
  {
   "cell_type": "code",
   "execution_count": 90,
   "id": "3a8fd25d",
   "metadata": {},
   "outputs": [
    {
     "data": {
      "text/plain": [
       "5.0"
      ]
     },
     "execution_count": 90,
     "metadata": {},
     "output_type": "execute_result"
    }
   ],
   "source": [
    "c"
   ]
  },
  {
   "cell_type": "code",
   "execution_count": 91,
   "id": "a8882a81",
   "metadata": {},
   "outputs": [
    {
     "data": {
      "text/plain": [
       "float"
      ]
     },
     "execution_count": 91,
     "metadata": {},
     "output_type": "execute_result"
    }
   ],
   "source": [
    "type(c)"
   ]
  },
  {
   "cell_type": "code",
   "execution_count": 92,
   "id": "cc306064",
   "metadata": {},
   "outputs": [
    {
     "data": {
      "text/plain": [
       "float"
      ]
     },
     "execution_count": 92,
     "metadata": {},
     "output_type": "execute_result"
    }
   ],
   "source": [
    "a= 55.55\n",
    "type(a)"
   ]
  },
  {
   "cell_type": "code",
   "execution_count": 93,
   "id": "d92125e7",
   "metadata": {},
   "outputs": [
    {
     "data": {
      "text/plain": [
       "55"
      ]
     },
     "execution_count": 93,
     "metadata": {},
     "output_type": "execute_result"
    }
   ],
   "source": [
    "int(55.55)"
   ]
  },
  {
   "cell_type": "code",
   "execution_count": null,
   "id": "3d92b8bf",
   "metadata": {},
   "outputs": [],
   "source": []
  },
  {
   "cell_type": "code",
   "execution_count": 94,
   "id": "ab5ff74c",
   "metadata": {},
   "outputs": [
    {
     "data": {
      "text/plain": [
       "5.0"
      ]
     },
     "execution_count": 94,
     "metadata": {},
     "output_type": "execute_result"
    }
   ],
   "source": [
    "float(5)"
   ]
  },
  {
   "cell_type": "code",
   "execution_count": 95,
   "id": "22c37ec6",
   "metadata": {},
   "outputs": [
    {
     "data": {
      "text/plain": [
       "33"
      ]
     },
     "execution_count": 95,
     "metadata": {},
     "output_type": "execute_result"
    }
   ],
   "source": [
    "int(33.4)"
   ]
  },
  {
   "cell_type": "code",
   "execution_count": 96,
   "id": "d19518c4",
   "metadata": {},
   "outputs": [
    {
     "data": {
      "text/plain": [
       "'33.4'"
      ]
     },
     "execution_count": 96,
     "metadata": {},
     "output_type": "execute_result"
    }
   ],
   "source": [
    "str(33.4)"
   ]
  },
  {
   "cell_type": "code",
   "execution_count": 97,
   "id": "7b3ffaff",
   "metadata": {},
   "outputs": [
    {
     "ename": "ValueError",
     "evalue": "invalid literal for int() with base 10: 'as'",
     "output_type": "error",
     "traceback": [
      "\u001b[1;31m---------------------------------------------------------------------------\u001b[0m",
      "\u001b[1;31mValueError\u001b[0m                                Traceback (most recent call last)",
      "\u001b[1;32m~\\AppData\\Local\\Temp\\ipykernel_5096\\2182480809.py\u001b[0m in \u001b[0;36m<module>\u001b[1;34m\u001b[0m\n\u001b[1;32m----> 1\u001b[1;33m \u001b[0mint\u001b[0m\u001b[1;33m(\u001b[0m\u001b[1;34m\"as\"\u001b[0m\u001b[1;33m)\u001b[0m\u001b[1;33m\u001b[0m\u001b[1;33m\u001b[0m\u001b[0m\n\u001b[0m",
      "\u001b[1;31mValueError\u001b[0m: invalid literal for int() with base 10: 'as'"
     ]
    }
   ],
   "source": [
    "int(\"as\")"
   ]
  },
  {
   "cell_type": "code",
   "execution_count": 98,
   "id": "fb242ff2",
   "metadata": {},
   "outputs": [
    {
     "data": {
      "text/plain": [
       "44"
      ]
     },
     "execution_count": 98,
     "metadata": {},
     "output_type": "execute_result"
    }
   ],
   "source": [
    "int(\"44\")"
   ]
  },
  {
   "cell_type": "code",
   "execution_count": 99,
   "id": "bd883cdf",
   "metadata": {},
   "outputs": [
    {
     "data": {
      "text/plain": [
       "44.0"
      ]
     },
     "execution_count": 99,
     "metadata": {},
     "output_type": "execute_result"
    }
   ],
   "source": [
    "float(\"44\")"
   ]
  },
  {
   "cell_type": "markdown",
   "id": "c2fbb2e1",
   "metadata": {},
   "source": [
    "## Operators"
   ]
  },
  {
   "cell_type": "code",
   "execution_count": null,
   "id": "47b0a265",
   "metadata": {},
   "outputs": [],
   "source": [
    "Operators:- \n",
    "        Operators are special symbols in Python that carry out arithmetic or logical computation. \n",
    "        The value that the operator operates on is called the operand.\n",
    "    1. Arithmetic\n",
    "    2. Comparison\n",
    "    3. Logical\n",
    "    4. Special operators :- 1) Identity operators\n",
    "                            2) Membership operators\n",
    "    5. Assignment operators:-"
   ]
  },
  {
   "cell_type": "raw",
   "id": "6f94c05f",
   "metadata": {},
   "source": [
    "1) Arithmetic Operators :-\n",
    "    Operator\tOperation\t    Description\t\n",
    "    +\t    Addition\t    Adds values on either side of the operator.\t\n",
    "    -\t    Subtraction\t    Subtracts right hand operand from left hand operand.\t\n",
    "    *\t    Multiplication\tMultiplies values on either side of the operator\t\n",
    "    /\t    Division\t    Divides left hand operand by right hand operand\t\n",
    "    %\t    Modulus\t        Divides left hand operand by right hand operand and returns remainder\t\n",
    "    **\t    Exponent    \tPerforms exponential (power) calculation on operators\t\n",
    "    //\t    Floor Division\tThe division of operands where the result is the quotient in which\n",
    "                            the digits after the decimal point are removed. "
   ]
  },
  {
   "cell_type": "code",
   "execution_count": null,
   "id": "df3ab01a",
   "metadata": {},
   "outputs": [],
   "source": [
    "a = 5"
   ]
  },
  {
   "cell_type": "code",
   "execution_count": null,
   "id": "3c9c1c4b",
   "metadata": {},
   "outputs": [],
   "source": [
    "A"
   ]
  },
  {
   "cell_type": "code",
   "execution_count": null,
   "id": "5c9d4fce",
   "metadata": {},
   "outputs": [],
   "source": [
    "a"
   ]
  },
  {
   "cell_type": "code",
   "execution_count": 100,
   "id": "9484ffd2",
   "metadata": {},
   "outputs": [],
   "source": [
    "a = 10\n",
    "b= 2"
   ]
  },
  {
   "cell_type": "code",
   "execution_count": 101,
   "id": "25a1edb0",
   "metadata": {},
   "outputs": [
    {
     "data": {
      "text/plain": [
       "12"
      ]
     },
     "execution_count": 101,
     "metadata": {},
     "output_type": "execute_result"
    }
   ],
   "source": [
    "a+b  #add"
   ]
  },
  {
   "cell_type": "code",
   "execution_count": 102,
   "id": "479a1014",
   "metadata": {},
   "outputs": [
    {
     "data": {
      "text/plain": [
       "8"
      ]
     },
     "execution_count": 102,
     "metadata": {},
     "output_type": "execute_result"
    }
   ],
   "source": [
    "a-b  #sub"
   ]
  },
  {
   "cell_type": "code",
   "execution_count": 103,
   "id": "a6c925ca",
   "metadata": {},
   "outputs": [
    {
     "data": {
      "text/plain": [
       "20"
      ]
     },
     "execution_count": 103,
     "metadata": {},
     "output_type": "execute_result"
    }
   ],
   "source": [
    "a*b  #mul"
   ]
  },
  {
   "cell_type": "code",
   "execution_count": 104,
   "id": "65b2b1ce",
   "metadata": {},
   "outputs": [
    {
     "data": {
      "text/plain": [
       "100"
      ]
     },
     "execution_count": 104,
     "metadata": {},
     "output_type": "execute_result"
    }
   ],
   "source": [
    "a**b # Exp / powe"
   ]
  },
  {
   "cell_type": "code",
   "execution_count": 105,
   "id": "ce878aec",
   "metadata": {},
   "outputs": [
    {
     "data": {
      "text/plain": [
       "0"
      ]
     },
     "execution_count": 105,
     "metadata": {},
     "output_type": "execute_result"
    }
   ],
   "source": [
    "a%b  # Modulus / REminder 10 % 2"
   ]
  },
  {
   "cell_type": "code",
   "execution_count": null,
   "id": "427495c1",
   "metadata": {},
   "outputs": [],
   "source": [
    "22%4"
   ]
  },
  {
   "cell_type": "code",
   "execution_count": 106,
   "id": "67a1eaae",
   "metadata": {},
   "outputs": [
    {
     "data": {
      "text/plain": [
       "5"
      ]
     },
     "execution_count": 106,
     "metadata": {},
     "output_type": "execute_result"
    }
   ],
   "source": [
    "a // b   # floor"
   ]
  },
  {
   "cell_type": "code",
   "execution_count": 107,
   "id": "0432bb99",
   "metadata": {},
   "outputs": [
    {
     "data": {
      "text/plain": [
       "3"
      ]
     },
     "execution_count": 107,
     "metadata": {},
     "output_type": "execute_result"
    }
   ],
   "source": [
    "10//3"
   ]
  },
  {
   "cell_type": "code",
   "execution_count": 108,
   "id": "d1c6c6fe",
   "metadata": {},
   "outputs": [
    {
     "data": {
      "text/plain": [
       "3.3333333333333335"
      ]
     },
     "execution_count": 108,
     "metadata": {},
     "output_type": "execute_result"
    }
   ],
   "source": [
    "10/3"
   ]
  },
  {
   "cell_type": "code",
   "execution_count": null,
   "id": "be2d3742",
   "metadata": {},
   "outputs": [],
   "source": []
  },
  {
   "cell_type": "code",
   "execution_count": null,
   "id": "2d73ae80",
   "metadata": {},
   "outputs": [],
   "source": []
  },
  {
   "cell_type": "code",
   "execution_count": null,
   "id": "3659d80e",
   "metadata": {},
   "outputs": [],
   "source": [
    "22 / 4   # Div\n"
   ]
  },
  {
   "cell_type": "code",
   "execution_count": null,
   "id": "ef2d8864",
   "metadata": {},
   "outputs": [],
   "source": [
    "10 // 2   #Floor "
   ]
  },
  {
   "cell_type": "code",
   "execution_count": null,
   "id": "821b15bc",
   "metadata": {},
   "outputs": [],
   "source": [
    "10 // 4"
   ]
  },
  {
   "cell_type": "code",
   "execution_count": 109,
   "id": "b94005de",
   "metadata": {},
   "outputs": [
    {
     "data": {
      "text/plain": [
       "8"
      ]
     },
     "execution_count": 109,
     "metadata": {},
     "output_type": "execute_result"
    }
   ],
   "source": [
    "2 ** 2   #  2*2\n",
    "2 **3    # 2*2*2"
   ]
  },
  {
   "cell_type": "code",
   "execution_count": 110,
   "id": "90fe7bb7",
   "metadata": {},
   "outputs": [],
   "source": [
    "x = 15\n",
    "y = 4"
   ]
  },
  {
   "cell_type": "code",
   "execution_count": 111,
   "id": "12c75aff",
   "metadata": {},
   "outputs": [
    {
     "name": "stdout",
     "output_type": "stream",
     "text": [
      "x + y = 19\n"
     ]
    }
   ],
   "source": [
    "print('x + y =',x+y)"
   ]
  },
  {
   "cell_type": "code",
   "execution_count": 112,
   "id": "a44b94f1",
   "metadata": {},
   "outputs": [
    {
     "name": "stdout",
     "output_type": "stream",
     "text": [
      "x - y = 11\n"
     ]
    }
   ],
   "source": [
    "print('x - y =',x-y)"
   ]
  },
  {
   "cell_type": "code",
   "execution_count": 113,
   "id": "2dc00e06",
   "metadata": {},
   "outputs": [
    {
     "name": "stdout",
     "output_type": "stream",
     "text": [
      "x * y = 60\n"
     ]
    }
   ],
   "source": [
    "print('x * y =',x*y)"
   ]
  },
  {
   "cell_type": "code",
   "execution_count": 114,
   "id": "a745ef5f",
   "metadata": {},
   "outputs": [
    {
     "name": "stdout",
     "output_type": "stream",
     "text": [
      "x / y = 3.75\n"
     ]
    }
   ],
   "source": [
    "print('x / y =',x/y)"
   ]
  },
  {
   "cell_type": "code",
   "execution_count": 115,
   "id": "7662876a",
   "metadata": {},
   "outputs": [
    {
     "name": "stdout",
     "output_type": "stream",
     "text": [
      "x // y = 3\n"
     ]
    }
   ],
   "source": [
    "print('x // y =',x//y)"
   ]
  },
  {
   "cell_type": "code",
   "execution_count": 116,
   "id": "50e6d673",
   "metadata": {},
   "outputs": [
    {
     "name": "stdout",
     "output_type": "stream",
     "text": [
      "x ** y = 50625\n"
     ]
    }
   ],
   "source": [
    "print('x ** y =',x**y)"
   ]
  },
  {
   "cell_type": "code",
   "execution_count": null,
   "id": "6224acde",
   "metadata": {},
   "outputs": [],
   "source": []
  },
  {
   "cell_type": "code",
   "execution_count": 117,
   "id": "f3d1df0b",
   "metadata": {},
   "outputs": [
    {
     "data": {
      "text/plain": [
       "3"
      ]
     },
     "execution_count": 117,
     "metadata": {},
     "output_type": "execute_result"
    }
   ],
   "source": [
    "a=1\n",
    "b=2\n",
    "c=3\n",
    "a\n",
    "b\n",
    "c"
   ]
  },
  {
   "cell_type": "code",
   "execution_count": 118,
   "id": "56e59f4a",
   "metadata": {},
   "outputs": [
    {
     "name": "stdout",
     "output_type": "stream",
     "text": [
      "1\n",
      "2\n",
      "3\n"
     ]
    }
   ],
   "source": [
    "print(a)\n",
    "print(b)\n",
    "print(c)"
   ]
  },
  {
   "cell_type": "code",
   "execution_count": 119,
   "id": "c4efbb1a",
   "metadata": {},
   "outputs": [
    {
     "data": {
      "text/plain": [
       "25"
      ]
     },
     "execution_count": 119,
     "metadata": {},
     "output_type": "execute_result"
    }
   ],
   "source": [
    "5 ** 2"
   ]
  },
  {
   "cell_type": "code",
   "execution_count": 120,
   "id": "032344d0",
   "metadata": {},
   "outputs": [
    {
     "data": {
      "text/plain": [
       "125"
      ]
     },
     "execution_count": 120,
     "metadata": {},
     "output_type": "execute_result"
    }
   ],
   "source": [
    "5 ** 3 "
   ]
  },
  {
   "cell_type": "code",
   "execution_count": null,
   "id": "7e4282f7",
   "metadata": {},
   "outputs": [],
   "source": []
  },
  {
   "cell_type": "code",
   "execution_count": 121,
   "id": "a47945b4",
   "metadata": {},
   "outputs": [],
   "source": [
    "b = 10 /3"
   ]
  },
  {
   "cell_type": "code",
   "execution_count": 122,
   "id": "4327cac6",
   "metadata": {},
   "outputs": [
    {
     "data": {
      "text/plain": [
       "3.3333333333333335"
      ]
     },
     "execution_count": 122,
     "metadata": {},
     "output_type": "execute_result"
    }
   ],
   "source": [
    "b"
   ]
  },
  {
   "cell_type": "code",
   "execution_count": 123,
   "id": "5169b895",
   "metadata": {},
   "outputs": [
    {
     "data": {
      "text/plain": [
       "3"
      ]
     },
     "execution_count": 123,
     "metadata": {},
     "output_type": "execute_result"
    }
   ],
   "source": [
    "int(b)"
   ]
  },
  {
   "cell_type": "code",
   "execution_count": null,
   "id": "d18f1409",
   "metadata": {},
   "outputs": [],
   "source": []
  },
  {
   "cell_type": "code",
   "execution_count": 124,
   "id": "2c06b90b",
   "metadata": {},
   "outputs": [
    {
     "data": {
      "text/plain": [
       "3"
      ]
     },
     "execution_count": 124,
     "metadata": {},
     "output_type": "execute_result"
    }
   ],
   "source": [
    "10 // 3"
   ]
  },
  {
   "cell_type": "code",
   "execution_count": 125,
   "id": "69bd7ec2",
   "metadata": {},
   "outputs": [
    {
     "data": {
      "text/plain": [
       "3"
      ]
     },
     "execution_count": 125,
     "metadata": {},
     "output_type": "execute_result"
    }
   ],
   "source": [
    "c = 22 /6 \n",
    "int(c)"
   ]
  },
  {
   "cell_type": "code",
   "execution_count": 126,
   "id": "c9634ddb",
   "metadata": {},
   "outputs": [
    {
     "data": {
      "text/plain": [
       "3"
      ]
     },
     "execution_count": 126,
     "metadata": {},
     "output_type": "execute_result"
    }
   ],
   "source": [
    "22 // 6"
   ]
  },
  {
   "cell_type": "raw",
   "id": "0dd49caf",
   "metadata": {},
   "source": [
    "Comparison operators:-\n",
    "\n",
    "    Operator\t    Description\t\n",
    "    ==\t        If the values of two operands are equal, then the condition becomes true.\t\n",
    "    !=\t        If values of two operands are not equal, then condition becomes true.\n",
    "    >\t        If the value of left operand is greater than the value of right operand, then condition becomes true.\t\n",
    "    <\t        If the value of left operand is less than the value of right operand, then condition becomes true.\t\n",
    "    >=\t        If the value of left operand is greater than or equal to the value of right operand, then condition becomes\n",
    "                   true.\t\n",
    "    <=\t        If the value of left operand is less than or equal to the value of right operand, then condition becomes true.\n"
   ]
  },
  {
   "cell_type": "code",
   "execution_count": 127,
   "id": "f19cb55f",
   "metadata": {},
   "outputs": [],
   "source": [
    "x = 20\n",
    "y = 30"
   ]
  },
  {
   "cell_type": "code",
   "execution_count": null,
   "id": "795acda1",
   "metadata": {},
   "outputs": [],
   "source": []
  },
  {
   "cell_type": "code",
   "execution_count": 128,
   "id": "fc444e1c",
   "metadata": {},
   "outputs": [
    {
     "name": "stdout",
     "output_type": "stream",
     "text": [
      "Is x greater than y :-  False\n"
     ]
    }
   ],
   "source": [
    "print('Is x greater than y :- ',x>y)"
   ]
  },
  {
   "cell_type": "code",
   "execution_count": 129,
   "id": "655b7b7b",
   "metadata": {},
   "outputs": [
    {
     "name": "stdout",
     "output_type": "stream",
     "text": [
      "Is x less than y :-  True\n"
     ]
    }
   ],
   "source": [
    "print('Is x less than y :- ',x<y)"
   ]
  },
  {
   "cell_type": "code",
   "execution_count": 130,
   "id": "9e061e2a",
   "metadata": {},
   "outputs": [
    {
     "name": "stdout",
     "output_type": "stream",
     "text": [
      "Is x equal to y :-  False\n"
     ]
    }
   ],
   "source": [
    "print('Is x equal to y :- ',x==y)"
   ]
  },
  {
   "cell_type": "code",
   "execution_count": 131,
   "id": "5c0e614a",
   "metadata": {},
   "outputs": [
    {
     "name": "stdout",
     "output_type": "stream",
     "text": [
      "Is x not equal to y :-  True\n"
     ]
    }
   ],
   "source": [
    "print('Is x not equal to y :- ',x!=y)"
   ]
  },
  {
   "cell_type": "code",
   "execution_count": 132,
   "id": "364fbc20",
   "metadata": {},
   "outputs": [
    {
     "name": "stdout",
     "output_type": "stream",
     "text": [
      "Is x greater than or equal to y :-  False\n"
     ]
    }
   ],
   "source": [
    "print('Is x greater than or equal to y :- ',x>=y)"
   ]
  },
  {
   "cell_type": "code",
   "execution_count": 133,
   "id": "35bd4d21",
   "metadata": {},
   "outputs": [
    {
     "name": "stdout",
     "output_type": "stream",
     "text": [
      "Is x less than or equal to y :-  True\n"
     ]
    }
   ],
   "source": [
    "print('Is x less than or equal to y :- ',x<=y)"
   ]
  },
  {
   "cell_type": "code",
   "execution_count": null,
   "id": "9ee14f2f",
   "metadata": {},
   "outputs": [],
   "source": []
  },
  {
   "cell_type": "code",
   "execution_count": 134,
   "id": "5f4e4066",
   "metadata": {},
   "outputs": [],
   "source": [
    "a = 5\n",
    "b = 5"
   ]
  },
  {
   "cell_type": "code",
   "execution_count": 135,
   "id": "ce082607",
   "metadata": {},
   "outputs": [
    {
     "data": {
      "text/plain": [
       "False"
      ]
     },
     "execution_count": 135,
     "metadata": {},
     "output_type": "execute_result"
    }
   ],
   "source": [
    "a<b"
   ]
  },
  {
   "cell_type": "code",
   "execution_count": 136,
   "id": "7b434a1a",
   "metadata": {},
   "outputs": [
    {
     "data": {
      "text/plain": [
       "True"
      ]
     },
     "execution_count": 136,
     "metadata": {},
     "output_type": "execute_result"
    }
   ],
   "source": [
    "a<=b"
   ]
  },
  {
   "cell_type": "code",
   "execution_count": null,
   "id": "d8012760",
   "metadata": {},
   "outputs": [],
   "source": []
  },
  {
   "cell_type": "code",
   "execution_count": 137,
   "id": "55a6d064",
   "metadata": {},
   "outputs": [
    {
     "data": {
      "text/plain": [
       "True"
      ]
     },
     "execution_count": 137,
     "metadata": {},
     "output_type": "execute_result"
    }
   ],
   "source": [
    " a == b"
   ]
  },
  {
   "cell_type": "code",
   "execution_count": 141,
   "id": "8bd2ed73",
   "metadata": {},
   "outputs": [
    {
     "data": {
      "text/plain": [
       "bool"
      ]
     },
     "execution_count": 141,
     "metadata": {},
     "output_type": "execute_result"
    }
   ],
   "source": [
    " type(4 == 4)"
   ]
  },
  {
   "cell_type": "code",
   "execution_count": 142,
   "id": "07ca7f0b",
   "metadata": {},
   "outputs": [
    {
     "ename": "NameError",
     "evalue": "name 'true' is not defined",
     "output_type": "error",
     "traceback": [
      "\u001b[1;31m---------------------------------------------------------------------------\u001b[0m",
      "\u001b[1;31mNameError\u001b[0m                                 Traceback (most recent call last)",
      "\u001b[1;32m~\\AppData\\Local\\Temp\\ipykernel_5096\\1822790664.py\u001b[0m in \u001b[0;36m<module>\u001b[1;34m\u001b[0m\n\u001b[1;32m----> 1\u001b[1;33m \u001b[0mtype\u001b[0m\u001b[1;33m(\u001b[0m\u001b[0mtrue\u001b[0m\u001b[1;33m)\u001b[0m\u001b[1;33m\u001b[0m\u001b[1;33m\u001b[0m\u001b[0m\n\u001b[0m",
      "\u001b[1;31mNameError\u001b[0m: name 'true' is not defined"
     ]
    }
   ],
   "source": [
    "type(true)"
   ]
  },
  {
   "cell_type": "code",
   "execution_count": 143,
   "id": "ff0cdbd3",
   "metadata": {},
   "outputs": [
    {
     "data": {
      "text/plain": [
       "bool"
      ]
     },
     "execution_count": 143,
     "metadata": {},
     "output_type": "execute_result"
    }
   ],
   "source": [
    "type(True)"
   ]
  },
  {
   "cell_type": "code",
   "execution_count": 144,
   "id": "a2a63e4c",
   "metadata": {},
   "outputs": [
    {
     "data": {
      "text/plain": [
       "1"
      ]
     },
     "execution_count": 144,
     "metadata": {},
     "output_type": "execute_result"
    }
   ],
   "source": [
    "int(True)"
   ]
  },
  {
   "cell_type": "code",
   "execution_count": 145,
   "id": "17924373",
   "metadata": {},
   "outputs": [
    {
     "data": {
      "text/plain": [
       "0"
      ]
     },
     "execution_count": 145,
     "metadata": {},
     "output_type": "execute_result"
    }
   ],
   "source": [
    "int(False)"
   ]
  },
  {
   "cell_type": "code",
   "execution_count": 146,
   "id": "720bb009",
   "metadata": {},
   "outputs": [
    {
     "data": {
      "text/plain": [
       "False"
      ]
     },
     "execution_count": 146,
     "metadata": {},
     "output_type": "execute_result"
    }
   ],
   "source": [
    "bool(0)"
   ]
  },
  {
   "cell_type": "code",
   "execution_count": 147,
   "id": "ce3b5e11",
   "metadata": {},
   "outputs": [
    {
     "data": {
      "text/plain": [
       "True"
      ]
     },
     "execution_count": 147,
     "metadata": {},
     "output_type": "execute_result"
    }
   ],
   "source": [
    "bool(1)"
   ]
  },
  {
   "cell_type": "code",
   "execution_count": 148,
   "id": "759c48e8",
   "metadata": {},
   "outputs": [
    {
     "data": {
      "text/plain": [
       "True"
      ]
     },
     "execution_count": 148,
     "metadata": {},
     "output_type": "execute_result"
    }
   ],
   "source": [
    "bool(1657)"
   ]
  },
  {
   "cell_type": "code",
   "execution_count": 149,
   "id": "2d7f1072",
   "metadata": {},
   "outputs": [
    {
     "data": {
      "text/plain": [
       "True"
      ]
     },
     "execution_count": 149,
     "metadata": {},
     "output_type": "execute_result"
    }
   ],
   "source": [
    "bool(-1657)"
   ]
  },
  {
   "cell_type": "code",
   "execution_count": 150,
   "id": "7b962943",
   "metadata": {},
   "outputs": [
    {
     "data": {
      "text/plain": [
       "True"
      ]
     },
     "execution_count": 150,
     "metadata": {},
     "output_type": "execute_result"
    }
   ],
   "source": [
    "bool(1657.56758)"
   ]
  },
  {
   "cell_type": "code",
   "execution_count": null,
   "id": "712cbcdf",
   "metadata": {},
   "outputs": [],
   "source": []
  },
  {
   "cell_type": "code",
   "execution_count": null,
   "id": "5a34dd3f",
   "metadata": {},
   "outputs": [],
   "source": []
  },
  {
   "cell_type": "code",
   "execution_count": 151,
   "id": "c689445b",
   "metadata": {},
   "outputs": [
    {
     "data": {
      "text/plain": [
       "False"
      ]
     },
     "execution_count": 151,
     "metadata": {},
     "output_type": "execute_result"
    }
   ],
   "source": [
    "4 == 5"
   ]
  },
  {
   "cell_type": "code",
   "execution_count": 152,
   "id": "efbc7573",
   "metadata": {},
   "outputs": [
    {
     "data": {
      "text/plain": [
       "True"
      ]
     },
     "execution_count": 152,
     "metadata": {},
     "output_type": "execute_result"
    }
   ],
   "source": [
    "5 != 6"
   ]
  },
  {
   "cell_type": "code",
   "execution_count": 153,
   "id": "ddec1561",
   "metadata": {},
   "outputs": [
    {
     "data": {
      "text/plain": [
       "False"
      ]
     },
     "execution_count": 153,
     "metadata": {},
     "output_type": "execute_result"
    }
   ],
   "source": [
    "6 != 6"
   ]
  },
  {
   "cell_type": "code",
   "execution_count": 154,
   "id": "e2df7681",
   "metadata": {},
   "outputs": [
    {
     "data": {
      "text/plain": [
       "True"
      ]
     },
     "execution_count": 154,
     "metadata": {},
     "output_type": "execute_result"
    }
   ],
   "source": [
    " 5 > 3"
   ]
  },
  {
   "cell_type": "code",
   "execution_count": 155,
   "id": "af206fc6",
   "metadata": {},
   "outputs": [
    {
     "data": {
      "text/plain": [
       "False"
      ]
     },
     "execution_count": 155,
     "metadata": {},
     "output_type": "execute_result"
    }
   ],
   "source": [
    "5 > 5"
   ]
  },
  {
   "cell_type": "code",
   "execution_count": 156,
   "id": "5fcc6d93",
   "metadata": {},
   "outputs": [
    {
     "data": {
      "text/plain": [
       "bool"
      ]
     },
     "execution_count": 156,
     "metadata": {},
     "output_type": "execute_result"
    }
   ],
   "source": [
    "type(5 >= 5)"
   ]
  },
  {
   "cell_type": "code",
   "execution_count": 157,
   "id": "8d75302e",
   "metadata": {},
   "outputs": [
    {
     "data": {
      "text/plain": [
       "bool"
      ]
     },
     "execution_count": 157,
     "metadata": {},
     "output_type": "execute_result"
    }
   ],
   "source": [
    "type(True)"
   ]
  },
  {
   "cell_type": "code",
   "execution_count": 158,
   "id": "d1f1fa70",
   "metadata": {},
   "outputs": [
    {
     "data": {
      "text/plain": [
       "bool"
      ]
     },
     "execution_count": 158,
     "metadata": {},
     "output_type": "execute_result"
    }
   ],
   "source": [
    "type(False)"
   ]
  },
  {
   "cell_type": "code",
   "execution_count": null,
   "id": "06c40ddf",
   "metadata": {},
   "outputs": [],
   "source": [
    "type(\"true\")"
   ]
  },
  {
   "cell_type": "code",
   "execution_count": null,
   "id": "0e89ba28",
   "metadata": {},
   "outputs": [],
   "source": [
    "int(True)"
   ]
  },
  {
   "cell_type": "code",
   "execution_count": null,
   "id": "500ebf7f",
   "metadata": {},
   "outputs": [],
   "source": [
    "int(False)"
   ]
  },
  {
   "cell_type": "code",
   "execution_count": null,
   "id": "f9a0e97e",
   "metadata": {},
   "outputs": [],
   "source": [
    "bool(3)"
   ]
  },
  {
   "cell_type": "code",
   "execution_count": 159,
   "id": "19b35544",
   "metadata": {},
   "outputs": [
    {
     "data": {
      "text/plain": [
       "True"
      ]
     },
     "execution_count": 159,
     "metadata": {},
     "output_type": "execute_result"
    }
   ],
   "source": [
    "b= -66\n",
    "bool(b)"
   ]
  },
  {
   "cell_type": "code",
   "execution_count": null,
   "id": "40595481",
   "metadata": {},
   "outputs": [],
   "source": [
    "5 < 4 "
   ]
  },
  {
   "cell_type": "code",
   "execution_count": null,
   "id": "826675e2",
   "metadata": {},
   "outputs": [],
   "source": [
    "5 <= 4 "
   ]
  },
  {
   "cell_type": "code",
   "execution_count": null,
   "id": "40ea64e8",
   "metadata": {},
   "outputs": [],
   "source": [
    "5 <= 6"
   ]
  },
  {
   "cell_type": "code",
   "execution_count": null,
   "id": "444da933",
   "metadata": {},
   "outputs": [],
   "source": []
  },
  {
   "cell_type": "raw",
   "id": "5b894660",
   "metadata": {},
   "source": [
    "3) Logical Operator :-\n",
    "\n",
    "    Operator\t             Description\t\n",
    "    and      Logical AND\t    If both the operands are true then condition becomes true.\t(a and b) is true.\n",
    "    or        Logical OR\t    If any of the two operands are non-zero then condition becomes true. (a or b) is true.\n",
    "    not       Logical NOT\t    Used to reverse the logical state of its operand."
   ]
  },
  {
   "cell_type": "code",
   "execution_count": null,
   "id": "ead5e927",
   "metadata": {},
   "outputs": [],
   "source": [
    "# and\n",
    "True and True ===> True\n",
    "True and False ===> False\n",
    "False and True===> False\n",
    "False and False ===> False"
   ]
  },
  {
   "cell_type": "code",
   "execution_count": null,
   "id": "0c7f6e49",
   "metadata": {},
   "outputs": [],
   "source": []
  },
  {
   "cell_type": "code",
   "execution_count": 160,
   "id": "e05c6e35",
   "metadata": {},
   "outputs": [
    {
     "name": "stdout",
     "output_type": "stream",
     "text": [
      "True\n"
     ]
    }
   ],
   "source": [
    "print(12 < 13 and 7 == 7)    "
   ]
  },
  {
   "cell_type": "code",
   "execution_count": 161,
   "id": "4cb88950",
   "metadata": {},
   "outputs": [
    {
     "name": "stdout",
     "output_type": "stream",
     "text": [
      "False\n"
     ]
    }
   ],
   "source": [
    "print(12 >= 13 and 7 != 6)   "
   ]
  },
  {
   "cell_type": "code",
   "execution_count": 162,
   "id": "c9842e98",
   "metadata": {},
   "outputs": [
    {
     "name": "stdout",
     "output_type": "stream",
     "text": [
      "False\n"
     ]
    }
   ],
   "source": [
    "print(12 == 11 and 7 == 8)  "
   ]
  },
  {
   "cell_type": "code",
   "execution_count": 163,
   "id": "e24f5580",
   "metadata": {},
   "outputs": [
    {
     "name": "stdout",
     "output_type": "stream",
     "text": [
      "False\n"
     ]
    }
   ],
   "source": [
    " \n",
    "print(12 > 11 and 7 == 8)  "
   ]
  },
  {
   "cell_type": "code",
   "execution_count": 164,
   "id": "67f229cb",
   "metadata": {},
   "outputs": [
    {
     "name": "stdout",
     "output_type": "stream",
     "text": [
      "True\n"
     ]
    }
   ],
   "source": [
    "print(12 > 11 and 7 != 8)  "
   ]
  },
  {
   "cell_type": "code",
   "execution_count": null,
   "id": "196881c5",
   "metadata": {},
   "outputs": [],
   "source": [
    "print(12 < 13 or 7 == 7)    # True\n",
    "print(12 >= 13 or 7 != 6)   # True\n",
    "print(12 == 11 or 7 == 8)   # False\n",
    "print(12 > 11 or 7 == 8)    # True"
   ]
  },
  {
   "cell_type": "code",
   "execution_count": null,
   "id": "5e57df4e",
   "metadata": {},
   "outputs": [],
   "source": []
  },
  {
   "cell_type": "code",
   "execution_count": null,
   "id": "b35485a4",
   "metadata": {},
   "outputs": [],
   "source": [
    "a = 5 < 4 "
   ]
  },
  {
   "cell_type": "code",
   "execution_count": null,
   "id": "c282324d",
   "metadata": {},
   "outputs": [],
   "source": [
    "b = 5 <= 6"
   ]
  },
  {
   "cell_type": "code",
   "execution_count": null,
   "id": "c5890acd",
   "metadata": {},
   "outputs": [],
   "source": [
    "print(a)\n",
    "print(b)"
   ]
  },
  {
   "cell_type": "code",
   "execution_count": null,
   "id": "9e3aaf6f",
   "metadata": {},
   "outputs": [],
   "source": [
    "a and b"
   ]
  },
  {
   "cell_type": "code",
   "execution_count": null,
   "id": "9682b01a",
   "metadata": {},
   "outputs": [],
   "source": [
    "2>3 and 5<6"
   ]
  },
  {
   "cell_type": "code",
   "execution_count": null,
   "id": "db0db12c",
   "metadata": {},
   "outputs": [],
   "source": []
  },
  {
   "cell_type": "code",
   "execution_count": null,
   "id": "7a7ed430",
   "metadata": {},
   "outputs": [],
   "source": []
  },
  {
   "cell_type": "code",
   "execution_count": null,
   "id": "5ec6feff",
   "metadata": {},
   "outputs": [],
   "source": []
  },
  {
   "cell_type": "code",
   "execution_count": null,
   "id": "99dc737c",
   "metadata": {},
   "outputs": [],
   "source": []
  },
  {
   "cell_type": "code",
   "execution_count": null,
   "id": "242e16ee",
   "metadata": {},
   "outputs": [],
   "source": []
  },
  {
   "cell_type": "code",
   "execution_count": null,
   "id": "b0562305",
   "metadata": {},
   "outputs": [],
   "source": []
  },
  {
   "cell_type": "code",
   "execution_count": null,
   "id": "26a58154",
   "metadata": {},
   "outputs": [],
   "source": [
    "# OR\n",
    "True or True ===> True\n",
    "True or False ===> True\n",
    "False or True===> True\n",
    "False or False ===> False"
   ]
  },
  {
   "cell_type": "code",
   "execution_count": 165,
   "id": "037be7e1",
   "metadata": {},
   "outputs": [
    {
     "data": {
      "text/plain": [
       "True"
      ]
     },
     "execution_count": 165,
     "metadata": {},
     "output_type": "execute_result"
    }
   ],
   "source": [
    "2<3 or 5<4"
   ]
  },
  {
   "cell_type": "code",
   "execution_count": 166,
   "id": "0c13d1f1",
   "metadata": {},
   "outputs": [
    {
     "data": {
      "text/plain": [
       "True"
      ]
     },
     "execution_count": 166,
     "metadata": {},
     "output_type": "execute_result"
    }
   ],
   "source": [
    "2<3 or 5>4"
   ]
  },
  {
   "cell_type": "code",
   "execution_count": 167,
   "id": "128681fb",
   "metadata": {},
   "outputs": [
    {
     "data": {
      "text/plain": [
       "False"
      ]
     },
     "execution_count": 167,
     "metadata": {},
     "output_type": "execute_result"
    }
   ],
   "source": [
    "2>3 or 5<4"
   ]
  },
  {
   "cell_type": "code",
   "execution_count": 168,
   "id": "3e762f0e",
   "metadata": {},
   "outputs": [],
   "source": [
    "a = 2<3 or 5<4"
   ]
  },
  {
   "cell_type": "code",
   "execution_count": 169,
   "id": "1d1d25c5",
   "metadata": {},
   "outputs": [
    {
     "data": {
      "text/plain": [
       "True"
      ]
     },
     "execution_count": 169,
     "metadata": {},
     "output_type": "execute_result"
    }
   ],
   "source": [
    "a"
   ]
  },
  {
   "cell_type": "code",
   "execution_count": 170,
   "id": "20112955",
   "metadata": {},
   "outputs": [],
   "source": [
    "bb = 2>3 or 5<4"
   ]
  },
  {
   "cell_type": "code",
   "execution_count": 171,
   "id": "afa10489",
   "metadata": {},
   "outputs": [
    {
     "data": {
      "text/plain": [
       "-66"
      ]
     },
     "execution_count": 171,
     "metadata": {},
     "output_type": "execute_result"
    }
   ],
   "source": [
    "b"
   ]
  },
  {
   "cell_type": "code",
   "execution_count": 173,
   "id": "36fc8ece",
   "metadata": {},
   "outputs": [
    {
     "data": {
      "text/plain": [
       "False"
      ]
     },
     "execution_count": 173,
     "metadata": {},
     "output_type": "execute_result"
    }
   ],
   "source": [
    "bb"
   ]
  },
  {
   "cell_type": "code",
   "execution_count": 174,
   "id": "2e143dd9",
   "metadata": {},
   "outputs": [
    {
     "data": {
      "text/plain": [
       "True"
      ]
     },
     "execution_count": 174,
     "metadata": {},
     "output_type": "execute_result"
    }
   ],
   "source": [
    "not bb"
   ]
  },
  {
   "cell_type": "code",
   "execution_count": null,
   "id": "5b62e4ea",
   "metadata": {},
   "outputs": [],
   "source": [
    "# not"
   ]
  },
  {
   "cell_type": "code",
   "execution_count": null,
   "id": "f81b09ba",
   "metadata": {},
   "outputs": [],
   "source": [
    "cc = not bb"
   ]
  },
  {
   "cell_type": "code",
   "execution_count": null,
   "id": "2e3be266",
   "metadata": {},
   "outputs": [],
   "source": [
    "cc"
   ]
  },
  {
   "cell_type": "code",
   "execution_count": null,
   "id": "2a9eba7f",
   "metadata": {},
   "outputs": [],
   "source": [
    "not cc"
   ]
  },
  {
   "cell_type": "markdown",
   "id": "9aae7765",
   "metadata": {},
   "source": [
    "There are two built-in functions for multiple condition\n",
    "\n",
    "all() :- True if all True otherwise False\n",
    "any() :- True if at least one is True\n",
    "\n",
    "The all() function returns True if all elements in the iterable are truthy (i.e., non-zero, non-empty, or True), or False if at least one element is falsy (i.e., zero, empty, or False)"
   ]
  },
  {
   "cell_type": "code",
   "execution_count": 175,
   "id": "2b684297",
   "metadata": {},
   "outputs": [
    {
     "data": {
      "text/plain": [
       "True"
      ]
     },
     "execution_count": 175,
     "metadata": {},
     "output_type": "execute_result"
    }
   ],
   "source": [
    "all((12 < 13 , 7 == 7,12 <= 13 , 7 != 6)) "
   ]
  },
  {
   "cell_type": "code",
   "execution_count": 176,
   "id": "41dd9f21",
   "metadata": {},
   "outputs": [
    {
     "data": {
      "text/plain": [
       "False"
      ]
     },
     "execution_count": 176,
     "metadata": {},
     "output_type": "execute_result"
    }
   ],
   "source": [
    "all((12 < 13 , 7 == 7,12 <= 13 , 7 != 6 , 0))   #why?"
   ]
  },
  {
   "cell_type": "code",
   "execution_count": 177,
   "id": "d1d55cc6",
   "metadata": {},
   "outputs": [
    {
     "data": {
      "text/plain": [
       "False"
      ]
     },
     "execution_count": 177,
     "metadata": {},
     "output_type": "execute_result"
    }
   ],
   "source": [
    "all((12 < 13 , 7 == 7,12 <= 13 , 7 != 6 ,False))"
   ]
  },
  {
   "cell_type": "code",
   "execution_count": 178,
   "id": "f464c801",
   "metadata": {},
   "outputs": [
    {
     "data": {
      "text/plain": [
       "True"
      ]
     },
     "execution_count": 178,
     "metadata": {},
     "output_type": "execute_result"
    }
   ],
   "source": [
    "any((12 < 13 , 7 == 7,12 <= 13 , 7 != 6 , 0))"
   ]
  },
  {
   "cell_type": "markdown",
   "id": "4067f33a",
   "metadata": {},
   "source": [
    "## 4) Special operators"
   ]
  },
  {
   "cell_type": "markdown",
   "id": "5e418a8c",
   "metadata": {},
   "source": [
    "4) Special operators :- 1) Identity operators\n",
    "                        2) Membership operators"
   ]
  },
  {
   "cell_type": "markdown",
   "id": "e02bb9f0",
   "metadata": {},
   "source": [
    "1) Identity operators\n",
    "\n",
    "    Operator\tDescription\t\n",
    "      is \t    Returns true if both variables are the same object\t\n",
    "     is not  \tReturns true if both variables are not the same object"
   ]
  },
  {
   "cell_type": "code",
   "execution_count": 179,
   "id": "7c6f0b7f",
   "metadata": {},
   "outputs": [],
   "source": [
    "# eg\n",
    "x = 10\n",
    "y = 11 \n",
    "z = 10"
   ]
  },
  {
   "cell_type": "code",
   "execution_count": 180,
   "id": "7d8d371e",
   "metadata": {},
   "outputs": [
    {
     "data": {
      "text/plain": [
       "10"
      ]
     },
     "execution_count": 180,
     "metadata": {},
     "output_type": "execute_result"
    }
   ],
   "source": [
    "x"
   ]
  },
  {
   "cell_type": "code",
   "execution_count": 181,
   "id": "f2a22e5b",
   "metadata": {},
   "outputs": [
    {
     "data": {
      "text/plain": [
       "11"
      ]
     },
     "execution_count": 181,
     "metadata": {},
     "output_type": "execute_result"
    }
   ],
   "source": [
    "y"
   ]
  },
  {
   "cell_type": "code",
   "execution_count": 182,
   "id": "d8e7108b",
   "metadata": {},
   "outputs": [
    {
     "data": {
      "text/plain": [
       "10"
      ]
     },
     "execution_count": 182,
     "metadata": {},
     "output_type": "execute_result"
    }
   ],
   "source": [
    "z"
   ]
  },
  {
   "cell_type": "code",
   "execution_count": 183,
   "id": "e621a75f",
   "metadata": {},
   "outputs": [
    {
     "name": "stdout",
     "output_type": "stream",
     "text": [
      "False\n",
      "True\n"
     ]
    }
   ],
   "source": [
    "print(x is y) \n",
    "print(x is z) "
   ]
  },
  {
   "cell_type": "code",
   "execution_count": 184,
   "id": "1854ff9c",
   "metadata": {},
   "outputs": [
    {
     "name": "stdout",
     "output_type": "stream",
     "text": [
      "True\n",
      "False\n"
     ]
    }
   ],
   "source": [
    "print(x is not y) \n",
    "print(x is not z) "
   ]
  },
  {
   "cell_type": "code",
   "execution_count": 185,
   "id": "c032527d",
   "metadata": {},
   "outputs": [
    {
     "name": "stdout",
     "output_type": "stream",
     "text": [
      "2000194136656\n",
      "2000194136688\n",
      "2000194136656\n"
     ]
    }
   ],
   "source": [
    "print(id(x))\n",
    "print(id(y))\n",
    "print(id(z))"
   ]
  },
  {
   "cell_type": "code",
   "execution_count": 186,
   "id": "7b8d0964",
   "metadata": {},
   "outputs": [],
   "source": [
    "a=\"5\""
   ]
  },
  {
   "cell_type": "code",
   "execution_count": 187,
   "id": "32ac5672",
   "metadata": {},
   "outputs": [
    {
     "data": {
      "text/plain": [
       "'5'"
      ]
     },
     "execution_count": 187,
     "metadata": {},
     "output_type": "execute_result"
    }
   ],
   "source": [
    "a"
   ]
  },
  {
   "cell_type": "code",
   "execution_count": 188,
   "id": "c0587cb7",
   "metadata": {},
   "outputs": [],
   "source": [
    "b=5"
   ]
  },
  {
   "cell_type": "code",
   "execution_count": 189,
   "id": "17d3366a",
   "metadata": {},
   "outputs": [
    {
     "data": {
      "text/plain": [
       "5"
      ]
     },
     "execution_count": 189,
     "metadata": {},
     "output_type": "execute_result"
    }
   ],
   "source": [
    "b"
   ]
  },
  {
   "cell_type": "code",
   "execution_count": 190,
   "id": "109a4c67",
   "metadata": {},
   "outputs": [],
   "source": [
    "c=5.0"
   ]
  },
  {
   "cell_type": "code",
   "execution_count": 191,
   "id": "d04c357c",
   "metadata": {},
   "outputs": [
    {
     "data": {
      "text/plain": [
       "5.0"
      ]
     },
     "execution_count": 191,
     "metadata": {},
     "output_type": "execute_result"
    }
   ],
   "source": [
    "c"
   ]
  },
  {
   "cell_type": "code",
   "execution_count": 192,
   "id": "867d166d",
   "metadata": {},
   "outputs": [
    {
     "data": {
      "text/plain": [
       "False"
      ]
     },
     "execution_count": 192,
     "metadata": {},
     "output_type": "execute_result"
    }
   ],
   "source": [
    "a is b"
   ]
  },
  {
   "cell_type": "code",
   "execution_count": 193,
   "id": "8547e2d0",
   "metadata": {},
   "outputs": [
    {
     "data": {
      "text/plain": [
       "2000196297840"
      ]
     },
     "execution_count": 193,
     "metadata": {},
     "output_type": "execute_result"
    }
   ],
   "source": [
    "id(a)"
   ]
  },
  {
   "cell_type": "code",
   "execution_count": 194,
   "id": "4966cce3",
   "metadata": {},
   "outputs": [
    {
     "data": {
      "text/plain": [
       "2000194136496"
      ]
     },
     "execution_count": 194,
     "metadata": {},
     "output_type": "execute_result"
    }
   ],
   "source": [
    "id(b)"
   ]
  },
  {
   "cell_type": "code",
   "execution_count": 195,
   "id": "e120e90e",
   "metadata": {},
   "outputs": [
    {
     "data": {
      "text/plain": [
       "False"
      ]
     },
     "execution_count": 195,
     "metadata": {},
     "output_type": "execute_result"
    }
   ],
   "source": [
    "c is b"
   ]
  },
  {
   "cell_type": "code",
   "execution_count": 196,
   "id": "cb30edc0",
   "metadata": {},
   "outputs": [
    {
     "data": {
      "text/plain": [
       "2000275428240"
      ]
     },
     "execution_count": 196,
     "metadata": {},
     "output_type": "execute_result"
    }
   ],
   "source": [
    "id(c)"
   ]
  },
  {
   "cell_type": "code",
   "execution_count": 197,
   "id": "a9cfc5a0",
   "metadata": {},
   "outputs": [
    {
     "data": {
      "text/plain": [
       "2000194136496"
      ]
     },
     "execution_count": 197,
     "metadata": {},
     "output_type": "execute_result"
    }
   ],
   "source": [
    "id(b)"
   ]
  },
  {
   "cell_type": "code",
   "execution_count": null,
   "id": "fbda2fdc",
   "metadata": {},
   "outputs": [],
   "source": []
  },
  {
   "cell_type": "code",
   "execution_count": null,
   "id": "e6b862c3",
   "metadata": {},
   "outputs": [],
   "source": []
  },
  {
   "cell_type": "markdown",
   "id": "1c014923",
   "metadata": {},
   "source": [
    "2) Membership Operator\n",
    "\n",
    "    Operator\t   Description\t\n",
    "      in\t        Evaluates to true if it finds a variable in the specified sequence and false otherwise.\n",
    "      not in\t    Evaluates to true if it does not finds a variable in the specified sequence and false otherwise."
   ]
  },
  {
   "cell_type": "code",
   "execution_count": 198,
   "id": "1655c1db",
   "metadata": {},
   "outputs": [],
   "source": [
    "a = 'h'\n",
    "b = 'hello'\n",
    "c = 'world'"
   ]
  },
  {
   "cell_type": "code",
   "execution_count": 199,
   "id": "3d5236fa",
   "metadata": {},
   "outputs": [
    {
     "name": "stdout",
     "output_type": "stream",
     "text": [
      "True\n"
     ]
    }
   ],
   "source": [
    "print(a in b)"
   ]
  },
  {
   "cell_type": "code",
   "execution_count": 200,
   "id": "c12e41c7",
   "metadata": {},
   "outputs": [
    {
     "name": "stdout",
     "output_type": "stream",
     "text": [
      "False\n"
     ]
    }
   ],
   "source": [
    "print(a in c)"
   ]
  },
  {
   "cell_type": "code",
   "execution_count": 201,
   "id": "125c68a3",
   "metadata": {},
   "outputs": [
    {
     "name": "stdout",
     "output_type": "stream",
     "text": [
      "True\n"
     ]
    }
   ],
   "source": [
    "print(a not in c)"
   ]
  },
  {
   "cell_type": "code",
   "execution_count": null,
   "id": "b28e77df",
   "metadata": {},
   "outputs": [],
   "source": []
  },
  {
   "cell_type": "markdown",
   "id": "b471133f",
   "metadata": {},
   "source": [
    "## 5) Assignment operators"
   ]
  },
  {
   "cell_type": "markdown",
   "id": "5056947b",
   "metadata": {},
   "source": [
    "5) Assignment operators:-\n",
    "\n",
    "        Operator\t    Description\t                                                            \n",
    "    =\t                Assigns values from right side operands to left side operand\t\n",
    "    +=  Add AND\t        It adds right operand to the left operand and assign the result to left operand\t\n",
    "    -=  Subtract AND\tIt subtracts right operand from the left operand and assign the result to left operand\t\n",
    "    *=  Multiply AND\tIt multiplies right operand with the left operand and assign the result to left operand\t\n",
    "    /=  Divide AND\t    It divides left operand with the right operand and assign the result to left operand\t\n",
    "    %=  Modulus AND\t    It takes modulus using two operands and assign the result to left operand\tc %= a is equivalent to \n",
    "    **=  Exponent AND\tPerforms exponential (power) calculation on operators and assign value to the left operand\t\n",
    "    //=  Floor Division\tIt performs floor division on operators and assign value to the left operand"
   ]
  },
  {
   "cell_type": "code",
   "execution_count": 205,
   "id": "891999a2",
   "metadata": {},
   "outputs": [],
   "source": [
    "# eg.\n",
    "z=5"
   ]
  },
  {
   "cell_type": "code",
   "execution_count": 206,
   "id": "88b55eb6",
   "metadata": {},
   "outputs": [],
   "source": [
    "z+=2"
   ]
  },
  {
   "cell_type": "code",
   "execution_count": 207,
   "id": "b08e8322",
   "metadata": {},
   "outputs": [
    {
     "name": "stdout",
     "output_type": "stream",
     "text": [
      "7\n"
     ]
    }
   ],
   "source": [
    "print(z)"
   ]
  },
  {
   "cell_type": "code",
   "execution_count": 208,
   "id": "217521b3",
   "metadata": {},
   "outputs": [],
   "source": [
    "z-=3"
   ]
  },
  {
   "cell_type": "code",
   "execution_count": 209,
   "id": "d45ec3a9",
   "metadata": {},
   "outputs": [
    {
     "name": "stdout",
     "output_type": "stream",
     "text": [
      "4\n"
     ]
    }
   ],
   "source": [
    "print(z)"
   ]
  },
  {
   "cell_type": "code",
   "execution_count": 210,
   "id": "d5635109",
   "metadata": {},
   "outputs": [
    {
     "name": "stdout",
     "output_type": "stream",
     "text": [
      "8\n"
     ]
    }
   ],
   "source": [
    "z*=2\n",
    "print(z)"
   ]
  },
  {
   "cell_type": "code",
   "execution_count": 211,
   "id": "6b9a0c2f",
   "metadata": {},
   "outputs": [
    {
     "name": "stdout",
     "output_type": "stream",
     "text": [
      "64\n"
     ]
    }
   ],
   "source": [
    "z**=2\n",
    "print(z)"
   ]
  },
  {
   "cell_type": "code",
   "execution_count": 212,
   "id": "079825df",
   "metadata": {},
   "outputs": [
    {
     "name": "stdout",
     "output_type": "stream",
     "text": [
      "32.0\n"
     ]
    }
   ],
   "source": [
    "z/=2\n",
    "print(z)"
   ]
  },
  {
   "cell_type": "code",
   "execution_count": 213,
   "id": "20ec34c4",
   "metadata": {},
   "outputs": [
    {
     "name": "stdout",
     "output_type": "stream",
     "text": [
      "16.0\n"
     ]
    }
   ],
   "source": [
    "z//=2\n",
    "print(z)"
   ]
  },
  {
   "cell_type": "code",
   "execution_count": 214,
   "id": "865e97d2",
   "metadata": {},
   "outputs": [
    {
     "name": "stdout",
     "output_type": "stream",
     "text": [
      "0.0\n"
     ]
    }
   ],
   "source": [
    "z%=2\n",
    "print(z)"
   ]
  },
  {
   "cell_type": "code",
   "execution_count": null,
   "id": "a184c0b0",
   "metadata": {},
   "outputs": [],
   "source": []
  },
  {
   "cell_type": "code",
   "execution_count": 215,
   "id": "aafd0bfd",
   "metadata": {},
   "outputs": [
    {
     "name": "stdout",
     "output_type": "stream",
     "text": [
      "2\n",
      "3\n",
      "4\n",
      "1\n",
      "2\n",
      "1.0\n",
      "0\n",
      "4\n",
      "2\n"
     ]
    }
   ],
   "source": [
    "# eg.\n",
    "a = 2\n",
    "b = 2\n",
    "c = 10\n",
    "print(a)\n",
    "a = 3\n",
    "print(a)\n",
    "a +=1\n",
    "print(a)\n",
    "b -= 1\n",
    "print(b)\n",
    "b *= 2\n",
    "print(b)\n",
    "b /= 2\n",
    "print(b)\n",
    "c %= 2\n",
    "print(c)\n",
    "c +=2\n",
    "c **=2\n",
    "print(c)\n",
    "c //=2\n",
    "print(c)"
   ]
  },
  {
   "cell_type": "code",
   "execution_count": null,
   "id": "c0bca7f6",
   "metadata": {},
   "outputs": [],
   "source": [
    "2%9"
   ]
  },
  {
   "cell_type": "code",
   "execution_count": null,
   "id": "d35ef3ca",
   "metadata": {},
   "outputs": [],
   "source": [
    "9%2"
   ]
  },
  {
   "cell_type": "code",
   "execution_count": null,
   "id": "8d1ec652",
   "metadata": {},
   "outputs": [],
   "source": []
  }
 ],
 "metadata": {
  "kernelspec": {
   "display_name": "Python 3 (ipykernel)",
   "language": "python",
   "name": "python3"
  },
  "language_info": {
   "codemirror_mode": {
    "name": "ipython",
    "version": 3
   },
   "file_extension": ".py",
   "mimetype": "text/x-python",
   "name": "python",
   "nbconvert_exporter": "python",
   "pygments_lexer": "ipython3",
   "version": "3.9.13"
  }
 },
 "nbformat": 4,
 "nbformat_minor": 5
}
