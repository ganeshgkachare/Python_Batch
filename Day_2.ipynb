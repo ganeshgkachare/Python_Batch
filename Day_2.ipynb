{
 "cells": [
  {
   "cell_type": "markdown",
   "id": "db0bdd2d",
   "metadata": {},
   "source": [
    "# Data-Types"
   ]
  },
  {
   "cell_type": "raw",
   "id": "d32d7168",
   "metadata": {},
   "source": [
    "# Data-Types:- 1) Numbers (integers, float, complex)\n",
    "             2) String \n",
    "             3) List\n",
    "             4) Tuple\n",
    "             5) set\n",
    "             6) Dictionary\n",
    "\n",
    "Datatypes are classified into two type\n",
    "    1) Immutable (Hashable) and\n",
    "    2) Mutable (Unhashable)\n",
    "    \n",
    "Immutable data Type: A data value which cannot be modified.\n",
    "mutable data Type : A data value which can be modified.\n",
    "\n",
    "Immutable (Hashable) data Type:\n",
    "             1) Numbers (integers, float, complex) \n",
    "             2) String  \n",
    "             3) Tuple\n",
    "             \n",
    "Mutable (Unhashable) data Type:\n",
    "             1) List\n",
    "             2) set \n",
    "             3) Dictionary \n",
    "\n",
    "\n",
    "\n",
    "To verify the type of any object in Python, use the type() function:"
   ]
  },
  {
   "cell_type": "code",
   "execution_count": 3,
   "id": "aa2e19cb",
   "metadata": {},
   "outputs": [],
   "source": [
    "a=5"
   ]
  },
  {
   "cell_type": "code",
   "execution_count": null,
   "id": "1874a447",
   "metadata": {},
   "outputs": [],
   "source": [
    "a"
   ]
  },
  {
   "cell_type": "markdown",
   "id": "40c766e0",
   "metadata": {},
   "source": [
    "## Numbers (integers, float, complex)"
   ]
  },
  {
   "cell_type": "raw",
   "id": "30e37b21",
   "metadata": {},
   "source": [
    "Number data types store numeric values.\n",
    "           1) int\n",
    "           2) float\n",
    "           3) complex"
   ]
  },
  {
   "cell_type": "code",
   "execution_count": null,
   "id": "9b8aab3e",
   "metadata": {},
   "outputs": [],
   "source": [
    "# 1) int\n",
    "#     Integer is a whole number, positive or negative or zero, without decimals."
   ]
  },
  {
   "cell_type": "code",
   "execution_count": 4,
   "id": "15136726",
   "metadata": {},
   "outputs": [
    {
     "name": "stdout",
     "output_type": "stream",
     "text": [
      "222\n",
      "<class 'int'>\n"
     ]
    }
   ],
   "source": [
    "a = 222\n",
    "print(a)\n",
    "print(type(a))"
   ]
  },
  {
   "cell_type": "code",
   "execution_count": 5,
   "id": "df5000f4",
   "metadata": {},
   "outputs": [
    {
     "name": "stdout",
     "output_type": "stream",
     "text": [
      "0\n",
      "<class 'int'>\n"
     ]
    }
   ],
   "source": [
    "b = 0\n",
    "print(b)\n",
    "print(type(b))"
   ]
  },
  {
   "cell_type": "code",
   "execution_count": 6,
   "id": "7ed1181d",
   "metadata": {},
   "outputs": [
    {
     "name": "stdout",
     "output_type": "stream",
     "text": [
      "-222\n",
      "<class 'int'>\n"
     ]
    }
   ],
   "source": [
    "a = -222\n",
    "print(a)\n",
    "print(type(b))"
   ]
  },
  {
   "cell_type": "code",
   "execution_count": null,
   "id": "a3d9e6a7",
   "metadata": {},
   "outputs": [],
   "source": [
    "# 2) float\n",
    "#    Float is a number, positive or negative or zero, containing one or more decimals."
   ]
  },
  {
   "cell_type": "code",
   "execution_count": 7,
   "id": "523e787d",
   "metadata": {},
   "outputs": [
    {
     "name": "stdout",
     "output_type": "stream",
     "text": [
      "222.222\n",
      "<class 'float'>\n"
     ]
    }
   ],
   "source": [
    "a = 222.222\n",
    "print(a)\n",
    "print(type(a))"
   ]
  },
  {
   "cell_type": "code",
   "execution_count": 8,
   "id": "d37bf15c",
   "metadata": {},
   "outputs": [
    {
     "name": "stdout",
     "output_type": "stream",
     "text": [
      "0.0\n",
      "<class 'float'>\n"
     ]
    }
   ],
   "source": [
    "b = 0.0\n",
    "print(b)\n",
    "print(type(b))"
   ]
  },
  {
   "cell_type": "code",
   "execution_count": 9,
   "id": "0f8c4eb0",
   "metadata": {},
   "outputs": [
    {
     "name": "stdout",
     "output_type": "stream",
     "text": [
      "-1.2\n",
      "<class 'float'>\n"
     ]
    }
   ],
   "source": [
    "a = -1.2\n",
    "print(a)\n",
    "print(type(b))"
   ]
  },
  {
   "cell_type": "code",
   "execution_count": 10,
   "id": "ecb6a63d",
   "metadata": {},
   "outputs": [],
   "source": [
    "a=0"
   ]
  },
  {
   "cell_type": "code",
   "execution_count": 11,
   "id": "eb102766",
   "metadata": {},
   "outputs": [],
   "source": [
    "b=0.0"
   ]
  },
  {
   "cell_type": "code",
   "execution_count": 12,
   "id": "58e93950",
   "metadata": {},
   "outputs": [
    {
     "data": {
      "text/plain": [
       "1991372073232"
      ]
     },
     "execution_count": 12,
     "metadata": {},
     "output_type": "execute_result"
    }
   ],
   "source": [
    "id(a)"
   ]
  },
  {
   "cell_type": "code",
   "execution_count": 13,
   "id": "f3b20b1a",
   "metadata": {},
   "outputs": [
    {
     "data": {
      "text/plain": [
       "1991456452080"
      ]
     },
     "execution_count": 13,
     "metadata": {},
     "output_type": "execute_result"
    }
   ],
   "source": [
    "id(b)"
   ]
  },
  {
   "cell_type": "code",
   "execution_count": null,
   "id": "68f21647",
   "metadata": {},
   "outputs": [],
   "source": []
  },
  {
   "cell_type": "code",
   "execution_count": null,
   "id": "cfcdc3c8",
   "metadata": {},
   "outputs": [],
   "source": [
    "# 3) complex\n",
    "#   Complex numbers are written with a \"j\" as the imaginary part."
   ]
  },
  {
   "cell_type": "code",
   "execution_count": 14,
   "id": "9604cea4",
   "metadata": {},
   "outputs": [
    {
     "name": "stdout",
     "output_type": "stream",
     "text": [
      "(5+3j)\n",
      "<class 'complex'>\n"
     ]
    }
   ],
   "source": [
    "a = 5 + 3j\n",
    "print(a)\n",
    "print(type(a))"
   ]
  },
  {
   "cell_type": "code",
   "execution_count": 15,
   "id": "ef483c73",
   "metadata": {},
   "outputs": [
    {
     "name": "stdout",
     "output_type": "stream",
     "text": [
      "8j\n",
      "<class 'complex'>\n"
     ]
    }
   ],
   "source": [
    "b = 8j\n",
    "print(b)\n",
    "print(type(b))"
   ]
  },
  {
   "cell_type": "code",
   "execution_count": 16,
   "id": "0899c3b3",
   "metadata": {},
   "outputs": [
    {
     "name": "stdout",
     "output_type": "stream",
     "text": [
      "(8-1.2j)\n",
      "<class 'complex'>\n"
     ]
    }
   ],
   "source": [
    "a = -1.2j + 8\n",
    "print(a)\n",
    "print(type(a))"
   ]
  },
  {
   "cell_type": "code",
   "execution_count": null,
   "id": "ef8ff7f7",
   "metadata": {},
   "outputs": [],
   "source": [
    "## How delete variable"
   ]
  },
  {
   "cell_type": "code",
   "execution_count": 17,
   "id": "3e5ae8d4",
   "metadata": {},
   "outputs": [],
   "source": [
    "a=5"
   ]
  },
  {
   "cell_type": "code",
   "execution_count": 18,
   "id": "e4460153",
   "metadata": {},
   "outputs": [
    {
     "data": {
      "text/plain": [
       "5"
      ]
     },
     "execution_count": 18,
     "metadata": {},
     "output_type": "execute_result"
    }
   ],
   "source": [
    "a"
   ]
  },
  {
   "cell_type": "code",
   "execution_count": 19,
   "id": "215c43dd",
   "metadata": {},
   "outputs": [],
   "source": [
    "del a"
   ]
  },
  {
   "cell_type": "code",
   "execution_count": 20,
   "id": "fcf95f74",
   "metadata": {},
   "outputs": [
    {
     "ename": "NameError",
     "evalue": "name 'a' is not defined",
     "output_type": "error",
     "traceback": [
      "\u001b[1;31m---------------------------------------------------------------------------\u001b[0m",
      "\u001b[1;31mNameError\u001b[0m                                 Traceback (most recent call last)",
      "\u001b[1;32m~\\AppData\\Local\\Temp\\ipykernel_13192\\2167009006.py\u001b[0m in \u001b[0;36m<module>\u001b[1;34m\u001b[0m\n\u001b[1;32m----> 1\u001b[1;33m \u001b[0ma\u001b[0m\u001b[1;33m\u001b[0m\u001b[1;33m\u001b[0m\u001b[0m\n\u001b[0m",
      "\u001b[1;31mNameError\u001b[0m: name 'a' is not defined"
     ]
    }
   ],
   "source": [
    "a"
   ]
  },
  {
   "cell_type": "markdown",
   "id": "0967933d",
   "metadata": {},
   "source": [
    "## Python Casting (type conversion)"
   ]
  },
  {
   "cell_type": "code",
   "execution_count": 21,
   "id": "179d587e",
   "metadata": {},
   "outputs": [
    {
     "data": {
      "text/plain": [
       "int"
      ]
     },
     "execution_count": 21,
     "metadata": {},
     "output_type": "execute_result"
    }
   ],
   "source": [
    "#We can change int into float, float into int\n",
    "type(int(12.2))"
   ]
  },
  {
   "cell_type": "code",
   "execution_count": 22,
   "id": "a20341dd",
   "metadata": {},
   "outputs": [
    {
     "name": "stdout",
     "output_type": "stream",
     "text": [
      "6.0\n",
      "<class 'float'>\n"
     ]
    }
   ],
   "source": [
    "a=6\n",
    "b=float(a)\n",
    "print(b)\n",
    "print(type(b))"
   ]
  },
  {
   "cell_type": "code",
   "execution_count": null,
   "id": "bad045e3",
   "metadata": {},
   "outputs": [],
   "source": []
  },
  {
   "cell_type": "code",
   "execution_count": 23,
   "id": "1f7882cb",
   "metadata": {},
   "outputs": [
    {
     "name": "stdout",
     "output_type": "stream",
     "text": [
      "12.0 <class 'float'>\n"
     ]
    }
   ],
   "source": [
    "a = 12.0\n",
    "print(a,type(a))"
   ]
  },
  {
   "cell_type": "code",
   "execution_count": 24,
   "id": "b6851cc3",
   "metadata": {},
   "outputs": [
    {
     "name": "stdout",
     "output_type": "stream",
     "text": [
      "12 <class 'int'>\n"
     ]
    }
   ],
   "source": [
    "b = int(a)\n",
    "print(b,type(b)) "
   ]
  },
  {
   "cell_type": "code",
   "execution_count": null,
   "id": "f5b6ba93",
   "metadata": {},
   "outputs": [],
   "source": [
    "#We can convert int and float into complex but we can not convert complex into int or float"
   ]
  },
  {
   "cell_type": "code",
   "execution_count": 25,
   "id": "a3a14b1e",
   "metadata": {},
   "outputs": [
    {
     "data": {
      "text/plain": [
       "(2+0j)"
      ]
     },
     "execution_count": 25,
     "metadata": {},
     "output_type": "execute_result"
    }
   ],
   "source": [
    "complex(2)"
   ]
  },
  {
   "cell_type": "code",
   "execution_count": 26,
   "id": "80f2bae5",
   "metadata": {},
   "outputs": [
    {
     "data": {
      "text/plain": [
       "(2.2+0j)"
      ]
     },
     "execution_count": 26,
     "metadata": {},
     "output_type": "execute_result"
    }
   ],
   "source": [
    "complex(2.2)"
   ]
  },
  {
   "cell_type": "code",
   "execution_count": 27,
   "id": "d90e42ac",
   "metadata": {},
   "outputs": [],
   "source": [
    "z=5+2j"
   ]
  },
  {
   "cell_type": "code",
   "execution_count": 28,
   "id": "33dda56c",
   "metadata": {},
   "outputs": [
    {
     "data": {
      "text/plain": [
       "(5+2j)"
      ]
     },
     "execution_count": 28,
     "metadata": {},
     "output_type": "execute_result"
    }
   ],
   "source": [
    "z"
   ]
  },
  {
   "cell_type": "code",
   "execution_count": 29,
   "id": "d4311e02",
   "metadata": {},
   "outputs": [
    {
     "data": {
      "text/plain": [
       "complex"
      ]
     },
     "execution_count": 29,
     "metadata": {},
     "output_type": "execute_result"
    }
   ],
   "source": [
    "type(z)"
   ]
  },
  {
   "cell_type": "code",
   "execution_count": 30,
   "id": "c048d43e",
   "metadata": {},
   "outputs": [
    {
     "ename": "TypeError",
     "evalue": "can't convert complex to int",
     "output_type": "error",
     "traceback": [
      "\u001b[1;31m---------------------------------------------------------------------------\u001b[0m",
      "\u001b[1;31mTypeError\u001b[0m                                 Traceback (most recent call last)",
      "\u001b[1;32m~\\AppData\\Local\\Temp\\ipykernel_13192\\3434479186.py\u001b[0m in \u001b[0;36m<module>\u001b[1;34m\u001b[0m\n\u001b[1;32m----> 1\u001b[1;33m \u001b[0mint\u001b[0m\u001b[1;33m(\u001b[0m\u001b[0mz\u001b[0m\u001b[1;33m)\u001b[0m\u001b[1;33m\u001b[0m\u001b[1;33m\u001b[0m\u001b[0m\n\u001b[0m",
      "\u001b[1;31mTypeError\u001b[0m: can't convert complex to int"
     ]
    }
   ],
   "source": [
    "int(z)"
   ]
  },
  {
   "cell_type": "code",
   "execution_count": 31,
   "id": "bd4e86c6",
   "metadata": {},
   "outputs": [
    {
     "ename": "TypeError",
     "evalue": "can't convert complex to float",
     "output_type": "error",
     "traceback": [
      "\u001b[1;31m---------------------------------------------------------------------------\u001b[0m",
      "\u001b[1;31mTypeError\u001b[0m                                 Traceback (most recent call last)",
      "\u001b[1;32m~\\AppData\\Local\\Temp\\ipykernel_13192\\3589137621.py\u001b[0m in \u001b[0;36m<module>\u001b[1;34m\u001b[0m\n\u001b[1;32m----> 1\u001b[1;33m \u001b[0mfloat\u001b[0m\u001b[1;33m(\u001b[0m\u001b[0mz\u001b[0m\u001b[1;33m)\u001b[0m\u001b[1;33m\u001b[0m\u001b[1;33m\u001b[0m\u001b[0m\n\u001b[0m",
      "\u001b[1;31mTypeError\u001b[0m: can't convert complex to float"
     ]
    }
   ],
   "source": [
    "float(z)"
   ]
  },
  {
   "cell_type": "code",
   "execution_count": null,
   "id": "9862e5e4",
   "metadata": {},
   "outputs": [],
   "source": []
  },
  {
   "cell_type": "markdown",
   "id": "9c49c43c",
   "metadata": {},
   "source": [
    "## String"
   ]
  },
  {
   "cell_type": "raw",
   "id": "691cd652",
   "metadata": {},
   "source": [
    "Strings are one of the fundamental Python data types.\n",
    "It is text or words or sentence in quotation mark (single or double). \n",
    "Strings are used to represent text.\n",
    "\n",
    "properties:\n",
    "1. Strings contain individual letters or symbols called characters.\n",
    "2. Characters in a string appear in a sequence, which means that each character has a numbered position in the string."
   ]
  },
  {
   "cell_type": "code",
   "execution_count": 33,
   "id": "6b23da00",
   "metadata": {},
   "outputs": [
    {
     "name": "stdout",
     "output_type": "stream",
     "text": [
      "Sai\n"
     ]
    }
   ],
   "source": [
    "# Here we assign Raj value to my_name variable\n",
    "\n",
    "my_name = \"Sai\"\n",
    "#          012\n",
    "print(my_name)"
   ]
  },
  {
   "cell_type": "code",
   "execution_count": 34,
   "id": "3b3432bc",
   "metadata": {},
   "outputs": [
    {
     "data": {
      "text/plain": [
       "'i'"
      ]
     },
     "execution_count": 34,
     "metadata": {},
     "output_type": "execute_result"
    }
   ],
   "source": [
    "my_name[2]"
   ]
  },
  {
   "cell_type": "code",
   "execution_count": 35,
   "id": "98139514",
   "metadata": {},
   "outputs": [
    {
     "data": {
      "text/plain": [
       "str"
      ]
     },
     "execution_count": 35,
     "metadata": {},
     "output_type": "execute_result"
    }
   ],
   "source": [
    "type(my_name)"
   ]
  },
  {
   "cell_type": "code",
   "execution_count": 36,
   "id": "2f6d393b",
   "metadata": {},
   "outputs": [
    {
     "data": {
      "text/plain": [
       "3"
      ]
     },
     "execution_count": 36,
     "metadata": {},
     "output_type": "execute_result"
    }
   ],
   "source": [
    "len(my_name)"
   ]
  },
  {
   "cell_type": "code",
   "execution_count": null,
   "id": "1bd7ca93",
   "metadata": {},
   "outputs": [],
   "source": [
    "# Multiline Strings :- You can assign a multiline string to a variable by using three quotes(sinle or double)"
   ]
  },
  {
   "cell_type": "code",
   "execution_count": 37,
   "id": "98407c98",
   "metadata": {},
   "outputs": [],
   "source": [
    "a = '''\n",
    "My\n",
    "Name\n",
    "Is\n",
    "Udit\n",
    "'''"
   ]
  },
  {
   "cell_type": "code",
   "execution_count": 38,
   "id": "46093487",
   "metadata": {},
   "outputs": [
    {
     "name": "stdout",
     "output_type": "stream",
     "text": [
      "\n",
      "My\n",
      "Name\n",
      "Is\n",
      "Udit\n",
      "\n"
     ]
    }
   ],
   "source": [
    "print(a)"
   ]
  },
  {
   "cell_type": "code",
   "execution_count": 39,
   "id": "28c33fdc",
   "metadata": {},
   "outputs": [
    {
     "name": "stdout",
     "output_type": "stream",
     "text": [
      "<class 'str'>\n"
     ]
    }
   ],
   "source": [
    "print(type(a))"
   ]
  },
  {
   "cell_type": "code",
   "execution_count": 40,
   "id": "39adc90b",
   "metadata": {},
   "outputs": [
    {
     "name": "stdout",
     "output_type": "stream",
     "text": [
      "17\n"
     ]
    }
   ],
   "source": [
    "print(len(a))"
   ]
  },
  {
   "cell_type": "code",
   "execution_count": 41,
   "id": "b9150220",
   "metadata": {},
   "outputs": [],
   "source": [
    "del a"
   ]
  },
  {
   "cell_type": "code",
   "execution_count": 42,
   "id": "93c253a6",
   "metadata": {},
   "outputs": [
    {
     "ename": "NameError",
     "evalue": "name 'a' is not defined",
     "output_type": "error",
     "traceback": [
      "\u001b[1;31m---------------------------------------------------------------------------\u001b[0m",
      "\u001b[1;31mNameError\u001b[0m                                 Traceback (most recent call last)",
      "\u001b[1;32m~\\AppData\\Local\\Temp\\ipykernel_13192\\2167009006.py\u001b[0m in \u001b[0;36m<module>\u001b[1;34m\u001b[0m\n\u001b[1;32m----> 1\u001b[1;33m \u001b[0ma\u001b[0m\u001b[1;33m\u001b[0m\u001b[1;33m\u001b[0m\u001b[0m\n\u001b[0m",
      "\u001b[1;31mNameError\u001b[0m: name 'a' is not defined"
     ]
    }
   ],
   "source": [
    "a"
   ]
  },
  {
   "cell_type": "code",
   "execution_count": null,
   "id": "36f1f7cc",
   "metadata": {},
   "outputs": [],
   "source": []
  },
  {
   "cell_type": "code",
   "execution_count": 43,
   "id": "b78c4ac7",
   "metadata": {},
   "outputs": [],
   "source": [
    "a = \"\"\"\n",
    "My\n",
    "Name\n",
    "Is\n",
    "Akul\n",
    "\"\"\""
   ]
  },
  {
   "cell_type": "code",
   "execution_count": 44,
   "id": "be27d9a2",
   "metadata": {},
   "outputs": [
    {
     "name": "stdout",
     "output_type": "stream",
     "text": [
      "\n",
      "My\n",
      "Name\n",
      "Is\n",
      "Akul\n",
      "\n",
      "<class 'str'>\n",
      "17\n"
     ]
    }
   ],
   "source": [
    "print(a)\n",
    "print(type(a))\n",
    "print(len(a))"
   ]
  },
  {
   "cell_type": "code",
   "execution_count": null,
   "id": "79da8858",
   "metadata": {},
   "outputs": [],
   "source": []
  },
  {
   "cell_type": "code",
   "execution_count": null,
   "id": "14bd6c34",
   "metadata": {},
   "outputs": [],
   "source": []
  },
  {
   "cell_type": "markdown",
   "id": "67b85dfb",
   "metadata": {},
   "source": [
    "## Indexing"
   ]
  },
  {
   "cell_type": "raw",
   "id": "730402d0",
   "metadata": {},
   "source": [
    "Indexing :-\n",
    "\n",
    "    Indexing means referring to an element of an iterable by its position within the iterable. Each of a string’s characters corresponds to an index number and each character can be accessed using its index number. We can access characters in a String in Two ways :\n",
    "\n",
    "    1) Accessing Characters by Positive Index Number\n",
    "    2) Accessing Characters by Negative Index Number"
   ]
  },
  {
   "cell_type": "code",
   "execution_count": null,
   "id": "b2a5dfd5",
   "metadata": {},
   "outputs": [],
   "source": [
    "name = \"Priyanka\"\n",
    "print(name)\n",
    "print(len(name))"
   ]
  },
  {
   "cell_type": "raw",
   "id": "692cd288",
   "metadata": {},
   "source": [
    "\n",
    "1) Accessing Characters by Positive Index Number:\n",
    "   We pass a Positive index(which we want to access) in square brackets.\n",
    " The index number starts from index number 0 (which denotes the first character of a string).\n",
    "\n",
    "\n",
    "2) Accessing Characters by Negative Index Number: \n",
    "    We pass the Negative index(which we want to access) in square brackets. \n",
    "    Here the index number starts from index number -1 (which denotes the last character of a string)."
   ]
  },
  {
   "cell_type": "raw",
   "id": "a4e1d79f",
   "metadata": {},
   "source": [
    "    0   1   2   3    4   5    6   7   ====>  Positive Index Number\n",
    "    P   r   i   y    a   n    k   a   ====>  String\n",
    "   -8  -7  -6  -5   -4   -3  -2   -1  ====>  Negative Index Number"
   ]
  },
  {
   "cell_type": "code",
   "execution_count": null,
   "id": "0b8f6b73",
   "metadata": {},
   "outputs": [],
   "source": [
    "#Positive Index Number"
   ]
  },
  {
   "cell_type": "code",
   "execution_count": 45,
   "id": "d1deecc9",
   "metadata": {},
   "outputs": [],
   "source": [
    "name = \"Priyanka\""
   ]
  },
  {
   "cell_type": "code",
   "execution_count": 48,
   "id": "2fd9d939",
   "metadata": {},
   "outputs": [
    {
     "data": {
      "text/plain": [
       "'r'"
      ]
     },
     "execution_count": 48,
     "metadata": {},
     "output_type": "execute_result"
    }
   ],
   "source": [
    "name[1]"
   ]
  },
  {
   "cell_type": "code",
   "execution_count": 46,
   "id": "9365156c",
   "metadata": {},
   "outputs": [
    {
     "name": "stdout",
     "output_type": "stream",
     "text": [
      "y\n"
     ]
    }
   ],
   "source": [
    "print(name[3])"
   ]
  },
  {
   "cell_type": "code",
   "execution_count": 47,
   "id": "d560ae80",
   "metadata": {},
   "outputs": [
    {
     "name": "stdout",
     "output_type": "stream",
     "text": [
      "y\n"
     ]
    }
   ],
   "source": [
    "print(name[-5])"
   ]
  },
  {
   "cell_type": "code",
   "execution_count": 49,
   "id": "096b2f3d",
   "metadata": {},
   "outputs": [
    {
     "name": "stdout",
     "output_type": "stream",
     "text": [
      "a\n"
     ]
    }
   ],
   "source": [
    "print(name[7])"
   ]
  },
  {
   "cell_type": "code",
   "execution_count": 50,
   "id": "54c03359",
   "metadata": {},
   "outputs": [
    {
     "name": "stdout",
     "output_type": "stream",
     "text": [
      "a\n"
     ]
    }
   ],
   "source": [
    "print(name[-1])"
   ]
  },
  {
   "cell_type": "code",
   "execution_count": 51,
   "id": "8d8234fc",
   "metadata": {},
   "outputs": [
    {
     "ename": "IndexError",
     "evalue": "string index out of range",
     "output_type": "error",
     "traceback": [
      "\u001b[1;31m---------------------------------------------------------------------------\u001b[0m",
      "\u001b[1;31mIndexError\u001b[0m                                Traceback (most recent call last)",
      "\u001b[1;32m~\\AppData\\Local\\Temp\\ipykernel_13192\\2475380930.py\u001b[0m in \u001b[0;36m<module>\u001b[1;34m\u001b[0m\n\u001b[1;32m----> 1\u001b[1;33m \u001b[0mprint\u001b[0m\u001b[1;33m(\u001b[0m\u001b[0mname\u001b[0m\u001b[1;33m[\u001b[0m\u001b[1;36m8\u001b[0m\u001b[1;33m]\u001b[0m\u001b[1;33m)\u001b[0m\u001b[1;33m\u001b[0m\u001b[1;33m\u001b[0m\u001b[0m\n\u001b[0m",
      "\u001b[1;31mIndexError\u001b[0m: string index out of range"
     ]
    }
   ],
   "source": [
    "print(name[8])"
   ]
  },
  {
   "cell_type": "code",
   "execution_count": 52,
   "id": "0e27732b",
   "metadata": {},
   "outputs": [
    {
     "data": {
      "text/plain": [
       "8"
      ]
     },
     "execution_count": 52,
     "metadata": {},
     "output_type": "execute_result"
    }
   ],
   "source": [
    "len(name)"
   ]
  },
  {
   "cell_type": "code",
   "execution_count": null,
   "id": "ff1d4802",
   "metadata": {},
   "outputs": [],
   "source": []
  },
  {
   "cell_type": "code",
   "execution_count": null,
   "id": "629e404e",
   "metadata": {},
   "outputs": [],
   "source": []
  },
  {
   "cell_type": "code",
   "execution_count": null,
   "id": "882db19d",
   "metadata": {},
   "outputs": [],
   "source": []
  },
  {
   "cell_type": "code",
   "execution_count": 53,
   "id": "2ee4d772",
   "metadata": {},
   "outputs": [
    {
     "name": "stdout",
     "output_type": "stream",
     "text": [
      "P\n",
      "y\n",
      "a\n"
     ]
    }
   ],
   "source": [
    "print(name[0])     #First element\n",
    "print(name[3])     \n",
    "print(name[7])     \n",
    "# print(name[9])   #IndexError :- string index out of range"
   ]
  },
  {
   "cell_type": "code",
   "execution_count": 54,
   "id": "8e197378",
   "metadata": {},
   "outputs": [
    {
     "name": "stdout",
     "output_type": "stream",
     "text": [
      "P\n",
      "y\n",
      "a\n"
     ]
    }
   ],
   "source": [
    "# Negative Index Number\n",
    "\n",
    "print(name[-8])     \n",
    "print(name[-5])     \n",
    "print(name[-1])    #Last element"
   ]
  },
  {
   "cell_type": "code",
   "execution_count": null,
   "id": "01609052",
   "metadata": {},
   "outputs": [],
   "source": []
  },
  {
   "cell_type": "code",
   "execution_count": 55,
   "id": "a4842430",
   "metadata": {},
   "outputs": [],
   "source": [
    "b = \"sghfk\""
   ]
  },
  {
   "cell_type": "code",
   "execution_count": 56,
   "id": "aafa1fb3",
   "metadata": {},
   "outputs": [
    {
     "name": "stdout",
     "output_type": "stream",
     "text": [
      "g\n"
     ]
    }
   ],
   "source": [
    "print(b[-4])"
   ]
  },
  {
   "cell_type": "code",
   "execution_count": 57,
   "id": "a0746193",
   "metadata": {},
   "outputs": [
    {
     "name": "stdout",
     "output_type": "stream",
     "text": [
      "f\n"
     ]
    }
   ],
   "source": [
    "print(b[3])"
   ]
  },
  {
   "cell_type": "code",
   "execution_count": null,
   "id": "d3f1c59e",
   "metadata": {},
   "outputs": [],
   "source": []
  },
  {
   "cell_type": "code",
   "execution_count": null,
   "id": "de0886b6",
   "metadata": {},
   "outputs": [],
   "source": []
  },
  {
   "cell_type": "markdown",
   "id": "2292dec4",
   "metadata": {},
   "source": [
    "## Slicing"
   ]
  },
  {
   "cell_type": "raw",
   "id": "422268eb",
   "metadata": {},
   "source": [
    "\n",
    "Slicing :-\n",
    "\n",
    "    Slicing in Python is a feature that enables accessing parts of the sequence. \n",
    "    We use slicing when we require a part of the string and not the complete string.\n",
    "    \n",
    "Syntax :\n",
    "        string[start : end : step]\n",
    "\n",
    "    start : We provide the starting index.\n",
    "    end : We provide the end index(this is not included in substring).\n",
    "    step : It is an optional argument that determines the increment between each index for slicing.\n",
    "    \n",
    "    left ------------------>right"
   ]
  },
  {
   "cell_type": "code",
   "execution_count": 58,
   "id": "bf5904d3",
   "metadata": {},
   "outputs": [],
   "source": [
    "#         0123456789   13\n",
    "string = \"This is python class for Data Analyst.\"\n",
    "#                 8\n"
   ]
  },
  {
   "cell_type": "code",
   "execution_count": 59,
   "id": "7d02d28d",
   "metadata": {},
   "outputs": [
    {
     "name": "stdout",
     "output_type": "stream",
     "text": [
      "This is python class for Data Analyst.\n",
      "<class 'str'>\n",
      "38\n"
     ]
    }
   ],
   "source": [
    "print(string)\n",
    "print(type(string))\n",
    "print(len(string))"
   ]
  },
  {
   "cell_type": "code",
   "execution_count": 61,
   "id": "c8c6905d",
   "metadata": {},
   "outputs": [
    {
     "data": {
      "text/plain": [
       "'python'"
      ]
     },
     "execution_count": 61,
     "metadata": {},
     "output_type": "execute_result"
    }
   ],
   "source": [
    "string[8:14]"
   ]
  },
  {
   "cell_type": "code",
   "execution_count": 62,
   "id": "9ecf59bf",
   "metadata": {},
   "outputs": [
    {
     "data": {
      "text/plain": [
       "'This is'"
      ]
     },
     "execution_count": 62,
     "metadata": {},
     "output_type": "execute_result"
    }
   ],
   "source": [
    "#Slicing\n",
    "string[0:7]"
   ]
  },
  {
   "cell_type": "code",
   "execution_count": 63,
   "id": "e4c8f5a2",
   "metadata": {},
   "outputs": [
    {
     "data": {
      "text/plain": [
       "'This is python class for Data Analyst.'"
      ]
     },
     "execution_count": 63,
     "metadata": {},
     "output_type": "execute_result"
    }
   ],
   "source": [
    "string[:]"
   ]
  },
  {
   "cell_type": "code",
   "execution_count": null,
   "id": "5c0996f4",
   "metadata": {},
   "outputs": [],
   "source": []
  },
  {
   "cell_type": "code",
   "execution_count": null,
   "id": "60bea43e",
   "metadata": {},
   "outputs": [],
   "source": []
  },
  {
   "cell_type": "code",
   "execution_count": null,
   "id": "92d7d982",
   "metadata": {},
   "outputs": [],
   "source": [
    "string[0:7:2]"
   ]
  },
  {
   "cell_type": "code",
   "execution_count": null,
   "id": "b3812ade",
   "metadata": {},
   "outputs": [],
   "source": [
    "string[7:0]"
   ]
  },
  {
   "cell_type": "code",
   "execution_count": null,
   "id": "62c5e5f9",
   "metadata": {},
   "outputs": [],
   "source": [
    "string[7:0:-1]"
   ]
  },
  {
   "cell_type": "code",
   "execution_count": null,
   "id": "77cd756e",
   "metadata": {},
   "outputs": [],
   "source": [
    "#         0123456789   13\n",
    "string = \"This is python class for Data Analyst.\"\n",
    "#                 8"
   ]
  },
  {
   "cell_type": "code",
   "execution_count": null,
   "id": "6eb5493f",
   "metadata": {},
   "outputs": [],
   "source": [
    "# Extract only python word\n",
    "\n",
    "string[]"
   ]
  },
  {
   "cell_type": "code",
   "execution_count": null,
   "id": "925783a7",
   "metadata": {},
   "outputs": [],
   "source": []
  },
  {
   "cell_type": "code",
   "execution_count": null,
   "id": "47bba82e",
   "metadata": {},
   "outputs": [],
   "source": []
  },
  {
   "cell_type": "code",
   "execution_count": 64,
   "id": "3947c451",
   "metadata": {},
   "outputs": [],
   "source": [
    "b=\"python\"\n",
    "\n",
    "# p  y  t  h  o  n\n",
    "# 0  1  2  3  4  5  "
   ]
  },
  {
   "cell_type": "code",
   "execution_count": 68,
   "id": "6b4067b1",
   "metadata": {},
   "outputs": [
    {
     "ename": "IndexError",
     "evalue": "string index out of range",
     "output_type": "error",
     "traceback": [
      "\u001b[1;31m---------------------------------------------------------------------------\u001b[0m",
      "\u001b[1;31mIndexError\u001b[0m                                Traceback (most recent call last)",
      "\u001b[1;32m~\\AppData\\Local\\Temp\\ipykernel_13192\\3344860222.py\u001b[0m in \u001b[0;36m<module>\u001b[1;34m\u001b[0m\n\u001b[1;32m----> 1\u001b[1;33m \u001b[0mb\u001b[0m\u001b[1;33m[\u001b[0m\u001b[1;36m6\u001b[0m\u001b[1;33m]\u001b[0m\u001b[1;33m\u001b[0m\u001b[1;33m\u001b[0m\u001b[0m\n\u001b[0m",
      "\u001b[1;31mIndexError\u001b[0m: string index out of range"
     ]
    }
   ],
   "source": [
    "b[6]"
   ]
  },
  {
   "cell_type": "code",
   "execution_count": 67,
   "id": "f47a37ff",
   "metadata": {},
   "outputs": [
    {
     "data": {
      "text/plain": [
       "6"
      ]
     },
     "execution_count": 67,
     "metadata": {},
     "output_type": "execute_result"
    }
   ],
   "source": [
    "len(b)"
   ]
  },
  {
   "cell_type": "code",
   "execution_count": 65,
   "id": "cefc9438",
   "metadata": {},
   "outputs": [
    {
     "data": {
      "text/plain": [
       "'python'"
      ]
     },
     "execution_count": 65,
     "metadata": {},
     "output_type": "execute_result"
    }
   ],
   "source": [
    "b[:]"
   ]
  },
  {
   "cell_type": "code",
   "execution_count": 66,
   "id": "2ca54e80",
   "metadata": {},
   "outputs": [
    {
     "data": {
      "text/plain": [
       "'nohtyp'"
      ]
     },
     "execution_count": 66,
     "metadata": {},
     "output_type": "execute_result"
    }
   ],
   "source": [
    "b[::-1]"
   ]
  },
  {
   "cell_type": "code",
   "execution_count": 69,
   "id": "5586b1cb",
   "metadata": {},
   "outputs": [
    {
     "data": {
      "text/plain": [
       "'pyt'"
      ]
     },
     "execution_count": 69,
     "metadata": {},
     "output_type": "execute_result"
    }
   ],
   "source": [
    "b[:3]"
   ]
  },
  {
   "cell_type": "code",
   "execution_count": 70,
   "id": "dc0d865c",
   "metadata": {},
   "outputs": [
    {
     "data": {
      "text/plain": [
       "'pytho'"
      ]
     },
     "execution_count": 70,
     "metadata": {},
     "output_type": "execute_result"
    }
   ],
   "source": [
    "b[0:5]"
   ]
  },
  {
   "cell_type": "code",
   "execution_count": null,
   "id": "b41ea1c6",
   "metadata": {},
   "outputs": [],
   "source": []
  },
  {
   "cell_type": "code",
   "execution_count": null,
   "id": "c49c5063",
   "metadata": {},
   "outputs": [],
   "source": [
    "# p  y  t  h  o  n\n",
    "# 0  1  2  3  4  5  "
   ]
  },
  {
   "cell_type": "code",
   "execution_count": 71,
   "id": "b915b17c",
   "metadata": {},
   "outputs": [
    {
     "data": {
      "text/plain": [
       "'pto'"
      ]
     },
     "execution_count": 71,
     "metadata": {},
     "output_type": "execute_result"
    }
   ],
   "source": [
    "b[0:5:2]"
   ]
  },
  {
   "cell_type": "code",
   "execution_count": 72,
   "id": "f6496ee1",
   "metadata": {},
   "outputs": [
    {
     "data": {
      "text/plain": [
       "'pytho'"
      ]
     },
     "execution_count": 72,
     "metadata": {},
     "output_type": "execute_result"
    }
   ],
   "source": [
    "b[0:5]"
   ]
  },
  {
   "cell_type": "code",
   "execution_count": 73,
   "id": "6ae183b5",
   "metadata": {},
   "outputs": [
    {
     "data": {
      "text/plain": [
       "''"
      ]
     },
     "execution_count": 73,
     "metadata": {},
     "output_type": "execute_result"
    }
   ],
   "source": [
    "b[5:0]"
   ]
  },
  {
   "cell_type": "code",
   "execution_count": 74,
   "id": "b9cd2715",
   "metadata": {},
   "outputs": [
    {
     "data": {
      "text/plain": [
       "'nohty'"
      ]
     },
     "execution_count": 74,
     "metadata": {},
     "output_type": "execute_result"
    }
   ],
   "source": [
    "b[5:0:-1]"
   ]
  },
  {
   "cell_type": "code",
   "execution_count": null,
   "id": "e63879d7",
   "metadata": {},
   "outputs": [],
   "source": []
  },
  {
   "cell_type": "code",
   "execution_count": 75,
   "id": "ca94fdf4",
   "metadata": {},
   "outputs": [
    {
     "name": "stdout",
     "output_type": "stream",
     "text": [
      "pytho\n"
     ]
    }
   ],
   "source": [
    "print(string[8:13])"
   ]
  },
  {
   "cell_type": "code",
   "execution_count": 76,
   "id": "4463c7a5",
   "metadata": {},
   "outputs": [
    {
     "name": "stdout",
     "output_type": "stream",
     "text": [
      "Data\n"
     ]
    }
   ],
   "source": [
    "#Slicing\n",
    "print(string[-13:-9])"
   ]
  },
  {
   "cell_type": "code",
   "execution_count": 77,
   "id": "70cb38be",
   "metadata": {},
   "outputs": [
    {
     "name": "stdout",
     "output_type": "stream",
     "text": [
      "s is python class for Data Analyst.\n"
     ]
    }
   ],
   "source": [
    "print(string[3:])"
   ]
  },
  {
   "cell_type": "code",
   "execution_count": 78,
   "id": "fa31b051",
   "metadata": {},
   "outputs": [
    {
     "name": "stdout",
     "output_type": "stream",
     "text": [
      "This is python class for Data Analyst.\n"
     ]
    }
   ],
   "source": [
    "print(string[:])"
   ]
  },
  {
   "cell_type": "code",
   "execution_count": null,
   "id": "57b694f1",
   "metadata": {},
   "outputs": [],
   "source": [
    "print(string[::-1])"
   ]
  },
  {
   "cell_type": "code",
   "execution_count": null,
   "id": "57ebb8d5",
   "metadata": {},
   "outputs": [],
   "source": [
    "string = \"This is python class for Data Analyst.\""
   ]
  },
  {
   "cell_type": "code",
   "execution_count": 79,
   "id": "eac88f1b",
   "metadata": {},
   "outputs": [
    {
     "name": "stdout",
     "output_type": "stream",
     "text": [
      "Python\n",
      "nohtyP\n"
     ]
    }
   ],
   "source": [
    "str2 = \"Python\"\n",
    " \n",
    "print(str2[:])      # Full string\n",
    "print(str2[::-1])   # Reverse string"
   ]
  },
  {
   "cell_type": "code",
   "execution_count": 80,
   "id": "7fabfef4",
   "metadata": {},
   "outputs": [],
   "source": [
    "str2 = \"Python\""
   ]
  },
  {
   "cell_type": "code",
   "execution_count": 81,
   "id": "bbaa1276",
   "metadata": {},
   "outputs": [
    {
     "data": {
      "text/plain": [
       "'t'"
      ]
     },
     "execution_count": 81,
     "metadata": {},
     "output_type": "execute_result"
    }
   ],
   "source": [
    "str2[2]"
   ]
  },
  {
   "cell_type": "code",
   "execution_count": 82,
   "id": "dc8fff2f",
   "metadata": {},
   "outputs": [
    {
     "ename": "TypeError",
     "evalue": "'str' object does not support item assignment",
     "output_type": "error",
     "traceback": [
      "\u001b[1;31m---------------------------------------------------------------------------\u001b[0m",
      "\u001b[1;31mTypeError\u001b[0m                                 Traceback (most recent call last)",
      "\u001b[1;32m~\\AppData\\Local\\Temp\\ipykernel_13192\\3761536977.py\u001b[0m in \u001b[0;36m<module>\u001b[1;34m\u001b[0m\n\u001b[1;32m----> 1\u001b[1;33m \u001b[0mstr2\u001b[0m\u001b[1;33m[\u001b[0m\u001b[1;36m2\u001b[0m\u001b[1;33m]\u001b[0m \u001b[1;33m=\u001b[0m \u001b[1;34m\"T\"\u001b[0m\u001b[1;33m\u001b[0m\u001b[1;33m\u001b[0m\u001b[0m\n\u001b[0m",
      "\u001b[1;31mTypeError\u001b[0m: 'str' object does not support item assignment"
     ]
    }
   ],
   "source": [
    "str2[2] = \"T\""
   ]
  },
  {
   "cell_type": "code",
   "execution_count": 83,
   "id": "2e3de2a5",
   "metadata": {},
   "outputs": [],
   "source": [
    "# str2[0] = \"A\"  #TypeError :-'str' object does not support item assignment\n",
    "#String is immutable"
   ]
  },
  {
   "cell_type": "code",
   "execution_count": 84,
   "id": "2c083ac6",
   "metadata": {},
   "outputs": [
    {
     "name": "stdout",
     "output_type": "stream",
     "text": [
      "Python Class\n"
     ]
    }
   ],
   "source": [
    "#String Concatenation :-\n",
    "str2 = \"Python\"\n",
    "str3 = \" Class\"\n",
    "str4 = str2 + str3  \n",
    "print(str4)"
   ]
  },
  {
   "cell_type": "code",
   "execution_count": 86,
   "id": "77dabefb",
   "metadata": {},
   "outputs": [
    {
     "name": "stdout",
     "output_type": "stream",
     "text": [
      "PythonPythonPython\n"
     ]
    }
   ],
   "source": [
    "#String Repetation:-\n",
    "str2 = \"Python\"\n",
    "str5 = str2 * 3\n",
    "print(str5)"
   ]
  },
  {
   "cell_type": "code",
   "execution_count": 87,
   "id": "8784c678",
   "metadata": {},
   "outputs": [
    {
     "name": "stdout",
     "output_type": "stream",
     "text": [
      "Hi Good Morning\n",
      "Five 5\n"
     ]
    }
   ],
   "source": [
    "print(\"Hi\" + \" Good\" + \" Morning\")\n",
    "# print(\"Five\" + 5)   #TypeError :- can only concatenate str (not \"int\") to str\n",
    "print(\"Five \" + '5')"
   ]
  },
  {
   "cell_type": "raw",
   "id": "a2b96c7f",
   "metadata": {},
   "source": [
    "\n",
    "string + string   ===> string\n",
    "string + int      ===> Error\n",
    "string + str(int) ===> string\n",
    "\n"
   ]
  },
  {
   "cell_type": "code",
   "execution_count": 88,
   "id": "d53268bc",
   "metadata": {},
   "outputs": [
    {
     "ename": "TypeError",
     "evalue": "can only concatenate str (not \"int\") to str",
     "output_type": "error",
     "traceback": [
      "\u001b[1;31m---------------------------------------------------------------------------\u001b[0m",
      "\u001b[1;31mTypeError\u001b[0m                                 Traceback (most recent call last)",
      "\u001b[1;32m~\\AppData\\Local\\Temp\\ipykernel_13192\\3643904446.py\u001b[0m in \u001b[0;36m<module>\u001b[1;34m\u001b[0m\n\u001b[1;32m----> 1\u001b[1;33m \u001b[1;34m\"abc\"\u001b[0m\u001b[1;33m+\u001b[0m \u001b[1;36m5\u001b[0m\u001b[1;33m\u001b[0m\u001b[1;33m\u001b[0m\u001b[0m\n\u001b[0m",
      "\u001b[1;31mTypeError\u001b[0m: can only concatenate str (not \"int\") to str"
     ]
    }
   ],
   "source": [
    "\"abc\"+ 5"
   ]
  },
  {
   "cell_type": "code",
   "execution_count": 89,
   "id": "a9dfa708",
   "metadata": {},
   "outputs": [
    {
     "ename": "TypeError",
     "evalue": "can only concatenate str (not \"float\") to str",
     "output_type": "error",
     "traceback": [
      "\u001b[1;31m---------------------------------------------------------------------------\u001b[0m",
      "\u001b[1;31mTypeError\u001b[0m                                 Traceback (most recent call last)",
      "\u001b[1;32m~\\AppData\\Local\\Temp\\ipykernel_13192\\951672965.py\u001b[0m in \u001b[0;36m<module>\u001b[1;34m\u001b[0m\n\u001b[1;32m----> 1\u001b[1;33m \u001b[1;34m\"abc\"\u001b[0m\u001b[1;33m+\u001b[0m \u001b[1;36m5.6\u001b[0m\u001b[1;33m\u001b[0m\u001b[1;33m\u001b[0m\u001b[0m\n\u001b[0m",
      "\u001b[1;31mTypeError\u001b[0m: can only concatenate str (not \"float\") to str"
     ]
    }
   ],
   "source": [
    "\"abc\"+ 5.6"
   ]
  },
  {
   "cell_type": "code",
   "execution_count": 90,
   "id": "aae57074",
   "metadata": {},
   "outputs": [
    {
     "data": {
      "text/plain": [
       "'abc5.6'"
      ]
     },
     "execution_count": 90,
     "metadata": {},
     "output_type": "execute_result"
    }
   ],
   "source": [
    "\"abc\"+ str(5.6)"
   ]
  },
  {
   "cell_type": "code",
   "execution_count": null,
   "id": "d26b310e",
   "metadata": {},
   "outputs": [],
   "source": [
    "a=5"
   ]
  },
  {
   "cell_type": "code",
   "execution_count": 91,
   "id": "34a99f85",
   "metadata": {},
   "outputs": [
    {
     "data": {
      "text/plain": [
       "str"
      ]
     },
     "execution_count": 91,
     "metadata": {},
     "output_type": "execute_result"
    }
   ],
   "source": [
    "type(str(a))"
   ]
  },
  {
   "cell_type": "markdown",
   "id": "fec863d8",
   "metadata": {},
   "source": [
    "## STRING FORMATTING"
   ]
  },
  {
   "cell_type": "raw",
   "id": "8df6f611",
   "metadata": {},
   "source": [
    "STRING FORMATTING\n",
    "\n",
    "     1) f-string\n",
    "     2) .format()\n",
    "\n",
    "placeholders {}\n",
    "\n",
    "\n",
    "\n",
    "\"My name is ---.I am --- years old\""
   ]
  },
  {
   "cell_type": "code",
   "execution_count": null,
   "id": "a2e496f0",
   "metadata": {},
   "outputs": [],
   "source": []
  },
  {
   "cell_type": "code",
   "execution_count": 92,
   "id": "5ac01544",
   "metadata": {},
   "outputs": [],
   "source": [
    "name =\"Raj\"\n",
    "age = 25"
   ]
  },
  {
   "cell_type": "code",
   "execution_count": 93,
   "id": "129c17e2",
   "metadata": {},
   "outputs": [
    {
     "data": {
      "text/plain": [
       "'Raj'"
      ]
     },
     "execution_count": 93,
     "metadata": {},
     "output_type": "execute_result"
    }
   ],
   "source": [
    "name"
   ]
  },
  {
   "cell_type": "code",
   "execution_count": 94,
   "id": "e81fdde0",
   "metadata": {},
   "outputs": [
    {
     "data": {
      "text/plain": [
       "25"
      ]
     },
     "execution_count": 94,
     "metadata": {},
     "output_type": "execute_result"
    }
   ],
   "source": [
    "age"
   ]
  },
  {
   "cell_type": "code",
   "execution_count": null,
   "id": "292b540f",
   "metadata": {},
   "outputs": [],
   "source": []
  },
  {
   "cell_type": "code",
   "execution_count": null,
   "id": "2778e459",
   "metadata": {},
   "outputs": [],
   "source": [
    "\"My name is name.I am age years old\""
   ]
  },
  {
   "cell_type": "code",
   "execution_count": 96,
   "id": "55eb7051",
   "metadata": {},
   "outputs": [
    {
     "data": {
      "text/plain": [
       "'My name is Raj.I am 25 years old'"
      ]
     },
     "execution_count": 96,
     "metadata": {},
     "output_type": "execute_result"
    }
   ],
   "source": [
    "f\"My name is {name}.I am {age} years old\""
   ]
  },
  {
   "cell_type": "code",
   "execution_count": null,
   "id": "6dd46e5b",
   "metadata": {},
   "outputs": [],
   "source": []
  },
  {
   "cell_type": "code",
   "execution_count": null,
   "id": "8b0c8fc4",
   "metadata": {},
   "outputs": [],
   "source": []
  },
  {
   "cell_type": "code",
   "execution_count": null,
   "id": "a6f3cd0d",
   "metadata": {},
   "outputs": [],
   "source": []
  },
  {
   "cell_type": "code",
   "execution_count": null,
   "id": "fa9ff6b1",
   "metadata": {},
   "outputs": [],
   "source": [
    "f\"My name is {name} .I am {age} years old\""
   ]
  },
  {
   "cell_type": "raw",
   "id": "7f4064b4",
   "metadata": {},
   "source": [
    "#  .format()"
   ]
  },
  {
   "cell_type": "code",
   "execution_count": 97,
   "id": "9b576ded",
   "metadata": {},
   "outputs": [
    {
     "data": {
      "text/plain": [
       "'My name is Raj.I am 25 years old'"
      ]
     },
     "execution_count": 97,
     "metadata": {},
     "output_type": "execute_result"
    }
   ],
   "source": [
    "\"My name is {}.I am {} years old\".format(name,age)"
   ]
  },
  {
   "cell_type": "code",
   "execution_count": 98,
   "id": "ee1fc853",
   "metadata": {},
   "outputs": [
    {
     "data": {
      "text/plain": [
       "'My name is 25.I am Raj years old'"
      ]
     },
     "execution_count": 98,
     "metadata": {},
     "output_type": "execute_result"
    }
   ],
   "source": [
    "\"My name is {}.I am {} years old\".format(age,name)\n",
    "#                                         0   1"
   ]
  },
  {
   "cell_type": "code",
   "execution_count": 99,
   "id": "8adec363",
   "metadata": {},
   "outputs": [
    {
     "data": {
      "text/plain": [
       "'My name is Raj.I am 25 years old'"
      ]
     },
     "execution_count": 99,
     "metadata": {},
     "output_type": "execute_result"
    }
   ],
   "source": [
    "\"My name is {1}.I am {0} years old\".format(age,name)\n",
    "#                                           0    1"
   ]
  },
  {
   "cell_type": "code",
   "execution_count": 100,
   "id": "b8ffb89e",
   "metadata": {},
   "outputs": [],
   "source": [
    "a=\"My name is {1}.I am {0} years old\""
   ]
  },
  {
   "cell_type": "code",
   "execution_count": 101,
   "id": "fac42aae",
   "metadata": {},
   "outputs": [
    {
     "data": {
      "text/plain": [
       "'My name is {1}.I am {0} years old'"
      ]
     },
     "execution_count": 101,
     "metadata": {},
     "output_type": "execute_result"
    }
   ],
   "source": [
    "a"
   ]
  },
  {
   "cell_type": "code",
   "execution_count": null,
   "id": "d052abdb",
   "metadata": {},
   "outputs": [],
   "source": []
  },
  {
   "cell_type": "code",
   "execution_count": 102,
   "id": "22344168",
   "metadata": {},
   "outputs": [
    {
     "data": {
      "text/plain": [
       "'My name is 25.I am Raj years old'"
      ]
     },
     "execution_count": 102,
     "metadata": {},
     "output_type": "execute_result"
    }
   ],
   "source": [
    "a.format(name,age)\n",
    "#         0    1"
   ]
  },
  {
   "cell_type": "code",
   "execution_count": 103,
   "id": "874fe663",
   "metadata": {},
   "outputs": [],
   "source": [
    "a=\"abc\""
   ]
  },
  {
   "cell_type": "code",
   "execution_count": null,
   "id": "0d679744",
   "metadata": {},
   "outputs": [],
   "source": [
    "a"
   ]
  },
  {
   "cell_type": "markdown",
   "id": "5b8cebdc",
   "metadata": {},
   "source": [
    "## String Methods"
   ]
  },
  {
   "cell_type": "raw",
   "id": "94e65440",
   "metadata": {},
   "source": [
    "\"\"\"\n",
    " String Methods :-\n",
    "\n",
    " syntax:-\n",
    "        stringVariableName.method()\n",
    "\"\"\""
   ]
  },
  {
   "cell_type": "code",
   "execution_count": 104,
   "id": "bea69b11",
   "metadata": {},
   "outputs": [],
   "source": [
    "String = \"Pythonclass\"  #(a-z A-Z 0-9)\n",
    "# isalnum() \n",
    "# Returns True if all characters in the string are alphanumeric .meaning alphabet letter (a-z) and numbers (0-9)\n",
    "# not alphanumeric: (space)!#%&? "
   ]
  },
  {
   "cell_type": "code",
   "execution_count": 105,
   "id": "2d9dc976",
   "metadata": {},
   "outputs": [
    {
     "data": {
      "text/plain": [
       "True"
      ]
     },
     "execution_count": 105,
     "metadata": {},
     "output_type": "execute_result"
    }
   ],
   "source": [
    "String.isalnum()"
   ]
  },
  {
   "cell_type": "code",
   "execution_count": 106,
   "id": "fbfaa7cb",
   "metadata": {},
   "outputs": [
    {
     "data": {
      "text/plain": [
       "True"
      ]
     },
     "execution_count": 106,
     "metadata": {},
     "output_type": "execute_result"
    }
   ],
   "source": [
    "\"abcd65876\".isalnum()"
   ]
  },
  {
   "cell_type": "code",
   "execution_count": 107,
   "id": "682a2a6f",
   "metadata": {},
   "outputs": [
    {
     "data": {
      "text/plain": [
       "False"
      ]
     },
     "execution_count": 107,
     "metadata": {},
     "output_type": "execute_result"
    }
   ],
   "source": [
    "\"abcd 65876\".isalnum()"
   ]
  },
  {
   "cell_type": "code",
   "execution_count": 108,
   "id": "b7871dd9",
   "metadata": {},
   "outputs": [
    {
     "data": {
      "text/plain": [
       "False"
      ]
     },
     "execution_count": 108,
     "metadata": {},
     "output_type": "execute_result"
    }
   ],
   "source": [
    "\"abcd,65876\".isalnum()"
   ]
  },
  {
   "cell_type": "code",
   "execution_count": 109,
   "id": "960f31c3",
   "metadata": {},
   "outputs": [
    {
     "data": {
      "text/plain": [
       "True"
      ]
     },
     "execution_count": 109,
     "metadata": {},
     "output_type": "execute_result"
    }
   ],
   "source": [
    "str1 = String.isalnum()\n",
    "str1"
   ]
  },
  {
   "cell_type": "code",
   "execution_count": 111,
   "id": "82021496",
   "metadata": {
    "scrolled": true
   },
   "outputs": [
    {
     "name": "stdout",
     "output_type": "stream",
     "text": [
      "True\n",
      "None\n"
     ]
    }
   ],
   "source": [
    "print(print(str1))"
   ]
  },
  {
   "cell_type": "code",
   "execution_count": null,
   "id": "90431279",
   "metadata": {},
   "outputs": [],
   "source": []
  },
  {
   "cell_type": "code",
   "execution_count": 112,
   "id": "c728973c",
   "metadata": {},
   "outputs": [
    {
     "data": {
      "text/plain": [
       "True"
      ]
     },
     "execution_count": 112,
     "metadata": {},
     "output_type": "execute_result"
    }
   ],
   "source": [
    "# isalpha()\n",
    "# Returns True if all characters in the string are alphabet letters. (a-z)\n",
    "str1 = String.isalpha() \n",
    "str1"
   ]
  },
  {
   "cell_type": "code",
   "execution_count": 114,
   "id": "93a205cb",
   "metadata": {},
   "outputs": [
    {
     "data": {
      "text/plain": [
       "False"
      ]
     },
     "execution_count": 114,
     "metadata": {},
     "output_type": "execute_result"
    }
   ],
   "source": [
    "\"abcd65876\".isalpha() "
   ]
  },
  {
   "cell_type": "code",
   "execution_count": null,
   "id": "041b6136",
   "metadata": {},
   "outputs": [],
   "source": []
  },
  {
   "cell_type": "code",
   "execution_count": 115,
   "id": "4c4942b8",
   "metadata": {},
   "outputs": [
    {
     "name": "stdout",
     "output_type": "stream",
     "text": [
      "PYTHON CLASS\n"
     ]
    }
   ],
   "source": [
    "# upper() \n",
    "# Converts a string into upper case\n",
    "\n",
    "String = \"Python class\"\n",
    "b1 = String.upper()\n",
    "print(b1)"
   ]
  },
  {
   "cell_type": "code",
   "execution_count": null,
   "id": "fafd27d2",
   "metadata": {},
   "outputs": [],
   "source": []
  },
  {
   "cell_type": "code",
   "execution_count": 116,
   "id": "964ee9cd",
   "metadata": {},
   "outputs": [
    {
     "name": "stdout",
     "output_type": "stream",
     "text": [
      "True\n"
     ]
    }
   ],
   "source": [
    "#isupper()\n",
    "a3 = \"JAIPUR\"\n",
    "b3 = a3.isupper()\n",
    "print(b3)"
   ]
  },
  {
   "cell_type": "code",
   "execution_count": 117,
   "id": "fdf673bf",
   "metadata": {},
   "outputs": [
    {
     "name": "stdout",
     "output_type": "stream",
     "text": [
      "False\n"
     ]
    }
   ],
   "source": [
    "a3 = \"JAIPUr\"\n",
    "b3 = a3.isupper()\n",
    "print(b3)"
   ]
  },
  {
   "cell_type": "code",
   "execution_count": null,
   "id": "17a4f589",
   "metadata": {},
   "outputs": [],
   "source": []
  },
  {
   "cell_type": "code",
   "execution_count": 118,
   "id": "6e8a60ed",
   "metadata": {},
   "outputs": [
    {
     "name": "stdout",
     "output_type": "stream",
     "text": [
      "True\n"
     ]
    }
   ],
   "source": [
    "#islower()\n",
    "a4 = \"wardha\"\n",
    "b4 = a4.islower()\n",
    "print(b4)"
   ]
  },
  {
   "cell_type": "code",
   "execution_count": 119,
   "id": "37a3c2e3",
   "metadata": {},
   "outputs": [
    {
     "data": {
      "text/plain": [
       "True"
      ]
     },
     "execution_count": 119,
     "metadata": {},
     "output_type": "execute_result"
    }
   ],
   "source": [
    "a4.islower()"
   ]
  },
  {
   "cell_type": "code",
   "execution_count": null,
   "id": "6eb0de5e",
   "metadata": {},
   "outputs": [],
   "source": []
  },
  {
   "cell_type": "code",
   "execution_count": 120,
   "id": "ae004e3d",
   "metadata": {},
   "outputs": [
    {
     "name": "stdout",
     "output_type": "stream",
     "text": [
      "My name\n"
     ]
    }
   ],
   "source": [
    "#capitalize()\n",
    "\n",
    "a5 = \"my name\"\n",
    "b5 = a5.capitalize()\n",
    "print(b5)"
   ]
  },
  {
   "cell_type": "code",
   "execution_count": 121,
   "id": "2db7439c",
   "metadata": {},
   "outputs": [
    {
     "data": {
      "text/plain": [
       "'My Name'"
      ]
     },
     "execution_count": 121,
     "metadata": {},
     "output_type": "execute_result"
    }
   ],
   "source": [
    "a5.title()"
   ]
  },
  {
   "cell_type": "code",
   "execution_count": 122,
   "id": "2c8dc267",
   "metadata": {},
   "outputs": [
    {
     "data": {
      "text/plain": [
       "'dATA SCIENCE mASTERS'"
      ]
     },
     "execution_count": 122,
     "metadata": {},
     "output_type": "execute_result"
    }
   ],
   "source": [
    "#swapcase()\n",
    "name=\"Data science Masters\"\n",
    "name.swapcase()"
   ]
  },
  {
   "cell_type": "code",
   "execution_count": 124,
   "id": "41e0beab",
   "metadata": {},
   "outputs": [
    {
     "name": "stdout",
     "output_type": "stream",
     "text": [
      "True\n"
     ]
    }
   ],
   "source": [
    "# startswith()\n",
    "\n",
    "a6 = \"delhi\"\n",
    "b6 = a6.startswith(\"d\")\n",
    "print(b6)"
   ]
  },
  {
   "cell_type": "code",
   "execution_count": 125,
   "id": "ddee7789",
   "metadata": {},
   "outputs": [
    {
     "name": "stdout",
     "output_type": "stream",
     "text": [
      "True\n"
     ]
    }
   ],
   "source": [
    "#endswith()\n",
    "\n",
    "a7 = \"akola\"\n",
    "b7 = a7.endswith(\"la\")\n",
    "print(b7)"
   ]
  },
  {
   "cell_type": "code",
   "execution_count": 126,
   "id": "43951e7b",
   "metadata": {},
   "outputs": [
    {
     "name": "stdout",
     "output_type": "stream",
     "text": [
      "5\n"
     ]
    }
   ],
   "source": [
    "#index()\n",
    "\n",
    "a8 = \"I am learning javascript\"\n",
    "b8 = a8.index(\"l\")\n",
    "print(b8)"
   ]
  },
  {
   "cell_type": "code",
   "execution_count": 127,
   "id": "3544d73d",
   "metadata": {},
   "outputs": [
    {
     "name": "stdout",
     "output_type": "stream",
     "text": [
      "2\n"
     ]
    }
   ],
   "source": [
    "#count()\n",
    "\n",
    "a9 = \"abhisha\"\n",
    "b9 = a9.count('a')\n",
    "print(b9)"
   ]
  },
  {
   "cell_type": "code",
   "execution_count": 128,
   "id": "dfbb0a82",
   "metadata": {},
   "outputs": [
    {
     "name": "stdout",
     "output_type": "stream",
     "text": [
      "I am learning python\n"
     ]
    }
   ],
   "source": [
    "#replace()\n",
    "a10 = \"I am learning javascript\"\n",
    "b10 = a10.replace('javascript','python')\n",
    "print(b10)"
   ]
  },
  {
   "cell_type": "code",
   "execution_count": 132,
   "id": "fb96df32",
   "metadata": {},
   "outputs": [
    {
     "name": "stdout",
     "output_type": "stream",
     "text": [
      "I am learning javascript 1991501282400\n",
      "I am learning python 1991492828656\n"
     ]
    }
   ],
   "source": [
    "a10 = \"I am learning javascript\"\n",
    "print(a10,id(a10))\n",
    "a10 = a10.replace('javascript','python')\n",
    "print(a10,id(a10))"
   ]
  },
  {
   "cell_type": "code",
   "execution_count": null,
   "id": "04465797",
   "metadata": {},
   "outputs": [],
   "source": []
  },
  {
   "cell_type": "code",
   "execution_count": 133,
   "id": "0ac99e4d",
   "metadata": {},
   "outputs": [
    {
     "data": {
      "text/plain": [
       "6"
      ]
     },
     "execution_count": 133,
     "metadata": {},
     "output_type": "execute_result"
    }
   ],
   "source": [
    "# strip : Returns a trimmed version of the string\n",
    "\n",
    "a11 = \" amol \"\n",
    "len(a11)"
   ]
  },
  {
   "cell_type": "code",
   "execution_count": 134,
   "id": "c281e9fa",
   "metadata": {},
   "outputs": [
    {
     "name": "stdout",
     "output_type": "stream",
     "text": [
      "amol\n",
      "4\n"
     ]
    }
   ],
   "source": [
    "b11 = a11.strip()\n",
    "print(b11)\n",
    "print(len(b11))"
   ]
  },
  {
   "cell_type": "code",
   "execution_count": 146,
   "id": "5f8d53f5",
   "metadata": {},
   "outputs": [
    {
     "name": "stdout",
     "output_type": "stream",
     "text": [
      "['abcdefghijklmn', 'gmail.com']\n"
     ]
    }
   ],
   "source": [
    "# split()\n",
    "#   Splits the string at the specified separator, and returns a list\n",
    "\n",
    "print(\"abcdefghijklmn@gmail.com\".split('@'))"
   ]
  },
  {
   "cell_type": "code",
   "execution_count": 147,
   "id": "5ffa62b8",
   "metadata": {},
   "outputs": [
    {
     "data": {
      "text/plain": [
       "['abc', 'efghijklmn@gmail.com']"
      ]
     },
     "execution_count": 147,
     "metadata": {},
     "output_type": "execute_result"
    }
   ],
   "source": [
    "\"abcdefghijklmn@gmail.com\".split('d')"
   ]
  },
  {
   "cell_type": "code",
   "execution_count": 148,
   "id": "423ea7d7",
   "metadata": {},
   "outputs": [
    {
     "name": "stdout",
     "output_type": "stream",
     "text": [
      "['abcdef', 'hijklmn@', 'mail.com']\n"
     ]
    }
   ],
   "source": [
    "print(\"abcdefghijklmn@gmail.com\".split('g'))"
   ]
  },
  {
   "cell_type": "code",
   "execution_count": 149,
   "id": "d11101e4",
   "metadata": {},
   "outputs": [
    {
     "data": {
      "text/plain": [
       "['ab', 'defg']"
      ]
     },
     "execution_count": 149,
     "metadata": {},
     "output_type": "execute_result"
    }
   ],
   "source": [
    "\"abcdefg\".split(\"c\")"
   ]
  },
  {
   "cell_type": "code",
   "execution_count": 150,
   "id": "2cca21f9",
   "metadata": {},
   "outputs": [
    {
     "name": "stdout",
     "output_type": "stream",
     "text": [
      "['abcdefghijklmn', 'gmail.com']\n"
     ]
    }
   ],
   "source": [
    "email=\"abcdefghijklmn@gmail.com\"\n",
    "print(email.split(\"@\"))"
   ]
  },
  {
   "cell_type": "code",
   "execution_count": 144,
   "id": "7c729d01",
   "metadata": {},
   "outputs": [
    {
     "data": {
      "text/plain": [
       "'Abc'"
      ]
     },
     "execution_count": 144,
     "metadata": {},
     "output_type": "execute_result"
    }
   ],
   "source": [
    "a = \"abc\"\n",
    "a.replace(\"a\",\"A\")"
   ]
  },
  {
   "cell_type": "code",
   "execution_count": 145,
   "id": "92e2f41f",
   "metadata": {},
   "outputs": [],
   "source": [
    "a=\"Python class aaa bbb  aaaa\""
   ]
  },
  {
   "cell_type": "code",
   "execution_count": 138,
   "id": "f32c906a",
   "metadata": {},
   "outputs": [],
   "source": [
    "b=a.split(\"a\")"
   ]
  },
  {
   "cell_type": "code",
   "execution_count": 139,
   "id": "90d9d05b",
   "metadata": {},
   "outputs": [
    {
     "data": {
      "text/plain": [
       "['Python cl', 'ss ', '', '', ' bbb  ', '', '', '', '']"
      ]
     },
     "execution_count": 139,
     "metadata": {},
     "output_type": "execute_result"
    }
   ],
   "source": [
    "b"
   ]
  },
  {
   "cell_type": "code",
   "execution_count": 140,
   "id": "bc45120d",
   "metadata": {},
   "outputs": [
    {
     "data": {
      "text/plain": [
       "str"
      ]
     },
     "execution_count": 140,
     "metadata": {},
     "output_type": "execute_result"
    }
   ],
   "source": [
    "type(a)"
   ]
  },
  {
   "cell_type": "code",
   "execution_count": 141,
   "id": "bf704863",
   "metadata": {},
   "outputs": [
    {
     "data": {
      "text/plain": [
       "list"
      ]
     },
     "execution_count": 141,
     "metadata": {},
     "output_type": "execute_result"
    }
   ],
   "source": [
    "type(b)"
   ]
  },
  {
   "cell_type": "markdown",
   "id": "8174933a",
   "metadata": {},
   "source": [
    "## List"
   ]
  },
  {
   "cell_type": "raw",
   "id": "3c6849bd",
   "metadata": {},
   "source": [
    "List\n",
    "    The list is an ordered sequence of mixed data type.\n",
    "    List is mutable."
   ]
  },
  {
   "cell_type": "code",
   "execution_count": 163,
   "id": "d88ec86d",
   "metadata": {},
   "outputs": [
    {
     "data": {
      "text/plain": [
       "list"
      ]
     },
     "execution_count": 163,
     "metadata": {},
     "output_type": "execute_result"
    }
   ],
   "source": [
    "lst = [1,1,2,3]\n",
    "type(lst)"
   ]
  },
  {
   "cell_type": "code",
   "execution_count": 164,
   "id": "452709ce",
   "metadata": {},
   "outputs": [],
   "source": [
    "l = [1,2,2]"
   ]
  },
  {
   "cell_type": "code",
   "execution_count": 165,
   "id": "cc9d8240",
   "metadata": {},
   "outputs": [
    {
     "name": "stdout",
     "output_type": "stream",
     "text": [
      "<class 'list'>\n",
      "3\n"
     ]
    }
   ],
   "source": [
    "print(type(l))\n",
    "print(len(l))"
   ]
  },
  {
   "cell_type": "code",
   "execution_count": 151,
   "id": "c1b3cc40",
   "metadata": {},
   "outputs": [],
   "source": [
    "a = [1,2,3,4,\"5\",\"6\",\"7\",\"Hello\",\"World\",True,False,\"Houndred\"]"
   ]
  },
  {
   "cell_type": "code",
   "execution_count": 152,
   "id": "910909d2",
   "metadata": {},
   "outputs": [
    {
     "name": "stdout",
     "output_type": "stream",
     "text": [
      "[1, 2, 3, 4, '5', '6', '7', 'Hello', 'World', True, False, 'Houndred']\n"
     ]
    }
   ],
   "source": [
    " \n",
    "print(a)"
   ]
  },
  {
   "cell_type": "code",
   "execution_count": 153,
   "id": "efce673e",
   "metadata": {},
   "outputs": [
    {
     "data": {
      "text/plain": [
       "list"
      ]
     },
     "execution_count": 153,
     "metadata": {},
     "output_type": "execute_result"
    }
   ],
   "source": [
    "type(a)"
   ]
  },
  {
   "cell_type": "code",
   "execution_count": 154,
   "id": "19a9b8ea",
   "metadata": {},
   "outputs": [
    {
     "data": {
      "text/plain": [
       "12"
      ]
     },
     "execution_count": 154,
     "metadata": {},
     "output_type": "execute_result"
    }
   ],
   "source": [
    "len(a)"
   ]
  },
  {
   "cell_type": "code",
   "execution_count": 155,
   "id": "19b5ce1e",
   "metadata": {},
   "outputs": [
    {
     "data": {
      "text/plain": [
       "[1, 2, 3, 4, '5', '6', '7', 'Hello', 'World', True, False, 'Houndred']"
      ]
     },
     "execution_count": 155,
     "metadata": {},
     "output_type": "execute_result"
    }
   ],
   "source": [
    "a"
   ]
  },
  {
   "cell_type": "code",
   "execution_count": 156,
   "id": "17c202a9",
   "metadata": {},
   "outputs": [
    {
     "data": {
      "text/plain": [
       "4"
      ]
     },
     "execution_count": 156,
     "metadata": {},
     "output_type": "execute_result"
    }
   ],
   "source": [
    "a[3]"
   ]
  },
  {
   "cell_type": "code",
   "execution_count": 157,
   "id": "0560999e",
   "metadata": {},
   "outputs": [
    {
     "data": {
      "text/plain": [
       "[4, '5', '6', '7', 'Hello', 'World', True, False, 'Houndred']"
      ]
     },
     "execution_count": 157,
     "metadata": {},
     "output_type": "execute_result"
    }
   ],
   "source": [
    "a[3:]"
   ]
  },
  {
   "cell_type": "code",
   "execution_count": 158,
   "id": "de216f07",
   "metadata": {},
   "outputs": [
    {
     "data": {
      "text/plain": [
       "[1, 2, 3, 4, '5', '6', '7', 'Hello', 'World', True, False, 'Houndred']"
      ]
     },
     "execution_count": 158,
     "metadata": {},
     "output_type": "execute_result"
    }
   ],
   "source": [
    "a"
   ]
  },
  {
   "cell_type": "code",
   "execution_count": 159,
   "id": "612ad4f0",
   "metadata": {},
   "outputs": [
    {
     "data": {
      "text/plain": [
       "1"
      ]
     },
     "execution_count": 159,
     "metadata": {},
     "output_type": "execute_result"
    }
   ],
   "source": [
    "a[0]"
   ]
  },
  {
   "cell_type": "code",
   "execution_count": 161,
   "id": "88806629",
   "metadata": {},
   "outputs": [],
   "source": [
    "a[0]=100"
   ]
  },
  {
   "cell_type": "code",
   "execution_count": 162,
   "id": "f3eed7c1",
   "metadata": {},
   "outputs": [
    {
     "data": {
      "text/plain": [
       "[100, 2, 3, 4, '5', '6', '7', 'Hello', 'World', True, False, 'Houndred']"
      ]
     },
     "execution_count": 162,
     "metadata": {},
     "output_type": "execute_result"
    }
   ],
   "source": [
    "a"
   ]
  },
  {
   "cell_type": "code",
   "execution_count": 166,
   "id": "eab966fa",
   "metadata": {},
   "outputs": [
    {
     "data": {
      "text/plain": [
       "'o'"
      ]
     },
     "execution_count": 166,
     "metadata": {},
     "output_type": "execute_result"
    }
   ],
   "source": [
    "a[7][4]"
   ]
  },
  {
   "cell_type": "code",
   "execution_count": null,
   "id": "2ffeca1b",
   "metadata": {},
   "outputs": [],
   "source": []
  },
  {
   "cell_type": "code",
   "execution_count": null,
   "id": "455cec8e",
   "metadata": {},
   "outputs": [],
   "source": []
  },
  {
   "cell_type": "code",
   "execution_count": 167,
   "id": "099b2848",
   "metadata": {},
   "outputs": [
    {
     "name": "stdout",
     "output_type": "stream",
     "text": [
      "12\n"
     ]
    }
   ],
   "source": [
    "print(len(a))"
   ]
  },
  {
   "cell_type": "code",
   "execution_count": 168,
   "id": "0159535a",
   "metadata": {},
   "outputs": [
    {
     "name": "stdout",
     "output_type": "stream",
     "text": [
      "3\n",
      "4\n"
     ]
    }
   ],
   "source": [
    "print(a[2])\n",
    "print(a[3])"
   ]
  },
  {
   "cell_type": "code",
   "execution_count": 169,
   "id": "1eaedfd4",
   "metadata": {},
   "outputs": [
    {
     "name": "stdout",
     "output_type": "stream",
     "text": [
      "Four\n"
     ]
    }
   ],
   "source": [
    "a[3] = \"Four\"\n",
    "print(a[3])"
   ]
  },
  {
   "cell_type": "code",
   "execution_count": null,
   "id": "37b4c396",
   "metadata": {},
   "outputs": [],
   "source": [
    "a"
   ]
  },
  {
   "cell_type": "code",
   "execution_count": 170,
   "id": "8a1a9cb9",
   "metadata": {},
   "outputs": [
    {
     "name": "stdout",
     "output_type": "stream",
     "text": [
      "Houndred\n"
     ]
    }
   ],
   "source": [
    "print(a[-1])"
   ]
  },
  {
   "cell_type": "code",
   "execution_count": null,
   "id": "4c0ea2ea",
   "metadata": {},
   "outputs": [],
   "source": []
  },
  {
   "cell_type": "code",
   "execution_count": 171,
   "id": "1205d94d",
   "metadata": {},
   "outputs": [
    {
     "data": {
      "text/plain": [
       "[100, 2, 3, 'Four', '5', '6', '7', 'Hello', 'World', True, False, 'Houndred']"
      ]
     },
     "execution_count": 171,
     "metadata": {},
     "output_type": "execute_result"
    }
   ],
   "source": [
    "a"
   ]
  },
  {
   "cell_type": "code",
   "execution_count": 172,
   "id": "aa2343ac",
   "metadata": {},
   "outputs": [
    {
     "data": {
      "text/plain": [
       "[100, 2, 3, 'Four', '5', '6', '7', 'Hello', 'World', True, False, 'Houndred']"
      ]
     },
     "execution_count": 172,
     "metadata": {},
     "output_type": "execute_result"
    }
   ],
   "source": [
    "a[:]"
   ]
  },
  {
   "cell_type": "code",
   "execution_count": 173,
   "id": "253df2f0",
   "metadata": {},
   "outputs": [
    {
     "data": {
      "text/plain": [
       "['Houndred', False, True, 'World', 'Hello', '7', '6', '5', 'Four', 3, 2, 100]"
      ]
     },
     "execution_count": 173,
     "metadata": {},
     "output_type": "execute_result"
    }
   ],
   "source": [
    "a[::-1]"
   ]
  },
  {
   "cell_type": "code",
   "execution_count": 174,
   "id": "6920757a",
   "metadata": {},
   "outputs": [
    {
     "name": "stdout",
     "output_type": "stream",
     "text": [
      "None\n"
     ]
    }
   ],
   "source": [
    "print(a.reverse())"
   ]
  },
  {
   "cell_type": "code",
   "execution_count": 175,
   "id": "9c1ec4b7",
   "metadata": {},
   "outputs": [
    {
     "data": {
      "text/plain": [
       "['Houndred', False, True, 'World', 'Hello', '7', '6', '5', 'Four', 3, 2, 100]"
      ]
     },
     "execution_count": 175,
     "metadata": {},
     "output_type": "execute_result"
    }
   ],
   "source": [
    "a"
   ]
  },
  {
   "cell_type": "code",
   "execution_count": 176,
   "id": "e1499e0c",
   "metadata": {},
   "outputs": [],
   "source": [
    "a = [1,2,3,4,\"5\",\"6\",\"7\",\"Hello\",\"World\",True,False,\"Houndred\"]"
   ]
  },
  {
   "cell_type": "code",
   "execution_count": 177,
   "id": "1eb56fc7",
   "metadata": {},
   "outputs": [
    {
     "data": {
      "text/plain": [
       "[1, 2, 3, 4, '5', '6', '7', 'Hello', 'World', True, False, 'Houndred']"
      ]
     },
     "execution_count": 177,
     "metadata": {},
     "output_type": "execute_result"
    }
   ],
   "source": [
    "a"
   ]
  },
  {
   "cell_type": "code",
   "execution_count": 178,
   "id": "1aa7aa7e",
   "metadata": {},
   "outputs": [],
   "source": [
    "a.reverse()"
   ]
  },
  {
   "cell_type": "code",
   "execution_count": 179,
   "id": "93701b6a",
   "metadata": {},
   "outputs": [
    {
     "data": {
      "text/plain": [
       "['Houndred', False, True, 'World', 'Hello', '7', '6', '5', 4, 3, 2, 1]"
      ]
     },
     "execution_count": 179,
     "metadata": {},
     "output_type": "execute_result"
    }
   ],
   "source": [
    "a"
   ]
  },
  {
   "cell_type": "code",
   "execution_count": 180,
   "id": "0700210c",
   "metadata": {},
   "outputs": [],
   "source": [
    "a = [1,2,3,4,\"5\",\"6\",\"7\",\"Hello\",\"World\",True,False,\"Houndred\"]"
   ]
  },
  {
   "cell_type": "code",
   "execution_count": 181,
   "id": "1e63d314",
   "metadata": {},
   "outputs": [
    {
     "data": {
      "text/plain": [
       "[1, 2, 3, 4, '5', '6', '7', 'Hello', 'World', True, False, 'Houndred']"
      ]
     },
     "execution_count": 181,
     "metadata": {},
     "output_type": "execute_result"
    }
   ],
   "source": [
    "a"
   ]
  },
  {
   "cell_type": "code",
   "execution_count": 182,
   "id": "3ec564b4",
   "metadata": {},
   "outputs": [
    {
     "name": "stdout",
     "output_type": "stream",
     "text": [
      "None\n"
     ]
    }
   ],
   "source": [
    "print(a.reverse())"
   ]
  },
  {
   "cell_type": "code",
   "execution_count": 183,
   "id": "2789d3a5",
   "metadata": {},
   "outputs": [],
   "source": [
    "aa=a.reverse()"
   ]
  },
  {
   "cell_type": "code",
   "execution_count": 187,
   "id": "cb1f2e51",
   "metadata": {},
   "outputs": [],
   "source": [
    "aa"
   ]
  },
  {
   "cell_type": "markdown",
   "id": "1db533e3",
   "metadata": {},
   "source": [
    "## for loop"
   ]
  },
  {
   "cell_type": "code",
   "execution_count": 188,
   "id": "877ff5d6",
   "metadata": {},
   "outputs": [],
   "source": [
    "# iterate over the list items \n",
    "a = [1,2,3,4,\"5\",\"6\",\"7\",\"Hello\",\"World\",True,False,\"Houndred\"] "
   ]
  },
  {
   "cell_type": "code",
   "execution_count": 191,
   "id": "70bed644",
   "metadata": {},
   "outputs": [
    {
     "name": "stdout",
     "output_type": "stream",
     "text": [
      "1,2,3,4,5,6,7,Hello,World,True,False,Houndred,"
     ]
    }
   ],
   "source": [
    "for i in a :\n",
    "    print(i,end=\",\")"
   ]
  },
  {
   "cell_type": "code",
   "execution_count": null,
   "id": "e9b98e1f",
   "metadata": {},
   "outputs": [],
   "source": [
    "# Q.1 Print only True and false\n",
    "# Q.2 Print only int\n",
    "# Q.3 Print only those string that contains \"l\"\n",
    "# Q.4 Print only those string that contains \"l\" at 3rd position #\"Hello\"\n",
    "\n",
    "# Hint:- Use if condition"
   ]
  }
 ],
 "metadata": {
  "kernelspec": {
   "display_name": "Python 3 (ipykernel)",
   "language": "python",
   "name": "python3"
  },
  "language_info": {
   "codemirror_mode": {
    "name": "ipython",
    "version": 3
   },
   "file_extension": ".py",
   "mimetype": "text/x-python",
   "name": "python",
   "nbconvert_exporter": "python",
   "pygments_lexer": "ipython3",
   "version": "3.9.13"
  }
 },
 "nbformat": 4,
 "nbformat_minor": 5
}
